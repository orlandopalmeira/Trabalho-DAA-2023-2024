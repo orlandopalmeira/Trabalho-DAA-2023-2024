{
 "cells": [
  {
   "cell_type": "markdown",
   "metadata": {},
   "source": [
    "# Tarefa 2 - Produção Energética e Sustentabilidade"
   ]
  },
  {
   "cell_type": "markdown",
   "metadata": {
    "tags": []
   },
   "source": [
    "### Os Dados\n",
    "Iremos usar os datasetes <em>energia.csv</em> e <em>meteo.csv</em> dos anos de 2021, 2022 e 2023. \n",
    "\n",
    "O dataset de energia contém os seguintes atributos:\n",
    "\n",
    "- **Data** - o timestamp associado ao registo, ao dia.\n",
    "- **Hora** - a hora associada ao registo.\n",
    "- **Normal (kWh)** - quantidade de energia eléctrica consumida, em kWh e proveniente da rede eléctrica, num período considerado normal em ciclos bi-horário diários (horas fora de vazio).\n",
    "- **Horário Económico (kWh)** - quantidade de energia eléctrica consumida, em kWh e proveniente da rede eléctrica, num período considerado económico em ciclos bi-horário diários (horas de vazio).\n",
    "- **Autoconsumo (kWh)** - quantidade de energia eléctrica consumida, em kWh, proveniente dos painéis solares.\n",
    "- **Injeção na rede (kWh)** - quantidade de energia eléctrica injectada na rede eléctrica, em kWh, proveniente dos painéis solares.\n",
    "\n",
    "O dataset de meteorologia contém os seguintes atributos:\n",
    "- **dt** - o timestamp associado ao registo.\n",
    "- **dt_iso** - a data associada ao registo, ao segundo.\n",
    "- **city_name** - o local em causa.\n",
    "- **temp** - temperatura em ºC.\n",
    "- **feels_like** - sensação térmica em ºC.\n",
    "- **temp_min** - temperatura mínima sentida em ºC.\n",
    "- **temp_max** - temperatura máxima sentida em ºC.\n",
    "- **pressure** - pressão atmosférica sentida em atm.\n",
    "- **sea_level** - pressão atmosférica sentida ao nível do mar em atm.\n",
    "- **grnd_level** - pressão atmosférica sentida à altitude local em atm.\n",
    "- **humidity** - humidade em percentagem.\n",
    "- **wind_speed** - velocidade do vento em metros por segundo.\n",
    "- **rain_1h** - valor médio de precipitação.\n",
    "- **clouds_all** - nível de nebulosidade em percentagem.\n",
    "- **weather_description** - avaliação qualitativa do estado do tempo."
   ]
  },
  {
   "cell_type": "markdown",
   "metadata": {
    "tags": []
   },
   "source": [
    "## Import Libraries"
   ]
  },
  {
   "cell_type": "code",
   "execution_count": 547,
   "metadata": {},
   "outputs": [],
   "source": [
    "import pandas as pd\n",
    "import numpy as np\n",
    "import matplotlib.pyplot as plt\n",
    "import seaborn as sns\n",
    "%matplotlib inline\n",
    "\n",
    "from sklearn.tree import DecisionTreeClassifier"
   ]
  },
  {
   "cell_type": "markdown",
   "metadata": {
    "tags": []
   },
   "source": [
    "## Get the data"
   ]
  },
  {
   "cell_type": "code",
   "execution_count": 548,
   "metadata": {},
   "outputs": [],
   "source": [
    "#! Não devem usar a extenção do VSCode para alinhar os ficheiros csv \n",
    "#! porque isso altera os valores dos atributos com whitesapces!\n",
    "\n",
    "# Datasets da energia produzida \n",
    "energia21 = pd.read_csv('datasets/energia_202109-202112.csv', na_filter=False) # na_filter=False para não assumir 'None' como um valor nulo\n",
    "\n",
    "energia22 = pd.read_csv('datasets/energia_202201-202212.csv', na_filter=False) # na_filter=False para não assumir 'None' como um valor nulo\n",
    "\n",
    "energia23 = pd.read_csv('datasets/energia_202301-202304.csv')\n",
    "\n",
    "energia_treino = pd.concat([energia21, energia22], axis=0)\n",
    "energia_teste = energia23\n",
    "\n",
    "\n",
    "# Datasets das condições meteorológicas\n",
    "meteo21 = pd.read_csv('datasets/meteo_202109-202112.csv')\n",
    "\n",
    "meteo22 = pd.read_csv('datasets/meteo_202201-202212.csv')\n",
    "\n",
    "meteo23 = pd.read_csv('datasets/meteo_202301-202304.csv')\n",
    "\n",
    "meteo23_extra = pd.read_csv('datasets/weather_data.csv')\n",
    "\n",
    "meteo_treino = pd.concat([meteo21, meteo22], axis=0)\n",
    "meteo_teste = pd.concat([meteo23, meteo23_extra], axis=0)"
   ]
  },
  {
   "cell_type": "code",
   "execution_count": 549,
   "metadata": {},
   "outputs": [
    {
     "name": "stdout",
     "output_type": "stream",
     "text": [
      "Index(['Data', 'Hora', 'Normal (kWh)', 'Horário Económico (kWh)',\n",
      "       'Autoconsumo (kWh)', 'Injeção na rede (kWh)'],\n",
      "      dtype='object')\n",
      "Index(['Data', 'Hora', 'Normal (kWh)', 'Horário Económico (kWh)',\n",
      "       'Autoconsumo (kWh)'],\n",
      "      dtype='object')\n",
      "Index(['dt', 'dt_iso', 'city_name', 'temp', 'feels_like', 'temp_min',\n",
      "       'temp_max', 'pressure', 'sea_level', 'grnd_level', 'humidity',\n",
      "       'wind_speed', 'rain_1h', 'clouds_all', 'weather_description'],\n",
      "      dtype='object')\n",
      "Index(['dt', 'dt_iso', 'city_name', 'temp', 'feels_like', 'temp_min',\n",
      "       'temp_max', 'pressure', 'sea_level', 'grnd_level', 'humidity',\n",
      "       'wind_speed', 'rain_1h', 'clouds_all', 'weather_description'],\n",
      "      dtype='object')\n"
     ]
    }
   ],
   "source": [
    "# energia21.columns\n",
    "# energia22.columns\n",
    "# energia23.columns # Não possui o atributo 'Injeção na rede'\n",
    "print(energia_treino.columns)\n",
    "print(energia_teste.columns)\n",
    "\n",
    "\n",
    "# meteo21.columns\n",
    "# meteo22.columns\n",
    "# meteo23.columns\n",
    "print(meteo_treino.columns)\n",
    "print(meteo_teste.columns)"
   ]
  },
  {
   "cell_type": "code",
   "execution_count": 550,
   "metadata": {},
   "outputs": [],
   "source": [
    "# energia21.info()\n",
    "# energia22.info()\n",
    "# energia23.info()\n",
    "\n",
    "# energia_treino.info()\n",
    "# energia_teste.info()\n",
    "\n",
    "# meteo21.info() # sea_level e grnd_level não possuem valores (0) | rain_1h só possui alguns valores (537)\n",
    "# meteo22.info() # sea_level e grnd_level não possuem valores (0) | rain_1h só possui alguns valores (1898)\n",
    "# meteo23.info() # sea_level e grnd_level não possuem valores (0) | rain_1h só possui alguns valores (206)\n",
    "\n",
    "# meteo_treino.info()\n",
    "# meteo_teste.info()"
   ]
  },
  {
   "cell_type": "code",
   "execution_count": 551,
   "metadata": {},
   "outputs": [],
   "source": [
    "# energia21.head()\n",
    "# energia22.head()\n",
    "# energia23.head()\n",
    "\n",
    "# meteo21.head() \n",
    "# meteo22.head()\n",
    "# meteo23.head()"
   ]
  },
  {
   "cell_type": "markdown",
   "metadata": {
    "tags": []
   },
   "source": [
    "# Tratamento de dados"
   ]
  },
  {
   "cell_type": "markdown",
   "metadata": {
    "tags": []
   },
   "source": [
    "## Missing Values"
   ]
  },
  {
   "cell_type": "code",
   "execution_count": 552,
   "metadata": {},
   "outputs": [
    {
     "data": {
      "text/plain": [
       "dt                        0\n",
       "dt_iso                    0\n",
       "city_name                 0\n",
       "temp                      0\n",
       "feels_like                0\n",
       "temp_min                  0\n",
       "temp_max                  0\n",
       "pressure                  0\n",
       "sea_level              2256\n",
       "grnd_level             2256\n",
       "humidity                  0\n",
       "wind_speed                0\n",
       "rain_1h                2030\n",
       "clouds_all                0\n",
       "weather_description       0\n",
       "dtype: int64"
      ]
     },
     "execution_count": 552,
     "metadata": {},
     "output_type": "execute_result"
    }
   ],
   "source": [
    "# meteo_treino.isnull().sum()\n",
    "meteo_teste.isnull().sum()"
   ]
  },
  {
   "cell_type": "code",
   "execution_count": 553,
   "metadata": {},
   "outputs": [
    {
     "data": {
      "text/plain": [
       "<Axes: >"
      ]
     },
     "execution_count": 553,
     "metadata": {},
     "output_type": "execute_result"
    },
    {
     "data": {
      "image/png": "[encoded data removed]",
      "text/plain": [
       "<Figure size 640x480 with 1 Axes>"
      ]
     },
     "metadata": {},
     "output_type": "display_data"
    }
   ],
   "source": [
    "# sns.heatmap(meteo_treino.isnull(), yticklabels=False, cbar=False, cmap='viridis')\n",
    "sns.heatmap(meteo_teste.isnull(), yticklabels=False, cbar=False, cmap='viridis')"
   ]
  },
  {
   "cell_type": "markdown",
   "metadata": {},
   "source": [
    "### Drop *sea_level* and *grnd_level* do dataset de meteorologia\n",
    "Iremos dropar estes 2 atributos porque não contém nenhum valor não nulo"
   ]
  },
  {
   "cell_type": "code",
   "execution_count": 554,
   "metadata": {},
   "outputs": [],
   "source": [
    "meteo_treino.drop(['sea_level'], axis=1, inplace=True)\n",
    "meteo_treino.drop(['grnd_level'], axis=1, inplace=True)\n",
    "\n",
    "meteo_teste.drop(['sea_level'], axis=1, inplace=True)\n",
    "meteo_teste.drop(['grnd_level'], axis=1, inplace=True)"
   ]
  },
  {
   "cell_type": "code",
   "execution_count": 555,
   "metadata": {},
   "outputs": [],
   "source": [
    "# meteo_treino.head()\n",
    "# meteo_teste.head()"
   ]
  },
  {
   "cell_type": "markdown",
   "metadata": {},
   "source": [
    "### Fill with 0 *rain_1h* do dataset de meteorologia\n",
    "\n",
    "Iremos colocar 0 nos valores nulos de *rain_1h* porque assumimos que não houve precipitação nos casos onde não há valor neste atributo."
   ]
  },
  {
   "cell_type": "code",
   "execution_count": 556,
   "metadata": {},
   "outputs": [
    {
     "name": "stdout",
     "output_type": "stream",
     "text": [
      "<class 'pandas.core.frame.DataFrame'>\n",
      "Index: 2256 entries, 0 to 503\n",
      "Data columns (total 13 columns):\n",
      " #   Column               Non-Null Count  Dtype  \n",
      "---  ------               --------------  -----  \n",
      " 0   dt                   2256 non-null   int64  \n",
      " 1   dt_iso               2256 non-null   object \n",
      " 2   city_name            2256 non-null   object \n",
      " 3   temp                 2256 non-null   float64\n",
      " 4   feels_like           2256 non-null   float64\n",
      " 5   temp_min             2256 non-null   float64\n",
      " 6   temp_max             2256 non-null   float64\n",
      " 7   pressure             2256 non-null   int64  \n",
      " 8   humidity             2256 non-null   int64  \n",
      " 9   wind_speed           2256 non-null   float64\n",
      " 10  rain_1h              2256 non-null   float64\n",
      " 11  clouds_all           2256 non-null   int64  \n",
      " 12  weather_description  2256 non-null   object \n",
      "dtypes: float64(6), int64(4), object(3)\n",
      "memory usage: 246.8+ KB\n"
     ]
    }
   ],
   "source": [
    "# meteo_treino[meteo_treino['rain_1h'].isnull()].info()\n",
    "# meteo_treino[meteo_treino['rain_1h'] == 0]\n",
    "\n",
    "meteo_treino.fillna(0, inplace=True)\n",
    "meteo_teste.fillna(0, inplace=True)\n",
    "\n",
    "\n",
    "# meteo_treino.info()\n",
    "meteo_teste.info()"
   ]
  },
  {
   "cell_type": "code",
   "execution_count": 557,
   "metadata": {},
   "outputs": [
    {
     "data": {
      "text/plain": [
       "<Axes: >"
      ]
     },
     "execution_count": 557,
     "metadata": {},
     "output_type": "execute_result"
    },
    {
     "data": {
      "image/png": "[encoded data removed]",
      "text/plain": [
       "<Figure size 640x480 with 1 Axes>"
      ]
     },
     "metadata": {},
     "output_type": "display_data"
    }
   ],
   "source": [
    "sns.heatmap(meteo_treino.isnull(), yticklabels=False, cbar=False, cmap='viridis')\n",
    "# sns.heatmap(meteo_teste.isnull(), yticklabels=False, cbar=False, cmap='viridis')"
   ]
  },
  {
   "cell_type": "code",
   "execution_count": 558,
   "metadata": {},
   "outputs": [
    {
     "data": {
      "text/plain": [
       "dt                     11688\n",
       "dt_iso                 11688\n",
       "city_name                  1\n",
       "temp                    2423\n",
       "feels_like              2702\n",
       "temp_min                 488\n",
       "temp_max                 550\n",
       "pressure                  41\n",
       "humidity                  82\n",
       "wind_speed               771\n",
       "rain_1h                  372\n",
       "clouds_all               101\n",
       "weather_description        8\n",
       "dtype: int64"
      ]
     },
     "execution_count": 558,
     "metadata": {},
     "output_type": "execute_result"
    }
   ],
   "source": [
    "meteo_treino.nunique()\n",
    "# meteo_teste.nunique()"
   ]
  },
  {
   "cell_type": "markdown",
   "metadata": {},
   "source": [
    "##### Iremos remover a feature *city_name* porque o valor é único em todo o dataset\n",
    "\n",
    "##### Iremos também remover a feature *dt* porque existe um valor único para cada registo do dataset e a feature *dt_iso* já possui informação sobre a data do registo."
   ]
  },
  {
   "cell_type": "code",
   "execution_count": 559,
   "metadata": {},
   "outputs": [],
   "source": [
    "meteo_treino.drop(['city_name'], axis=1, inplace=True)\n",
    "meteo_teste.drop(['city_name'], axis=1, inplace=True)\n",
    "\n",
    "meteo_treino.drop(['dt'], axis=1, inplace=True)\n",
    "meteo_teste.drop(['dt'], axis=1, inplace=True)"
   ]
  },
  {
   "cell_type": "code",
   "execution_count": 560,
   "metadata": {},
   "outputs": [
    {
     "name": "stdout",
     "output_type": "stream",
     "text": [
      "<class 'pandas.core.frame.DataFrame'>\n",
      "Index: 2256 entries, 0 to 503\n",
      "Data columns (total 11 columns):\n",
      " #   Column               Non-Null Count  Dtype  \n",
      "---  ------               --------------  -----  \n",
      " 0   dt_iso               2256 non-null   object \n",
      " 1   temp                 2256 non-null   float64\n",
      " 2   feels_like           2256 non-null   float64\n",
      " 3   temp_min             2256 non-null   float64\n",
      " 4   temp_max             2256 non-null   float64\n",
      " 5   pressure             2256 non-null   int64  \n",
      " 6   humidity             2256 non-null   int64  \n",
      " 7   wind_speed           2256 non-null   float64\n",
      " 8   rain_1h              2256 non-null   float64\n",
      " 9   clouds_all           2256 non-null   int64  \n",
      " 10  weather_description  2256 non-null   object \n",
      "dtypes: float64(6), int64(3), object(2)\n",
      "memory usage: 211.5+ KB\n"
     ]
    }
   ],
   "source": [
    "# meteo_treino.info()\n",
    "meteo_teste.info()"
   ]
  },
  {
   "cell_type": "markdown",
   "metadata": {},
   "source": [
    "## Tratamento de Datas (*dt_iso*)"
   ]
  },
  {
   "cell_type": "code",
   "execution_count": 561,
   "metadata": {},
   "outputs": [
    {
     "data": {
      "text/plain": [
       "0    2023-01-01 00:00:00 +0000 UTC\n",
       "1    2023-01-01 01:00:00 +0000 UTC\n",
       "2    2023-01-01 02:00:00 +0000 UTC\n",
       "3    2023-01-01 03:00:00 +0000 UTC\n",
       "4    2023-01-01 04:00:00 +0000 UTC\n",
       "Name: dt_iso, dtype: object"
      ]
     },
     "execution_count": 561,
     "metadata": {},
     "output_type": "execute_result"
    }
   ],
   "source": [
    "meteo_treino['dt_iso'].head()\n",
    "meteo_teste['dt_iso'].head()"
   ]
  },
  {
   "cell_type": "code",
   "execution_count": 562,
   "metadata": {},
   "outputs": [],
   "source": [
    "meteo_treino['dt_iso'] = pd.to_datetime(meteo_treino['dt_iso'].str.split(\" \\+\").str[0], format = \"%Y-%m-%d %H:%M:%S\", errors='coerce')\n",
    "meteo_teste['dt_iso'] = pd.to_datetime(meteo_teste['dt_iso'].str.split(\" \\+\").str[0], format = \"%Y-%m-%d %H:%M:%S\", errors='coerce')"
   ]
  },
  {
   "cell_type": "code",
   "execution_count": 563,
   "metadata": {},
   "outputs": [],
   "source": [
    "assert meteo_treino['dt_iso'].isnull().sum() == 0, 'missing record date'\n",
    "assert meteo_teste['dt_iso'].isnull().sum() == 0, 'missing record date'"
   ]
  },
  {
   "cell_type": "code",
   "execution_count": 564,
   "metadata": {},
   "outputs": [
    {
     "data": {
      "text/plain": [
       "0   2021-09-01 00:00:00\n",
       "1   2021-09-01 01:00:00\n",
       "2   2021-09-01 02:00:00\n",
       "3   2021-09-01 03:00:00\n",
       "4   2021-09-01 04:00:00\n",
       "Name: dt_iso, dtype: datetime64[ns]"
      ]
     },
     "execution_count": 564,
     "metadata": {},
     "output_type": "execute_result"
    }
   ],
   "source": [
    "meteo_treino['dt_iso'].head()\n",
    "# meteo_teste['dt_iso'].head()\n",
    "\n",
    "# meteo_teste.info()"
   ]
  },
  {
   "cell_type": "markdown",
   "metadata": {},
   "source": [
    "Renomear o atributo **dt_iso** para **Data** para ficar consistente com o atributo do dataset de energia"
   ]
  },
  {
   "cell_type": "code",
   "execution_count": 565,
   "metadata": {},
   "outputs": [],
   "source": [
    "meteo_treino.rename(columns={'dt_iso': 'Data'}, inplace=True)\n",
    "meteo_teste.rename(columns={'dt_iso': 'Data'}, inplace=True)"
   ]
  },
  {
   "cell_type": "code",
   "execution_count": 566,
   "metadata": {},
   "outputs": [
    {
     "data": {
      "text/html": [
       "<div>\n",
       "<style scoped>\n",
       "    .dataframe tbody tr th:only-of-type {\n",
       "        vertical-align: middle;\n",
       "    }\n",
       "\n",
       "    .dataframe tbody tr th {\n",
       "        vertical-align: top;\n",
       "    }\n",
       "\n",
       "    .dataframe thead th {\n",
       "        text-align: right;\n",
       "    }\n",
       "</style>\n",
       "<table border=\"1\" class=\"dataframe\">\n",
       "  <thead>\n",
       "    <tr style=\"text-align: right;\">\n",
       "      <th></th>\n",
       "      <th>Data</th>\n",
       "      <th>temp</th>\n",
       "      <th>feels_like</th>\n",
       "      <th>temp_min</th>\n",
       "      <th>temp_max</th>\n",
       "      <th>pressure</th>\n",
       "      <th>humidity</th>\n",
       "      <th>wind_speed</th>\n",
       "      <th>rain_1h</th>\n",
       "      <th>clouds_all</th>\n",
       "      <th>weather_description</th>\n",
       "    </tr>\n",
       "  </thead>\n",
       "  <tbody>\n",
       "    <tr>\n",
       "      <th>0</th>\n",
       "      <td>2021-09-01 00:00:00</td>\n",
       "      <td>18.74</td>\n",
       "      <td>18.84</td>\n",
       "      <td>15.72</td>\n",
       "      <td>20.34</td>\n",
       "      <td>1015</td>\n",
       "      <td>83</td>\n",
       "      <td>1.18</td>\n",
       "      <td>0.00</td>\n",
       "      <td>78</td>\n",
       "      <td>broken clouds</td>\n",
       "    </tr>\n",
       "    <tr>\n",
       "      <th>1</th>\n",
       "      <td>2021-09-01 01:00:00</td>\n",
       "      <td>18.73</td>\n",
       "      <td>18.83</td>\n",
       "      <td>15.72</td>\n",
       "      <td>20.34</td>\n",
       "      <td>1014</td>\n",
       "      <td>83</td>\n",
       "      <td>1.46</td>\n",
       "      <td>0.00</td>\n",
       "      <td>92</td>\n",
       "      <td>overcast clouds</td>\n",
       "    </tr>\n",
       "    <tr>\n",
       "      <th>2</th>\n",
       "      <td>2021-09-01 02:00:00</td>\n",
       "      <td>17.84</td>\n",
       "      <td>17.98</td>\n",
       "      <td>16.72</td>\n",
       "      <td>20.34</td>\n",
       "      <td>1014</td>\n",
       "      <td>88</td>\n",
       "      <td>1.05</td>\n",
       "      <td>0.00</td>\n",
       "      <td>91</td>\n",
       "      <td>overcast clouds</td>\n",
       "    </tr>\n",
       "    <tr>\n",
       "      <th>3</th>\n",
       "      <td>2021-09-01 03:00:00</td>\n",
       "      <td>18.27</td>\n",
       "      <td>18.40</td>\n",
       "      <td>16.68</td>\n",
       "      <td>20.34</td>\n",
       "      <td>1014</td>\n",
       "      <td>86</td>\n",
       "      <td>0.46</td>\n",
       "      <td>0.14</td>\n",
       "      <td>94</td>\n",
       "      <td>light rain</td>\n",
       "    </tr>\n",
       "    <tr>\n",
       "      <th>4</th>\n",
       "      <td>2021-09-01 04:00:00</td>\n",
       "      <td>17.81</td>\n",
       "      <td>17.97</td>\n",
       "      <td>16.12</td>\n",
       "      <td>20.34</td>\n",
       "      <td>1013</td>\n",
       "      <td>89</td>\n",
       "      <td>0.93</td>\n",
       "      <td>1.26</td>\n",
       "      <td>95</td>\n",
       "      <td>moderate rain</td>\n",
       "    </tr>\n",
       "  </tbody>\n",
       "</table>\n",
       "</div>"
      ],
      "text/plain": [
       "                 Data   temp  feels_like  temp_min  temp_max  pressure  \\\n",
       "0 2021-09-01 00:00:00  18.74       18.84     15.72     20.34      1015   \n",
       "1 2021-09-01 01:00:00  18.73       18.83     15.72     20.34      1014   \n",
       "2 2021-09-01 02:00:00  17.84       17.98     16.72     20.34      1014   \n",
       "3 2021-09-01 03:00:00  18.27       18.40     16.68     20.34      1014   \n",
       "4 2021-09-01 04:00:00  17.81       17.97     16.12     20.34      1013   \n",
       "\n",
       "   humidity  wind_speed  rain_1h  clouds_all weather_description  \n",
       "0        83        1.18     0.00          78       broken clouds  \n",
       "1        83        1.46     0.00          92     overcast clouds  \n",
       "2        88        1.05     0.00          91     overcast clouds  \n",
       "3        86        0.46     0.14          94          light rain  \n",
       "4        89        0.93     1.26          95       moderate rain  "
      ]
     },
     "execution_count": 566,
     "metadata": {},
     "output_type": "execute_result"
    }
   ],
   "source": [
    "meteo_treino.head()\n",
    "# meteo_teste.head()"
   ]
  },
  {
   "cell_type": "markdown",
   "metadata": {},
   "source": [
    "De forma a melhorarmos a qualidade do dataset decidimos, criar as colunas **Ano**, **Mês**, **Dia**, **Hora**, a partir dos dados obtidos na coluna Data:"
   ]
  },
  {
   "cell_type": "markdown",
   "metadata": {},
   "source": [
    "No dataset de treino:"
   ]
  },
  {
   "cell_type": "code",
   "execution_count": 567,
   "metadata": {},
   "outputs": [
    {
     "data": {
      "text/html": [
       "<div>\n",
       "<style scoped>\n",
       "    .dataframe tbody tr th:only-of-type {\n",
       "        vertical-align: middle;\n",
       "    }\n",
       "\n",
       "    .dataframe tbody tr th {\n",
       "        vertical-align: top;\n",
       "    }\n",
       "\n",
       "    .dataframe thead th {\n",
       "        text-align: right;\n",
       "    }\n",
       "</style>\n",
       "<table border=\"1\" class=\"dataframe\">\n",
       "  <thead>\n",
       "    <tr style=\"text-align: right;\">\n",
       "      <th></th>\n",
       "      <th>Data</th>\n",
       "      <th>Ano</th>\n",
       "      <th>Mês</th>\n",
       "      <th>Dia</th>\n",
       "      <th>Hora</th>\n",
       "      <th>feels_like</th>\n",
       "      <th>temp_min</th>\n",
       "      <th>temp_max</th>\n",
       "      <th>pressure</th>\n",
       "      <th>humidity</th>\n",
       "      <th>wind_speed</th>\n",
       "      <th>rain_1h</th>\n",
       "      <th>clouds_all</th>\n",
       "      <th>weather_description</th>\n",
       "    </tr>\n",
       "  </thead>\n",
       "  <tbody>\n",
       "    <tr>\n",
       "      <th>0</th>\n",
       "      <td>2021-09-01 00:00:00</td>\n",
       "      <td>2021</td>\n",
       "      <td>9</td>\n",
       "      <td>1</td>\n",
       "      <td>0</td>\n",
       "      <td>18.84</td>\n",
       "      <td>15.72</td>\n",
       "      <td>20.34</td>\n",
       "      <td>1015</td>\n",
       "      <td>83</td>\n",
       "      <td>1.18</td>\n",
       "      <td>0.00</td>\n",
       "      <td>78</td>\n",
       "      <td>broken clouds</td>\n",
       "    </tr>\n",
       "    <tr>\n",
       "      <th>1</th>\n",
       "      <td>2021-09-01 01:00:00</td>\n",
       "      <td>2021</td>\n",
       "      <td>9</td>\n",
       "      <td>1</td>\n",
       "      <td>1</td>\n",
       "      <td>18.83</td>\n",
       "      <td>15.72</td>\n",
       "      <td>20.34</td>\n",
       "      <td>1014</td>\n",
       "      <td>83</td>\n",
       "      <td>1.46</td>\n",
       "      <td>0.00</td>\n",
       "      <td>92</td>\n",
       "      <td>overcast clouds</td>\n",
       "    </tr>\n",
       "    <tr>\n",
       "      <th>2</th>\n",
       "      <td>2021-09-01 02:00:00</td>\n",
       "      <td>2021</td>\n",
       "      <td>9</td>\n",
       "      <td>1</td>\n",
       "      <td>2</td>\n",
       "      <td>17.98</td>\n",
       "      <td>16.72</td>\n",
       "      <td>20.34</td>\n",
       "      <td>1014</td>\n",
       "      <td>88</td>\n",
       "      <td>1.05</td>\n",
       "      <td>0.00</td>\n",
       "      <td>91</td>\n",
       "      <td>overcast clouds</td>\n",
       "    </tr>\n",
       "    <tr>\n",
       "      <th>3</th>\n",
       "      <td>2021-09-01 03:00:00</td>\n",
       "      <td>2021</td>\n",
       "      <td>9</td>\n",
       "      <td>1</td>\n",
       "      <td>3</td>\n",
       "      <td>18.40</td>\n",
       "      <td>16.68</td>\n",
       "      <td>20.34</td>\n",
       "      <td>1014</td>\n",
       "      <td>86</td>\n",
       "      <td>0.46</td>\n",
       "      <td>0.14</td>\n",
       "      <td>94</td>\n",
       "      <td>light rain</td>\n",
       "    </tr>\n",
       "    <tr>\n",
       "      <th>4</th>\n",
       "      <td>2021-09-01 04:00:00</td>\n",
       "      <td>2021</td>\n",
       "      <td>9</td>\n",
       "      <td>1</td>\n",
       "      <td>4</td>\n",
       "      <td>17.97</td>\n",
       "      <td>16.12</td>\n",
       "      <td>20.34</td>\n",
       "      <td>1013</td>\n",
       "      <td>89</td>\n",
       "      <td>0.93</td>\n",
       "      <td>1.26</td>\n",
       "      <td>95</td>\n",
       "      <td>moderate rain</td>\n",
       "    </tr>\n",
       "  </tbody>\n",
       "</table>\n",
       "</div>"
      ],
      "text/plain": [
       "                 Data   Ano  Mês  Dia  Hora  feels_like  temp_min  temp_max  \\\n",
       "0 2021-09-01 00:00:00  2021    9    1     0       18.84     15.72     20.34   \n",
       "1 2021-09-01 01:00:00  2021    9    1     1       18.83     15.72     20.34   \n",
       "2 2021-09-01 02:00:00  2021    9    1     2       17.98     16.72     20.34   \n",
       "3 2021-09-01 03:00:00  2021    9    1     3       18.40     16.68     20.34   \n",
       "4 2021-09-01 04:00:00  2021    9    1     4       17.97     16.12     20.34   \n",
       "\n",
       "   pressure  humidity  wind_speed  rain_1h  clouds_all weather_description  \n",
       "0      1015        83        1.18     0.00          78       broken clouds  \n",
       "1      1014        83        1.46     0.00          92     overcast clouds  \n",
       "2      1014        88        1.05     0.00          91     overcast clouds  \n",
       "3      1014        86        0.46     0.14          94          light rain  \n",
       "4      1013        89        0.93     1.26          95       moderate rain  "
      ]
     },
     "execution_count": 567,
     "metadata": {},
     "output_type": "execute_result"
    }
   ],
   "source": [
    "meteo_treino['Data'] = pd.to_datetime(meteo_treino['Data'])\n",
    "\n",
    "\n",
    "meteo_treino['Ano'] = meteo_treino['Data'].dt.year\n",
    "meteo_treino['Mês'] = meteo_treino['Data'].dt.month\n",
    "meteo_treino['Dia'] = meteo_treino['Data'].dt.day\n",
    "meteo_treino['Hora'] = meteo_treino['Data'].dt.hour\n",
    "\n",
    "meteo_treino = meteo_treino[['Data', 'Ano', 'Mês','Dia','Hora','feels_like','temp_min','temp_max',\t'pressure',\t'humidity',\t'wind_speed'\t,'rain_1h',\t'clouds_all',\t'weather_description']]\n",
    "meteo_treino.head()\n",
    "\n"
   ]
  },
  {
   "cell_type": "markdown",
   "metadata": {},
   "source": [
    "No dataset de teste:"
   ]
  },
  {
   "cell_type": "code",
   "execution_count": 568,
   "metadata": {},
   "outputs": [
    {
     "data": {
      "text/html": [
       "<div>\n",
       "<style scoped>\n",
       "    .dataframe tbody tr th:only-of-type {\n",
       "        vertical-align: middle;\n",
       "    }\n",
       "\n",
       "    .dataframe tbody tr th {\n",
       "        vertical-align: top;\n",
       "    }\n",
       "\n",
       "    .dataframe thead th {\n",
       "        text-align: right;\n",
       "    }\n",
       "</style>\n",
       "<table border=\"1\" class=\"dataframe\">\n",
       "  <thead>\n",
       "    <tr style=\"text-align: right;\">\n",
       "      <th></th>\n",
       "      <th>Data</th>\n",
       "      <th>Ano</th>\n",
       "      <th>Mês</th>\n",
       "      <th>Dia</th>\n",
       "      <th>Hora</th>\n",
       "      <th>feels_like</th>\n",
       "      <th>temp_min</th>\n",
       "      <th>temp_max</th>\n",
       "      <th>pressure</th>\n",
       "      <th>humidity</th>\n",
       "      <th>wind_speed</th>\n",
       "      <th>rain_1h</th>\n",
       "      <th>clouds_all</th>\n",
       "      <th>weather_description</th>\n",
       "    </tr>\n",
       "  </thead>\n",
       "  <tbody>\n",
       "    <tr>\n",
       "      <th>0</th>\n",
       "      <td>2023-01-01 00:00:00</td>\n",
       "      <td>2023</td>\n",
       "      <td>1</td>\n",
       "      <td>1</td>\n",
       "      <td>0</td>\n",
       "      <td>12.76</td>\n",
       "      <td>12.72</td>\n",
       "      <td>13.43</td>\n",
       "      <td>1019</td>\n",
       "      <td>95</td>\n",
       "      <td>2.02</td>\n",
       "      <td>3.72</td>\n",
       "      <td>100</td>\n",
       "      <td>moderate rain</td>\n",
       "    </tr>\n",
       "    <tr>\n",
       "      <th>1</th>\n",
       "      <td>2023-01-01 01:00:00</td>\n",
       "      <td>2023</td>\n",
       "      <td>1</td>\n",
       "      <td>1</td>\n",
       "      <td>1</td>\n",
       "      <td>13.38</td>\n",
       "      <td>13.43</td>\n",
       "      <td>13.90</td>\n",
       "      <td>1018</td>\n",
       "      <td>95</td>\n",
       "      <td>2.18</td>\n",
       "      <td>3.26</td>\n",
       "      <td>100</td>\n",
       "      <td>moderate rain</td>\n",
       "    </tr>\n",
       "    <tr>\n",
       "      <th>2</th>\n",
       "      <td>2023-01-01 02:00:00</td>\n",
       "      <td>2023</td>\n",
       "      <td>1</td>\n",
       "      <td>1</td>\n",
       "      <td>2</td>\n",
       "      <td>13.44</td>\n",
       "      <td>13.48</td>\n",
       "      <td>14.82</td>\n",
       "      <td>1017</td>\n",
       "      <td>95</td>\n",
       "      <td>2.88</td>\n",
       "      <td>2.44</td>\n",
       "      <td>100</td>\n",
       "      <td>moderate rain</td>\n",
       "    </tr>\n",
       "    <tr>\n",
       "      <th>3</th>\n",
       "      <td>2023-01-01 03:00:00</td>\n",
       "      <td>2023</td>\n",
       "      <td>1</td>\n",
       "      <td>1</td>\n",
       "      <td>3</td>\n",
       "      <td>13.51</td>\n",
       "      <td>12.01</td>\n",
       "      <td>14.82</td>\n",
       "      <td>1016</td>\n",
       "      <td>95</td>\n",
       "      <td>3.63</td>\n",
       "      <td>1.74</td>\n",
       "      <td>100</td>\n",
       "      <td>moderate rain</td>\n",
       "    </tr>\n",
       "    <tr>\n",
       "      <th>4</th>\n",
       "      <td>2023-01-01 04:00:00</td>\n",
       "      <td>2023</td>\n",
       "      <td>1</td>\n",
       "      <td>1</td>\n",
       "      <td>4</td>\n",
       "      <td>13.49</td>\n",
       "      <td>12.01</td>\n",
       "      <td>14.82</td>\n",
       "      <td>1015</td>\n",
       "      <td>95</td>\n",
       "      <td>4.58</td>\n",
       "      <td>1.13</td>\n",
       "      <td>100</td>\n",
       "      <td>moderate rain</td>\n",
       "    </tr>\n",
       "  </tbody>\n",
       "</table>\n",
       "</div>"
      ],
      "text/plain": [
       "                 Data   Ano  Mês  Dia  Hora  feels_like  temp_min  temp_max  \\\n",
       "0 2023-01-01 00:00:00  2023    1    1     0       12.76     12.72     13.43   \n",
       "1 2023-01-01 01:00:00  2023    1    1     1       13.38     13.43     13.90   \n",
       "2 2023-01-01 02:00:00  2023    1    1     2       13.44     13.48     14.82   \n",
       "3 2023-01-01 03:00:00  2023    1    1     3       13.51     12.01     14.82   \n",
       "4 2023-01-01 04:00:00  2023    1    1     4       13.49     12.01     14.82   \n",
       "\n",
       "   pressure  humidity  wind_speed  rain_1h  clouds_all weather_description  \n",
       "0      1019        95        2.02     3.72         100       moderate rain  \n",
       "1      1018        95        2.18     3.26         100       moderate rain  \n",
       "2      1017        95        2.88     2.44         100       moderate rain  \n",
       "3      1016        95        3.63     1.74         100       moderate rain  \n",
       "4      1015        95        4.58     1.13         100       moderate rain  "
      ]
     },
     "execution_count": 568,
     "metadata": {},
     "output_type": "execute_result"
    }
   ],
   "source": [
    "meteo_teste['Data'] = pd.to_datetime(meteo_teste['Data'])\n",
    "\n",
    "\n",
    "meteo_teste['Ano'] = meteo_teste['Data'].dt.year\n",
    "meteo_teste['Mês'] = meteo_teste['Data'].dt.month\n",
    "meteo_teste['Dia'] = meteo_teste['Data'].dt.day\n",
    "meteo_teste['Hora'] = meteo_teste['Data'].dt.hour\n",
    "\n",
    "\n",
    "meteo_teste = meteo_teste[['Data', 'Ano', 'Mês','Dia','Hora','feels_like','temp_min','temp_max',\t'pressure',\t'humidity',\t'wind_speed'\t,'rain_1h',\t'clouds_all',\t'weather_description']]\n",
    "meteo_teste.head()"
   ]
  },
  {
   "cell_type": "markdown",
   "metadata": {},
   "source": [
    "# Tratamento do dataset de energia"
   ]
  },
  {
   "cell_type": "code",
   "execution_count": 569,
   "metadata": {},
   "outputs": [
    {
     "name": "stdout",
     "output_type": "stream",
     "text": [
      "<class 'pandas.core.frame.DataFrame'>\n",
      "Index: 11016 entries, 0 to 8759\n",
      "Data columns (total 6 columns):\n",
      " #   Column                   Non-Null Count  Dtype  \n",
      "---  ------                   --------------  -----  \n",
      " 0   Data                     11016 non-null  object \n",
      " 1   Hora                     11016 non-null  int64  \n",
      " 2   Normal (kWh)             11016 non-null  float64\n",
      " 3   Horário Económico (kWh)  11016 non-null  float64\n",
      " 4   Autoconsumo (kWh)        11016 non-null  float64\n",
      " 5   Injeção na rede (kWh)    11016 non-null  object \n",
      "dtypes: float64(3), int64(1), object(2)\n",
      "memory usage: 602.4+ KB\n",
      "<class 'pandas.core.frame.DataFrame'>\n",
      "RangeIndex: 2256 entries, 0 to 2255\n",
      "Data columns (total 5 columns):\n",
      " #   Column                   Non-Null Count  Dtype  \n",
      "---  ------                   --------------  -----  \n",
      " 0   Data                     2256 non-null   object \n",
      " 1   Hora                     2256 non-null   int64  \n",
      " 2   Normal (kWh)             2256 non-null   float64\n",
      " 3   Horário Económico (kWh)  2256 non-null   float64\n",
      " 4   Autoconsumo (kWh)        2256 non-null   float64\n",
      "dtypes: float64(3), int64(1), object(1)\n",
      "memory usage: 88.3+ KB\n"
     ]
    },
    {
     "data": {
      "text/html": [
       "<div>\n",
       "<style scoped>\n",
       "    .dataframe tbody tr th:only-of-type {\n",
       "        vertical-align: middle;\n",
       "    }\n",
       "\n",
       "    .dataframe tbody tr th {\n",
       "        vertical-align: top;\n",
       "    }\n",
       "\n",
       "    .dataframe thead th {\n",
       "        text-align: right;\n",
       "    }\n",
       "</style>\n",
       "<table border=\"1\" class=\"dataframe\">\n",
       "  <thead>\n",
       "    <tr style=\"text-align: right;\">\n",
       "      <th></th>\n",
       "      <th>Data</th>\n",
       "      <th>Hora</th>\n",
       "      <th>Normal (kWh)</th>\n",
       "      <th>Horário Económico (kWh)</th>\n",
       "      <th>Autoconsumo (kWh)</th>\n",
       "      <th>Injeção na rede (kWh)</th>\n",
       "    </tr>\n",
       "  </thead>\n",
       "  <tbody>\n",
       "    <tr>\n",
       "      <th>0</th>\n",
       "      <td>2021-09-29</td>\n",
       "      <td>0</td>\n",
       "      <td>0.0</td>\n",
       "      <td>0.0</td>\n",
       "      <td>0.0</td>\n",
       "      <td>None</td>\n",
       "    </tr>\n",
       "    <tr>\n",
       "      <th>1</th>\n",
       "      <td>2021-09-29</td>\n",
       "      <td>1</td>\n",
       "      <td>0.0</td>\n",
       "      <td>0.0</td>\n",
       "      <td>0.0</td>\n",
       "      <td>None</td>\n",
       "    </tr>\n",
       "    <tr>\n",
       "      <th>2</th>\n",
       "      <td>2021-09-29</td>\n",
       "      <td>2</td>\n",
       "      <td>0.0</td>\n",
       "      <td>0.0</td>\n",
       "      <td>0.0</td>\n",
       "      <td>None</td>\n",
       "    </tr>\n",
       "    <tr>\n",
       "      <th>3</th>\n",
       "      <td>2021-09-29</td>\n",
       "      <td>3</td>\n",
       "      <td>0.0</td>\n",
       "      <td>0.0</td>\n",
       "      <td>0.0</td>\n",
       "      <td>None</td>\n",
       "    </tr>\n",
       "    <tr>\n",
       "      <th>4</th>\n",
       "      <td>2021-09-29</td>\n",
       "      <td>4</td>\n",
       "      <td>0.0</td>\n",
       "      <td>0.0</td>\n",
       "      <td>0.0</td>\n",
       "      <td>None</td>\n",
       "    </tr>\n",
       "  </tbody>\n",
       "</table>\n",
       "</div>"
      ],
      "text/plain": [
       "         Data  Hora  Normal (kWh)  Horário Económico (kWh)  Autoconsumo (kWh)  \\\n",
       "0  2021-09-29     0           0.0                      0.0                0.0   \n",
       "1  2021-09-29     1           0.0                      0.0                0.0   \n",
       "2  2021-09-29     2           0.0                      0.0                0.0   \n",
       "3  2021-09-29     3           0.0                      0.0                0.0   \n",
       "4  2021-09-29     4           0.0                      0.0                0.0   \n",
       "\n",
       "  Injeção na rede (kWh)  \n",
       "0                  None  \n",
       "1                  None  \n",
       "2                  None  \n",
       "3                  None  \n",
       "4                  None  "
      ]
     },
     "execution_count": 569,
     "metadata": {},
     "output_type": "execute_result"
    }
   ],
   "source": [
    "energia_treino.info()\n",
    "energia_teste.info()\n",
    "energia_treino.head()"
   ]
  },
  {
   "cell_type": "markdown",
   "metadata": {},
   "source": [
    "Adicionamos, tal como no dataset de metereologia, as colunas **Ano**, **Mês**, **Dia**, obtidas a partir de Data:"
   ]
  },
  {
   "cell_type": "markdown",
   "metadata": {},
   "source": [
    "No dataset de treino:"
   ]
  },
  {
   "cell_type": "code",
   "execution_count": 571,
   "metadata": {},
   "outputs": [
    {
     "data": {
      "text/html": [
       "<div>\n",
       "<style scoped>\n",
       "    .dataframe tbody tr th:only-of-type {\n",
       "        vertical-align: middle;\n",
       "    }\n",
       "\n",
       "    .dataframe tbody tr th {\n",
       "        vertical-align: top;\n",
       "    }\n",
       "\n",
       "    .dataframe thead th {\n",
       "        text-align: right;\n",
       "    }\n",
       "</style>\n",
       "<table border=\"1\" class=\"dataframe\">\n",
       "  <thead>\n",
       "    <tr style=\"text-align: right;\">\n",
       "      <th></th>\n",
       "      <th>Data</th>\n",
       "      <th>Hora</th>\n",
       "      <th>Normal (kWh)</th>\n",
       "      <th>Horário Económico (kWh)</th>\n",
       "      <th>Autoconsumo (kWh)</th>\n",
       "      <th>Injeção na rede (kWh)</th>\n",
       "      <th>Ano</th>\n",
       "      <th>Mês</th>\n",
       "      <th>Dia</th>\n",
       "    </tr>\n",
       "  </thead>\n",
       "  <tbody>\n",
       "    <tr>\n",
       "      <th>0</th>\n",
       "      <td>2021-09-29</td>\n",
       "      <td>0</td>\n",
       "      <td>0.0</td>\n",
       "      <td>0.0</td>\n",
       "      <td>0.0</td>\n",
       "      <td>None</td>\n",
       "      <td>2021</td>\n",
       "      <td>9</td>\n",
       "      <td>29</td>\n",
       "    </tr>\n",
       "    <tr>\n",
       "      <th>1</th>\n",
       "      <td>2021-09-29</td>\n",
       "      <td>1</td>\n",
       "      <td>0.0</td>\n",
       "      <td>0.0</td>\n",
       "      <td>0.0</td>\n",
       "      <td>None</td>\n",
       "      <td>2021</td>\n",
       "      <td>9</td>\n",
       "      <td>29</td>\n",
       "    </tr>\n",
       "    <tr>\n",
       "      <th>2</th>\n",
       "      <td>2021-09-29</td>\n",
       "      <td>2</td>\n",
       "      <td>0.0</td>\n",
       "      <td>0.0</td>\n",
       "      <td>0.0</td>\n",
       "      <td>None</td>\n",
       "      <td>2021</td>\n",
       "      <td>9</td>\n",
       "      <td>29</td>\n",
       "    </tr>\n",
       "    <tr>\n",
       "      <th>3</th>\n",
       "      <td>2021-09-29</td>\n",
       "      <td>3</td>\n",
       "      <td>0.0</td>\n",
       "      <td>0.0</td>\n",
       "      <td>0.0</td>\n",
       "      <td>None</td>\n",
       "      <td>2021</td>\n",
       "      <td>9</td>\n",
       "      <td>29</td>\n",
       "    </tr>\n",
       "    <tr>\n",
       "      <th>4</th>\n",
       "      <td>2021-09-29</td>\n",
       "      <td>4</td>\n",
       "      <td>0.0</td>\n",
       "      <td>0.0</td>\n",
       "      <td>0.0</td>\n",
       "      <td>None</td>\n",
       "      <td>2021</td>\n",
       "      <td>9</td>\n",
       "      <td>29</td>\n",
       "    </tr>\n",
       "  </tbody>\n",
       "</table>\n",
       "</div>"
      ],
      "text/plain": [
       "        Data  Hora  Normal (kWh)  Horário Económico (kWh)  Autoconsumo (kWh)  \\\n",
       "0 2021-09-29     0           0.0                      0.0                0.0   \n",
       "1 2021-09-29     1           0.0                      0.0                0.0   \n",
       "2 2021-09-29     2           0.0                      0.0                0.0   \n",
       "3 2021-09-29     3           0.0                      0.0                0.0   \n",
       "4 2021-09-29     4           0.0                      0.0                0.0   \n",
       "\n",
       "  Injeção na rede (kWh)   Ano  Mês  Dia  \n",
       "0                  None  2021    9   29  \n",
       "1                  None  2021    9   29  \n",
       "2                  None  2021    9   29  \n",
       "3                  None  2021    9   29  \n",
       "4                  None  2021    9   29  "
      ]
     },
     "execution_count": 571,
     "metadata": {},
     "output_type": "execute_result"
    }
   ],
   "source": [
    "energia_treino['Data'] = pd.to_datetime(energia_treino['Data'])\n",
    "\n",
    "\n",
    "energia_treino['Ano'] = energia_treino['Data'].dt.year\n",
    "energia_treino['Mês'] = energia_treino['Data'].dt.month\n",
    "energia_treino['Dia'] = energia_treino['Data'].dt.day\n",
    "\n",
    "energia_treino.head()\n"
   ]
  },
  {
   "cell_type": "markdown",
   "metadata": {},
   "source": [
    "No dataset de teste:"
   ]
  },
  {
   "cell_type": "code",
   "execution_count": 572,
   "metadata": {},
   "outputs": [
    {
     "data": {
      "text/html": [
       "<div>\n",
       "<style scoped>\n",
       "    .dataframe tbody tr th:only-of-type {\n",
       "        vertical-align: middle;\n",
       "    }\n",
       "\n",
       "    .dataframe tbody tr th {\n",
       "        vertical-align: top;\n",
       "    }\n",
       "\n",
       "    .dataframe thead th {\n",
       "        text-align: right;\n",
       "    }\n",
       "</style>\n",
       "<table border=\"1\" class=\"dataframe\">\n",
       "  <thead>\n",
       "    <tr style=\"text-align: right;\">\n",
       "      <th></th>\n",
       "      <th>Data</th>\n",
       "      <th>Hora</th>\n",
       "      <th>Normal (kWh)</th>\n",
       "      <th>Horário Económico (kWh)</th>\n",
       "      <th>Autoconsumo (kWh)</th>\n",
       "      <th>Ano</th>\n",
       "      <th>Mês</th>\n",
       "      <th>Dia</th>\n",
       "    </tr>\n",
       "  </thead>\n",
       "  <tbody>\n",
       "    <tr>\n",
       "      <th>0</th>\n",
       "      <td>2023-01-01</td>\n",
       "      <td>0</td>\n",
       "      <td>0.0</td>\n",
       "      <td>0.467</td>\n",
       "      <td>0.0</td>\n",
       "      <td>2023</td>\n",
       "      <td>1</td>\n",
       "      <td>1</td>\n",
       "    </tr>\n",
       "    <tr>\n",
       "      <th>1</th>\n",
       "      <td>2023-01-01</td>\n",
       "      <td>1</td>\n",
       "      <td>0.0</td>\n",
       "      <td>0.577</td>\n",
       "      <td>0.0</td>\n",
       "      <td>2023</td>\n",
       "      <td>1</td>\n",
       "      <td>1</td>\n",
       "    </tr>\n",
       "    <tr>\n",
       "      <th>2</th>\n",
       "      <td>2023-01-01</td>\n",
       "      <td>2</td>\n",
       "      <td>0.0</td>\n",
       "      <td>0.346</td>\n",
       "      <td>0.0</td>\n",
       "      <td>2023</td>\n",
       "      <td>1</td>\n",
       "      <td>1</td>\n",
       "    </tr>\n",
       "    <tr>\n",
       "      <th>3</th>\n",
       "      <td>2023-01-01</td>\n",
       "      <td>3</td>\n",
       "      <td>0.0</td>\n",
       "      <td>0.270</td>\n",
       "      <td>0.0</td>\n",
       "      <td>2023</td>\n",
       "      <td>1</td>\n",
       "      <td>1</td>\n",
       "    </tr>\n",
       "    <tr>\n",
       "      <th>4</th>\n",
       "      <td>2023-01-01</td>\n",
       "      <td>4</td>\n",
       "      <td>0.0</td>\n",
       "      <td>0.252</td>\n",
       "      <td>0.0</td>\n",
       "      <td>2023</td>\n",
       "      <td>1</td>\n",
       "      <td>1</td>\n",
       "    </tr>\n",
       "  </tbody>\n",
       "</table>\n",
       "</div>"
      ],
      "text/plain": [
       "        Data  Hora  Normal (kWh)  Horário Económico (kWh)  Autoconsumo (kWh)  \\\n",
       "0 2023-01-01     0           0.0                    0.467                0.0   \n",
       "1 2023-01-01     1           0.0                    0.577                0.0   \n",
       "2 2023-01-01     2           0.0                    0.346                0.0   \n",
       "3 2023-01-01     3           0.0                    0.270                0.0   \n",
       "4 2023-01-01     4           0.0                    0.252                0.0   \n",
       "\n",
       "    Ano  Mês  Dia  \n",
       "0  2023    1    1  \n",
       "1  2023    1    1  \n",
       "2  2023    1    1  \n",
       "3  2023    1    1  \n",
       "4  2023    1    1  "
      ]
     },
     "execution_count": 572,
     "metadata": {},
     "output_type": "execute_result"
    }
   ],
   "source": [
    "energia_teste['Data'] = pd.to_datetime(energia_teste['Data'])\n",
    "\n",
    "\n",
    "energia_teste['Ano'] = energia_teste['Data'].dt.year\n",
    "energia_teste['Mês'] = energia_teste['Data'].dt.month\n",
    "energia_teste['Dia'] = energia_teste['Data'].dt.day\n",
    "\n",
    "energia_teste.head()"
   ]
  },
  {
   "cell_type": "markdown",
   "metadata": {},
   "source": [
    "Transformamos a **Data** do dataset energia no formato da **Data** do dataset meterologia:"
   ]
  },
  {
   "cell_type": "markdown",
   "metadata": {},
   "source": [
    "Para o dataset de treino:"
   ]
  },
  {
   "cell_type": "code",
   "execution_count": 573,
   "metadata": {},
   "outputs": [
    {
     "data": {
      "text/html": [
       "<div>\n",
       "<style scoped>\n",
       "    .dataframe tbody tr th:only-of-type {\n",
       "        vertical-align: middle;\n",
       "    }\n",
       "\n",
       "    .dataframe tbody tr th {\n",
       "        vertical-align: top;\n",
       "    }\n",
       "\n",
       "    .dataframe thead th {\n",
       "        text-align: right;\n",
       "    }\n",
       "</style>\n",
       "<table border=\"1\" class=\"dataframe\">\n",
       "  <thead>\n",
       "    <tr style=\"text-align: right;\">\n",
       "      <th></th>\n",
       "      <th>Data</th>\n",
       "      <th>Ano</th>\n",
       "      <th>Mês</th>\n",
       "      <th>Dia</th>\n",
       "      <th>Hora</th>\n",
       "      <th>Normal (kWh)</th>\n",
       "      <th>Horário Económico (kWh)</th>\n",
       "      <th>Autoconsumo (kWh)</th>\n",
       "      <th>Injeção na rede (kWh)</th>\n",
       "    </tr>\n",
       "  </thead>\n",
       "  <tbody>\n",
       "    <tr>\n",
       "      <th>0</th>\n",
       "      <td>2021-09-29 00:00:00</td>\n",
       "      <td>2021</td>\n",
       "      <td>9</td>\n",
       "      <td>29</td>\n",
       "      <td>0</td>\n",
       "      <td>0.0</td>\n",
       "      <td>0.0</td>\n",
       "      <td>0.0</td>\n",
       "      <td>None</td>\n",
       "    </tr>\n",
       "    <tr>\n",
       "      <th>1</th>\n",
       "      <td>2021-09-29 01:00:00</td>\n",
       "      <td>2021</td>\n",
       "      <td>9</td>\n",
       "      <td>29</td>\n",
       "      <td>1</td>\n",
       "      <td>0.0</td>\n",
       "      <td>0.0</td>\n",
       "      <td>0.0</td>\n",
       "      <td>None</td>\n",
       "    </tr>\n",
       "    <tr>\n",
       "      <th>2</th>\n",
       "      <td>2021-09-29 02:00:00</td>\n",
       "      <td>2021</td>\n",
       "      <td>9</td>\n",
       "      <td>29</td>\n",
       "      <td>2</td>\n",
       "      <td>0.0</td>\n",
       "      <td>0.0</td>\n",
       "      <td>0.0</td>\n",
       "      <td>None</td>\n",
       "    </tr>\n",
       "    <tr>\n",
       "      <th>3</th>\n",
       "      <td>2021-09-29 03:00:00</td>\n",
       "      <td>2021</td>\n",
       "      <td>9</td>\n",
       "      <td>29</td>\n",
       "      <td>3</td>\n",
       "      <td>0.0</td>\n",
       "      <td>0.0</td>\n",
       "      <td>0.0</td>\n",
       "      <td>None</td>\n",
       "    </tr>\n",
       "    <tr>\n",
       "      <th>4</th>\n",
       "      <td>2021-09-29 04:00:00</td>\n",
       "      <td>2021</td>\n",
       "      <td>9</td>\n",
       "      <td>29</td>\n",
       "      <td>4</td>\n",
       "      <td>0.0</td>\n",
       "      <td>0.0</td>\n",
       "      <td>0.0</td>\n",
       "      <td>None</td>\n",
       "    </tr>\n",
       "  </tbody>\n",
       "</table>\n",
       "</div>"
      ],
      "text/plain": [
       "                  Data   Ano  Mês  Dia  Hora  Normal (kWh)  \\\n",
       "0  2021-09-29 00:00:00  2021    9   29     0           0.0   \n",
       "1  2021-09-29 01:00:00  2021    9   29     1           0.0   \n",
       "2  2021-09-29 02:00:00  2021    9   29     2           0.0   \n",
       "3  2021-09-29 03:00:00  2021    9   29     3           0.0   \n",
       "4  2021-09-29 04:00:00  2021    9   29     4           0.0   \n",
       "\n",
       "   Horário Económico (kWh)  Autoconsumo (kWh) Injeção na rede (kWh)  \n",
       "0                      0.0                0.0                  None  \n",
       "1                      0.0                0.0                  None  \n",
       "2                      0.0                0.0                  None  \n",
       "3                      0.0                0.0                  None  \n",
       "4                      0.0                0.0                  None  "
      ]
     },
     "execution_count": 573,
     "metadata": {},
     "output_type": "execute_result"
    }
   ],
   "source": [
    "energia_treino['Data'] = pd.to_datetime(energia_treino['Data'])\n",
    "\n",
    "energia_treino['Datetime'] = energia_treino['Data'] + pd.to_timedelta(energia_treino['Hora'], unit='h')\n",
    "\n",
    "energia_treino['Data'] = energia_treino['Datetime'].dt.strftime('%Y-%m-%d %H:%M:%S')\n",
    "\n",
    "energia_treino.drop(columns=['Datetime'], inplace=True)\n",
    "energia_treino = energia_treino[['Data','Ano',\t'Mês',\t'Dia', 'Hora',\t'Normal (kWh)',\t'Horário Económico (kWh)',\t'Autoconsumo (kWh)'\t,'Injeção na rede (kWh)']]\n",
    "energia_treino.head()\n",
    "\n"
   ]
  },
  {
   "cell_type": "markdown",
   "metadata": {},
   "source": [
    "Para o dataset de teste:"
   ]
  },
  {
   "cell_type": "code",
   "execution_count": 574,
   "metadata": {},
   "outputs": [
    {
     "data": {
      "text/html": [
       "<div>\n",
       "<style scoped>\n",
       "    .dataframe tbody tr th:only-of-type {\n",
       "        vertical-align: middle;\n",
       "    }\n",
       "\n",
       "    .dataframe tbody tr th {\n",
       "        vertical-align: top;\n",
       "    }\n",
       "\n",
       "    .dataframe thead th {\n",
       "        text-align: right;\n",
       "    }\n",
       "</style>\n",
       "<table border=\"1\" class=\"dataframe\">\n",
       "  <thead>\n",
       "    <tr style=\"text-align: right;\">\n",
       "      <th></th>\n",
       "      <th>Data</th>\n",
       "      <th>Ano</th>\n",
       "      <th>Mês</th>\n",
       "      <th>Dia</th>\n",
       "      <th>Hora</th>\n",
       "      <th>Normal (kWh)</th>\n",
       "      <th>Horário Económico (kWh)</th>\n",
       "      <th>Autoconsumo (kWh)</th>\n",
       "    </tr>\n",
       "  </thead>\n",
       "  <tbody>\n",
       "    <tr>\n",
       "      <th>0</th>\n",
       "      <td>2023-01-01 00:00:00</td>\n",
       "      <td>2023</td>\n",
       "      <td>1</td>\n",
       "      <td>1</td>\n",
       "      <td>0</td>\n",
       "      <td>0.0</td>\n",
       "      <td>0.467</td>\n",
       "      <td>0.0</td>\n",
       "    </tr>\n",
       "    <tr>\n",
       "      <th>1</th>\n",
       "      <td>2023-01-01 01:00:00</td>\n",
       "      <td>2023</td>\n",
       "      <td>1</td>\n",
       "      <td>1</td>\n",
       "      <td>1</td>\n",
       "      <td>0.0</td>\n",
       "      <td>0.577</td>\n",
       "      <td>0.0</td>\n",
       "    </tr>\n",
       "    <tr>\n",
       "      <th>2</th>\n",
       "      <td>2023-01-01 02:00:00</td>\n",
       "      <td>2023</td>\n",
       "      <td>1</td>\n",
       "      <td>1</td>\n",
       "      <td>2</td>\n",
       "      <td>0.0</td>\n",
       "      <td>0.346</td>\n",
       "      <td>0.0</td>\n",
       "    </tr>\n",
       "    <tr>\n",
       "      <th>3</th>\n",
       "      <td>2023-01-01 03:00:00</td>\n",
       "      <td>2023</td>\n",
       "      <td>1</td>\n",
       "      <td>1</td>\n",
       "      <td>3</td>\n",
       "      <td>0.0</td>\n",
       "      <td>0.270</td>\n",
       "      <td>0.0</td>\n",
       "    </tr>\n",
       "    <tr>\n",
       "      <th>4</th>\n",
       "      <td>2023-01-01 04:00:00</td>\n",
       "      <td>2023</td>\n",
       "      <td>1</td>\n",
       "      <td>1</td>\n",
       "      <td>4</td>\n",
       "      <td>0.0</td>\n",
       "      <td>0.252</td>\n",
       "      <td>0.0</td>\n",
       "    </tr>\n",
       "  </tbody>\n",
       "</table>\n",
       "</div>"
      ],
      "text/plain": [
       "                  Data   Ano  Mês  Dia  Hora  Normal (kWh)  \\\n",
       "0  2023-01-01 00:00:00  2023    1    1     0           0.0   \n",
       "1  2023-01-01 01:00:00  2023    1    1     1           0.0   \n",
       "2  2023-01-01 02:00:00  2023    1    1     2           0.0   \n",
       "3  2023-01-01 03:00:00  2023    1    1     3           0.0   \n",
       "4  2023-01-01 04:00:00  2023    1    1     4           0.0   \n",
       "\n",
       "   Horário Económico (kWh)  Autoconsumo (kWh)  \n",
       "0                    0.467                0.0  \n",
       "1                    0.577                0.0  \n",
       "2                    0.346                0.0  \n",
       "3                    0.270                0.0  \n",
       "4                    0.252                0.0  "
      ]
     },
     "execution_count": 574,
     "metadata": {},
     "output_type": "execute_result"
    }
   ],
   "source": [
    "energia_teste['Data'] = pd.to_datetime(energia_teste['Data'])\n",
    "\n",
    "energia_teste['Datetime'] = energia_teste['Data'] + pd.to_timedelta(energia_teste['Hora'], unit='h')\n",
    "\n",
    "\n",
    "energia_teste['Data'] = energia_teste['Datetime'].dt.strftime('%Y-%m-%d %H:%M:%S')\n",
    "\n",
    "energia_teste.drop(columns=['Datetime'], inplace=True)\n",
    "energia_teste = energia_teste[['Data','Ano',\t'Mês',\t'Dia', 'Hora',\t'Normal (kWh)',\t'Horário Económico (kWh)',\t'Autoconsumo (kWh)']]\n",
    "energia_teste.head()"
   ]
  },
  {
   "cell_type": "markdown",
   "metadata": {},
   "source": [
    "##### Converter a *string* para *datetime*"
   ]
  },
  {
   "cell_type": "code",
   "execution_count": 577,
   "metadata": {},
   "outputs": [
    {
     "name": "stdout",
     "output_type": "stream",
     "text": [
      "<class 'pandas.core.frame.DataFrame'>\n",
      "Index: 11016 entries, 0 to 8759\n",
      "Data columns (total 9 columns):\n",
      " #   Column                   Non-Null Count  Dtype  \n",
      "---  ------                   --------------  -----  \n",
      " 0   Data                     11016 non-null  object \n",
      " 1   Ano                      11016 non-null  int32  \n",
      " 2   Mês                      11016 non-null  int32  \n",
      " 3   Dia                      11016 non-null  int32  \n",
      " 4   Hora                     11016 non-null  int64  \n",
      " 5   Normal (kWh)             11016 non-null  float64\n",
      " 6   Horário Económico (kWh)  11016 non-null  float64\n",
      " 7   Autoconsumo (kWh)        11016 non-null  float64\n",
      " 8   Injeção na rede (kWh)    11016 non-null  object \n",
      "dtypes: float64(3), int32(3), int64(1), object(2)\n",
      "memory usage: 731.5+ KB\n",
      "<class 'pandas.core.frame.DataFrame'>\n",
      "RangeIndex: 2256 entries, 0 to 2255\n",
      "Data columns (total 8 columns):\n",
      " #   Column                   Non-Null Count  Dtype  \n",
      "---  ------                   --------------  -----  \n",
      " 0   Data                     2256 non-null   object \n",
      " 1   Ano                      2256 non-null   int32  \n",
      " 2   Mês                      2256 non-null   int32  \n",
      " 3   Dia                      2256 non-null   int32  \n",
      " 4   Hora                     2256 non-null   int64  \n",
      " 5   Normal (kWh)             2256 non-null   float64\n",
      " 6   Horário Económico (kWh)  2256 non-null   float64\n",
      " 7   Autoconsumo (kWh)        2256 non-null   float64\n",
      "dtypes: float64(3), int32(3), int64(1), object(1)\n",
      "memory usage: 114.7+ KB\n"
     ]
    }
   ],
   "source": [
    "energia_treino.info()\n",
    "energia_teste.info()"
   ]
  },
  {
   "cell_type": "code",
   "execution_count": 578,
   "metadata": {},
   "outputs": [
    {
     "data": {
      "text/html": [
       "<div>\n",
       "<style scoped>\n",
       "    .dataframe tbody tr th:only-of-type {\n",
       "        vertical-align: middle;\n",
       "    }\n",
       "\n",
       "    .dataframe tbody tr th {\n",
       "        vertical-align: top;\n",
       "    }\n",
       "\n",
       "    .dataframe thead th {\n",
       "        text-align: right;\n",
       "    }\n",
       "</style>\n",
       "<table border=\"1\" class=\"dataframe\">\n",
       "  <thead>\n",
       "    <tr style=\"text-align: right;\">\n",
       "      <th></th>\n",
       "      <th>Data</th>\n",
       "      <th>Ano</th>\n",
       "      <th>Mês</th>\n",
       "      <th>Dia</th>\n",
       "      <th>Hora</th>\n",
       "      <th>Normal (kWh)</th>\n",
       "      <th>Horário Económico (kWh)</th>\n",
       "      <th>Autoconsumo (kWh)</th>\n",
       "      <th>Injeção na rede (kWh)</th>\n",
       "    </tr>\n",
       "  </thead>\n",
       "  <tbody>\n",
       "    <tr>\n",
       "      <th>0</th>\n",
       "      <td>2021-09-29 00:00:00</td>\n",
       "      <td>2021</td>\n",
       "      <td>9</td>\n",
       "      <td>29</td>\n",
       "      <td>0</td>\n",
       "      <td>0.0</td>\n",
       "      <td>0.0</td>\n",
       "      <td>0.0</td>\n",
       "      <td>None</td>\n",
       "    </tr>\n",
       "    <tr>\n",
       "      <th>1</th>\n",
       "      <td>2021-09-29 01:00:00</td>\n",
       "      <td>2021</td>\n",
       "      <td>9</td>\n",
       "      <td>29</td>\n",
       "      <td>1</td>\n",
       "      <td>0.0</td>\n",
       "      <td>0.0</td>\n",
       "      <td>0.0</td>\n",
       "      <td>None</td>\n",
       "    </tr>\n",
       "    <tr>\n",
       "      <th>2</th>\n",
       "      <td>2021-09-29 02:00:00</td>\n",
       "      <td>2021</td>\n",
       "      <td>9</td>\n",
       "      <td>29</td>\n",
       "      <td>2</td>\n",
       "      <td>0.0</td>\n",
       "      <td>0.0</td>\n",
       "      <td>0.0</td>\n",
       "      <td>None</td>\n",
       "    </tr>\n",
       "    <tr>\n",
       "      <th>3</th>\n",
       "      <td>2021-09-29 03:00:00</td>\n",
       "      <td>2021</td>\n",
       "      <td>9</td>\n",
       "      <td>29</td>\n",
       "      <td>3</td>\n",
       "      <td>0.0</td>\n",
       "      <td>0.0</td>\n",
       "      <td>0.0</td>\n",
       "      <td>None</td>\n",
       "    </tr>\n",
       "    <tr>\n",
       "      <th>4</th>\n",
       "      <td>2021-09-29 04:00:00</td>\n",
       "      <td>2021</td>\n",
       "      <td>9</td>\n",
       "      <td>29</td>\n",
       "      <td>4</td>\n",
       "      <td>0.0</td>\n",
       "      <td>0.0</td>\n",
       "      <td>0.0</td>\n",
       "      <td>None</td>\n",
       "    </tr>\n",
       "  </tbody>\n",
       "</table>\n",
       "</div>"
      ],
      "text/plain": [
       "                  Data   Ano  Mês  Dia  Hora  Normal (kWh)  \\\n",
       "0  2021-09-29 00:00:00  2021    9   29     0           0.0   \n",
       "1  2021-09-29 01:00:00  2021    9   29     1           0.0   \n",
       "2  2021-09-29 02:00:00  2021    9   29     2           0.0   \n",
       "3  2021-09-29 03:00:00  2021    9   29     3           0.0   \n",
       "4  2021-09-29 04:00:00  2021    9   29     4           0.0   \n",
       "\n",
       "   Horário Económico (kWh)  Autoconsumo (kWh) Injeção na rede (kWh)  \n",
       "0                      0.0                0.0                  None  \n",
       "1                      0.0                0.0                  None  \n",
       "2                      0.0                0.0                  None  \n",
       "3                      0.0                0.0                  None  \n",
       "4                      0.0                0.0                  None  "
      ]
     },
     "execution_count": 578,
     "metadata": {},
     "output_type": "execute_result"
    }
   ],
   "source": [
    "energia_treino.head()\n",
    "# energia_teste.head()"
   ]
  },
  {
   "cell_type": "markdown",
   "metadata": {},
   "source": [
    "## Obter os dados metereologicos entre 2022-3-15 e 2022-4-4"
   ]
  },
  {
   "cell_type": "code",
   "execution_count": 579,
   "metadata": {},
   "outputs": [],
   "source": [
    "# start_datetime_22 = pd.to_datetime('2022-3-15 00:00:00')\n",
    "# end_datetime_22 = pd.to_datetime('2022-4-4 23:00:00')\n",
    "\n",
    "# meteo22_data = meteo_treino[(meteo_treino['Data'] >= start_datetime_22) & (meteo_treino['Data'] <= end_datetime_22)]\n",
    "# meteo22_data"
   ]
  },
  {
   "cell_type": "markdown",
   "metadata": {},
   "source": [
    "### Converter o ano de 2022 para 2023"
   ]
  },
  {
   "cell_type": "code",
   "execution_count": 580,
   "metadata": {},
   "outputs": [],
   "source": [
    "# meteo22_data.loc[:,'Data'] = meteo22_data['Data'] + pd.DateOffset(years=1)\n",
    "# meteo22_data"
   ]
  },
  {
   "cell_type": "markdown",
   "metadata": {},
   "source": [
    "### Juntar os dados do ano de 2022 aos de 2023 entre as datas 2022-3-15 e 2022-4-4"
   ]
  },
  {
   "cell_type": "code",
   "execution_count": 581,
   "metadata": {},
   "outputs": [],
   "source": [
    "# meteo_teste = pd.concat([meteo_teste, meteo22_data], axis=0)\n",
    "# meteo_teste"
   ]
  },
  {
   "cell_type": "markdown",
   "metadata": {},
   "source": [
    "## Merging the datasets"
   ]
  },
  {
   "cell_type": "code",
   "execution_count": 582,
   "metadata": {},
   "outputs": [],
   "source": [
    "meteo_treino['Data'] = pd.to_datetime(meteo_treino['Data'])\n",
    "energia_treino['Data'] = pd.to_datetime(energia_treino['Data'])\n",
    "meteo_teste['Data'] = pd.to_datetime(meteo_teste['Data'])\n",
    "energia_teste['Data'] = pd.to_datetime(energia_teste['Data'])\n"
   ]
  },
  {
   "cell_type": "code",
   "execution_count": 583,
   "metadata": {},
   "outputs": [],
   "source": [
    "data_treino = pd.merge(energia_treino, meteo_treino, on='Data', how='left')\n",
    "data_teste = pd.merge(energia_teste, meteo_teste, on='Data', how='left')\n"
   ]
  },
  {
   "cell_type": "code",
   "execution_count": 584,
   "metadata": {},
   "outputs": [
    {
     "data": {
      "text/html": [
       "<div>\n",
       "<style scoped>\n",
       "    .dataframe tbody tr th:only-of-type {\n",
       "        vertical-align: middle;\n",
       "    }\n",
       "\n",
       "    .dataframe tbody tr th {\n",
       "        vertical-align: top;\n",
       "    }\n",
       "\n",
       "    .dataframe thead th {\n",
       "        text-align: right;\n",
       "    }\n",
       "</style>\n",
       "<table border=\"1\" class=\"dataframe\">\n",
       "  <thead>\n",
       "    <tr style=\"text-align: right;\">\n",
       "      <th></th>\n",
       "      <th>Data</th>\n",
       "      <th>Ano_x</th>\n",
       "      <th>Mês_x</th>\n",
       "      <th>Dia_x</th>\n",
       "      <th>Hora_x</th>\n",
       "      <th>Normal (kWh)</th>\n",
       "      <th>Horário Económico (kWh)</th>\n",
       "      <th>Autoconsumo (kWh)</th>\n",
       "      <th>Ano_y</th>\n",
       "      <th>Mês_y</th>\n",
       "      <th>...</th>\n",
       "      <th>Hora_y</th>\n",
       "      <th>feels_like</th>\n",
       "      <th>temp_min</th>\n",
       "      <th>temp_max</th>\n",
       "      <th>pressure</th>\n",
       "      <th>humidity</th>\n",
       "      <th>wind_speed</th>\n",
       "      <th>rain_1h</th>\n",
       "      <th>clouds_all</th>\n",
       "      <th>weather_description</th>\n",
       "    </tr>\n",
       "  </thead>\n",
       "  <tbody>\n",
       "    <tr>\n",
       "      <th>2251</th>\n",
       "      <td>2023-04-04 19:00:00</td>\n",
       "      <td>2023</td>\n",
       "      <td>4</td>\n",
       "      <td>4</td>\n",
       "      <td>19</td>\n",
       "      <td>0.953</td>\n",
       "      <td>0.000</td>\n",
       "      <td>0.012</td>\n",
       "      <td>2023</td>\n",
       "      <td>4</td>\n",
       "      <td>...</td>\n",
       "      <td>19</td>\n",
       "      <td>16.18</td>\n",
       "      <td>17.13</td>\n",
       "      <td>17.13</td>\n",
       "      <td>1016</td>\n",
       "      <td>49</td>\n",
       "      <td>0.86</td>\n",
       "      <td>0.0</td>\n",
       "      <td>5</td>\n",
       "      <td>sky is clear</td>\n",
       "    </tr>\n",
       "    <tr>\n",
       "      <th>2252</th>\n",
       "      <td>2023-04-04 20:00:00</td>\n",
       "      <td>2023</td>\n",
       "      <td>4</td>\n",
       "      <td>4</td>\n",
       "      <td>20</td>\n",
       "      <td>0.915</td>\n",
       "      <td>0.000</td>\n",
       "      <td>0.000</td>\n",
       "      <td>2023</td>\n",
       "      <td>4</td>\n",
       "      <td>...</td>\n",
       "      <td>20</td>\n",
       "      <td>14.03</td>\n",
       "      <td>15.13</td>\n",
       "      <td>15.13</td>\n",
       "      <td>1017</td>\n",
       "      <td>51</td>\n",
       "      <td>1.71</td>\n",
       "      <td>0.0</td>\n",
       "      <td>2</td>\n",
       "      <td>sky is clear</td>\n",
       "    </tr>\n",
       "    <tr>\n",
       "      <th>2253</th>\n",
       "      <td>2023-04-04 21:00:00</td>\n",
       "      <td>2023</td>\n",
       "      <td>4</td>\n",
       "      <td>4</td>\n",
       "      <td>21</td>\n",
       "      <td>0.479</td>\n",
       "      <td>0.000</td>\n",
       "      <td>0.000</td>\n",
       "      <td>2023</td>\n",
       "      <td>4</td>\n",
       "      <td>...</td>\n",
       "      <td>21</td>\n",
       "      <td>11.83</td>\n",
       "      <td>13.13</td>\n",
       "      <td>13.13</td>\n",
       "      <td>1018</td>\n",
       "      <td>51</td>\n",
       "      <td>2.00</td>\n",
       "      <td>0.0</td>\n",
       "      <td>2</td>\n",
       "      <td>sky is clear</td>\n",
       "    </tr>\n",
       "    <tr>\n",
       "      <th>2254</th>\n",
       "      <td>2023-04-04 22:00:00</td>\n",
       "      <td>2023</td>\n",
       "      <td>4</td>\n",
       "      <td>4</td>\n",
       "      <td>22</td>\n",
       "      <td>0.000</td>\n",
       "      <td>0.497</td>\n",
       "      <td>0.000</td>\n",
       "      <td>2023</td>\n",
       "      <td>4</td>\n",
       "      <td>...</td>\n",
       "      <td>22</td>\n",
       "      <td>9.63</td>\n",
       "      <td>11.13</td>\n",
       "      <td>14.75</td>\n",
       "      <td>1019</td>\n",
       "      <td>51</td>\n",
       "      <td>2.23</td>\n",
       "      <td>0.0</td>\n",
       "      <td>2</td>\n",
       "      <td>sky is clear</td>\n",
       "    </tr>\n",
       "    <tr>\n",
       "      <th>2255</th>\n",
       "      <td>2023-04-04 23:00:00</td>\n",
       "      <td>2023</td>\n",
       "      <td>4</td>\n",
       "      <td>4</td>\n",
       "      <td>23</td>\n",
       "      <td>0.000</td>\n",
       "      <td>0.487</td>\n",
       "      <td>0.000</td>\n",
       "      <td>2023</td>\n",
       "      <td>4</td>\n",
       "      <td>...</td>\n",
       "      <td>23</td>\n",
       "      <td>11.60</td>\n",
       "      <td>11.13</td>\n",
       "      <td>15.62</td>\n",
       "      <td>1019</td>\n",
       "      <td>49</td>\n",
       "      <td>2.51</td>\n",
       "      <td>0.0</td>\n",
       "      <td>2</td>\n",
       "      <td>sky is clear</td>\n",
       "    </tr>\n",
       "  </tbody>\n",
       "</table>\n",
       "<p>5 rows × 21 columns</p>\n",
       "</div>"
      ],
      "text/plain": [
       "                    Data  Ano_x  Mês_x  Dia_x  Hora_x  Normal (kWh)  \\\n",
       "2251 2023-04-04 19:00:00   2023      4      4      19         0.953   \n",
       "2252 2023-04-04 20:00:00   2023      4      4      20         0.915   \n",
       "2253 2023-04-04 21:00:00   2023      4      4      21         0.479   \n",
       "2254 2023-04-04 22:00:00   2023      4      4      22         0.000   \n",
       "2255 2023-04-04 23:00:00   2023      4      4      23         0.000   \n",
       "\n",
       "      Horário Económico (kWh)  Autoconsumo (kWh)  Ano_y  Mês_y  ...  Hora_y  \\\n",
       "2251                    0.000              0.012   2023      4  ...      19   \n",
       "2252                    0.000              0.000   2023      4  ...      20   \n",
       "2253                    0.000              0.000   2023      4  ...      21   \n",
       "2254                    0.497              0.000   2023      4  ...      22   \n",
       "2255                    0.487              0.000   2023      4  ...      23   \n",
       "\n",
       "      feels_like  temp_min  temp_max  pressure  humidity  wind_speed  rain_1h  \\\n",
       "2251       16.18     17.13     17.13      1016        49        0.86      0.0   \n",
       "2252       14.03     15.13     15.13      1017        51        1.71      0.0   \n",
       "2253       11.83     13.13     13.13      1018        51        2.00      0.0   \n",
       "2254        9.63     11.13     14.75      1019        51        2.23      0.0   \n",
       "2255       11.60     11.13     15.62      1019        49        2.51      0.0   \n",
       "\n",
       "      clouds_all  weather_description  \n",
       "2251           5         sky is clear  \n",
       "2252           2         sky is clear  \n",
       "2253           2         sky is clear  \n",
       "2254           2         sky is clear  \n",
       "2255           2         sky is clear  \n",
       "\n",
       "[5 rows x 21 columns]"
      ]
     },
     "execution_count": 584,
     "metadata": {},
     "output_type": "execute_result"
    }
   ],
   "source": [
    "# data_treino.head()\n",
    "data_teste.tail()\n",
    "\n",
    "# data_treino.info()\n",
    "# data_teste.info()"
   ]
  },
  {
   "cell_type": "code",
   "execution_count": 585,
   "metadata": {},
   "outputs": [
    {
     "name": "stdout",
     "output_type": "stream",
     "text": [
      "<class 'pandas.core.frame.DataFrame'>\n",
      "RangeIndex: 2256 entries, 0 to 2255\n",
      "Data columns (total 21 columns):\n",
      " #   Column                   Non-Null Count  Dtype         \n",
      "---  ------                   --------------  -----         \n",
      " 0   Data                     2256 non-null   datetime64[ns]\n",
      " 1   Ano_x                    2256 non-null   int32         \n",
      " 2   Mês_x                    2256 non-null   int32         \n",
      " 3   Dia_x                    2256 non-null   int32         \n",
      " 4   Hora_x                   2256 non-null   int64         \n",
      " 5   Normal (kWh)             2256 non-null   float64       \n",
      " 6   Horário Económico (kWh)  2256 non-null   float64       \n",
      " 7   Autoconsumo (kWh)        2256 non-null   float64       \n",
      " 8   Ano_y                    2256 non-null   int32         \n",
      " 9   Mês_y                    2256 non-null   int32         \n",
      " 10  Dia_y                    2256 non-null   int32         \n",
      " 11  Hora_y                   2256 non-null   int32         \n",
      " 12  feels_like               2256 non-null   float64       \n",
      " 13  temp_min                 2256 non-null   float64       \n",
      " 14  temp_max                 2256 non-null   float64       \n",
      " 15  pressure                 2256 non-null   int64         \n",
      " 16  humidity                 2256 non-null   int64         \n",
      " 17  wind_speed               2256 non-null   float64       \n",
      " 18  rain_1h                  2256 non-null   float64       \n",
      " 19  clouds_all               2256 non-null   int64         \n",
      " 20  weather_description      2256 non-null   object        \n",
      "dtypes: datetime64[ns](1), float64(8), int32(7), int64(4), object(1)\n",
      "memory usage: 308.6+ KB\n"
     ]
    }
   ],
   "source": [
    "data_teste.info()"
   ]
  },
  {
   "cell_type": "markdown",
   "metadata": {},
   "source": [
    "# Criação de ficheiros com os dados de treino e teste"
   ]
  },
  {
   "cell_type": "code",
   "execution_count": 586,
   "metadata": {},
   "outputs": [],
   "source": [
    "data_treino.to_csv('dataset_treino.csv', index=False)\n",
    "data_teste.to_csv('dataset_teste.csv', index=False)"
   ]
  }
 ],
 "metadata": {
  "kernelspec": {
   "display_name": "Python 3 (ipykernel)",
   "language": "python",
   "name": "python3"
  },
  "language_info": {
   "codemirror_mode": {
    "name": "ipython",
    "version": 3
   },
   "file_extension": ".py",
   "mimetype": "text/x-python",
   "name": "python",
   "nbconvert_exporter": "python",
   "pygments_lexer": "ipython3",
   "version": "3.11.5"
  }
 },
 "nbformat": 4,
 "nbformat_minor": 4
}
