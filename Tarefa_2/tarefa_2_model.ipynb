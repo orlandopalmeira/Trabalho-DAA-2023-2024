{
 "cells": [
  {
   "cell_type": "markdown",
   "metadata": {},
   "source": [
    "# Tratamento dos dados"
   ]
  },
  {
   "cell_type": "code",
   "execution_count": 43,
   "metadata": {},
   "outputs": [],
   "source": [
    "import pandas as pd\n",
    "import numpy as np\n",
    "import matplotlib.pyplot as plt\n",
    "import seaborn as sns\n",
    "%matplotlib inline"
   ]
  },
  {
   "cell_type": "code",
   "execution_count": 44,
   "metadata": {},
   "outputs": [],
   "source": [
    "data_treino = pd.read_csv('dataset_treino.csv', na_filter=False)\n",
    "data_teste = pd.read_csv('dataset_teste.csv', na_filter=False)"
   ]
  },
  {
   "cell_type": "code",
   "execution_count": 45,
   "metadata": {},
   "outputs": [
    {
     "name": "stdout",
     "output_type": "stream",
     "text": [
      "<class 'pandas.core.frame.DataFrame'>\n",
      "RangeIndex: 11016 entries, 0 to 11015\n",
      "Data columns (total 15 columns):\n",
      " #   Column                   Non-Null Count  Dtype  \n",
      "---  ------                   --------------  -----  \n",
      " 0   Data                     11016 non-null  object \n",
      " 1   Normal (kWh)             11016 non-null  float64\n",
      " 2   Horário Económico (kWh)  11016 non-null  float64\n",
      " 3   Autoconsumo (kWh)        11016 non-null  float64\n",
      " 4   Injeção na rede (kWh)    11016 non-null  object \n",
      " 5   temp                     11016 non-null  float64\n",
      " 6   feels_like               11016 non-null  float64\n",
      " 7   temp_min                 11016 non-null  float64\n",
      " 8   temp_max                 11016 non-null  float64\n",
      " 9   pressure                 11016 non-null  int64  \n",
      " 10  humidity                 11016 non-null  int64  \n",
      " 11  wind_speed               11016 non-null  float64\n",
      " 12  rain_1h                  11016 non-null  float64\n",
      " 13  clouds_all               11016 non-null  int64  \n",
      " 14  weather_description      11016 non-null  object \n",
      "dtypes: float64(9), int64(3), object(3)\n",
      "memory usage: 1.3+ MB\n"
     ]
    }
   ],
   "source": [
    "data_treino.info()"
   ]
  },
  {
   "cell_type": "code",
   "execution_count": 46,
   "metadata": {},
   "outputs": [
    {
     "data": {
      "text/plain": [
       "Data                       2256\n",
       "Normal (kWh)                709\n",
       "Horário Económico (kWh)     490\n",
       "Autoconsumo (kWh)           485\n",
       "temp                       1039\n",
       "feels_like                 1198\n",
       "temp_min                    198\n",
       "temp_max                    208\n",
       "pressure                     31\n",
       "humidity                     73\n",
       "wind_speed                  563\n",
       "rain_1h                     134\n",
       "clouds_all                  100\n",
       "weather_description           8\n",
       "dtype: int64"
      ]
     },
     "execution_count": 46,
     "metadata": {},
     "output_type": "execute_result"
    }
   ],
   "source": [
    "data_teste.nunique()"
   ]
  },
  {
   "cell_type": "code",
   "execution_count": 47,
   "metadata": {},
   "outputs": [],
   "source": [
    "data_treino.drop(columns=['Data'], inplace=True)\n",
    "data_teste.drop(columns=['Data'], inplace=True)"
   ]
  },
  {
   "cell_type": "markdown",
   "metadata": {},
   "source": [
    "## One-Hot Encoding de **weather_description**"
   ]
  },
  {
   "cell_type": "code",
   "execution_count": 48,
   "metadata": {},
   "outputs": [
    {
     "name": "stdout",
     "output_type": "stream",
     "text": [
      "<class 'pandas.core.frame.DataFrame'>\n",
      "RangeIndex: 11016 entries, 0 to 11015\n",
      "Data columns (total 21 columns):\n",
      " #   Column                   Non-Null Count  Dtype  \n",
      "---  ------                   --------------  -----  \n",
      " 0   Normal (kWh)             11016 non-null  float64\n",
      " 1   Horário Económico (kWh)  11016 non-null  float64\n",
      " 2   Autoconsumo (kWh)        11016 non-null  float64\n",
      " 3   Injeção na rede (kWh)    11016 non-null  object \n",
      " 4   temp                     11016 non-null  float64\n",
      " 5   feels_like               11016 non-null  float64\n",
      " 6   temp_min                 11016 non-null  float64\n",
      " 7   temp_max                 11016 non-null  float64\n",
      " 8   pressure                 11016 non-null  int64  \n",
      " 9   humidity                 11016 non-null  int64  \n",
      " 10  wind_speed               11016 non-null  float64\n",
      " 11  rain_1h                  11016 non-null  float64\n",
      " 12  clouds_all               11016 non-null  int64  \n",
      " 13  broken clouds            11016 non-null  int32  \n",
      " 14  few clouds               11016 non-null  int32  \n",
      " 15  heavy intensity rain     11016 non-null  int32  \n",
      " 16  light rain               11016 non-null  int32  \n",
      " 17  moderate rain            11016 non-null  int32  \n",
      " 18  overcast clouds          11016 non-null  int32  \n",
      " 19  scattered clouds         11016 non-null  int32  \n",
      " 20  sky is clear             11016 non-null  int32  \n",
      "dtypes: float64(9), int32(8), int64(3), object(1)\n",
      "memory usage: 1.4+ MB\n"
     ]
    }
   ],
   "source": [
    "from sklearn.preprocessing import LabelBinarizer\n",
    "\n",
    "lb = LabelBinarizer()\n",
    "lb_results = lb.fit_transform(data_treino['weather_description'])\n",
    "lb_results_df = pd.DataFrame(lb_results, columns=lb.classes_)\n",
    "\n",
    "data_treino = pd.concat([data_treino, lb_results_df], axis=1)\n",
    "data_treino.drop(columns=['weather_description'], inplace=True)\n",
    "data_treino.info()"
   ]
  },
  {
   "cell_type": "code",
   "execution_count": 49,
   "metadata": {},
   "outputs": [
    {
     "name": "stdout",
     "output_type": "stream",
     "text": [
      "<class 'pandas.core.frame.DataFrame'>\n",
      "RangeIndex: 2256 entries, 0 to 2255\n",
      "Data columns (total 20 columns):\n",
      " #   Column                   Non-Null Count  Dtype  \n",
      "---  ------                   --------------  -----  \n",
      " 0   Normal (kWh)             2256 non-null   float64\n",
      " 1   Horário Económico (kWh)  2256 non-null   float64\n",
      " 2   Autoconsumo (kWh)        2256 non-null   float64\n",
      " 3   temp                     2256 non-null   float64\n",
      " 4   feels_like               2256 non-null   float64\n",
      " 5   temp_min                 2256 non-null   float64\n",
      " 6   temp_max                 2256 non-null   float64\n",
      " 7   pressure                 2256 non-null   int64  \n",
      " 8   humidity                 2256 non-null   int64  \n",
      " 9   wind_speed               2256 non-null   float64\n",
      " 10  rain_1h                  2256 non-null   float64\n",
      " 11  clouds_all               2256 non-null   int64  \n",
      " 12  broken clouds            2256 non-null   int32  \n",
      " 13  few clouds               2256 non-null   int32  \n",
      " 14  heavy intensity rain     2256 non-null   int32  \n",
      " 15  light rain               2256 non-null   int32  \n",
      " 16  moderate rain            2256 non-null   int32  \n",
      " 17  overcast clouds          2256 non-null   int32  \n",
      " 18  scattered clouds         2256 non-null   int32  \n",
      " 19  sky is clear             2256 non-null   int32  \n",
      "dtypes: float64(9), int32(8), int64(3)\n",
      "memory usage: 282.1 KB\n"
     ]
    }
   ],
   "source": [
    "lb = LabelBinarizer()\n",
    "lb_results = lb.fit_transform(data_teste['weather_description'])\n",
    "lb_results_df = pd.DataFrame(lb_results, columns=lb.classes_)\n",
    "\n",
    "data_teste = pd.concat([data_teste, lb_results_df], axis=1)\n",
    "data_teste.drop(columns=['weather_description'], inplace=True)\n",
    "data_teste.info()"
   ]
  },
  {
   "cell_type": "markdown",
   "metadata": {},
   "source": [
    "# Modelação"
   ]
  },
  {
   "cell_type": "code",
   "execution_count": 50,
   "metadata": {},
   "outputs": [],
   "source": [
    "X_treino = data_treino.drop(columns=['Injeção na rede (kWh)'])\n",
    "y_treino = data_treino['Injeção na rede (kWh)'].to_frame()\n",
    "\n",
    "X_teste = data_teste.copy()"
   ]
  },
  {
   "cell_type": "markdown",
   "metadata": {},
   "source": [
    "## Decision Tree Classifier"
   ]
  },
  {
   "cell_type": "code",
   "execution_count": 51,
   "metadata": {},
   "outputs": [],
   "source": [
    "from sklearn.tree import DecisionTreeClassifier\n",
    "\n",
    "dtc = DecisionTreeClassifier(random_state=2023)\n",
    "dtc.fit(X_treino, y_treino)\n",
    "\n",
    "predictionDTC = dtc.predict(X_teste)"
   ]
  },
  {
   "cell_type": "markdown",
   "metadata": {},
   "source": [
    "### Criação do ficheiro de submissão"
   ]
  },
  {
   "cell_type": "code",
   "execution_count": 52,
   "metadata": {},
   "outputs": [],
   "source": [
    "with open('results.csv', 'w') as results:\n",
    "    results.write('RowId,Result\\n')\n",
    "    i = 1\n",
    "    for p in predictionDTC:\n",
    "        results.write(f'{i},{p}\\n')\n",
    "        i+=1"
   ]
  }
 ],
 "metadata": {
  "kernelspec": {
   "display_name": "daa",
   "language": "python",
   "name": "python3"
  },
  "language_info": {
   "codemirror_mode": {
    "name": "ipython",
    "version": 3
   },
   "file_extension": ".py",
   "mimetype": "text/x-python",
   "name": "python",
   "nbconvert_exporter": "python",
   "pygments_lexer": "ipython3",
   "version": "3.10.13"
  }
 },
 "nbformat": 4,
 "nbformat_minor": 2
}
