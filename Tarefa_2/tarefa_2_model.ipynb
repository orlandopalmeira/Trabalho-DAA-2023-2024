{
 "cells": [
  {
   "cell_type": "markdown",
   "metadata": {},
   "source": [
    "# Tratamento dos dados"
   ]
  },
  {
   "cell_type": "code",
   "execution_count": 1,
   "metadata": {},
   "outputs": [],
   "source": [
    "import pandas as pd\n",
    "import numpy as np\n",
    "import matplotlib.pyplot as plt\n",
    "import seaborn as sns\n",
    "%matplotlib inline"
   ]
  },
  {
   "cell_type": "code",
   "execution_count": 2,
   "metadata": {},
   "outputs": [],
   "source": [
    "data_treino = pd.read_csv('dataset_treino.csv', na_filter=False)\n",
    "data_teste = pd.read_csv('dataset_teste.csv', na_filter=False)"
   ]
  },
  {
   "cell_type": "code",
   "execution_count": 3,
   "metadata": {},
   "outputs": [
    {
     "name": "stdout",
     "output_type": "stream",
     "text": [
      "<class 'pandas.core.frame.DataFrame'>\n",
      "RangeIndex: 11016 entries, 0 to 11015\n",
      "Data columns (total 15 columns):\n",
      " #   Column                   Non-Null Count  Dtype  \n",
      "---  ------                   --------------  -----  \n",
      " 0   Data                     11016 non-null  object \n",
      " 1   Normal (kWh)             11016 non-null  float64\n",
      " 2   Horário Económico (kWh)  11016 non-null  float64\n",
      " 3   Autoconsumo (kWh)        11016 non-null  float64\n",
      " 4   Injeção na rede (kWh)    11016 non-null  object \n",
      " 5   temp                     11016 non-null  float64\n",
      " 6   feels_like               11016 non-null  float64\n",
      " 7   temp_min                 11016 non-null  float64\n",
      " 8   temp_max                 11016 non-null  float64\n",
      " 9   pressure                 11016 non-null  int64  \n",
      " 10  humidity                 11016 non-null  int64  \n",
      " 11  wind_speed               11016 non-null  float64\n",
      " 12  rain_1h                  11016 non-null  float64\n",
      " 13  clouds_all               11016 non-null  int64  \n",
      " 14  weather_description      11016 non-null  object \n",
      "dtypes: float64(9), int64(3), object(3)\n",
      "memory usage: 1.3+ MB\n"
     ]
    }
   ],
   "source": [
    "data_treino.info()"
   ]
  },
  {
   "cell_type": "code",
   "execution_count": 4,
   "metadata": {},
   "outputs": [
    {
     "data": {
      "text/plain": [
       "Data                       2256\n",
       "Normal (kWh)                709\n",
       "Horário Económico (kWh)     490\n",
       "Autoconsumo (kWh)           485\n",
       "temp                       1039\n",
       "feels_like                 1198\n",
       "temp_min                    198\n",
       "temp_max                    208\n",
       "pressure                     31\n",
       "humidity                     73\n",
       "wind_speed                  563\n",
       "rain_1h                     134\n",
       "clouds_all                  100\n",
       "weather_description           8\n",
       "dtype: int64"
      ]
     },
     "execution_count": 4,
     "metadata": {},
     "output_type": "execute_result"
    }
   ],
   "source": [
    "data_teste.nunique()"
   ]
  },
  {
   "cell_type": "code",
   "execution_count": 5,
   "metadata": {},
   "outputs": [],
   "source": [
    "data_treino.drop(columns=['Data'], inplace=True)\n",
    "data_teste.drop(columns=['Data'], inplace=True)"
   ]
  },
  {
   "cell_type": "markdown",
   "metadata": {},
   "source": [
    "## One-Hot Encoding de **weather_description**"
   ]
  },
  {
   "cell_type": "code",
   "execution_count": 6,
   "metadata": {},
   "outputs": [
    {
     "name": "stdout",
     "output_type": "stream",
     "text": [
      "<class 'pandas.core.frame.DataFrame'>\n",
      "RangeIndex: 11016 entries, 0 to 11015\n",
      "Data columns (total 21 columns):\n",
      " #   Column                   Non-Null Count  Dtype  \n",
      "---  ------                   --------------  -----  \n",
      " 0   Normal (kWh)             11016 non-null  float64\n",
      " 1   Horário Económico (kWh)  11016 non-null  float64\n",
      " 2   Autoconsumo (kWh)        11016 non-null  float64\n",
      " 3   Injeção na rede (kWh)    11016 non-null  object \n",
      " 4   temp                     11016 non-null  float64\n",
      " 5   feels_like               11016 non-null  float64\n",
      " 6   temp_min                 11016 non-null  float64\n",
      " 7   temp_max                 11016 non-null  float64\n",
      " 8   pressure                 11016 non-null  int64  \n",
      " 9   humidity                 11016 non-null  int64  \n",
      " 10  wind_speed               11016 non-null  float64\n",
      " 11  rain_1h                  11016 non-null  float64\n",
      " 12  clouds_all               11016 non-null  int64  \n",
      " 13  broken clouds            11016 non-null  int32  \n",
      " 14  few clouds               11016 non-null  int32  \n",
      " 15  heavy intensity rain     11016 non-null  int32  \n",
      " 16  light rain               11016 non-null  int32  \n",
      " 17  moderate rain            11016 non-null  int32  \n",
      " 18  overcast clouds          11016 non-null  int32  \n",
      " 19  scattered clouds         11016 non-null  int32  \n",
      " 20  sky is clear             11016 non-null  int32  \n",
      "dtypes: float64(9), int32(8), int64(3), object(1)\n",
      "memory usage: 1.4+ MB\n"
     ]
    }
   ],
   "source": [
    "from sklearn.preprocessing import LabelBinarizer\n",
    "\n",
    "lb = LabelBinarizer()\n",
    "lb_results = lb.fit_transform(data_treino['weather_description'])\n",
    "lb_results_df = pd.DataFrame(lb_results, columns=lb.classes_)\n",
    "\n",
    "data_treino = pd.concat([data_treino, lb_results_df], axis=1)\n",
    "data_treino.drop(columns=['weather_description'], inplace=True)\n",
    "data_treino.info()"
   ]
  },
  {
   "cell_type": "code",
   "execution_count": 7,
   "metadata": {},
   "outputs": [
    {
     "name": "stdout",
     "output_type": "stream",
     "text": [
      "<class 'pandas.core.frame.DataFrame'>\n",
      "RangeIndex: 2256 entries, 0 to 2255\n",
      "Data columns (total 20 columns):\n",
      " #   Column                   Non-Null Count  Dtype  \n",
      "---  ------                   --------------  -----  \n",
      " 0   Normal (kWh)             2256 non-null   float64\n",
      " 1   Horário Económico (kWh)  2256 non-null   float64\n",
      " 2   Autoconsumo (kWh)        2256 non-null   float64\n",
      " 3   temp                     2256 non-null   float64\n",
      " 4   feels_like               2256 non-null   float64\n",
      " 5   temp_min                 2256 non-null   float64\n",
      " 6   temp_max                 2256 non-null   float64\n",
      " 7   pressure                 2256 non-null   int64  \n",
      " 8   humidity                 2256 non-null   int64  \n",
      " 9   wind_speed               2256 non-null   float64\n",
      " 10  rain_1h                  2256 non-null   float64\n",
      " 11  clouds_all               2256 non-null   int64  \n",
      " 12  broken clouds            2256 non-null   int32  \n",
      " 13  few clouds               2256 non-null   int32  \n",
      " 14  heavy intensity rain     2256 non-null   int32  \n",
      " 15  light rain               2256 non-null   int32  \n",
      " 16  moderate rain            2256 non-null   int32  \n",
      " 17  overcast clouds          2256 non-null   int32  \n",
      " 18  scattered clouds         2256 non-null   int32  \n",
      " 19  sky is clear             2256 non-null   int32  \n",
      "dtypes: float64(9), int32(8), int64(3)\n",
      "memory usage: 282.1 KB\n"
     ]
    }
   ],
   "source": [
    "lb = LabelBinarizer()\n",
    "lb_results = lb.fit_transform(data_teste['weather_description'])\n",
    "lb_results_df = pd.DataFrame(lb_results, columns=lb.classes_)\n",
    "\n",
    "data_teste = pd.concat([data_teste, lb_results_df], axis=1)\n",
    "data_teste.drop(columns=['weather_description'], inplace=True)\n",
    "data_teste.info()"
   ]
  },
  {
   "cell_type": "markdown",
   "metadata": {},
   "source": [
    "### Conversão de types 64 para types 32"
   ]
  },
  {
   "cell_type": "code",
   "execution_count": 8,
   "metadata": {},
   "outputs": [
    {
     "name": "stdout",
     "output_type": "stream",
     "text": [
      "<class 'pandas.core.frame.DataFrame'>\n",
      "RangeIndex: 11016 entries, 0 to 11015\n",
      "Data columns (total 21 columns):\n",
      " #   Column                   Non-Null Count  Dtype  \n",
      "---  ------                   --------------  -----  \n",
      " 0   Normal (kWh)             11016 non-null  float32\n",
      " 1   Horário Económico (kWh)  11016 non-null  float32\n",
      " 2   Autoconsumo (kWh)        11016 non-null  float32\n",
      " 3   Injeção na rede (kWh)    11016 non-null  object \n",
      " 4   temp                     11016 non-null  float32\n",
      " 5   feels_like               11016 non-null  float32\n",
      " 6   temp_min                 11016 non-null  float32\n",
      " 7   temp_max                 11016 non-null  float32\n",
      " 8   pressure                 11016 non-null  int32  \n",
      " 9   humidity                 11016 non-null  int32  \n",
      " 10  wind_speed               11016 non-null  float32\n",
      " 11  rain_1h                  11016 non-null  float32\n",
      " 12  clouds_all               11016 non-null  int32  \n",
      " 13  broken clouds            11016 non-null  int32  \n",
      " 14  few clouds               11016 non-null  int32  \n",
      " 15  heavy intensity rain     11016 non-null  int32  \n",
      " 16  light rain               11016 non-null  int32  \n",
      " 17  moderate rain            11016 non-null  int32  \n",
      " 18  overcast clouds          11016 non-null  int32  \n",
      " 19  scattered clouds         11016 non-null  int32  \n",
      " 20  sky is clear             11016 non-null  int32  \n",
      "dtypes: float32(9), int32(11), object(1)\n",
      "memory usage: 946.8+ KB\n"
     ]
    }
   ],
   "source": [
    "float_features = data_treino.select_dtypes(include='float')\n",
    "int_features = data_treino.select_dtypes(include='int')\n",
    "\n",
    "data_treino[float_features.columns] = data_treino[float_features.columns].astype(np.float32)\n",
    "data_treino[int_features.columns] = data_treino[int_features.columns].astype(np.int32)\n",
    "data_treino.info()"
   ]
  },
  {
   "cell_type": "code",
   "execution_count": 9,
   "metadata": {},
   "outputs": [
    {
     "name": "stdout",
     "output_type": "stream",
     "text": [
      "<class 'pandas.core.frame.DataFrame'>\n",
      "RangeIndex: 2256 entries, 0 to 2255\n",
      "Data columns (total 20 columns):\n",
      " #   Column                   Non-Null Count  Dtype  \n",
      "---  ------                   --------------  -----  \n",
      " 0   Normal (kWh)             2256 non-null   float32\n",
      " 1   Horário Económico (kWh)  2256 non-null   float32\n",
      " 2   Autoconsumo (kWh)        2256 non-null   float32\n",
      " 3   temp                     2256 non-null   float32\n",
      " 4   feels_like               2256 non-null   float32\n",
      " 5   temp_min                 2256 non-null   float32\n",
      " 6   temp_max                 2256 non-null   float32\n",
      " 7   pressure                 2256 non-null   int32  \n",
      " 8   humidity                 2256 non-null   int32  \n",
      " 9   wind_speed               2256 non-null   float32\n",
      " 10  rain_1h                  2256 non-null   float32\n",
      " 11  clouds_all               2256 non-null   int32  \n",
      " 12  broken clouds            2256 non-null   int32  \n",
      " 13  few clouds               2256 non-null   int32  \n",
      " 14  heavy intensity rain     2256 non-null   int32  \n",
      " 15  light rain               2256 non-null   int32  \n",
      " 16  moderate rain            2256 non-null   int32  \n",
      " 17  overcast clouds          2256 non-null   int32  \n",
      " 18  scattered clouds         2256 non-null   int32  \n",
      " 19  sky is clear             2256 non-null   int32  \n",
      "dtypes: float32(9), int32(11)\n",
      "memory usage: 176.4 KB\n"
     ]
    }
   ],
   "source": [
    "float_features = data_teste.select_dtypes(include='float')\n",
    "int_features = data_teste.select_dtypes(include='int')\n",
    "\n",
    "data_teste[float_features.columns] = data_teste[float_features.columns].astype(np.float32)\n",
    "data_teste[int_features.columns] = data_teste[int_features.columns].astype(np.int32)\n",
    "data_teste.info()"
   ]
  },
  {
   "cell_type": "markdown",
   "metadata": {},
   "source": [
    "### Normalize data"
   ]
  },
  {
   "cell_type": "code",
   "execution_count": 10,
   "metadata": {},
   "outputs": [
    {
     "data": {
      "text/html": [
       "<div>\n",
       "<style scoped>\n",
       "    .dataframe tbody tr th:only-of-type {\n",
       "        vertical-align: middle;\n",
       "    }\n",
       "\n",
       "    .dataframe tbody tr th {\n",
       "        vertical-align: top;\n",
       "    }\n",
       "\n",
       "    .dataframe thead th {\n",
       "        text-align: right;\n",
       "    }\n",
       "</style>\n",
       "<table border=\"1\" class=\"dataframe\">\n",
       "  <thead>\n",
       "    <tr style=\"text-align: right;\">\n",
       "      <th></th>\n",
       "      <th>Normal (kWh)</th>\n",
       "      <th>Horário Económico (kWh)</th>\n",
       "      <th>Autoconsumo (kWh)</th>\n",
       "      <th>temp</th>\n",
       "      <th>feels_like</th>\n",
       "      <th>temp_min</th>\n",
       "      <th>temp_max</th>\n",
       "      <th>pressure</th>\n",
       "      <th>humidity</th>\n",
       "      <th>wind_speed</th>\n",
       "      <th>...</th>\n",
       "      <th>clouds_all</th>\n",
       "      <th>broken clouds</th>\n",
       "      <th>few clouds</th>\n",
       "      <th>heavy intensity rain</th>\n",
       "      <th>light rain</th>\n",
       "      <th>moderate rain</th>\n",
       "      <th>overcast clouds</th>\n",
       "      <th>scattered clouds</th>\n",
       "      <th>sky is clear</th>\n",
       "      <th>Injeção na rede (kWh)</th>\n",
       "    </tr>\n",
       "  </thead>\n",
       "  <tbody>\n",
       "    <tr>\n",
       "      <th>0</th>\n",
       "      <td>0.0</td>\n",
       "      <td>0.0</td>\n",
       "      <td>0.0</td>\n",
       "      <td>0.336788</td>\n",
       "      <td>0.361443</td>\n",
       "      <td>0.323608</td>\n",
       "      <td>0.316800</td>\n",
       "      <td>0.825</td>\n",
       "      <td>0.765432</td>\n",
       "      <td>0.172101</td>\n",
       "      <td>...</td>\n",
       "      <td>0.87</td>\n",
       "      <td>0.0</td>\n",
       "      <td>0.0</td>\n",
       "      <td>0.0</td>\n",
       "      <td>0.0</td>\n",
       "      <td>0.0</td>\n",
       "      <td>1.0</td>\n",
       "      <td>0.0</td>\n",
       "      <td>0.0</td>\n",
       "      <td>None</td>\n",
       "    </tr>\n",
       "    <tr>\n",
       "      <th>1</th>\n",
       "      <td>0.0</td>\n",
       "      <td>0.0</td>\n",
       "      <td>0.0</td>\n",
       "      <td>0.324698</td>\n",
       "      <td>0.349494</td>\n",
       "      <td>0.376606</td>\n",
       "      <td>0.313310</td>\n",
       "      <td>0.850</td>\n",
       "      <td>0.777778</td>\n",
       "      <td>0.160326</td>\n",
       "      <td>...</td>\n",
       "      <td>0.91</td>\n",
       "      <td>0.0</td>\n",
       "      <td>0.0</td>\n",
       "      <td>0.0</td>\n",
       "      <td>0.0</td>\n",
       "      <td>0.0</td>\n",
       "      <td>1.0</td>\n",
       "      <td>0.0</td>\n",
       "      <td>0.0</td>\n",
       "      <td>None</td>\n",
       "    </tr>\n",
       "    <tr>\n",
       "      <th>2</th>\n",
       "      <td>0.0</td>\n",
       "      <td>0.0</td>\n",
       "      <td>0.0</td>\n",
       "      <td>0.311128</td>\n",
       "      <td>0.336857</td>\n",
       "      <td>0.357602</td>\n",
       "      <td>0.301595</td>\n",
       "      <td>0.825</td>\n",
       "      <td>0.802469</td>\n",
       "      <td>0.172101</td>\n",
       "      <td>...</td>\n",
       "      <td>0.93</td>\n",
       "      <td>0.0</td>\n",
       "      <td>0.0</td>\n",
       "      <td>0.0</td>\n",
       "      <td>0.0</td>\n",
       "      <td>0.0</td>\n",
       "      <td>1.0</td>\n",
       "      <td>0.0</td>\n",
       "      <td>0.0</td>\n",
       "      <td>None</td>\n",
       "    </tr>\n",
       "    <tr>\n",
       "      <th>3</th>\n",
       "      <td>0.0</td>\n",
       "      <td>0.0</td>\n",
       "      <td>0.0</td>\n",
       "      <td>0.303232</td>\n",
       "      <td>0.329504</td>\n",
       "      <td>0.293897</td>\n",
       "      <td>0.289133</td>\n",
       "      <td>0.825</td>\n",
       "      <td>0.814815</td>\n",
       "      <td>0.162138</td>\n",
       "      <td>...</td>\n",
       "      <td>0.95</td>\n",
       "      <td>0.0</td>\n",
       "      <td>0.0</td>\n",
       "      <td>0.0</td>\n",
       "      <td>0.0</td>\n",
       "      <td>0.0</td>\n",
       "      <td>1.0</td>\n",
       "      <td>0.0</td>\n",
       "      <td>0.0</td>\n",
       "      <td>None</td>\n",
       "    </tr>\n",
       "    <tr>\n",
       "      <th>4</th>\n",
       "      <td>0.0</td>\n",
       "      <td>0.0</td>\n",
       "      <td>0.0</td>\n",
       "      <td>0.303232</td>\n",
       "      <td>0.329963</td>\n",
       "      <td>0.279176</td>\n",
       "      <td>0.289133</td>\n",
       "      <td>0.825</td>\n",
       "      <td>0.827160</td>\n",
       "      <td>0.160326</td>\n",
       "      <td>...</td>\n",
       "      <td>0.93</td>\n",
       "      <td>0.0</td>\n",
       "      <td>0.0</td>\n",
       "      <td>0.0</td>\n",
       "      <td>0.0</td>\n",
       "      <td>0.0</td>\n",
       "      <td>1.0</td>\n",
       "      <td>0.0</td>\n",
       "      <td>0.0</td>\n",
       "      <td>None</td>\n",
       "    </tr>\n",
       "  </tbody>\n",
       "</table>\n",
       "<p>5 rows × 21 columns</p>\n",
       "</div>"
      ],
      "text/plain": [
       "   Normal (kWh)  Horário Económico (kWh)  Autoconsumo (kWh)      temp  \\\n",
       "0           0.0                      0.0                0.0  0.336788   \n",
       "1           0.0                      0.0                0.0  0.324698   \n",
       "2           0.0                      0.0                0.0  0.311128   \n",
       "3           0.0                      0.0                0.0  0.303232   \n",
       "4           0.0                      0.0                0.0  0.303232   \n",
       "\n",
       "   feels_like  temp_min  temp_max  pressure  humidity  wind_speed  ...  \\\n",
       "0    0.361443  0.323608  0.316800     0.825  0.765432    0.172101  ...   \n",
       "1    0.349494  0.376606  0.313310     0.850  0.777778    0.160326  ...   \n",
       "2    0.336857  0.357602  0.301595     0.825  0.802469    0.172101  ...   \n",
       "3    0.329504  0.293897  0.289133     0.825  0.814815    0.162138  ...   \n",
       "4    0.329963  0.279176  0.289133     0.825  0.827160    0.160326  ...   \n",
       "\n",
       "   clouds_all  broken clouds  few clouds  heavy intensity rain  light rain  \\\n",
       "0        0.87            0.0         0.0                   0.0         0.0   \n",
       "1        0.91            0.0         0.0                   0.0         0.0   \n",
       "2        0.93            0.0         0.0                   0.0         0.0   \n",
       "3        0.95            0.0         0.0                   0.0         0.0   \n",
       "4        0.93            0.0         0.0                   0.0         0.0   \n",
       "\n",
       "   moderate rain  overcast clouds  scattered clouds  sky is clear  \\\n",
       "0            0.0              1.0               0.0           0.0   \n",
       "1            0.0              1.0               0.0           0.0   \n",
       "2            0.0              1.0               0.0           0.0   \n",
       "3            0.0              1.0               0.0           0.0   \n",
       "4            0.0              1.0               0.0           0.0   \n",
       "\n",
       "   Injeção na rede (kWh)  \n",
       "0                   None  \n",
       "1                   None  \n",
       "2                   None  \n",
       "3                   None  \n",
       "4                   None  \n",
       "\n",
       "[5 rows x 21 columns]"
      ]
     },
     "execution_count": 10,
     "metadata": {},
     "output_type": "execute_result"
    }
   ],
   "source": [
    "from sklearn.preprocessing import MinMaxScaler\n",
    "data_treino_normalize = data_treino.copy()\n",
    "data_teste_normalize = data_teste.copy()\n",
    "\n",
    "X_scale = data_treino_normalize.drop(columns=['Injeção na rede (kWh)'])\n",
    "\n",
    "scaler_X = MinMaxScaler(feature_range=(0,1)).fit(X_scale)\n",
    "scaler_y = MinMaxScaler(feature_range=(0,1)).fit(data_teste_normalize)\n",
    "X_scale = pd.DataFrame(scaler_X.transform(X_scale[X_scale.columns]), columns=X_scale.columns)\n",
    "data_teste_normalize = pd.DataFrame(scaler_y.transform(data_teste_normalize[data_teste_normalize.columns]), columns=data_teste_normalize.columns)\n",
    "\n",
    "data_treino_normalize = pd.concat([X_scale, data_treino_normalize['Injeção na rede (kWh)']], axis=1)\n",
    "\n",
    "data_treino_normalize.head()"
   ]
  },
  {
   "cell_type": "markdown",
   "metadata": {},
   "source": [
    "### Conversão de types 64 para types 32 no normalize"
   ]
  },
  {
   "cell_type": "code",
   "execution_count": 11,
   "metadata": {},
   "outputs": [
    {
     "name": "stdout",
     "output_type": "stream",
     "text": [
      "<class 'pandas.core.frame.DataFrame'>\n",
      "RangeIndex: 11016 entries, 0 to 11015\n",
      "Data columns (total 21 columns):\n",
      " #   Column                   Non-Null Count  Dtype  \n",
      "---  ------                   --------------  -----  \n",
      " 0   Normal (kWh)             11016 non-null  float32\n",
      " 1   Horário Económico (kWh)  11016 non-null  float32\n",
      " 2   Autoconsumo (kWh)        11016 non-null  float32\n",
      " 3   temp                     11016 non-null  float32\n",
      " 4   feels_like               11016 non-null  float32\n",
      " 5   temp_min                 11016 non-null  float32\n",
      " 6   temp_max                 11016 non-null  float32\n",
      " 7   pressure                 11016 non-null  float32\n",
      " 8   humidity                 11016 non-null  float32\n",
      " 9   wind_speed               11016 non-null  float32\n",
      " 10  rain_1h                  11016 non-null  float32\n",
      " 11  clouds_all               11016 non-null  float32\n",
      " 12  broken clouds            11016 non-null  float32\n",
      " 13  few clouds               11016 non-null  float32\n",
      " 14  heavy intensity rain     11016 non-null  float32\n",
      " 15  light rain               11016 non-null  float32\n",
      " 16  moderate rain            11016 non-null  float32\n",
      " 17  overcast clouds          11016 non-null  float32\n",
      " 18  scattered clouds         11016 non-null  float32\n",
      " 19  sky is clear             11016 non-null  float32\n",
      " 20  Injeção na rede (kWh)    11016 non-null  object \n",
      "dtypes: float32(20), object(1)\n",
      "memory usage: 946.8+ KB\n"
     ]
    }
   ],
   "source": [
    "float_features_normalize = data_treino_normalize.select_dtypes(include='float')\n",
    "\n",
    "data_treino_normalize[float_features_normalize.columns] = data_treino_normalize[float_features_normalize.columns].astype(np.float32)\n",
    "data_treino_normalize.info()"
   ]
  },
  {
   "cell_type": "code",
   "execution_count": 12,
   "metadata": {},
   "outputs": [
    {
     "name": "stdout",
     "output_type": "stream",
     "text": [
      "<class 'pandas.core.frame.DataFrame'>\n",
      "RangeIndex: 2256 entries, 0 to 2255\n",
      "Data columns (total 20 columns):\n",
      " #   Column                   Non-Null Count  Dtype  \n",
      "---  ------                   --------------  -----  \n",
      " 0   Normal (kWh)             2256 non-null   float32\n",
      " 1   Horário Económico (kWh)  2256 non-null   float32\n",
      " 2   Autoconsumo (kWh)        2256 non-null   float32\n",
      " 3   temp                     2256 non-null   float32\n",
      " 4   feels_like               2256 non-null   float32\n",
      " 5   temp_min                 2256 non-null   float32\n",
      " 6   temp_max                 2256 non-null   float32\n",
      " 7   pressure                 2256 non-null   float32\n",
      " 8   humidity                 2256 non-null   float32\n",
      " 9   wind_speed               2256 non-null   float32\n",
      " 10  rain_1h                  2256 non-null   float32\n",
      " 11  clouds_all               2256 non-null   float32\n",
      " 12  broken clouds            2256 non-null   float32\n",
      " 13  few clouds               2256 non-null   float32\n",
      " 14  heavy intensity rain     2256 non-null   float32\n",
      " 15  light rain               2256 non-null   float32\n",
      " 16  moderate rain            2256 non-null   float32\n",
      " 17  overcast clouds          2256 non-null   float32\n",
      " 18  scattered clouds         2256 non-null   float32\n",
      " 19  sky is clear             2256 non-null   float32\n",
      "dtypes: float32(20)\n",
      "memory usage: 176.4 KB\n"
     ]
    }
   ],
   "source": [
    "float_features_normalize = data_teste_normalize.select_dtypes(include='float')\n",
    "\n",
    "data_teste_normalize[float_features_normalize.columns] = data_teste_normalize[float_features_normalize.columns].astype(np.float32)\n",
    "data_teste_normalize.info()"
   ]
  },
  {
   "cell_type": "code",
   "execution_count": 13,
   "metadata": {},
   "outputs": [
    {
     "data": {
      "text/html": [
       "<div>\n",
       "<style scoped>\n",
       "    .dataframe tbody tr th:only-of-type {\n",
       "        vertical-align: middle;\n",
       "    }\n",
       "\n",
       "    .dataframe tbody tr th {\n",
       "        vertical-align: top;\n",
       "    }\n",
       "\n",
       "    .dataframe thead th {\n",
       "        text-align: right;\n",
       "    }\n",
       "</style>\n",
       "<table border=\"1\" class=\"dataframe\">\n",
       "  <thead>\n",
       "    <tr style=\"text-align: right;\">\n",
       "      <th></th>\n",
       "      <th>Normal (kWh)</th>\n",
       "      <th>Horário Económico (kWh)</th>\n",
       "      <th>Autoconsumo (kWh)</th>\n",
       "      <th>temp</th>\n",
       "      <th>feels_like</th>\n",
       "      <th>temp_min</th>\n",
       "      <th>temp_max</th>\n",
       "      <th>pressure</th>\n",
       "      <th>humidity</th>\n",
       "      <th>wind_speed</th>\n",
       "      <th>...</th>\n",
       "      <th>clouds_all</th>\n",
       "      <th>broken clouds</th>\n",
       "      <th>few clouds</th>\n",
       "      <th>heavy intensity rain</th>\n",
       "      <th>light rain</th>\n",
       "      <th>moderate rain</th>\n",
       "      <th>overcast clouds</th>\n",
       "      <th>scattered clouds</th>\n",
       "      <th>sky is clear</th>\n",
       "      <th>Injeção na rede (kWh)</th>\n",
       "    </tr>\n",
       "  </thead>\n",
       "  <tbody>\n",
       "    <tr>\n",
       "      <th>0</th>\n",
       "      <td>0.0</td>\n",
       "      <td>0.0</td>\n",
       "      <td>0.0</td>\n",
       "      <td>0.336788</td>\n",
       "      <td>0.361443</td>\n",
       "      <td>0.323608</td>\n",
       "      <td>0.316800</td>\n",
       "      <td>0.825</td>\n",
       "      <td>0.765432</td>\n",
       "      <td>0.172101</td>\n",
       "      <td>...</td>\n",
       "      <td>0.87</td>\n",
       "      <td>0.0</td>\n",
       "      <td>0.0</td>\n",
       "      <td>0.0</td>\n",
       "      <td>0.0</td>\n",
       "      <td>0.0</td>\n",
       "      <td>1.0</td>\n",
       "      <td>0.0</td>\n",
       "      <td>0.0</td>\n",
       "      <td>None</td>\n",
       "    </tr>\n",
       "    <tr>\n",
       "      <th>1</th>\n",
       "      <td>0.0</td>\n",
       "      <td>0.0</td>\n",
       "      <td>0.0</td>\n",
       "      <td>0.324698</td>\n",
       "      <td>0.349494</td>\n",
       "      <td>0.376606</td>\n",
       "      <td>0.313310</td>\n",
       "      <td>0.850</td>\n",
       "      <td>0.777778</td>\n",
       "      <td>0.160326</td>\n",
       "      <td>...</td>\n",
       "      <td>0.91</td>\n",
       "      <td>0.0</td>\n",
       "      <td>0.0</td>\n",
       "      <td>0.0</td>\n",
       "      <td>0.0</td>\n",
       "      <td>0.0</td>\n",
       "      <td>1.0</td>\n",
       "      <td>0.0</td>\n",
       "      <td>0.0</td>\n",
       "      <td>None</td>\n",
       "    </tr>\n",
       "    <tr>\n",
       "      <th>2</th>\n",
       "      <td>0.0</td>\n",
       "      <td>0.0</td>\n",
       "      <td>0.0</td>\n",
       "      <td>0.311128</td>\n",
       "      <td>0.336857</td>\n",
       "      <td>0.357602</td>\n",
       "      <td>0.301595</td>\n",
       "      <td>0.825</td>\n",
       "      <td>0.802469</td>\n",
       "      <td>0.172101</td>\n",
       "      <td>...</td>\n",
       "      <td>0.93</td>\n",
       "      <td>0.0</td>\n",
       "      <td>0.0</td>\n",
       "      <td>0.0</td>\n",
       "      <td>0.0</td>\n",
       "      <td>0.0</td>\n",
       "      <td>1.0</td>\n",
       "      <td>0.0</td>\n",
       "      <td>0.0</td>\n",
       "      <td>None</td>\n",
       "    </tr>\n",
       "    <tr>\n",
       "      <th>3</th>\n",
       "      <td>0.0</td>\n",
       "      <td>0.0</td>\n",
       "      <td>0.0</td>\n",
       "      <td>0.303232</td>\n",
       "      <td>0.329504</td>\n",
       "      <td>0.293897</td>\n",
       "      <td>0.289133</td>\n",
       "      <td>0.825</td>\n",
       "      <td>0.814815</td>\n",
       "      <td>0.162138</td>\n",
       "      <td>...</td>\n",
       "      <td>0.95</td>\n",
       "      <td>0.0</td>\n",
       "      <td>0.0</td>\n",
       "      <td>0.0</td>\n",
       "      <td>0.0</td>\n",
       "      <td>0.0</td>\n",
       "      <td>1.0</td>\n",
       "      <td>0.0</td>\n",
       "      <td>0.0</td>\n",
       "      <td>None</td>\n",
       "    </tr>\n",
       "    <tr>\n",
       "      <th>4</th>\n",
       "      <td>0.0</td>\n",
       "      <td>0.0</td>\n",
       "      <td>0.0</td>\n",
       "      <td>0.303232</td>\n",
       "      <td>0.329963</td>\n",
       "      <td>0.279176</td>\n",
       "      <td>0.289133</td>\n",
       "      <td>0.825</td>\n",
       "      <td>0.827160</td>\n",
       "      <td>0.160326</td>\n",
       "      <td>...</td>\n",
       "      <td>0.93</td>\n",
       "      <td>0.0</td>\n",
       "      <td>0.0</td>\n",
       "      <td>0.0</td>\n",
       "      <td>0.0</td>\n",
       "      <td>0.0</td>\n",
       "      <td>1.0</td>\n",
       "      <td>0.0</td>\n",
       "      <td>0.0</td>\n",
       "      <td>None</td>\n",
       "    </tr>\n",
       "  </tbody>\n",
       "</table>\n",
       "<p>5 rows × 21 columns</p>\n",
       "</div>"
      ],
      "text/plain": [
       "   Normal (kWh)  Horário Económico (kWh)  Autoconsumo (kWh)      temp  \\\n",
       "0           0.0                      0.0                0.0  0.336788   \n",
       "1           0.0                      0.0                0.0  0.324698   \n",
       "2           0.0                      0.0                0.0  0.311128   \n",
       "3           0.0                      0.0                0.0  0.303232   \n",
       "4           0.0                      0.0                0.0  0.303232   \n",
       "\n",
       "   feels_like  temp_min  temp_max  pressure  humidity  wind_speed  ...  \\\n",
       "0    0.361443  0.323608  0.316800     0.825  0.765432    0.172101  ...   \n",
       "1    0.349494  0.376606  0.313310     0.850  0.777778    0.160326  ...   \n",
       "2    0.336857  0.357602  0.301595     0.825  0.802469    0.172101  ...   \n",
       "3    0.329504  0.293897  0.289133     0.825  0.814815    0.162138  ...   \n",
       "4    0.329963  0.279176  0.289133     0.825  0.827160    0.160326  ...   \n",
       "\n",
       "   clouds_all  broken clouds  few clouds  heavy intensity rain  light rain  \\\n",
       "0        0.87            0.0         0.0                   0.0         0.0   \n",
       "1        0.91            0.0         0.0                   0.0         0.0   \n",
       "2        0.93            0.0         0.0                   0.0         0.0   \n",
       "3        0.95            0.0         0.0                   0.0         0.0   \n",
       "4        0.93            0.0         0.0                   0.0         0.0   \n",
       "\n",
       "   moderate rain  overcast clouds  scattered clouds  sky is clear  \\\n",
       "0            0.0              1.0               0.0           0.0   \n",
       "1            0.0              1.0               0.0           0.0   \n",
       "2            0.0              1.0               0.0           0.0   \n",
       "3            0.0              1.0               0.0           0.0   \n",
       "4            0.0              1.0               0.0           0.0   \n",
       "\n",
       "   Injeção na rede (kWh)  \n",
       "0                   None  \n",
       "1                   None  \n",
       "2                   None  \n",
       "3                   None  \n",
       "4                   None  \n",
       "\n",
       "[5 rows x 21 columns]"
      ]
     },
     "execution_count": 13,
     "metadata": {},
     "output_type": "execute_result"
    }
   ],
   "source": [
    "data_treino_normalize.head()"
   ]
  },
  {
   "cell_type": "markdown",
   "metadata": {},
   "source": [
    "# Modelação"
   ]
  },
  {
   "cell_type": "code",
   "execution_count": 14,
   "metadata": {},
   "outputs": [],
   "source": [
    "from sklearn.metrics import classification_report, ConfusionMatrixDisplay\n",
    "\n",
    "from sklearn.model_selection import cross_val_score\n",
    "from sklearn.model_selection import GridSearchCV"
   ]
  },
  {
   "cell_type": "code",
   "execution_count": 15,
   "metadata": {},
   "outputs": [],
   "source": [
    "X_treino = data_treino.drop(columns=['Injeção na rede (kWh)'])\n",
    "y_treino = data_treino['Injeção na rede (kWh)']\n",
    "\n",
    "X_teste = data_teste\n",
    "\n",
    "\n",
    "X_treino_normalize = data_treino_normalize.drop(columns=['Injeção na rede (kWh)'])\n",
    "y_treino_normalize = data_treino_normalize['Injeção na rede (kWh)']\n",
    "\n",
    "X_teste_normalize = data_teste_normalize"
   ]
  },
  {
   "cell_type": "markdown",
   "metadata": {},
   "source": [
    "### Train Test Split"
   ]
  },
  {
   "cell_type": "code",
   "execution_count": 16,
   "metadata": {},
   "outputs": [],
   "source": [
    "from sklearn.model_selection import train_test_split\n",
    "\n",
    "X_train, X_test, y_train, y_test = train_test_split(X_treino, y_treino, test_size=0.25, random_state=2023, stratify=y_treino)\n",
    "X_train_normalize, X_test_normalize, y_train_normalize, y_test_normalize = train_test_split(X_treino_normalize, y_treino_normalize, test_size=0.25, random_state=2023, stratify=y_treino_normalize)"
   ]
  },
  {
   "cell_type": "markdown",
   "metadata": {},
   "source": [
    "## Decision Tree Classifier"
   ]
  },
  {
   "cell_type": "code",
   "execution_count": 51,
   "metadata": {},
   "outputs": [],
   "source": [
    "from sklearn.tree import DecisionTreeClassifier"
   ]
  },
  {
   "cell_type": "code",
   "execution_count": 52,
   "metadata": {},
   "outputs": [],
   "source": [
    "dtc = DecisionTreeClassifier(random_state=2023)\n",
    "dtc.fit(X_treino, y_treino)\n",
    "\n",
    "predictionDTC = dtc.predict(X_teste)"
   ]
  },
  {
   "cell_type": "markdown",
   "metadata": {},
   "source": [
    "## Support Vector Classifier"
   ]
  },
  {
   "cell_type": "code",
   "execution_count": 53,
   "metadata": {},
   "outputs": [],
   "source": [
    "from sklearn.svm import SVC"
   ]
  },
  {
   "cell_type": "markdown",
   "metadata": {},
   "source": [
    "### Grid Search"
   ]
  },
  {
   "cell_type": "code",
   "execution_count": 12,
   "metadata": {},
   "outputs": [
    {
     "name": "stdout",
     "output_type": "stream",
     "text": [
      "Fitting 3 folds for each of 8 candidates, totalling 24 fits\n",
      "[CV 1/3] END ....C=0.1, gamma=0.01, kernel=poly;, score=0.838 total time=  21.8s\n",
      "[CV 2/3] END ....C=0.1, gamma=0.01, kernel=poly;, score=0.819 total time=  23.3s\n",
      "[CV 3/3] END ....C=0.1, gamma=0.01, kernel=poly;, score=0.827 total time=  28.4s\n",
      "[CV 1/3] END ..C=0.1, gamma=0.01, kernel=linear;, score=0.826 total time=   1.1s\n",
      "[CV 2/3] END ..C=0.1, gamma=0.01, kernel=linear;, score=0.813 total time=   1.1s\n",
      "[CV 3/3] END ..C=0.1, gamma=0.01, kernel=linear;, score=0.814 total time=   1.2s\n",
      "[CV 1/3] END .....C=0.1, gamma=0.1, kernel=poly;, score=0.826 total time=  33.7s\n",
      "[CV 2/3] END .....C=0.1, gamma=0.1, kernel=poly;, score=0.826 total time=  33.4s\n",
      "[CV 3/3] END .....C=0.1, gamma=0.1, kernel=poly;, score=0.829 total time=  43.2s\n",
      "[CV 1/3] END ...C=0.1, gamma=0.1, kernel=linear;, score=0.826 total time=   1.2s\n",
      "[CV 2/3] END ...C=0.1, gamma=0.1, kernel=linear;, score=0.813 total time=   1.1s\n",
      "[CV 3/3] END ...C=0.1, gamma=0.1, kernel=linear;, score=0.814 total time=   1.1s\n",
      "[CV 1/3] END ......C=1, gamma=0.01, kernel=poly;, score=0.835 total time=  26.3s\n",
      "[CV 2/3] END ......C=1, gamma=0.01, kernel=poly;, score=0.824 total time=  27.6s\n",
      "[CV 3/3] END ......C=1, gamma=0.01, kernel=poly;, score=0.826 total time=  28.0s\n",
      "[CV 1/3] END ....C=1, gamma=0.01, kernel=linear;, score=0.838 total time=   2.7s\n",
      "[CV 2/3] END ....C=1, gamma=0.01, kernel=linear;, score=0.822 total time=   2.6s\n",
      "[CV 3/3] END ....C=1, gamma=0.01, kernel=linear;, score=0.821 total time=   2.6s\n"
     ]
    }
   ],
   "source": [
    "# svc = SVC(random_state=2023)\n",
    "\n",
    "# param_grid = {\n",
    "#     'C': [0.1, 1], \n",
    "#     'gamma': [A0.01, 0.1],\n",
    "#     'kernel': ['poly', 'linear']\n",
    "# }\n",
    "\n",
    "# grid_searchSVC = GridSearchCV(svc, param_grid, cv=3, refit=True, verbose=3)\n",
    "# grid_searchSVC.fit(X_train, y_train)\n",
    "# grid_predictionSVC = grid_searchSVC.predict(X_test)\n",
    "\n",
    "# print(\"Best estimator: \", grid_searchSVC.best_estimator_)\n",
    "\n",
    "# print(classification_report(y_test, grid_predictionSVC))\n",
    "# ConfusionMatrixDisplay.from_predictions(y_test, grid_predictionSVC)\n",
    "# plt.show()"
   ]
  },
  {
   "cell_type": "code",
   "execution_count": 65,
   "metadata": {},
   "outputs": [],
   "source": [
    "svc = SVC(C=0.1, gamma=0.01, kernel='poly', random_state=2023)\n",
    "svc.fit(X_treino, y_treino)\n",
    "\n",
    "predictionSVC = svc.predict(X_teste)"
   ]
  },
  {
   "cell_type": "markdown",
   "metadata": {},
   "source": [
    "## Gradient Boosting Machines"
   ]
  },
  {
   "cell_type": "code",
   "execution_count": 21,
   "metadata": {},
   "outputs": [],
   "source": [
    "from sklearn.ensemble import GradientBoostingClassifier"
   ]
  },
  {
   "cell_type": "markdown",
   "metadata": {},
   "source": [
    "### Grid Search para obter os melhores parâmetros"
   ]
  },
  {
   "cell_type": "code",
   "execution_count": 22,
   "metadata": {},
   "outputs": [
    {
     "name": "stdout",
     "output_type": "stream",
     "text": [
      "Fitting 3 folds for each of 1 candidates, totalling 3 fits\n",
      "[CV 1/3] END ..................................., score=0.853 total time=   5.0s\n",
      "[CV 2/3] END ..................................., score=0.838 total time=   5.0s\n",
      "[CV 3/3] END ..................................., score=0.848 total time=   4.9s\n",
      "Best estimator:  GradientBoostingClassifier(random_state=2023)\n",
      "              precision    recall  f1-score   support\n",
      "\n",
      "        High       0.56      0.68      0.61       276\n",
      "         Low       0.39      0.21      0.28       108\n",
      "      Medium       0.58      0.54      0.56       274\n",
      "        None       0.97      0.98      0.98      1944\n",
      "   Very High       0.63      0.57      0.60       152\n",
      "\n",
      "    accuracy                           0.86      2754\n",
      "   macro avg       0.63      0.60      0.61      2754\n",
      "weighted avg       0.85      0.86      0.85      2754\n",
      "\n"
     ]
    },
    {
     "data": {
      "image/png": "[encoded data removed]",
      "text/plain": [
       "<Figure size 640x480 with 2 Axes>"
      ]
     },
     "metadata": {},
     "output_type": "display_data"
    }
   ],
   "source": [
    "gbm = GradientBoostingClassifier(random_state=2023)\n",
    "\n",
    "param_grid = {\n",
    "}\n",
    "\n",
    "\n",
    "grid_searchGBM = GridSearchCV(gbm, param_grid, cv=3, refit=True, verbose=3)\n",
    "grid_searchGBM.fit(X_train_normalize, y_train_normalize)\n",
    "grid_predictionGBM = grid_searchGBM.predict(X_test_normalize)\n",
    "\n",
    "print(\"Best estimator: \", grid_searchGBM.best_estimator_)\n",
    "\n",
    "print(classification_report(y_test_normalize, grid_predictionGBM))\n",
    "ConfusionMatrixDisplay.from_predictions(y_test_normalize, grid_predictionGBM)\n",
    "plt.show()"
   ]
  },
  {
   "cell_type": "code",
   "execution_count": 23,
   "metadata": {},
   "outputs": [],
   "source": [
    "gbm = GradientBoostingClassifier(random_state=2023)\n",
    "gbm.fit(X_treino_normalize, y_treino_normalize)\n",
    "\n",
    "predictionGBM = gbm.predict(X_teste_normalize)"
   ]
  },
  {
   "cell_type": "markdown",
   "metadata": {},
   "source": [
    "## Multilayerd Perceptron"
   ]
  },
  {
   "cell_type": "code",
   "execution_count": 17,
   "metadata": {},
   "outputs": [],
   "source": [
    "import tensorflow as tf\n",
    "from tensorflow import keras\n",
    "from tensorflow.keras.models import Sequential\n",
    "from tensorflow.keras.layers import Dense#, Dropout, BatchNormalization\n",
    "from tensorflow.keras.utils import to_categorical\n",
    "from scikeras.wrappers import KerasRegressor#, KerasClassifier"
   ]
  },
  {
   "cell_type": "markdown",
   "metadata": {},
   "source": [
    "### Build Model"
   ]
  },
  {
   "cell_type": "code",
   "execution_count": 18,
   "metadata": {},
   "outputs": [
    {
     "data": {
      "text/plain": [
       "20"
      ]
     },
     "execution_count": 18,
     "metadata": {},
     "output_type": "execute_result"
    }
   ],
   "source": [
    "X_train_normalize.shape[1]"
   ]
  },
  {
   "cell_type": "code",
   "execution_count": 19,
   "metadata": {},
   "outputs": [],
   "source": [
    "def build_model(activation = 'softmax', learning_rate = 0.01, input_dim=20): # To get input_dim: X.shape[1]\n",
    "    model = Sequential()\n",
    "    model.add(Dense(16, input_dim=input_dim, activation=activation))\n",
    "    model.add(Dense(8, activation=activation))\n",
    "    model.add(Dense(1, activation=activation)) #output\n",
    "\n",
    "    # Compile the model\n",
    "\n",
    "    model.compile(\n",
    "        loss = 'categorical_crossentropy',\n",
    "        optimizer = tf.optimizers.Adam(learning_rate),\n",
    "        metrics = ['accuracy']\n",
    "    )\n",
    "    return model"
   ]
  },
  {
   "cell_type": "code",
   "execution_count": 20,
   "metadata": {},
   "outputs": [
    {
     "name": "stdout",
     "output_type": "stream",
     "text": [
      "Model: \"sequential\"\n",
      "_________________________________________________________________\n",
      " Layer (type)                Output Shape              Param #   \n",
      "=================================================================\n",
      " dense (Dense)               (None, 16)                336       \n",
      "                                                                 \n",
      " dense_1 (Dense)             (None, 8)                 136       \n",
      "                                                                 \n",
      " dense_2 (Dense)             (None, 1)                 9         \n",
      "                                                                 \n",
      "=================================================================\n",
      "Total params: 481\n",
      "Trainable params: 481\n",
      "Non-trainable params: 0\n",
      "_________________________________________________________________\n"
     ]
    }
   ],
   "source": [
    "model = build_model()\n",
    "model.summary()"
   ]
  },
  {
   "cell_type": "markdown",
   "metadata": {},
   "source": [
    "### Grid Search"
   ]
  },
  {
   "cell_type": "code",
   "execution_count": 21,
   "metadata": {},
   "outputs": [],
   "source": [
    "from sklearn.model_selection import KFold\n",
    "\n",
    "optimizer = ['SGD', 'RMSprop', 'Adagrad']\n",
    "param_grid = dict(optimizer = optimizer)\n",
    "\n",
    "kf = KFold(n_splits=3, shuffle=True, random_state=2023)\n",
    "\n",
    "model = KerasRegressor(model = build_model, batch_size=32, epochs=20)\n",
    "\n",
    "grid_search = GridSearchCV(estimator = model, param_grid = param_grid, cv = kf, scoring = 'accuracy', verbose=1, refit=True)"
   ]
  },
  {
   "cell_type": "markdown",
   "metadata": {},
   "source": [
    "### Label encoding da target feature"
   ]
  },
  {
   "cell_type": "code",
   "execution_count": 22,
   "metadata": {},
   "outputs": [],
   "source": [
    "replace_map = {'None': 0, 'Low': 1, 'Medium': 2, 'High': 3, 'Very High': 4}\n",
    "\n",
    "replace = np.vectorize(replace_map.get)\n",
    "\n",
    "y_train_normalize_1 = replace(y_train_normalize)\n",
    "y_test_normalize_1 = replace(y_test_normalize)\n",
    "y_train_normalize_1 = pd.Series(y_train_normalize_1, name='Injeção na rede (kWh)', index=y_train_normalize.index.tolist())\n",
    "y_test_normalize_1 = pd.Series(y_test_normalize_1, name='Injeção na rede (kWh)', index=y_test_normalize.index.tolist())"
   ]
  },
  {
   "cell_type": "markdown",
   "metadata": {},
   "source": [
    "### One-Hot Encoding da target feature (parece não funcionar)"
   ]
  },
  {
   "cell_type": "code",
   "execution_count": 23,
   "metadata": {},
   "outputs": [],
   "source": [
    "# y_train_normalize = to_categorical(y_train_normalize, 5)\n",
    "# y_test_normalize = to_categorical(y_test_normalize, 5)\n",
    "# y_train_normalize"
   ]
  },
  {
   "cell_type": "markdown",
   "metadata": {},
   "source": [
    "### Cenas"
   ]
  },
  {
   "cell_type": "code",
   "execution_count": 24,
   "metadata": {},
   "outputs": [],
   "source": [
    "y_train_encoded = y_train_normalize_1.to_numpy().reshape(-1, 1)\n",
    "y_test_encoded = y_test_normalize_1.to_numpy().reshape(-1, 1)"
   ]
  },
  {
   "cell_type": "code",
   "execution_count": 25,
   "metadata": {},
   "outputs": [
    {
     "name": "stderr",
     "output_type": "stream",
     "text": [
      "c:\\Users\\migue\\miniconda3\\envs\\daa\\lib\\site-packages\\sklearn\\preprocessing\\_encoders.py:972: FutureWarning: `sparse` was renamed to `sparse_output` in version 1.2 and will be removed in 1.4. `sparse_output` is ignored unless you leave `sparse` to its default value.\n",
      "  warnings.warn(\n"
     ]
    }
   ],
   "source": [
    "from sklearn.preprocessing import OneHotEncoder\n",
    "\n",
    "onehot_encoder = OneHotEncoder(sparse=False)\n",
    "y_train_categorical = onehot_encoder.fit_transform(y_train_encoded)\n",
    "y_test_categorical = onehot_encoder.transform(y_test_encoded)"
   ]
  },
  {
   "cell_type": "code",
   "execution_count": 26,
   "metadata": {},
   "outputs": [
    {
     "name": "stdout",
     "output_type": "stream",
     "text": [
      "Fitting 3 folds for each of 3 candidates, totalling 9 fits\n",
      "Epoch 1/20\n",
      "Epoch 1/20\n",
      "Epoch 1/20\n",
      "Epoch 1/20\n"
     ]
    },
    {
     "name": "stderr",
     "output_type": "stream",
     "text": [
      "c:\\Users\\migue\\miniconda3\\envs\\daa\\lib\\site-packages\\tensorflow\\python\\util\\dispatch.py:1176: SyntaxWarning: In loss categorical_crossentropy, expected y_pred.shape to be (batch_size, num_classes) with num_classes > 1. Received: y_pred.shape=(None, 1). Consider using 'binary_crossentropy' if you only have 2 classes.\n",
      "  return dispatch_target(*args, **kwargs)\n",
      "c:\\Users\\migue\\miniconda3\\envs\\daa\\lib\\site-packages\\tensorflow\\python\\util\\dispatch.py:1176: SyntaxWarning: In loss categorical_crossentropy, expected y_pred.shape to be (batch_size, num_classes) with num_classes > 1. Received: y_pred.shape=(None, 1). Consider using 'binary_crossentropy' if you only have 2 classes.\n",
      "  return dispatch_target(*args, **kwargs)\n",
      "c:\\Users\\migue\\miniconda3\\envs\\daa\\lib\\site-packages\\tensorflow\\python\\util\\dispatch.py:1176: SyntaxWarning: In loss categorical_crossentropy, expected y_pred.shape to be (batch_size, num_classes) with num_classes > 1. Received: y_pred.shape=(None, 1). Consider using 'binary_crossentropy' if you only have 2 classes.\n",
      "  return dispatch_target(*args, **kwargs)\n",
      "c:\\Users\\migue\\miniconda3\\envs\\daa\\lib\\site-packages\\tensorflow\\python\\util\\dispatch.py:1176: SyntaxWarning: In loss categorical_crossentropy, expected y_pred.shape to be (batch_size, num_classes) with num_classes > 1. Received: y_pred.shape=(None, 1). Consider using 'binary_crossentropy' if you only have 2 classes.\n",
      "  return dispatch_target(*args, **kwargs)\n"
     ]
    },
    {
     "name": "stdout",
     "output_type": "stream",
     "text": [
      "Epoch 1/20\n",
      "Epoch 1/20\n",
      "Epoch 1/20\n",
      "Epoch 1/20\n"
     ]
    },
    {
     "name": "stderr",
     "output_type": "stream",
     "text": [
      "c:\\Users\\migue\\miniconda3\\envs\\daa\\lib\\site-packages\\tensorflow\\python\\util\\dispatch.py:1176: SyntaxWarning: In loss categorical_crossentropy, expected y_pred.shape to be (batch_size, num_classes) with num_classes > 1. Received: y_pred.shape=(None, 1). Consider using 'binary_crossentropy' if you only have 2 classes.\n",
      "  return dispatch_target(*args, **kwargs)\n",
      "c:\\Users\\migue\\miniconda3\\envs\\daa\\lib\\site-packages\\tensorflow\\python\\util\\dispatch.py:1176: SyntaxWarning: In loss categorical_crossentropy, expected y_pred.shape to be (batch_size, num_classes) with num_classes > 1. Received: y_pred.shape=(None, 1). Consider using 'binary_crossentropy' if you only have 2 classes.\n",
      "  return dispatch_target(*args, **kwargs)\n",
      "c:\\Users\\migue\\miniconda3\\envs\\daa\\lib\\site-packages\\tensorflow\\python\\util\\dispatch.py:1176: SyntaxWarning: In loss categorical_crossentropy, expected y_pred.shape to be (batch_size, num_classes) with num_classes > 1. Received: y_pred.shape=(None, 1). Consider using 'binary_crossentropy' if you only have 2 classes.\n",
      "  return dispatch_target(*args, **kwargs)\n",
      "c:\\Users\\migue\\miniconda3\\envs\\daa\\lib\\site-packages\\tensorflow\\python\\util\\dispatch.py:1176: SyntaxWarning: In loss categorical_crossentropy, expected y_pred.shape to be (batch_size, num_classes) with num_classes > 1. Received: y_pred.shape=(None, 1). Consider using 'binary_crossentropy' if you only have 2 classes.\n",
      "  return dispatch_target(*args, **kwargs)\n"
     ]
    },
    {
     "name": "stdout",
     "output_type": "stream",
     "text": [
      "Epoch 1/20\n"
     ]
    },
    {
     "name": "stderr",
     "output_type": "stream",
     "text": [
      "c:\\Users\\migue\\miniconda3\\envs\\daa\\lib\\site-packages\\tensorflow\\python\\util\\dispatch.py:1176: SyntaxWarning: In loss categorical_crossentropy, expected y_pred.shape to be (batch_size, num_classes) with num_classes > 1. Received: y_pred.shape=(None, 1). Consider using 'binary_crossentropy' if you only have 2 classes.\n",
      "  return dispatch_target(*args, **kwargs)\n"
     ]
    },
    {
     "ename": "ValueError",
     "evalue": "\nAll the 9 fits failed.\nIt is very likely that your model is misconfigured.\nYou can try to debug the error by setting error_score='raise'.\n\nBelow are more details about the failures:\n--------------------------------------------------------------------------------\n9 fits failed with the following error:\nTraceback (most recent call last):\n  File \"c:\\Users\\migue\\miniconda3\\envs\\daa\\lib\\site-packages\\sklearn\\model_selection\\_validation.py\", line 732, in _fit_and_score\n    estimator.fit(X_train, y_train, **fit_params)\n  File \"c:\\Users\\migue\\miniconda3\\envs\\daa\\lib\\site-packages\\scikeras\\wrappers.py\", line 760, in fit\n    self._fit(\n  File \"c:\\Users\\migue\\miniconda3\\envs\\daa\\lib\\site-packages\\scikeras\\wrappers.py\", line 928, in _fit\n    self._fit_keras_model(\n  File \"c:\\Users\\migue\\miniconda3\\envs\\daa\\lib\\site-packages\\scikeras\\wrappers.py\", line 524, in _fit_keras_model\n    hist = self.model_.fit(x=X, y=y, **fit_args)\n  File \"c:\\Users\\migue\\miniconda3\\envs\\daa\\lib\\site-packages\\keras\\utils\\traceback_utils.py\", line 70, in error_handler\n    raise e.with_traceback(filtered_tb) from None\n  File \"C:\\Users\\migue\\AppData\\Local\\Temp\\__autograph_generated_file_gec9i21.py\", line 15, in tf__train_function\n    retval_ = ag__.converted_call(ag__.ld(step_function), (ag__.ld(self), ag__.ld(iterator)), None, fscope)\nValueError: in user code:\n\n    File \"c:\\Users\\migue\\miniconda3\\envs\\daa\\lib\\site-packages\\keras\\engine\\training.py\", line 1284, in train_function  *\n        return step_function(self, iterator)\n    File \"c:\\Users\\migue\\miniconda3\\envs\\daa\\lib\\site-packages\\keras\\engine\\training.py\", line 1268, in step_function  **\n        outputs = model.distribute_strategy.run(run_step, args=(data,))\n    File \"c:\\Users\\migue\\miniconda3\\envs\\daa\\lib\\site-packages\\keras\\engine\\training.py\", line 1249, in run_step  **\n        outputs = model.train_step(data)\n    File \"c:\\Users\\migue\\miniconda3\\envs\\daa\\lib\\site-packages\\keras\\engine\\training.py\", line 1051, in train_step\n        loss = self.compute_loss(x, y, y_pred, sample_weight)\n    File \"c:\\Users\\migue\\miniconda3\\envs\\daa\\lib\\site-packages\\keras\\engine\\training.py\", line 1109, in compute_loss\n        return self.compiled_loss(\n    File \"c:\\Users\\migue\\miniconda3\\envs\\daa\\lib\\site-packages\\keras\\engine\\compile_utils.py\", line 265, in __call__\n        loss_value = loss_obj(y_t, y_p, sample_weight=sw)\n    File \"c:\\Users\\migue\\miniconda3\\envs\\daa\\lib\\site-packages\\keras\\losses.py\", line 142, in __call__\n        losses = call_fn(y_true, y_pred)\n    File \"c:\\Users\\migue\\miniconda3\\envs\\daa\\lib\\site-packages\\keras\\losses.py\", line 268, in call  **\n        return ag_fn(y_true, y_pred, **self._fn_kwargs)\n    File \"c:\\Users\\migue\\miniconda3\\envs\\daa\\lib\\site-packages\\keras\\losses.py\", line 1984, in categorical_crossentropy\n        return backend.categorical_crossentropy(\n    File \"c:\\Users\\migue\\miniconda3\\envs\\daa\\lib\\site-packages\\keras\\backend.py\", line 5559, in categorical_crossentropy\n        target.shape.assert_is_compatible_with(output.shape)\n\n    ValueError: Shapes (None, 5) and (None, 1) are incompatible\n\n",
     "output_type": "error",
     "traceback": [
      "\u001b[1;31m---------------------------------------------------------------------------\u001b[0m",
      "\u001b[1;31mValueError\u001b[0m                                Traceback (most recent call last)",
      "\u001b[1;32mc:\\Users\\migue\\Desktop\\Trabalho-DAA-2023-2024\\Tarefa_2\\tarefa_2_model.ipynb Cell 52\u001b[0m line \u001b[0;36m1\n\u001b[1;32m----> <a href='vscode-notebook-cell:/c%3A/Users/migue/Desktop/Trabalho-DAA-2023-2024/Tarefa_2/tarefa_2_model.ipynb#X66sZmlsZQ%3D%3D?line=0'>1</a>\u001b[0m grid_search\u001b[39m.\u001b[39;49mfit(X_train_normalize, y_train_categorical, validation_split \u001b[39m=\u001b[39;49m \u001b[39m0.2\u001b[39;49m)\n",
      "File \u001b[1;32mc:\\Users\\migue\\miniconda3\\envs\\daa\\lib\\site-packages\\sklearn\\base.py:1151\u001b[0m, in \u001b[0;36m_fit_context.<locals>.decorator.<locals>.wrapper\u001b[1;34m(estimator, *args, **kwargs)\u001b[0m\n\u001b[0;32m   1144\u001b[0m     estimator\u001b[39m.\u001b[39m_validate_params()\n\u001b[0;32m   1146\u001b[0m \u001b[39mwith\u001b[39;00m config_context(\n\u001b[0;32m   1147\u001b[0m     skip_parameter_validation\u001b[39m=\u001b[39m(\n\u001b[0;32m   1148\u001b[0m         prefer_skip_nested_validation \u001b[39mor\u001b[39;00m global_skip_validation\n\u001b[0;32m   1149\u001b[0m     )\n\u001b[0;32m   1150\u001b[0m ):\n\u001b[1;32m-> 1151\u001b[0m     \u001b[39mreturn\u001b[39;00m fit_method(estimator, \u001b[39m*\u001b[39margs, \u001b[39m*\u001b[39m\u001b[39m*\u001b[39mkwargs)\n",
      "File \u001b[1;32mc:\\Users\\migue\\miniconda3\\envs\\daa\\lib\\site-packages\\sklearn\\model_selection\\_search.py:898\u001b[0m, in \u001b[0;36mBaseSearchCV.fit\u001b[1;34m(self, X, y, groups, **fit_params)\u001b[0m\n\u001b[0;32m    892\u001b[0m     results \u001b[39m=\u001b[39m \u001b[39mself\u001b[39m\u001b[39m.\u001b[39m_format_results(\n\u001b[0;32m    893\u001b[0m         all_candidate_params, n_splits, all_out, all_more_results\n\u001b[0;32m    894\u001b[0m     )\n\u001b[0;32m    896\u001b[0m     \u001b[39mreturn\u001b[39;00m results\n\u001b[1;32m--> 898\u001b[0m \u001b[39mself\u001b[39;49m\u001b[39m.\u001b[39;49m_run_search(evaluate_candidates)\n\u001b[0;32m    900\u001b[0m \u001b[39m# multimetric is determined here because in the case of a callable\u001b[39;00m\n\u001b[0;32m    901\u001b[0m \u001b[39m# self.scoring the return type is only known after calling\u001b[39;00m\n\u001b[0;32m    902\u001b[0m first_test_score \u001b[39m=\u001b[39m all_out[\u001b[39m0\u001b[39m][\u001b[39m\"\u001b[39m\u001b[39mtest_scores\u001b[39m\u001b[39m\"\u001b[39m]\n",
      "File \u001b[1;32mc:\\Users\\migue\\miniconda3\\envs\\daa\\lib\\site-packages\\sklearn\\model_selection\\_search.py:1419\u001b[0m, in \u001b[0;36mGridSearchCV._run_search\u001b[1;34m(self, evaluate_candidates)\u001b[0m\n\u001b[0;32m   1417\u001b[0m \u001b[39mdef\u001b[39;00m \u001b[39m_run_search\u001b[39m(\u001b[39mself\u001b[39m, evaluate_candidates):\n\u001b[0;32m   1418\u001b[0m \u001b[39m    \u001b[39m\u001b[39m\"\"\"Search all candidates in param_grid\"\"\"\u001b[39;00m\n\u001b[1;32m-> 1419\u001b[0m     evaluate_candidates(ParameterGrid(\u001b[39mself\u001b[39;49m\u001b[39m.\u001b[39;49mparam_grid))\n",
      "File \u001b[1;32mc:\\Users\\migue\\miniconda3\\envs\\daa\\lib\\site-packages\\sklearn\\model_selection\\_search.py:875\u001b[0m, in \u001b[0;36mBaseSearchCV.fit.<locals>.evaluate_candidates\u001b[1;34m(candidate_params, cv, more_results)\u001b[0m\n\u001b[0;32m    868\u001b[0m \u001b[39melif\u001b[39;00m \u001b[39mlen\u001b[39m(out) \u001b[39m!=\u001b[39m n_candidates \u001b[39m*\u001b[39m n_splits:\n\u001b[0;32m    869\u001b[0m     \u001b[39mraise\u001b[39;00m \u001b[39mValueError\u001b[39;00m(\n\u001b[0;32m    870\u001b[0m         \u001b[39m\"\u001b[39m\u001b[39mcv.split and cv.get_n_splits returned \u001b[39m\u001b[39m\"\u001b[39m\n\u001b[0;32m    871\u001b[0m         \u001b[39m\"\u001b[39m\u001b[39minconsistent results. Expected \u001b[39m\u001b[39m{}\u001b[39;00m\u001b[39m \u001b[39m\u001b[39m\"\u001b[39m\n\u001b[0;32m    872\u001b[0m         \u001b[39m\"\u001b[39m\u001b[39msplits, got \u001b[39m\u001b[39m{}\u001b[39;00m\u001b[39m\"\u001b[39m\u001b[39m.\u001b[39mformat(n_splits, \u001b[39mlen\u001b[39m(out) \u001b[39m/\u001b[39m\u001b[39m/\u001b[39m n_candidates)\n\u001b[0;32m    873\u001b[0m     )\n\u001b[1;32m--> 875\u001b[0m _warn_or_raise_about_fit_failures(out, \u001b[39mself\u001b[39;49m\u001b[39m.\u001b[39;49merror_score)\n\u001b[0;32m    877\u001b[0m \u001b[39m# For callable self.scoring, the return type is only know after\u001b[39;00m\n\u001b[0;32m    878\u001b[0m \u001b[39m# calling. If the return type is a dictionary, the error scores\u001b[39;00m\n\u001b[0;32m    879\u001b[0m \u001b[39m# can now be inserted with the correct key. The type checking\u001b[39;00m\n\u001b[0;32m    880\u001b[0m \u001b[39m# of out will be done in `_insert_error_scores`.\u001b[39;00m\n\u001b[0;32m    881\u001b[0m \u001b[39mif\u001b[39;00m \u001b[39mcallable\u001b[39m(\u001b[39mself\u001b[39m\u001b[39m.\u001b[39mscoring):\n",
      "File \u001b[1;32mc:\\Users\\migue\\miniconda3\\envs\\daa\\lib\\site-packages\\sklearn\\model_selection\\_validation.py:414\u001b[0m, in \u001b[0;36m_warn_or_raise_about_fit_failures\u001b[1;34m(results, error_score)\u001b[0m\n\u001b[0;32m    407\u001b[0m \u001b[39mif\u001b[39;00m num_failed_fits \u001b[39m==\u001b[39m num_fits:\n\u001b[0;32m    408\u001b[0m     all_fits_failed_message \u001b[39m=\u001b[39m (\n\u001b[0;32m    409\u001b[0m         \u001b[39mf\u001b[39m\u001b[39m\"\u001b[39m\u001b[39m\\n\u001b[39;00m\u001b[39mAll the \u001b[39m\u001b[39m{\u001b[39;00mnum_fits\u001b[39m}\u001b[39;00m\u001b[39m fits failed.\u001b[39m\u001b[39m\\n\u001b[39;00m\u001b[39m\"\u001b[39m\n\u001b[0;32m    410\u001b[0m         \u001b[39m\"\u001b[39m\u001b[39mIt is very likely that your model is misconfigured.\u001b[39m\u001b[39m\\n\u001b[39;00m\u001b[39m\"\u001b[39m\n\u001b[0;32m    411\u001b[0m         \u001b[39m\"\u001b[39m\u001b[39mYou can try to debug the error by setting error_score=\u001b[39m\u001b[39m'\u001b[39m\u001b[39mraise\u001b[39m\u001b[39m'\u001b[39m\u001b[39m.\u001b[39m\u001b[39m\\n\u001b[39;00m\u001b[39m\\n\u001b[39;00m\u001b[39m\"\u001b[39m\n\u001b[0;32m    412\u001b[0m         \u001b[39mf\u001b[39m\u001b[39m\"\u001b[39m\u001b[39mBelow are more details about the failures:\u001b[39m\u001b[39m\\n\u001b[39;00m\u001b[39m{\u001b[39;00mfit_errors_summary\u001b[39m}\u001b[39;00m\u001b[39m\"\u001b[39m\n\u001b[0;32m    413\u001b[0m     )\n\u001b[1;32m--> 414\u001b[0m     \u001b[39mraise\u001b[39;00m \u001b[39mValueError\u001b[39;00m(all_fits_failed_message)\n\u001b[0;32m    416\u001b[0m \u001b[39melse\u001b[39;00m:\n\u001b[0;32m    417\u001b[0m     some_fits_failed_message \u001b[39m=\u001b[39m (\n\u001b[0;32m    418\u001b[0m         \u001b[39mf\u001b[39m\u001b[39m\"\u001b[39m\u001b[39m\\n\u001b[39;00m\u001b[39m{\u001b[39;00mnum_failed_fits\u001b[39m}\u001b[39;00m\u001b[39m fits failed out of a total of \u001b[39m\u001b[39m{\u001b[39;00mnum_fits\u001b[39m}\u001b[39;00m\u001b[39m.\u001b[39m\u001b[39m\\n\u001b[39;00m\u001b[39m\"\u001b[39m\n\u001b[0;32m    419\u001b[0m         \u001b[39m\"\u001b[39m\u001b[39mThe score on these train-test partitions for these parameters\u001b[39m\u001b[39m\"\u001b[39m\n\u001b[1;32m   (...)\u001b[0m\n\u001b[0;32m    423\u001b[0m         \u001b[39mf\u001b[39m\u001b[39m\"\u001b[39m\u001b[39mBelow are more details about the failures:\u001b[39m\u001b[39m\\n\u001b[39;00m\u001b[39m{\u001b[39;00mfit_errors_summary\u001b[39m}\u001b[39;00m\u001b[39m\"\u001b[39m\n\u001b[0;32m    424\u001b[0m     )\n",
      "\u001b[1;31mValueError\u001b[0m: \nAll the 9 fits failed.\nIt is very likely that your model is misconfigured.\nYou can try to debug the error by setting error_score='raise'.\n\nBelow are more details about the failures:\n--------------------------------------------------------------------------------\n9 fits failed with the following error:\nTraceback (most recent call last):\n  File \"c:\\Users\\migue\\miniconda3\\envs\\daa\\lib\\site-packages\\sklearn\\model_selection\\_validation.py\", line 732, in _fit_and_score\n    estimator.fit(X_train, y_train, **fit_params)\n  File \"c:\\Users\\migue\\miniconda3\\envs\\daa\\lib\\site-packages\\scikeras\\wrappers.py\", line 760, in fit\n    self._fit(\n  File \"c:\\Users\\migue\\miniconda3\\envs\\daa\\lib\\site-packages\\scikeras\\wrappers.py\", line 928, in _fit\n    self._fit_keras_model(\n  File \"c:\\Users\\migue\\miniconda3\\envs\\daa\\lib\\site-packages\\scikeras\\wrappers.py\", line 524, in _fit_keras_model\n    hist = self.model_.fit(x=X, y=y, **fit_args)\n  File \"c:\\Users\\migue\\miniconda3\\envs\\daa\\lib\\site-packages\\keras\\utils\\traceback_utils.py\", line 70, in error_handler\n    raise e.with_traceback(filtered_tb) from None\n  File \"C:\\Users\\migue\\AppData\\Local\\Temp\\__autograph_generated_file_gec9i21.py\", line 15, in tf__train_function\n    retval_ = ag__.converted_call(ag__.ld(step_function), (ag__.ld(self), ag__.ld(iterator)), None, fscope)\nValueError: in user code:\n\n    File \"c:\\Users\\migue\\miniconda3\\envs\\daa\\lib\\site-packages\\keras\\engine\\training.py\", line 1284, in train_function  *\n        return step_function(self, iterator)\n    File \"c:\\Users\\migue\\miniconda3\\envs\\daa\\lib\\site-packages\\keras\\engine\\training.py\", line 1268, in step_function  **\n        outputs = model.distribute_strategy.run(run_step, args=(data,))\n    File \"c:\\Users\\migue\\miniconda3\\envs\\daa\\lib\\site-packages\\keras\\engine\\training.py\", line 1249, in run_step  **\n        outputs = model.train_step(data)\n    File \"c:\\Users\\migue\\miniconda3\\envs\\daa\\lib\\site-packages\\keras\\engine\\training.py\", line 1051, in train_step\n        loss = self.compute_loss(x, y, y_pred, sample_weight)\n    File \"c:\\Users\\migue\\miniconda3\\envs\\daa\\lib\\site-packages\\keras\\engine\\training.py\", line 1109, in compute_loss\n        return self.compiled_loss(\n    File \"c:\\Users\\migue\\miniconda3\\envs\\daa\\lib\\site-packages\\keras\\engine\\compile_utils.py\", line 265, in __call__\n        loss_value = loss_obj(y_t, y_p, sample_weight=sw)\n    File \"c:\\Users\\migue\\miniconda3\\envs\\daa\\lib\\site-packages\\keras\\losses.py\", line 142, in __call__\n        losses = call_fn(y_true, y_pred)\n    File \"c:\\Users\\migue\\miniconda3\\envs\\daa\\lib\\site-packages\\keras\\losses.py\", line 268, in call  **\n        return ag_fn(y_true, y_pred, **self._fn_kwargs)\n    File \"c:\\Users\\migue\\miniconda3\\envs\\daa\\lib\\site-packages\\keras\\losses.py\", line 1984, in categorical_crossentropy\n        return backend.categorical_crossentropy(\n    File \"c:\\Users\\migue\\miniconda3\\envs\\daa\\lib\\site-packages\\keras\\backend.py\", line 5559, in categorical_crossentropy\n        target.shape.assert_is_compatible_with(output.shape)\n\n    ValueError: Shapes (None, 5) and (None, 1) are incompatible\n\n"
     ]
    }
   ],
   "source": [
    "grid_search.fit(X_train_normalize, y_train_categorical, validation_split = 0.2)"
   ]
  },
  {
   "cell_type": "code",
   "execution_count": 31,
   "metadata": {},
   "outputs": [
    {
     "name": "stdout",
     "output_type": "stream",
     "text": [
      "Best: 0.039216 using {'optimizer': 'SGD'}\n"
     ]
    }
   ],
   "source": [
    "print('Best: %f using %s' % (grid_search.best_score_, grid_search.best_params_))"
   ]
  },
  {
   "cell_type": "code",
   "execution_count": 32,
   "metadata": {},
   "outputs": [
    {
     "name": "stdout",
     "output_type": "stream",
     "text": [
      "KerasRegressor(\n",
      "\tmodel=<function build_model at 0x000001D74968E170>\n",
      "\tbuild_fn=None\n",
      "\twarm_start=False\n",
      "\trandom_state=None\n",
      "\toptimizer=SGD\n",
      "\tloss=None\n",
      "\tmetrics=None\n",
      "\tbatch_size=32\n",
      "\tvalidation_batch_size=None\n",
      "\tverbose=1\n",
      "\tcallbacks=None\n",
      "\tvalidation_split=0.0\n",
      "\tshuffle=True\n",
      "\trun_eagerly=False\n",
      "\tepochs=20\n",
      ")\n"
     ]
    }
   ],
   "source": [
    "best_mlp_model = grid_search.best_estimator_\n",
    "print(best_mlp_model)"
   ]
  },
  {
   "cell_type": "code",
   "execution_count": 33,
   "metadata": {},
   "outputs": [
    {
     "name": "stdout",
     "output_type": "stream",
     "text": [
      "Epoch 1/100\n",
      "259/259 [==============================] - 1s 976us/step - loss: 1.1708 - accuracy: 0.0392 - val_loss: 1.1714 - val_accuracy: 0.0392\n",
      "Epoch 2/100\n",
      "259/259 [==============================] - 0s 724us/step - loss: 1.1708 - accuracy: 0.0392 - val_loss: 1.1714 - val_accuracy: 0.0392\n",
      "Epoch 3/100\n",
      "259/259 [==============================] - 0s 713us/step - loss: 1.1708 - accuracy: 0.0392 - val_loss: 1.1714 - val_accuracy: 0.0392\n",
      "Epoch 4/100\n",
      "259/259 [==============================] - 0s 716us/step - loss: 1.1708 - accuracy: 0.0392 - val_loss: 1.1714 - val_accuracy: 0.0392\n",
      "Epoch 5/100\n",
      "259/259 [==============================] - 0s 719us/step - loss: 1.1708 - accuracy: 0.0392 - val_loss: 1.1714 - val_accuracy: 0.0392\n",
      "Epoch 6/100\n",
      "259/259 [==============================] - 0s 715us/step - loss: 1.1708 - accuracy: 0.0392 - val_loss: 1.1714 - val_accuracy: 0.0392\n",
      "Epoch 7/100\n",
      "259/259 [==============================] - 0s 732us/step - loss: 1.1708 - accuracy: 0.0392 - val_loss: 1.1714 - val_accuracy: 0.0392\n",
      "Epoch 8/100\n",
      "259/259 [==============================] - 0s 732us/step - loss: 1.1708 - accuracy: 0.0392 - val_loss: 1.1714 - val_accuracy: 0.0392\n",
      "Epoch 9/100\n",
      "259/259 [==============================] - 0s 731us/step - loss: 1.1708 - accuracy: 0.0392 - val_loss: 1.1714 - val_accuracy: 0.0392\n",
      "Epoch 10/100\n",
      "259/259 [==============================] - 0s 732us/step - loss: 1.1708 - accuracy: 0.0392 - val_loss: 1.1714 - val_accuracy: 0.0392\n",
      "Epoch 11/100\n",
      "259/259 [==============================] - 0s 712us/step - loss: 1.1708 - accuracy: 0.0392 - val_loss: 1.1714 - val_accuracy: 0.0392\n",
      "Epoch 12/100\n",
      "259/259 [==============================] - 0s 721us/step - loss: 1.1708 - accuracy: 0.0392 - val_loss: 1.1714 - val_accuracy: 0.0392\n",
      "Epoch 13/100\n",
      "259/259 [==============================] - 0s 717us/step - loss: 1.1708 - accuracy: 0.0392 - val_loss: 1.1714 - val_accuracy: 0.0392\n",
      "Epoch 14/100\n",
      "259/259 [==============================] - 0s 722us/step - loss: 1.1708 - accuracy: 0.0392 - val_loss: 1.1714 - val_accuracy: 0.0392\n",
      "Epoch 15/100\n",
      "259/259 [==============================] - 0s 719us/step - loss: 1.1708 - accuracy: 0.0392 - val_loss: 1.1714 - val_accuracy: 0.0392\n",
      "Epoch 16/100\n",
      "259/259 [==============================] - 0s 718us/step - loss: 1.1708 - accuracy: 0.0392 - val_loss: 1.1714 - val_accuracy: 0.0392\n",
      "Epoch 17/100\n",
      "259/259 [==============================] - 0s 716us/step - loss: 1.1708 - accuracy: 0.0392 - val_loss: 1.1714 - val_accuracy: 0.0392\n",
      "Epoch 18/100\n",
      "259/259 [==============================] - 0s 721us/step - loss: 1.1708 - accuracy: 0.0392 - val_loss: 1.1714 - val_accuracy: 0.0392\n",
      "Epoch 19/100\n",
      "259/259 [==============================] - 0s 749us/step - loss: 1.1708 - accuracy: 0.0392 - val_loss: 1.1714 - val_accuracy: 0.0392\n",
      "Epoch 20/100\n",
      "259/259 [==============================] - 0s 721us/step - loss: 1.1708 - accuracy: 0.0392 - val_loss: 1.1714 - val_accuracy: 0.0392\n",
      "Epoch 21/100\n",
      "259/259 [==============================] - 0s 723us/step - loss: 1.1708 - accuracy: 0.0392 - val_loss: 1.1714 - val_accuracy: 0.0392\n",
      "Epoch 22/100\n",
      "259/259 [==============================] - 0s 723us/step - loss: 1.1708 - accuracy: 0.0392 - val_loss: 1.1714 - val_accuracy: 0.0392\n",
      "Epoch 23/100\n",
      "259/259 [==============================] - 0s 731us/step - loss: 1.1708 - accuracy: 0.0392 - val_loss: 1.1714 - val_accuracy: 0.0392\n",
      "Epoch 24/100\n",
      "259/259 [==============================] - 0s 731us/step - loss: 1.1708 - accuracy: 0.0392 - val_loss: 1.1714 - val_accuracy: 0.0392\n",
      "Epoch 25/100\n",
      "259/259 [==============================] - 0s 749us/step - loss: 1.1708 - accuracy: 0.0392 - val_loss: 1.1714 - val_accuracy: 0.0392\n",
      "Epoch 26/100\n",
      "259/259 [==============================] - 0s 716us/step - loss: 1.1708 - accuracy: 0.0392 - val_loss: 1.1714 - val_accuracy: 0.0392\n",
      "Epoch 27/100\n",
      "259/259 [==============================] - 0s 725us/step - loss: 1.1708 - accuracy: 0.0392 - val_loss: 1.1714 - val_accuracy: 0.0392\n",
      "Epoch 28/100\n",
      "259/259 [==============================] - 0s 736us/step - loss: 1.1708 - accuracy: 0.0392 - val_loss: 1.1714 - val_accuracy: 0.0392\n",
      "Epoch 29/100\n",
      "259/259 [==============================] - 0s 740us/step - loss: 1.1708 - accuracy: 0.0392 - val_loss: 1.1714 - val_accuracy: 0.0392\n",
      "Epoch 30/100\n",
      "259/259 [==============================] - 0s 726us/step - loss: 1.1708 - accuracy: 0.0392 - val_loss: 1.1714 - val_accuracy: 0.0392\n",
      "Epoch 31/100\n",
      "259/259 [==============================] - 0s 755us/step - loss: 1.1708 - accuracy: 0.0392 - val_loss: 1.1714 - val_accuracy: 0.0392\n",
      "Epoch 32/100\n",
      "259/259 [==============================] - 0s 721us/step - loss: 1.1708 - accuracy: 0.0392 - val_loss: 1.1714 - val_accuracy: 0.0392\n",
      "Epoch 33/100\n",
      "259/259 [==============================] - 0s 738us/step - loss: 1.1708 - accuracy: 0.0392 - val_loss: 1.1714 - val_accuracy: 0.0392\n",
      "Epoch 34/100\n",
      "259/259 [==============================] - 0s 723us/step - loss: 1.1708 - accuracy: 0.0392 - val_loss: 1.1714 - val_accuracy: 0.0392\n",
      "Epoch 35/100\n",
      "259/259 [==============================] - 0s 728us/step - loss: 1.1708 - accuracy: 0.0392 - val_loss: 1.1714 - val_accuracy: 0.0392\n",
      "Epoch 36/100\n",
      "259/259 [==============================] - 0s 730us/step - loss: 1.1708 - accuracy: 0.0392 - val_loss: 1.1714 - val_accuracy: 0.0392\n",
      "Epoch 37/100\n",
      "259/259 [==============================] - 0s 728us/step - loss: 1.1708 - accuracy: 0.0392 - val_loss: 1.1714 - val_accuracy: 0.0392\n",
      "Epoch 38/100\n",
      "259/259 [==============================] - 0s 748us/step - loss: 1.1708 - accuracy: 0.0392 - val_loss: 1.1714 - val_accuracy: 0.0392\n",
      "Epoch 39/100\n",
      "259/259 [==============================] - 0s 743us/step - loss: 1.1708 - accuracy: 0.0392 - val_loss: 1.1714 - val_accuracy: 0.0392\n",
      "Epoch 40/100\n",
      "259/259 [==============================] - 0s 746us/step - loss: 1.1708 - accuracy: 0.0392 - val_loss: 1.1714 - val_accuracy: 0.0392\n",
      "Epoch 41/100\n",
      "259/259 [==============================] - 0s 726us/step - loss: 1.1708 - accuracy: 0.0392 - val_loss: 1.1714 - val_accuracy: 0.0392\n",
      "Epoch 42/100\n",
      "259/259 [==============================] - 0s 760us/step - loss: 1.1708 - accuracy: 0.0392 - val_loss: 1.1714 - val_accuracy: 0.0392\n",
      "Epoch 43/100\n",
      "259/259 [==============================] - 0s 772us/step - loss: 1.1708 - accuracy: 0.0392 - val_loss: 1.1714 - val_accuracy: 0.0392\n",
      "Epoch 44/100\n",
      "259/259 [==============================] - 0s 756us/step - loss: 1.1708 - accuracy: 0.0392 - val_loss: 1.1714 - val_accuracy: 0.0392\n",
      "Epoch 45/100\n",
      "259/259 [==============================] - 0s 768us/step - loss: 1.1708 - accuracy: 0.0392 - val_loss: 1.1714 - val_accuracy: 0.0392\n",
      "Epoch 46/100\n",
      "259/259 [==============================] - 0s 769us/step - loss: 1.1708 - accuracy: 0.0392 - val_loss: 1.1714 - val_accuracy: 0.0392\n",
      "Epoch 47/100\n",
      "259/259 [==============================] - 0s 732us/step - loss: 1.1708 - accuracy: 0.0392 - val_loss: 1.1714 - val_accuracy: 0.0392\n",
      "Epoch 48/100\n",
      "259/259 [==============================] - 0s 786us/step - loss: 1.1708 - accuracy: 0.0392 - val_loss: 1.1714 - val_accuracy: 0.0392\n",
      "Epoch 49/100\n",
      "259/259 [==============================] - 0s 831us/step - loss: 1.1708 - accuracy: 0.0392 - val_loss: 1.1714 - val_accuracy: 0.0392\n",
      "Epoch 50/100\n",
      "259/259 [==============================] - 0s 746us/step - loss: 1.1708 - accuracy: 0.0392 - val_loss: 1.1714 - val_accuracy: 0.0392\n",
      "Epoch 51/100\n",
      "259/259 [==============================] - 0s 771us/step - loss: 1.1708 - accuracy: 0.0392 - val_loss: 1.1714 - val_accuracy: 0.0392\n",
      "Epoch 52/100\n",
      "259/259 [==============================] - 0s 751us/step - loss: 1.1708 - accuracy: 0.0392 - val_loss: 1.1714 - val_accuracy: 0.0392\n",
      "Epoch 53/100\n",
      "259/259 [==============================] - 0s 744us/step - loss: 1.1708 - accuracy: 0.0392 - val_loss: 1.1714 - val_accuracy: 0.0392\n",
      "Epoch 54/100\n",
      "259/259 [==============================] - 0s 751us/step - loss: 1.1708 - accuracy: 0.0392 - val_loss: 1.1714 - val_accuracy: 0.0392\n",
      "Epoch 55/100\n",
      "259/259 [==============================] - 0s 759us/step - loss: 1.1708 - accuracy: 0.0392 - val_loss: 1.1714 - val_accuracy: 0.0392\n",
      "Epoch 56/100\n",
      "259/259 [==============================] - 0s 756us/step - loss: 1.1708 - accuracy: 0.0392 - val_loss: 1.1714 - val_accuracy: 0.0392\n",
      "Epoch 57/100\n",
      "259/259 [==============================] - 0s 1ms/step - loss: 1.1708 - accuracy: 0.0392 - val_loss: 1.1714 - val_accuracy: 0.0392\n",
      "Epoch 58/100\n",
      "259/259 [==============================] - 0s 814us/step - loss: 1.1708 - accuracy: 0.0392 - val_loss: 1.1714 - val_accuracy: 0.0392\n",
      "Epoch 59/100\n",
      "259/259 [==============================] - 0s 724us/step - loss: 1.1708 - accuracy: 0.0392 - val_loss: 1.1714 - val_accuracy: 0.0392\n",
      "Epoch 60/100\n",
      "259/259 [==============================] - 0s 724us/step - loss: 1.1708 - accuracy: 0.0392 - val_loss: 1.1714 - val_accuracy: 0.0392\n",
      "Epoch 61/100\n",
      "259/259 [==============================] - 0s 704us/step - loss: 1.1708 - accuracy: 0.0392 - val_loss: 1.1714 - val_accuracy: 0.0392\n",
      "Epoch 62/100\n",
      "259/259 [==============================] - 0s 703us/step - loss: 1.1708 - accuracy: 0.0392 - val_loss: 1.1714 - val_accuracy: 0.0392\n",
      "Epoch 63/100\n",
      "259/259 [==============================] - 0s 701us/step - loss: 1.1708 - accuracy: 0.0392 - val_loss: 1.1714 - val_accuracy: 0.0392\n",
      "Epoch 64/100\n",
      "259/259 [==============================] - 0s 714us/step - loss: 1.1708 - accuracy: 0.0392 - val_loss: 1.1714 - val_accuracy: 0.0392\n",
      "Epoch 65/100\n",
      "259/259 [==============================] - 0s 713us/step - loss: 1.1708 - accuracy: 0.0392 - val_loss: 1.1714 - val_accuracy: 0.0392\n",
      "Epoch 66/100\n",
      "259/259 [==============================] - 0s 710us/step - loss: 1.1708 - accuracy: 0.0392 - val_loss: 1.1714 - val_accuracy: 0.0392\n",
      "Epoch 67/100\n",
      "259/259 [==============================] - 0s 707us/step - loss: 1.1708 - accuracy: 0.0392 - val_loss: 1.1714 - val_accuracy: 0.0392\n",
      "Epoch 68/100\n",
      "259/259 [==============================] - 0s 704us/step - loss: 1.1708 - accuracy: 0.0392 - val_loss: 1.1714 - val_accuracy: 0.0392\n",
      "Epoch 69/100\n",
      "259/259 [==============================] - 0s 702us/step - loss: 1.1708 - accuracy: 0.0392 - val_loss: 1.1714 - val_accuracy: 0.0392\n",
      "Epoch 70/100\n",
      "259/259 [==============================] - 0s 705us/step - loss: 1.1708 - accuracy: 0.0392 - val_loss: 1.1714 - val_accuracy: 0.0392\n",
      "Epoch 71/100\n",
      "259/259 [==============================] - 0s 728us/step - loss: 1.1708 - accuracy: 0.0392 - val_loss: 1.1714 - val_accuracy: 0.0392\n",
      "Epoch 72/100\n",
      "259/259 [==============================] - 0s 708us/step - loss: 1.1708 - accuracy: 0.0392 - val_loss: 1.1714 - val_accuracy: 0.0392\n",
      "Epoch 73/100\n",
      "259/259 [==============================] - 0s 721us/step - loss: 1.1708 - accuracy: 0.0392 - val_loss: 1.1714 - val_accuracy: 0.0392\n",
      "Epoch 74/100\n",
      "259/259 [==============================] - 0s 721us/step - loss: 1.1708 - accuracy: 0.0392 - val_loss: 1.1714 - val_accuracy: 0.0392\n",
      "Epoch 75/100\n",
      "259/259 [==============================] - 0s 716us/step - loss: 1.1708 - accuracy: 0.0392 - val_loss: 1.1714 - val_accuracy: 0.0392\n",
      "Epoch 76/100\n",
      "259/259 [==============================] - 0s 723us/step - loss: 1.1708 - accuracy: 0.0392 - val_loss: 1.1714 - val_accuracy: 0.0392\n",
      "Epoch 77/100\n",
      "259/259 [==============================] - 0s 712us/step - loss: 1.1708 - accuracy: 0.0392 - val_loss: 1.1714 - val_accuracy: 0.0392\n",
      "Epoch 78/100\n",
      "259/259 [==============================] - 0s 701us/step - loss: 1.1708 - accuracy: 0.0392 - val_loss: 1.1714 - val_accuracy: 0.0392\n",
      "Epoch 79/100\n",
      "259/259 [==============================] - 0s 712us/step - loss: 1.1708 - accuracy: 0.0392 - val_loss: 1.1714 - val_accuracy: 0.0392\n",
      "Epoch 80/100\n",
      "259/259 [==============================] - 0s 721us/step - loss: 1.1708 - accuracy: 0.0392 - val_loss: 1.1714 - val_accuracy: 0.0392\n",
      "Epoch 81/100\n",
      "259/259 [==============================] - 0s 782us/step - loss: 1.1708 - accuracy: 0.0392 - val_loss: 1.1714 - val_accuracy: 0.0392\n",
      "Epoch 82/100\n",
      "259/259 [==============================] - 0s 791us/step - loss: 1.1708 - accuracy: 0.0392 - val_loss: 1.1714 - val_accuracy: 0.0392\n",
      "Epoch 83/100\n",
      "259/259 [==============================] - 0s 1ms/step - loss: 1.1708 - accuracy: 0.0392 - val_loss: 1.1714 - val_accuracy: 0.0392\n",
      "Epoch 84/100\n",
      "259/259 [==============================] - 0s 721us/step - loss: 1.1708 - accuracy: 0.0392 - val_loss: 1.1714 - val_accuracy: 0.0392\n",
      "Epoch 85/100\n",
      "259/259 [==============================] - 0s 715us/step - loss: 1.1708 - accuracy: 0.0392 - val_loss: 1.1714 - val_accuracy: 0.0392\n",
      "Epoch 86/100\n",
      "259/259 [==============================] - 0s 719us/step - loss: 1.1708 - accuracy: 0.0392 - val_loss: 1.1714 - val_accuracy: 0.0392\n",
      "Epoch 87/100\n",
      "259/259 [==============================] - 0s 713us/step - loss: 1.1708 - accuracy: 0.0392 - val_loss: 1.1714 - val_accuracy: 0.0392\n",
      "Epoch 88/100\n",
      "259/259 [==============================] - 0s 717us/step - loss: 1.1708 - accuracy: 0.0392 - val_loss: 1.1714 - val_accuracy: 0.0392\n",
      "Epoch 89/100\n",
      "259/259 [==============================] - 0s 716us/step - loss: 1.1708 - accuracy: 0.0392 - val_loss: 1.1714 - val_accuracy: 0.0392\n",
      "Epoch 90/100\n",
      "259/259 [==============================] - 0s 762us/step - loss: 1.1708 - accuracy: 0.0392 - val_loss: 1.1714 - val_accuracy: 0.0392\n",
      "Epoch 91/100\n",
      "259/259 [==============================] - 0s 890us/step - loss: 1.1708 - accuracy: 0.0392 - val_loss: 1.1714 - val_accuracy: 0.0392\n",
      "Epoch 92/100\n",
      "259/259 [==============================] - 0s 735us/step - loss: 1.1708 - accuracy: 0.0392 - val_loss: 1.1714 - val_accuracy: 0.0392\n",
      "Epoch 93/100\n",
      "259/259 [==============================] - 0s 736us/step - loss: 1.1708 - accuracy: 0.0392 - val_loss: 1.1714 - val_accuracy: 0.0392\n",
      "Epoch 94/100\n",
      "259/259 [==============================] - 0s 1ms/step - loss: 1.1708 - accuracy: 0.0392 - val_loss: 1.1714 - val_accuracy: 0.0392\n",
      "Epoch 95/100\n",
      "259/259 [==============================] - 0s 733us/step - loss: 1.1708 - accuracy: 0.0392 - val_loss: 1.1714 - val_accuracy: 0.0392\n",
      "Epoch 96/100\n",
      "259/259 [==============================] - 0s 728us/step - loss: 1.1708 - accuracy: 0.0392 - val_loss: 1.1714 - val_accuracy: 0.0392\n",
      "Epoch 97/100\n",
      "259/259 [==============================] - 0s 719us/step - loss: 1.1708 - accuracy: 0.0392 - val_loss: 1.1714 - val_accuracy: 0.0392\n",
      "Epoch 98/100\n",
      "259/259 [==============================] - 0s 723us/step - loss: 1.1708 - accuracy: 0.0392 - val_loss: 1.1714 - val_accuracy: 0.0392\n",
      "Epoch 99/100\n",
      "259/259 [==============================] - 0s 744us/step - loss: 1.1708 - accuracy: 0.0392 - val_loss: 1.1714 - val_accuracy: 0.0392\n",
      "Epoch 100/100\n",
      "259/259 [==============================] - 0s 787us/step - loss: 1.1708 - accuracy: 0.0392 - val_loss: 1.1714 - val_accuracy: 0.0392\n"
     ]
    },
    {
     "data": {
      "text/html": [
       "<style>#sk-container-id-2 {color: black;}#sk-container-id-2 pre{padding: 0;}#sk-container-id-2 div.sk-toggleable {background-color: white;}#sk-container-id-2 label.sk-toggleable__label {cursor: pointer;display: block;width: 100%;margin-bottom: 0;padding: 0.3em;box-sizing: border-box;text-align: center;}#sk-container-id-2 label.sk-toggleable__label-arrow:before {content: \"▸\";float: left;margin-right: 0.25em;color: #696969;}#sk-container-id-2 label.sk-toggleable__label-arrow:hover:before {color: black;}#sk-container-id-2 div.sk-estimator:hover label.sk-toggleable__label-arrow:before {color: black;}#sk-container-id-2 div.sk-toggleable__content {max-height: 0;max-width: 0;overflow: hidden;text-align: left;background-color: #f0f8ff;}#sk-container-id-2 div.sk-toggleable__content pre {margin: 0.2em;color: black;border-radius: 0.25em;background-color: #f0f8ff;}#sk-container-id-2 input.sk-toggleable__control:checked~div.sk-toggleable__content {max-height: 200px;max-width: 100%;overflow: auto;}#sk-container-id-2 input.sk-toggleable__control:checked~label.sk-toggleable__label-arrow:before {content: \"▾\";}#sk-container-id-2 div.sk-estimator input.sk-toggleable__control:checked~label.sk-toggleable__label {background-color: #d4ebff;}#sk-container-id-2 div.sk-label input.sk-toggleable__control:checked~label.sk-toggleable__label {background-color: #d4ebff;}#sk-container-id-2 input.sk-hidden--visually {border: 0;clip: rect(1px 1px 1px 1px);clip: rect(1px, 1px, 1px, 1px);height: 1px;margin: -1px;overflow: hidden;padding: 0;position: absolute;width: 1px;}#sk-container-id-2 div.sk-estimator {font-family: monospace;background-color: #f0f8ff;border: 1px dotted black;border-radius: 0.25em;box-sizing: border-box;margin-bottom: 0.5em;}#sk-container-id-2 div.sk-estimator:hover {background-color: #d4ebff;}#sk-container-id-2 div.sk-parallel-item::after {content: \"\";width: 100%;border-bottom: 1px solid gray;flex-grow: 1;}#sk-container-id-2 div.sk-label:hover label.sk-toggleable__label {background-color: #d4ebff;}#sk-container-id-2 div.sk-serial::before {content: \"\";position: absolute;border-left: 1px solid gray;box-sizing: border-box;top: 0;bottom: 0;left: 50%;z-index: 0;}#sk-container-id-2 div.sk-serial {display: flex;flex-direction: column;align-items: center;background-color: white;padding-right: 0.2em;padding-left: 0.2em;position: relative;}#sk-container-id-2 div.sk-item {position: relative;z-index: 1;}#sk-container-id-2 div.sk-parallel {display: flex;align-items: stretch;justify-content: center;background-color: white;position: relative;}#sk-container-id-2 div.sk-item::before, #sk-container-id-2 div.sk-parallel-item::before {content: \"\";position: absolute;border-left: 1px solid gray;box-sizing: border-box;top: 0;bottom: 0;left: 50%;z-index: -1;}#sk-container-id-2 div.sk-parallel-item {display: flex;flex-direction: column;z-index: 1;position: relative;background-color: white;}#sk-container-id-2 div.sk-parallel-item:first-child::after {align-self: flex-end;width: 50%;}#sk-container-id-2 div.sk-parallel-item:last-child::after {align-self: flex-start;width: 50%;}#sk-container-id-2 div.sk-parallel-item:only-child::after {width: 0;}#sk-container-id-2 div.sk-dashed-wrapped {border: 1px dashed gray;margin: 0 0.4em 0.5em 0.4em;box-sizing: border-box;padding-bottom: 0.4em;background-color: white;}#sk-container-id-2 div.sk-label label {font-family: monospace;font-weight: bold;display: inline-block;line-height: 1.2em;}#sk-container-id-2 div.sk-label-container {text-align: center;}#sk-container-id-2 div.sk-container {/* jupyter's `normalize.less` sets `[hidden] { display: none; }` but bootstrap.min.css set `[hidden] { display: none !important; }` so we also need the `!important` here to be able to override the default hidden behavior on the sphinx rendered scikit-learn.org. See: https://github.com/scikit-learn/scikit-learn/issues/21755 */display: inline-block !important;position: relative;}#sk-container-id-2 div.sk-text-repr-fallback {display: none;}</style><div id=\"sk-container-id-2\" class=\"sk-top-container\"><div class=\"sk-text-repr-fallback\"><pre>KerasRegressor(\n",
       "\tmodel=&lt;function build_model at 0x000001D74968E170&gt;\n",
       "\tbuild_fn=None\n",
       "\twarm_start=False\n",
       "\trandom_state=None\n",
       "\toptimizer=SGD\n",
       "\tloss=None\n",
       "\tmetrics=None\n",
       "\tbatch_size=32\n",
       "\tvalidation_batch_size=None\n",
       "\tverbose=1\n",
       "\tcallbacks=None\n",
       "\tvalidation_split=0.0\n",
       "\tshuffle=True\n",
       "\trun_eagerly=False\n",
       "\tepochs=20\n",
       ")</pre><b>In a Jupyter environment, please rerun this cell to show the HTML representation or trust the notebook. <br />On GitHub, the HTML representation is unable to render, please try loading this page with nbviewer.org.</b></div><div class=\"sk-container\" hidden><div class=\"sk-item\"><div class=\"sk-estimator sk-toggleable\"><input class=\"sk-toggleable__control sk-hidden--visually\" id=\"sk-estimator-id-4\" type=\"checkbox\" checked><label for=\"sk-estimator-id-4\" class=\"sk-toggleable__label sk-toggleable__label-arrow\">KerasRegressor</label><div class=\"sk-toggleable__content\"><pre>KerasRegressor(\n",
       "\tmodel=&lt;function build_model at 0x000001D74968E170&gt;\n",
       "\tbuild_fn=None\n",
       "\twarm_start=False\n",
       "\trandom_state=None\n",
       "\toptimizer=SGD\n",
       "\tloss=None\n",
       "\tmetrics=None\n",
       "\tbatch_size=32\n",
       "\tvalidation_batch_size=None\n",
       "\tverbose=1\n",
       "\tcallbacks=None\n",
       "\tvalidation_split=0.0\n",
       "\tshuffle=True\n",
       "\trun_eagerly=False\n",
       "\tepochs=20\n",
       ")</pre></div></div></div></div></div>"
      ],
      "text/plain": [
       "KerasRegressor(\n",
       "\tmodel=<function build_model at 0x000001D74968E170>\n",
       "\tbuild_fn=None\n",
       "\twarm_start=False\n",
       "\trandom_state=None\n",
       "\toptimizer=SGD\n",
       "\tloss=None\n",
       "\tmetrics=None\n",
       "\tbatch_size=32\n",
       "\tvalidation_batch_size=None\n",
       "\tverbose=1\n",
       "\tcallbacks=None\n",
       "\tvalidation_split=0.0\n",
       "\tshuffle=True\n",
       "\trun_eagerly=False\n",
       "\tepochs=20\n",
       ")"
      ]
     },
     "execution_count": 33,
     "metadata": {},
     "output_type": "execute_result"
    }
   ],
   "source": [
    "best_mlp_model.fit(X_train_normalize, y_train_normalize_1, epochs = 100, validation_data = (X_test_normalize, y_test_normalize_1),verbose = 1)"
   ]
  },
  {
   "cell_type": "code",
   "execution_count": 34,
   "metadata": {},
   "outputs": [
    {
     "data": {
      "image/png": "[encoded data removed]",
      "text/plain": [
       "<Figure size 640x480 with 1 Axes>"
      ]
     },
     "metadata": {},
     "output_type": "display_data"
    }
   ],
   "source": [
    "plt.plot(best_mlp_model.history_['loss'])\n",
    "plt.plot(best_mlp_model.history_['val_loss']) \n",
    "plt.title('model performance')\n",
    "plt.ylabel('loss values')\n",
    "plt.xlabel('epoch')\n",
    "plt.legend(['train', 'val'], loc='upper left')\n",
    "plt.show()"
   ]
  },
  {
   "cell_type": "code",
   "execution_count": 35,
   "metadata": {},
   "outputs": [
    {
     "name": "stdout",
     "output_type": "stream",
     "text": [
      "87/87 [==============================] - 0s 419us/step\n"
     ]
    }
   ],
   "source": [
    "predictionMLP = best_mlp_model.predict(X_test_normalize)"
   ]
  },
  {
   "cell_type": "markdown",
   "metadata": {},
   "source": [
    "## MLPClassifier"
   ]
  },
  {
   "cell_type": "code",
   "execution_count": 17,
   "metadata": {},
   "outputs": [],
   "source": [
    "from sklearn.neural_network import MLPClassifier\n",
    "\n",
    "mlp = MLPClassifier(random_state=2023)"
   ]
  },
  {
   "cell_type": "markdown",
   "metadata": {},
   "source": [
    "### Grid Search"
   ]
  },
  {
   "cell_type": "code",
   "execution_count": 18,
   "metadata": {},
   "outputs": [
    {
     "name": "stdout",
     "output_type": "stream",
     "text": [
      "Fitting 5 folds for each of 6 candidates, totalling 30 fits\n",
      "[CV 1/5] END activation=tanh, alpha=0.001, hidden_layer_sizes=(50, 50, 25), learning_rate=constant, max_iter=100000, solver=adam;, score=0.842 total time=   2.1s\n",
      "[CV 2/5] END activation=tanh, alpha=0.001, hidden_layer_sizes=(50, 50, 25), learning_rate=constant, max_iter=100000, solver=adam;, score=0.848 total time=   3.2s\n",
      "[CV 3/5] END activation=tanh, alpha=0.001, hidden_layer_sizes=(50, 50, 25), learning_rate=constant, max_iter=100000, solver=adam;, score=0.841 total time=   3.6s\n",
      "[CV 4/5] END activation=tanh, alpha=0.001, hidden_layer_sizes=(50, 50, 25), learning_rate=constant, max_iter=100000, solver=adam;, score=0.845 total time=   3.5s\n",
      "[CV 5/5] END activation=tanh, alpha=0.001, hidden_layer_sizes=(50, 50, 25), learning_rate=constant, max_iter=100000, solver=adam;, score=0.835 total time=   3.5s\n",
      "[CV 1/5] END activation=tanh, alpha=0.001, hidden_layer_sizes=(50, 50, 25), learning_rate=invscaling, max_iter=100000, solver=adam;, score=0.842 total time=   1.9s\n",
      "[CV 2/5] END activation=tanh, alpha=0.001, hidden_layer_sizes=(50, 50, 25), learning_rate=invscaling, max_iter=100000, solver=adam;, score=0.848 total time=   2.8s\n",
      "[CV 3/5] END activation=tanh, alpha=0.001, hidden_layer_sizes=(50, 50, 25), learning_rate=invscaling, max_iter=100000, solver=adam;, score=0.841 total time=   3.3s\n",
      "[CV 4/5] END activation=tanh, alpha=0.001, hidden_layer_sizes=(50, 50, 25), learning_rate=invscaling, max_iter=100000, solver=adam;, score=0.845 total time=   3.4s\n",
      "[CV 5/5] END activation=tanh, alpha=0.001, hidden_layer_sizes=(50, 50, 25), learning_rate=invscaling, max_iter=100000, solver=adam;, score=0.835 total time=   3.5s\n",
      "[CV 1/5] END activation=tanh, alpha=0.001, hidden_layer_sizes=(50, 50, 25), learning_rate=adaptive, max_iter=100000, solver=adam;, score=0.842 total time=   1.9s\n",
      "[CV 2/5] END activation=tanh, alpha=0.001, hidden_layer_sizes=(50, 50, 25), learning_rate=adaptive, max_iter=100000, solver=adam;, score=0.848 total time=   2.8s\n",
      "[CV 3/5] END activation=tanh, alpha=0.001, hidden_layer_sizes=(50, 50, 25), learning_rate=adaptive, max_iter=100000, solver=adam;, score=0.841 total time=   3.3s\n",
      "[CV 4/5] END activation=tanh, alpha=0.001, hidden_layer_sizes=(50, 50, 25), learning_rate=adaptive, max_iter=100000, solver=adam;, score=0.845 total time=   3.5s\n",
      "[CV 5/5] END activation=tanh, alpha=0.001, hidden_layer_sizes=(50, 50, 25), learning_rate=adaptive, max_iter=100000, solver=adam;, score=0.835 total time=   3.4s\n",
      "[CV 1/5] END activation=tanh, alpha=0.001, hidden_layer_sizes=(50, 25, 25), learning_rate=constant, max_iter=100000, solver=adam;, score=0.842 total time=   1.9s\n",
      "[CV 2/5] END activation=tanh, alpha=0.001, hidden_layer_sizes=(50, 25, 25), learning_rate=constant, max_iter=100000, solver=adam;, score=0.845 total time=   1.4s\n",
      "[CV 3/5] END activation=tanh, alpha=0.001, hidden_layer_sizes=(50, 25, 25), learning_rate=constant, max_iter=100000, solver=adam;, score=0.835 total time=   1.6s\n",
      "[CV 4/5] END activation=tanh, alpha=0.001, hidden_layer_sizes=(50, 25, 25), learning_rate=constant, max_iter=100000, solver=adam;, score=0.842 total time=   2.5s\n",
      "[CV 5/5] END activation=tanh, alpha=0.001, hidden_layer_sizes=(50, 25, 25), learning_rate=constant, max_iter=100000, solver=adam;, score=0.831 total time=   1.3s\n",
      "[CV 1/5] END activation=tanh, alpha=0.001, hidden_layer_sizes=(50, 25, 25), learning_rate=invscaling, max_iter=100000, solver=adam;, score=0.842 total time=   1.9s\n",
      "[CV 2/5] END activation=tanh, alpha=0.001, hidden_layer_sizes=(50, 25, 25), learning_rate=invscaling, max_iter=100000, solver=adam;, score=0.845 total time=   1.4s\n",
      "[CV 3/5] END activation=tanh, alpha=0.001, hidden_layer_sizes=(50, 25, 25), learning_rate=invscaling, max_iter=100000, solver=adam;, score=0.835 total time=   1.6s\n",
      "[CV 4/5] END activation=tanh, alpha=0.001, hidden_layer_sizes=(50, 25, 25), learning_rate=invscaling, max_iter=100000, solver=adam;, score=0.842 total time=   2.5s\n",
      "[CV 5/5] END activation=tanh, alpha=0.001, hidden_layer_sizes=(50, 25, 25), learning_rate=invscaling, max_iter=100000, solver=adam;, score=0.831 total time=   1.3s\n",
      "[CV 1/5] END activation=tanh, alpha=0.001, hidden_layer_sizes=(50, 25, 25), learning_rate=adaptive, max_iter=100000, solver=adam;, score=0.842 total time=   1.9s\n",
      "[CV 2/5] END activation=tanh, alpha=0.001, hidden_layer_sizes=(50, 25, 25), learning_rate=adaptive, max_iter=100000, solver=adam;, score=0.845 total time=   1.4s\n",
      "[CV 3/5] END activation=tanh, alpha=0.001, hidden_layer_sizes=(50, 25, 25), learning_rate=adaptive, max_iter=100000, solver=adam;, score=0.835 total time=   1.6s\n",
      "[CV 4/5] END activation=tanh, alpha=0.001, hidden_layer_sizes=(50, 25, 25), learning_rate=adaptive, max_iter=100000, solver=adam;, score=0.842 total time=   2.5s\n",
      "[CV 5/5] END activation=tanh, alpha=0.001, hidden_layer_sizes=(50, 25, 25), learning_rate=adaptive, max_iter=100000, solver=adam;, score=0.831 total time=   1.3s\n",
      "Best estimator:  MLPClassifier(activation='tanh', alpha=0.001, hidden_layer_sizes=(50, 50, 25),\n",
      "              max_iter=100000, random_state=2023)\n",
      "              precision    recall  f1-score   support\n",
      "\n",
      "        High       0.51      0.60      0.55       276\n",
      "         Low       0.41      0.28      0.33       108\n",
      "      Medium       0.56      0.48      0.52       274\n",
      "        None       0.97      0.98      0.97      1944\n",
      "   Very High       0.53      0.60      0.56       152\n",
      "\n",
      "    accuracy                           0.84      2754\n",
      "   macro avg       0.60      0.59      0.59      2754\n",
      "weighted avg       0.84      0.84      0.84      2754\n",
      "\n"
     ]
    },
    {
     "data": {
      "image/png": "[encoded data removed]",
      "text/plain": [
       "<Figure size 640x480 with 2 Axes>"
      ]
     },
     "metadata": {},
     "output_type": "display_data"
    }
   ],
   "source": [
    "param_grid = {\n",
    "    'hidden_layer_sizes': [(50, 50, 25), (50, 25, 25)],\n",
    "    'activation': ['tanh'],\n",
    "    'solver': ['adam'],\n",
    "    'alpha': [0.001],\n",
    "    'max_iter': [100000],\n",
    "    'learning_rate': ['constant', 'invscaling', 'adaptive'],\n",
    "}\n",
    "\n",
    "\n",
    "grid_searchMLP = GridSearchCV(mlp, param_grid, cv=5, refit=True, verbose=3)\n",
    "grid_searchMLP.fit(X_train_normalize, y_train_normalize)\n",
    "grid_predictionMLP = grid_searchMLP.predict(X_test_normalize)\n",
    "\n",
    "print(\"Best estimator: \", grid_searchMLP.best_estimator_)\n",
    "\n",
    "mlp_best = grid_searchMLP.best_estimator_\n",
    "\n",
    "print(classification_report(y_test_normalize, grid_predictionMLP))\n",
    "ConfusionMatrixDisplay.from_predictions(y_test_normalize, grid_predictionMLP)\n",
    "plt.show()"
   ]
  },
  {
   "cell_type": "markdown",
   "metadata": {},
   "source": [
    "### Predict"
   ]
  },
  {
   "cell_type": "code",
   "execution_count": 19,
   "metadata": {},
   "outputs": [],
   "source": [
    "# MLPClassifier(activation='tanh', alpha=0.001, hidden_layer_sizes=(50, 50, 25), max_iter=100000, random_state=2023)\n",
    "\n",
    "mlp_best.fit(X_treino_normalize, y_treino_normalize)\n",
    "predictionMLP = mlp_best.predict(X_teste_normalize)"
   ]
  },
  {
   "cell_type": "markdown",
   "metadata": {},
   "source": [
    "### Criação do ficheiro de submissão"
   ]
  },
  {
   "cell_type": "code",
   "execution_count": 24,
   "metadata": {},
   "outputs": [],
   "source": [
    "with open('results.csv', 'w') as results:\n",
    "    results.write('RowId,Result\\n')\n",
    "    i = 1\n",
    "    for p in predictionGBM:\n",
    "        results.write(f'{i},{p}\\n')\n",
    "        i+=1"
   ]
  }
 ],
 "metadata": {
  "kernelspec": {
   "display_name": "daa",
   "language": "python",
   "name": "python3"
  },
  "language_info": {
   "codemirror_mode": {
    "name": "ipython",
    "version": 3
   },
   "file_extension": ".py",
   "mimetype": "text/x-python",
   "name": "python",
   "nbconvert_exporter": "python",
   "pygments_lexer": "ipython3",
   "version": "3.10.13"
  }
 },
 "nbformat": 4,
 "nbformat_minor": 2
}
