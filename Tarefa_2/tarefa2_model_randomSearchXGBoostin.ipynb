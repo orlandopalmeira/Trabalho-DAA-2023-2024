{
 "cells": [
  {
   "cell_type": "code",
   "execution_count": 1,
   "metadata": {},
   "outputs": [],
   "source": [
    "import pandas as pd\n",
    "import numpy as np\n",
    "from sklearn.model_selection import RandomizedSearchCV, train_test_split, StratifiedKFold\n",
    "from sklearn.metrics import classification_report, ConfusionMatrixDisplay\n",
    "from sklearn.preprocessing import MinMaxScaler\n",
    "from xgboost import XGBClassifier\n",
    "import matplotlib.pyplot as plt\n",
    "from sklearn.preprocessing import LabelBinarizer\n",
    "from sklearn.metrics import classification_report, ConfusionMatrixDisplay\n",
    "from sklearn.model_selection import cross_val_score\n",
    "from sklearn.model_selection import GridSearchCV\n",
    "from sklearn.model_selection import train_test_split\n"
   ]
  },
  {
   "cell_type": "markdown",
   "metadata": {},
   "source": [
    "Upload dos datasets de treino e de testes obtidos no **tarefa_2_get_data**:"
   ]
  },
  {
   "cell_type": "code",
   "execution_count": 2,
   "metadata": {},
   "outputs": [],
   "source": [
    "data_treino = pd.read_csv('dataset_treino.csv', na_filter=False)\n",
    "data_teste = pd.read_csv('dataset_teste.csv', na_filter=False)"
   ]
  },
  {
   "cell_type": "code",
   "execution_count": null,
   "metadata": {},
   "outputs": [],
   "source": []
  },
  {
   "cell_type": "markdown",
   "metadata": {},
   "source": [
    "Damos drop da coluna Data:"
   ]
  },
  {
   "cell_type": "code",
   "execution_count": 3,
   "metadata": {},
   "outputs": [],
   "source": [
    "#data_treino.drop(columns=['Data'], inplace=True)\n",
    "#data_teste.drop(columns=['Data'], inplace=True)"
   ]
  },
  {
   "cell_type": "markdown",
   "metadata": {},
   "source": [
    "One hot encoding do atributo weather_description no dataset de treino e de teste:"
   ]
  },
  {
   "cell_type": "code",
   "execution_count": 4,
   "metadata": {},
   "outputs": [
    {
     "name": "stdout",
     "output_type": "stream",
     "text": [
      "<class 'pandas.core.frame.DataFrame'>\n",
      "RangeIndex: 11016 entries, 0 to 11015\n",
      "Data columns (total 29 columns):\n",
      " #   Column                   Non-Null Count  Dtype  \n",
      "---  ------                   --------------  -----  \n",
      " 0   Data                     11016 non-null  object \n",
      " 1   Ano_x                    11016 non-null  int64  \n",
      " 2   Mês_x                    11016 non-null  int64  \n",
      " 3   Dia_x                    11016 non-null  int64  \n",
      " 4   Hora_x                   11016 non-null  int64  \n",
      " 5   Normal (kWh)             11016 non-null  float64\n",
      " 6   Horário Económico (kWh)  11016 non-null  float64\n",
      " 7   Autoconsumo (kWh)        11016 non-null  float64\n",
      " 8   Injeção na rede (kWh)    11016 non-null  object \n",
      " 9   Ano_y                    11016 non-null  int64  \n",
      " 10  Mês_y                    11016 non-null  int64  \n",
      " 11  Dia_y                    11016 non-null  int64  \n",
      " 12  Hora_y                   11016 non-null  int64  \n",
      " 13  feels_like               11016 non-null  float64\n",
      " 14  temp_min                 11016 non-null  float64\n",
      " 15  temp_max                 11016 non-null  float64\n",
      " 16  pressure                 11016 non-null  int64  \n",
      " 17  humidity                 11016 non-null  int64  \n",
      " 18  wind_speed               11016 non-null  float64\n",
      " 19  rain_1h                  11016 non-null  float64\n",
      " 20  clouds_all               11016 non-null  int64  \n",
      " 21  broken clouds            11016 non-null  int32  \n",
      " 22  few clouds               11016 non-null  int32  \n",
      " 23  heavy intensity rain     11016 non-null  int32  \n",
      " 24  light rain               11016 non-null  int32  \n",
      " 25  moderate rain            11016 non-null  int32  \n",
      " 26  overcast clouds          11016 non-null  int32  \n",
      " 27  scattered clouds         11016 non-null  int32  \n",
      " 28  sky is clear             11016 non-null  int32  \n",
      "dtypes: float64(8), int32(8), int64(11), object(2)\n",
      "memory usage: 2.1+ MB\n"
     ]
    }
   ],
   "source": [
    "lb = LabelBinarizer()\n",
    "lb_results = lb.fit_transform(data_treino['weather_description'])\n",
    "lb_results_df = pd.DataFrame(lb_results, columns=lb.classes_)\n",
    "\n",
    "data_treino = pd.concat([data_treino, lb_results_df], axis=1)\n",
    "data_treino.drop(columns=['weather_description'], inplace=True)\n",
    "data_treino.info()"
   ]
  },
  {
   "cell_type": "code",
   "execution_count": 5,
   "metadata": {},
   "outputs": [],
   "source": [
    "lb = LabelBinarizer()\n",
    "lb_results = lb.fit_transform(data_teste['weather_description'])\n",
    "lb_results_df = pd.DataFrame(lb_results, columns=lb.classes_)\n",
    "\n",
    "data_teste = pd.concat([data_teste, lb_results_df], axis=1)\n",
    "data_teste.drop(columns=['weather_description'], inplace=True)\n"
   ]
  },
  {
   "cell_type": "markdown",
   "metadata": {},
   "source": [
    "Feature Engineering: criamos os atributos pressure_level, rolling_avg_temp, temp_humidity_interaction e wind_rain_interaction:"
   ]
  },
  {
   "cell_type": "code",
   "execution_count": 6,
   "metadata": {},
   "outputs": [
    {
     "name": "stdout",
     "output_type": "stream",
     "text": [
      "<class 'pandas.core.frame.DataFrame'>\n",
      "RangeIndex: 11016 entries, 0 to 11015\n",
      "Data columns (total 47 columns):\n",
      " #   Column                                 Non-Null Count  Dtype   \n",
      "---  ------                                 --------------  -----   \n",
      " 0   Data                                   11016 non-null  object  \n",
      " 1   Ano_x                                  11016 non-null  int64   \n",
      " 2   Mês_x                                  11016 non-null  int64   \n",
      " 3   Dia_x                                  11016 non-null  int64   \n",
      " 4   Hora_x                                 11016 non-null  int64   \n",
      " 5   Normal (kWh)                           11016 non-null  float64 \n",
      " 6   Horário Económico (kWh)                11016 non-null  float64 \n",
      " 7   Autoconsumo (kWh)                      11016 non-null  float64 \n",
      " 8   Injeção na rede (kWh)                  11016 non-null  object  \n",
      " 9   Ano_y                                  11016 non-null  int64   \n",
      " 10  Mês_y                                  11016 non-null  int64   \n",
      " 11  Dia_y                                  11016 non-null  int64   \n",
      " 12  Hora_y                                 11016 non-null  int64   \n",
      " 13  feels_like                             11016 non-null  float64 \n",
      " 14  temp_min                               11016 non-null  float64 \n",
      " 15  temp_max                               11016 non-null  float64 \n",
      " 16  pressure                               11016 non-null  int64   \n",
      " 17  humidity                               11016 non-null  int64   \n",
      " 18  wind_speed                             11016 non-null  float64 \n",
      " 19  rain_1h                                11016 non-null  float64 \n",
      " 20  clouds_all                             11016 non-null  int64   \n",
      " 21  broken clouds                          11016 non-null  int32   \n",
      " 22  few clouds                             11016 non-null  int32   \n",
      " 23  heavy intensity rain                   11016 non-null  int32   \n",
      " 24  light rain                             11016 non-null  int32   \n",
      " 25  moderate rain                          11016 non-null  int32   \n",
      " 26  overcast clouds                        11016 non-null  int32   \n",
      " 27  scattered clouds                       11016 non-null  int32   \n",
      " 28  sky is clear                           11016 non-null  int32   \n",
      " 29  pressure_level                         11016 non-null  category\n",
      " 30  rolling_avg_temp                       11016 non-null  float64 \n",
      " 31  temp_humidity_interaction              11016 non-null  float64 \n",
      " 32  wind_rain_interaction                  11016 non-null  float64 \n",
      " 33  temp_wind_interaction                  11016 non-null  float64 \n",
      " 34  wind_humidity_interaction              11016 non-null  float64 \n",
      " 35  humidity_rain_interaction              11016 non-null  float64 \n",
      " 36  month_mean_consumption                 11016 non-null  float64 \n",
      " 37  daily_mean_consumption                 11016 non-null  float64 \n",
      " 38  relative_humidity                      11016 non-null  float64 \n",
      " 39  wind_speed_category                    11015 non-null  category\n",
      " 40  lag_temp_max                           11016 non-null  float64 \n",
      " 41  temp_change                            11016 non-null  float64 \n",
      " 42  temp_deviation_from_month_mean         11016 non-null  float64 \n",
      " 43  wind_speed_deviation_from_daily_mean   11016 non-null  float64 \n",
      " 44  humidity_deviation_from_month_mean     11016 non-null  float64 \n",
      " 45  rolling_avg_temp_humidity_interaction  11016 non-null  float64 \n",
      " 46  wind_humidity_rain_interaction         11016 non-null  float64 \n",
      "dtypes: category(2), float64(24), int32(8), int64(11), object(2)\n",
      "memory usage: 3.5+ MB\n"
     ]
    }
   ],
   "source": [
    "data_treino['pressure_level'] = pd.cut(data_treino['pressure'], bins=[0, 1000, 1020, 1050], labels=['low', 'medium', 'high'])\n",
    "data_teste['pressure_level'] = pd.cut(data_teste['pressure'], bins=[0, 1000, 1020, 1050], labels=['low', 'medium', 'high'])\n",
    "\n",
    "data_treino['rolling_avg_temp'] = data_treino['temp_max'].rolling(window=3).mean()\n",
    "data_teste['rolling_avg_temp'] = data_teste['temp_max'].rolling(window=3).mean()\n",
    "data_treino['rolling_avg_temp'].fillna(data_treino['temp_max'], inplace=True)\n",
    "data_teste['rolling_avg_temp'].fillna(data_teste['temp_max'], inplace=True)\n",
    "\n",
    "\n",
    "data_treino['temp_humidity_interaction'] = data_treino['temp_max'] * data_treino['humidity']\n",
    "data_teste['temp_humidity_interaction'] = data_teste['temp_max'] * data_teste['humidity']\n",
    "\n",
    "data_treino['wind_rain_interaction'] = data_treino['wind_speed'] * data_treino['rain_1h']\n",
    "data_teste['wind_rain_interaction'] = data_teste['wind_speed'] * data_teste['rain_1h']\n",
    "\n",
    "data_treino['temp_wind_interaction'] = data_treino['temp_max'] * data_treino['wind_speed']\n",
    "data_teste['temp_wind_interaction'] = data_teste['temp_max'] * data_teste['wind_speed']\n",
    "\n",
    "data_treino['wind_humidity_interaction'] = data_treino['wind_speed'] * data_treino['humidity']\n",
    "data_teste['wind_humidity_interaction'] = data_teste['wind_speed'] * data_teste['humidity']\n",
    "\n",
    "data_treino['humidity_rain_interaction'] = data_treino['humidity'] * data_treino['rain_1h']\n",
    "data_teste['humidity_rain_interaction'] = data_teste['humidity'] * data_teste['rain_1h']\n",
    "\n",
    "data_treino['month_mean_consumption'] = data_treino.groupby('Mês_x')['Normal (kWh)'].transform('mean')\n",
    "data_teste['month_mean_consumption'] = data_teste['Mês_x'].map(data_treino.groupby('Mês_x')['Normal (kWh)'].mean())\n",
    "\n",
    "\n",
    "data_treino['daily_mean_consumption'] = data_treino.groupby('Data')['Normal (kWh)'].transform('mean')\n",
    "data_teste['daily_mean_consumption'] = data_teste['Data'].map(data_treino.groupby('Data')['Normal (kWh)'].mean())\n",
    "\n",
    "\n",
    "data_treino['relative_humidity'] = (data_treino['humidity'] / data_treino['humidity'].max()) * 100\n",
    "data_teste['relative_humidity'] = (data_teste['humidity'] / data_teste['humidity'].max()) * 100\n",
    "\n",
    "bins_wind = [0, 3, 5, 8, 11]\n",
    "labels_wind = ['calm', 'light', 'moderate', 'strong']\n",
    "data_treino['wind_speed_category'] = pd.cut(data_treino['wind_speed'], bins=bins_wind, labels=labels_wind)\n",
    "data_teste['wind_speed_category'] = pd.cut(data_teste['wind_speed'], bins=bins_wind, labels=labels_wind)\n",
    "\n",
    "#max_wind_speed = data_treino['wind_speed'].max()\n",
    "#min_wind_speed = data_treino['wind_speed'].min()\n",
    "#print(f\"Maximum Wind Speed: {max_wind_speed}\")\n",
    "#print(f\"Minimum Wind Speed: {min_wind_speed}\")\n",
    "\n",
    "#lag feature para analisarmos as defasagem da temp max\n",
    "data_treino['lag_temp_max'] = data_treino['temp_max'].shift(1)\n",
    "data_treino['lag_temp_max'].fillna(data_treino['temp_max'], inplace=True)\n",
    "data_treino['temp_change'] = data_treino['temp_max'] - data_treino['lag_temp_max']\n",
    "\n",
    "data_teste['lag_temp_max'] = data_teste['temp_max'].shift(1)\n",
    "data_teste['lag_temp_max'].fillna(data_teste['temp_max'], inplace=True)\n",
    "data_teste['temp_change'] = data_teste['temp_max'] - data_teste['lag_temp_max']\n",
    "\n",
    "data_treino['temp_deviation_from_month_mean'] = data_treino['temp_max'] - data_treino.groupby('Mês_y')['temp_max'].transform('mean')\n",
    "data_teste['temp_deviation_from_month_mean'] = data_teste['temp_max'] - data_teste['Mês_y'].map(data_treino.groupby('Mês_y')['temp_max'].mean())\n",
    "\n",
    "data_treino['wind_speed_deviation_from_daily_mean'] = data_treino['wind_speed'] - data_treino.groupby('Data')['wind_speed'].transform('mean')\n",
    "data_teste['wind_speed_deviation_from_daily_mean'] = data_teste['wind_speed'] - data_teste['Data'].map(data_treino.groupby('Data')['wind_speed'].mean())\n",
    "\n",
    "data_treino['humidity_deviation_from_month_mean'] = data_treino['humidity'] - data_treino.groupby('Mês_y')['humidity'].transform('mean')\n",
    "data_teste['humidity_deviation_from_month_mean'] = data_teste['humidity'] - data_teste['Mês_y'].map(data_treino.groupby('Mês_y')['humidity'].mean())\n",
    "\n",
    "data_treino['rolling_avg_temp_humidity_interaction'] = data_treino['rolling_avg_temp'] * data_treino['humidity']\n",
    "data_teste['rolling_avg_temp_humidity_interaction'] = data_teste['rolling_avg_temp'] * data_teste['humidity']\n",
    "\n",
    "data_treino['wind_humidity_rain_interaction'] = data_treino['wind_speed'] * data_treino['humidity'] * data_treino['rain_1h']\n",
    "data_teste['wind_humidity_rain_interaction'] = data_teste['wind_speed'] * data_teste['humidity'] * data_teste['rain_1h']\n",
    "\n",
    "data_treino.info()"
   ]
  },
  {
   "cell_type": "code",
   "execution_count": 7,
   "metadata": {},
   "outputs": [],
   "source": [
    "data_treino.drop(columns=['Data'], inplace=True)\n",
    "data_teste.drop(columns=['Data'], inplace=True)"
   ]
  },
  {
   "cell_type": "markdown",
   "metadata": {},
   "source": [
    "one-hot encoding do pressure_level:"
   ]
  },
  {
   "cell_type": "code",
   "execution_count": 8,
   "metadata": {},
   "outputs": [],
   "source": [
    "\n",
    "pressure_level_dummies_train = pd.get_dummies(data_treino['pressure_level'], prefix='pressure_')\n",
    "\n",
    "data_treino = pd.concat([data_treino, pressure_level_dummies_train], axis=1)\n",
    "\n",
    "data_treino = data_treino.drop('pressure_level', axis=1)\n",
    "\n",
    "\n",
    "\n",
    "\n",
    "wind_speed_category_dummies_train = pd.get_dummies(data_treino['wind_speed_category'], prefix='wind_speed_')\n",
    "\n",
    "data_treino = pd.concat([data_treino, wind_speed_category_dummies_train], axis=1)\n",
    "\n",
    "data_treino = data_treino.drop('wind_speed_category', axis=1)\n"
   ]
  },
  {
   "cell_type": "code",
   "execution_count": 9,
   "metadata": {},
   "outputs": [],
   "source": [
    "\n",
    "pressure_level_dummies_test = pd.get_dummies(data_teste['pressure_level'], prefix='pressure_')\n",
    "\n",
    "data_teste = pd.concat([data_teste, pressure_level_dummies_test], axis=1)\n",
    "\n",
    "data_teste = data_teste.drop('pressure_level', axis=1)\n",
    "\n",
    "wind_speed_category_dummies_test = pd.get_dummies(data_teste['wind_speed_category'], prefix='wind_speed_')\n",
    "\n",
    "data_teste = pd.concat([data_teste, wind_speed_category_dummies_test], axis=1)\n",
    "\n",
    "data_teste = data_teste.drop('wind_speed_category', axis=1)\n"
   ]
  },
  {
   "cell_type": "code",
   "execution_count": 10,
   "metadata": {},
   "outputs": [],
   "source": [
    "float_features = data_treino.select_dtypes(include='float')\n",
    "int_features = data_treino.select_dtypes(include='int')\n",
    "\n",
    "data_treino[float_features.columns] = data_treino[float_features.columns].astype(np.float32)\n",
    "data_treino[int_features.columns] = data_treino[int_features.columns].astype(np.int32)\n",
    "#data_treino.info()"
   ]
  },
  {
   "cell_type": "code",
   "execution_count": 11,
   "metadata": {},
   "outputs": [],
   "source": [
    "float_features = data_teste.select_dtypes(include='float')\n",
    "int_features = data_teste.select_dtypes(include='int')\n",
    "\n",
    "data_teste[float_features.columns] = data_teste[float_features.columns].astype(np.float32)\n",
    "data_teste[int_features.columns] = data_teste[int_features.columns].astype(np.int32)\n",
    "#data_teste.info()"
   ]
  },
  {
   "cell_type": "code",
   "execution_count": 12,
   "metadata": {},
   "outputs": [
    {
     "name": "stdout",
     "output_type": "stream",
     "text": [
      "<class 'pandas.core.frame.DataFrame'>\n",
      "RangeIndex: 2256 entries, 0 to 2255\n",
      "Data columns (total 50 columns):\n",
      " #   Column                                 Non-Null Count  Dtype  \n",
      "---  ------                                 --------------  -----  \n",
      " 0   Ano_x                                  2256 non-null   int32  \n",
      " 1   Mês_x                                  2256 non-null   int32  \n",
      " 2   Dia_x                                  2256 non-null   int32  \n",
      " 3   Hora_x                                 2256 non-null   int32  \n",
      " 4   Normal (kWh)                           2256 non-null   float32\n",
      " 5   Horário Económico (kWh)                2256 non-null   float32\n",
      " 6   Autoconsumo (kWh)                      2256 non-null   float32\n",
      " 7   Ano_y                                  2256 non-null   int32  \n",
      " 8   Mês_y                                  2256 non-null   int32  \n",
      " 9   Dia_y                                  2256 non-null   int32  \n",
      " 10  Hora_y                                 2256 non-null   int32  \n",
      " 11  feels_like                             2256 non-null   float32\n",
      " 12  temp_min                               2256 non-null   float32\n",
      " 13  temp_max                               2256 non-null   float32\n",
      " 14  pressure                               2256 non-null   int32  \n",
      " 15  humidity                               2256 non-null   int32  \n",
      " 16  wind_speed                             2256 non-null   float32\n",
      " 17  rain_1h                                2256 non-null   float32\n",
      " 18  clouds_all                             2256 non-null   int32  \n",
      " 19  broken clouds                          2256 non-null   int32  \n",
      " 20  few clouds                             2256 non-null   int32  \n",
      " 21  heavy intensity rain                   2256 non-null   int32  \n",
      " 22  light rain                             2256 non-null   int32  \n",
      " 23  moderate rain                          2256 non-null   int32  \n",
      " 24  overcast clouds                        2256 non-null   int32  \n",
      " 25  scattered clouds                       2256 non-null   int32  \n",
      " 26  sky is clear                           2256 non-null   int32  \n",
      " 27  rolling_avg_temp                       2256 non-null   float32\n",
      " 28  temp_humidity_interaction              2256 non-null   float32\n",
      " 29  wind_rain_interaction                  2256 non-null   float32\n",
      " 30  temp_wind_interaction                  2256 non-null   float32\n",
      " 31  wind_humidity_interaction              2256 non-null   float32\n",
      " 32  humidity_rain_interaction              2256 non-null   float32\n",
      " 33  month_mean_consumption                 2256 non-null   float32\n",
      " 34  daily_mean_consumption                 0 non-null      float32\n",
      " 35  relative_humidity                      2256 non-null   float32\n",
      " 36  lag_temp_max                           2256 non-null   float32\n",
      " 37  temp_change                            2256 non-null   float32\n",
      " 38  temp_deviation_from_month_mean         2256 non-null   float32\n",
      " 39  wind_speed_deviation_from_daily_mean   0 non-null      float32\n",
      " 40  humidity_deviation_from_month_mean     2256 non-null   float32\n",
      " 41  rolling_avg_temp_humidity_interaction  2256 non-null   float32\n",
      " 42  wind_humidity_rain_interaction         2256 non-null   float32\n",
      " 43  pressure__low                          2256 non-null   bool   \n",
      " 44  pressure__medium                       2256 non-null   bool   \n",
      " 45  pressure__high                         2256 non-null   bool   \n",
      " 46  wind_speed__calm                       2256 non-null   bool   \n",
      " 47  wind_speed__light                      2256 non-null   bool   \n",
      " 48  wind_speed__moderate                   2256 non-null   bool   \n",
      " 49  wind_speed__strong                     2256 non-null   bool   \n",
      "dtypes: bool(7), float32(24), int32(19)\n",
      "memory usage: 394.5 KB\n"
     ]
    }
   ],
   "source": [
    "data_teste.info()"
   ]
  },
  {
   "cell_type": "code",
   "execution_count": 13,
   "metadata": {},
   "outputs": [
    {
     "name": "stderr",
     "output_type": "stream",
     "text": [
      "c:\\Users\\migue\\miniconda3\\envs\\daa\\lib\\site-packages\\sklearn\\preprocessing\\_data.py:479: RuntimeWarning: All-NaN slice encountered\n",
      "  data_min = np.nanmin(X, axis=0)\n",
      "c:\\Users\\migue\\miniconda3\\envs\\daa\\lib\\site-packages\\sklearn\\preprocessing\\_data.py:480: RuntimeWarning: All-NaN slice encountered\n",
      "  data_max = np.nanmax(X, axis=0)\n"
     ]
    }
   ],
   "source": [
    "from sklearn.preprocessing import MinMaxScaler\n",
    "data_treino_normalize = data_treino.copy()\n",
    "data_teste_normalize = data_teste.copy()\n",
    "\n",
    "X_scale = data_treino_normalize.drop(columns=['Injeção na rede (kWh)'])\n",
    "\n",
    "scaler_X = MinMaxScaler(feature_range=(0,1)).fit(X_scale)\n",
    "scaler_y = MinMaxScaler(feature_range=(0,1)).fit(data_teste_normalize)\n",
    "X_scale = pd.DataFrame(scaler_X.transform(X_scale[X_scale.columns]), columns=X_scale.columns)\n",
    "data_teste_normalize = pd.DataFrame(scaler_y.transform(data_teste_normalize[data_teste_normalize.columns]), columns=data_teste_normalize.columns)\n",
    "\n",
    "data_treino_normalize = pd.concat([X_scale, data_treino_normalize['Injeção na rede (kWh)']], axis=1)\n",
    "\n",
    "#data_treino_normalize.head()"
   ]
  },
  {
   "cell_type": "code",
   "execution_count": 14,
   "metadata": {},
   "outputs": [],
   "source": [
    "float_features_normalize = data_treino_normalize.select_dtypes(include='float')\n",
    "\n",
    "data_treino_normalize[float_features_normalize.columns] = data_treino_normalize[float_features_normalize.columns].astype(np.float32)\n",
    "#data_treino_normalize.info()"
   ]
  },
  {
   "cell_type": "code",
   "execution_count": 15,
   "metadata": {},
   "outputs": [],
   "source": [
    "float_features_normalize = data_teste_normalize.select_dtypes(include='float')\n",
    "\n",
    "data_teste_normalize[float_features_normalize.columns] = data_teste_normalize[float_features_normalize.columns].astype(np.float32)\n",
    "#data_teste_normalize.info()"
   ]
  },
  {
   "cell_type": "code",
   "execution_count": 16,
   "metadata": {},
   "outputs": [
    {
     "data": {
      "text/plain": [
       "Index(['Ano_x', 'Mês_x', 'Dia_x', 'Hora_x', 'Normal (kWh)',\n",
       "       'Horário Económico (kWh)', 'Autoconsumo (kWh)', 'Injeção na rede (kWh)',\n",
       "       'Ano_y', 'Mês_y', 'Dia_y', 'Hora_y', 'feels_like', 'temp_min',\n",
       "       'temp_max', 'pressure', 'humidity', 'wind_speed', 'rain_1h',\n",
       "       'clouds_all', 'broken clouds', 'few clouds', 'heavy intensity rain',\n",
       "       'light rain', 'moderate rain', 'overcast clouds', 'scattered clouds',\n",
       "       'sky is clear', 'rolling_avg_temp', 'temp_humidity_interaction',\n",
       "       'wind_rain_interaction', 'temp_wind_interaction',\n",
       "       'wind_humidity_interaction', 'humidity_rain_interaction',\n",
       "       'month_mean_consumption', 'daily_mean_consumption', 'relative_humidity',\n",
       "       'lag_temp_max', 'temp_change', 'temp_deviation_from_month_mean',\n",
       "       'wind_speed_deviation_from_daily_mean',\n",
       "       'humidity_deviation_from_month_mean',\n",
       "       'rolling_avg_temp_humidity_interaction',\n",
       "       'wind_humidity_rain_interaction', 'pressure__low', 'pressure__medium',\n",
       "       'pressure__high', 'wind_speed__calm', 'wind_speed__light',\n",
       "       'wind_speed__moderate', 'wind_speed__strong'],\n",
       "      dtype='object')"
      ]
     },
     "execution_count": 16,
     "metadata": {},
     "output_type": "execute_result"
    }
   ],
   "source": [
    "data_treino.columns"
   ]
  },
  {
   "cell_type": "code",
   "execution_count": 17,
   "metadata": {},
   "outputs": [],
   "source": [
    "data_treino.drop(columns=['Ano_y', 'Mês_y', 'Dia_y', 'Hora_y'], inplace=True)\n",
    "data_teste.drop(columns=['Ano_y', 'Mês_y', 'Dia_y', 'Hora_y'], inplace=True)\n",
    "\n",
    "data_treino_normalize.drop(columns=['Ano_y', 'Mês_y', 'Dia_y', 'Hora_y'], inplace=True)\n",
    "data_teste_normalize.drop(columns=['Ano_y', 'Mês_y', 'Dia_y', 'Hora_y'], inplace=True)"
   ]
  },
  {
   "cell_type": "code",
   "execution_count": 18,
   "metadata": {},
   "outputs": [
    {
     "data": {
      "text/plain": [
       "Index(['Ano_x', 'Mês_x', 'Dia_x', 'Hora_x', 'Normal (kWh)',\n",
       "       'Horário Económico (kWh)', 'Autoconsumo (kWh)', 'Injeção na rede (kWh)',\n",
       "       'feels_like', 'temp_min', 'temp_max', 'pressure', 'humidity',\n",
       "       'wind_speed', 'rain_1h', 'clouds_all', 'broken clouds', 'few clouds',\n",
       "       'heavy intensity rain', 'light rain', 'moderate rain',\n",
       "       'overcast clouds', 'scattered clouds', 'sky is clear',\n",
       "       'rolling_avg_temp', 'temp_humidity_interaction',\n",
       "       'wind_rain_interaction', 'temp_wind_interaction',\n",
       "       'wind_humidity_interaction', 'humidity_rain_interaction',\n",
       "       'month_mean_consumption', 'daily_mean_consumption', 'relative_humidity',\n",
       "       'lag_temp_max', 'temp_change', 'temp_deviation_from_month_mean',\n",
       "       'wind_speed_deviation_from_daily_mean',\n",
       "       'humidity_deviation_from_month_mean',\n",
       "       'rolling_avg_temp_humidity_interaction',\n",
       "       'wind_humidity_rain_interaction', 'pressure__low', 'pressure__medium',\n",
       "       'pressure__high', 'wind_speed__calm', 'wind_speed__light',\n",
       "       'wind_speed__moderate', 'wind_speed__strong'],\n",
       "      dtype='object')"
      ]
     },
     "execution_count": 18,
     "metadata": {},
     "output_type": "execute_result"
    }
   ],
   "source": [
    "data_treino.columns"
   ]
  },
  {
   "cell_type": "code",
   "execution_count": 19,
   "metadata": {},
   "outputs": [],
   "source": [
    "X_treino = data_treino.drop(columns=['Injeção na rede (kWh)'])\n",
    "y_treino = data_treino['Injeção na rede (kWh)']\n",
    "\n",
    "X_teste = data_teste\n",
    "\n",
    "\n",
    "X_treino_normalize = data_treino_normalize.drop(columns=['Injeção na rede (kWh)'])\n",
    "y_treino_normalize = data_treino_normalize['Injeção na rede (kWh)']\n",
    "\n",
    "X_teste_normalize = data_teste_normalize"
   ]
  },
  {
   "cell_type": "code",
   "execution_count": 20,
   "metadata": {},
   "outputs": [],
   "source": [
    "\n",
    "X_train, X_test, y_train, y_test = train_test_split(X_treino, y_treino, test_size=0.25, random_state=2023, stratify=y_treino)\n",
    "X_train_normalize, X_test_normalize, y_train_normalize, y_test_normalize = train_test_split(X_treino_normalize, y_treino_normalize, test_size=0.25, random_state=2023, stratify=y_treino_normalize)"
   ]
  },
  {
   "cell_type": "code",
   "execution_count": 21,
   "metadata": {},
   "outputs": [],
   "source": [
    "from xgboost import XGBClassifier\n",
    "from sklearn.preprocessing import LabelEncoder\n",
    "\n",
    "\n",
    "xgb = XGBClassifier(random_state=2023, objective='multi:softprob', num_class=5)\n",
    "\n",
    "# label_encoder = LabelEncoder()\n",
    "# y_train_normalize = label_encoder.fit_transform(y_train_normalize)\n",
    "# y_test_normalize = label_encoder.fit_transform(y_test_normalize)\n",
    "\n",
    "label_mapping = {'None': 0, 'Low': 1, 'Medium': 2, 'High': 3, 'Very High': 4}\n",
    "y_train_normalize = y_train_normalize.replace(label_mapping)\n",
    "y_test_normalize = y_test_normalize.replace(label_mapping)"
   ]
  },
  {
   "cell_type": "markdown",
   "metadata": {},
   "source": [
    "Usamos Random Search:"
   ]
  },
  {
   "cell_type": "code",
   "execution_count": 22,
   "metadata": {},
   "outputs": [
    {
     "name": "stderr",
     "output_type": "stream",
     "text": [
      "c:\\Users\\migue\\miniconda3\\envs\\daa\\lib\\site-packages\\sklearn\\model_selection\\_search.py:307: UserWarning: The total space of parameters 1 is smaller than n_iter=10. Running 1 iterations. For exhaustive searches, use GridSearchCV.\n",
      "  warnings.warn(\n"
     ]
    },
    {
     "name": "stdout",
     "output_type": "stream",
     "text": [
      "Fitting 5 folds for each of 1 candidates, totalling 5 fits\n",
      "[CV 1/5] END colsample_bytree=0.8, gamma=0.1, learning_rate=0.01, max_depth=5, min_child_weight=2, n_estimators=600;, score=0.877 total time=   1.8s\n",
      "[CV 2/5] END colsample_bytree=0.8, gamma=0.1, learning_rate=0.01, max_depth=5, min_child_weight=2, n_estimators=600;, score=0.883 total time=   1.7s\n",
      "[CV 3/5] END colsample_bytree=0.8, gamma=0.1, learning_rate=0.01, max_depth=5, min_child_weight=2, n_estimators=600;, score=0.878 total time=   1.7s\n",
      "[CV 4/5] END colsample_bytree=0.8, gamma=0.1, learning_rate=0.01, max_depth=5, min_child_weight=2, n_estimators=600;, score=0.890 total time=   1.7s\n",
      "[CV 5/5] END colsample_bytree=0.8, gamma=0.1, learning_rate=0.01, max_depth=5, min_child_weight=2, n_estimators=600;, score=0.872 total time=   1.8s\n",
      "Best Hyperparameters: {'n_estimators': 600, 'min_child_weight': 2, 'max_depth': 5, 'learning_rate': 0.01, 'gamma': 0.1, 'colsample_bytree': 0.8}\n",
      "              precision    recall  f1-score   support\n",
      "\n",
      "           0       0.97      0.98      0.98      1944\n",
      "           1       0.42      0.16      0.23       108\n",
      "           2       0.66      0.64      0.65       274\n",
      "           3       0.67      0.76      0.71       276\n",
      "           4       0.76      0.79      0.77       152\n",
      "\n",
      "    accuracy                           0.88      2754\n",
      "   macro avg       0.70      0.67      0.67      2754\n",
      "weighted avg       0.87      0.88      0.88      2754\n",
      "\n"
     ]
    },
    {
     "data": {
      "image/png": "[encoded data removed]",
      "text/plain": [
       "<Figure size 640x480 with 2 Axes>"
      ]
     },
     "metadata": {},
     "output_type": "display_data"
    }
   ],
   "source": [
    "from sklearn.model_selection import RandomizedSearchCV\n",
    "from sklearn.metrics import make_scorer\n",
    "from sklearn.metrics import accuracy_score\n",
    "\n",
    "\n",
    "# Define the parameter grid\n",
    "param_dist = {\n",
    "    'learning_rate': [0.01],\n",
    "    'n_estimators': [600],\n",
    "    'max_depth': [5],\n",
    "    'gamma': [0.1],\n",
    "    'min_child_weight': [2],\n",
    "    'colsample_bytree': [0.8],\n",
    "}\n",
    "\n",
    "# Use RandomizedSearchCV instead of GridSearchCV\n",
    "random_searchXGB = RandomizedSearchCV(\n",
    "    xgb,\n",
    "    param_distributions=param_dist,\n",
    "    n_iter=10,  # Adjust the number of iterations based on your resources\n",
    "    scoring=make_scorer(accuracy_score),  # Change this to your desired metric\n",
    "    cv=5,\n",
    "    refit=True,\n",
    "    verbose=3,\n",
    "    random_state=2023\n",
    ")\n",
    "\n",
    "# Fit the model\n",
    "random_searchXGB.fit(X_train_normalize, y_train_normalize)\n",
    "\n",
    "\n",
    "# Get the best estimator and its hyperparameters\n",
    "XGB_best  = random_searchXGB.best_estimator_\n",
    "best_params = random_searchXGB.best_params_\n",
    "\n",
    "# Print the best hyperparameters\n",
    "print(\"Best Hyperparameters:\", best_params)\n",
    "\n",
    "# Predictions and evaluation\n",
    "grid_predictionXGB = random_searchXGB.predict(X_test_normalize)\n",
    "print(classification_report(y_test_normalize, grid_predictionXGB))\n",
    "ConfusionMatrixDisplay.from_estimator(XGB_best, X_test_normalize, y_test_normalize)\n",
    "plt.show()"
   ]
  },
  {
   "cell_type": "code",
   "execution_count": 23,
   "metadata": {},
   "outputs": [],
   "source": [
    "# label_encoder = LabelEncoder()\n",
    "# y_treino_normalize = label_encoder.fit_transform(y_treino_normalize)\n",
    "\n",
    "label_mapping = {'None': 0, 'Low': 1, 'Medium': 2, 'High': 3, 'Very High': 4}\n",
    "y_treino_normalize = y_treino_normalize.replace(label_mapping)\n",
    "\n",
    "XGB_best.fit(X_treino_normalize, y_treino_normalize)\n",
    "predictionXGB = XGB_best.predict(X_teste_normalize)\n",
    "\n",
    "inverted_label_mapping = {0: 'None', 1: 'Low', 2: 'Medium', 3: 'High', 4: 'Very High'}\n",
    "predictionXGB = np.vectorize(inverted_label_mapping.get)(predictionXGB)\n",
    "\n",
    "# predictionXGB = label_encoder.inverse_transform(predictionXGB)"
   ]
  },
  {
   "cell_type": "code",
   "execution_count": null,
   "metadata": {},
   "outputs": [],
   "source": [
    "with open('results.csv', 'w') as results:\n",
    "    results.write('RowId,Result\\n')\n",
    "    i = 1\n",
    "    for p in predictionXGB:\n",
    "        results.write(f'{i},{p}\\n')\n",
    "        i+=1"
   ]
  }
 ],
 "metadata": {
  "kernelspec": {
   "display_name": "base",
   "language": "python",
   "name": "python3"
  },
  "language_info": {
   "codemirror_mode": {
    "name": "ipython",
    "version": 3
   },
   "file_extension": ".py",
   "mimetype": "text/x-python",
   "name": "python",
   "nbconvert_exporter": "python",
   "pygments_lexer": "ipython3",
   "version": "3.10.13"
  }
 },
 "nbformat": 4,
 "nbformat_minor": 2
}
