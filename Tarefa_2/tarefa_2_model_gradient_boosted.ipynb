{
 "cells": [
  {
   "cell_type": "markdown",
   "metadata": {},
   "source": [
    "# Tratamento dos dados"
   ]
  },
  {
   "cell_type": "code",
   "execution_count": 1,
   "metadata": {},
   "outputs": [],
   "source": [
    "import pandas as pd\n",
    "import numpy as np\n",
    "import matplotlib.pyplot as plt\n",
    "import seaborn as sns\n",
    "%matplotlib inline"
   ]
  },
  {
   "cell_type": "code",
   "execution_count": 2,
   "metadata": {},
   "outputs": [],
   "source": [
    "data_treino = pd.read_csv('dataset_treino.csv', na_filter=False)\n",
    "data_teste = pd.read_csv('dataset_teste.csv', na_filter=False)"
   ]
  },
  {
   "cell_type": "code",
   "execution_count": 3,
   "metadata": {},
   "outputs": [
    {
     "name": "stdout",
     "output_type": "stream",
     "text": [
      "<class 'pandas.core.frame.DataFrame'>\n",
      "RangeIndex: 11016 entries, 0 to 11015\n",
      "Data columns (total 15 columns):\n",
      " #   Column                   Non-Null Count  Dtype  \n",
      "---  ------                   --------------  -----  \n",
      " 0   Data                     11016 non-null  object \n",
      " 1   Normal (kWh)             11016 non-null  float64\n",
      " 2   Horário Económico (kWh)  11016 non-null  float64\n",
      " 3   Autoconsumo (kWh)        11016 non-null  float64\n",
      " 4   Injeção na rede (kWh)    11016 non-null  object \n",
      " 5   temp                     11016 non-null  float64\n",
      " 6   feels_like               11016 non-null  float64\n",
      " 7   temp_min                 11016 non-null  float64\n",
      " 8   temp_max                 11016 non-null  float64\n",
      " 9   pressure                 11016 non-null  int64  \n",
      " 10  humidity                 11016 non-null  int64  \n",
      " 11  wind_speed               11016 non-null  float64\n",
      " 12  rain_1h                  11016 non-null  float64\n",
      " 13  clouds_all               11016 non-null  int64  \n",
      " 14  weather_description      11016 non-null  object \n",
      "dtypes: float64(9), int64(3), object(3)\n",
      "memory usage: 1.3+ MB\n"
     ]
    }
   ],
   "source": [
    "data_treino.info()"
   ]
  },
  {
   "cell_type": "code",
   "execution_count": 4,
   "metadata": {},
   "outputs": [
    {
     "data": {
      "text/plain": [
       "Data                       2256\n",
       "Normal (kWh)                709\n",
       "Horário Económico (kWh)     490\n",
       "Autoconsumo (kWh)           485\n",
       "temp                       1039\n",
       "feels_like                 1198\n",
       "temp_min                    198\n",
       "temp_max                    208\n",
       "pressure                     31\n",
       "humidity                     73\n",
       "wind_speed                  563\n",
       "rain_1h                     134\n",
       "clouds_all                  100\n",
       "weather_description           8\n",
       "dtype: int64"
      ]
     },
     "execution_count": 4,
     "metadata": {},
     "output_type": "execute_result"
    }
   ],
   "source": [
    "data_teste.nunique()"
   ]
  },
  {
   "cell_type": "code",
   "execution_count": 5,
   "metadata": {},
   "outputs": [],
   "source": [
    "data_treino.drop(columns=['Data'], inplace=True)\n",
    "data_teste.drop(columns=['Data'], inplace=True)"
   ]
  },
  {
   "cell_type": "markdown",
   "metadata": {},
   "source": [
    "## One-Hot Encoding de **weather_description**"
   ]
  },
  {
   "cell_type": "code",
   "execution_count": 6,
   "metadata": {},
   "outputs": [
    {
     "name": "stdout",
     "output_type": "stream",
     "text": [
      "<class 'pandas.core.frame.DataFrame'>\n",
      "RangeIndex: 11016 entries, 0 to 11015\n",
      "Data columns (total 21 columns):\n",
      " #   Column                   Non-Null Count  Dtype  \n",
      "---  ------                   --------------  -----  \n",
      " 0   Normal (kWh)             11016 non-null  float64\n",
      " 1   Horário Económico (kWh)  11016 non-null  float64\n",
      " 2   Autoconsumo (kWh)        11016 non-null  float64\n",
      " 3   Injeção na rede (kWh)    11016 non-null  object \n",
      " 4   temp                     11016 non-null  float64\n",
      " 5   feels_like               11016 non-null  float64\n",
      " 6   temp_min                 11016 non-null  float64\n",
      " 7   temp_max                 11016 non-null  float64\n",
      " 8   pressure                 11016 non-null  int64  \n",
      " 9   humidity                 11016 non-null  int64  \n",
      " 10  wind_speed               11016 non-null  float64\n",
      " 11  rain_1h                  11016 non-null  float64\n",
      " 12  clouds_all               11016 non-null  int64  \n",
      " 13  broken clouds            11016 non-null  int32  \n",
      " 14  few clouds               11016 non-null  int32  \n",
      " 15  heavy intensity rain     11016 non-null  int32  \n",
      " 16  light rain               11016 non-null  int32  \n",
      " 17  moderate rain            11016 non-null  int32  \n",
      " 18  overcast clouds          11016 non-null  int32  \n",
      " 19  scattered clouds         11016 non-null  int32  \n",
      " 20  sky is clear             11016 non-null  int32  \n",
      "dtypes: float64(9), int32(8), int64(3), object(1)\n",
      "memory usage: 1.4+ MB\n"
     ]
    }
   ],
   "source": [
    "from sklearn.preprocessing import LabelBinarizer\n",
    "\n",
    "lb = LabelBinarizer()\n",
    "lb_results = lb.fit_transform(data_treino['weather_description'])\n",
    "lb_results_df = pd.DataFrame(lb_results, columns=lb.classes_)\n",
    "\n",
    "data_treino = pd.concat([data_treino, lb_results_df], axis=1)\n",
    "data_treino.drop(columns=['weather_description'], inplace=True)\n",
    "data_treino.info()"
   ]
  },
  {
   "cell_type": "code",
   "execution_count": 7,
   "metadata": {},
   "outputs": [
    {
     "name": "stdout",
     "output_type": "stream",
     "text": [
      "<class 'pandas.core.frame.DataFrame'>\n",
      "RangeIndex: 2256 entries, 0 to 2255\n",
      "Data columns (total 20 columns):\n",
      " #   Column                   Non-Null Count  Dtype  \n",
      "---  ------                   --------------  -----  \n",
      " 0   Normal (kWh)             2256 non-null   float64\n",
      " 1   Horário Económico (kWh)  2256 non-null   float64\n",
      " 2   Autoconsumo (kWh)        2256 non-null   float64\n",
      " 3   temp                     2256 non-null   float64\n",
      " 4   feels_like               2256 non-null   float64\n",
      " 5   temp_min                 2256 non-null   float64\n",
      " 6   temp_max                 2256 non-null   float64\n",
      " 7   pressure                 2256 non-null   int64  \n",
      " 8   humidity                 2256 non-null   int64  \n",
      " 9   wind_speed               2256 non-null   float64\n",
      " 10  rain_1h                  2256 non-null   float64\n",
      " 11  clouds_all               2256 non-null   int64  \n",
      " 12  broken clouds            2256 non-null   int32  \n",
      " 13  few clouds               2256 non-null   int32  \n",
      " 14  heavy intensity rain     2256 non-null   int32  \n",
      " 15  light rain               2256 non-null   int32  \n",
      " 16  moderate rain            2256 non-null   int32  \n",
      " 17  overcast clouds          2256 non-null   int32  \n",
      " 18  scattered clouds         2256 non-null   int32  \n",
      " 19  sky is clear             2256 non-null   int32  \n",
      "dtypes: float64(9), int32(8), int64(3)\n",
      "memory usage: 282.1 KB\n"
     ]
    }
   ],
   "source": [
    "lb = LabelBinarizer()\n",
    "lb_results = lb.fit_transform(data_teste['weather_description'])\n",
    "lb_results_df = pd.DataFrame(lb_results, columns=lb.classes_)\n",
    "\n",
    "data_teste = pd.concat([data_teste, lb_results_df], axis=1)\n",
    "data_teste.drop(columns=['weather_description'], inplace=True)\n",
    "data_teste.info()"
   ]
  },
  {
   "cell_type": "markdown",
   "metadata": {},
   "source": [
    "### Conversão de types 64 para types 32"
   ]
  },
  {
   "cell_type": "code",
   "execution_count": 8,
   "metadata": {},
   "outputs": [
    {
     "name": "stdout",
     "output_type": "stream",
     "text": [
      "<class 'pandas.core.frame.DataFrame'>\n",
      "RangeIndex: 11016 entries, 0 to 11015\n",
      "Data columns (total 21 columns):\n",
      " #   Column                   Non-Null Count  Dtype  \n",
      "---  ------                   --------------  -----  \n",
      " 0   Normal (kWh)             11016 non-null  float32\n",
      " 1   Horário Económico (kWh)  11016 non-null  float32\n",
      " 2   Autoconsumo (kWh)        11016 non-null  float32\n",
      " 3   Injeção na rede (kWh)    11016 non-null  object \n",
      " 4   temp                     11016 non-null  float32\n",
      " 5   feels_like               11016 non-null  float32\n",
      " 6   temp_min                 11016 non-null  float32\n",
      " 7   temp_max                 11016 non-null  float32\n",
      " 8   pressure                 11016 non-null  int32  \n",
      " 9   humidity                 11016 non-null  int32  \n",
      " 10  wind_speed               11016 non-null  float32\n",
      " 11  rain_1h                  11016 non-null  float32\n",
      " 12  clouds_all               11016 non-null  int32  \n",
      " 13  broken clouds            11016 non-null  int32  \n",
      " 14  few clouds               11016 non-null  int32  \n",
      " 15  heavy intensity rain     11016 non-null  int32  \n",
      " 16  light rain               11016 non-null  int32  \n",
      " 17  moderate rain            11016 non-null  int32  \n",
      " 18  overcast clouds          11016 non-null  int32  \n",
      " 19  scattered clouds         11016 non-null  int32  \n",
      " 20  sky is clear             11016 non-null  int32  \n",
      "dtypes: float32(9), int32(11), object(1)\n",
      "memory usage: 946.8+ KB\n"
     ]
    }
   ],
   "source": [
    "float_features = data_treino.select_dtypes(include='float')\n",
    "int_features = data_treino.select_dtypes(include='int')\n",
    "\n",
    "data_treino[float_features.columns] = data_treino[float_features.columns].astype(np.float32)\n",
    "data_treino[int_features.columns] = data_treino[int_features.columns].astype(np.int32)\n",
    "data_treino.info()"
   ]
  },
  {
   "cell_type": "code",
   "execution_count": 9,
   "metadata": {},
   "outputs": [
    {
     "name": "stdout",
     "output_type": "stream",
     "text": [
      "<class 'pandas.core.frame.DataFrame'>\n",
      "RangeIndex: 2256 entries, 0 to 2255\n",
      "Data columns (total 20 columns):\n",
      " #   Column                   Non-Null Count  Dtype  \n",
      "---  ------                   --------------  -----  \n",
      " 0   Normal (kWh)             2256 non-null   float32\n",
      " 1   Horário Económico (kWh)  2256 non-null   float32\n",
      " 2   Autoconsumo (kWh)        2256 non-null   float32\n",
      " 3   temp                     2256 non-null   float32\n",
      " 4   feels_like               2256 non-null   float32\n",
      " 5   temp_min                 2256 non-null   float32\n",
      " 6   temp_max                 2256 non-null   float32\n",
      " 7   pressure                 2256 non-null   int32  \n",
      " 8   humidity                 2256 non-null   int32  \n",
      " 9   wind_speed               2256 non-null   float32\n",
      " 10  rain_1h                  2256 non-null   float32\n",
      " 11  clouds_all               2256 non-null   int32  \n",
      " 12  broken clouds            2256 non-null   int32  \n",
      " 13  few clouds               2256 non-null   int32  \n",
      " 14  heavy intensity rain     2256 non-null   int32  \n",
      " 15  light rain               2256 non-null   int32  \n",
      " 16  moderate rain            2256 non-null   int32  \n",
      " 17  overcast clouds          2256 non-null   int32  \n",
      " 18  scattered clouds         2256 non-null   int32  \n",
      " 19  sky is clear             2256 non-null   int32  \n",
      "dtypes: float32(9), int32(11)\n",
      "memory usage: 176.4 KB\n"
     ]
    }
   ],
   "source": [
    "float_features = data_teste.select_dtypes(include='float')\n",
    "int_features = data_teste.select_dtypes(include='int')\n",
    "\n",
    "data_teste[float_features.columns] = data_teste[float_features.columns].astype(np.float32)\n",
    "data_teste[int_features.columns] = data_teste[int_features.columns].astype(np.int32)\n",
    "data_teste.info()"
   ]
  },
  {
   "cell_type": "markdown",
   "metadata": {},
   "source": [
    "### Normalize data"
   ]
  },
  {
   "cell_type": "code",
   "execution_count": 10,
   "metadata": {},
   "outputs": [
    {
     "data": {
      "text/html": [
       "<div>\n",
       "<style scoped>\n",
       "    .dataframe tbody tr th:only-of-type {\n",
       "        vertical-align: middle;\n",
       "    }\n",
       "\n",
       "    .dataframe tbody tr th {\n",
       "        vertical-align: top;\n",
       "    }\n",
       "\n",
       "    .dataframe thead th {\n",
       "        text-align: right;\n",
       "    }\n",
       "</style>\n",
       "<table border=\"1\" class=\"dataframe\">\n",
       "  <thead>\n",
       "    <tr style=\"text-align: right;\">\n",
       "      <th></th>\n",
       "      <th>Normal (kWh)</th>\n",
       "      <th>Horário Económico (kWh)</th>\n",
       "      <th>Autoconsumo (kWh)</th>\n",
       "      <th>temp</th>\n",
       "      <th>feels_like</th>\n",
       "      <th>temp_min</th>\n",
       "      <th>temp_max</th>\n",
       "      <th>pressure</th>\n",
       "      <th>humidity</th>\n",
       "      <th>wind_speed</th>\n",
       "      <th>...</th>\n",
       "      <th>clouds_all</th>\n",
       "      <th>broken clouds</th>\n",
       "      <th>few clouds</th>\n",
       "      <th>heavy intensity rain</th>\n",
       "      <th>light rain</th>\n",
       "      <th>moderate rain</th>\n",
       "      <th>overcast clouds</th>\n",
       "      <th>scattered clouds</th>\n",
       "      <th>sky is clear</th>\n",
       "      <th>Injeção na rede (kWh)</th>\n",
       "    </tr>\n",
       "  </thead>\n",
       "  <tbody>\n",
       "    <tr>\n",
       "      <th>0</th>\n",
       "      <td>0.0</td>\n",
       "      <td>0.0</td>\n",
       "      <td>0.0</td>\n",
       "      <td>0.336788</td>\n",
       "      <td>0.361443</td>\n",
       "      <td>0.323608</td>\n",
       "      <td>0.316800</td>\n",
       "      <td>0.825</td>\n",
       "      <td>0.765432</td>\n",
       "      <td>0.172101</td>\n",
       "      <td>...</td>\n",
       "      <td>0.87</td>\n",
       "      <td>0.0</td>\n",
       "      <td>0.0</td>\n",
       "      <td>0.0</td>\n",
       "      <td>0.0</td>\n",
       "      <td>0.0</td>\n",
       "      <td>1.0</td>\n",
       "      <td>0.0</td>\n",
       "      <td>0.0</td>\n",
       "      <td>None</td>\n",
       "    </tr>\n",
       "    <tr>\n",
       "      <th>1</th>\n",
       "      <td>0.0</td>\n",
       "      <td>0.0</td>\n",
       "      <td>0.0</td>\n",
       "      <td>0.324698</td>\n",
       "      <td>0.349494</td>\n",
       "      <td>0.376606</td>\n",
       "      <td>0.313310</td>\n",
       "      <td>0.850</td>\n",
       "      <td>0.777778</td>\n",
       "      <td>0.160326</td>\n",
       "      <td>...</td>\n",
       "      <td>0.91</td>\n",
       "      <td>0.0</td>\n",
       "      <td>0.0</td>\n",
       "      <td>0.0</td>\n",
       "      <td>0.0</td>\n",
       "      <td>0.0</td>\n",
       "      <td>1.0</td>\n",
       "      <td>0.0</td>\n",
       "      <td>0.0</td>\n",
       "      <td>None</td>\n",
       "    </tr>\n",
       "    <tr>\n",
       "      <th>2</th>\n",
       "      <td>0.0</td>\n",
       "      <td>0.0</td>\n",
       "      <td>0.0</td>\n",
       "      <td>0.311128</td>\n",
       "      <td>0.336857</td>\n",
       "      <td>0.357602</td>\n",
       "      <td>0.301595</td>\n",
       "      <td>0.825</td>\n",
       "      <td>0.802469</td>\n",
       "      <td>0.172101</td>\n",
       "      <td>...</td>\n",
       "      <td>0.93</td>\n",
       "      <td>0.0</td>\n",
       "      <td>0.0</td>\n",
       "      <td>0.0</td>\n",
       "      <td>0.0</td>\n",
       "      <td>0.0</td>\n",
       "      <td>1.0</td>\n",
       "      <td>0.0</td>\n",
       "      <td>0.0</td>\n",
       "      <td>None</td>\n",
       "    </tr>\n",
       "    <tr>\n",
       "      <th>3</th>\n",
       "      <td>0.0</td>\n",
       "      <td>0.0</td>\n",
       "      <td>0.0</td>\n",
       "      <td>0.303232</td>\n",
       "      <td>0.329504</td>\n",
       "      <td>0.293897</td>\n",
       "      <td>0.289133</td>\n",
       "      <td>0.825</td>\n",
       "      <td>0.814815</td>\n",
       "      <td>0.162138</td>\n",
       "      <td>...</td>\n",
       "      <td>0.95</td>\n",
       "      <td>0.0</td>\n",
       "      <td>0.0</td>\n",
       "      <td>0.0</td>\n",
       "      <td>0.0</td>\n",
       "      <td>0.0</td>\n",
       "      <td>1.0</td>\n",
       "      <td>0.0</td>\n",
       "      <td>0.0</td>\n",
       "      <td>None</td>\n",
       "    </tr>\n",
       "    <tr>\n",
       "      <th>4</th>\n",
       "      <td>0.0</td>\n",
       "      <td>0.0</td>\n",
       "      <td>0.0</td>\n",
       "      <td>0.303232</td>\n",
       "      <td>0.329963</td>\n",
       "      <td>0.279176</td>\n",
       "      <td>0.289133</td>\n",
       "      <td>0.825</td>\n",
       "      <td>0.827160</td>\n",
       "      <td>0.160326</td>\n",
       "      <td>...</td>\n",
       "      <td>0.93</td>\n",
       "      <td>0.0</td>\n",
       "      <td>0.0</td>\n",
       "      <td>0.0</td>\n",
       "      <td>0.0</td>\n",
       "      <td>0.0</td>\n",
       "      <td>1.0</td>\n",
       "      <td>0.0</td>\n",
       "      <td>0.0</td>\n",
       "      <td>None</td>\n",
       "    </tr>\n",
       "  </tbody>\n",
       "</table>\n",
       "<p>5 rows × 21 columns</p>\n",
       "</div>"
      ],
      "text/plain": [
       "   Normal (kWh)  Horário Económico (kWh)  Autoconsumo (kWh)      temp  \\\n",
       "0           0.0                      0.0                0.0  0.336788   \n",
       "1           0.0                      0.0                0.0  0.324698   \n",
       "2           0.0                      0.0                0.0  0.311128   \n",
       "3           0.0                      0.0                0.0  0.303232   \n",
       "4           0.0                      0.0                0.0  0.303232   \n",
       "\n",
       "   feels_like  temp_min  temp_max  pressure  humidity  wind_speed  ...  \\\n",
       "0    0.361443  0.323608  0.316800     0.825  0.765432    0.172101  ...   \n",
       "1    0.349494  0.376606  0.313310     0.850  0.777778    0.160326  ...   \n",
       "2    0.336857  0.357602  0.301595     0.825  0.802469    0.172101  ...   \n",
       "3    0.329504  0.293897  0.289133     0.825  0.814815    0.162138  ...   \n",
       "4    0.329963  0.279176  0.289133     0.825  0.827160    0.160326  ...   \n",
       "\n",
       "   clouds_all  broken clouds  few clouds  heavy intensity rain  light rain  \\\n",
       "0        0.87            0.0         0.0                   0.0         0.0   \n",
       "1        0.91            0.0         0.0                   0.0         0.0   \n",
       "2        0.93            0.0         0.0                   0.0         0.0   \n",
       "3        0.95            0.0         0.0                   0.0         0.0   \n",
       "4        0.93            0.0         0.0                   0.0         0.0   \n",
       "\n",
       "   moderate rain  overcast clouds  scattered clouds  sky is clear  \\\n",
       "0            0.0              1.0               0.0           0.0   \n",
       "1            0.0              1.0               0.0           0.0   \n",
       "2            0.0              1.0               0.0           0.0   \n",
       "3            0.0              1.0               0.0           0.0   \n",
       "4            0.0              1.0               0.0           0.0   \n",
       "\n",
       "   Injeção na rede (kWh)  \n",
       "0                   None  \n",
       "1                   None  \n",
       "2                   None  \n",
       "3                   None  \n",
       "4                   None  \n",
       "\n",
       "[5 rows x 21 columns]"
      ]
     },
     "execution_count": 10,
     "metadata": {},
     "output_type": "execute_result"
    }
   ],
   "source": [
    "from sklearn.preprocessing import MinMaxScaler\n",
    "data_treino_normalize = data_treino.copy()\n",
    "data_teste_normalize = data_teste.copy()\n",
    "\n",
    "X_scale = data_treino_normalize.drop(columns=['Injeção na rede (kWh)'])\n",
    "\n",
    "scaler_X = MinMaxScaler(feature_range=(0,1)).fit(X_scale)\n",
    "scaler_y = MinMaxScaler(feature_range=(0,1)).fit(data_teste_normalize)\n",
    "X_scale = pd.DataFrame(scaler_X.transform(X_scale[X_scale.columns]), columns=X_scale.columns)\n",
    "data_teste_normalize = pd.DataFrame(scaler_y.transform(data_teste_normalize[data_teste_normalize.columns]), columns=data_teste_normalize.columns)\n",
    "\n",
    "data_treino_normalize = pd.concat([X_scale, data_treino_normalize['Injeção na rede (kWh)']], axis=1)\n",
    "\n",
    "data_treino_normalize.head()"
   ]
  },
  {
   "cell_type": "markdown",
   "metadata": {},
   "source": [
    "### Conversão de types 64 para types 32 no normalize"
   ]
  },
  {
   "cell_type": "code",
   "execution_count": 11,
   "metadata": {},
   "outputs": [
    {
     "name": "stdout",
     "output_type": "stream",
     "text": [
      "<class 'pandas.core.frame.DataFrame'>\n",
      "RangeIndex: 11016 entries, 0 to 11015\n",
      "Data columns (total 21 columns):\n",
      " #   Column                   Non-Null Count  Dtype  \n",
      "---  ------                   --------------  -----  \n",
      " 0   Normal (kWh)             11016 non-null  float32\n",
      " 1   Horário Económico (kWh)  11016 non-null  float32\n",
      " 2   Autoconsumo (kWh)        11016 non-null  float32\n",
      " 3   temp                     11016 non-null  float32\n",
      " 4   feels_like               11016 non-null  float32\n",
      " 5   temp_min                 11016 non-null  float32\n",
      " 6   temp_max                 11016 non-null  float32\n",
      " 7   pressure                 11016 non-null  float32\n",
      " 8   humidity                 11016 non-null  float32\n",
      " 9   wind_speed               11016 non-null  float32\n",
      " 10  rain_1h                  11016 non-null  float32\n",
      " 11  clouds_all               11016 non-null  float32\n",
      " 12  broken clouds            11016 non-null  float32\n",
      " 13  few clouds               11016 non-null  float32\n",
      " 14  heavy intensity rain     11016 non-null  float32\n",
      " 15  light rain               11016 non-null  float32\n",
      " 16  moderate rain            11016 non-null  float32\n",
      " 17  overcast clouds          11016 non-null  float32\n",
      " 18  scattered clouds         11016 non-null  float32\n",
      " 19  sky is clear             11016 non-null  float32\n",
      " 20  Injeção na rede (kWh)    11016 non-null  object \n",
      "dtypes: float32(20), object(1)\n",
      "memory usage: 946.8+ KB\n"
     ]
    }
   ],
   "source": [
    "float_features_normalize = data_treino_normalize.select_dtypes(include='float')\n",
    "\n",
    "data_treino_normalize[float_features_normalize.columns] = data_treino_normalize[float_features_normalize.columns].astype(np.float32)\n",
    "data_treino_normalize.info()"
   ]
  },
  {
   "cell_type": "code",
   "execution_count": 12,
   "metadata": {},
   "outputs": [
    {
     "name": "stdout",
     "output_type": "stream",
     "text": [
      "<class 'pandas.core.frame.DataFrame'>\n",
      "RangeIndex: 2256 entries, 0 to 2255\n",
      "Data columns (total 20 columns):\n",
      " #   Column                   Non-Null Count  Dtype  \n",
      "---  ------                   --------------  -----  \n",
      " 0   Normal (kWh)             2256 non-null   float32\n",
      " 1   Horário Económico (kWh)  2256 non-null   float32\n",
      " 2   Autoconsumo (kWh)        2256 non-null   float32\n",
      " 3   temp                     2256 non-null   float32\n",
      " 4   feels_like               2256 non-null   float32\n",
      " 5   temp_min                 2256 non-null   float32\n",
      " 6   temp_max                 2256 non-null   float32\n",
      " 7   pressure                 2256 non-null   float32\n",
      " 8   humidity                 2256 non-null   float32\n",
      " 9   wind_speed               2256 non-null   float32\n",
      " 10  rain_1h                  2256 non-null   float32\n",
      " 11  clouds_all               2256 non-null   float32\n",
      " 12  broken clouds            2256 non-null   float32\n",
      " 13  few clouds               2256 non-null   float32\n",
      " 14  heavy intensity rain     2256 non-null   float32\n",
      " 15  light rain               2256 non-null   float32\n",
      " 16  moderate rain            2256 non-null   float32\n",
      " 17  overcast clouds          2256 non-null   float32\n",
      " 18  scattered clouds         2256 non-null   float32\n",
      " 19  sky is clear             2256 non-null   float32\n",
      "dtypes: float32(20)\n",
      "memory usage: 176.4 KB\n"
     ]
    }
   ],
   "source": [
    "float_features_normalize = data_teste_normalize.select_dtypes(include='float')\n",
    "\n",
    "data_teste_normalize[float_features_normalize.columns] = data_teste_normalize[float_features_normalize.columns].astype(np.float32)\n",
    "data_teste_normalize.info()"
   ]
  },
  {
   "cell_type": "code",
   "execution_count": 13,
   "metadata": {},
   "outputs": [
    {
     "data": {
      "text/html": [
       "<div>\n",
       "<style scoped>\n",
       "    .dataframe tbody tr th:only-of-type {\n",
       "        vertical-align: middle;\n",
       "    }\n",
       "\n",
       "    .dataframe tbody tr th {\n",
       "        vertical-align: top;\n",
       "    }\n",
       "\n",
       "    .dataframe thead th {\n",
       "        text-align: right;\n",
       "    }\n",
       "</style>\n",
       "<table border=\"1\" class=\"dataframe\">\n",
       "  <thead>\n",
       "    <tr style=\"text-align: right;\">\n",
       "      <th></th>\n",
       "      <th>Normal (kWh)</th>\n",
       "      <th>Horário Económico (kWh)</th>\n",
       "      <th>Autoconsumo (kWh)</th>\n",
       "      <th>temp</th>\n",
       "      <th>feels_like</th>\n",
       "      <th>temp_min</th>\n",
       "      <th>temp_max</th>\n",
       "      <th>pressure</th>\n",
       "      <th>humidity</th>\n",
       "      <th>wind_speed</th>\n",
       "      <th>...</th>\n",
       "      <th>clouds_all</th>\n",
       "      <th>broken clouds</th>\n",
       "      <th>few clouds</th>\n",
       "      <th>heavy intensity rain</th>\n",
       "      <th>light rain</th>\n",
       "      <th>moderate rain</th>\n",
       "      <th>overcast clouds</th>\n",
       "      <th>scattered clouds</th>\n",
       "      <th>sky is clear</th>\n",
       "      <th>Injeção na rede (kWh)</th>\n",
       "    </tr>\n",
       "  </thead>\n",
       "  <tbody>\n",
       "    <tr>\n",
       "      <th>0</th>\n",
       "      <td>0.0</td>\n",
       "      <td>0.0</td>\n",
       "      <td>0.0</td>\n",
       "      <td>0.336788</td>\n",
       "      <td>0.361443</td>\n",
       "      <td>0.323608</td>\n",
       "      <td>0.316800</td>\n",
       "      <td>0.825</td>\n",
       "      <td>0.765432</td>\n",
       "      <td>0.172101</td>\n",
       "      <td>...</td>\n",
       "      <td>0.87</td>\n",
       "      <td>0.0</td>\n",
       "      <td>0.0</td>\n",
       "      <td>0.0</td>\n",
       "      <td>0.0</td>\n",
       "      <td>0.0</td>\n",
       "      <td>1.0</td>\n",
       "      <td>0.0</td>\n",
       "      <td>0.0</td>\n",
       "      <td>None</td>\n",
       "    </tr>\n",
       "    <tr>\n",
       "      <th>1</th>\n",
       "      <td>0.0</td>\n",
       "      <td>0.0</td>\n",
       "      <td>0.0</td>\n",
       "      <td>0.324698</td>\n",
       "      <td>0.349494</td>\n",
       "      <td>0.376606</td>\n",
       "      <td>0.313310</td>\n",
       "      <td>0.850</td>\n",
       "      <td>0.777778</td>\n",
       "      <td>0.160326</td>\n",
       "      <td>...</td>\n",
       "      <td>0.91</td>\n",
       "      <td>0.0</td>\n",
       "      <td>0.0</td>\n",
       "      <td>0.0</td>\n",
       "      <td>0.0</td>\n",
       "      <td>0.0</td>\n",
       "      <td>1.0</td>\n",
       "      <td>0.0</td>\n",
       "      <td>0.0</td>\n",
       "      <td>None</td>\n",
       "    </tr>\n",
       "    <tr>\n",
       "      <th>2</th>\n",
       "      <td>0.0</td>\n",
       "      <td>0.0</td>\n",
       "      <td>0.0</td>\n",
       "      <td>0.311128</td>\n",
       "      <td>0.336857</td>\n",
       "      <td>0.357602</td>\n",
       "      <td>0.301595</td>\n",
       "      <td>0.825</td>\n",
       "      <td>0.802469</td>\n",
       "      <td>0.172101</td>\n",
       "      <td>...</td>\n",
       "      <td>0.93</td>\n",
       "      <td>0.0</td>\n",
       "      <td>0.0</td>\n",
       "      <td>0.0</td>\n",
       "      <td>0.0</td>\n",
       "      <td>0.0</td>\n",
       "      <td>1.0</td>\n",
       "      <td>0.0</td>\n",
       "      <td>0.0</td>\n",
       "      <td>None</td>\n",
       "    </tr>\n",
       "    <tr>\n",
       "      <th>3</th>\n",
       "      <td>0.0</td>\n",
       "      <td>0.0</td>\n",
       "      <td>0.0</td>\n",
       "      <td>0.303232</td>\n",
       "      <td>0.329504</td>\n",
       "      <td>0.293897</td>\n",
       "      <td>0.289133</td>\n",
       "      <td>0.825</td>\n",
       "      <td>0.814815</td>\n",
       "      <td>0.162138</td>\n",
       "      <td>...</td>\n",
       "      <td>0.95</td>\n",
       "      <td>0.0</td>\n",
       "      <td>0.0</td>\n",
       "      <td>0.0</td>\n",
       "      <td>0.0</td>\n",
       "      <td>0.0</td>\n",
       "      <td>1.0</td>\n",
       "      <td>0.0</td>\n",
       "      <td>0.0</td>\n",
       "      <td>None</td>\n",
       "    </tr>\n",
       "    <tr>\n",
       "      <th>4</th>\n",
       "      <td>0.0</td>\n",
       "      <td>0.0</td>\n",
       "      <td>0.0</td>\n",
       "      <td>0.303232</td>\n",
       "      <td>0.329963</td>\n",
       "      <td>0.279176</td>\n",
       "      <td>0.289133</td>\n",
       "      <td>0.825</td>\n",
       "      <td>0.827160</td>\n",
       "      <td>0.160326</td>\n",
       "      <td>...</td>\n",
       "      <td>0.93</td>\n",
       "      <td>0.0</td>\n",
       "      <td>0.0</td>\n",
       "      <td>0.0</td>\n",
       "      <td>0.0</td>\n",
       "      <td>0.0</td>\n",
       "      <td>1.0</td>\n",
       "      <td>0.0</td>\n",
       "      <td>0.0</td>\n",
       "      <td>None</td>\n",
       "    </tr>\n",
       "  </tbody>\n",
       "</table>\n",
       "<p>5 rows × 21 columns</p>\n",
       "</div>"
      ],
      "text/plain": [
       "   Normal (kWh)  Horário Económico (kWh)  Autoconsumo (kWh)      temp  \\\n",
       "0           0.0                      0.0                0.0  0.336788   \n",
       "1           0.0                      0.0                0.0  0.324698   \n",
       "2           0.0                      0.0                0.0  0.311128   \n",
       "3           0.0                      0.0                0.0  0.303232   \n",
       "4           0.0                      0.0                0.0  0.303232   \n",
       "\n",
       "   feels_like  temp_min  temp_max  pressure  humidity  wind_speed  ...  \\\n",
       "0    0.361443  0.323608  0.316800     0.825  0.765432    0.172101  ...   \n",
       "1    0.349494  0.376606  0.313310     0.850  0.777778    0.160326  ...   \n",
       "2    0.336857  0.357602  0.301595     0.825  0.802469    0.172101  ...   \n",
       "3    0.329504  0.293897  0.289133     0.825  0.814815    0.162138  ...   \n",
       "4    0.329963  0.279176  0.289133     0.825  0.827160    0.160326  ...   \n",
       "\n",
       "   clouds_all  broken clouds  few clouds  heavy intensity rain  light rain  \\\n",
       "0        0.87            0.0         0.0                   0.0         0.0   \n",
       "1        0.91            0.0         0.0                   0.0         0.0   \n",
       "2        0.93            0.0         0.0                   0.0         0.0   \n",
       "3        0.95            0.0         0.0                   0.0         0.0   \n",
       "4        0.93            0.0         0.0                   0.0         0.0   \n",
       "\n",
       "   moderate rain  overcast clouds  scattered clouds  sky is clear  \\\n",
       "0            0.0              1.0               0.0           0.0   \n",
       "1            0.0              1.0               0.0           0.0   \n",
       "2            0.0              1.0               0.0           0.0   \n",
       "3            0.0              1.0               0.0           0.0   \n",
       "4            0.0              1.0               0.0           0.0   \n",
       "\n",
       "   Injeção na rede (kWh)  \n",
       "0                   None  \n",
       "1                   None  \n",
       "2                   None  \n",
       "3                   None  \n",
       "4                   None  \n",
       "\n",
       "[5 rows x 21 columns]"
      ]
     },
     "execution_count": 13,
     "metadata": {},
     "output_type": "execute_result"
    }
   ],
   "source": [
    "data_treino_normalize.head()"
   ]
  },
  {
   "cell_type": "markdown",
   "metadata": {},
   "source": [
    "# Split dos dados"
   ]
  },
  {
   "cell_type": "code",
   "execution_count": 14,
   "metadata": {},
   "outputs": [],
   "source": [
    "from sklearn.metrics import classification_report, ConfusionMatrixDisplay\n",
    "\n",
    "from sklearn.model_selection import cross_val_score\n",
    "from sklearn.model_selection import GridSearchCV"
   ]
  },
  {
   "cell_type": "code",
   "execution_count": 15,
   "metadata": {},
   "outputs": [],
   "source": [
    "X_treino = data_treino.drop(columns=['Injeção na rede (kWh)'])\n",
    "y_treino = data_treino['Injeção na rede (kWh)']\n",
    "\n",
    "X_teste = data_teste\n",
    "\n",
    "\n",
    "X_treino_normalize = data_treino_normalize.drop(columns=['Injeção na rede (kWh)'])\n",
    "y_treino_normalize = data_treino_normalize['Injeção na rede (kWh)']\n",
    "\n",
    "X_teste_normalize = data_teste_normalize"
   ]
  },
  {
   "cell_type": "markdown",
   "metadata": {},
   "source": [
    "### Train Test Split"
   ]
  },
  {
   "cell_type": "code",
   "execution_count": 16,
   "metadata": {},
   "outputs": [],
   "source": [
    "from sklearn.model_selection import train_test_split\n",
    "\n",
    "X_train, X_test, y_train, y_test = train_test_split(X_treino, y_treino, test_size=0.25, random_state=2023, stratify=y_treino)\n",
    "X_train_normalize, X_test_normalize, y_train_normalize, y_test_normalize = train_test_split(X_treino_normalize, y_treino_normalize, test_size=0.25, random_state=2023, stratify=y_treino_normalize)"
   ]
  },
  {
   "cell_type": "markdown",
   "metadata": {},
   "source": [
    "# Explicação dos dados\n",
    "\n",
    "**data_treino** -> Dados de 2021 e 2022 (Dados de treino e feature objetivo)\\\n",
    "**data_teste** -> Dados de 2023 (Não tem a feature objetivo)\n",
    "\n",
    "**data_treino_normalize** -> Dados de 2021 e 2022 normalizados (Dados de treino e feature objetivo)\\\n",
    "**data_teste_normalize** -> Dados de 2023 normalizados (Não tem a feature objetivo)\n",
    "\n",
    "\n",
    "## Dados para a avaliação dos modelos\n",
    "\n",
    "**X_train | X_test | y_train | y_test** -> Dados de 2021 e 2022\\\n",
    "**X_train_normalize | X_test_normalize | y_train_normalize | y_test_normalize** -> Dados de 2021 e 2022 normalizados"
   ]
  },
  {
   "cell_type": "markdown",
   "metadata": {},
   "source": [
    "# Modelação"
   ]
  },
  {
   "cell_type": "markdown",
   "metadata": {},
   "source": [
    "## Gradient Boosting Machines"
   ]
  },
  {
   "cell_type": "markdown",
   "metadata": {},
   "source": [
    "### Grid Search"
   ]
  },
  {
   "cell_type": "code",
   "execution_count": 17,
   "metadata": {},
   "outputs": [
    {
     "name": "stdout",
     "output_type": "stream",
     "text": [
      "Fitting 3 folds for each of 1 candidates, totalling 3 fits\n",
      "[CV 1/3] END ..................................., score=0.853 total time=   4.9s\n",
      "[CV 2/3] END ..................................., score=0.838 total time=   4.9s\n",
      "[CV 3/3] END ..................................., score=0.848 total time=   5.1s\n",
      "Best estimator:  GradientBoostingClassifier(random_state=2023)\n",
      "              precision    recall  f1-score   support\n",
      "\n",
      "        High       0.56      0.68      0.61       276\n",
      "         Low       0.39      0.21      0.28       108\n",
      "      Medium       0.58      0.54      0.56       274\n",
      "        None       0.97      0.98      0.98      1944\n",
      "   Very High       0.63      0.57      0.60       152\n",
      "\n",
      "    accuracy                           0.86      2754\n",
      "   macro avg       0.63      0.60      0.61      2754\n",
      "weighted avg       0.85      0.86      0.85      2754\n",
      "\n"
     ]
    },
    {
     "data": {
      "image/png": "[encoded data removed]",
      "text/plain": [
       "<Figure size 640x480 with 2 Axes>"
      ]
     },
     "metadata": {},
     "output_type": "display_data"
    }
   ],
   "source": [
    "from sklearn.ensemble import GradientBoostingClassifier\n",
    "\n",
    "gbm = GradientBoostingClassifier(random_state=2023)\n",
    "\n",
    "param_grid = {\n",
    "}\n",
    "\n",
    "\n",
    "grid_searchGBM = GridSearchCV(gbm, param_grid, cv=3, refit=True, verbose=3)\n",
    "grid_searchGBM.fit(X_train_normalize, y_train_normalize)\n",
    "grid_predictionGBM = grid_searchGBM.predict(X_test_normalize)\n",
    "\n",
    "print(\"Best estimator: \", grid_searchGBM.best_estimator_)\n",
    "\n",
    "print(classification_report(y_test_normalize, grid_predictionGBM))\n",
    "ConfusionMatrixDisplay.from_predictions(y_test_normalize, grid_predictionGBM)\n",
    "plt.show()"
   ]
  },
  {
   "cell_type": "markdown",
   "metadata": {},
   "source": [
    "#### Previsão"
   ]
  },
  {
   "cell_type": "code",
   "execution_count": 18,
   "metadata": {},
   "outputs": [],
   "source": [
    "from sklearn.ensemble import GradientBoostingClassifier\n",
    "\n",
    "gbm = GradientBoostingClassifier(random_state=2023)\n",
    "gbm.fit(X_treino_normalize, y_treino_normalize)\n",
    "\n",
    "predictionGBM = gbm.predict(X_teste_normalize)"
   ]
  },
  {
   "cell_type": "markdown",
   "metadata": {},
   "source": [
    "### Criação do ficheiro de submissão"
   ]
  },
  {
   "cell_type": "code",
   "execution_count": null,
   "metadata": {},
   "outputs": [],
   "source": [
    "with open('results.csv', 'w') as results:\n",
    "    results.write('RowId,Result\\n')\n",
    "    i = 1\n",
    "    for p in predictionGBM:\n",
    "        results.write(f'{i},{p}\\n')\n",
    "        i+=1"
   ]
  }
 ],
 "metadata": {
  "kernelspec": {
   "display_name": "daa",
   "language": "python",
   "name": "python3"
  },
  "language_info": {
   "codemirror_mode": {
    "name": "ipython",
    "version": 3
   },
   "file_extension": ".py",
   "mimetype": "text/x-python",
   "name": "python",
   "nbconvert_exporter": "python",
   "pygments_lexer": "ipython3",
   "version": "3.10.13"
  }
 },
 "nbformat": 4,
 "nbformat_minor": 2
}
