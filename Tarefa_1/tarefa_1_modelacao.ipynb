{
 "cells": [
  {
   "cell_type": "markdown",
   "metadata": {},
   "source": [
    "# Tarefa 2 - Heart Attack Risk Prediction"
   ]
  },
  {
   "cell_type": "markdown",
   "metadata": {
    "tags": []
   },
   "source": [
    "### O Dataset\n",
    "O Dataset <em>heart_attack_prediction_dataset.csv</em> tem como objetivo explorar as dinâmicas que influenciam a saúde do coração e os fatores que o preditam. \n",
    "\n",
    "Este dataset é constituído pelos seguintes parâmetros:\n",
    "\n",
    "- **Patient ID** - Identificador único para cada paciente;\n",
    "\n",
    "- **Age** - Idade do paciente;\n",
    "- **Sex** - Género do paciente (Male/Female);\n",
    "- **Cholesterol** - Níveis de colesterol do paciente;\n",
    "- **Blood Pressure** - Pressão sanguínea do paciente (systolic/diastolic);\n",
    "- **Heart Rate** - Frequência cardíaca do paciente;\n",
    "- **Diabetes** - Se o paciente tem diabetes (Yes/No);\n",
    "- **Family History** - Histórico familiar de doenças cardíacas (1: Sim, 0: Não);\n",
    "- **Smoking** - Estado de fumador do paciente (1: Fumador, 0: Não Fumador);\n",
    "- **Obesity** - Estado de obesidade do paciente (1: Obeso, 0: Não obeso);\n",
    "- **Alcohol Consumption** - Nível de consumo de alcóol pelo paciente (None/Light/Moderate/Heavy);\n",
    "- **Exercise Hours Per Week** - Número de horas de exercício por semana;\n",
    "- **Diet** - Hábitos de alimentação do paciente (Healthy/Average/Unhealthy);\n",
    "- **Previous Heart Problems** - Existência de histórico de problemas cardíacos (1: Sim, 0: Não);\n",
    "- **Medication Use** - Uso de medicação por parte do paciente (1: Sim, 0: Não);\n",
    "- **Stress Level** - Níveis de stress reportados pelo paciente (1-10);\n",
    "- **Sedentary Hours Per Day** - Horas de atividade sedentária por dia;\n",
    "- **Income** - Nível de rendimento do paciente;\n",
    "- **BMI** - Índice de massa corporal do paciente;\n",
    "- **Triglycerides** - Níveis de triglicerídeos do paciente;\n",
    "- **Physical Activity Days Per Week** - Dias de atividade física por semana;\n",
    "- **Sleep Hours Per Day** - Horas de sono por dia;\n",
    "- **Country** - País do paciente;\n",
    "- **Continent** - Continente onde o paciente reside;\n",
    "- **Hemisphere** - Hemisfério onde o paciente reside;\n",
    "- **Heart Attack Risk** - Presença de risco de ataque cardíaco (1 : Sim, 0: Não);"
   ]
  },
  {
   "cell_type": "markdown",
   "metadata": {
    "tags": []
   },
   "source": [
    "## Import Libraries"
   ]
  },
  {
   "cell_type": "code",
   "execution_count": 801,
   "metadata": {},
   "outputs": [],
   "source": [
    "import pandas as pd\n",
    "import numpy as np\n",
    "import matplotlib.pyplot as plt\n",
    "import seaborn as sns\n",
    "%matplotlib inline\n",
    "\n",
    "import time"
   ]
  },
  {
   "cell_type": "markdown",
   "metadata": {
    "tags": []
   },
   "source": [
    "## Get the data"
   ]
  },
  {
   "cell_type": "markdown",
   "metadata": {},
   "source": [
    "Iniciamos o estudo do dataset pelo load dos dados numa dataframe panda."
   ]
  },
  {
   "cell_type": "code",
   "execution_count": 802,
   "metadata": {},
   "outputs": [],
   "source": [
    "data = pd.read_csv('heart_attack_prediction_dataset.csv')"
   ]
  },
  {
   "cell_type": "markdown",
   "metadata": {},
   "source": [
    "Imprimimos as primeiras linhas do dataframe."
   ]
  },
  {
   "cell_type": "code",
   "execution_count": 803,
   "metadata": {},
   "outputs": [
    {
     "data": {
      "text/html": [
       "<div>\n",
       "<style scoped>\n",
       "    .dataframe tbody tr th:only-of-type {\n",
       "        vertical-align: middle;\n",
       "    }\n",
       "\n",
       "    .dataframe tbody tr th {\n",
       "        vertical-align: top;\n",
       "    }\n",
       "\n",
       "    .dataframe thead th {\n",
       "        text-align: right;\n",
       "    }\n",
       "</style>\n",
       "<table border=\"1\" class=\"dataframe\">\n",
       "  <thead>\n",
       "    <tr style=\"text-align: right;\">\n",
       "      <th></th>\n",
       "      <th>Patient ID</th>\n",
       "      <th>Age</th>\n",
       "      <th>Sex</th>\n",
       "      <th>Cholesterol</th>\n",
       "      <th>Blood Pressure</th>\n",
       "      <th>Heart Rate</th>\n",
       "      <th>Diabetes</th>\n",
       "      <th>Family History</th>\n",
       "      <th>Smoking</th>\n",
       "      <th>Obesity</th>\n",
       "      <th>...</th>\n",
       "      <th>Sedentary Hours Per Day</th>\n",
       "      <th>Income</th>\n",
       "      <th>BMI</th>\n",
       "      <th>Triglycerides</th>\n",
       "      <th>Physical Activity Days Per Week</th>\n",
       "      <th>Sleep Hours Per Day</th>\n",
       "      <th>Country</th>\n",
       "      <th>Continent</th>\n",
       "      <th>Hemisphere</th>\n",
       "      <th>Heart Attack Risk</th>\n",
       "    </tr>\n",
       "  </thead>\n",
       "  <tbody>\n",
       "    <tr>\n",
       "      <th>0</th>\n",
       "      <td>BMW7812</td>\n",
       "      <td>67</td>\n",
       "      <td>Male</td>\n",
       "      <td>208</td>\n",
       "      <td>158/88</td>\n",
       "      <td>72</td>\n",
       "      <td>0</td>\n",
       "      <td>0</td>\n",
       "      <td>1</td>\n",
       "      <td>0</td>\n",
       "      <td>...</td>\n",
       "      <td>6.615001</td>\n",
       "      <td>261404</td>\n",
       "      <td>31.251233</td>\n",
       "      <td>286</td>\n",
       "      <td>0</td>\n",
       "      <td>6</td>\n",
       "      <td>Argentina</td>\n",
       "      <td>South America</td>\n",
       "      <td>Southern Hemisphere</td>\n",
       "      <td>0</td>\n",
       "    </tr>\n",
       "    <tr>\n",
       "      <th>1</th>\n",
       "      <td>CZE1114</td>\n",
       "      <td>21</td>\n",
       "      <td>Male</td>\n",
       "      <td>389</td>\n",
       "      <td>165/93</td>\n",
       "      <td>98</td>\n",
       "      <td>1</td>\n",
       "      <td>1</td>\n",
       "      <td>1</td>\n",
       "      <td>1</td>\n",
       "      <td>...</td>\n",
       "      <td>4.963459</td>\n",
       "      <td>285768</td>\n",
       "      <td>27.194973</td>\n",
       "      <td>235</td>\n",
       "      <td>1</td>\n",
       "      <td>7</td>\n",
       "      <td>Canada</td>\n",
       "      <td>North America</td>\n",
       "      <td>Northern Hemisphere</td>\n",
       "      <td>0</td>\n",
       "    </tr>\n",
       "    <tr>\n",
       "      <th>2</th>\n",
       "      <td>BNI9906</td>\n",
       "      <td>21</td>\n",
       "      <td>Female</td>\n",
       "      <td>324</td>\n",
       "      <td>174/99</td>\n",
       "      <td>72</td>\n",
       "      <td>1</td>\n",
       "      <td>0</td>\n",
       "      <td>0</td>\n",
       "      <td>0</td>\n",
       "      <td>...</td>\n",
       "      <td>9.463426</td>\n",
       "      <td>235282</td>\n",
       "      <td>28.176571</td>\n",
       "      <td>587</td>\n",
       "      <td>4</td>\n",
       "      <td>4</td>\n",
       "      <td>France</td>\n",
       "      <td>Europe</td>\n",
       "      <td>Northern Hemisphere</td>\n",
       "      <td>0</td>\n",
       "    </tr>\n",
       "    <tr>\n",
       "      <th>3</th>\n",
       "      <td>JLN3497</td>\n",
       "      <td>84</td>\n",
       "      <td>Male</td>\n",
       "      <td>383</td>\n",
       "      <td>163/100</td>\n",
       "      <td>73</td>\n",
       "      <td>1</td>\n",
       "      <td>1</td>\n",
       "      <td>1</td>\n",
       "      <td>0</td>\n",
       "      <td>...</td>\n",
       "      <td>7.648981</td>\n",
       "      <td>125640</td>\n",
       "      <td>36.464704</td>\n",
       "      <td>378</td>\n",
       "      <td>3</td>\n",
       "      <td>4</td>\n",
       "      <td>Canada</td>\n",
       "      <td>North America</td>\n",
       "      <td>Northern Hemisphere</td>\n",
       "      <td>0</td>\n",
       "    </tr>\n",
       "    <tr>\n",
       "      <th>4</th>\n",
       "      <td>GFO8847</td>\n",
       "      <td>66</td>\n",
       "      <td>Male</td>\n",
       "      <td>318</td>\n",
       "      <td>91/88</td>\n",
       "      <td>93</td>\n",
       "      <td>1</td>\n",
       "      <td>1</td>\n",
       "      <td>1</td>\n",
       "      <td>1</td>\n",
       "      <td>...</td>\n",
       "      <td>1.514821</td>\n",
       "      <td>160555</td>\n",
       "      <td>21.809144</td>\n",
       "      <td>231</td>\n",
       "      <td>1</td>\n",
       "      <td>5</td>\n",
       "      <td>Thailand</td>\n",
       "      <td>Asia</td>\n",
       "      <td>Northern Hemisphere</td>\n",
       "      <td>0</td>\n",
       "    </tr>\n",
       "  </tbody>\n",
       "</table>\n",
       "<p>5 rows × 26 columns</p>\n",
       "</div>"
      ],
      "text/plain": [
       "  Patient ID  Age     Sex  Cholesterol Blood Pressure  Heart Rate  Diabetes  \\\n",
       "0    BMW7812   67    Male          208         158/88          72         0   \n",
       "1    CZE1114   21    Male          389         165/93          98         1   \n",
       "2    BNI9906   21  Female          324         174/99          72         1   \n",
       "3    JLN3497   84    Male          383        163/100          73         1   \n",
       "4    GFO8847   66    Male          318          91/88          93         1   \n",
       "\n",
       "   Family History  Smoking  Obesity  ...  Sedentary Hours Per Day  Income  \\\n",
       "0               0        1        0  ...                 6.615001  261404   \n",
       "1               1        1        1  ...                 4.963459  285768   \n",
       "2               0        0        0  ...                 9.463426  235282   \n",
       "3               1        1        0  ...                 7.648981  125640   \n",
       "4               1        1        1  ...                 1.514821  160555   \n",
       "\n",
       "         BMI  Triglycerides  Physical Activity Days Per Week  \\\n",
       "0  31.251233            286                                0   \n",
       "1  27.194973            235                                1   \n",
       "2  28.176571            587                                4   \n",
       "3  36.464704            378                                3   \n",
       "4  21.809144            231                                1   \n",
       "\n",
       "   Sleep Hours Per Day    Country      Continent           Hemisphere  \\\n",
       "0                    6  Argentina  South America  Southern Hemisphere   \n",
       "1                    7     Canada  North America  Northern Hemisphere   \n",
       "2                    4     France         Europe  Northern Hemisphere   \n",
       "3                    4     Canada  North America  Northern Hemisphere   \n",
       "4                    5   Thailand           Asia  Northern Hemisphere   \n",
       "\n",
       "   Heart Attack Risk  \n",
       "0                  0  \n",
       "1                  0  \n",
       "2                  0  \n",
       "3                  0  \n",
       "4                  0  \n",
       "\n",
       "[5 rows x 26 columns]"
      ]
     },
     "execution_count": 803,
     "metadata": {},
     "output_type": "execute_result"
    }
   ],
   "source": [
    "data.head()"
   ]
  },
  {
   "cell_type": "markdown",
   "metadata": {},
   "source": [
    "Em seguida, geramos as estatísticas descritivas:"
   ]
  },
  {
   "cell_type": "code",
   "execution_count": 804,
   "metadata": {},
   "outputs": [
    {
     "data": {
      "text/html": [
       "<div>\n",
       "<style scoped>\n",
       "    .dataframe tbody tr th:only-of-type {\n",
       "        vertical-align: middle;\n",
       "    }\n",
       "\n",
       "    .dataframe tbody tr th {\n",
       "        vertical-align: top;\n",
       "    }\n",
       "\n",
       "    .dataframe thead th {\n",
       "        text-align: right;\n",
       "    }\n",
       "</style>\n",
       "<table border=\"1\" class=\"dataframe\">\n",
       "  <thead>\n",
       "    <tr style=\"text-align: right;\">\n",
       "      <th></th>\n",
       "      <th>Age</th>\n",
       "      <th>Cholesterol</th>\n",
       "      <th>Heart Rate</th>\n",
       "      <th>Diabetes</th>\n",
       "      <th>Family History</th>\n",
       "      <th>Smoking</th>\n",
       "      <th>Obesity</th>\n",
       "      <th>Alcohol Consumption</th>\n",
       "      <th>Exercise Hours Per Week</th>\n",
       "      <th>Previous Heart Problems</th>\n",
       "      <th>Medication Use</th>\n",
       "      <th>Stress Level</th>\n",
       "      <th>Sedentary Hours Per Day</th>\n",
       "      <th>Income</th>\n",
       "      <th>BMI</th>\n",
       "      <th>Triglycerides</th>\n",
       "      <th>Physical Activity Days Per Week</th>\n",
       "      <th>Sleep Hours Per Day</th>\n",
       "      <th>Heart Attack Risk</th>\n",
       "    </tr>\n",
       "  </thead>\n",
       "  <tbody>\n",
       "    <tr>\n",
       "      <th>count</th>\n",
       "      <td>8763.000000</td>\n",
       "      <td>8763.000000</td>\n",
       "      <td>8763.000000</td>\n",
       "      <td>8763.000000</td>\n",
       "      <td>8763.000000</td>\n",
       "      <td>8763.000000</td>\n",
       "      <td>8763.000000</td>\n",
       "      <td>8763.000000</td>\n",
       "      <td>8763.000000</td>\n",
       "      <td>8763.000000</td>\n",
       "      <td>8763.000000</td>\n",
       "      <td>8763.000000</td>\n",
       "      <td>8763.000000</td>\n",
       "      <td>8763.000000</td>\n",
       "      <td>8763.000000</td>\n",
       "      <td>8763.000000</td>\n",
       "      <td>8763.000000</td>\n",
       "      <td>8763.000000</td>\n",
       "      <td>8763.000000</td>\n",
       "    </tr>\n",
       "    <tr>\n",
       "      <th>mean</th>\n",
       "      <td>53.707977</td>\n",
       "      <td>259.877211</td>\n",
       "      <td>75.021682</td>\n",
       "      <td>0.652288</td>\n",
       "      <td>0.492982</td>\n",
       "      <td>0.896839</td>\n",
       "      <td>0.501426</td>\n",
       "      <td>0.598083</td>\n",
       "      <td>10.014284</td>\n",
       "      <td>0.495835</td>\n",
       "      <td>0.498345</td>\n",
       "      <td>5.469702</td>\n",
       "      <td>5.993690</td>\n",
       "      <td>158263.181901</td>\n",
       "      <td>28.891446</td>\n",
       "      <td>417.677051</td>\n",
       "      <td>3.489672</td>\n",
       "      <td>7.023508</td>\n",
       "      <td>0.358211</td>\n",
       "    </tr>\n",
       "    <tr>\n",
       "      <th>std</th>\n",
       "      <td>21.249509</td>\n",
       "      <td>80.863276</td>\n",
       "      <td>20.550948</td>\n",
       "      <td>0.476271</td>\n",
       "      <td>0.499979</td>\n",
       "      <td>0.304186</td>\n",
       "      <td>0.500026</td>\n",
       "      <td>0.490313</td>\n",
       "      <td>5.783745</td>\n",
       "      <td>0.500011</td>\n",
       "      <td>0.500026</td>\n",
       "      <td>2.859622</td>\n",
       "      <td>3.466359</td>\n",
       "      <td>80575.190806</td>\n",
       "      <td>6.319181</td>\n",
       "      <td>223.748137</td>\n",
       "      <td>2.282687</td>\n",
       "      <td>1.988473</td>\n",
       "      <td>0.479502</td>\n",
       "    </tr>\n",
       "    <tr>\n",
       "      <th>min</th>\n",
       "      <td>18.000000</td>\n",
       "      <td>120.000000</td>\n",
       "      <td>40.000000</td>\n",
       "      <td>0.000000</td>\n",
       "      <td>0.000000</td>\n",
       "      <td>0.000000</td>\n",
       "      <td>0.000000</td>\n",
       "      <td>0.000000</td>\n",
       "      <td>0.002442</td>\n",
       "      <td>0.000000</td>\n",
       "      <td>0.000000</td>\n",
       "      <td>1.000000</td>\n",
       "      <td>0.001263</td>\n",
       "      <td>20062.000000</td>\n",
       "      <td>18.002337</td>\n",
       "      <td>30.000000</td>\n",
       "      <td>0.000000</td>\n",
       "      <td>4.000000</td>\n",
       "      <td>0.000000</td>\n",
       "    </tr>\n",
       "    <tr>\n",
       "      <th>25%</th>\n",
       "      <td>35.000000</td>\n",
       "      <td>192.000000</td>\n",
       "      <td>57.000000</td>\n",
       "      <td>0.000000</td>\n",
       "      <td>0.000000</td>\n",
       "      <td>1.000000</td>\n",
       "      <td>0.000000</td>\n",
       "      <td>0.000000</td>\n",
       "      <td>4.981579</td>\n",
       "      <td>0.000000</td>\n",
       "      <td>0.000000</td>\n",
       "      <td>3.000000</td>\n",
       "      <td>2.998794</td>\n",
       "      <td>88310.000000</td>\n",
       "      <td>23.422985</td>\n",
       "      <td>225.500000</td>\n",
       "      <td>2.000000</td>\n",
       "      <td>5.000000</td>\n",
       "      <td>0.000000</td>\n",
       "    </tr>\n",
       "    <tr>\n",
       "      <th>50%</th>\n",
       "      <td>54.000000</td>\n",
       "      <td>259.000000</td>\n",
       "      <td>75.000000</td>\n",
       "      <td>1.000000</td>\n",
       "      <td>0.000000</td>\n",
       "      <td>1.000000</td>\n",
       "      <td>1.000000</td>\n",
       "      <td>1.000000</td>\n",
       "      <td>10.069559</td>\n",
       "      <td>0.000000</td>\n",
       "      <td>0.000000</td>\n",
       "      <td>5.000000</td>\n",
       "      <td>5.933622</td>\n",
       "      <td>157866.000000</td>\n",
       "      <td>28.768999</td>\n",
       "      <td>417.000000</td>\n",
       "      <td>3.000000</td>\n",
       "      <td>7.000000</td>\n",
       "      <td>0.000000</td>\n",
       "    </tr>\n",
       "    <tr>\n",
       "      <th>75%</th>\n",
       "      <td>72.000000</td>\n",
       "      <td>330.000000</td>\n",
       "      <td>93.000000</td>\n",
       "      <td>1.000000</td>\n",
       "      <td>1.000000</td>\n",
       "      <td>1.000000</td>\n",
       "      <td>1.000000</td>\n",
       "      <td>1.000000</td>\n",
       "      <td>15.050018</td>\n",
       "      <td>1.000000</td>\n",
       "      <td>1.000000</td>\n",
       "      <td>8.000000</td>\n",
       "      <td>9.019124</td>\n",
       "      <td>227749.000000</td>\n",
       "      <td>34.324594</td>\n",
       "      <td>612.000000</td>\n",
       "      <td>5.000000</td>\n",
       "      <td>9.000000</td>\n",
       "      <td>1.000000</td>\n",
       "    </tr>\n",
       "    <tr>\n",
       "      <th>max</th>\n",
       "      <td>90.000000</td>\n",
       "      <td>400.000000</td>\n",
       "      <td>110.000000</td>\n",
       "      <td>1.000000</td>\n",
       "      <td>1.000000</td>\n",
       "      <td>1.000000</td>\n",
       "      <td>1.000000</td>\n",
       "      <td>1.000000</td>\n",
       "      <td>19.998709</td>\n",
       "      <td>1.000000</td>\n",
       "      <td>1.000000</td>\n",
       "      <td>10.000000</td>\n",
       "      <td>11.999313</td>\n",
       "      <td>299954.000000</td>\n",
       "      <td>39.997211</td>\n",
       "      <td>800.000000</td>\n",
       "      <td>7.000000</td>\n",
       "      <td>10.000000</td>\n",
       "      <td>1.000000</td>\n",
       "    </tr>\n",
       "  </tbody>\n",
       "</table>\n",
       "</div>"
      ],
      "text/plain": [
       "               Age  Cholesterol   Heart Rate     Diabetes  Family History  \\\n",
       "count  8763.000000  8763.000000  8763.000000  8763.000000     8763.000000   \n",
       "mean     53.707977   259.877211    75.021682     0.652288        0.492982   \n",
       "std      21.249509    80.863276    20.550948     0.476271        0.499979   \n",
       "min      18.000000   120.000000    40.000000     0.000000        0.000000   \n",
       "25%      35.000000   192.000000    57.000000     0.000000        0.000000   \n",
       "50%      54.000000   259.000000    75.000000     1.000000        0.000000   \n",
       "75%      72.000000   330.000000    93.000000     1.000000        1.000000   \n",
       "max      90.000000   400.000000   110.000000     1.000000        1.000000   \n",
       "\n",
       "           Smoking      Obesity  Alcohol Consumption  Exercise Hours Per Week  \\\n",
       "count  8763.000000  8763.000000          8763.000000              8763.000000   \n",
       "mean      0.896839     0.501426             0.598083                10.014284   \n",
       "std       0.304186     0.500026             0.490313                 5.783745   \n",
       "min       0.000000     0.000000             0.000000                 0.002442   \n",
       "25%       1.000000     0.000000             0.000000                 4.981579   \n",
       "50%       1.000000     1.000000             1.000000                10.069559   \n",
       "75%       1.000000     1.000000             1.000000                15.050018   \n",
       "max       1.000000     1.000000             1.000000                19.998709   \n",
       "\n",
       "       Previous Heart Problems  Medication Use  Stress Level  \\\n",
       "count              8763.000000     8763.000000   8763.000000   \n",
       "mean                  0.495835        0.498345      5.469702   \n",
       "std                   0.500011        0.500026      2.859622   \n",
       "min                   0.000000        0.000000      1.000000   \n",
       "25%                   0.000000        0.000000      3.000000   \n",
       "50%                   0.000000        0.000000      5.000000   \n",
       "75%                   1.000000        1.000000      8.000000   \n",
       "max                   1.000000        1.000000     10.000000   \n",
       "\n",
       "       Sedentary Hours Per Day         Income          BMI  Triglycerides  \\\n",
       "count              8763.000000    8763.000000  8763.000000    8763.000000   \n",
       "mean                  5.993690  158263.181901    28.891446     417.677051   \n",
       "std                   3.466359   80575.190806     6.319181     223.748137   \n",
       "min                   0.001263   20062.000000    18.002337      30.000000   \n",
       "25%                   2.998794   88310.000000    23.422985     225.500000   \n",
       "50%                   5.933622  157866.000000    28.768999     417.000000   \n",
       "75%                   9.019124  227749.000000    34.324594     612.000000   \n",
       "max                  11.999313  299954.000000    39.997211     800.000000   \n",
       "\n",
       "       Physical Activity Days Per Week  Sleep Hours Per Day  Heart Attack Risk  \n",
       "count                      8763.000000          8763.000000        8763.000000  \n",
       "mean                          3.489672             7.023508           0.358211  \n",
       "std                           2.282687             1.988473           0.479502  \n",
       "min                           0.000000             4.000000           0.000000  \n",
       "25%                           2.000000             5.000000           0.000000  \n",
       "50%                           3.000000             7.000000           0.000000  \n",
       "75%                           5.000000             9.000000           1.000000  \n",
       "max                           7.000000            10.000000           1.000000  "
      ]
     },
     "execution_count": 804,
     "metadata": {},
     "output_type": "execute_result"
    }
   ],
   "source": [
    "data.describe()"
   ]
  },
  {
   "cell_type": "markdown",
   "metadata": {},
   "source": [
    "De forma a obtermos um resumo da informação (número de valores não nulos em cada coluna, o tipo de dados de cada coluna e o uso de memória) contida no Dataframe:"
   ]
  },
  {
   "cell_type": "code",
   "execution_count": 805,
   "metadata": {},
   "outputs": [
    {
     "name": "stdout",
     "output_type": "stream",
     "text": [
      "<class 'pandas.core.frame.DataFrame'>\n",
      "RangeIndex: 8763 entries, 0 to 8762\n",
      "Data columns (total 26 columns):\n",
      " #   Column                           Non-Null Count  Dtype  \n",
      "---  ------                           --------------  -----  \n",
      " 0   Patient ID                       8763 non-null   object \n",
      " 1   Age                              8763 non-null   int64  \n",
      " 2   Sex                              8763 non-null   object \n",
      " 3   Cholesterol                      8763 non-null   int64  \n",
      " 4   Blood Pressure                   8763 non-null   object \n",
      " 5   Heart Rate                       8763 non-null   int64  \n",
      " 6   Diabetes                         8763 non-null   int64  \n",
      " 7   Family History                   8763 non-null   int64  \n",
      " 8   Smoking                          8763 non-null   int64  \n",
      " 9   Obesity                          8763 non-null   int64  \n",
      " 10  Alcohol Consumption              8763 non-null   int64  \n",
      " 11  Exercise Hours Per Week          8763 non-null   float64\n",
      " 12  Diet                             8763 non-null   object \n",
      " 13  Previous Heart Problems          8763 non-null   int64  \n",
      " 14  Medication Use                   8763 non-null   int64  \n",
      " 15  Stress Level                     8763 non-null   int64  \n",
      " 16  Sedentary Hours Per Day          8763 non-null   float64\n",
      " 17  Income                           8763 non-null   int64  \n",
      " 18  BMI                              8763 non-null   float64\n",
      " 19  Triglycerides                    8763 non-null   int64  \n",
      " 20  Physical Activity Days Per Week  8763 non-null   int64  \n",
      " 21  Sleep Hours Per Day              8763 non-null   int64  \n",
      " 22  Country                          8763 non-null   object \n",
      " 23  Continent                        8763 non-null   object \n",
      " 24  Hemisphere                       8763 non-null   object \n",
      " 25  Heart Attack Risk                8763 non-null   int64  \n",
      "dtypes: float64(3), int64(16), object(7)\n",
      "memory usage: 1.7+ MB\n"
     ]
    }
   ],
   "source": [
    "data.info()"
   ]
  },
  {
   "cell_type": "markdown",
   "metadata": {},
   "source": [
    "Verificamos se existem valores duplicados:"
   ]
  },
  {
   "cell_type": "code",
   "execution_count": 806,
   "metadata": {},
   "outputs": [
    {
     "name": "stdout",
     "output_type": "stream",
     "text": [
      "Empty DataFrame\n",
      "Columns: [Patient ID, Age, Sex, Cholesterol, Blood Pressure, Heart Rate, Diabetes, Family History, Smoking, Obesity, Alcohol Consumption, Exercise Hours Per Week, Diet, Previous Heart Problems, Medication Use, Stress Level, Sedentary Hours Per Day, Income, BMI, Triglycerides, Physical Activity Days Per Week, Sleep Hours Per Day, Country, Continent, Hemisphere, Heart Attack Risk]\n",
      "Index: []\n",
      "\n",
      "[0 rows x 26 columns]\n"
     ]
    }
   ],
   "source": [
    "print(data[data.duplicated()])"
   ]
  },
  {
   "cell_type": "markdown",
   "metadata": {},
   "source": [
    "## Data Treatment"
   ]
  },
  {
   "cell_type": "markdown",
   "metadata": {},
   "source": [
    "Remoção do atributo **Patient ID** por ser um atributo único em todos os registos."
   ]
  },
  {
   "cell_type": "code",
   "execution_count": 807,
   "metadata": {},
   "outputs": [],
   "source": [
    "data.drop(columns=['Patient ID'], inplace=True)"
   ]
  },
  {
   "cell_type": "markdown",
   "metadata": {},
   "source": [
    "#### Label encoding do atributo **sex**\n",
    "\n",
    "0 - Female\n",
    "\n",
    "1 - Male"
   ]
  },
  {
   "cell_type": "code",
   "execution_count": 808,
   "metadata": {},
   "outputs": [
    {
     "data": {
      "text/html": [
       "<div>\n",
       "<style scoped>\n",
       "    .dataframe tbody tr th:only-of-type {\n",
       "        vertical-align: middle;\n",
       "    }\n",
       "\n",
       "    .dataframe tbody tr th {\n",
       "        vertical-align: top;\n",
       "    }\n",
       "\n",
       "    .dataframe thead th {\n",
       "        text-align: right;\n",
       "    }\n",
       "</style>\n",
       "<table border=\"1\" class=\"dataframe\">\n",
       "  <thead>\n",
       "    <tr style=\"text-align: right;\">\n",
       "      <th></th>\n",
       "      <th>Age</th>\n",
       "      <th>Sex</th>\n",
       "      <th>Cholesterol</th>\n",
       "      <th>Blood Pressure</th>\n",
       "      <th>Heart Rate</th>\n",
       "      <th>Diabetes</th>\n",
       "      <th>Family History</th>\n",
       "      <th>Smoking</th>\n",
       "      <th>Obesity</th>\n",
       "      <th>Alcohol Consumption</th>\n",
       "      <th>...</th>\n",
       "      <th>Sedentary Hours Per Day</th>\n",
       "      <th>Income</th>\n",
       "      <th>BMI</th>\n",
       "      <th>Triglycerides</th>\n",
       "      <th>Physical Activity Days Per Week</th>\n",
       "      <th>Sleep Hours Per Day</th>\n",
       "      <th>Country</th>\n",
       "      <th>Continent</th>\n",
       "      <th>Hemisphere</th>\n",
       "      <th>Heart Attack Risk</th>\n",
       "    </tr>\n",
       "  </thead>\n",
       "  <tbody>\n",
       "    <tr>\n",
       "      <th>0</th>\n",
       "      <td>67</td>\n",
       "      <td>1</td>\n",
       "      <td>208</td>\n",
       "      <td>158/88</td>\n",
       "      <td>72</td>\n",
       "      <td>0</td>\n",
       "      <td>0</td>\n",
       "      <td>1</td>\n",
       "      <td>0</td>\n",
       "      <td>0</td>\n",
       "      <td>...</td>\n",
       "      <td>6.615001</td>\n",
       "      <td>261404</td>\n",
       "      <td>31.251233</td>\n",
       "      <td>286</td>\n",
       "      <td>0</td>\n",
       "      <td>6</td>\n",
       "      <td>Argentina</td>\n",
       "      <td>South America</td>\n",
       "      <td>Southern Hemisphere</td>\n",
       "      <td>0</td>\n",
       "    </tr>\n",
       "    <tr>\n",
       "      <th>1</th>\n",
       "      <td>21</td>\n",
       "      <td>1</td>\n",
       "      <td>389</td>\n",
       "      <td>165/93</td>\n",
       "      <td>98</td>\n",
       "      <td>1</td>\n",
       "      <td>1</td>\n",
       "      <td>1</td>\n",
       "      <td>1</td>\n",
       "      <td>1</td>\n",
       "      <td>...</td>\n",
       "      <td>4.963459</td>\n",
       "      <td>285768</td>\n",
       "      <td>27.194973</td>\n",
       "      <td>235</td>\n",
       "      <td>1</td>\n",
       "      <td>7</td>\n",
       "      <td>Canada</td>\n",
       "      <td>North America</td>\n",
       "      <td>Northern Hemisphere</td>\n",
       "      <td>0</td>\n",
       "    </tr>\n",
       "    <tr>\n",
       "      <th>2</th>\n",
       "      <td>21</td>\n",
       "      <td>0</td>\n",
       "      <td>324</td>\n",
       "      <td>174/99</td>\n",
       "      <td>72</td>\n",
       "      <td>1</td>\n",
       "      <td>0</td>\n",
       "      <td>0</td>\n",
       "      <td>0</td>\n",
       "      <td>0</td>\n",
       "      <td>...</td>\n",
       "      <td>9.463426</td>\n",
       "      <td>235282</td>\n",
       "      <td>28.176571</td>\n",
       "      <td>587</td>\n",
       "      <td>4</td>\n",
       "      <td>4</td>\n",
       "      <td>France</td>\n",
       "      <td>Europe</td>\n",
       "      <td>Northern Hemisphere</td>\n",
       "      <td>0</td>\n",
       "    </tr>\n",
       "    <tr>\n",
       "      <th>3</th>\n",
       "      <td>84</td>\n",
       "      <td>1</td>\n",
       "      <td>383</td>\n",
       "      <td>163/100</td>\n",
       "      <td>73</td>\n",
       "      <td>1</td>\n",
       "      <td>1</td>\n",
       "      <td>1</td>\n",
       "      <td>0</td>\n",
       "      <td>1</td>\n",
       "      <td>...</td>\n",
       "      <td>7.648981</td>\n",
       "      <td>125640</td>\n",
       "      <td>36.464704</td>\n",
       "      <td>378</td>\n",
       "      <td>3</td>\n",
       "      <td>4</td>\n",
       "      <td>Canada</td>\n",
       "      <td>North America</td>\n",
       "      <td>Northern Hemisphere</td>\n",
       "      <td>0</td>\n",
       "    </tr>\n",
       "    <tr>\n",
       "      <th>4</th>\n",
       "      <td>66</td>\n",
       "      <td>1</td>\n",
       "      <td>318</td>\n",
       "      <td>91/88</td>\n",
       "      <td>93</td>\n",
       "      <td>1</td>\n",
       "      <td>1</td>\n",
       "      <td>1</td>\n",
       "      <td>1</td>\n",
       "      <td>0</td>\n",
       "      <td>...</td>\n",
       "      <td>1.514821</td>\n",
       "      <td>160555</td>\n",
       "      <td>21.809144</td>\n",
       "      <td>231</td>\n",
       "      <td>1</td>\n",
       "      <td>5</td>\n",
       "      <td>Thailand</td>\n",
       "      <td>Asia</td>\n",
       "      <td>Northern Hemisphere</td>\n",
       "      <td>0</td>\n",
       "    </tr>\n",
       "  </tbody>\n",
       "</table>\n",
       "<p>5 rows × 25 columns</p>\n",
       "</div>"
      ],
      "text/plain": [
       "   Age  Sex  Cholesterol Blood Pressure  Heart Rate  Diabetes  Family History  \\\n",
       "0   67    1          208         158/88          72         0               0   \n",
       "1   21    1          389         165/93          98         1               1   \n",
       "2   21    0          324         174/99          72         1               0   \n",
       "3   84    1          383        163/100          73         1               1   \n",
       "4   66    1          318          91/88          93         1               1   \n",
       "\n",
       "   Smoking  Obesity  Alcohol Consumption  ...  Sedentary Hours Per Day  \\\n",
       "0        1        0                    0  ...                 6.615001   \n",
       "1        1        1                    1  ...                 4.963459   \n",
       "2        0        0                    0  ...                 9.463426   \n",
       "3        1        0                    1  ...                 7.648981   \n",
       "4        1        1                    0  ...                 1.514821   \n",
       "\n",
       "   Income        BMI  Triglycerides  Physical Activity Days Per Week  \\\n",
       "0  261404  31.251233            286                                0   \n",
       "1  285768  27.194973            235                                1   \n",
       "2  235282  28.176571            587                                4   \n",
       "3  125640  36.464704            378                                3   \n",
       "4  160555  21.809144            231                                1   \n",
       "\n",
       "   Sleep Hours Per Day    Country      Continent           Hemisphere  \\\n",
       "0                    6  Argentina  South America  Southern Hemisphere   \n",
       "1                    7     Canada  North America  Northern Hemisphere   \n",
       "2                    4     France         Europe  Northern Hemisphere   \n",
       "3                    4     Canada  North America  Northern Hemisphere   \n",
       "4                    5   Thailand           Asia  Northern Hemisphere   \n",
       "\n",
       "   Heart Attack Risk  \n",
       "0                  0  \n",
       "1                  0  \n",
       "2                  0  \n",
       "3                  0  \n",
       "4                  0  \n",
       "\n",
       "[5 rows x 25 columns]"
      ]
     },
     "execution_count": 808,
     "metadata": {},
     "output_type": "execute_result"
    }
   ],
   "source": [
    "from sklearn.preprocessing import LabelEncoder\n",
    "\n",
    "lb = LabelEncoder() \n",
    "data['Sex'] = lb.fit_transform(data['Sex'])\n",
    "\n",
    "data.head()"
   ]
  },
  {
   "cell_type": "markdown",
   "metadata": {},
   "source": [
    "#### Diet Treatment\n",
    "\n",
    "0 - Unhealthy\n",
    "\n",
    "1 - Average\n",
    "\n",
    "2 - Healthy"
   ]
  },
  {
   "cell_type": "code",
   "execution_count": 809,
   "metadata": {},
   "outputs": [
    {
     "name": "stdout",
     "output_type": "stream",
     "text": [
      "0      Average\n",
      "1    Unhealthy\n",
      "2      Healthy\n",
      "3      Average\n",
      "4    Unhealthy\n",
      "Name: Diet, dtype: object\n"
     ]
    },
    {
     "data": {
      "text/plain": [
       "0    1\n",
       "1    0\n",
       "2    2\n",
       "3    1\n",
       "4    0\n",
       "Name: Diet, dtype: int64"
      ]
     },
     "execution_count": 809,
     "metadata": {},
     "output_type": "execute_result"
    }
   ],
   "source": [
    "print(data['Diet'].head())\n",
    "replace_map = {'Diet': {'Unhealthy': 0, 'Average': 1, 'Healthy': 2}}\n",
    "predefined_order = ['Unhealthy', 'Average', 'Healthy']\n",
    "\n",
    "labels = data['Diet'].astype('category').cat.categories.tolist()\n",
    "labels = sorted(labels, key=lambda x: predefined_order.index(x))\n",
    "\n",
    "replace_map_comp = {'Diet' : {k: v for k,v in zip(labels,list(range(len(labels))))}} \n",
    "\n",
    "data.replace(replace_map_comp, inplace=True)\n",
    "data['Diet'].head()"
   ]
  },
  {
   "cell_type": "markdown",
   "metadata": {},
   "source": [
    "#### Blood Presure Treatment"
   ]
  },
  {
   "cell_type": "code",
   "execution_count": 810,
   "metadata": {},
   "outputs": [
    {
     "name": "stdout",
     "output_type": "stream",
     "text": [
      "<class 'pandas.core.frame.DataFrame'>\n",
      "RangeIndex: 8763 entries, 0 to 8762\n",
      "Data columns (total 26 columns):\n",
      " #   Column                           Non-Null Count  Dtype  \n",
      "---  ------                           --------------  -----  \n",
      " 0   Age                              8763 non-null   int64  \n",
      " 1   Sex                              8763 non-null   int64  \n",
      " 2   Cholesterol                      8763 non-null   int64  \n",
      " 3   Heart Rate                       8763 non-null   int64  \n",
      " 4   Diabetes                         8763 non-null   int64  \n",
      " 5   Family History                   8763 non-null   int64  \n",
      " 6   Smoking                          8763 non-null   int64  \n",
      " 7   Obesity                          8763 non-null   int64  \n",
      " 8   Alcohol Consumption              8763 non-null   int64  \n",
      " 9   Exercise Hours Per Week          8763 non-null   float64\n",
      " 10  Diet                             8763 non-null   int64  \n",
      " 11  Previous Heart Problems          8763 non-null   int64  \n",
      " 12  Medication Use                   8763 non-null   int64  \n",
      " 13  Stress Level                     8763 non-null   int64  \n",
      " 14  Sedentary Hours Per Day          8763 non-null   float64\n",
      " 15  Income                           8763 non-null   int64  \n",
      " 16  BMI                              8763 non-null   float64\n",
      " 17  Triglycerides                    8763 non-null   int64  \n",
      " 18  Physical Activity Days Per Week  8763 non-null   int64  \n",
      " 19  Sleep Hours Per Day              8763 non-null   int64  \n",
      " 20  Country                          8763 non-null   object \n",
      " 21  Continent                        8763 non-null   object \n",
      " 22  Hemisphere                       8763 non-null   object \n",
      " 23  Heart Attack Risk                8763 non-null   int64  \n",
      " 24  Blood Pressure Systolic          8763 non-null   int64  \n",
      " 25  Blood Pressure Diastolic         8763 non-null   int64  \n",
      "dtypes: float64(3), int64(20), object(3)\n",
      "memory usage: 1.7+ MB\n"
     ]
    }
   ],
   "source": [
    "systolic = []\n",
    "diastolic = []\n",
    "\n",
    "for bp in data['Blood Pressure']:\n",
    "    systolic.append(int(bp.split('/')[0]))\n",
    "    diastolic.append(int(bp.split('/')[1]))\n",
    "\n",
    "data.drop(columns=['Blood Pressure'], inplace=True)\n",
    "\n",
    "data['Blood Pressure Systolic'] = systolic\n",
    "data['Blood Pressure Diastolic'] = diastolic\n",
    "\n",
    "data.info()\n"
   ]
  },
  {
   "cell_type": "markdown",
   "metadata": {},
   "source": [
    "#### Country, Continent and Hemisphere Treatment"
   ]
  },
  {
   "cell_type": "code",
   "execution_count": 811,
   "metadata": {},
   "outputs": [
    {
     "name": "stdout",
     "output_type": "stream",
     "text": [
      "<class 'pandas.core.frame.DataFrame'>\n",
      "RangeIndex: 8763 entries, 0 to 8762\n",
      "Data columns (total 26 columns):\n",
      " #   Column                           Non-Null Count  Dtype  \n",
      "---  ------                           --------------  -----  \n",
      " 0   Age                              8763 non-null   int64  \n",
      " 1   Sex                              8763 non-null   int64  \n",
      " 2   Cholesterol                      8763 non-null   int64  \n",
      " 3   Heart Rate                       8763 non-null   int64  \n",
      " 4   Diabetes                         8763 non-null   int64  \n",
      " 5   Family History                   8763 non-null   int64  \n",
      " 6   Smoking                          8763 non-null   int64  \n",
      " 7   Obesity                          8763 non-null   int64  \n",
      " 8   Alcohol Consumption              8763 non-null   int64  \n",
      " 9   Exercise Hours Per Week          8763 non-null   float64\n",
      " 10  Diet                             8763 non-null   int64  \n",
      " 11  Previous Heart Problems          8763 non-null   int64  \n",
      " 12  Medication Use                   8763 non-null   int64  \n",
      " 13  Stress Level                     8763 non-null   int64  \n",
      " 14  Sedentary Hours Per Day          8763 non-null   float64\n",
      " 15  Income                           8763 non-null   int64  \n",
      " 16  BMI                              8763 non-null   float64\n",
      " 17  Triglycerides                    8763 non-null   int64  \n",
      " 18  Physical Activity Days Per Week  8763 non-null   int64  \n",
      " 19  Sleep Hours Per Day              8763 non-null   int64  \n",
      " 20  Country                          8763 non-null   int64  \n",
      " 21  Continent                        8763 non-null   int64  \n",
      " 22  Hemisphere                       8763 non-null   int64  \n",
      " 23  Heart Attack Risk                8763 non-null   int64  \n",
      " 24  Blood Pressure Systolic          8763 non-null   int64  \n",
      " 25  Blood Pressure Diastolic         8763 non-null   int64  \n",
      "dtypes: float64(3), int64(23)\n",
      "memory usage: 1.7 MB\n"
     ]
    }
   ],
   "source": [
    "data['Country'] = lb.fit_transform(data['Country'])\n",
    "data['Continent'] = lb.fit_transform(data['Continent'])\n",
    "data['Hemisphere'] = lb.fit_transform(data['Hemisphere'])\n",
    "\n",
    "\n",
    "data.info()"
   ]
  },
  {
   "cell_type": "markdown",
   "metadata": {},
   "source": [
    "## Modeling"
   ]
  },
  {
   "cell_type": "markdown",
   "metadata": {},
   "source": [
    "### Normalize and Split Features"
   ]
  },
  {
   "cell_type": "code",
   "execution_count": 812,
   "metadata": {},
   "outputs": [],
   "source": [
    "from sklearn.model_selection import train_test_split\n",
    "from sklearn.preprocessing import StandardScaler\n",
    "\n",
    "X = data[data.drop(columns=['Heart Attack Risk']).columns]\n",
    "y = data['Heart Attack Risk']\n",
    "\n",
    "scaler = StandardScaler()\n",
    "scaler.fit(X)\n",
    "\n",
    "X = scaler.transform(X)\n",
    "\n",
    "X_train, X_test, y_train, y_test = train_test_split(X, y, test_size=0.25, random_state=2023, stratify=y)\n"
   ]
  },
  {
   "cell_type": "markdown",
   "metadata": {},
   "source": [
    "### Árvore de decisão"
   ]
  },
  {
   "cell_type": "code",
   "execution_count": 813,
   "metadata": {},
   "outputs": [
    {
     "name": "stdout",
     "output_type": "stream",
     "text": [
      "Time spent: 0.12332617500001675 seconds\n"
     ]
    }
   ],
   "source": [
    "from sklearn.tree import DecisionTreeClassifier\n",
    "\n",
    "dtc = DecisionTreeClassifier(random_state=2023)\n",
    "\n",
    "starttime = time.process_time()\n",
    "\n",
    "dtc.fit(X_train, y_train)\n",
    "predictionDTC = dtc.predict(X_test)\n",
    "\n",
    "endtime = time.process_time()\n",
    "print(f\"Time spent: {endtime - starttime} seconds\")\n"
   ]
  },
  {
   "cell_type": "code",
   "execution_count": 814,
   "metadata": {},
   "outputs": [
    {
     "name": "stdout",
     "output_type": "stream",
     "text": [
      "\n",
      "Accuracy Score: 0.5207667731629393\n",
      "\n",
      "Precision Score: 0.33821733821733824\n",
      "\n",
      "Recall Score: 0.35286624203821654\n",
      "\n",
      "Roc Auc Score: 0.48368774406320497\n",
      "\n",
      "F1 Score: 0.3453865336658354\n",
      "\n",
      "Fbeta Score: 0.3410490027086925\n"
     ]
    },
    {
     "data": {
      "image/png": "[encoded data removed]",
      "text/plain": [
       "<Figure size 640x480 with 2 Axes>"
      ]
     },
     "metadata": {},
     "output_type": "display_data"
    }
   ],
   "source": [
    "from sklearn.metrics import confusion_matrix\n",
    "from sklearn.metrics import accuracy_score\n",
    "from sklearn.metrics import precision_score\n",
    "from sklearn.metrics import recall_score\n",
    "from sklearn.metrics import roc_auc_score\n",
    "from sklearn.metrics import roc_curve\n",
    "from sklearn.metrics import f1_score\n",
    "from sklearn.metrics import fbeta_score\n",
    "from sklearn.metrics import classification_report, ConfusionMatrixDisplay\n",
    "\n",
    "print('\\nAccuracy Score: ', end='')\n",
    "print(accuracy_score(y_test, predictionDTC))\n",
    "\n",
    "print('\\nPrecision Score: ',end='')\n",
    "print(precision_score(y_test, predictionDTC))\n",
    "\n",
    "print('\\nRecall Score: ', end='')\n",
    "print(recall_score(y_test, predictionDTC))\n",
    "\n",
    "print('\\nRoc Auc Score: ', end='')\n",
    "print(roc_auc_score(y_test, predictionDTC))\n",
    "\n",
    "print('\\nF1 Score: ', end='')\n",
    "print(f1_score(y_test, predictionDTC))\n",
    "\n",
    "print('\\nFbeta Score: ', end='')\n",
    "print(fbeta_score(y_test, predictionDTC, beta=0.5))\n",
    "\n",
    "ConfusionMatrixDisplay.from_predictions(y_test, predictionDTC)\n",
    "plt.show()"
   ]
  },
  {
   "cell_type": "code",
   "execution_count": 815,
   "metadata": {},
   "outputs": [
    {
     "data": {
      "image/png": "[encoded data removed]",
      "text/plain": [
       "<Figure size 640x480 with 1 Axes>"
      ]
     },
     "metadata": {},
     "output_type": "display_data"
    }
   ],
   "source": [
    "fpr, tpr, _ = roc_curve(y_test, predictionDTC)\n",
    "\n",
    "plt.clf()\n",
    "plt.plot(fpr,tpr)\n",
    "plt.xlabel('FPR')\n",
    "plt.ylabel('TPR')\n",
    "plt.title('ROC Curve')\n",
    "plt.show()"
   ]
  },
  {
   "cell_type": "markdown",
   "metadata": {},
   "source": [
    "### Regressão Linear"
   ]
  },
  {
   "cell_type": "code",
   "execution_count": 816,
   "metadata": {},
   "outputs": [
    {
     "name": "stdout",
     "output_type": "stream",
     "text": [
      "Time spent: 0.10472899699999516 seconds\n"
     ]
    }
   ],
   "source": [
    "from sklearn.tree import DecisionTreeRegressor\n",
    "\n",
    "dtr = DecisionTreeRegressor(random_state=2023)\n",
    "\n",
    "starttime = time.process_time()\n",
    "\n",
    "dtr.fit(X_train, y_train)\n",
    "predictionDTR = dtr.predict(X_test)\n",
    "\n",
    "endtime = time.process_time()\n",
    "print(f\"Time spent: {endtime - starttime} seconds\")"
   ]
  },
  {
   "cell_type": "code",
   "execution_count": 817,
   "metadata": {},
   "outputs": [
    {
     "name": "stdout",
     "output_type": "stream",
     "text": [
      "Mean Absolute Error: 0.478776814240073\n",
      "\n",
      "Mean Squared Error: 0.478776814240073\n",
      "\n",
      "Root Mean Squared Error: 0.6919370016410981\n"
     ]
    },
    {
     "data": {
      "image/png": "[encoded data removed]",
      "text/plain": [
       "<Figure size 640x480 with 2 Axes>"
      ]
     },
     "metadata": {},
     "output_type": "display_data"
    }
   ],
   "source": [
    "from sklearn.metrics import mean_absolute_error\n",
    "from sklearn.metrics import mean_squared_error\n",
    "\n",
    "print('Mean Absolute Error: ',end='')\n",
    "print(mean_absolute_error(y_test, predictionDTR))\n",
    "\n",
    "print('\\nMean Squared Error: ', end='')\n",
    "print(mean_squared_error(y_test, predictionDTR, squared=True))\n",
    "\n",
    "print('\\nRoot Mean Squared Error: ', end='')\n",
    "print(mean_squared_error(y_test, predictionDTR, squared=False))\n",
    "\n",
    "ConfusionMatrixDisplay.from_predictions(y_test, predictionDTR)\n",
    "plt.show()"
   ]
  },
  {
   "cell_type": "markdown",
   "metadata": {},
   "source": [
    "### Support Vector Classifier"
   ]
  },
  {
   "cell_type": "code",
   "execution_count": 818,
   "metadata": {},
   "outputs": [
    {
     "name": "stdout",
     "output_type": "stream",
     "text": [
      "Time spent: 2.8180784639999956 seconds\n"
     ]
    }
   ],
   "source": [
    "from sklearn.svm import SVC\n",
    "\n",
    "# O melhor kernel é o poly\n",
    "svc = SVC(kernel='poly' ,random_state=2023)\n",
    "\n",
    "starttime = time.process_time()\n",
    "\n",
    "svc.fit(X_train, y_train)\n",
    "predictionSVC = svc.predict(X_test)\n",
    "\n",
    "endtime = time.process_time()\n",
    "print(f\"Time spent: {endtime - starttime} seconds\")"
   ]
  },
  {
   "cell_type": "code",
   "execution_count": 819,
   "metadata": {},
   "outputs": [
    {
     "name": "stdout",
     "output_type": "stream",
     "text": [
      "\n",
      "Accuracy Score: 0.6120492925604747\n",
      "\n",
      "Precision Score: 0.33668341708542715\n",
      "\n",
      "Recall Score: 0.08535031847133757\n",
      "\n",
      "Roc Auc Score: 0.49573348071504286\n",
      "\n",
      "F1 Score: 0.13617886178861788\n",
      "\n",
      "Fbeta Score: 0.2118912080961417\n"
     ]
    },
    {
     "data": {
      "image/png": "[encoded data removed]",
      "text/plain": [
       "<Figure size 640x480 with 2 Axes>"
      ]
     },
     "metadata": {},
     "output_type": "display_data"
    }
   ],
   "source": [
    "print('\\nAccuracy Score: ', end='')\n",
    "print(accuracy_score(y_test, predictionSVC))\n",
    "\n",
    "print('\\nPrecision Score: ',end='')\n",
    "print(precision_score(y_test, predictionSVC))\n",
    "\n",
    "print('\\nRecall Score: ', end='')\n",
    "print(recall_score(y_test, predictionSVC))\n",
    "\n",
    "print('\\nRoc Auc Score: ', end='')\n",
    "print(roc_auc_score(y_test, predictionSVC))\n",
    "\n",
    "print('\\nF1 Score: ', end='')\n",
    "print(f1_score(y_test, predictionSVC))\n",
    "\n",
    "print('\\nFbeta Score: ', end='')\n",
    "print(fbeta_score(y_test, predictionSVC, beta=0.5))\n",
    "\n",
    "ConfusionMatrixDisplay.from_predictions(y_test, predictionSVC)\n",
    "plt.show()"
   ]
  },
  {
   "cell_type": "markdown",
   "metadata": {},
   "source": [
    "### Support Vector Regressor"
   ]
  },
  {
   "cell_type": "code",
   "execution_count": 820,
   "metadata": {},
   "outputs": [
    {
     "name": "stdout",
     "output_type": "stream",
     "text": [
      "Time spent: 4.129090641000005 seconds\n"
     ]
    }
   ],
   "source": [
    "from sklearn.svm import SVR\n",
    "\n",
    "# O melhor kernel é o poly\n",
    "svr = SVR(kernel='rbf')\n",
    "\n",
    "starttime = time.process_time()\n",
    "\n",
    "svr.fit(X_train, y_train)\n",
    "predictionSVR = svr.predict(X_test)\n",
    "\n",
    "endtime = time.process_time()\n",
    "print(f\"Time spent: {endtime - starttime} seconds\")"
   ]
  },
  {
   "cell_type": "code",
   "execution_count": 821,
   "metadata": {},
   "outputs": [
    {
     "name": "stdout",
     "output_type": "stream",
     "text": [
      "Mean Absolute Error: 0.478776814240073\n",
      "\n",
      "Mean Squared Error: 0.478776814240073\n",
      "\n",
      "Root Mean Squared Error: 0.6919370016410981\n"
     ]
    },
    {
     "data": {
      "image/png": "[encoded data removed]",
      "text/plain": [
       "<Figure size 640x480 with 2 Axes>"
      ]
     },
     "metadata": {},
     "output_type": "display_data"
    }
   ],
   "source": [
    "print('Mean Absolute Error: ',end='')\n",
    "print(mean_absolute_error(y_test, predictionDTR))\n",
    "\n",
    "print('\\nMean Squared Error: ', end='')\n",
    "print(mean_squared_error(y_test, predictionDTR, squared=True))\n",
    "\n",
    "print('\\nRoot Mean Squared Error: ', end='')\n",
    "print(mean_squared_error(y_test, predictionDTR, squared=False))\n",
    "\n",
    "predictionSVR = list(map(round,predictionSVR))\n",
    "\n",
    "ConfusionMatrixDisplay.from_predictions(y_test, predictionSVR)\n",
    "plt.show()"
   ]
  }
 ],
 "metadata": {
  "kernelspec": {
   "display_name": "Python 3 (ipykernel)",
   "language": "python",
   "name": "python3"
  },
  "language_info": {
   "codemirror_mode": {
    "name": "ipython",
    "version": 3
   },
   "file_extension": ".py",
   "mimetype": "text/x-python",
   "name": "python",
   "nbconvert_exporter": "python",
   "pygments_lexer": "ipython3",
   "version": "3.10.0"
  }
 },
 "nbformat": 4,
 "nbformat_minor": 4
}
