{
 "cells": [
  {
   "cell_type": "markdown",
   "metadata": {},
   "source": [
    "# Tarefa 1 - Heart Attack Risk Prediction"
   ]
  },
  {
   "cell_type": "markdown",
   "metadata": {
    "tags": []
   },
   "source": [
    "### O Dataset\n",
    "O Dataset <em>heart_attack_prediction_dataset.csv</em> tem como objetivo explorar as dinâmicas que influenciam a saúde do coração e os fatores que o preditam. \n",
    "\n",
    "Este dataset é constituído pelos seguintes parâmetros:\n",
    "\n",
    "- **Patient ID** - Identificador único para cada paciente;\n",
    "\n",
    "- **Age** - Idade do paciente;\n",
    "- **Sex** - Género do paciente (Male/Female);\n",
    "- **Cholesterol** - Níveis de colesterol do paciente;\n",
    "- **Blood Pressure** - Pressão sanguínea do paciente (systolic/diastolic);\n",
    "- **Heart Rate** - Frequência cardíaca do paciente;\n",
    "- **Diabetes** - Se o paciente tem diabetes (Yes/No);\n",
    "- **Family History** - Histórico familiar de doenças cardíacas (1: Sim, 0: Não);\n",
    "- **Smoking** - Estado de fumador do paciente (1: Fumador, 0: Não Fumador);\n",
    "- **Obesity** - Estado de obesidade do paciente (1: Obeso, 0: Não obeso);\n",
    "- **Alcohol Consumption** - Se o paciente consome álcool (1: Sim, 0: Não);\n",
    "- **Exercise Hours Per Week** - Número de horas de exercício por semana;\n",
    "- **Diet** - Hábitos de alimentação do paciente (Healthy/Average/Unhealthy);\n",
    "- **Previous Heart Problems** - Existência de histórico de problemas cardíacos (1: Sim, 0: Não);\n",
    "- **Medication Use** - Uso de medicação por parte do paciente (1: Sim, 0: Não);\n",
    "- **Stress Level** - Níveis de stress reportados pelo paciente (1-10);\n",
    "- **Sedentary Hours Per Day** - Horas de atividade sedentária por dia;\n",
    "- **Income** - Nível de rendimento do paciente;\n",
    "- **BMI** - Índice de massa corporal do paciente;\n",
    "- **Triglycerides** - Níveis de triglicerídeos do paciente;\n",
    "- **Physical Activity Days Per Week** - Dias de atividade física por semana;\n",
    "- **Sleep Hours Per Day** - Horas de sono por dia;\n",
    "- **Country** - País do paciente;\n",
    "- **Continent** - Continente onde o paciente reside;\n",
    "- **Hemisphere** - Hemisfério onde o paciente reside;\n",
    "- **Heart Attack Risk** - Presença de risco de ataque cardíaco (1 : Sim, 0: Não);"
   ]
  },
  {
   "cell_type": "markdown",
   "metadata": {
    "tags": []
   },
   "source": [
    "## Import Libraries"
   ]
  },
  {
   "cell_type": "code",
   "execution_count": 32,
   "metadata": {},
   "outputs": [],
   "source": [
    "import pandas as pd\n",
    "import numpy as np\n",
    "import matplotlib.pyplot as plt\n",
    "import seaborn as sns\n",
    "%matplotlib inline"
   ]
  },
  {
   "cell_type": "markdown",
   "metadata": {
    "tags": []
   },
   "source": [
    "## Get the data"
   ]
  },
  {
   "cell_type": "markdown",
   "metadata": {},
   "source": [
    "Iniciamos o estudo do dataset pelo load dos dados numa dataframe panda."
   ]
  },
  {
   "cell_type": "code",
   "execution_count": 33,
   "metadata": {},
   "outputs": [],
   "source": [
    "data = pd.read_csv('heart_attack_prediction_dataset.csv')"
   ]
  },
  {
   "cell_type": "markdown",
   "metadata": {},
   "source": [
    "Imprimimos as primeiras linhas do dataframe."
   ]
  },
  {
   "cell_type": "code",
   "execution_count": 34,
   "metadata": {},
   "outputs": [
    {
     "data": {
      "text/html": [
       "<div>\n",
       "<style scoped>\n",
       "    .dataframe tbody tr th:only-of-type {\n",
       "        vertical-align: middle;\n",
       "    }\n",
       "\n",
       "    .dataframe tbody tr th {\n",
       "        vertical-align: top;\n",
       "    }\n",
       "\n",
       "    .dataframe thead th {\n",
       "        text-align: right;\n",
       "    }\n",
       "</style>\n",
       "<table border=\"1\" class=\"dataframe\">\n",
       "  <thead>\n",
       "    <tr style=\"text-align: right;\">\n",
       "      <th></th>\n",
       "      <th>Patient ID</th>\n",
       "      <th>Age</th>\n",
       "      <th>Sex</th>\n",
       "      <th>Cholesterol</th>\n",
       "      <th>Blood Pressure</th>\n",
       "      <th>Heart Rate</th>\n",
       "      <th>Diabetes</th>\n",
       "      <th>Family History</th>\n",
       "      <th>Smoking</th>\n",
       "      <th>Obesity</th>\n",
       "      <th>...</th>\n",
       "      <th>Sedentary Hours Per Day</th>\n",
       "      <th>Income</th>\n",
       "      <th>BMI</th>\n",
       "      <th>Triglycerides</th>\n",
       "      <th>Physical Activity Days Per Week</th>\n",
       "      <th>Sleep Hours Per Day</th>\n",
       "      <th>Country</th>\n",
       "      <th>Continent</th>\n",
       "      <th>Hemisphere</th>\n",
       "      <th>Heart Attack Risk</th>\n",
       "    </tr>\n",
       "  </thead>\n",
       "  <tbody>\n",
       "    <tr>\n",
       "      <th>0</th>\n",
       "      <td>BMW7812</td>\n",
       "      <td>67</td>\n",
       "      <td>Male</td>\n",
       "      <td>208</td>\n",
       "      <td>158/88</td>\n",
       "      <td>72</td>\n",
       "      <td>0</td>\n",
       "      <td>0</td>\n",
       "      <td>1</td>\n",
       "      <td>0</td>\n",
       "      <td>...</td>\n",
       "      <td>6.615001</td>\n",
       "      <td>261404</td>\n",
       "      <td>31.251233</td>\n",
       "      <td>286</td>\n",
       "      <td>0</td>\n",
       "      <td>6</td>\n",
       "      <td>Argentina</td>\n",
       "      <td>South America</td>\n",
       "      <td>Southern Hemisphere</td>\n",
       "      <td>0</td>\n",
       "    </tr>\n",
       "    <tr>\n",
       "      <th>1</th>\n",
       "      <td>CZE1114</td>\n",
       "      <td>21</td>\n",
       "      <td>Male</td>\n",
       "      <td>389</td>\n",
       "      <td>165/93</td>\n",
       "      <td>98</td>\n",
       "      <td>1</td>\n",
       "      <td>1</td>\n",
       "      <td>1</td>\n",
       "      <td>1</td>\n",
       "      <td>...</td>\n",
       "      <td>4.963459</td>\n",
       "      <td>285768</td>\n",
       "      <td>27.194973</td>\n",
       "      <td>235</td>\n",
       "      <td>1</td>\n",
       "      <td>7</td>\n",
       "      <td>Canada</td>\n",
       "      <td>North America</td>\n",
       "      <td>Northern Hemisphere</td>\n",
       "      <td>0</td>\n",
       "    </tr>\n",
       "    <tr>\n",
       "      <th>2</th>\n",
       "      <td>BNI9906</td>\n",
       "      <td>21</td>\n",
       "      <td>Female</td>\n",
       "      <td>324</td>\n",
       "      <td>174/99</td>\n",
       "      <td>72</td>\n",
       "      <td>1</td>\n",
       "      <td>0</td>\n",
       "      <td>0</td>\n",
       "      <td>0</td>\n",
       "      <td>...</td>\n",
       "      <td>9.463426</td>\n",
       "      <td>235282</td>\n",
       "      <td>28.176571</td>\n",
       "      <td>587</td>\n",
       "      <td>4</td>\n",
       "      <td>4</td>\n",
       "      <td>France</td>\n",
       "      <td>Europe</td>\n",
       "      <td>Northern Hemisphere</td>\n",
       "      <td>0</td>\n",
       "    </tr>\n",
       "    <tr>\n",
       "      <th>3</th>\n",
       "      <td>JLN3497</td>\n",
       "      <td>84</td>\n",
       "      <td>Male</td>\n",
       "      <td>383</td>\n",
       "      <td>163/100</td>\n",
       "      <td>73</td>\n",
       "      <td>1</td>\n",
       "      <td>1</td>\n",
       "      <td>1</td>\n",
       "      <td>0</td>\n",
       "      <td>...</td>\n",
       "      <td>7.648981</td>\n",
       "      <td>125640</td>\n",
       "      <td>36.464704</td>\n",
       "      <td>378</td>\n",
       "      <td>3</td>\n",
       "      <td>4</td>\n",
       "      <td>Canada</td>\n",
       "      <td>North America</td>\n",
       "      <td>Northern Hemisphere</td>\n",
       "      <td>0</td>\n",
       "    </tr>\n",
       "    <tr>\n",
       "      <th>4</th>\n",
       "      <td>GFO8847</td>\n",
       "      <td>66</td>\n",
       "      <td>Male</td>\n",
       "      <td>318</td>\n",
       "      <td>91/88</td>\n",
       "      <td>93</td>\n",
       "      <td>1</td>\n",
       "      <td>1</td>\n",
       "      <td>1</td>\n",
       "      <td>1</td>\n",
       "      <td>...</td>\n",
       "      <td>1.514821</td>\n",
       "      <td>160555</td>\n",
       "      <td>21.809144</td>\n",
       "      <td>231</td>\n",
       "      <td>1</td>\n",
       "      <td>5</td>\n",
       "      <td>Thailand</td>\n",
       "      <td>Asia</td>\n",
       "      <td>Northern Hemisphere</td>\n",
       "      <td>0</td>\n",
       "    </tr>\n",
       "  </tbody>\n",
       "</table>\n",
       "<p>5 rows × 26 columns</p>\n",
       "</div>"
      ],
      "text/plain": [
       "  Patient ID  Age     Sex  Cholesterol Blood Pressure  Heart Rate  Diabetes  \\\n",
       "0    BMW7812   67    Male          208         158/88          72         0   \n",
       "1    CZE1114   21    Male          389         165/93          98         1   \n",
       "2    BNI9906   21  Female          324         174/99          72         1   \n",
       "3    JLN3497   84    Male          383        163/100          73         1   \n",
       "4    GFO8847   66    Male          318          91/88          93         1   \n",
       "\n",
       "   Family History  Smoking  Obesity  ...  Sedentary Hours Per Day  Income  \\\n",
       "0               0        1        0  ...                 6.615001  261404   \n",
       "1               1        1        1  ...                 4.963459  285768   \n",
       "2               0        0        0  ...                 9.463426  235282   \n",
       "3               1        1        0  ...                 7.648981  125640   \n",
       "4               1        1        1  ...                 1.514821  160555   \n",
       "\n",
       "         BMI  Triglycerides  Physical Activity Days Per Week  \\\n",
       "0  31.251233            286                                0   \n",
       "1  27.194973            235                                1   \n",
       "2  28.176571            587                                4   \n",
       "3  36.464704            378                                3   \n",
       "4  21.809144            231                                1   \n",
       "\n",
       "   Sleep Hours Per Day    Country      Continent           Hemisphere  \\\n",
       "0                    6  Argentina  South America  Southern Hemisphere   \n",
       "1                    7     Canada  North America  Northern Hemisphere   \n",
       "2                    4     France         Europe  Northern Hemisphere   \n",
       "3                    4     Canada  North America  Northern Hemisphere   \n",
       "4                    5   Thailand           Asia  Northern Hemisphere   \n",
       "\n",
       "   Heart Attack Risk  \n",
       "0                  0  \n",
       "1                  0  \n",
       "2                  0  \n",
       "3                  0  \n",
       "4                  0  \n",
       "\n",
       "[5 rows x 26 columns]"
      ]
     },
     "execution_count": 34,
     "metadata": {},
     "output_type": "execute_result"
    }
   ],
   "source": [
    "data.head()"
   ]
  },
  {
   "cell_type": "markdown",
   "metadata": {},
   "source": [
    "Em seguida, geramos as estatísticas descritivas:"
   ]
  },
  {
   "cell_type": "code",
   "execution_count": 35,
   "metadata": {},
   "outputs": [
    {
     "data": {
      "text/html": [
       "<div>\n",
       "<style scoped>\n",
       "    .dataframe tbody tr th:only-of-type {\n",
       "        vertical-align: middle;\n",
       "    }\n",
       "\n",
       "    .dataframe tbody tr th {\n",
       "        vertical-align: top;\n",
       "    }\n",
       "\n",
       "    .dataframe thead th {\n",
       "        text-align: right;\n",
       "    }\n",
       "</style>\n",
       "<table border=\"1\" class=\"dataframe\">\n",
       "  <thead>\n",
       "    <tr style=\"text-align: right;\">\n",
       "      <th></th>\n",
       "      <th>Age</th>\n",
       "      <th>Cholesterol</th>\n",
       "      <th>Heart Rate</th>\n",
       "      <th>Diabetes</th>\n",
       "      <th>Family History</th>\n",
       "      <th>Smoking</th>\n",
       "      <th>Obesity</th>\n",
       "      <th>Alcohol Consumption</th>\n",
       "      <th>Exercise Hours Per Week</th>\n",
       "      <th>Previous Heart Problems</th>\n",
       "      <th>Medication Use</th>\n",
       "      <th>Stress Level</th>\n",
       "      <th>Sedentary Hours Per Day</th>\n",
       "      <th>Income</th>\n",
       "      <th>BMI</th>\n",
       "      <th>Triglycerides</th>\n",
       "      <th>Physical Activity Days Per Week</th>\n",
       "      <th>Sleep Hours Per Day</th>\n",
       "      <th>Heart Attack Risk</th>\n",
       "    </tr>\n",
       "  </thead>\n",
       "  <tbody>\n",
       "    <tr>\n",
       "      <th>count</th>\n",
       "      <td>8763.000000</td>\n",
       "      <td>8763.000000</td>\n",
       "      <td>8763.000000</td>\n",
       "      <td>8763.000000</td>\n",
       "      <td>8763.000000</td>\n",
       "      <td>8763.000000</td>\n",
       "      <td>8763.000000</td>\n",
       "      <td>8763.000000</td>\n",
       "      <td>8763.000000</td>\n",
       "      <td>8763.000000</td>\n",
       "      <td>8763.000000</td>\n",
       "      <td>8763.000000</td>\n",
       "      <td>8763.000000</td>\n",
       "      <td>8763.000000</td>\n",
       "      <td>8763.000000</td>\n",
       "      <td>8763.000000</td>\n",
       "      <td>8763.000000</td>\n",
       "      <td>8763.000000</td>\n",
       "      <td>8763.000000</td>\n",
       "    </tr>\n",
       "    <tr>\n",
       "      <th>mean</th>\n",
       "      <td>53.707977</td>\n",
       "      <td>259.877211</td>\n",
       "      <td>75.021682</td>\n",
       "      <td>0.652288</td>\n",
       "      <td>0.492982</td>\n",
       "      <td>0.896839</td>\n",
       "      <td>0.501426</td>\n",
       "      <td>0.598083</td>\n",
       "      <td>10.014284</td>\n",
       "      <td>0.495835</td>\n",
       "      <td>0.498345</td>\n",
       "      <td>5.469702</td>\n",
       "      <td>5.993690</td>\n",
       "      <td>158263.181901</td>\n",
       "      <td>28.891446</td>\n",
       "      <td>417.677051</td>\n",
       "      <td>3.489672</td>\n",
       "      <td>7.023508</td>\n",
       "      <td>0.358211</td>\n",
       "    </tr>\n",
       "    <tr>\n",
       "      <th>std</th>\n",
       "      <td>21.249509</td>\n",
       "      <td>80.863276</td>\n",
       "      <td>20.550948</td>\n",
       "      <td>0.476271</td>\n",
       "      <td>0.499979</td>\n",
       "      <td>0.304186</td>\n",
       "      <td>0.500026</td>\n",
       "      <td>0.490313</td>\n",
       "      <td>5.783745</td>\n",
       "      <td>0.500011</td>\n",
       "      <td>0.500026</td>\n",
       "      <td>2.859622</td>\n",
       "      <td>3.466359</td>\n",
       "      <td>80575.190806</td>\n",
       "      <td>6.319181</td>\n",
       "      <td>223.748137</td>\n",
       "      <td>2.282687</td>\n",
       "      <td>1.988473</td>\n",
       "      <td>0.479502</td>\n",
       "    </tr>\n",
       "    <tr>\n",
       "      <th>min</th>\n",
       "      <td>18.000000</td>\n",
       "      <td>120.000000</td>\n",
       "      <td>40.000000</td>\n",
       "      <td>0.000000</td>\n",
       "      <td>0.000000</td>\n",
       "      <td>0.000000</td>\n",
       "      <td>0.000000</td>\n",
       "      <td>0.000000</td>\n",
       "      <td>0.002442</td>\n",
       "      <td>0.000000</td>\n",
       "      <td>0.000000</td>\n",
       "      <td>1.000000</td>\n",
       "      <td>0.001263</td>\n",
       "      <td>20062.000000</td>\n",
       "      <td>18.002337</td>\n",
       "      <td>30.000000</td>\n",
       "      <td>0.000000</td>\n",
       "      <td>4.000000</td>\n",
       "      <td>0.000000</td>\n",
       "    </tr>\n",
       "    <tr>\n",
       "      <th>25%</th>\n",
       "      <td>35.000000</td>\n",
       "      <td>192.000000</td>\n",
       "      <td>57.000000</td>\n",
       "      <td>0.000000</td>\n",
       "      <td>0.000000</td>\n",
       "      <td>1.000000</td>\n",
       "      <td>0.000000</td>\n",
       "      <td>0.000000</td>\n",
       "      <td>4.981579</td>\n",
       "      <td>0.000000</td>\n",
       "      <td>0.000000</td>\n",
       "      <td>3.000000</td>\n",
       "      <td>2.998794</td>\n",
       "      <td>88310.000000</td>\n",
       "      <td>23.422985</td>\n",
       "      <td>225.500000</td>\n",
       "      <td>2.000000</td>\n",
       "      <td>5.000000</td>\n",
       "      <td>0.000000</td>\n",
       "    </tr>\n",
       "    <tr>\n",
       "      <th>50%</th>\n",
       "      <td>54.000000</td>\n",
       "      <td>259.000000</td>\n",
       "      <td>75.000000</td>\n",
       "      <td>1.000000</td>\n",
       "      <td>0.000000</td>\n",
       "      <td>1.000000</td>\n",
       "      <td>1.000000</td>\n",
       "      <td>1.000000</td>\n",
       "      <td>10.069559</td>\n",
       "      <td>0.000000</td>\n",
       "      <td>0.000000</td>\n",
       "      <td>5.000000</td>\n",
       "      <td>5.933622</td>\n",
       "      <td>157866.000000</td>\n",
       "      <td>28.768999</td>\n",
       "      <td>417.000000</td>\n",
       "      <td>3.000000</td>\n",
       "      <td>7.000000</td>\n",
       "      <td>0.000000</td>\n",
       "    </tr>\n",
       "    <tr>\n",
       "      <th>75%</th>\n",
       "      <td>72.000000</td>\n",
       "      <td>330.000000</td>\n",
       "      <td>93.000000</td>\n",
       "      <td>1.000000</td>\n",
       "      <td>1.000000</td>\n",
       "      <td>1.000000</td>\n",
       "      <td>1.000000</td>\n",
       "      <td>1.000000</td>\n",
       "      <td>15.050018</td>\n",
       "      <td>1.000000</td>\n",
       "      <td>1.000000</td>\n",
       "      <td>8.000000</td>\n",
       "      <td>9.019124</td>\n",
       "      <td>227749.000000</td>\n",
       "      <td>34.324594</td>\n",
       "      <td>612.000000</td>\n",
       "      <td>5.000000</td>\n",
       "      <td>9.000000</td>\n",
       "      <td>1.000000</td>\n",
       "    </tr>\n",
       "    <tr>\n",
       "      <th>max</th>\n",
       "      <td>90.000000</td>\n",
       "      <td>400.000000</td>\n",
       "      <td>110.000000</td>\n",
       "      <td>1.000000</td>\n",
       "      <td>1.000000</td>\n",
       "      <td>1.000000</td>\n",
       "      <td>1.000000</td>\n",
       "      <td>1.000000</td>\n",
       "      <td>19.998709</td>\n",
       "      <td>1.000000</td>\n",
       "      <td>1.000000</td>\n",
       "      <td>10.000000</td>\n",
       "      <td>11.999313</td>\n",
       "      <td>299954.000000</td>\n",
       "      <td>39.997211</td>\n",
       "      <td>800.000000</td>\n",
       "      <td>7.000000</td>\n",
       "      <td>10.000000</td>\n",
       "      <td>1.000000</td>\n",
       "    </tr>\n",
       "  </tbody>\n",
       "</table>\n",
       "</div>"
      ],
      "text/plain": [
       "               Age  Cholesterol   Heart Rate     Diabetes  Family History  \\\n",
       "count  8763.000000  8763.000000  8763.000000  8763.000000     8763.000000   \n",
       "mean     53.707977   259.877211    75.021682     0.652288        0.492982   \n",
       "std      21.249509    80.863276    20.550948     0.476271        0.499979   \n",
       "min      18.000000   120.000000    40.000000     0.000000        0.000000   \n",
       "25%      35.000000   192.000000    57.000000     0.000000        0.000000   \n",
       "50%      54.000000   259.000000    75.000000     1.000000        0.000000   \n",
       "75%      72.000000   330.000000    93.000000     1.000000        1.000000   \n",
       "max      90.000000   400.000000   110.000000     1.000000        1.000000   \n",
       "\n",
       "           Smoking      Obesity  Alcohol Consumption  Exercise Hours Per Week  \\\n",
       "count  8763.000000  8763.000000          8763.000000              8763.000000   \n",
       "mean      0.896839     0.501426             0.598083                10.014284   \n",
       "std       0.304186     0.500026             0.490313                 5.783745   \n",
       "min       0.000000     0.000000             0.000000                 0.002442   \n",
       "25%       1.000000     0.000000             0.000000                 4.981579   \n",
       "50%       1.000000     1.000000             1.000000                10.069559   \n",
       "75%       1.000000     1.000000             1.000000                15.050018   \n",
       "max       1.000000     1.000000             1.000000                19.998709   \n",
       "\n",
       "       Previous Heart Problems  Medication Use  Stress Level  \\\n",
       "count              8763.000000     8763.000000   8763.000000   \n",
       "mean                  0.495835        0.498345      5.469702   \n",
       "std                   0.500011        0.500026      2.859622   \n",
       "min                   0.000000        0.000000      1.000000   \n",
       "25%                   0.000000        0.000000      3.000000   \n",
       "50%                   0.000000        0.000000      5.000000   \n",
       "75%                   1.000000        1.000000      8.000000   \n",
       "max                   1.000000        1.000000     10.000000   \n",
       "\n",
       "       Sedentary Hours Per Day         Income          BMI  Triglycerides  \\\n",
       "count              8763.000000    8763.000000  8763.000000    8763.000000   \n",
       "mean                  5.993690  158263.181901    28.891446     417.677051   \n",
       "std                   3.466359   80575.190806     6.319181     223.748137   \n",
       "min                   0.001263   20062.000000    18.002337      30.000000   \n",
       "25%                   2.998794   88310.000000    23.422985     225.500000   \n",
       "50%                   5.933622  157866.000000    28.768999     417.000000   \n",
       "75%                   9.019124  227749.000000    34.324594     612.000000   \n",
       "max                  11.999313  299954.000000    39.997211     800.000000   \n",
       "\n",
       "       Physical Activity Days Per Week  Sleep Hours Per Day  Heart Attack Risk  \n",
       "count                      8763.000000          8763.000000        8763.000000  \n",
       "mean                          3.489672             7.023508           0.358211  \n",
       "std                           2.282687             1.988473           0.479502  \n",
       "min                           0.000000             4.000000           0.000000  \n",
       "25%                           2.000000             5.000000           0.000000  \n",
       "50%                           3.000000             7.000000           0.000000  \n",
       "75%                           5.000000             9.000000           1.000000  \n",
       "max                           7.000000            10.000000           1.000000  "
      ]
     },
     "execution_count": 35,
     "metadata": {},
     "output_type": "execute_result"
    }
   ],
   "source": [
    "data.describe()"
   ]
  },
  {
   "cell_type": "markdown",
   "metadata": {},
   "source": [
    "De forma a obtermos um resumo da informação (número de valores não nulos em cada coluna, o tipo de dados de cada coluna e o uso de memória) contida no Dataframe:"
   ]
  },
  {
   "cell_type": "code",
   "execution_count": 36,
   "metadata": {},
   "outputs": [
    {
     "name": "stdout",
     "output_type": "stream",
     "text": [
      "<class 'pandas.core.frame.DataFrame'>\n",
      "RangeIndex: 8763 entries, 0 to 8762\n",
      "Data columns (total 26 columns):\n",
      " #   Column                           Non-Null Count  Dtype  \n",
      "---  ------                           --------------  -----  \n",
      " 0   Patient ID                       8763 non-null   object \n",
      " 1   Age                              8763 non-null   int64  \n",
      " 2   Sex                              8763 non-null   object \n",
      " 3   Cholesterol                      8763 non-null   int64  \n",
      " 4   Blood Pressure                   8763 non-null   object \n",
      " 5   Heart Rate                       8763 non-null   int64  \n",
      " 6   Diabetes                         8763 non-null   int64  \n",
      " 7   Family History                   8763 non-null   int64  \n",
      " 8   Smoking                          8763 non-null   int64  \n",
      " 9   Obesity                          8763 non-null   int64  \n",
      " 10  Alcohol Consumption              8763 non-null   int64  \n",
      " 11  Exercise Hours Per Week          8763 non-null   float64\n",
      " 12  Diet                             8763 non-null   object \n",
      " 13  Previous Heart Problems          8763 non-null   int64  \n",
      " 14  Medication Use                   8763 non-null   int64  \n",
      " 15  Stress Level                     8763 non-null   int64  \n",
      " 16  Sedentary Hours Per Day          8763 non-null   float64\n",
      " 17  Income                           8763 non-null   int64  \n",
      " 18  BMI                              8763 non-null   float64\n",
      " 19  Triglycerides                    8763 non-null   int64  \n",
      " 20  Physical Activity Days Per Week  8763 non-null   int64  \n",
      " 21  Sleep Hours Per Day              8763 non-null   int64  \n",
      " 22  Country                          8763 non-null   object \n",
      " 23  Continent                        8763 non-null   object \n",
      " 24  Hemisphere                       8763 non-null   object \n",
      " 25  Heart Attack Risk                8763 non-null   int64  \n",
      "dtypes: float64(3), int64(16), object(7)\n",
      "memory usage: 1.7+ MB\n"
     ]
    }
   ],
   "source": [
    "data.info()"
   ]
  },
  {
   "cell_type": "markdown",
   "metadata": {},
   "source": [
    "Verificamos se existem valores duplicados:"
   ]
  },
  {
   "cell_type": "code",
   "execution_count": 37,
   "metadata": {},
   "outputs": [
    {
     "name": "stdout",
     "output_type": "stream",
     "text": [
      "Empty DataFrame\n",
      "Columns: [Patient ID, Age, Sex, Cholesterol, Blood Pressure, Heart Rate, Diabetes, Family History, Smoking, Obesity, Alcohol Consumption, Exercise Hours Per Week, Diet, Previous Heart Problems, Medication Use, Stress Level, Sedentary Hours Per Day, Income, BMI, Triglycerides, Physical Activity Days Per Week, Sleep Hours Per Day, Country, Continent, Hemisphere, Heart Attack Risk]\n",
      "Index: []\n",
      "\n",
      "[0 rows x 26 columns]\n"
     ]
    }
   ],
   "source": [
    "print(data[data.duplicated()])"
   ]
  },
  {
   "cell_type": "markdown",
   "metadata": {},
   "source": [
    "## Data Treatment"
   ]
  },
  {
   "cell_type": "markdown",
   "metadata": {},
   "source": [
    "Remoção do atributo **Patient ID** por ser um atributo único em todos os registos."
   ]
  },
  {
   "cell_type": "code",
   "execution_count": 38,
   "metadata": {},
   "outputs": [],
   "source": [
    "data.drop(columns=['Patient ID'], inplace=True)"
   ]
  },
  {
   "cell_type": "markdown",
   "metadata": {},
   "source": [
    "#### Label encoding do atributo **sex**\n",
    "\n",
    "0 - Female\n",
    "\n",
    "1 - Male"
   ]
  },
  {
   "cell_type": "code",
   "execution_count": 39,
   "metadata": {},
   "outputs": [
    {
     "data": {
      "text/html": [
       "<div>\n",
       "<style scoped>\n",
       "    .dataframe tbody tr th:only-of-type {\n",
       "        vertical-align: middle;\n",
       "    }\n",
       "\n",
       "    .dataframe tbody tr th {\n",
       "        vertical-align: top;\n",
       "    }\n",
       "\n",
       "    .dataframe thead th {\n",
       "        text-align: right;\n",
       "    }\n",
       "</style>\n",
       "<table border=\"1\" class=\"dataframe\">\n",
       "  <thead>\n",
       "    <tr style=\"text-align: right;\">\n",
       "      <th></th>\n",
       "      <th>Age</th>\n",
       "      <th>Sex</th>\n",
       "      <th>Cholesterol</th>\n",
       "      <th>Blood Pressure</th>\n",
       "      <th>Heart Rate</th>\n",
       "      <th>Diabetes</th>\n",
       "      <th>Family History</th>\n",
       "      <th>Smoking</th>\n",
       "      <th>Obesity</th>\n",
       "      <th>Alcohol Consumption</th>\n",
       "      <th>...</th>\n",
       "      <th>Sedentary Hours Per Day</th>\n",
       "      <th>Income</th>\n",
       "      <th>BMI</th>\n",
       "      <th>Triglycerides</th>\n",
       "      <th>Physical Activity Days Per Week</th>\n",
       "      <th>Sleep Hours Per Day</th>\n",
       "      <th>Country</th>\n",
       "      <th>Continent</th>\n",
       "      <th>Hemisphere</th>\n",
       "      <th>Heart Attack Risk</th>\n",
       "    </tr>\n",
       "  </thead>\n",
       "  <tbody>\n",
       "    <tr>\n",
       "      <th>0</th>\n",
       "      <td>67</td>\n",
       "      <td>1</td>\n",
       "      <td>208</td>\n",
       "      <td>158/88</td>\n",
       "      <td>72</td>\n",
       "      <td>0</td>\n",
       "      <td>0</td>\n",
       "      <td>1</td>\n",
       "      <td>0</td>\n",
       "      <td>0</td>\n",
       "      <td>...</td>\n",
       "      <td>6.615001</td>\n",
       "      <td>261404</td>\n",
       "      <td>31.251233</td>\n",
       "      <td>286</td>\n",
       "      <td>0</td>\n",
       "      <td>6</td>\n",
       "      <td>Argentina</td>\n",
       "      <td>South America</td>\n",
       "      <td>Southern Hemisphere</td>\n",
       "      <td>0</td>\n",
       "    </tr>\n",
       "    <tr>\n",
       "      <th>1</th>\n",
       "      <td>21</td>\n",
       "      <td>1</td>\n",
       "      <td>389</td>\n",
       "      <td>165/93</td>\n",
       "      <td>98</td>\n",
       "      <td>1</td>\n",
       "      <td>1</td>\n",
       "      <td>1</td>\n",
       "      <td>1</td>\n",
       "      <td>1</td>\n",
       "      <td>...</td>\n",
       "      <td>4.963459</td>\n",
       "      <td>285768</td>\n",
       "      <td>27.194973</td>\n",
       "      <td>235</td>\n",
       "      <td>1</td>\n",
       "      <td>7</td>\n",
       "      <td>Canada</td>\n",
       "      <td>North America</td>\n",
       "      <td>Northern Hemisphere</td>\n",
       "      <td>0</td>\n",
       "    </tr>\n",
       "    <tr>\n",
       "      <th>2</th>\n",
       "      <td>21</td>\n",
       "      <td>0</td>\n",
       "      <td>324</td>\n",
       "      <td>174/99</td>\n",
       "      <td>72</td>\n",
       "      <td>1</td>\n",
       "      <td>0</td>\n",
       "      <td>0</td>\n",
       "      <td>0</td>\n",
       "      <td>0</td>\n",
       "      <td>...</td>\n",
       "      <td>9.463426</td>\n",
       "      <td>235282</td>\n",
       "      <td>28.176571</td>\n",
       "      <td>587</td>\n",
       "      <td>4</td>\n",
       "      <td>4</td>\n",
       "      <td>France</td>\n",
       "      <td>Europe</td>\n",
       "      <td>Northern Hemisphere</td>\n",
       "      <td>0</td>\n",
       "    </tr>\n",
       "    <tr>\n",
       "      <th>3</th>\n",
       "      <td>84</td>\n",
       "      <td>1</td>\n",
       "      <td>383</td>\n",
       "      <td>163/100</td>\n",
       "      <td>73</td>\n",
       "      <td>1</td>\n",
       "      <td>1</td>\n",
       "      <td>1</td>\n",
       "      <td>0</td>\n",
       "      <td>1</td>\n",
       "      <td>...</td>\n",
       "      <td>7.648981</td>\n",
       "      <td>125640</td>\n",
       "      <td>36.464704</td>\n",
       "      <td>378</td>\n",
       "      <td>3</td>\n",
       "      <td>4</td>\n",
       "      <td>Canada</td>\n",
       "      <td>North America</td>\n",
       "      <td>Northern Hemisphere</td>\n",
       "      <td>0</td>\n",
       "    </tr>\n",
       "    <tr>\n",
       "      <th>4</th>\n",
       "      <td>66</td>\n",
       "      <td>1</td>\n",
       "      <td>318</td>\n",
       "      <td>91/88</td>\n",
       "      <td>93</td>\n",
       "      <td>1</td>\n",
       "      <td>1</td>\n",
       "      <td>1</td>\n",
       "      <td>1</td>\n",
       "      <td>0</td>\n",
       "      <td>...</td>\n",
       "      <td>1.514821</td>\n",
       "      <td>160555</td>\n",
       "      <td>21.809144</td>\n",
       "      <td>231</td>\n",
       "      <td>1</td>\n",
       "      <td>5</td>\n",
       "      <td>Thailand</td>\n",
       "      <td>Asia</td>\n",
       "      <td>Northern Hemisphere</td>\n",
       "      <td>0</td>\n",
       "    </tr>\n",
       "  </tbody>\n",
       "</table>\n",
       "<p>5 rows × 25 columns</p>\n",
       "</div>"
      ],
      "text/plain": [
       "   Age  Sex  Cholesterol Blood Pressure  Heart Rate  Diabetes  Family History  \\\n",
       "0   67    1          208         158/88          72         0               0   \n",
       "1   21    1          389         165/93          98         1               1   \n",
       "2   21    0          324         174/99          72         1               0   \n",
       "3   84    1          383        163/100          73         1               1   \n",
       "4   66    1          318          91/88          93         1               1   \n",
       "\n",
       "   Smoking  Obesity  Alcohol Consumption  ...  Sedentary Hours Per Day  \\\n",
       "0        1        0                    0  ...                 6.615001   \n",
       "1        1        1                    1  ...                 4.963459   \n",
       "2        0        0                    0  ...                 9.463426   \n",
       "3        1        0                    1  ...                 7.648981   \n",
       "4        1        1                    0  ...                 1.514821   \n",
       "\n",
       "   Income        BMI  Triglycerides  Physical Activity Days Per Week  \\\n",
       "0  261404  31.251233            286                                0   \n",
       "1  285768  27.194973            235                                1   \n",
       "2  235282  28.176571            587                                4   \n",
       "3  125640  36.464704            378                                3   \n",
       "4  160555  21.809144            231                                1   \n",
       "\n",
       "   Sleep Hours Per Day    Country      Continent           Hemisphere  \\\n",
       "0                    6  Argentina  South America  Southern Hemisphere   \n",
       "1                    7     Canada  North America  Northern Hemisphere   \n",
       "2                    4     France         Europe  Northern Hemisphere   \n",
       "3                    4     Canada  North America  Northern Hemisphere   \n",
       "4                    5   Thailand           Asia  Northern Hemisphere   \n",
       "\n",
       "   Heart Attack Risk  \n",
       "0                  0  \n",
       "1                  0  \n",
       "2                  0  \n",
       "3                  0  \n",
       "4                  0  \n",
       "\n",
       "[5 rows x 25 columns]"
      ]
     },
     "execution_count": 39,
     "metadata": {},
     "output_type": "execute_result"
    }
   ],
   "source": [
    "from sklearn.preprocessing import LabelEncoder\n",
    "\n",
    "lb = LabelEncoder() \n",
    "data['Sex'] = lb.fit_transform(data['Sex'])\n",
    "\n",
    "data.head()"
   ]
  },
  {
   "cell_type": "markdown",
   "metadata": {},
   "source": [
    "#### Diet Treatment\n",
    "\n",
    "0 - Unhealthy\n",
    "\n",
    "1 - Average\n",
    "\n",
    "2 - Healthy"
   ]
  },
  {
   "cell_type": "code",
   "execution_count": 40,
   "metadata": {},
   "outputs": [
    {
     "name": "stdout",
     "output_type": "stream",
     "text": [
      "0      Average\n",
      "1    Unhealthy\n",
      "2      Healthy\n",
      "3      Average\n",
      "4    Unhealthy\n",
      "Name: Diet, dtype: object\n"
     ]
    },
    {
     "data": {
      "text/plain": [
       "0    1\n",
       "1    0\n",
       "2    2\n",
       "3    1\n",
       "4    0\n",
       "Name: Diet, dtype: int64"
      ]
     },
     "execution_count": 40,
     "metadata": {},
     "output_type": "execute_result"
    }
   ],
   "source": [
    "print(data['Diet'].head())\n",
    "replace_map = {'Diet': {'Unhealthy': 0, 'Average': 1, 'Healthy': 2}}\n",
    "predefined_order = ['Unhealthy', 'Average', 'Healthy']\n",
    "\n",
    "labels = data['Diet'].astype('category').cat.categories.tolist()\n",
    "labels = sorted(labels, key=lambda x: predefined_order.index(x))\n",
    "\n",
    "replace_map_comp = {'Diet' : {k: v for k,v in zip(labels,list(range(len(labels))))}} \n",
    "\n",
    "data.replace(replace_map_comp, inplace=True)\n",
    "data['Diet'].head()"
   ]
  },
  {
   "cell_type": "markdown",
   "metadata": {},
   "source": [
    "#### Blood Presure Treatment"
   ]
  },
  {
   "cell_type": "code",
   "execution_count": 41,
   "metadata": {},
   "outputs": [
    {
     "name": "stdout",
     "output_type": "stream",
     "text": [
      "<class 'pandas.core.frame.DataFrame'>\n",
      "RangeIndex: 8763 entries, 0 to 8762\n",
      "Data columns (total 26 columns):\n",
      " #   Column                           Non-Null Count  Dtype  \n",
      "---  ------                           --------------  -----  \n",
      " 0   Age                              8763 non-null   int64  \n",
      " 1   Sex                              8763 non-null   int64  \n",
      " 2   Cholesterol                      8763 non-null   int64  \n",
      " 3   Heart Rate                       8763 non-null   int64  \n",
      " 4   Diabetes                         8763 non-null   int64  \n",
      " 5   Family History                   8763 non-null   int64  \n",
      " 6   Smoking                          8763 non-null   int64  \n",
      " 7   Obesity                          8763 non-null   int64  \n",
      " 8   Alcohol Consumption              8763 non-null   int64  \n",
      " 9   Exercise Hours Per Week          8763 non-null   float64\n",
      " 10  Diet                             8763 non-null   int64  \n",
      " 11  Previous Heart Problems          8763 non-null   int64  \n",
      " 12  Medication Use                   8763 non-null   int64  \n",
      " 13  Stress Level                     8763 non-null   int64  \n",
      " 14  Sedentary Hours Per Day          8763 non-null   float64\n",
      " 15  Income                           8763 non-null   int64  \n",
      " 16  BMI                              8763 non-null   float64\n",
      " 17  Triglycerides                    8763 non-null   int64  \n",
      " 18  Physical Activity Days Per Week  8763 non-null   int64  \n",
      " 19  Sleep Hours Per Day              8763 non-null   int64  \n",
      " 20  Country                          8763 non-null   object \n",
      " 21  Continent                        8763 non-null   object \n",
      " 22  Hemisphere                       8763 non-null   object \n",
      " 23  Heart Attack Risk                8763 non-null   int64  \n",
      " 24  Blood Pressure Systolic          8763 non-null   int64  \n",
      " 25  Blood Pressure Diastolic         8763 non-null   int64  \n",
      "dtypes: float64(3), int64(20), object(3)\n",
      "memory usage: 1.7+ MB\n"
     ]
    }
   ],
   "source": [
    "systolic = []\n",
    "diastolic = []\n",
    "\n",
    "for bp in data['Blood Pressure']:\n",
    "    systolic.append(int(bp.split('/')[0]))\n",
    "    diastolic.append(int(bp.split('/')[1]))\n",
    "\n",
    "data.drop(columns=['Blood Pressure'], inplace=True)\n",
    "\n",
    "data['Blood Pressure Systolic'] = systolic\n",
    "data['Blood Pressure Diastolic'] = diastolic\n",
    "\n",
    "data.info()\n"
   ]
  },
  {
   "cell_type": "markdown",
   "metadata": {},
   "source": [
    "#### Country, Continent and Hemisphere Treatment"
   ]
  },
  {
   "cell_type": "code",
   "execution_count": 42,
   "metadata": {},
   "outputs": [
    {
     "name": "stdout",
     "output_type": "stream",
     "text": [
      "<class 'pandas.core.frame.DataFrame'>\n",
      "RangeIndex: 8763 entries, 0 to 8762\n",
      "Data columns (total 23 columns):\n",
      " #   Column                           Non-Null Count  Dtype  \n",
      "---  ------                           --------------  -----  \n",
      " 0   Age                              8763 non-null   int64  \n",
      " 1   Sex                              8763 non-null   int64  \n",
      " 2   Cholesterol                      8763 non-null   int64  \n",
      " 3   Heart Rate                       8763 non-null   int64  \n",
      " 4   Diabetes                         8763 non-null   int64  \n",
      " 5   Family History                   8763 non-null   int64  \n",
      " 6   Smoking                          8763 non-null   int64  \n",
      " 7   Obesity                          8763 non-null   int64  \n",
      " 8   Alcohol Consumption              8763 non-null   int64  \n",
      " 9   Exercise Hours Per Week          8763 non-null   float64\n",
      " 10  Diet                             8763 non-null   int64  \n",
      " 11  Previous Heart Problems          8763 non-null   int64  \n",
      " 12  Medication Use                   8763 non-null   int64  \n",
      " 13  Stress Level                     8763 non-null   int64  \n",
      " 14  Sedentary Hours Per Day          8763 non-null   float64\n",
      " 15  Income                           8763 non-null   int64  \n",
      " 16  BMI                              8763 non-null   float64\n",
      " 17  Triglycerides                    8763 non-null   int64  \n",
      " 18  Physical Activity Days Per Week  8763 non-null   int64  \n",
      " 19  Sleep Hours Per Day              8763 non-null   int64  \n",
      " 20  Heart Attack Risk                8763 non-null   int64  \n",
      " 21  Blood Pressure Systolic          8763 non-null   int64  \n",
      " 22  Blood Pressure Diastolic         8763 non-null   int64  \n",
      "dtypes: float64(3), int64(20)\n",
      "memory usage: 1.5 MB\n"
     ]
    }
   ],
   "source": [
    "# data['Country'] = lb.fit_transform(data['Country'])\n",
    "# data['Continent'] = lb.fit_transform(data['Continent'])\n",
    "# data['Hemisphere'] = lb.fit_transform(data['Hemisphere'])\n",
    "\n",
    "columns_to_drop = [\"Country\", \"Continent\", \"Hemisphere\"]\n",
    "data = data.drop(columns=columns_to_drop)\n",
    "\n",
    "data.info()"
   ]
  },
  {
   "cell_type": "markdown",
   "metadata": {},
   "source": [
    "## Modeling"
   ]
  },
  {
   "cell_type": "markdown",
   "metadata": {},
   "source": [
    "### Split Features"
   ]
  },
  {
   "cell_type": "code",
   "execution_count": 43,
   "metadata": {},
   "outputs": [],
   "source": [
    "from sklearn.model_selection import train_test_split\n",
    "\n",
    "X = data[data.drop(columns=['Heart Attack Risk']).columns]\n",
    "y = data['Heart Attack Risk']\n",
    "\n",
    "X_train, X_test, y_train, y_test = train_test_split(X, y, test_size=0.25, random_state=2023, stratify=y)\n"
   ]
  },
  {
   "cell_type": "markdown",
   "metadata": {},
   "source": [
    "### Feature Selection"
   ]
  },
  {
   "cell_type": "code",
   "execution_count": 24,
   "metadata": {},
   "outputs": [
    {
     "name": "stdout",
     "output_type": "stream",
     "text": [
      "Age: 0.0836986497341675\n",
      "Sex: 0.00721010964832542\n",
      "Cholesterol: 0.07037266480611785\n",
      "Heart Rate: 0.07997932210604199\n",
      "Diabetes: 0.013809750431946724\n",
      "Family History: 0.008722229139669897\n",
      "Smoking: 0.005203983165950672\n",
      "Obesity: 0.007991976012570711\n",
      "Alcohol Consumption: 0.010792415192096496\n",
      "Exercise Hours Per Week: 0.09077314324340055\n",
      "Diet: 0.018750456269214892\n",
      "Previous Heart Problems: 0.008633926041553991\n",
      "Medication Use: 0.007402360951888433\n",
      "Stress Level: 0.04203661743831601\n",
      "Sedentary Hours Per Day: 0.08139878973173587\n",
      "Income: 0.08455900451444319\n",
      "BMI: 0.09020724938541218\n",
      "Triglycerides: 0.08165168546000827\n",
      "Physical Activity Days Per Week: 0.030937118152666757\n",
      "Sleep Hours Per Day: 0.03858464593899656\n",
      "Blood Pressure Systolic: 0.06503138263105837\n",
      "Blood Pressure Diastolic: 0.07225252000441776\n"
     ]
    }
   ],
   "source": [
    "from sklearn.tree import DecisionTreeClassifier\n",
    "\n",
    "model = DecisionTreeClassifier(random_state=2023)\n",
    "model.fit(X, y)\n",
    "feature_importances = model.feature_importances_\n",
    "\n",
    "features_to_drop = []\n",
    "for feature, importance in zip(X_train.columns, feature_importances):\n",
    "    print(f\"{feature}: {importance}\")\n",
    "\n",
    "    if importance < 0.01:\n",
    "        features_to_drop.append(feature)"
   ]
  },
  {
   "cell_type": "markdown",
   "metadata": {},
   "source": [
    "#### Droping columns with less importance"
   ]
  },
  {
   "cell_type": "code",
   "execution_count": 25,
   "metadata": {},
   "outputs": [
    {
     "name": "stdout",
     "output_type": "stream",
     "text": [
      "<class 'pandas.core.frame.DataFrame'>\n",
      "Index: 6572 entries, 6493 to 7525\n",
      "Data columns (total 16 columns):\n",
      " #   Column                           Non-Null Count  Dtype  \n",
      "---  ------                           --------------  -----  \n",
      " 0   Age                              6572 non-null   int64  \n",
      " 1   Cholesterol                      6572 non-null   int64  \n",
      " 2   Heart Rate                       6572 non-null   int64  \n",
      " 3   Diabetes                         6572 non-null   int64  \n",
      " 4   Alcohol Consumption              6572 non-null   int64  \n",
      " 5   Exercise Hours Per Week          6572 non-null   float64\n",
      " 6   Diet                             6572 non-null   int64  \n",
      " 7   Stress Level                     6572 non-null   int64  \n",
      " 8   Sedentary Hours Per Day          6572 non-null   float64\n",
      " 9   Income                           6572 non-null   int64  \n",
      " 10  BMI                              6572 non-null   float64\n",
      " 11  Triglycerides                    6572 non-null   int64  \n",
      " 12  Physical Activity Days Per Week  6572 non-null   int64  \n",
      " 13  Sleep Hours Per Day              6572 non-null   int64  \n",
      " 14  Blood Pressure Systolic          6572 non-null   int64  \n",
      " 15  Blood Pressure Diastolic         6572 non-null   int64  \n",
      "dtypes: float64(3), int64(13)\n",
      "memory usage: 872.8 KB\n",
      "<class 'pandas.core.frame.DataFrame'>\n",
      "Index: 2191 entries, 5742 to 8337\n",
      "Data columns (total 16 columns):\n",
      " #   Column                           Non-Null Count  Dtype  \n",
      "---  ------                           --------------  -----  \n",
      " 0   Age                              2191 non-null   int64  \n",
      " 1   Cholesterol                      2191 non-null   int64  \n",
      " 2   Heart Rate                       2191 non-null   int64  \n",
      " 3   Diabetes                         2191 non-null   int64  \n",
      " 4   Alcohol Consumption              2191 non-null   int64  \n",
      " 5   Exercise Hours Per Week          2191 non-null   float64\n",
      " 6   Diet                             2191 non-null   int64  \n",
      " 7   Stress Level                     2191 non-null   int64  \n",
      " 8   Sedentary Hours Per Day          2191 non-null   float64\n",
      " 9   Income                           2191 non-null   int64  \n",
      " 10  BMI                              2191 non-null   float64\n",
      " 11  Triglycerides                    2191 non-null   int64  \n",
      " 12  Physical Activity Days Per Week  2191 non-null   int64  \n",
      " 13  Sleep Hours Per Day              2191 non-null   int64  \n",
      " 14  Blood Pressure Systolic          2191 non-null   int64  \n",
      " 15  Blood Pressure Diastolic         2191 non-null   int64  \n",
      "dtypes: float64(3), int64(13)\n",
      "memory usage: 291.0 KB\n"
     ]
    }
   ],
   "source": [
    "X_train = X_train.drop(columns=features_to_drop)\n",
    "X_test = X_test.drop(columns=features_to_drop)\n",
    "\n",
    "\n",
    "X_train.info()\n",
    "X_test.info()"
   ]
  },
  {
   "cell_type": "markdown",
   "metadata": {},
   "source": [
    "#### Normalize"
   ]
  },
  {
   "cell_type": "code",
   "execution_count": 44,
   "metadata": {},
   "outputs": [],
   "source": [
    "from sklearn.preprocessing import StandardScaler\n",
    "\n",
    "scaler = StandardScaler()\n",
    "scaler.fit(X_train)\n",
    "X_train = scaler.transform(X_train)\n",
    "\n",
    "\n",
    "scaler.fit(X_test)\n",
    "X_test = scaler.transform(X_test)"
   ]
  },
  {
   "cell_type": "markdown",
   "metadata": {},
   "source": [
    "### Prepare Metrics and Model Selection"
   ]
  },
  {
   "cell_type": "code",
   "execution_count": 45,
   "metadata": {},
   "outputs": [],
   "source": [
    "from sklearn.metrics import classification_report, ConfusionMatrixDisplay\n",
    "from sklearn.metrics import mean_absolute_error\n",
    "from sklearn.metrics import mean_squared_error\n",
    "\n",
    "from sklearn.model_selection import cross_val_score\n",
    "from sklearn.model_selection import GridSearchCV"
   ]
  },
  {
   "cell_type": "markdown",
   "metadata": {},
   "source": [
    "### Árvore de decisão"
   ]
  },
  {
   "cell_type": "markdown",
   "metadata": {},
   "source": [
    "#### Hold-out Validation"
   ]
  },
  {
   "cell_type": "code",
   "execution_count": 227,
   "metadata": {},
   "outputs": [
    {
     "name": "stdout",
     "output_type": "stream",
     "text": [
      "              precision    recall  f1-score   support\n",
      "\n",
      "           0       0.62      0.62      0.62      1406\n",
      "           1       0.33      0.33      0.33       785\n",
      "\n",
      "    accuracy                           0.52      2191\n",
      "   macro avg       0.48      0.48      0.48      2191\n",
      "weighted avg       0.52      0.52      0.52      2191\n",
      "\n"
     ]
    },
    {
     "data": {
      "image/png": "[encoded data removed]",
      "text/plain": [
       "<Figure size 640x480 with 2 Axes>"
      ]
     },
     "metadata": {},
     "output_type": "display_data"
    }
   ],
   "source": [
    "from sklearn.tree import DecisionTreeClassifier\n",
    "\n",
    "dtc = DecisionTreeClassifier(random_state=2023)\n",
    "dtc.fit(X_train, y_train)\n",
    "predictionDTC = dtc.predict(X_test)\n",
    "\n",
    "\n",
    "print(classification_report(y_test, predictionDTC))\n",
    "ConfusionMatrixDisplay.from_predictions(y_test, predictionDTC)\n",
    "plt.show()"
   ]
  },
  {
   "cell_type": "markdown",
   "metadata": {},
   "source": [
    "#### Cross Validation"
   ]
  },
  {
   "cell_type": "code",
   "execution_count": 57,
   "metadata": {},
   "outputs": [
    {
     "data": {
      "text/plain": [
       "array([0.51653364, 0.52223489, 0.53249715, 0.55022831, 0.53652968,\n",
       "       0.55936073, 0.52853881, 0.53082192, 0.54109589, 0.52511416])"
      ]
     },
     "execution_count": 57,
     "metadata": {},
     "output_type": "execute_result"
    }
   ],
   "source": [
    "scores = cross_val_score(dtc, X, y, cv=10)\n",
    "scores"
   ]
  },
  {
   "cell_type": "markdown",
   "metadata": {},
   "source": [
    "#### GridSearch"
   ]
  },
  {
   "cell_type": "code",
   "execution_count": 157,
   "metadata": {},
   "outputs": [
    {
     "name": "stdout",
     "output_type": "stream",
     "text": [
      "Fitting 5 folds for each of 4 candidates, totalling 20 fits\n",
      "[CV 1/5] END .....criterion=gini, splitter=best;, score=0.357 total time=   0.0s\n",
      "[CV 2/5] END .....criterion=gini, splitter=best;, score=0.344 total time=   0.0s\n",
      "[CV 3/5] END .....criterion=gini, splitter=best;, score=0.396 total time=   0.0s\n",
      "[CV 4/5] END .....criterion=gini, splitter=best;, score=0.376 total time=   0.0s\n",
      "[CV 5/5] END .....criterion=gini, splitter=best;, score=0.365 total time=   0.0s\n",
      "[CV 1/5] END ...criterion=gini, splitter=random;, score=0.335 total time=   0.0s\n",
      "[CV 2/5] END ...criterion=gini, splitter=random;, score=0.321 total time=   0.0s\n",
      "[CV 3/5] END ...criterion=gini, splitter=random;, score=0.357 total time=   0.0s\n",
      "[CV 4/5] END ...criterion=gini, splitter=random;, score=0.359 total time=   0.0s\n",
      "[CV 5/5] END ...criterion=gini, splitter=random;, score=0.393 total time=   0.0s\n",
      "[CV 1/5] END ..criterion=entropy, splitter=best;, score=0.338 total time=   0.0s\n",
      "[CV 2/5] END ..criterion=entropy, splitter=best;, score=0.386 total time=   0.0s\n",
      "[CV 3/5] END ..criterion=entropy, splitter=best;, score=0.394 total time=   0.0s\n",
      "[CV 4/5] END ..criterion=entropy, splitter=best;, score=0.359 total time=   0.0s\n",
      "[CV 5/5] END ..criterion=entropy, splitter=best;, score=0.350 total time=   0.0s\n",
      "[CV 1/5] END criterion=entropy, splitter=random;, score=0.357 total time=   0.0s\n",
      "[CV 2/5] END criterion=entropy, splitter=random;, score=0.355 total time=   0.0s\n",
      "[CV 3/5] END criterion=entropy, splitter=random;, score=0.357 total time=   0.0s\n",
      "[CV 4/5] END criterion=entropy, splitter=random;, score=0.361 total time=   0.0s\n",
      "[CV 5/5] END criterion=entropy, splitter=random;, score=0.399 total time=   0.0s\n",
      "Best estimator:  DecisionTreeClassifier(random_state=2023)\n",
      "              precision    recall  f1-score   support\n",
      "\n",
      "           0       0.63      0.62      0.62      1406\n",
      "           1       0.34      0.35      0.34       785\n",
      "\n",
      "    accuracy                           0.52      2191\n",
      "   macro avg       0.48      0.48      0.48      2191\n",
      "weighted avg       0.53      0.52      0.52      2191\n",
      "\n"
     ]
    },
    {
     "data": {
      "image/png": "[encoded data removed]",
      "text/plain": [
       "<Figure size 640x480 with 2 Axes>"
      ]
     },
     "metadata": {},
     "output_type": "display_data"
    }
   ],
   "source": [
    "param_grid = {\n",
    "    'criterion': ['gini', 'entropy'],\n",
    "    'splitter': ['best', 'random']\n",
    "}\n",
    "\n",
    "scoring = 'recall'\n",
    "\n",
    "grid_searchDTC = GridSearchCV(dtc, param_grid, cv=5, refit=True, verbose=3, scoring=scoring)\n",
    "grid_searchDTC.fit(X_train, y_train)\n",
    "grid_predictionDTC = grid_searchDTC.predict(X_test)\n",
    "\n",
    "\n",
    "print(\"Best estimator: \", grid_searchDTC.best_estimator_)\n",
    "\n",
    "\n",
    "print(classification_report(y_test, grid_predictionDTC))\n",
    "ConfusionMatrixDisplay.from_predictions(y_test, grid_predictionDTC)\n",
    "plt.show()"
   ]
  },
  {
   "cell_type": "markdown",
   "metadata": {},
   "source": [
    "### Regressão Linear"
   ]
  },
  {
   "cell_type": "markdown",
   "metadata": {},
   "source": [
    "#### Hold-out Validation"
   ]
  },
  {
   "cell_type": "code",
   "execution_count": 158,
   "metadata": {},
   "outputs": [],
   "source": [
    "from sklearn.tree import DecisionTreeRegressor\n",
    "\n",
    "dtr = DecisionTreeRegressor(random_state=2023)\n",
    "\n",
    "dtr.fit(X_train, y_train)\n",
    "predictionDTR = dtr.predict(X_test)"
   ]
  },
  {
   "cell_type": "code",
   "execution_count": 159,
   "metadata": {},
   "outputs": [
    {
     "name": "stdout",
     "output_type": "stream",
     "text": [
      "Mean Absolute Error: 0.4705613874942948\n",
      "\n",
      "Mean Squared Error: 0.4705613874942948\n",
      "\n",
      "Root Mean Squared Error: 0.6859747717622674\n",
      "              precision    recall  f1-score   support\n",
      "\n",
      "           0       0.64      0.62      0.63      1406\n",
      "           1       0.35      0.37      0.36       785\n",
      "\n",
      "    accuracy                           0.53      2191\n",
      "   macro avg       0.49      0.49      0.49      2191\n",
      "weighted avg       0.53      0.53      0.53      2191\n",
      "\n"
     ]
    },
    {
     "data": {
      "image/png": "[encoded data removed]",
      "text/plain": [
       "<Figure size 640x480 with 2 Axes>"
      ]
     },
     "metadata": {},
     "output_type": "display_data"
    }
   ],
   "source": [
    "print('Mean Absolute Error: ',end='')\n",
    "print(mean_absolute_error(y_test, predictionDTR))\n",
    "\n",
    "print('\\nMean Squared Error: ', end='')\n",
    "print(mean_squared_error(y_test, predictionDTR, squared=True))\n",
    "\n",
    "print('\\nRoot Mean Squared Error: ', end='')\n",
    "print(mean_squared_error(y_test, predictionDTR, squared=False))\n",
    "\n",
    "\n",
    "print(classification_report(y_test, predictionDTR))\n",
    "ConfusionMatrixDisplay.from_predictions(y_test, predictionDTR)\n",
    "plt.show()"
   ]
  },
  {
   "cell_type": "markdown",
   "metadata": {},
   "source": [
    "#### Cross Validation"
   ]
  },
  {
   "cell_type": "code",
   "execution_count": 19,
   "metadata": {},
   "outputs": [
    {
     "data": {
      "text/plain": [
       "array([-1.02983023, -1.08951668, -0.92141082, -1.07010833, -1.09499736,\n",
       "       -1.01906598, -0.89550867, -0.90707672, -0.94959974, -1.11902778])"
      ]
     },
     "execution_count": 19,
     "metadata": {},
     "output_type": "execute_result"
    }
   ],
   "source": [
    "scores = cross_val_score(dtr, X, y, cv=10)\n",
    "scores"
   ]
  },
  {
   "cell_type": "markdown",
   "metadata": {},
   "source": [
    "#### GridSearch"
   ]
  },
  {
   "cell_type": "code",
   "execution_count": 160,
   "metadata": {},
   "outputs": [
    {
     "name": "stdout",
     "output_type": "stream",
     "text": [
      "Fitting 5 folds for each of 6 candidates, totalling 30 fits\n",
      "[CV 1/5] END criterion=squared_error, splitter=best;, score=0.383 total time=   0.0s\n",
      "[CV 2/5] END criterion=squared_error, splitter=best;, score=0.366 total time=   0.0s\n",
      "[CV 3/5] END criterion=squared_error, splitter=best;, score=0.347 total time=   0.0s\n",
      "[CV 4/5] END criterion=squared_error, splitter=best;, score=0.377 total time=   0.0s\n",
      "[CV 5/5] END criterion=squared_error, splitter=best;, score=0.391 total time=   0.0s\n",
      "[CV 1/5] END criterion=squared_error, splitter=random;, score=0.363 total time=   0.0s\n",
      "[CV 2/5] END criterion=squared_error, splitter=random;, score=0.407 total time=   0.0s\n",
      "[CV 3/5] END criterion=squared_error, splitter=random;, score=0.397 total time=   0.0s\n",
      "[CV 4/5] END criterion=squared_error, splitter=random;, score=0.345 total time=   0.0s\n",
      "[CV 5/5] END criterion=squared_error, splitter=random;, score=0.420 total time=   0.0s\n",
      "[CV 1/5] END criterion=friedman_mse, splitter=best;, score=0.383 total time=   0.0s\n",
      "[CV 2/5] END criterion=friedman_mse, splitter=best;, score=0.366 total time=   0.0s\n",
      "[CV 3/5] END criterion=friedman_mse, splitter=best;, score=0.347 total time=   0.0s\n",
      "[CV 4/5] END criterion=friedman_mse, splitter=best;, score=0.377 total time=   0.0s\n",
      "[CV 5/5] END criterion=friedman_mse, splitter=best;, score=0.393 total time=   0.0s\n",
      "[CV 1/5] END criterion=friedman_mse, splitter=random;, score=0.352 total time=   0.0s\n",
      "[CV 2/5] END criterion=friedman_mse, splitter=random;, score=0.374 total time=   0.0s\n",
      "[CV 3/5] END criterion=friedman_mse, splitter=random;, score=0.390 total time=   0.0s\n",
      "[CV 4/5] END criterion=friedman_mse, splitter=random;, score=0.345 total time=   0.0s\n",
      "[CV 5/5] END criterion=friedman_mse, splitter=random;, score=0.420 total time=   0.0s\n",
      "[CV 1/5] END criterion=absolute_error, splitter=best;, score=0.397 total time=   6.8s\n",
      "[CV 2/5] END criterion=absolute_error, splitter=best;, score=0.370 total time=   6.4s\n",
      "[CV 3/5] END criterion=absolute_error, splitter=best;, score=0.406 total time=   7.0s\n",
      "[CV 4/5] END criterion=absolute_error, splitter=best;, score=0.404 total time=  10.7s\n",
      "[CV 5/5] END criterion=absolute_error, splitter=best;, score=0.414 total time=   5.2s\n",
      "[CV 1/5] END criterion=absolute_error, splitter=random;, score=0.428 total time=   0.3s\n",
      "[CV 2/5] END criterion=absolute_error, splitter=random;, score=0.389 total time=   0.3s\n",
      "[CV 3/5] END criterion=absolute_error, splitter=random;, score=0.369 total time=   0.3s\n",
      "[CV 4/5] END criterion=absolute_error, splitter=random;, score=0.448 total time=   0.3s\n",
      "[CV 5/5] END criterion=absolute_error, splitter=random;, score=0.412 total time=   0.3s\n",
      "Best estimator:  DecisionTreeRegressor(criterion='absolute_error', random_state=2023,\n",
      "                      splitter='random')\n",
      "              precision    recall  f1-score   support\n",
      "\n",
      "           0       0.65      0.62      0.63      1406\n",
      "           1       0.36      0.39      0.38       785\n",
      "\n",
      "    accuracy                           0.54      2191\n",
      "   macro avg       0.51      0.51      0.51      2191\n",
      "weighted avg       0.55      0.54      0.54      2191\n",
      "\n"
     ]
    },
    {
     "data": {
      "image/png": "[encoded data removed]",
      "text/plain": [
       "<Figure size 640x480 with 2 Axes>"
      ]
     },
     "metadata": {},
     "output_type": "display_data"
    }
   ],
   "source": [
    "param_grid = {\n",
    "    'criterion': ['squared_error', 'friedman_mse', 'absolute_error'],\n",
    "    'splitter': ['best', 'random']\n",
    "}\n",
    "\n",
    "scoring = 'recall'\n",
    "\n",
    "grid_searchDTR = GridSearchCV(dtr, param_grid, cv=5, refit=True, verbose=3, scoring=scoring)\n",
    "grid_searchDTR.fit(X_train, y_train)\n",
    "grid_predictionDTR = grid_searchDTR.predict(X_test)\n",
    "\n",
    "\n",
    "print(\"Best estimator: \", grid_searchDTR.best_estimator_)\n",
    "\n",
    "\n",
    "print(classification_report(y_test, grid_predictionDTR))\n",
    "ConfusionMatrixDisplay.from_predictions(y_test, grid_predictionDTR)\n",
    "plt.show()"
   ]
  },
  {
   "cell_type": "markdown",
   "metadata": {},
   "source": [
    "### Support Vector Classifier"
   ]
  },
  {
   "cell_type": "markdown",
   "metadata": {},
   "source": [
    "#### Hold-out Validation"
   ]
  },
  {
   "cell_type": "code",
   "execution_count": 21,
   "metadata": {},
   "outputs": [
    {
     "name": "stdout",
     "output_type": "stream",
     "text": [
      "              precision    recall  f1-score   support\n",
      "\n",
      "           0       0.64      1.00      0.78      1406\n",
      "           1       0.00      0.00      0.00       785\n",
      "\n",
      "    accuracy                           0.64      2191\n",
      "   macro avg       0.32      0.50      0.39      2191\n",
      "weighted avg       0.41      0.64      0.50      2191\n",
      "\n"
     ]
    },
    {
     "data": {
      "image/png": "[encoded data removed]",
      "text/plain": [
       "<Figure size 640x480 with 2 Axes>"
      ]
     },
     "metadata": {},
     "output_type": "display_data"
    }
   ],
   "source": [
    "from sklearn.svm import SVC\n",
    "\n",
    "svc = SVC(random_state=2023)\n",
    "svc.fit(X_train, y_train)\n",
    "predictionSVC = svc.predict(X_test)\n",
    "\n",
    "print(classification_report(y_test, predictionSVC))\n",
    "ConfusionMatrixDisplay.from_predictions(y_test, predictionSVC)\n",
    "plt.show()"
   ]
  },
  {
   "cell_type": "markdown",
   "metadata": {},
   "source": [
    "#### Cross Validation"
   ]
  },
  {
   "cell_type": "code",
   "execution_count": 22,
   "metadata": {},
   "outputs": [
    {
     "data": {
      "text/plain": [
       "array([0.64196123, 0.64424173, 0.64196123, 0.64269406, 0.64269406,\n",
       "       0.64155251, 0.64041096, 0.64041096, 0.64155251, 0.64155251])"
      ]
     },
     "execution_count": 22,
     "metadata": {},
     "output_type": "execute_result"
    }
   ],
   "source": [
    "scores = cross_val_score(svc, X, y, cv=10)\n",
    "scores"
   ]
  },
  {
   "cell_type": "markdown",
   "metadata": {},
   "source": [
    "#### GridSearch"
   ]
  },
  {
   "cell_type": "code",
   "execution_count": 23,
   "metadata": {},
   "outputs": [
    {
     "name": "stdout",
     "output_type": "stream",
     "text": [
      "Fitting 2 folds for each of 2 candidates, totalling 4 fits\n",
      "[CV 1/2] END .....C=0.1, gamma=0.1, kernel=poly;, score=0.111 total time=   0.3s\n",
      "[CV 2/2] END .....C=0.1, gamma=0.1, kernel=poly;, score=0.113 total time=   0.3s\n",
      "[CV 1/2] END .......C=1, gamma=0.1, kernel=poly;, score=0.347 total time=   0.6s\n",
      "[CV 2/2] END .......C=1, gamma=0.1, kernel=poly;, score=0.338 total time=   0.6s\n",
      "Best estimator:  SVC(C=1, gamma=0.1, kernel='poly', random_state=2023)\n",
      "              precision    recall  f1-score   support\n",
      "\n",
      "           0       0.63      0.69      0.66      1406\n",
      "           1       0.34      0.28      0.31       785\n",
      "\n",
      "    accuracy                           0.55      2191\n",
      "   macro avg       0.49      0.49      0.48      2191\n",
      "weighted avg       0.53      0.55      0.53      2191\n",
      "\n"
     ]
    },
    {
     "data": {
      "image/png": "[encoded data removed]",
      "text/plain": [
       "<Figure size 640x480 with 2 Axes>"
      ]
     },
     "metadata": {},
     "output_type": "display_data"
    }
   ],
   "source": [
    "param_grid = {\n",
    "    'C': [0.1, 1], \n",
    "    'gamma': [0.1],\n",
    "    'kernel': ['poly']\n",
    "}\n",
    "\n",
    "scoring = 'recall'\n",
    "\n",
    "grid_searchSVC = GridSearchCV(svc, param_grid, cv=2, refit=True, verbose=3, scoring=scoring)\n",
    "grid_searchSVC.fit(X_train, y_train)\n",
    "grid_predictionSVC = grid_searchSVC.predict(X_test)\n",
    "\n",
    "\n",
    "print(\"Best estimator: \", grid_searchSVC.best_estimator_)\n",
    "\n",
    "\n",
    "print(classification_report(y_test, grid_predictionSVC))\n",
    "ConfusionMatrixDisplay.from_predictions(y_test, grid_predictionSVC)\n",
    "plt.show()"
   ]
  },
  {
   "cell_type": "markdown",
   "metadata": {},
   "source": [
    "### Support Vector Regressor"
   ]
  },
  {
   "cell_type": "markdown",
   "metadata": {},
   "source": [
    "#### Hold-out Validation"
   ]
  },
  {
   "cell_type": "code",
   "execution_count": 24,
   "metadata": {},
   "outputs": [
    {
     "name": "stdout",
     "output_type": "stream",
     "text": [
      "Mean Absolute Error: 0.4367992023545437\n",
      "\n",
      "Mean Squared Error: 0.2793705803443552\n",
      "\n",
      "Root Mean Squared Error: 0.5285551819293376\n",
      "              precision    recall  f1-score   support\n",
      "\n",
      "           0       0.64      0.91      0.75      1406\n",
      "           1       0.32      0.08      0.12       785\n",
      "\n",
      "    accuracy                           0.61      2191\n",
      "   macro avg       0.48      0.49      0.44      2191\n",
      "weighted avg       0.52      0.61      0.52      2191\n",
      "\n"
     ]
    },
    {
     "data": {
      "image/png": "[encoded data removed]",
      "text/plain": [
       "<Figure size 640x480 with 2 Axes>"
      ]
     },
     "metadata": {},
     "output_type": "display_data"
    }
   ],
   "source": [
    "from sklearn.svm import SVR\n",
    "\n",
    "svr = SVR(kernel='rbf')\n",
    "svr.fit(X_train, y_train)\n",
    "predictionSVR = svr.predict(X_test)\n",
    "\n",
    "print('Mean Absolute Error: ',end='')\n",
    "print(mean_absolute_error(y_test, predictionSVR))\n",
    "\n",
    "print('\\nMean Squared Error: ', end='')\n",
    "print(mean_squared_error(y_test, predictionSVR, squared=True))\n",
    "\n",
    "print('\\nRoot Mean Squared Error: ', end='')\n",
    "print(mean_squared_error(y_test, predictionSVR, squared=False))\n",
    "\n",
    "\n",
    "predictionSVR = list(map(round,predictionSVR))\n",
    "print(classification_report(y_test, predictionSVR))\n",
    "ConfusionMatrixDisplay.from_predictions(y_test, predictionSVR)\n",
    "plt.show()"
   ]
  },
  {
   "cell_type": "markdown",
   "metadata": {},
   "source": [
    "#### Cross Validation"
   ]
  },
  {
   "cell_type": "code",
   "execution_count": 25,
   "metadata": {},
   "outputs": [
    {
     "data": {
      "text/plain": [
       "array([-0.18167821, -0.2138393 , -0.25433167, -0.18344761, -0.22037465,\n",
       "       -0.20815477, -0.2128858 , -0.26182079, -0.19994861, -0.18361501])"
      ]
     },
     "execution_count": 25,
     "metadata": {},
     "output_type": "execute_result"
    }
   ],
   "source": [
    "scores = cross_val_score(svr, X, y, cv=10)\n",
    "scores"
   ]
  },
  {
   "cell_type": "markdown",
   "metadata": {},
   "source": [
    "#### GridSearch"
   ]
  },
  {
   "cell_type": "code",
   "execution_count": 26,
   "metadata": {},
   "outputs": [
    {
     "name": "stdout",
     "output_type": "stream",
     "text": [
      "Fitting 2 folds for each of 4 candidates, totalling 8 fits\n",
      "[CV 1/2] END .......C=0.1, gamma=1, kernel=poly;, score=0.389 total time=   3.9s\n",
      "[CV 2/2] END .......C=0.1, gamma=1, kernel=poly;, score=0.421 total time=   4.8s\n",
      "[CV 1/2] END .....C=0.1, gamma=0.1, kernel=poly;, score=0.111 total time=   0.3s\n",
      "[CV 2/2] END .....C=0.1, gamma=0.1, kernel=poly;, score=0.113 total time=   0.3s\n",
      "[CV 1/2] END .........C=1, gamma=1, kernel=poly;, score=0.389 total time=   3.9s\n",
      "[CV 2/2] END .........C=1, gamma=1, kernel=poly;, score=0.421 total time=   4.8s\n",
      "[CV 1/2] END .......C=1, gamma=0.1, kernel=poly;, score=0.347 total time=   0.5s\n",
      "[CV 2/2] END .......C=1, gamma=0.1, kernel=poly;, score=0.338 total time=   0.5s\n",
      "Best estimator:  SVC(C=0.1, gamma=1, kernel='poly', random_state=2023)\n",
      "              precision    recall  f1-score   support\n",
      "\n",
      "           0       0.63      0.63      0.63      1406\n",
      "           1       0.34      0.34      0.34       785\n",
      "\n",
      "    accuracy                           0.53      2191\n",
      "   macro avg       0.48      0.48      0.48      2191\n",
      "weighted avg       0.53      0.53      0.53      2191\n",
      "\n"
     ]
    },
    {
     "data": {
      "image/png": "[encoded data removed]",
      "text/plain": [
       "<Figure size 640x480 with 2 Axes>"
      ]
     },
     "metadata": {},
     "output_type": "display_data"
    }
   ],
   "source": [
    "param_grid = {\n",
    "    'C': [0.1, 1], \n",
    "    'gamma': [1, 0.1],\n",
    "    'kernel': ['poly'],\n",
    "}\n",
    "\n",
    "scoring = 'recall'\n",
    "\n",
    "grid_searchSVR = GridSearchCV(svc, param_grid, cv=2, refit=True, verbose=3, scoring=scoring)\n",
    "grid_searchSVR.fit(X_train, y_train)\n",
    "grid_predictionSVR = grid_searchSVR.predict(X_test)\n",
    "\n",
    "\n",
    "print(\"Best estimator: \", grid_searchSVR.best_estimator_)\n",
    "\n",
    "\n",
    "grid_predictionSVR = list(map(round,grid_predictionSVR))\n",
    "print(classification_report(y_test, grid_predictionSVR))\n",
    "ConfusionMatrixDisplay.from_predictions(y_test, grid_predictionSVR)\n",
    "plt.show()"
   ]
  },
  {
   "cell_type": "markdown",
   "metadata": {},
   "source": [
    "### Gradient Boosting Machines"
   ]
  },
  {
   "cell_type": "markdown",
   "metadata": {},
   "source": [
    "#### Hold-out Validation"
   ]
  },
  {
   "cell_type": "code",
   "execution_count": 27,
   "metadata": {},
   "outputs": [
    {
     "name": "stdout",
     "output_type": "stream",
     "text": [
      "              precision    recall  f1-score   support\n",
      "\n",
      "           0       0.64      0.98      0.78      1406\n",
      "           1       0.40      0.02      0.04       785\n",
      "\n",
      "    accuracy                           0.64      2191\n",
      "   macro avg       0.52      0.50      0.41      2191\n",
      "weighted avg       0.56      0.64      0.51      2191\n",
      "\n"
     ]
    },
    {
     "data": {
      "image/png": "[encoded data removed]",
      "text/plain": [
       "<Figure size 640x480 with 2 Axes>"
      ]
     },
     "metadata": {},
     "output_type": "display_data"
    }
   ],
   "source": [
    "from sklearn.ensemble import GradientBoostingClassifier\n",
    "\n",
    "gbm = GradientBoostingClassifier(random_state=2023)\n",
    "gbm.fit(X_train, y_train)\n",
    "predictionGBM = gbm.predict(X_test)\n",
    "\n",
    "print(classification_report(y_test, predictionGBM))\n",
    "ConfusionMatrixDisplay.from_predictions(y_test, predictionGBM)\n",
    "plt.show()"
   ]
  },
  {
   "cell_type": "markdown",
   "metadata": {},
   "source": [
    "#### Cross Validation"
   ]
  },
  {
   "cell_type": "code",
   "execution_count": 28,
   "metadata": {},
   "outputs": [
    {
     "data": {
      "text/plain": [
       "array([0.64652223, 0.63283922, 0.63511973, 0.6347032 , 0.64155251,\n",
       "       0.6369863 , 0.6369863 , 0.64155251, 0.63812785, 0.63812785])"
      ]
     },
     "execution_count": 28,
     "metadata": {},
     "output_type": "execute_result"
    }
   ],
   "source": [
    "scores = cross_val_score(gbm, X, y, cv=10)\n",
    "scores"
   ]
  },
  {
   "cell_type": "markdown",
   "metadata": {},
   "source": [
    "#### Grid Search"
   ]
  },
  {
   "cell_type": "code",
   "execution_count": 29,
   "metadata": {},
   "outputs": [
    {
     "name": "stdout",
     "output_type": "stream",
     "text": [
      "Fitting 3 folds for each of 18 candidates, totalling 54 fits\n",
      "[CV 1/3] END learning_rate=2, max_depth=4, n_estimators=100;, score=0.713 total time=   1.6s\n",
      "[CV 2/3] END learning_rate=2, max_depth=4, n_estimators=100;, score=0.420 total time=   1.7s\n",
      "[CV 3/3] END learning_rate=2, max_depth=4, n_estimators=100;, score=0.680 total time=   1.6s\n",
      "[CV 1/3] END learning_rate=2, max_depth=4, n_estimators=150;, score=0.713 total time=   2.5s\n",
      "[CV 2/3] END learning_rate=2, max_depth=4, n_estimators=150;, score=0.420 total time=   2.6s\n",
      "[CV 3/3] END learning_rate=2, max_depth=4, n_estimators=150;, score=0.680 total time=   2.5s\n",
      "[CV 1/3] END learning_rate=2, max_depth=5, n_estimators=100;, score=0.447 total time=   2.2s\n",
      "[CV 2/3] END learning_rate=2, max_depth=5, n_estimators=100;, score=0.561 total time=   2.1s\n",
      "[CV 3/3] END learning_rate=2, max_depth=5, n_estimators=100;, score=0.392 total time=   2.1s\n",
      "[CV 1/3] END learning_rate=2, max_depth=5, n_estimators=150;, score=0.447 total time=   3.3s\n",
      "[CV 2/3] END learning_rate=2, max_depth=5, n_estimators=150;, score=0.561 total time=   3.4s\n",
      "[CV 3/3] END learning_rate=2, max_depth=5, n_estimators=150;, score=0.392 total time=   3.3s\n",
      "[CV 1/3] END learning_rate=2, max_depth=6, n_estimators=100;, score=0.484 total time=   2.6s\n",
      "[CV 2/3] END learning_rate=2, max_depth=6, n_estimators=100;, score=0.575 total time=   2.7s\n",
      "[CV 3/3] END learning_rate=2, max_depth=6, n_estimators=100;, score=0.413 total time=   2.6s\n",
      "[CV 1/3] END learning_rate=2, max_depth=6, n_estimators=150;, score=0.484 total time=   3.9s\n",
      "[CV 2/3] END learning_rate=2, max_depth=6, n_estimators=150;, score=0.575 total time=   3.9s\n",
      "[CV 3/3] END learning_rate=2, max_depth=6, n_estimators=150;, score=0.413 total time=   3.9s\n",
      "[CV 1/3] END learning_rate=1, max_depth=4, n_estimators=100;, score=0.313 total time=   1.6s\n",
      "[CV 2/3] END learning_rate=1, max_depth=4, n_estimators=100;, score=0.304 total time=   1.6s\n",
      "[CV 3/3] END learning_rate=1, max_depth=4, n_estimators=100;, score=0.339 total time=   1.6s\n",
      "[CV 1/3] END learning_rate=1, max_depth=4, n_estimators=150;, score=0.326 total time=   2.4s\n",
      "[CV 2/3] END learning_rate=1, max_depth=4, n_estimators=150;, score=0.303 total time=   2.4s\n",
      "[CV 3/3] END learning_rate=1, max_depth=4, n_estimators=150;, score=0.339 total time=   2.4s\n",
      "[CV 1/3] END learning_rate=1, max_depth=5, n_estimators=100;, score=0.301 total time=   2.0s\n",
      "[CV 2/3] END learning_rate=1, max_depth=5, n_estimators=100;, score=0.284 total time=   2.0s\n",
      "[CV 3/3] END learning_rate=1, max_depth=5, n_estimators=100;, score=0.351 total time=   2.1s\n",
      "[CV 1/3] END learning_rate=1, max_depth=5, n_estimators=150;, score=0.299 total time=   3.1s\n",
      "[CV 2/3] END learning_rate=1, max_depth=5, n_estimators=150;, score=0.264 total time=   3.1s\n",
      "[CV 3/3] END learning_rate=1, max_depth=5, n_estimators=150;, score=0.334 total time=   3.1s\n",
      "[CV 1/3] END learning_rate=1, max_depth=6, n_estimators=100;, score=0.284 total time=   2.5s\n",
      "[CV 2/3] END learning_rate=1, max_depth=6, n_estimators=100;, score=0.296 total time=   2.5s\n",
      "[CV 3/3] END learning_rate=1, max_depth=6, n_estimators=100;, score=0.295 total time=   2.5s\n",
      "[CV 1/3] END learning_rate=1, max_depth=6, n_estimators=150;, score=0.260 total time=   3.7s\n",
      "[CV 2/3] END learning_rate=1, max_depth=6, n_estimators=150;, score=0.273 total time=   3.7s\n",
      "[CV 3/3] END learning_rate=1, max_depth=6, n_estimators=150;, score=0.290 total time=   3.8s\n",
      "[CV 1/3] END learning_rate=0.1, max_depth=4, n_estimators=100;, score=0.060 total time=   1.6s\n",
      "[CV 2/3] END learning_rate=0.1, max_depth=4, n_estimators=100;, score=0.075 total time=   1.6s\n",
      "[CV 3/3] END learning_rate=0.1, max_depth=4, n_estimators=100;, score=0.068 total time=   1.6s\n",
      "[CV 1/3] END learning_rate=0.1, max_depth=4, n_estimators=150;, score=0.082 total time=   2.4s\n",
      "[CV 2/3] END learning_rate=0.1, max_depth=4, n_estimators=150;, score=0.104 total time=   2.4s\n",
      "[CV 3/3] END learning_rate=0.1, max_depth=4, n_estimators=150;, score=0.097 total time=   2.4s\n",
      "[CV 1/3] END learning_rate=0.1, max_depth=5, n_estimators=100;, score=0.096 total time=   2.0s\n",
      "[CV 2/3] END learning_rate=0.1, max_depth=5, n_estimators=100;, score=0.092 total time=   2.0s\n",
      "[CV 3/3] END learning_rate=0.1, max_depth=5, n_estimators=100;, score=0.101 total time=   2.0s\n",
      "[CV 1/3] END learning_rate=0.1, max_depth=5, n_estimators=150;, score=0.129 total time=   3.0s\n",
      "[CV 2/3] END learning_rate=0.1, max_depth=5, n_estimators=150;, score=0.122 total time=   3.0s\n",
      "[CV 3/3] END learning_rate=0.1, max_depth=5, n_estimators=150;, score=0.128 total time=   3.0s\n",
      "[CV 1/3] END learning_rate=0.1, max_depth=6, n_estimators=100;, score=0.143 total time=   2.4s\n",
      "[CV 2/3] END learning_rate=0.1, max_depth=6, n_estimators=100;, score=0.116 total time=   2.4s\n",
      "[CV 3/3] END learning_rate=0.1, max_depth=6, n_estimators=100;, score=0.152 total time=   2.4s\n",
      "[CV 1/3] END learning_rate=0.1, max_depth=6, n_estimators=150;, score=0.143 total time=   3.7s\n",
      "[CV 2/3] END learning_rate=0.1, max_depth=6, n_estimators=150;, score=0.153 total time=   3.8s\n",
      "[CV 3/3] END learning_rate=0.1, max_depth=6, n_estimators=150;, score=0.158 total time=   3.7s\n",
      "Best estimator:  GradientBoostingClassifier(learning_rate=2, max_depth=4, random_state=2023)\n",
      "              precision    recall  f1-score   support\n",
      "\n",
      "           0       0.65      0.14      0.23      1406\n",
      "           1       0.36      0.86      0.51       785\n",
      "\n",
      "    accuracy                           0.40      2191\n",
      "   macro avg       0.50      0.50      0.37      2191\n",
      "weighted avg       0.54      0.40      0.33      2191\n",
      "\n"
     ]
    },
    {
     "data": {
      "image/png": "[encoded data removed]",
      "text/plain": [
       "<Figure size 640x480 with 2 Axes>"
      ]
     },
     "metadata": {},
     "output_type": "display_data"
    }
   ],
   "source": [
    "param_grid = {\n",
    "    'n_estimators': [100, 150],\n",
    "    'learning_rate': [2, 1, 0.1],\n",
    "    'max_depth': [4, 5, 6],\n",
    "}\n",
    "\n",
    "scoring = 'recall'\n",
    "\n",
    "grid_searchGBM = GridSearchCV(gbm, param_grid, cv=3, refit=True, verbose=3, scoring=scoring)\n",
    "grid_searchGBM.fit(X_train, y_train)\n",
    "grid_predictionGBM = grid_searchGBM.predict(X_test)\n",
    "\n",
    "\n",
    "print(\"Best estimator: \", grid_searchGBM.best_estimator_)\n",
    "\n",
    "\n",
    "print(classification_report(y_test, grid_predictionGBM))\n",
    "ConfusionMatrixDisplay.from_predictions(y_test, grid_predictionGBM)\n",
    "plt.show()"
   ]
  },
  {
   "cell_type": "markdown",
   "metadata": {},
   "source": [
    "### Random Forest"
   ]
  },
  {
   "cell_type": "markdown",
   "metadata": {},
   "source": [
    "#### Hold-out Validation"
   ]
  },
  {
   "cell_type": "code",
   "execution_count": 40,
   "metadata": {},
   "outputs": [
    {
     "name": "stdout",
     "output_type": "stream",
     "text": [
      "              precision    recall  f1-score   support\n",
      "\n",
      "           0       0.64      0.98      0.78      1406\n",
      "           1       0.42      0.03      0.05       785\n",
      "\n",
      "    accuracy                           0.64      2191\n",
      "   macro avg       0.53      0.50      0.41      2191\n",
      "weighted avg       0.56      0.64      0.52      2191\n",
      "\n"
     ]
    },
    {
     "data": {
      "image/png": "[encoded data removed]",
      "text/plain": [
       "<Figure size 640x480 with 2 Axes>"
      ]
     },
     "metadata": {},
     "output_type": "display_data"
    }
   ],
   "source": [
    "from sklearn.ensemble import RandomForestClassifier\n",
    "\n",
    "rfc = RandomForestClassifier(random_state=2023)\n",
    "rfc.fit(X_train, y_train)\n",
    "predictionRFC = rfc.predict(X_test)\n",
    "\n",
    "print(classification_report(y_test, predictionRFC))\n",
    "ConfusionMatrixDisplay.from_predictions(y_test, predictionRFC)\n",
    "plt.show()"
   ]
  },
  {
   "cell_type": "markdown",
   "metadata": {},
   "source": [
    "#### Cross Validation"
   ]
  },
  {
   "cell_type": "code",
   "execution_count": 31,
   "metadata": {},
   "outputs": [
    {
     "data": {
      "text/plain": [
       "array([0.63968073, 0.63283922, 0.63055872, 0.63812785, 0.63584475,\n",
       "       0.63127854, 0.63584475, 0.64269406, 0.63242009, 0.63926941])"
      ]
     },
     "execution_count": 31,
     "metadata": {},
     "output_type": "execute_result"
    }
   ],
   "source": [
    "scores = cross_val_score(rfc, X, y, cv=10)\n",
    "scores"
   ]
  },
  {
   "cell_type": "markdown",
   "metadata": {},
   "source": [
    "#### Grid Search"
   ]
  },
  {
   "cell_type": "code",
   "execution_count": 32,
   "metadata": {},
   "outputs": [
    {
     "name": "stdout",
     "output_type": "stream",
     "text": [
      "Fitting 3 folds for each of 6 candidates, totalling 18 fits\n",
      "[CV 1/3] END ..criterion=gini, n_estimators=100;, score=0.029 total time=   1.0s\n",
      "[CV 2/3] END ..criterion=gini, n_estimators=100;, score=0.031 total time=   0.9s\n",
      "[CV 3/3] END ..criterion=gini, n_estimators=100;, score=0.033 total time=   0.9s\n",
      "[CV 1/3] END ..criterion=gini, n_estimators=200;, score=0.014 total time=   2.0s\n",
      "[CV 2/3] END ..criterion=gini, n_estimators=200;, score=0.013 total time=   2.0s\n",
      "[CV 3/3] END ..criterion=gini, n_estimators=200;, score=0.020 total time=   1.9s\n",
      "[CV 1/3] END ..criterion=gini, n_estimators=300;, score=0.009 total time=   3.0s\n",
      "[CV 2/3] END ..criterion=gini, n_estimators=300;, score=0.010 total time=   3.0s\n",
      "[CV 3/3] END ..criterion=gini, n_estimators=300;, score=0.015 total time=   2.9s\n",
      "[CV 1/3] END criterion=entropy, n_estimators=100;, score=0.027 total time=   1.2s\n",
      "[CV 2/3] END criterion=entropy, n_estimators=100;, score=0.020 total time=   1.2s\n",
      "[CV 3/3] END criterion=entropy, n_estimators=100;, score=0.027 total time=   1.1s\n",
      "[CV 1/3] END criterion=entropy, n_estimators=200;, score=0.011 total time=   2.5s\n",
      "[CV 2/3] END criterion=entropy, n_estimators=200;, score=0.008 total time=   2.5s\n",
      "[CV 3/3] END criterion=entropy, n_estimators=200;, score=0.019 total time=   2.4s\n",
      "[CV 1/3] END criterion=entropy, n_estimators=300;, score=0.008 total time=   3.7s\n",
      "[CV 2/3] END criterion=entropy, n_estimators=300;, score=0.010 total time=   3.7s\n",
      "[CV 3/3] END criterion=entropy, n_estimators=300;, score=0.015 total time=   3.6s\n",
      "Best estimator:  RandomForestClassifier(random_state=2023)\n",
      "              precision    recall  f1-score   support\n",
      "\n",
      "           0       0.64      0.98      0.78      1406\n",
      "           1       0.44      0.03      0.06       785\n",
      "\n",
      "    accuracy                           0.64      2191\n",
      "   macro avg       0.54      0.50      0.42      2191\n",
      "weighted avg       0.57      0.64      0.52      2191\n",
      "\n"
     ]
    },
    {
     "data": {
      "image/png": "[encoded data removed]",
      "text/plain": [
       "<Figure size 640x480 with 2 Axes>"
      ]
     },
     "metadata": {},
     "output_type": "display_data"
    }
   ],
   "source": [
    "param_grid = {\n",
    "    'n_estimators': [100, 200, 300],\n",
    "    'criterion': ['gini', 'entropy'],\n",
    "}\n",
    "\n",
    "scoring = 'recall'\n",
    "\n",
    "grid_searchRFC = GridSearchCV(rfc, param_grid, cv=3, refit=True, verbose=3, scoring=scoring)\n",
    "grid_searchRFC.fit(X_train, y_train)\n",
    "grid_predictionRFC = grid_searchRFC.predict(X_test)\n",
    "\n",
    "\n",
    "print(\"Best estimator: \", grid_searchRFC.best_estimator_)\n",
    "\n",
    "\n",
    "print(classification_report(y_test, grid_predictionRFC))\n",
    "ConfusionMatrixDisplay.from_predictions(y_test, grid_predictionRFC)\n",
    "plt.show()"
   ]
  },
  {
   "cell_type": "markdown",
   "metadata": {},
   "source": [
    "### Neural Network Models"
   ]
  },
  {
   "cell_type": "code",
   "execution_count": 228,
   "metadata": {},
   "outputs": [
    {
     "name": "stdout",
     "output_type": "stream",
     "text": [
      "              precision    recall  f1-score   support\n",
      "\n",
      "           0       0.64      0.71      0.67      1406\n",
      "           1       0.35      0.28      0.31       785\n",
      "\n",
      "    accuracy                           0.56      2191\n",
      "   macro avg       0.49      0.50      0.49      2191\n",
      "weighted avg       0.54      0.56      0.54      2191\n",
      "\n"
     ]
    },
    {
     "data": {
      "image/png": "[encoded data removed]",
      "text/plain": [
       "<Figure size 640x480 with 2 Axes>"
      ]
     },
     "metadata": {},
     "output_type": "display_data"
    }
   ],
   "source": [
    "from sklearn.neural_network import MLPClassifier\n",
    "\n",
    "# mlp = MLPClassifier(solver='adam', alpha=1e-4, hidden_layer_sizes=(50), max_iter=100000, random_state=2023)\n",
    "mlp = MLPClassifier(alpha=0.001, hidden_layer_sizes=(50, 50), learning_rate='invscaling', solver='sgd')\n",
    "\n",
    "mlp.fit(X_train, y_train)\n",
    "predictionMLP = mlp.predict(X_test)\n",
    "\n",
    "print(classification_report(y_test, predictionMLP))\n",
    "ConfusionMatrixDisplay.from_predictions(y_test, predictionMLP)\n",
    "plt.show()"
   ]
  },
  {
   "cell_type": "code",
   "execution_count": 229,
   "metadata": {},
   "outputs": [
    {
     "name": "stdout",
     "output_type": "stream",
     "text": [
      "Fitting 2 folds for each of 12 candidates, totalling 24 fits\n",
      "[CV 1/2] END activation=relu, alpha=0.005, hidden_layer_sizes=(30, 30), learning_rate=invscaling, max_iter=100000, random_state=2023, solver=sgd;, score=0.332 total time=   0.0s\n",
      "[CV 2/2] END activation=relu, alpha=0.005, hidden_layer_sizes=(30, 30), learning_rate=invscaling, max_iter=100000, random_state=2023, solver=sgd;, score=0.286 total time=   0.0s\n",
      "[CV 1/2] END activation=relu, alpha=0.005, hidden_layer_sizes=(50, 50), learning_rate=invscaling, max_iter=100000, random_state=2023, solver=sgd;, score=0.473 total time=   0.1s\n",
      "[CV 2/2] END activation=relu, alpha=0.005, hidden_layer_sizes=(50, 50), learning_rate=invscaling, max_iter=100000, random_state=2023, solver=sgd;, score=0.447 total time=   0.1s\n",
      "[CV 1/2] END activation=relu, alpha=0.005, hidden_layer_sizes=(25, 25, 25), learning_rate=invscaling, max_iter=100000, random_state=2023, solver=sgd;, score=0.009 total time=   0.0s\n",
      "[CV 2/2] END activation=relu, alpha=0.005, hidden_layer_sizes=(25, 25, 25), learning_rate=invscaling, max_iter=100000, random_state=2023, solver=sgd;, score=0.012 total time=   0.0s\n",
      "[CV 1/2] END activation=relu, alpha=0.001, hidden_layer_sizes=(30, 30), learning_rate=invscaling, max_iter=100000, random_state=2023, solver=sgd;, score=0.332 total time=   0.0s\n",
      "[CV 2/2] END activation=relu, alpha=0.001, hidden_layer_sizes=(30, 30), learning_rate=invscaling, max_iter=100000, random_state=2023, solver=sgd;, score=0.286 total time=   0.0s\n",
      "[CV 1/2] END activation=relu, alpha=0.001, hidden_layer_sizes=(50, 50), learning_rate=invscaling, max_iter=100000, random_state=2023, solver=sgd;, score=0.473 total time=   0.1s\n",
      "[CV 2/2] END activation=relu, alpha=0.001, hidden_layer_sizes=(50, 50), learning_rate=invscaling, max_iter=100000, random_state=2023, solver=sgd;, score=0.447 total time=   0.1s\n",
      "[CV 1/2] END activation=relu, alpha=0.001, hidden_layer_sizes=(25, 25, 25), learning_rate=invscaling, max_iter=100000, random_state=2023, solver=sgd;, score=0.009 total time=   0.0s\n",
      "[CV 2/2] END activation=relu, alpha=0.001, hidden_layer_sizes=(25, 25, 25), learning_rate=invscaling, max_iter=100000, random_state=2023, solver=sgd;, score=0.012 total time=   0.0s\n",
      "[CV 1/2] END activation=tanh, alpha=0.005, hidden_layer_sizes=(30, 30), learning_rate=invscaling, max_iter=100000, random_state=2023, solver=sgd;, score=0.487 total time=   0.0s\n",
      "[CV 2/2] END activation=tanh, alpha=0.005, hidden_layer_sizes=(30, 30), learning_rate=invscaling, max_iter=100000, random_state=2023, solver=sgd;, score=0.463 total time=   0.0s\n",
      "[CV 1/2] END activation=tanh, alpha=0.005, hidden_layer_sizes=(50, 50), learning_rate=invscaling, max_iter=100000, random_state=2023, solver=sgd;, score=0.351 total time=   0.0s\n",
      "[CV 2/2] END activation=tanh, alpha=0.005, hidden_layer_sizes=(50, 50), learning_rate=invscaling, max_iter=100000, random_state=2023, solver=sgd;, score=0.342 total time=   0.0s\n",
      "[CV 1/2] END activation=tanh, alpha=0.005, hidden_layer_sizes=(25, 25, 25), learning_rate=invscaling, max_iter=100000, random_state=2023, solver=sgd;, score=0.320 total time=   0.0s\n",
      "[CV 2/2] END activation=tanh, alpha=0.005, hidden_layer_sizes=(25, 25, 25), learning_rate=invscaling, max_iter=100000, random_state=2023, solver=sgd;, score=0.314 total time=   0.1s\n",
      "[CV 1/2] END activation=tanh, alpha=0.001, hidden_layer_sizes=(30, 30), learning_rate=invscaling, max_iter=100000, random_state=2023, solver=sgd;, score=0.487 total time=   0.0s\n",
      "[CV 2/2] END activation=tanh, alpha=0.001, hidden_layer_sizes=(30, 30), learning_rate=invscaling, max_iter=100000, random_state=2023, solver=sgd;, score=0.463 total time=   0.0s\n",
      "[CV 1/2] END activation=tanh, alpha=0.001, hidden_layer_sizes=(50, 50), learning_rate=invscaling, max_iter=100000, random_state=2023, solver=sgd;, score=0.351 total time=   0.0s\n",
      "[CV 2/2] END activation=tanh, alpha=0.001, hidden_layer_sizes=(50, 50), learning_rate=invscaling, max_iter=100000, random_state=2023, solver=sgd;, score=0.342 total time=   0.0s\n",
      "[CV 1/2] END activation=tanh, alpha=0.001, hidden_layer_sizes=(25, 25, 25), learning_rate=invscaling, max_iter=100000, random_state=2023, solver=sgd;, score=0.320 total time=   0.1s\n",
      "[CV 2/2] END activation=tanh, alpha=0.001, hidden_layer_sizes=(25, 25, 25), learning_rate=invscaling, max_iter=100000, random_state=2023, solver=sgd;, score=0.314 total time=   0.1s\n",
      "Best estimator:  MLPClassifier(activation='tanh', alpha=0.005, hidden_layer_sizes=(30, 30),\n",
      "              learning_rate='invscaling', max_iter=100000, random_state=2023,\n",
      "              solver='sgd')\n",
      "              precision    recall  f1-score   support\n",
      "\n",
      "           0       0.63      0.58      0.60      1406\n",
      "           1       0.34      0.38      0.36       785\n",
      "\n",
      "    accuracy                           0.51      2191\n",
      "   macro avg       0.48      0.48      0.48      2191\n",
      "weighted avg       0.52      0.51      0.52      2191\n",
      "\n"
     ]
    },
    {
     "data": {
      "image/png": "[encoded data removed]",
      "text/plain": [
       "<Figure size 640x480 with 2 Axes>"
      ]
     },
     "metadata": {},
     "output_type": "display_data"
    }
   ],
   "source": [
    "param_grid = {\n",
    "    'hidden_layer_sizes': [(30, 30), (50, 50), (25, 25, 25)],\n",
    "    'activation': ['relu', 'tanh'],\n",
    "    'solver': ['sgd'],\n",
    "    'alpha': [0.005, 0.001],\n",
    "    'learning_rate': ['invscaling'],\n",
    "    'max_iter': [100000],\n",
    "    'random_state': [2023]\n",
    "}\n",
    "\n",
    "scoring = 'recall'\n",
    "\n",
    "grid_searchMLP = GridSearchCV(mlp, param_grid, cv=2, refit=True, verbose=3, scoring=scoring)\n",
    "grid_searchMLP.fit(X_train, y_train)\n",
    "grid_predictionMLP = grid_searchMLP.predict(X_test)\n",
    "\n",
    "\n",
    "print(\"Best estimator: \", grid_searchMLP.best_estimator_)\n",
    "\n",
    "\n",
    "print(classification_report(y_test, grid_predictionMLP))\n",
    "ConfusionMatrixDisplay.from_predictions(y_test, grid_predictionMLP)\n",
    "plt.show()"
   ]
  },
  {
   "cell_type": "markdown",
   "metadata": {},
   "source": [
    "### Multilayer Perceptron"
   ]
  },
  {
   "cell_type": "code",
   "execution_count": 46,
   "metadata": {},
   "outputs": [],
   "source": [
    "import tensorflow as tf\n",
    "from tensorflow import keras\n",
    "from tensorflow.keras.models import Sequential\n",
    "from tensorflow.keras.layers import Dense#, Dropout, BatchNormalization\n",
    "from scikeras.wrappers import KerasRegressor#, KerasClassifier"
   ]
  },
  {
   "cell_type": "markdown",
   "metadata": {},
   "source": [
    "#### Build Model"
   ]
  },
  {
   "cell_type": "code",
   "execution_count": 47,
   "metadata": {},
   "outputs": [],
   "source": [
    "def build_model(activation = 'sigmoid', learning_rate = 0.001, input_dim=22): # To get input_dim: X.shape[1]\n",
    "    model = Sequential()\n",
    "    model.add(Dense(8, input_dim=input_dim, activation=activation))\n",
    "    model.add(Dense(4, activation=activation))\n",
    "    model.add(Dense(1, activation=activation)) #output\n",
    "\n",
    "    # Compile the model\n",
    "\n",
    "    model.compile(\n",
    "        loss = 'binary_crossentropy',\n",
    "        optimizer = tf.optimizers.Adam(learning_rate),\n",
    "        metrics = ['accuracy', tf.keras.metrics.Recall()]\n",
    "    )\n",
    "    return model"
   ]
  },
  {
   "cell_type": "code",
   "execution_count": 48,
   "metadata": {},
   "outputs": [
    {
     "name": "stdout",
     "output_type": "stream",
     "text": [
      "Model: \"sequential_16\"\n",
      "_________________________________________________________________\n",
      " Layer (type)                Output Shape              Param #   \n",
      "=================================================================\n",
      " dense_48 (Dense)            (None, 8)                 184       \n",
      "                                                                 \n",
      " dense_49 (Dense)            (None, 4)                 36        \n",
      "                                                                 \n",
      " dense_50 (Dense)            (None, 1)                 5         \n",
      "                                                                 \n",
      "=================================================================\n",
      "Total params: 225\n",
      "Trainable params: 225\n",
      "Non-trainable params: 0\n",
      "_________________________________________________________________\n"
     ]
    }
   ],
   "source": [
    "model = build_model()\n",
    "model.summary()"
   ]
  },
  {
   "cell_type": "markdown",
   "metadata": {},
   "source": [
    "#### Grid Search"
   ]
  },
  {
   "cell_type": "code",
   "execution_count": 74,
   "metadata": {},
   "outputs": [],
   "source": [
    "from sklearn.model_selection import KFold\n",
    "\n",
    "optimizer = ['SGD', 'RMSprop', 'Adagrad']\n",
    "param_grid = dict(optimizer = optimizer)\n",
    "\n",
    "kf = KFold(n_splits=5, shuffle=True, random_state=2021)\n",
    "\n",
    "model = KerasRegressor(model = build_model, batch_size=16, epochs=20, validation_split = 0.2)\n",
    "\n",
    "grid_search = GridSearchCV(estimator = model, param_grid = param_grid, cv = kf, scoring = 'neg_mean_absolute_error', verbose=1)"
   ]
  },
  {
   "cell_type": "markdown",
   "metadata": {},
   "source": [
    "Fit the Model"
   ]
  },
  {
   "cell_type": "code",
   "execution_count": 75,
   "metadata": {},
   "outputs": [
    {
     "name": "stdout",
     "output_type": "stream",
     "text": [
      "Fitting 5 folds for each of 3 candidates, totalling 15 fits\n",
      "Epoch 1/20\n",
      "263/263 [==============================] - 2s 6ms/step - loss: 0.6601 - accuracy: 0.6428 - recall_67: 0.0000e+00 - val_loss: 0.6597 - val_accuracy: 0.6274 - val_recall_67: 0.0000e+00\n",
      "Epoch 2/20\n",
      "263/263 [==============================] - 2s 6ms/step - loss: 0.6517 - accuracy: 0.6428 - recall_67: 0.0000e+00 - val_loss: 0.6602 - val_accuracy: 0.6274 - val_recall_67: 0.0000e+00\n",
      "Epoch 3/20\n",
      "263/263 [==============================] - 2s 7ms/step - loss: 0.6516 - accuracy: 0.6428 - recall_67: 0.0000e+00 - val_loss: 0.6598 - val_accuracy: 0.6274 - val_recall_67: 0.0000e+00\n",
      "Epoch 4/20\n",
      "263/263 [==============================] - 1s 4ms/step - loss: 0.6514 - accuracy: 0.6428 - recall_67: 0.0000e+00 - val_loss: 0.6596 - val_accuracy: 0.6274 - val_recall_67: 0.0000e+00\n",
      "Epoch 5/20\n",
      "263/263 [==============================] - 1s 4ms/step - loss: 0.6514 - accuracy: 0.6428 - recall_67: 0.0000e+00 - val_loss: 0.6595 - val_accuracy: 0.6274 - val_recall_67: 0.0000e+00\n",
      "Epoch 6/20\n",
      "263/263 [==============================] - 1s 4ms/step - loss: 0.6511 - accuracy: 0.6428 - recall_67: 0.0000e+00 - val_loss: 0.6598 - val_accuracy: 0.6274 - val_recall_67: 0.0000e+00\n",
      "Epoch 7/20\n",
      "263/263 [==============================] - 1s 5ms/step - loss: 0.6509 - accuracy: 0.6428 - recall_67: 0.0000e+00 - val_loss: 0.6595 - val_accuracy: 0.6274 - val_recall_67: 0.0000e+00\n",
      "Epoch 8/20\n",
      "263/263 [==============================] - 1s 4ms/step - loss: 0.6507 - accuracy: 0.6428 - recall_67: 0.0000e+00 - val_loss: 0.6593 - val_accuracy: 0.6274 - val_recall_67: 0.0000e+00\n",
      "Epoch 9/20\n",
      "263/263 [==============================] - 1s 4ms/step - loss: 0.6505 - accuracy: 0.6428 - recall_67: 0.0000e+00 - val_loss: 0.6594 - val_accuracy: 0.6274 - val_recall_67: 0.0000e+00\n",
      "Epoch 10/20\n",
      "263/263 [==============================] - 1s 5ms/step - loss: 0.6502 - accuracy: 0.6428 - recall_67: 0.0000e+00 - val_loss: 0.6592 - val_accuracy: 0.6274 - val_recall_67: 0.0000e+00\n",
      "Epoch 11/20\n",
      "263/263 [==============================] - 2s 6ms/step - loss: 0.6501 - accuracy: 0.6428 - recall_67: 0.0000e+00 - val_loss: 0.6592 - val_accuracy: 0.6274 - val_recall_67: 0.0000e+00\n",
      "Epoch 12/20\n",
      "263/263 [==============================] - 1s 4ms/step - loss: 0.6499 - accuracy: 0.6428 - recall_67: 0.0000e+00 - val_loss: 0.6588 - val_accuracy: 0.6274 - val_recall_67: 0.0000e+00\n",
      "Epoch 13/20\n",
      "263/263 [==============================] - 1s 4ms/step - loss: 0.6497 - accuracy: 0.6428 - recall_67: 0.0000e+00 - val_loss: 0.6589 - val_accuracy: 0.6274 - val_recall_67: 0.0000e+00\n",
      "Epoch 14/20\n",
      "263/263 [==============================] - 1s 4ms/step - loss: 0.6496 - accuracy: 0.6428 - recall_67: 0.0000e+00 - val_loss: 0.6589 - val_accuracy: 0.6274 - val_recall_67: 0.0000e+00\n",
      "Epoch 15/20\n",
      "263/263 [==============================] - 2s 6ms/step - loss: 0.6493 - accuracy: 0.6428 - recall_67: 0.0000e+00 - val_loss: 0.6594 - val_accuracy: 0.6274 - val_recall_67: 0.0000e+00\n",
      "Epoch 16/20\n",
      "263/263 [==============================] - 1s 5ms/step - loss: 0.6492 - accuracy: 0.6428 - recall_67: 0.0000e+00 - val_loss: 0.6587 - val_accuracy: 0.6274 - val_recall_67: 0.0000e+00\n",
      "Epoch 17/20\n",
      "263/263 [==============================] - 1s 5ms/step - loss: 0.6490 - accuracy: 0.6428 - recall_67: 0.0000e+00 - val_loss: 0.6587 - val_accuracy: 0.6274 - val_recall_67: 0.0000e+00\n",
      "Epoch 18/20\n",
      "263/263 [==============================] - 1s 6ms/step - loss: 0.6490 - accuracy: 0.6428 - recall_67: 0.0000e+00 - val_loss: 0.6586 - val_accuracy: 0.6274 - val_recall_67: 0.0000e+00\n",
      "Epoch 19/20\n",
      "263/263 [==============================] - 1s 4ms/step - loss: 0.6490 - accuracy: 0.6428 - recall_67: 0.0000e+00 - val_loss: 0.6590 - val_accuracy: 0.6274 - val_recall_67: 0.0000e+00\n",
      "Epoch 20/20\n",
      "263/263 [==============================] - 1s 5ms/step - loss: 0.6487 - accuracy: 0.6428 - recall_67: 0.0000e+00 - val_loss: 0.6588 - val_accuracy: 0.6274 - val_recall_67: 0.0000e+00\n",
      "83/83 [==============================] - 0s 3ms/step\n",
      "Epoch 1/20\n",
      "263/263 [==============================] - 2s 6ms/step - loss: 0.6514 - accuracy: 0.6447 - recall_68: 0.0000e+00 - val_loss: 0.6608 - val_accuracy: 0.6283 - val_recall_68: 0.0000e+00\n",
      "Epoch 2/20\n",
      "263/263 [==============================] - 1s 5ms/step - loss: 0.6509 - accuracy: 0.6447 - recall_68: 0.0000e+00 - val_loss: 0.6614 - val_accuracy: 0.6283 - val_recall_68: 0.0000e+00\n",
      "Epoch 3/20\n",
      "263/263 [==============================] - 1s 5ms/step - loss: 0.6506 - accuracy: 0.6447 - recall_68: 0.0000e+00 - val_loss: 0.6613 - val_accuracy: 0.6283 - val_recall_68: 0.0000e+00\n",
      "Epoch 4/20\n",
      "263/263 [==============================] - 2s 6ms/step - loss: 0.6500 - accuracy: 0.6447 - recall_68: 0.0000e+00 - val_loss: 0.6606 - val_accuracy: 0.6283 - val_recall_68: 0.0000e+00\n",
      "Epoch 5/20\n",
      "263/263 [==============================] - 1s 5ms/step - loss: 0.6499 - accuracy: 0.6447 - recall_68: 0.0000e+00 - val_loss: 0.6613 - val_accuracy: 0.6283 - val_recall_68: 0.0000e+00\n",
      "Epoch 6/20\n",
      "263/263 [==============================] - 1s 5ms/step - loss: 0.6495 - accuracy: 0.6447 - recall_68: 0.0000e+00 - val_loss: 0.6609 - val_accuracy: 0.6283 - val_recall_68: 0.0000e+00\n",
      "Epoch 7/20\n",
      "263/263 [==============================] - 1s 5ms/step - loss: 0.6492 - accuracy: 0.6447 - recall_68: 0.0000e+00 - val_loss: 0.6612 - val_accuracy: 0.6283 - val_recall_68: 0.0000e+00\n",
      "Epoch 8/20\n",
      "263/263 [==============================] - 1s 4ms/step - loss: 0.6489 - accuracy: 0.6447 - recall_68: 0.0000e+00 - val_loss: 0.6621 - val_accuracy: 0.6283 - val_recall_68: 0.0000e+00\n",
      "Epoch 9/20\n",
      "263/263 [==============================] - 2s 6ms/step - loss: 0.6488 - accuracy: 0.6447 - recall_68: 0.0000e+00 - val_loss: 0.6625 - val_accuracy: 0.6283 - val_recall_68: 0.0000e+00\n",
      "Epoch 10/20\n",
      "263/263 [==============================] - 1s 4ms/step - loss: 0.6487 - accuracy: 0.6447 - recall_68: 0.0000e+00 - val_loss: 0.6618 - val_accuracy: 0.6283 - val_recall_68: 0.0000e+00\n",
      "Epoch 11/20\n",
      "263/263 [==============================] - 1s 5ms/step - loss: 0.6484 - accuracy: 0.6447 - recall_68: 0.0000e+00 - val_loss: 0.6618 - val_accuracy: 0.6283 - val_recall_68: 0.0000e+00\n",
      "Epoch 12/20\n",
      "263/263 [==============================] - 1s 5ms/step - loss: 0.6483 - accuracy: 0.6447 - recall_68: 0.0000e+00 - val_loss: 0.6619 - val_accuracy: 0.6283 - val_recall_68: 0.0000e+00\n",
      "Epoch 13/20\n",
      "263/263 [==============================] - 1s 5ms/step - loss: 0.6481 - accuracy: 0.6447 - recall_68: 0.0000e+00 - val_loss: 0.6617 - val_accuracy: 0.6283 - val_recall_68: 0.0000e+00\n",
      "Epoch 14/20\n",
      "263/263 [==============================] - 1s 5ms/step - loss: 0.6481 - accuracy: 0.6447 - recall_68: 0.0000e+00 - val_loss: 0.6624 - val_accuracy: 0.6283 - val_recall_68: 0.0000e+00\n",
      "Epoch 15/20\n",
      "263/263 [==============================] - 1s 5ms/step - loss: 0.6479 - accuracy: 0.6447 - recall_68: 0.0000e+00 - val_loss: 0.6620 - val_accuracy: 0.6283 - val_recall_68: 0.0000e+00\n",
      "Epoch 16/20\n",
      "263/263 [==============================] - 2s 6ms/step - loss: 0.6478 - accuracy: 0.6447 - recall_68: 0.0000e+00 - val_loss: 0.6620 - val_accuracy: 0.6283 - val_recall_68: 0.0000e+00\n",
      "Epoch 17/20\n",
      "263/263 [==============================] - 2s 6ms/step - loss: 0.6477 - accuracy: 0.6447 - recall_68: 0.0000e+00 - val_loss: 0.6626 - val_accuracy: 0.6283 - val_recall_68: 0.0000e+00\n",
      "Epoch 18/20\n",
      "263/263 [==============================] - 1s 5ms/step - loss: 0.6475 - accuracy: 0.6447 - recall_68: 0.0000e+00 - val_loss: 0.6623 - val_accuracy: 0.6283 - val_recall_68: 0.0000e+00\n",
      "Epoch 19/20\n",
      "263/263 [==============================] - 2s 6ms/step - loss: 0.6474 - accuracy: 0.6447 - recall_68: 0.0000e+00 - val_loss: 0.6627 - val_accuracy: 0.6283 - val_recall_68: 0.0000e+00\n",
      "Epoch 20/20\n",
      "263/263 [==============================] - 1s 5ms/step - loss: 0.6474 - accuracy: 0.6447 - recall_68: 0.0000e+00 - val_loss: 0.6628 - val_accuracy: 0.6283 - val_recall_68: 0.0000e+00\n",
      "83/83 [==============================] - 0s 2ms/step\n",
      "Epoch 1/20\n",
      "263/263 [==============================] - 2s 6ms/step - loss: 0.6746 - accuracy: 0.5808 - recall_69: 0.2224 - val_loss: 0.6572 - val_accuracy: 0.6340 - val_recall_69: 0.0000e+00\n",
      "Epoch 2/20\n",
      "263/263 [==============================] - 1s 5ms/step - loss: 0.6483 - accuracy: 0.6505 - recall_69: 0.0000e+00 - val_loss: 0.6574 - val_accuracy: 0.6340 - val_recall_69: 0.0000e+00\n",
      "Epoch 3/20\n",
      "263/263 [==============================] - 1s 5ms/step - loss: 0.6476 - accuracy: 0.6505 - recall_69: 0.0000e+00 - val_loss: 0.6574 - val_accuracy: 0.6340 - val_recall_69: 0.0000e+00\n",
      "Epoch 4/20\n",
      "263/263 [==============================] - 1s 5ms/step - loss: 0.6472 - accuracy: 0.6505 - recall_69: 0.0000e+00 - val_loss: 0.6572 - val_accuracy: 0.6340 - val_recall_69: 0.0000e+00\n",
      "Epoch 5/20\n",
      "263/263 [==============================] - 1s 4ms/step - loss: 0.6469 - accuracy: 0.6505 - recall_69: 0.0000e+00 - val_loss: 0.6572 - val_accuracy: 0.6340 - val_recall_69: 0.0000e+00\n",
      "Epoch 6/20\n",
      "263/263 [==============================] - 1s 5ms/step - loss: 0.6465 - accuracy: 0.6505 - recall_69: 0.0000e+00 - val_loss: 0.6574 - val_accuracy: 0.6340 - val_recall_69: 0.0000e+00\n",
      "Epoch 7/20\n",
      "263/263 [==============================] - 1s 5ms/step - loss: 0.6463 - accuracy: 0.6505 - recall_69: 0.0000e+00 - val_loss: 0.6571 - val_accuracy: 0.6340 - val_recall_69: 0.0000e+00\n",
      "Epoch 8/20\n",
      "263/263 [==============================] - 1s 6ms/step - loss: 0.6461 - accuracy: 0.6505 - recall_69: 0.0000e+00 - val_loss: 0.6573 - val_accuracy: 0.6340 - val_recall_69: 0.0000e+00\n",
      "Epoch 9/20\n",
      "263/263 [==============================] - 1s 6ms/step - loss: 0.6459 - accuracy: 0.6505 - recall_69: 0.0000e+00 - val_loss: 0.6571 - val_accuracy: 0.6340 - val_recall_69: 0.0000e+00\n",
      "Epoch 10/20\n",
      "263/263 [==============================] - 1s 5ms/step - loss: 0.6458 - accuracy: 0.6505 - recall_69: 0.0000e+00 - val_loss: 0.6572 - val_accuracy: 0.6340 - val_recall_69: 0.0000e+00\n",
      "Epoch 11/20\n",
      "263/263 [==============================] - 2s 6ms/step - loss: 0.6454 - accuracy: 0.6505 - recall_69: 0.0000e+00 - val_loss: 0.6578 - val_accuracy: 0.6340 - val_recall_69: 0.0000e+00\n",
      "Epoch 12/20\n",
      "263/263 [==============================] - 1s 5ms/step - loss: 0.6454 - accuracy: 0.6505 - recall_69: 0.0000e+00 - val_loss: 0.6575 - val_accuracy: 0.6340 - val_recall_69: 0.0000e+00\n",
      "Epoch 13/20\n",
      "263/263 [==============================] - 2s 6ms/step - loss: 0.6453 - accuracy: 0.6505 - recall_69: 0.0000e+00 - val_loss: 0.6577 - val_accuracy: 0.6340 - val_recall_69: 0.0000e+00\n",
      "Epoch 14/20\n",
      "263/263 [==============================] - 1s 5ms/step - loss: 0.6452 - accuracy: 0.6505 - recall_69: 0.0000e+00 - val_loss: 0.6577 - val_accuracy: 0.6340 - val_recall_69: 0.0000e+00\n",
      "Epoch 15/20\n",
      "263/263 [==============================] - 1s 5ms/step - loss: 0.6450 - accuracy: 0.6505 - recall_69: 0.0000e+00 - val_loss: 0.6578 - val_accuracy: 0.6340 - val_recall_69: 0.0000e+00\n",
      "Epoch 16/20\n",
      "263/263 [==============================] - 2s 6ms/step - loss: 0.6449 - accuracy: 0.6505 - recall_69: 0.0000e+00 - val_loss: 0.6580 - val_accuracy: 0.6340 - val_recall_69: 0.0000e+00\n",
      "Epoch 17/20\n",
      "263/263 [==============================] - 2s 6ms/step - loss: 0.6448 - accuracy: 0.6505 - recall_69: 0.0000e+00 - val_loss: 0.6581 - val_accuracy: 0.6340 - val_recall_69: 0.0000e+00\n",
      "Epoch 18/20\n",
      "263/263 [==============================] - 1s 5ms/step - loss: 0.6447 - accuracy: 0.6505 - recall_69: 0.0000e+00 - val_loss: 0.6587 - val_accuracy: 0.6340 - val_recall_69: 0.0000e+00\n",
      "Epoch 19/20\n",
      "263/263 [==============================] - 2s 7ms/step - loss: 0.6446 - accuracy: 0.6505 - recall_69: 0.0000e+00 - val_loss: 0.6584 - val_accuracy: 0.6340 - val_recall_69: 0.0000e+00\n",
      "Epoch 20/20\n",
      "263/263 [==============================] - 1s 5ms/step - loss: 0.6447 - accuracy: 0.6505 - recall_69: 0.0000e+00 - val_loss: 0.6583 - val_accuracy: 0.6340 - val_recall_69: 0.0000e+00\n",
      "83/83 [==============================] - 0s 3ms/step\n",
      "Epoch 1/20\n",
      "263/263 [==============================] - 2s 6ms/step - loss: 0.6702 - accuracy: 0.6029 - recall_70: 0.1699 - val_loss: 0.6564 - val_accuracy: 0.6340 - val_recall_70: 0.0000e+00\n",
      "Epoch 2/20\n",
      "263/263 [==============================] - 1s 5ms/step - loss: 0.6528 - accuracy: 0.6417 - recall_70: 0.0000e+00 - val_loss: 0.6557 - val_accuracy: 0.6340 - val_recall_70: 0.0000e+00\n",
      "Epoch 3/20\n",
      "263/263 [==============================] - 1s 6ms/step - loss: 0.6521 - accuracy: 0.6417 - recall_70: 0.0000e+00 - val_loss: 0.6559 - val_accuracy: 0.6340 - val_recall_70: 0.0000e+00\n",
      "Epoch 4/20\n",
      "263/263 [==============================] - 1s 5ms/step - loss: 0.6520 - accuracy: 0.6417 - recall_70: 0.0000e+00 - val_loss: 0.6556 - val_accuracy: 0.6340 - val_recall_70: 0.0000e+00\n",
      "Epoch 5/20\n",
      "263/263 [==============================] - 1s 5ms/step - loss: 0.6518 - accuracy: 0.6417 - recall_70: 0.0000e+00 - val_loss: 0.6557 - val_accuracy: 0.6340 - val_recall_70: 0.0000e+00\n",
      "Epoch 6/20\n",
      "263/263 [==============================] - 1s 4ms/step - loss: 0.6515 - accuracy: 0.6417 - recall_70: 0.0000e+00 - val_loss: 0.6554 - val_accuracy: 0.6340 - val_recall_70: 0.0000e+00\n",
      "Epoch 7/20\n",
      "263/263 [==============================] - 1s 5ms/step - loss: 0.6514 - accuracy: 0.6417 - recall_70: 0.0000e+00 - val_loss: 0.6556 - val_accuracy: 0.6340 - val_recall_70: 0.0000e+00\n",
      "Epoch 8/20\n",
      "263/263 [==============================] - 1s 5ms/step - loss: 0.6513 - accuracy: 0.6417 - recall_70: 0.0000e+00 - val_loss: 0.6554 - val_accuracy: 0.6340 - val_recall_70: 0.0000e+00\n",
      "Epoch 9/20\n",
      "263/263 [==============================] - 1s 5ms/step - loss: 0.6510 - accuracy: 0.6417 - recall_70: 0.0000e+00 - val_loss: 0.6553 - val_accuracy: 0.6340 - val_recall_70: 0.0000e+00\n",
      "Epoch 10/20\n",
      "263/263 [==============================] - 1s 5ms/step - loss: 0.6511 - accuracy: 0.6417 - recall_70: 0.0000e+00 - val_loss: 0.6555 - val_accuracy: 0.6340 - val_recall_70: 0.0000e+00\n",
      "Epoch 11/20\n",
      "263/263 [==============================] - 2s 6ms/step - loss: 0.6509 - accuracy: 0.6417 - recall_70: 0.0000e+00 - val_loss: 0.6555 - val_accuracy: 0.6340 - val_recall_70: 0.0000e+00\n",
      "Epoch 12/20\n",
      "263/263 [==============================] - 2s 6ms/step - loss: 0.6508 - accuracy: 0.6417 - recall_70: 0.0000e+00 - val_loss: 0.6555 - val_accuracy: 0.6340 - val_recall_70: 0.0000e+00\n",
      "Epoch 13/20\n",
      "263/263 [==============================] - 1s 5ms/step - loss: 0.6507 - accuracy: 0.6417 - recall_70: 0.0000e+00 - val_loss: 0.6552 - val_accuracy: 0.6340 - val_recall_70: 0.0000e+00\n",
      "Epoch 14/20\n",
      "263/263 [==============================] - 1s 5ms/step - loss: 0.6506 - accuracy: 0.6417 - recall_70: 0.0000e+00 - val_loss: 0.6553 - val_accuracy: 0.6340 - val_recall_70: 0.0000e+00\n",
      "Epoch 15/20\n",
      "263/263 [==============================] - 1s 5ms/step - loss: 0.6505 - accuracy: 0.6417 - recall_70: 0.0000e+00 - val_loss: 0.6553 - val_accuracy: 0.6340 - val_recall_70: 0.0000e+00\n",
      "Epoch 16/20\n",
      "263/263 [==============================] - 1s 5ms/step - loss: 0.6506 - accuracy: 0.6417 - recall_70: 0.0000e+00 - val_loss: 0.6552 - val_accuracy: 0.6340 - val_recall_70: 0.0000e+00\n",
      "Epoch 17/20\n",
      "263/263 [==============================] - 2s 6ms/step - loss: 0.6504 - accuracy: 0.6417 - recall_70: 0.0000e+00 - val_loss: 0.6552 - val_accuracy: 0.6340 - val_recall_70: 0.0000e+00\n",
      "Epoch 18/20\n",
      "263/263 [==============================] - 1s 5ms/step - loss: 0.6504 - accuracy: 0.6417 - recall_70: 0.0000e+00 - val_loss: 0.6553 - val_accuracy: 0.6340 - val_recall_70: 0.0000e+00\n",
      "Epoch 19/20\n",
      "263/263 [==============================] - 1s 5ms/step - loss: 0.6503 - accuracy: 0.6417 - recall_70: 0.0000e+00 - val_loss: 0.6553 - val_accuracy: 0.6340 - val_recall_70: 0.0000e+00\n",
      "Epoch 20/20\n",
      "263/263 [==============================] - 1s 5ms/step - loss: 0.6502 - accuracy: 0.6417 - recall_70: 0.0000e+00 - val_loss: 0.6554 - val_accuracy: 0.6340 - val_recall_70: 0.0000e+00\n",
      "83/83 [==============================] - 0s 4ms/step\n",
      "Epoch 1/20\n",
      "263/263 [==============================] - 2s 4ms/step - loss: 0.9121 - accuracy: 0.3578 - recall_71: 1.0000 - val_loss: 0.7646 - val_accuracy: 0.3660 - val_recall_71: 1.0000\n",
      "Epoch 2/20\n",
      "263/263 [==============================] - 1s 5ms/step - loss: 0.7177 - accuracy: 0.4106 - recall_71: 0.8565 - val_loss: 0.6881 - val_accuracy: 0.5770 - val_recall_71: 0.2026\n",
      "Epoch 3/20\n",
      "263/263 [==============================] - 1s 5ms/step - loss: 0.6740 - accuracy: 0.6339 - recall_71: 0.0306 - val_loss: 0.6675 - val_accuracy: 0.6340 - val_recall_71: 0.0000e+00\n",
      "Epoch 4/20\n",
      "263/263 [==============================] - 1s 5ms/step - loss: 0.6601 - accuracy: 0.6422 - recall_71: 0.0000e+00 - val_loss: 0.6605 - val_accuracy: 0.6340 - val_recall_71: 0.0000e+00\n",
      "Epoch 5/20\n",
      "263/263 [==============================] - 1s 5ms/step - loss: 0.6547 - accuracy: 0.6422 - recall_71: 0.0000e+00 - val_loss: 0.6580 - val_accuracy: 0.6340 - val_recall_71: 0.0000e+00\n",
      "Epoch 6/20\n",
      "263/263 [==============================] - 1s 5ms/step - loss: 0.6526 - accuracy: 0.6422 - recall_71: 0.0000e+00 - val_loss: 0.6572 - val_accuracy: 0.6340 - val_recall_71: 0.0000e+00\n",
      "Epoch 7/20\n",
      "263/263 [==============================] - 1s 4ms/step - loss: 0.6519 - accuracy: 0.6422 - recall_71: 0.0000e+00 - val_loss: 0.6570 - val_accuracy: 0.6340 - val_recall_71: 0.0000e+00\n",
      "Epoch 8/20\n",
      "263/263 [==============================] - 1s 4ms/step - loss: 0.6515 - accuracy: 0.6422 - recall_71: 0.0000e+00 - val_loss: 0.6570 - val_accuracy: 0.6340 - val_recall_71: 0.0000e+00\n",
      "Epoch 9/20\n",
      "263/263 [==============================] - 1s 6ms/step - loss: 0.6513 - accuracy: 0.6422 - recall_71: 0.0000e+00 - val_loss: 0.6571 - val_accuracy: 0.6340 - val_recall_71: 0.0000e+00\n",
      "Epoch 10/20\n",
      "263/263 [==============================] - 1s 4ms/step - loss: 0.6512 - accuracy: 0.6422 - recall_71: 0.0000e+00 - val_loss: 0.6571 - val_accuracy: 0.6340 - val_recall_71: 0.0000e+00\n",
      "Epoch 11/20\n",
      "263/263 [==============================] - 1s 4ms/step - loss: 0.6511 - accuracy: 0.6422 - recall_71: 0.0000e+00 - val_loss: 0.6572 - val_accuracy: 0.6340 - val_recall_71: 0.0000e+00\n",
      "Epoch 12/20\n",
      "263/263 [==============================] - 1s 4ms/step - loss: 0.6509 - accuracy: 0.6422 - recall_71: 0.0000e+00 - val_loss: 0.6573 - val_accuracy: 0.6340 - val_recall_71: 0.0000e+00\n",
      "Epoch 13/20\n",
      "263/263 [==============================] - 1s 4ms/step - loss: 0.6508 - accuracy: 0.6422 - recall_71: 0.0000e+00 - val_loss: 0.6574 - val_accuracy: 0.6340 - val_recall_71: 0.0000e+00\n",
      "Epoch 14/20\n",
      "263/263 [==============================] - 1s 5ms/step - loss: 0.6507 - accuracy: 0.6422 - recall_71: 0.0000e+00 - val_loss: 0.6575 - val_accuracy: 0.6340 - val_recall_71: 0.0000e+00\n",
      "Epoch 15/20\n",
      "263/263 [==============================] - 1s 4ms/step - loss: 0.6505 - accuracy: 0.6422 - recall_71: 0.0000e+00 - val_loss: 0.6576 - val_accuracy: 0.6340 - val_recall_71: 0.0000e+00\n",
      "Epoch 16/20\n",
      "263/263 [==============================] - 1s 5ms/step - loss: 0.6504 - accuracy: 0.6422 - recall_71: 0.0000e+00 - val_loss: 0.6578 - val_accuracy: 0.6340 - val_recall_71: 0.0000e+00\n",
      "Epoch 17/20\n",
      "263/263 [==============================] - 1s 5ms/step - loss: 0.6503 - accuracy: 0.6422 - recall_71: 0.0000e+00 - val_loss: 0.6578 - val_accuracy: 0.6340 - val_recall_71: 0.0000e+00\n",
      "Epoch 18/20\n",
      "263/263 [==============================] - 1s 4ms/step - loss: 0.6502 - accuracy: 0.6422 - recall_71: 0.0000e+00 - val_loss: 0.6580 - val_accuracy: 0.6340 - val_recall_71: 0.0000e+00\n",
      "Epoch 19/20\n",
      "263/263 [==============================] - 1s 5ms/step - loss: 0.6501 - accuracy: 0.6422 - recall_71: 0.0000e+00 - val_loss: 0.6581 - val_accuracy: 0.6340 - val_recall_71: 0.0000e+00\n",
      "Epoch 20/20\n",
      "263/263 [==============================] - 2s 6ms/step - loss: 0.6499 - accuracy: 0.6422 - recall_71: 0.0000e+00 - val_loss: 0.6582 - val_accuracy: 0.6340 - val_recall_71: 0.0000e+00\n",
      "83/83 [==============================] - 0s 4ms/step\n",
      "Epoch 1/20\n",
      "263/263 [==============================] - 2s 6ms/step - loss: 0.6606 - accuracy: 0.6378 - recall_72: 0.0233 - val_loss: 0.6605 - val_accuracy: 0.6274 - val_recall_72: 0.0000e+00\n",
      "Epoch 2/20\n",
      "263/263 [==============================] - 1s 5ms/step - loss: 0.6517 - accuracy: 0.6428 - recall_72: 0.0000e+00 - val_loss: 0.6605 - val_accuracy: 0.6274 - val_recall_72: 0.0000e+00\n",
      "Epoch 3/20\n",
      "263/263 [==============================] - 1s 5ms/step - loss: 0.6512 - accuracy: 0.6428 - recall_72: 0.0000e+00 - val_loss: 0.6604 - val_accuracy: 0.6274 - val_recall_72: 0.0000e+00\n",
      "Epoch 4/20\n",
      "263/263 [==============================] - 2s 6ms/step - loss: 0.6508 - accuracy: 0.6428 - recall_72: 0.0000e+00 - val_loss: 0.6606 - val_accuracy: 0.6274 - val_recall_72: 0.0000e+00\n",
      "Epoch 5/20\n",
      "263/263 [==============================] - 1s 5ms/step - loss: 0.6506 - accuracy: 0.6428 - recall_72: 0.0000e+00 - val_loss: 0.6602 - val_accuracy: 0.6274 - val_recall_72: 0.0000e+00\n",
      "Epoch 6/20\n",
      "263/263 [==============================] - 1s 5ms/step - loss: 0.6501 - accuracy: 0.6428 - recall_72: 0.0000e+00 - val_loss: 0.6606 - val_accuracy: 0.6274 - val_recall_72: 0.0000e+00\n",
      "Epoch 7/20\n",
      "263/263 [==============================] - 1s 5ms/step - loss: 0.6501 - accuracy: 0.6428 - recall_72: 0.0000e+00 - val_loss: 0.6600 - val_accuracy: 0.6274 - val_recall_72: 0.0000e+00\n",
      "Epoch 8/20\n",
      "263/263 [==============================] - 2s 7ms/step - loss: 0.6500 - accuracy: 0.6428 - recall_72: 0.0000e+00 - val_loss: 0.6596 - val_accuracy: 0.6274 - val_recall_72: 0.0000e+00\n",
      "Epoch 9/20\n",
      "263/263 [==============================] - 1s 5ms/step - loss: 0.6496 - accuracy: 0.6428 - recall_72: 0.0000e+00 - val_loss: 0.6591 - val_accuracy: 0.6274 - val_recall_72: 0.0000e+00\n",
      "Epoch 10/20\n",
      "263/263 [==============================] - 1s 6ms/step - loss: 0.6494 - accuracy: 0.6428 - recall_72: 0.0000e+00 - val_loss: 0.6594 - val_accuracy: 0.6274 - val_recall_72: 0.0000e+00\n",
      "Epoch 11/20\n",
      "263/263 [==============================] - 2s 6ms/step - loss: 0.6492 - accuracy: 0.6428 - recall_72: 0.0000e+00 - val_loss: 0.6588 - val_accuracy: 0.6274 - val_recall_72: 0.0000e+00\n",
      "Epoch 12/20\n",
      "263/263 [==============================] - 2s 8ms/step - loss: 0.6492 - accuracy: 0.6428 - recall_72: 0.0000e+00 - val_loss: 0.6598 - val_accuracy: 0.6274 - val_recall_72: 0.0000e+00\n",
      "Epoch 13/20\n",
      "263/263 [==============================] - 1s 5ms/step - loss: 0.6491 - accuracy: 0.6428 - recall_72: 0.0000e+00 - val_loss: 0.6593 - val_accuracy: 0.6274 - val_recall_72: 0.0000e+00\n",
      "Epoch 14/20\n",
      "263/263 [==============================] - 2s 7ms/step - loss: 0.6491 - accuracy: 0.6428 - recall_72: 0.0000e+00 - val_loss: 0.6592 - val_accuracy: 0.6274 - val_recall_72: 0.0000e+00\n",
      "Epoch 15/20\n",
      "263/263 [==============================] - 2s 7ms/step - loss: 0.6491 - accuracy: 0.6428 - recall_72: 0.0000e+00 - val_loss: 0.6591 - val_accuracy: 0.6274 - val_recall_72: 0.0000e+00\n",
      "Epoch 16/20\n",
      "263/263 [==============================] - 2s 6ms/step - loss: 0.6488 - accuracy: 0.6428 - recall_72: 0.0000e+00 - val_loss: 0.6588 - val_accuracy: 0.6274 - val_recall_72: 0.0000e+00\n",
      "Epoch 17/20\n",
      "263/263 [==============================] - 2s 6ms/step - loss: 0.6487 - accuracy: 0.6428 - recall_72: 0.0000e+00 - val_loss: 0.6594 - val_accuracy: 0.6274 - val_recall_72: 0.0000e+00\n",
      "Epoch 18/20\n",
      "263/263 [==============================] - 2s 6ms/step - loss: 0.6486 - accuracy: 0.6428 - recall_72: 0.0000e+00 - val_loss: 0.6588 - val_accuracy: 0.6274 - val_recall_72: 0.0000e+00\n",
      "Epoch 19/20\n",
      "263/263 [==============================] - 2s 6ms/step - loss: 0.6485 - accuracy: 0.6428 - recall_72: 0.0000e+00 - val_loss: 0.6593 - val_accuracy: 0.6274 - val_recall_72: 0.0000e+00\n",
      "Epoch 20/20\n",
      "263/263 [==============================] - 1s 5ms/step - loss: 0.6482 - accuracy: 0.6428 - recall_72: 0.0000e+00 - val_loss: 0.6587 - val_accuracy: 0.6274 - val_recall_72: 0.0000e+00\n",
      "83/83 [==============================] - 1s 5ms/step\n",
      "Epoch 1/20\n",
      "263/263 [==============================] - 3s 7ms/step - loss: 0.6524 - accuracy: 0.6447 - recall_73: 0.0000e+00 - val_loss: 0.6606 - val_accuracy: 0.6283 - val_recall_73: 0.0000e+00\n",
      "Epoch 2/20\n",
      "263/263 [==============================] - 2s 7ms/step - loss: 0.6507 - accuracy: 0.6447 - recall_73: 0.0000e+00 - val_loss: 0.6605 - val_accuracy: 0.6283 - val_recall_73: 0.0000e+00\n",
      "Epoch 3/20\n",
      "263/263 [==============================] - 2s 7ms/step - loss: 0.6503 - accuracy: 0.6447 - recall_73: 0.0000e+00 - val_loss: 0.6608 - val_accuracy: 0.6283 - val_recall_73: 0.0000e+00\n",
      "Epoch 4/20\n",
      "263/263 [==============================] - 2s 6ms/step - loss: 0.6498 - accuracy: 0.6447 - recall_73: 0.0000e+00 - val_loss: 0.6609 - val_accuracy: 0.6283 - val_recall_73: 0.0000e+00\n",
      "Epoch 5/20\n",
      "263/263 [==============================] - 1s 5ms/step - loss: 0.6494 - accuracy: 0.6447 - recall_73: 0.0000e+00 - val_loss: 0.6615 - val_accuracy: 0.6283 - val_recall_73: 0.0000e+00\n",
      "Epoch 6/20\n",
      "263/263 [==============================] - 1s 5ms/step - loss: 0.6491 - accuracy: 0.6447 - recall_73: 0.0000e+00 - val_loss: 0.6615 - val_accuracy: 0.6283 - val_recall_73: 0.0000e+00\n",
      "Epoch 7/20\n",
      "263/263 [==============================] - 2s 7ms/step - loss: 0.6489 - accuracy: 0.6447 - recall_73: 0.0000e+00 - val_loss: 0.6617 - val_accuracy: 0.6283 - val_recall_73: 0.0000e+00\n",
      "Epoch 8/20\n",
      "263/263 [==============================] - 1s 5ms/step - loss: 0.6486 - accuracy: 0.6447 - recall_73: 0.0000e+00 - val_loss: 0.6618 - val_accuracy: 0.6283 - val_recall_73: 0.0000e+00\n",
      "Epoch 9/20\n",
      "263/263 [==============================] - 1s 5ms/step - loss: 0.6484 - accuracy: 0.6447 - recall_73: 0.0000e+00 - val_loss: 0.6626 - val_accuracy: 0.6283 - val_recall_73: 0.0000e+00\n",
      "Epoch 10/20\n",
      "263/263 [==============================] - 1s 5ms/step - loss: 0.6485 - accuracy: 0.6447 - recall_73: 0.0000e+00 - val_loss: 0.6625 - val_accuracy: 0.6283 - val_recall_73: 0.0000e+00\n",
      "Epoch 11/20\n",
      "263/263 [==============================] - 2s 6ms/step - loss: 0.6481 - accuracy: 0.6447 - recall_73: 0.0000e+00 - val_loss: 0.6620 - val_accuracy: 0.6283 - val_recall_73: 0.0000e+00\n",
      "Epoch 12/20\n",
      "263/263 [==============================] - 2s 7ms/step - loss: 0.6481 - accuracy: 0.6447 - recall_73: 0.0000e+00 - val_loss: 0.6620 - val_accuracy: 0.6283 - val_recall_73: 0.0000e+00\n",
      "Epoch 13/20\n",
      "263/263 [==============================] - 2s 6ms/step - loss: 0.6479 - accuracy: 0.6447 - recall_73: 0.0000e+00 - val_loss: 0.6629 - val_accuracy: 0.6283 - val_recall_73: 0.0000e+00\n",
      "Epoch 14/20\n",
      "263/263 [==============================] - 1s 5ms/step - loss: 0.6479 - accuracy: 0.6447 - recall_73: 0.0000e+00 - val_loss: 0.6638 - val_accuracy: 0.6283 - val_recall_73: 0.0000e+00\n",
      "Epoch 15/20\n",
      "263/263 [==============================] - 2s 6ms/step - loss: 0.6478 - accuracy: 0.6447 - recall_73: 0.0000e+00 - val_loss: 0.6630 - val_accuracy: 0.6283 - val_recall_73: 0.0000e+00\n",
      "Epoch 16/20\n",
      "263/263 [==============================] - 1s 6ms/step - loss: 0.6478 - accuracy: 0.6447 - recall_73: 0.0000e+00 - val_loss: 0.6627 - val_accuracy: 0.6283 - val_recall_73: 0.0000e+00\n",
      "Epoch 17/20\n",
      "263/263 [==============================] - 2s 7ms/step - loss: 0.6476 - accuracy: 0.6447 - recall_73: 0.0000e+00 - val_loss: 0.6631 - val_accuracy: 0.6283 - val_recall_73: 0.0000e+00\n",
      "Epoch 18/20\n",
      "263/263 [==============================] - 2s 7ms/step - loss: 0.6475 - accuracy: 0.6447 - recall_73: 0.0000e+00 - val_loss: 0.6636 - val_accuracy: 0.6283 - val_recall_73: 0.0000e+00\n",
      "Epoch 19/20\n",
      "263/263 [==============================] - 2s 6ms/step - loss: 0.6474 - accuracy: 0.6447 - recall_73: 0.0000e+00 - val_loss: 0.6626 - val_accuracy: 0.6283 - val_recall_73: 0.0000e+00\n",
      "Epoch 20/20\n",
      "263/263 [==============================] - 2s 7ms/step - loss: 0.6472 - accuracy: 0.6447 - recall_73: 0.0000e+00 - val_loss: 0.6640 - val_accuracy: 0.6283 - val_recall_73: 0.0000e+00\n",
      "83/83 [==============================] - 0s 3ms/step\n",
      "Epoch 1/20\n",
      "263/263 [==============================] - 2s 5ms/step - loss: 0.6755 - accuracy: 0.5830 - recall_74: 0.2320 - val_loss: 0.6586 - val_accuracy: 0.6340 - val_recall_74: 0.0000e+00\n",
      "Epoch 2/20\n",
      "263/263 [==============================] - 2s 7ms/step - loss: 0.6483 - accuracy: 0.6505 - recall_74: 0.0000e+00 - val_loss: 0.6581 - val_accuracy: 0.6340 - val_recall_74: 0.0000e+00\n",
      "Epoch 3/20\n",
      "263/263 [==============================] - 1s 5ms/step - loss: 0.6473 - accuracy: 0.6505 - recall_74: 0.0000e+00 - val_loss: 0.6584 - val_accuracy: 0.6340 - val_recall_74: 0.0000e+00\n",
      "Epoch 4/20\n",
      "263/263 [==============================] - 1s 5ms/step - loss: 0.6471 - accuracy: 0.6505 - recall_74: 0.0000e+00 - val_loss: 0.6579 - val_accuracy: 0.6340 - val_recall_74: 0.0000e+00\n",
      "Epoch 5/20\n",
      "263/263 [==============================] - 2s 7ms/step - loss: 0.6466 - accuracy: 0.6505 - recall_74: 0.0000e+00 - val_loss: 0.6587 - val_accuracy: 0.6340 - val_recall_74: 0.0000e+00\n",
      "Epoch 6/20\n",
      "263/263 [==============================] - 2s 6ms/step - loss: 0.6465 - accuracy: 0.6505 - recall_74: 0.0000e+00 - val_loss: 0.6577 - val_accuracy: 0.6340 - val_recall_74: 0.0000e+00\n",
      "Epoch 7/20\n",
      "263/263 [==============================] - 1s 5ms/step - loss: 0.6464 - accuracy: 0.6505 - recall_74: 0.0000e+00 - val_loss: 0.6582 - val_accuracy: 0.6340 - val_recall_74: 0.0000e+00\n",
      "Epoch 8/20\n",
      "263/263 [==============================] - 2s 8ms/step - loss: 0.6461 - accuracy: 0.6505 - recall_74: 0.0000e+00 - val_loss: 0.6576 - val_accuracy: 0.6340 - val_recall_74: 0.0000e+00\n",
      "Epoch 9/20\n",
      "263/263 [==============================] - 2s 6ms/step - loss: 0.6459 - accuracy: 0.6505 - recall_74: 0.0000e+00 - val_loss: 0.6582 - val_accuracy: 0.6340 - val_recall_74: 0.0000e+00\n",
      "Epoch 10/20\n",
      "263/263 [==============================] - 2s 7ms/step - loss: 0.6457 - accuracy: 0.6505 - recall_74: 0.0000e+00 - val_loss: 0.6586 - val_accuracy: 0.6340 - val_recall_74: 0.0000e+00\n",
      "Epoch 11/20\n",
      "263/263 [==============================] - 2s 7ms/step - loss: 0.6455 - accuracy: 0.6505 - recall_74: 0.0000e+00 - val_loss: 0.6578 - val_accuracy: 0.6340 - val_recall_74: 0.0000e+00\n",
      "Epoch 12/20\n",
      "263/263 [==============================] - 2s 6ms/step - loss: 0.6455 - accuracy: 0.6505 - recall_74: 0.0000e+00 - val_loss: 0.6584 - val_accuracy: 0.6340 - val_recall_74: 0.0000e+00\n",
      "Epoch 13/20\n",
      "263/263 [==============================] - 2s 6ms/step - loss: 0.6453 - accuracy: 0.6505 - recall_74: 0.0000e+00 - val_loss: 0.6586 - val_accuracy: 0.6340 - val_recall_74: 0.0000e+00\n",
      "Epoch 14/20\n",
      "263/263 [==============================] - 2s 6ms/step - loss: 0.6452 - accuracy: 0.6505 - recall_74: 0.0000e+00 - val_loss: 0.6585 - val_accuracy: 0.6340 - val_recall_74: 0.0000e+00\n",
      "Epoch 15/20\n",
      "263/263 [==============================] - 2s 7ms/step - loss: 0.6450 - accuracy: 0.6505 - recall_74: 0.0000e+00 - val_loss: 0.6598 - val_accuracy: 0.6340 - val_recall_74: 0.0000e+00\n",
      "Epoch 16/20\n",
      "263/263 [==============================] - 1s 6ms/step - loss: 0.6449 - accuracy: 0.6505 - recall_74: 0.0000e+00 - val_loss: 0.6580 - val_accuracy: 0.6340 - val_recall_74: 0.0000e+00\n",
      "Epoch 17/20\n",
      "263/263 [==============================] - 2s 7ms/step - loss: 0.6448 - accuracy: 0.6505 - recall_74: 0.0000e+00 - val_loss: 0.6580 - val_accuracy: 0.6340 - val_recall_74: 0.0000e+00\n",
      "Epoch 18/20\n",
      "263/263 [==============================] - 2s 6ms/step - loss: 0.6449 - accuracy: 0.6505 - recall_74: 0.0000e+00 - val_loss: 0.6585 - val_accuracy: 0.6340 - val_recall_74: 0.0000e+00\n",
      "Epoch 19/20\n",
      "263/263 [==============================] - 2s 6ms/step - loss: 0.6447 - accuracy: 0.6505 - recall_74: 0.0000e+00 - val_loss: 0.6585 - val_accuracy: 0.6340 - val_recall_74: 0.0000e+00\n",
      "Epoch 20/20\n",
      "263/263 [==============================] - 2s 6ms/step - loss: 0.6446 - accuracy: 0.6505 - recall_74: 0.0000e+00 - val_loss: 0.6587 - val_accuracy: 0.6340 - val_recall_74: 0.0000e+00\n",
      "83/83 [==============================] - 0s 4ms/step\n",
      "Epoch 1/20\n",
      "263/263 [==============================] - 2s 6ms/step - loss: 0.6581 - accuracy: 0.6339 - recall_75: 0.0246 - val_loss: 0.6587 - val_accuracy: 0.6340 - val_recall_75: 0.0000e+00\n",
      "Epoch 2/20\n",
      "263/263 [==============================] - 2s 7ms/step - loss: 0.6531 - accuracy: 0.6417 - recall_75: 0.0000e+00 - val_loss: 0.6579 - val_accuracy: 0.6340 - val_recall_75: 0.0000e+00\n",
      "Epoch 3/20\n",
      "263/263 [==============================] - 2s 6ms/step - loss: 0.6526 - accuracy: 0.6417 - recall_75: 0.0000e+00 - val_loss: 0.6578 - val_accuracy: 0.6340 - val_recall_75: 0.0000e+00\n",
      "Epoch 4/20\n",
      "263/263 [==============================] - 2s 8ms/step - loss: 0.6522 - accuracy: 0.6417 - recall_75: 0.0000e+00 - val_loss: 0.6575 - val_accuracy: 0.6340 - val_recall_75: 0.0000e+00\n",
      "Epoch 5/20\n",
      "263/263 [==============================] - 1s 5ms/step - loss: 0.6519 - accuracy: 0.6417 - recall_75: 0.0000e+00 - val_loss: 0.6571 - val_accuracy: 0.6340 - val_recall_75: 0.0000e+00\n",
      "Epoch 6/20\n",
      "263/263 [==============================] - 2s 6ms/step - loss: 0.6514 - accuracy: 0.6417 - recall_75: 0.0000e+00 - val_loss: 0.6573 - val_accuracy: 0.6340 - val_recall_75: 0.0000e+00\n",
      "Epoch 7/20\n",
      "263/263 [==============================] - 2s 6ms/step - loss: 0.6512 - accuracy: 0.6417 - recall_75: 0.0000e+00 - val_loss: 0.6570 - val_accuracy: 0.6340 - val_recall_75: 0.0000e+00\n",
      "Epoch 8/20\n",
      "263/263 [==============================] - 2s 7ms/step - loss: 0.6510 - accuracy: 0.6417 - recall_75: 0.0000e+00 - val_loss: 0.6568 - val_accuracy: 0.6340 - val_recall_75: 0.0000e+00\n",
      "Epoch 9/20\n",
      "263/263 [==============================] - 2s 6ms/step - loss: 0.6508 - accuracy: 0.6417 - recall_75: 0.0000e+00 - val_loss: 0.6566 - val_accuracy: 0.6340 - val_recall_75: 0.0000e+00\n",
      "Epoch 10/20\n",
      "263/263 [==============================] - 2s 7ms/step - loss: 0.6506 - accuracy: 0.6417 - recall_75: 0.0000e+00 - val_loss: 0.6569 - val_accuracy: 0.6340 - val_recall_75: 0.0000e+00\n",
      "Epoch 11/20\n",
      "263/263 [==============================] - 1s 5ms/step - loss: 0.6504 - accuracy: 0.6417 - recall_75: 0.0000e+00 - val_loss: 0.6564 - val_accuracy: 0.6340 - val_recall_75: 0.0000e+00\n",
      "Epoch 12/20\n",
      "263/263 [==============================] - 2s 9ms/step - loss: 0.6501 - accuracy: 0.6417 - recall_75: 0.0000e+00 - val_loss: 0.6567 - val_accuracy: 0.6340 - val_recall_75: 0.0000e+00\n",
      "Epoch 13/20\n",
      "263/263 [==============================] - 2s 6ms/step - loss: 0.6501 - accuracy: 0.6417 - recall_75: 0.0000e+00 - val_loss: 0.6565 - val_accuracy: 0.6340 - val_recall_75: 0.0000e+00\n",
      "Epoch 14/20\n",
      "263/263 [==============================] - 2s 7ms/step - loss: 0.6500 - accuracy: 0.6417 - recall_75: 0.0000e+00 - val_loss: 0.6564 - val_accuracy: 0.6340 - val_recall_75: 0.0000e+00\n",
      "Epoch 15/20\n",
      "263/263 [==============================] - 2s 8ms/step - loss: 0.6499 - accuracy: 0.6417 - recall_75: 0.0000e+00 - val_loss: 0.6562 - val_accuracy: 0.6340 - val_recall_75: 0.0000e+00\n",
      "Epoch 16/20\n",
      "263/263 [==============================] - 2s 7ms/step - loss: 0.6501 - accuracy: 0.6417 - recall_75: 0.0000e+00 - val_loss: 0.6563 - val_accuracy: 0.6340 - val_recall_75: 0.0000e+00\n",
      "Epoch 17/20\n",
      "263/263 [==============================] - 2s 6ms/step - loss: 0.6499 - accuracy: 0.6417 - recall_75: 0.0000e+00 - val_loss: 0.6564 - val_accuracy: 0.6340 - val_recall_75: 0.0000e+00\n",
      "Epoch 18/20\n",
      "263/263 [==============================] - 2s 7ms/step - loss: 0.6495 - accuracy: 0.6417 - recall_75: 0.0000e+00 - val_loss: 0.6568 - val_accuracy: 0.6340 - val_recall_75: 0.0000e+00\n",
      "Epoch 19/20\n",
      "263/263 [==============================] - 2s 7ms/step - loss: 0.6495 - accuracy: 0.6417 - recall_75: 0.0000e+00 - val_loss: 0.6563 - val_accuracy: 0.6340 - val_recall_75: 0.0000e+00\n",
      "Epoch 20/20\n",
      "263/263 [==============================] - 2s 6ms/step - loss: 0.6494 - accuracy: 0.6417 - recall_75: 0.0000e+00 - val_loss: 0.6561 - val_accuracy: 0.6340 - val_recall_75: 0.0000e+00\n",
      "83/83 [==============================] - 0s 5ms/step\n",
      "Epoch 1/20\n",
      "263/263 [==============================] - 3s 7ms/step - loss: 0.6522 - accuracy: 0.6422 - recall_76: 0.0000e+00 - val_loss: 0.6583 - val_accuracy: 0.6340 - val_recall_76: 0.0000e+00\n",
      "Epoch 2/20\n",
      "263/263 [==============================] - 1s 5ms/step - loss: 0.6517 - accuracy: 0.6422 - recall_76: 0.0000e+00 - val_loss: 0.6582 - val_accuracy: 0.6340 - val_recall_76: 0.0000e+00\n",
      "Epoch 3/20\n",
      "263/263 [==============================] - 2s 7ms/step - loss: 0.6515 - accuracy: 0.6422 - recall_76: 0.0000e+00 - val_loss: 0.6582 - val_accuracy: 0.6340 - val_recall_76: 0.0000e+00\n",
      "Epoch 4/20\n",
      "263/263 [==============================] - 2s 6ms/step - loss: 0.6513 - accuracy: 0.6422 - recall_76: 0.0000e+00 - val_loss: 0.6586 - val_accuracy: 0.6340 - val_recall_76: 0.0000e+00\n",
      "Epoch 5/20\n",
      "263/263 [==============================] - 2s 7ms/step - loss: 0.6512 - accuracy: 0.6422 - recall_76: 0.0000e+00 - val_loss: 0.6584 - val_accuracy: 0.6340 - val_recall_76: 0.0000e+00\n",
      "Epoch 6/20\n",
      "263/263 [==============================] - 2s 6ms/step - loss: 0.6509 - accuracy: 0.6422 - recall_76: 0.0000e+00 - val_loss: 0.6582 - val_accuracy: 0.6340 - val_recall_76: 0.0000e+00\n",
      "Epoch 7/20\n",
      "263/263 [==============================] - 2s 9ms/step - loss: 0.6508 - accuracy: 0.6422 - recall_76: 0.0000e+00 - val_loss: 0.6583 - val_accuracy: 0.6340 - val_recall_76: 0.0000e+00\n",
      "Epoch 8/20\n",
      "263/263 [==============================] - 2s 7ms/step - loss: 0.6508 - accuracy: 0.6422 - recall_76: 0.0000e+00 - val_loss: 0.6585 - val_accuracy: 0.6340 - val_recall_76: 0.0000e+00\n",
      "Epoch 9/20\n",
      "263/263 [==============================] - 2s 7ms/step - loss: 0.6505 - accuracy: 0.6422 - recall_76: 0.0000e+00 - val_loss: 0.6583 - val_accuracy: 0.6340 - val_recall_76: 0.0000e+00\n",
      "Epoch 10/20\n",
      "263/263 [==============================] - 1s 6ms/step - loss: 0.6503 - accuracy: 0.6422 - recall_76: 0.0000e+00 - val_loss: 0.6586 - val_accuracy: 0.6340 - val_recall_76: 0.0000e+00\n",
      "Epoch 11/20\n",
      "263/263 [==============================] - 2s 8ms/step - loss: 0.6502 - accuracy: 0.6422 - recall_76: 0.0000e+00 - val_loss: 0.6584 - val_accuracy: 0.6340 - val_recall_76: 0.0000e+00\n",
      "Epoch 12/20\n",
      "263/263 [==============================] - 2s 6ms/step - loss: 0.6502 - accuracy: 0.6422 - recall_76: 0.0000e+00 - val_loss: 0.6586 - val_accuracy: 0.6340 - val_recall_76: 0.0000e+00\n",
      "Epoch 13/20\n",
      "263/263 [==============================] - 2s 8ms/step - loss: 0.6500 - accuracy: 0.6422 - recall_76: 0.0000e+00 - val_loss: 0.6586 - val_accuracy: 0.6340 - val_recall_76: 0.0000e+00\n",
      "Epoch 14/20\n",
      "263/263 [==============================] - 1s 5ms/step - loss: 0.6499 - accuracy: 0.6422 - recall_76: 0.0000e+00 - val_loss: 0.6590 - val_accuracy: 0.6340 - val_recall_76: 0.0000e+00\n",
      "Epoch 15/20\n",
      "263/263 [==============================] - 2s 7ms/step - loss: 0.6499 - accuracy: 0.6422 - recall_76: 0.0000e+00 - val_loss: 0.6590 - val_accuracy: 0.6340 - val_recall_76: 0.0000e+00\n",
      "Epoch 16/20\n",
      "263/263 [==============================] - 2s 6ms/step - loss: 0.6497 - accuracy: 0.6422 - recall_76: 0.0000e+00 - val_loss: 0.6588 - val_accuracy: 0.6340 - val_recall_76: 0.0000e+00\n",
      "Epoch 17/20\n",
      "263/263 [==============================] - 2s 6ms/step - loss: 0.6497 - accuracy: 0.6422 - recall_76: 0.0000e+00 - val_loss: 0.6589 - val_accuracy: 0.6340 - val_recall_76: 0.0000e+00\n",
      "Epoch 18/20\n",
      "263/263 [==============================] - 2s 7ms/step - loss: 0.6495 - accuracy: 0.6422 - recall_76: 0.0000e+00 - val_loss: 0.6592 - val_accuracy: 0.6340 - val_recall_76: 0.0000e+00\n",
      "Epoch 19/20\n",
      "263/263 [==============================] - 2s 6ms/step - loss: 0.6496 - accuracy: 0.6422 - recall_76: 0.0000e+00 - val_loss: 0.6592 - val_accuracy: 0.6340 - val_recall_76: 0.0000e+00\n",
      "Epoch 20/20\n",
      "263/263 [==============================] - 2s 6ms/step - loss: 0.6495 - accuracy: 0.6422 - recall_76: 0.0000e+00 - val_loss: 0.6592 - val_accuracy: 0.6340 - val_recall_76: 0.0000e+00\n",
      "83/83 [==============================] - 0s 3ms/step\n",
      "Epoch 1/20\n",
      "263/263 [==============================] - 3s 8ms/step - loss: 0.6756 - accuracy: 0.5826 - recall_77: 0.2304 - val_loss: 0.6608 - val_accuracy: 0.6274 - val_recall_77: 0.0000e+00\n",
      "Epoch 2/20\n",
      "263/263 [==============================] - 2s 7ms/step - loss: 0.6522 - accuracy: 0.6428 - recall_77: 0.0000e+00 - val_loss: 0.6598 - val_accuracy: 0.6274 - val_recall_77: 0.0000e+00\n",
      "Epoch 3/20\n",
      "263/263 [==============================] - 2s 7ms/step - loss: 0.6512 - accuracy: 0.6428 - recall_77: 0.0000e+00 - val_loss: 0.6598 - val_accuracy: 0.6274 - val_recall_77: 0.0000e+00\n",
      "Epoch 4/20\n",
      "263/263 [==============================] - 2s 8ms/step - loss: 0.6511 - accuracy: 0.6428 - recall_77: 0.0000e+00 - val_loss: 0.6598 - val_accuracy: 0.6274 - val_recall_77: 0.0000e+00\n",
      "Epoch 5/20\n",
      "263/263 [==============================] - 2s 7ms/step - loss: 0.6509 - accuracy: 0.6428 - recall_77: 0.0000e+00 - val_loss: 0.6597 - val_accuracy: 0.6274 - val_recall_77: 0.0000e+00\n",
      "Epoch 6/20\n",
      "263/263 [==============================] - 2s 6ms/step - loss: 0.6505 - accuracy: 0.6428 - recall_77: 0.0000e+00 - val_loss: 0.6597 - val_accuracy: 0.6274 - val_recall_77: 0.0000e+00\n",
      "Epoch 7/20\n",
      "263/263 [==============================] - 2s 7ms/step - loss: 0.6502 - accuracy: 0.6428 - recall_77: 0.0000e+00 - val_loss: 0.6604 - val_accuracy: 0.6274 - val_recall_77: 0.0000e+00\n",
      "Epoch 8/20\n",
      "263/263 [==============================] - 2s 6ms/step - loss: 0.6500 - accuracy: 0.6428 - recall_77: 0.0000e+00 - val_loss: 0.6594 - val_accuracy: 0.6274 - val_recall_77: 0.0000e+00\n",
      "Epoch 9/20\n",
      "263/263 [==============================] - 2s 6ms/step - loss: 0.6500 - accuracy: 0.6428 - recall_77: 0.0000e+00 - val_loss: 0.6596 - val_accuracy: 0.6274 - val_recall_77: 0.0000e+00\n",
      "Epoch 10/20\n",
      "263/263 [==============================] - 2s 7ms/step - loss: 0.6498 - accuracy: 0.6428 - recall_77: 0.0000e+00 - val_loss: 0.6603 - val_accuracy: 0.6274 - val_recall_77: 0.0000e+00\n",
      "Epoch 11/20\n",
      "263/263 [==============================] - 2s 8ms/step - loss: 0.6497 - accuracy: 0.6428 - recall_77: 0.0000e+00 - val_loss: 0.6593 - val_accuracy: 0.6274 - val_recall_77: 0.0000e+00\n",
      "Epoch 12/20\n",
      "263/263 [==============================] - 2s 6ms/step - loss: 0.6496 - accuracy: 0.6428 - recall_77: 0.0000e+00 - val_loss: 0.6593 - val_accuracy: 0.6274 - val_recall_77: 0.0000e+00\n",
      "Epoch 13/20\n",
      "263/263 [==============================] - 2s 8ms/step - loss: 0.6494 - accuracy: 0.6428 - recall_77: 0.0000e+00 - val_loss: 0.6594 - val_accuracy: 0.6274 - val_recall_77: 0.0000e+00\n",
      "Epoch 14/20\n",
      "263/263 [==============================] - 1s 6ms/step - loss: 0.6493 - accuracy: 0.6428 - recall_77: 0.0000e+00 - val_loss: 0.6592 - val_accuracy: 0.6274 - val_recall_77: 0.0000e+00\n",
      "Epoch 15/20\n",
      "263/263 [==============================] - 2s 7ms/step - loss: 0.6491 - accuracy: 0.6428 - recall_77: 0.0000e+00 - val_loss: 0.6600 - val_accuracy: 0.6274 - val_recall_77: 0.0000e+00\n",
      "Epoch 16/20\n",
      "263/263 [==============================] - 2s 7ms/step - loss: 0.6490 - accuracy: 0.6428 - recall_77: 0.0000e+00 - val_loss: 0.6596 - val_accuracy: 0.6274 - val_recall_77: 0.0000e+00\n",
      "Epoch 17/20\n",
      "263/263 [==============================] - 1s 6ms/step - loss: 0.6490 - accuracy: 0.6428 - recall_77: 0.0000e+00 - val_loss: 0.6592 - val_accuracy: 0.6274 - val_recall_77: 0.0000e+00\n",
      "Epoch 18/20\n",
      "263/263 [==============================] - 2s 8ms/step - loss: 0.6490 - accuracy: 0.6428 - recall_77: 0.0000e+00 - val_loss: 0.6592 - val_accuracy: 0.6274 - val_recall_77: 0.0000e+00\n",
      "Epoch 19/20\n",
      "263/263 [==============================] - 2s 6ms/step - loss: 0.6487 - accuracy: 0.6428 - recall_77: 0.0000e+00 - val_loss: 0.6594 - val_accuracy: 0.6274 - val_recall_77: 0.0000e+00\n",
      "Epoch 20/20\n",
      "263/263 [==============================] - 2s 7ms/step - loss: 0.6486 - accuracy: 0.6428 - recall_77: 0.0000e+00 - val_loss: 0.6597 - val_accuracy: 0.6274 - val_recall_77: 0.0000e+00\n",
      "83/83 [==============================] - 0s 4ms/step\n",
      "Epoch 1/20\n",
      "263/263 [==============================] - 3s 7ms/step - loss: 0.6627 - accuracy: 0.6421 - recall_78: 0.0194 - val_loss: 0.6603 - val_accuracy: 0.6283 - val_recall_78: 0.0000e+00\n",
      "Epoch 2/20\n",
      "263/263 [==============================] - 2s 7ms/step - loss: 0.6513 - accuracy: 0.6447 - recall_78: 0.0000e+00 - val_loss: 0.6604 - val_accuracy: 0.6283 - val_recall_78: 0.0000e+00\n",
      "Epoch 3/20\n",
      "263/263 [==============================] - 2s 7ms/step - loss: 0.6509 - accuracy: 0.6447 - recall_78: 0.0000e+00 - val_loss: 0.6604 - val_accuracy: 0.6283 - val_recall_78: 0.0000e+00\n",
      "Epoch 4/20\n",
      "263/263 [==============================] - 2s 8ms/step - loss: 0.6507 - accuracy: 0.6447 - recall_78: 0.0000e+00 - val_loss: 0.6607 - val_accuracy: 0.6283 - val_recall_78: 0.0000e+00\n",
      "Epoch 5/20\n",
      "263/263 [==============================] - 2s 8ms/step - loss: 0.6504 - accuracy: 0.6447 - recall_78: 0.0000e+00 - val_loss: 0.6612 - val_accuracy: 0.6283 - val_recall_78: 0.0000e+00\n",
      "Epoch 6/20\n",
      "263/263 [==============================] - 2s 7ms/step - loss: 0.6503 - accuracy: 0.6447 - recall_78: 0.0000e+00 - val_loss: 0.6608 - val_accuracy: 0.6283 - val_recall_78: 0.0000e+00\n",
      "Epoch 7/20\n",
      "263/263 [==============================] - 2s 6ms/step - loss: 0.6500 - accuracy: 0.6447 - recall_78: 0.0000e+00 - val_loss: 0.6613 - val_accuracy: 0.6283 - val_recall_78: 0.0000e+00\n",
      "Epoch 8/20\n",
      "263/263 [==============================] - 2s 7ms/step - loss: 0.6499 - accuracy: 0.6447 - recall_78: 0.0000e+00 - val_loss: 0.6611 - val_accuracy: 0.6283 - val_recall_78: 0.0000e+00\n",
      "Epoch 9/20\n",
      "263/263 [==============================] - 2s 7ms/step - loss: 0.6495 - accuracy: 0.6447 - recall_78: 0.0000e+00 - val_loss: 0.6609 - val_accuracy: 0.6283 - val_recall_78: 0.0000e+00\n",
      "Epoch 10/20\n",
      "263/263 [==============================] - 2s 7ms/step - loss: 0.6493 - accuracy: 0.6447 - recall_78: 0.0000e+00 - val_loss: 0.6612 - val_accuracy: 0.6283 - val_recall_78: 0.0000e+00\n",
      "Epoch 11/20\n",
      "263/263 [==============================] - 2s 7ms/step - loss: 0.6491 - accuracy: 0.6447 - recall_78: 0.0000e+00 - val_loss: 0.6610 - val_accuracy: 0.6283 - val_recall_78: 0.0000e+00\n",
      "Epoch 12/20\n",
      "263/263 [==============================] - 2s 8ms/step - loss: 0.6489 - accuracy: 0.6447 - recall_78: 0.0000e+00 - val_loss: 0.6612 - val_accuracy: 0.6283 - val_recall_78: 0.0000e+00\n",
      "Epoch 13/20\n",
      "263/263 [==============================] - 2s 7ms/step - loss: 0.6488 - accuracy: 0.6447 - recall_78: 0.0000e+00 - val_loss: 0.6613 - val_accuracy: 0.6283 - val_recall_78: 0.0000e+00\n",
      "Epoch 14/20\n",
      "263/263 [==============================] - 1s 4ms/step - loss: 0.6486 - accuracy: 0.6447 - recall_78: 0.0000e+00 - val_loss: 0.6614 - val_accuracy: 0.6283 - val_recall_78: 0.0000e+00\n",
      "Epoch 15/20\n",
      "263/263 [==============================] - 2s 6ms/step - loss: 0.6484 - accuracy: 0.6447 - recall_78: 0.0000e+00 - val_loss: 0.6619 - val_accuracy: 0.6283 - val_recall_78: 0.0000e+00\n",
      "Epoch 16/20\n",
      "263/263 [==============================] - 2s 7ms/step - loss: 0.6483 - accuracy: 0.6447 - recall_78: 0.0000e+00 - val_loss: 0.6618 - val_accuracy: 0.6283 - val_recall_78: 0.0000e+00\n",
      "Epoch 17/20\n",
      "263/263 [==============================] - 2s 6ms/step - loss: 0.6483 - accuracy: 0.6447 - recall_78: 0.0000e+00 - val_loss: 0.6618 - val_accuracy: 0.6283 - val_recall_78: 0.0000e+00\n",
      "Epoch 18/20\n",
      "263/263 [==============================] - 2s 7ms/step - loss: 0.6482 - accuracy: 0.6447 - recall_78: 0.0000e+00 - val_loss: 0.6619 - val_accuracy: 0.6283 - val_recall_78: 0.0000e+00\n",
      "Epoch 19/20\n",
      "263/263 [==============================] - 2s 7ms/step - loss: 0.6480 - accuracy: 0.6447 - recall_78: 0.0000e+00 - val_loss: 0.6621 - val_accuracy: 0.6283 - val_recall_78: 0.0000e+00\n",
      "Epoch 20/20\n",
      "263/263 [==============================] - 2s 8ms/step - loss: 0.6479 - accuracy: 0.6447 - recall_78: 0.0000e+00 - val_loss: 0.6620 - val_accuracy: 0.6283 - val_recall_78: 0.0000e+00\n",
      "83/83 [==============================] - 0s 4ms/step\n",
      "Epoch 1/20\n",
      "263/263 [==============================] - 3s 7ms/step - loss: 0.6547 - accuracy: 0.6505 - recall_79: 0.0000e+00 - val_loss: 0.6615 - val_accuracy: 0.6340 - val_recall_79: 0.0000e+00\n",
      "Epoch 2/20\n",
      "263/263 [==============================] - 2s 6ms/step - loss: 0.6474 - accuracy: 0.6505 - recall_79: 0.0000e+00 - val_loss: 0.6592 - val_accuracy: 0.6340 - val_recall_79: 0.0000e+00\n",
      "Epoch 3/20\n",
      "263/263 [==============================] - 2s 7ms/step - loss: 0.6471 - accuracy: 0.6505 - recall_79: 0.0000e+00 - val_loss: 0.6589 - val_accuracy: 0.6340 - val_recall_79: 0.0000e+00\n",
      "Epoch 4/20\n",
      "263/263 [==============================] - 2s 6ms/step - loss: 0.6468 - accuracy: 0.6505 - recall_79: 0.0000e+00 - val_loss: 0.6587 - val_accuracy: 0.6340 - val_recall_79: 0.0000e+00\n",
      "Epoch 5/20\n",
      "263/263 [==============================] - 2s 6ms/step - loss: 0.6465 - accuracy: 0.6505 - recall_79: 0.0000e+00 - val_loss: 0.6589 - val_accuracy: 0.6340 - val_recall_79: 0.0000e+00\n",
      "Epoch 6/20\n",
      "263/263 [==============================] - 2s 7ms/step - loss: 0.6463 - accuracy: 0.6505 - recall_79: 0.0000e+00 - val_loss: 0.6580 - val_accuracy: 0.6340 - val_recall_79: 0.0000e+00\n",
      "Epoch 7/20\n",
      "263/263 [==============================] - 2s 7ms/step - loss: 0.6461 - accuracy: 0.6505 - recall_79: 0.0000e+00 - val_loss: 0.6583 - val_accuracy: 0.6340 - val_recall_79: 0.0000e+00\n",
      "Epoch 8/20\n",
      "263/263 [==============================] - 2s 6ms/step - loss: 0.6458 - accuracy: 0.6505 - recall_79: 0.0000e+00 - val_loss: 0.6585 - val_accuracy: 0.6340 - val_recall_79: 0.0000e+00\n",
      "Epoch 9/20\n",
      "263/263 [==============================] - 2s 6ms/step - loss: 0.6456 - accuracy: 0.6505 - recall_79: 0.0000e+00 - val_loss: 0.6578 - val_accuracy: 0.6340 - val_recall_79: 0.0000e+00\n",
      "Epoch 10/20\n",
      "263/263 [==============================] - 2s 7ms/step - loss: 0.6456 - accuracy: 0.6505 - recall_79: 0.0000e+00 - val_loss: 0.6585 - val_accuracy: 0.6340 - val_recall_79: 0.0000e+00\n",
      "Epoch 11/20\n",
      "263/263 [==============================] - 2s 6ms/step - loss: 0.6453 - accuracy: 0.6505 - recall_79: 0.0000e+00 - val_loss: 0.6579 - val_accuracy: 0.6340 - val_recall_79: 0.0000e+00\n",
      "Epoch 12/20\n",
      "263/263 [==============================] - 2s 7ms/step - loss: 0.6450 - accuracy: 0.6505 - recall_79: 0.0000e+00 - val_loss: 0.6578 - val_accuracy: 0.6340 - val_recall_79: 0.0000e+00\n",
      "Epoch 13/20\n",
      "263/263 [==============================] - 2s 7ms/step - loss: 0.6450 - accuracy: 0.6505 - recall_79: 0.0000e+00 - val_loss: 0.6582 - val_accuracy: 0.6340 - val_recall_79: 0.0000e+00\n",
      "Epoch 14/20\n",
      "263/263 [==============================] - 2s 6ms/step - loss: 0.6447 - accuracy: 0.6505 - recall_79: 0.0000e+00 - val_loss: 0.6578 - val_accuracy: 0.6340 - val_recall_79: 0.0000e+00\n",
      "Epoch 15/20\n",
      "263/263 [==============================] - 2s 9ms/step - loss: 0.6448 - accuracy: 0.6505 - recall_79: 0.0000e+00 - val_loss: 0.6579 - val_accuracy: 0.6340 - val_recall_79: 0.0000e+00\n",
      "Epoch 16/20\n",
      "263/263 [==============================] - 2s 8ms/step - loss: 0.6446 - accuracy: 0.6505 - recall_79: 0.0000e+00 - val_loss: 0.6578 - val_accuracy: 0.6340 - val_recall_79: 0.0000e+00\n",
      "Epoch 17/20\n",
      "263/263 [==============================] - 2s 6ms/step - loss: 0.6444 - accuracy: 0.6505 - recall_79: 0.0000e+00 - val_loss: 0.6585 - val_accuracy: 0.6340 - val_recall_79: 0.0000e+00\n",
      "Epoch 18/20\n",
      "263/263 [==============================] - 2s 7ms/step - loss: 0.6444 - accuracy: 0.6505 - recall_79: 0.0000e+00 - val_loss: 0.6579 - val_accuracy: 0.6340 - val_recall_79: 0.0000e+00\n",
      "Epoch 19/20\n",
      "263/263 [==============================] - 2s 7ms/step - loss: 0.6442 - accuracy: 0.6505 - recall_79: 0.0000e+00 - val_loss: 0.6578 - val_accuracy: 0.6340 - val_recall_79: 0.0000e+00\n",
      "Epoch 20/20\n",
      "263/263 [==============================] - 2s 7ms/step - loss: 0.6440 - accuracy: 0.6505 - recall_79: 0.0000e+00 - val_loss: 0.6584 - val_accuracy: 0.6340 - val_recall_79: 0.0000e+00\n",
      "83/83 [==============================] - 0s 3ms/step\n",
      "Epoch 1/20\n",
      "263/263 [==============================] - 2s 6ms/step - loss: 0.6544 - accuracy: 0.6417 - recall_80: 0.0000e+00 - val_loss: 0.6560 - val_accuracy: 0.6340 - val_recall_80: 0.0000e+00\n",
      "Epoch 2/20\n",
      "263/263 [==============================] - 2s 6ms/step - loss: 0.6533 - accuracy: 0.6417 - recall_80: 0.0000e+00 - val_loss: 0.6558 - val_accuracy: 0.6340 - val_recall_80: 0.0000e+00\n",
      "Epoch 3/20\n",
      "263/263 [==============================] - 2s 7ms/step - loss: 0.6530 - accuracy: 0.6417 - recall_80: 0.0000e+00 - val_loss: 0.6557 - val_accuracy: 0.6340 - val_recall_80: 0.0000e+00\n",
      "Epoch 4/20\n",
      "263/263 [==============================] - 2s 8ms/step - loss: 0.6526 - accuracy: 0.6417 - recall_80: 0.0000e+00 - val_loss: 0.6561 - val_accuracy: 0.6340 - val_recall_80: 0.0000e+00\n",
      "Epoch 5/20\n",
      "263/263 [==============================] - 2s 7ms/step - loss: 0.6523 - accuracy: 0.6417 - recall_80: 0.0000e+00 - val_loss: 0.6556 - val_accuracy: 0.6340 - val_recall_80: 0.0000e+00\n",
      "Epoch 6/20\n",
      "263/263 [==============================] - 2s 7ms/step - loss: 0.6521 - accuracy: 0.6417 - recall_80: 0.0000e+00 - val_loss: 0.6557 - val_accuracy: 0.6340 - val_recall_80: 0.0000e+00\n",
      "Epoch 7/20\n",
      "263/263 [==============================] - 2s 8ms/step - loss: 0.6519 - accuracy: 0.6417 - recall_80: 0.0000e+00 - val_loss: 0.6555 - val_accuracy: 0.6340 - val_recall_80: 0.0000e+00\n",
      "Epoch 8/20\n",
      "263/263 [==============================] - 2s 6ms/step - loss: 0.6519 - accuracy: 0.6417 - recall_80: 0.0000e+00 - val_loss: 0.6556 - val_accuracy: 0.6340 - val_recall_80: 0.0000e+00\n",
      "Epoch 9/20\n",
      "263/263 [==============================] - 2s 7ms/step - loss: 0.6516 - accuracy: 0.6417 - recall_80: 0.0000e+00 - val_loss: 0.6554 - val_accuracy: 0.6340 - val_recall_80: 0.0000e+00\n",
      "Epoch 10/20\n",
      "263/263 [==============================] - 2s 7ms/step - loss: 0.6512 - accuracy: 0.6417 - recall_80: 0.0000e+00 - val_loss: 0.6558 - val_accuracy: 0.6340 - val_recall_80: 0.0000e+00\n",
      "Epoch 11/20\n",
      "263/263 [==============================] - 2s 8ms/step - loss: 0.6511 - accuracy: 0.6417 - recall_80: 0.0000e+00 - val_loss: 0.6556 - val_accuracy: 0.6340 - val_recall_80: 0.0000e+00\n",
      "Epoch 12/20\n",
      "263/263 [==============================] - 2s 7ms/step - loss: 0.6509 - accuracy: 0.6417 - recall_80: 0.0000e+00 - val_loss: 0.6554 - val_accuracy: 0.6340 - val_recall_80: 0.0000e+00\n",
      "Epoch 13/20\n",
      "263/263 [==============================] - 2s 6ms/step - loss: 0.6507 - accuracy: 0.6417 - recall_80: 0.0000e+00 - val_loss: 0.6555 - val_accuracy: 0.6340 - val_recall_80: 0.0000e+00\n",
      "Epoch 14/20\n",
      "263/263 [==============================] - 2s 7ms/step - loss: 0.6506 - accuracy: 0.6417 - recall_80: 0.0000e+00 - val_loss: 0.6556 - val_accuracy: 0.6340 - val_recall_80: 0.0000e+00\n",
      "Epoch 15/20\n",
      "263/263 [==============================] - 2s 7ms/step - loss: 0.6507 - accuracy: 0.6417 - recall_80: 0.0000e+00 - val_loss: 0.6555 - val_accuracy: 0.6340 - val_recall_80: 0.0000e+00\n",
      "Epoch 16/20\n",
      "263/263 [==============================] - 2s 7ms/step - loss: 0.6502 - accuracy: 0.6417 - recall_80: 0.0000e+00 - val_loss: 0.6562 - val_accuracy: 0.6340 - val_recall_80: 0.0000e+00\n",
      "Epoch 17/20\n",
      "263/263 [==============================] - 2s 6ms/step - loss: 0.6505 - accuracy: 0.6417 - recall_80: 0.0000e+00 - val_loss: 0.6556 - val_accuracy: 0.6340 - val_recall_80: 0.0000e+00\n",
      "Epoch 18/20\n",
      "263/263 [==============================] - 2s 7ms/step - loss: 0.6502 - accuracy: 0.6417 - recall_80: 0.0000e+00 - val_loss: 0.6561 - val_accuracy: 0.6340 - val_recall_80: 0.0000e+00\n",
      "Epoch 19/20\n",
      "263/263 [==============================] - 2s 6ms/step - loss: 0.6502 - accuracy: 0.6417 - recall_80: 0.0000e+00 - val_loss: 0.6559 - val_accuracy: 0.6340 - val_recall_80: 0.0000e+00\n",
      "Epoch 20/20\n",
      "263/263 [==============================] - 2s 7ms/step - loss: 0.6501 - accuracy: 0.6417 - recall_80: 0.0000e+00 - val_loss: 0.6557 - val_accuracy: 0.6340 - val_recall_80: 0.0000e+00\n",
      "83/83 [==============================] - 0s 3ms/step\n",
      "Epoch 1/20\n",
      "263/263 [==============================] - 3s 7ms/step - loss: 0.6583 - accuracy: 0.6424 - recall_81: 0.0259 - val_loss: 0.6561 - val_accuracy: 0.6340 - val_recall_81: 0.0000e+00\n",
      "Epoch 2/20\n",
      "263/263 [==============================] - 2s 6ms/step - loss: 0.6526 - accuracy: 0.6422 - recall_81: 0.0000e+00 - val_loss: 0.6561 - val_accuracy: 0.6340 - val_recall_81: 0.0000e+00\n",
      "Epoch 3/20\n",
      "263/263 [==============================] - 2s 8ms/step - loss: 0.6521 - accuracy: 0.6422 - recall_81: 0.0000e+00 - val_loss: 0.6563 - val_accuracy: 0.6340 - val_recall_81: 0.0000e+00\n",
      "Epoch 4/20\n",
      "263/263 [==============================] - 1s 5ms/step - loss: 0.6516 - accuracy: 0.6422 - recall_81: 0.0000e+00 - val_loss: 0.6563 - val_accuracy: 0.6340 - val_recall_81: 0.0000e+00\n",
      "Epoch 5/20\n",
      "263/263 [==============================] - 2s 7ms/step - loss: 0.6513 - accuracy: 0.6422 - recall_81: 0.0000e+00 - val_loss: 0.6565 - val_accuracy: 0.6340 - val_recall_81: 0.0000e+00\n",
      "Epoch 6/20\n",
      "263/263 [==============================] - 2s 8ms/step - loss: 0.6511 - accuracy: 0.6422 - recall_81: 0.0000e+00 - val_loss: 0.6568 - val_accuracy: 0.6340 - val_recall_81: 0.0000e+00\n",
      "Epoch 7/20\n",
      "263/263 [==============================] - 2s 8ms/step - loss: 0.6508 - accuracy: 0.6422 - recall_81: 0.0000e+00 - val_loss: 0.6570 - val_accuracy: 0.6340 - val_recall_81: 0.0000e+00\n",
      "Epoch 8/20\n",
      "263/263 [==============================] - 2s 6ms/step - loss: 0.6507 - accuracy: 0.6422 - recall_81: 0.0000e+00 - val_loss: 0.6571 - val_accuracy: 0.6340 - val_recall_81: 0.0000e+00\n",
      "Epoch 9/20\n",
      "263/263 [==============================] - 2s 6ms/step - loss: 0.6506 - accuracy: 0.6422 - recall_81: 0.0000e+00 - val_loss: 0.6573 - val_accuracy: 0.6340 - val_recall_81: 0.0000e+00\n",
      "Epoch 10/20\n",
      "263/263 [==============================] - 2s 7ms/step - loss: 0.6502 - accuracy: 0.6422 - recall_81: 0.0000e+00 - val_loss: 0.6576 - val_accuracy: 0.6340 - val_recall_81: 0.0000e+00\n",
      "Epoch 11/20\n",
      "263/263 [==============================] - 2s 6ms/step - loss: 0.6501 - accuracy: 0.6422 - recall_81: 0.0000e+00 - val_loss: 0.6577 - val_accuracy: 0.6340 - val_recall_81: 0.0000e+00\n",
      "Epoch 12/20\n",
      "263/263 [==============================] - 2s 7ms/step - loss: 0.6500 - accuracy: 0.6422 - recall_81: 0.0000e+00 - val_loss: 0.6579 - val_accuracy: 0.6340 - val_recall_81: 0.0000e+00\n",
      "Epoch 13/20\n",
      "263/263 [==============================] - 2s 8ms/step - loss: 0.6497 - accuracy: 0.6422 - recall_81: 0.0000e+00 - val_loss: 0.6578 - val_accuracy: 0.6340 - val_recall_81: 0.0000e+00\n",
      "Epoch 14/20\n",
      "263/263 [==============================] - 2s 6ms/step - loss: 0.6497 - accuracy: 0.6422 - recall_81: 0.0000e+00 - val_loss: 0.6579 - val_accuracy: 0.6340 - val_recall_81: 0.0000e+00\n",
      "Epoch 15/20\n",
      "263/263 [==============================] - 2s 8ms/step - loss: 0.6496 - accuracy: 0.6422 - recall_81: 0.0000e+00 - val_loss: 0.6581 - val_accuracy: 0.6340 - val_recall_81: 0.0000e+00\n",
      "Epoch 16/20\n",
      "263/263 [==============================] - 2s 6ms/step - loss: 0.6492 - accuracy: 0.6422 - recall_81: 0.0000e+00 - val_loss: 0.6589 - val_accuracy: 0.6340 - val_recall_81: 0.0000e+00\n",
      "Epoch 17/20\n",
      "263/263 [==============================] - 2s 6ms/step - loss: 0.6495 - accuracy: 0.6422 - recall_81: 0.0000e+00 - val_loss: 0.6582 - val_accuracy: 0.6340 - val_recall_81: 0.0000e+00\n",
      "Epoch 18/20\n",
      "263/263 [==============================] - 2s 7ms/step - loss: 0.6493 - accuracy: 0.6422 - recall_81: 0.0000e+00 - val_loss: 0.6584 - val_accuracy: 0.6340 - val_recall_81: 0.0000e+00\n",
      "Epoch 19/20\n",
      "263/263 [==============================] - 2s 6ms/step - loss: 0.6493 - accuracy: 0.6422 - recall_81: 0.0000e+00 - val_loss: 0.6588 - val_accuracy: 0.6340 - val_recall_81: 0.0000e+00\n",
      "Epoch 20/20\n",
      "263/263 [==============================] - 2s 6ms/step - loss: 0.6494 - accuracy: 0.6422 - recall_81: 0.0000e+00 - val_loss: 0.6588 - val_accuracy: 0.6340 - val_recall_81: 0.0000e+00\n",
      "83/83 [==============================] - 0s 5ms/step\n",
      "Epoch 1/20\n",
      "329/329 [==============================] - 3s 7ms/step - loss: 0.6639 - accuracy: 0.6209 - recall_82: 0.0930 - val_loss: 0.6583 - val_accuracy: 0.6327 - val_recall_82: 0.0000e+00\n",
      "Epoch 2/20\n",
      "329/329 [==============================] - 2s 6ms/step - loss: 0.6515 - accuracy: 0.6441 - recall_82: 0.0000e+00 - val_loss: 0.6581 - val_accuracy: 0.6327 - val_recall_82: 0.0000e+00\n",
      "Epoch 3/20\n",
      "329/329 [==============================] - 2s 6ms/step - loss: 0.6513 - accuracy: 0.6441 - recall_82: 0.0000e+00 - val_loss: 0.6585 - val_accuracy: 0.6327 - val_recall_82: 0.0000e+00\n",
      "Epoch 4/20\n",
      "329/329 [==============================] - 2s 7ms/step - loss: 0.6510 - accuracy: 0.6441 - recall_82: 0.0000e+00 - val_loss: 0.6582 - val_accuracy: 0.6327 - val_recall_82: 0.0000e+00\n",
      "Epoch 5/20\n",
      "329/329 [==============================] - 2s 7ms/step - loss: 0.6508 - accuracy: 0.6441 - recall_82: 0.0000e+00 - val_loss: 0.6578 - val_accuracy: 0.6327 - val_recall_82: 0.0000e+00\n",
      "Epoch 6/20\n",
      "329/329 [==============================] - 2s 6ms/step - loss: 0.6506 - accuracy: 0.6441 - recall_82: 0.0000e+00 - val_loss: 0.6577 - val_accuracy: 0.6327 - val_recall_82: 0.0000e+00\n",
      "Epoch 7/20\n",
      "329/329 [==============================] - 2s 7ms/step - loss: 0.6504 - accuracy: 0.6441 - recall_82: 0.0000e+00 - val_loss: 0.6577 - val_accuracy: 0.6327 - val_recall_82: 0.0000e+00\n",
      "Epoch 8/20\n",
      "329/329 [==============================] - 2s 7ms/step - loss: 0.6500 - accuracy: 0.6441 - recall_82: 0.0000e+00 - val_loss: 0.6585 - val_accuracy: 0.6327 - val_recall_82: 0.0000e+00\n",
      "Epoch 9/20\n",
      "329/329 [==============================] - 2s 7ms/step - loss: 0.6503 - accuracy: 0.6441 - recall_82: 0.0000e+00 - val_loss: 0.6580 - val_accuracy: 0.6327 - val_recall_82: 0.0000e+00\n",
      "Epoch 10/20\n",
      "329/329 [==============================] - 2s 7ms/step - loss: 0.6499 - accuracy: 0.6441 - recall_82: 0.0000e+00 - val_loss: 0.6573 - val_accuracy: 0.6327 - val_recall_82: 0.0000e+00\n",
      "Epoch 11/20\n",
      "329/329 [==============================] - 2s 6ms/step - loss: 0.6496 - accuracy: 0.6441 - recall_82: 0.0000e+00 - val_loss: 0.6585 - val_accuracy: 0.6327 - val_recall_82: 0.0000e+00\n",
      "Epoch 12/20\n",
      "329/329 [==============================] - 2s 6ms/step - loss: 0.6497 - accuracy: 0.6441 - recall_82: 0.0000e+00 - val_loss: 0.6576 - val_accuracy: 0.6327 - val_recall_82: 0.0000e+00\n",
      "Epoch 13/20\n",
      "329/329 [==============================] - 2s 7ms/step - loss: 0.6494 - accuracy: 0.6441 - recall_82: 0.0000e+00 - val_loss: 0.6579 - val_accuracy: 0.6327 - val_recall_82: 0.0000e+00\n",
      "Epoch 14/20\n",
      "329/329 [==============================] - 2s 6ms/step - loss: 0.6493 - accuracy: 0.6441 - recall_82: 0.0000e+00 - val_loss: 0.6575 - val_accuracy: 0.6327 - val_recall_82: 0.0000e+00\n",
      "Epoch 15/20\n",
      "329/329 [==============================] - 3s 8ms/step - loss: 0.6492 - accuracy: 0.6441 - recall_82: 0.0000e+00 - val_loss: 0.6574 - val_accuracy: 0.6327 - val_recall_82: 0.0000e+00\n",
      "Epoch 16/20\n",
      "329/329 [==============================] - 2s 7ms/step - loss: 0.6491 - accuracy: 0.6441 - recall_82: 0.0000e+00 - val_loss: 0.6573 - val_accuracy: 0.6327 - val_recall_82: 0.0000e+00\n",
      "Epoch 17/20\n",
      "329/329 [==============================] - 2s 7ms/step - loss: 0.6490 - accuracy: 0.6441 - recall_82: 0.0000e+00 - val_loss: 0.6573 - val_accuracy: 0.6327 - val_recall_82: 0.0000e+00\n",
      "Epoch 18/20\n",
      "329/329 [==============================] - 2s 7ms/step - loss: 0.6489 - accuracy: 0.6441 - recall_82: 0.0000e+00 - val_loss: 0.6578 - val_accuracy: 0.6327 - val_recall_82: 0.0000e+00\n",
      "Epoch 19/20\n",
      "329/329 [==============================] - 2s 7ms/step - loss: 0.6489 - accuracy: 0.6441 - recall_82: 0.0000e+00 - val_loss: 0.6574 - val_accuracy: 0.6327 - val_recall_82: 0.0000e+00\n",
      "Epoch 20/20\n",
      "329/329 [==============================] - 2s 7ms/step - loss: 0.6488 - accuracy: 0.6441 - recall_82: 0.0000e+00 - val_loss: 0.6575 - val_accuracy: 0.6327 - val_recall_82: 0.0000e+00\n"
     ]
    },
    {
     "data": {
      "text/html": [
       "<style>#sk-container-id-6 {color: black;}#sk-container-id-6 pre{padding: 0;}#sk-container-id-6 div.sk-toggleable {background-color: white;}#sk-container-id-6 label.sk-toggleable__label {cursor: pointer;display: block;width: 100%;margin-bottom: 0;padding: 0.3em;box-sizing: border-box;text-align: center;}#sk-container-id-6 label.sk-toggleable__label-arrow:before {content: \"▸\";float: left;margin-right: 0.25em;color: #696969;}#sk-container-id-6 label.sk-toggleable__label-arrow:hover:before {color: black;}#sk-container-id-6 div.sk-estimator:hover label.sk-toggleable__label-arrow:before {color: black;}#sk-container-id-6 div.sk-toggleable__content {max-height: 0;max-width: 0;overflow: hidden;text-align: left;background-color: #f0f8ff;}#sk-container-id-6 div.sk-toggleable__content pre {margin: 0.2em;color: black;border-radius: 0.25em;background-color: #f0f8ff;}#sk-container-id-6 input.sk-toggleable__control:checked~div.sk-toggleable__content {max-height: 200px;max-width: 100%;overflow: auto;}#sk-container-id-6 input.sk-toggleable__control:checked~label.sk-toggleable__label-arrow:before {content: \"▾\";}#sk-container-id-6 div.sk-estimator input.sk-toggleable__control:checked~label.sk-toggleable__label {background-color: #d4ebff;}#sk-container-id-6 div.sk-label input.sk-toggleable__control:checked~label.sk-toggleable__label {background-color: #d4ebff;}#sk-container-id-6 input.sk-hidden--visually {border: 0;clip: rect(1px 1px 1px 1px);clip: rect(1px, 1px, 1px, 1px);height: 1px;margin: -1px;overflow: hidden;padding: 0;position: absolute;width: 1px;}#sk-container-id-6 div.sk-estimator {font-family: monospace;background-color: #f0f8ff;border: 1px dotted black;border-radius: 0.25em;box-sizing: border-box;margin-bottom: 0.5em;}#sk-container-id-6 div.sk-estimator:hover {background-color: #d4ebff;}#sk-container-id-6 div.sk-parallel-item::after {content: \"\";width: 100%;border-bottom: 1px solid gray;flex-grow: 1;}#sk-container-id-6 div.sk-label:hover label.sk-toggleable__label {background-color: #d4ebff;}#sk-container-id-6 div.sk-serial::before {content: \"\";position: absolute;border-left: 1px solid gray;box-sizing: border-box;top: 0;bottom: 0;left: 50%;z-index: 0;}#sk-container-id-6 div.sk-serial {display: flex;flex-direction: column;align-items: center;background-color: white;padding-right: 0.2em;padding-left: 0.2em;position: relative;}#sk-container-id-6 div.sk-item {position: relative;z-index: 1;}#sk-container-id-6 div.sk-parallel {display: flex;align-items: stretch;justify-content: center;background-color: white;position: relative;}#sk-container-id-6 div.sk-item::before, #sk-container-id-6 div.sk-parallel-item::before {content: \"\";position: absolute;border-left: 1px solid gray;box-sizing: border-box;top: 0;bottom: 0;left: 50%;z-index: -1;}#sk-container-id-6 div.sk-parallel-item {display: flex;flex-direction: column;z-index: 1;position: relative;background-color: white;}#sk-container-id-6 div.sk-parallel-item:first-child::after {align-self: flex-end;width: 50%;}#sk-container-id-6 div.sk-parallel-item:last-child::after {align-self: flex-start;width: 50%;}#sk-container-id-6 div.sk-parallel-item:only-child::after {width: 0;}#sk-container-id-6 div.sk-dashed-wrapped {border: 1px dashed gray;margin: 0 0.4em 0.5em 0.4em;box-sizing: border-box;padding-bottom: 0.4em;background-color: white;}#sk-container-id-6 div.sk-label label {font-family: monospace;font-weight: bold;display: inline-block;line-height: 1.2em;}#sk-container-id-6 div.sk-label-container {text-align: center;}#sk-container-id-6 div.sk-container {/* jupyter's `normalize.less` sets `[hidden] { display: none; }` but bootstrap.min.css set `[hidden] { display: none !important; }` so we also need the `!important` here to be able to override the default hidden behavior on the sphinx rendered scikit-learn.org. See: https://github.com/scikit-learn/scikit-learn/issues/21755 */display: inline-block !important;position: relative;}#sk-container-id-6 div.sk-text-repr-fallback {display: none;}</style><div id=\"sk-container-id-6\" class=\"sk-top-container\"><div class=\"sk-text-repr-fallback\"><pre>GridSearchCV(cv=KFold(n_splits=5, random_state=2021, shuffle=True),\n",
       "             estimator=KerasRegressor(batch_size=16, epochs=20, model=&lt;function build_model at 0x7f6653b78160&gt;, validation_split=0.2),\n",
       "             param_grid={&#x27;optimizer&#x27;: [&#x27;SGD&#x27;, &#x27;RMSprop&#x27;, &#x27;Adagrad&#x27;]},\n",
       "             scoring=&#x27;neg_mean_absolute_error&#x27;, verbose=1)</pre><b>In a Jupyter environment, please rerun this cell to show the HTML representation or trust the notebook. <br />On GitHub, the HTML representation is unable to render, please try loading this page with nbviewer.org.</b></div><div class=\"sk-container\" hidden><div class=\"sk-item sk-dashed-wrapped\"><div class=\"sk-label-container\"><div class=\"sk-label sk-toggleable\"><input class=\"sk-toggleable__control sk-hidden--visually\" id=\"sk-estimator-id-12\" type=\"checkbox\" ><label for=\"sk-estimator-id-12\" class=\"sk-toggleable__label sk-toggleable__label-arrow\">GridSearchCV</label><div class=\"sk-toggleable__content\"><pre>GridSearchCV(cv=KFold(n_splits=5, random_state=2021, shuffle=True),\n",
       "             estimator=KerasRegressor(batch_size=16, epochs=20, model=&lt;function build_model at 0x7f6653b78160&gt;, validation_split=0.2),\n",
       "             param_grid={&#x27;optimizer&#x27;: [&#x27;SGD&#x27;, &#x27;RMSprop&#x27;, &#x27;Adagrad&#x27;]},\n",
       "             scoring=&#x27;neg_mean_absolute_error&#x27;, verbose=1)</pre></div></div></div><div class=\"sk-parallel\"><div class=\"sk-parallel-item\"><div class=\"sk-item\"><div class=\"sk-label-container\"><div class=\"sk-label sk-toggleable\"><input class=\"sk-toggleable__control sk-hidden--visually\" id=\"sk-estimator-id-13\" type=\"checkbox\" ><label for=\"sk-estimator-id-13\" class=\"sk-toggleable__label sk-toggleable__label-arrow\">estimator: KerasRegressor</label><div class=\"sk-toggleable__content\"><pre>KerasRegressor(\n",
       "\tmodel=&lt;function build_model at 0x7f6653b78160&gt;\n",
       "\tbuild_fn=None\n",
       "\twarm_start=False\n",
       "\trandom_state=None\n",
       "\toptimizer=rmsprop\n",
       "\tloss=None\n",
       "\tmetrics=None\n",
       "\tbatch_size=16\n",
       "\tvalidation_batch_size=None\n",
       "\tverbose=1\n",
       "\tcallbacks=None\n",
       "\tvalidation_split=0.2\n",
       "\tshuffle=True\n",
       "\trun_eagerly=False\n",
       "\tepochs=20\n",
       ")</pre></div></div></div><div class=\"sk-serial\"><div class=\"sk-item\"><div class=\"sk-estimator sk-toggleable\"><input class=\"sk-toggleable__control sk-hidden--visually\" id=\"sk-estimator-id-14\" type=\"checkbox\" ><label for=\"sk-estimator-id-14\" class=\"sk-toggleable__label sk-toggleable__label-arrow\">KerasRegressor</label><div class=\"sk-toggleable__content\"><pre>KerasRegressor(\n",
       "\tmodel=&lt;function build_model at 0x7f6653b78160&gt;\n",
       "\tbuild_fn=None\n",
       "\twarm_start=False\n",
       "\trandom_state=None\n",
       "\toptimizer=rmsprop\n",
       "\tloss=None\n",
       "\tmetrics=None\n",
       "\tbatch_size=16\n",
       "\tvalidation_batch_size=None\n",
       "\tverbose=1\n",
       "\tcallbacks=None\n",
       "\tvalidation_split=0.2\n",
       "\tshuffle=True\n",
       "\trun_eagerly=False\n",
       "\tepochs=20\n",
       ")</pre></div></div></div></div></div></div></div></div></div></div>"
      ],
      "text/plain": [
       "GridSearchCV(cv=KFold(n_splits=5, random_state=2021, shuffle=True),\n",
       "             estimator=KerasRegressor(batch_size=16, epochs=20, model=<function build_model at 0x7f6653b78160>, validation_split=0.2),\n",
       "             param_grid={'optimizer': ['SGD', 'RMSprop', 'Adagrad']},\n",
       "             scoring='neg_mean_absolute_error', verbose=1)"
      ]
     },
     "execution_count": 75,
     "metadata": {},
     "output_type": "execute_result"
    }
   ],
   "source": [
    "grid_search.fit(X_train, y_train)"
   ]
  },
  {
   "cell_type": "code",
   "execution_count": 76,
   "metadata": {},
   "outputs": [
    {
     "name": "stdout",
     "output_type": "stream",
     "text": [
      "Best: -0.459199 using {'optimizer': 'SGD'}\n"
     ]
    }
   ],
   "source": [
    "print('Best: %f using %s' % (grid_search.best_score_, grid_search.best_params_))"
   ]
  },
  {
   "cell_type": "code",
   "execution_count": 77,
   "metadata": {},
   "outputs": [
    {
     "name": "stdout",
     "output_type": "stream",
     "text": [
      "KerasRegressor(\n",
      "\tmodel=<function build_model at 0x7f6653b78160>\n",
      "\tbuild_fn=None\n",
      "\twarm_start=False\n",
      "\trandom_state=None\n",
      "\toptimizer=SGD\n",
      "\tloss=None\n",
      "\tmetrics=None\n",
      "\tbatch_size=16\n",
      "\tvalidation_batch_size=None\n",
      "\tverbose=1\n",
      "\tcallbacks=None\n",
      "\tvalidation_split=0.2\n",
      "\tshuffle=True\n",
      "\trun_eagerly=False\n",
      "\tepochs=20\n",
      ")\n"
     ]
    }
   ],
   "source": [
    "best_mlp_model_2 = grid_search.best_estimator_\n",
    "print(best_mlp_model_2)"
   ]
  },
  {
   "cell_type": "code",
   "execution_count": 78,
   "metadata": {},
   "outputs": [
    {
     "name": "stdout",
     "output_type": "stream",
     "text": [
      "Epoch 1/20\n",
      "411/411 [==============================] - 3s 6ms/step - loss: 0.6531 - accuracy: 0.6418 - recall_83: 0.0000e+00 - val_loss: 0.6523 - val_accuracy: 0.6417 - val_recall_83: 0.0000e+00\n",
      "Epoch 2/20\n",
      "411/411 [==============================] - 2s 6ms/step - loss: 0.6526 - accuracy: 0.6418 - recall_83: 0.0000e+00 - val_loss: 0.6524 - val_accuracy: 0.6417 - val_recall_83: 0.0000e+00\n",
      "Epoch 3/20\n",
      "411/411 [==============================] - 2s 6ms/step - loss: 0.6524 - accuracy: 0.6418 - recall_83: 0.0000e+00 - val_loss: 0.6524 - val_accuracy: 0.6417 - val_recall_83: 0.0000e+00\n",
      "Epoch 4/20\n",
      "411/411 [==============================] - 2s 6ms/step - loss: 0.6523 - accuracy: 0.6418 - recall_83: 0.0000e+00 - val_loss: 0.6525 - val_accuracy: 0.6417 - val_recall_83: 0.0000e+00\n",
      "Epoch 5/20\n",
      "411/411 [==============================] - 2s 5ms/step - loss: 0.6521 - accuracy: 0.6418 - recall_83: 0.0000e+00 - val_loss: 0.6526 - val_accuracy: 0.6417 - val_recall_83: 0.0000e+00\n",
      "Epoch 6/20\n",
      "411/411 [==============================] - 2s 6ms/step - loss: 0.6518 - accuracy: 0.6418 - recall_83: 0.0000e+00 - val_loss: 0.6528 - val_accuracy: 0.6417 - val_recall_83: 0.0000e+00\n",
      "Epoch 7/20\n",
      "411/411 [==============================] - 2s 4ms/step - loss: 0.6518 - accuracy: 0.6418 - recall_83: 0.0000e+00 - val_loss: 0.6528 - val_accuracy: 0.6417 - val_recall_83: 0.0000e+00\n",
      "Epoch 8/20\n",
      "411/411 [==============================] - 2s 5ms/step - loss: 0.6516 - accuracy: 0.6418 - recall_83: 0.0000e+00 - val_loss: 0.6530 - val_accuracy: 0.6417 - val_recall_83: 0.0000e+00\n",
      "Epoch 9/20\n",
      "411/411 [==============================] - 3s 6ms/step - loss: 0.6515 - accuracy: 0.6418 - recall_83: 0.0000e+00 - val_loss: 0.6531 - val_accuracy: 0.6417 - val_recall_83: 0.0000e+00\n",
      "Epoch 10/20\n",
      "411/411 [==============================] - 2s 6ms/step - loss: 0.6513 - accuracy: 0.6418 - recall_83: 0.0000e+00 - val_loss: 0.6533 - val_accuracy: 0.6417 - val_recall_83: 0.0000e+00\n",
      "Epoch 11/20\n",
      "411/411 [==============================] - 3s 6ms/step - loss: 0.6510 - accuracy: 0.6418 - recall_83: 0.0000e+00 - val_loss: 0.6539 - val_accuracy: 0.6417 - val_recall_83: 0.0000e+00\n",
      "Epoch 12/20\n",
      "411/411 [==============================] - 3s 6ms/step - loss: 0.6510 - accuracy: 0.6418 - recall_83: 0.0000e+00 - val_loss: 0.6538 - val_accuracy: 0.6417 - val_recall_83: 0.0000e+00\n",
      "Epoch 13/20\n",
      "411/411 [==============================] - 3s 6ms/step - loss: 0.6509 - accuracy: 0.6418 - recall_83: 0.0000e+00 - val_loss: 0.6539 - val_accuracy: 0.6417 - val_recall_83: 0.0000e+00\n",
      "Epoch 14/20\n",
      "411/411 [==============================] - 2s 6ms/step - loss: 0.6509 - accuracy: 0.6418 - recall_83: 0.0000e+00 - val_loss: 0.6539 - val_accuracy: 0.6417 - val_recall_83: 0.0000e+00\n",
      "Epoch 15/20\n",
      "411/411 [==============================] - 3s 7ms/step - loss: 0.6508 - accuracy: 0.6418 - recall_83: 0.0000e+00 - val_loss: 0.6541 - val_accuracy: 0.6417 - val_recall_83: 0.0000e+00\n",
      "Epoch 16/20\n",
      "411/411 [==============================] - 3s 7ms/step - loss: 0.6506 - accuracy: 0.6418 - recall_83: 0.0000e+00 - val_loss: 0.6544 - val_accuracy: 0.6417 - val_recall_83: 0.0000e+00\n",
      "Epoch 17/20\n",
      "411/411 [==============================] - 3s 7ms/step - loss: 0.6506 - accuracy: 0.6418 - recall_83: 0.0000e+00 - val_loss: 0.6544 - val_accuracy: 0.6417 - val_recall_83: 0.0000e+00\n",
      "Epoch 18/20\n",
      "411/411 [==============================] - 3s 7ms/step - loss: 0.6506 - accuracy: 0.6418 - recall_83: 0.0000e+00 - val_loss: 0.6546 - val_accuracy: 0.6417 - val_recall_83: 0.0000e+00\n",
      "Epoch 19/20\n",
      "411/411 [==============================] - 3s 7ms/step - loss: 0.6505 - accuracy: 0.6418 - recall_83: 0.0000e+00 - val_loss: 0.6546 - val_accuracy: 0.6417 - val_recall_83: 0.0000e+00\n",
      "Epoch 20/20\n",
      "411/411 [==============================] - 3s 7ms/step - loss: 0.6505 - accuracy: 0.6418 - recall_83: 0.0000e+00 - val_loss: 0.6547 - val_accuracy: 0.6417 - val_recall_83: 0.0000e+00\n"
     ]
    },
    {
     "data": {
      "text/html": [
       "<style>#sk-container-id-7 {color: black;}#sk-container-id-7 pre{padding: 0;}#sk-container-id-7 div.sk-toggleable {background-color: white;}#sk-container-id-7 label.sk-toggleable__label {cursor: pointer;display: block;width: 100%;margin-bottom: 0;padding: 0.3em;box-sizing: border-box;text-align: center;}#sk-container-id-7 label.sk-toggleable__label-arrow:before {content: \"▸\";float: left;margin-right: 0.25em;color: #696969;}#sk-container-id-7 label.sk-toggleable__label-arrow:hover:before {color: black;}#sk-container-id-7 div.sk-estimator:hover label.sk-toggleable__label-arrow:before {color: black;}#sk-container-id-7 div.sk-toggleable__content {max-height: 0;max-width: 0;overflow: hidden;text-align: left;background-color: #f0f8ff;}#sk-container-id-7 div.sk-toggleable__content pre {margin: 0.2em;color: black;border-radius: 0.25em;background-color: #f0f8ff;}#sk-container-id-7 input.sk-toggleable__control:checked~div.sk-toggleable__content {max-height: 200px;max-width: 100%;overflow: auto;}#sk-container-id-7 input.sk-toggleable__control:checked~label.sk-toggleable__label-arrow:before {content: \"▾\";}#sk-container-id-7 div.sk-estimator input.sk-toggleable__control:checked~label.sk-toggleable__label {background-color: #d4ebff;}#sk-container-id-7 div.sk-label input.sk-toggleable__control:checked~label.sk-toggleable__label {background-color: #d4ebff;}#sk-container-id-7 input.sk-hidden--visually {border: 0;clip: rect(1px 1px 1px 1px);clip: rect(1px, 1px, 1px, 1px);height: 1px;margin: -1px;overflow: hidden;padding: 0;position: absolute;width: 1px;}#sk-container-id-7 div.sk-estimator {font-family: monospace;background-color: #f0f8ff;border: 1px dotted black;border-radius: 0.25em;box-sizing: border-box;margin-bottom: 0.5em;}#sk-container-id-7 div.sk-estimator:hover {background-color: #d4ebff;}#sk-container-id-7 div.sk-parallel-item::after {content: \"\";width: 100%;border-bottom: 1px solid gray;flex-grow: 1;}#sk-container-id-7 div.sk-label:hover label.sk-toggleable__label {background-color: #d4ebff;}#sk-container-id-7 div.sk-serial::before {content: \"\";position: absolute;border-left: 1px solid gray;box-sizing: border-box;top: 0;bottom: 0;left: 50%;z-index: 0;}#sk-container-id-7 div.sk-serial {display: flex;flex-direction: column;align-items: center;background-color: white;padding-right: 0.2em;padding-left: 0.2em;position: relative;}#sk-container-id-7 div.sk-item {position: relative;z-index: 1;}#sk-container-id-7 div.sk-parallel {display: flex;align-items: stretch;justify-content: center;background-color: white;position: relative;}#sk-container-id-7 div.sk-item::before, #sk-container-id-7 div.sk-parallel-item::before {content: \"\";position: absolute;border-left: 1px solid gray;box-sizing: border-box;top: 0;bottom: 0;left: 50%;z-index: -1;}#sk-container-id-7 div.sk-parallel-item {display: flex;flex-direction: column;z-index: 1;position: relative;background-color: white;}#sk-container-id-7 div.sk-parallel-item:first-child::after {align-self: flex-end;width: 50%;}#sk-container-id-7 div.sk-parallel-item:last-child::after {align-self: flex-start;width: 50%;}#sk-container-id-7 div.sk-parallel-item:only-child::after {width: 0;}#sk-container-id-7 div.sk-dashed-wrapped {border: 1px dashed gray;margin: 0 0.4em 0.5em 0.4em;box-sizing: border-box;padding-bottom: 0.4em;background-color: white;}#sk-container-id-7 div.sk-label label {font-family: monospace;font-weight: bold;display: inline-block;line-height: 1.2em;}#sk-container-id-7 div.sk-label-container {text-align: center;}#sk-container-id-7 div.sk-container {/* jupyter's `normalize.less` sets `[hidden] { display: none; }` but bootstrap.min.css set `[hidden] { display: none !important; }` so we also need the `!important` here to be able to override the default hidden behavior on the sphinx rendered scikit-learn.org. See: https://github.com/scikit-learn/scikit-learn/issues/21755 */display: inline-block !important;position: relative;}#sk-container-id-7 div.sk-text-repr-fallback {display: none;}</style><div id=\"sk-container-id-7\" class=\"sk-top-container\"><div class=\"sk-text-repr-fallback\"><pre>KerasRegressor(\n",
       "\tmodel=&lt;function build_model at 0x7f6653b78160&gt;\n",
       "\tbuild_fn=None\n",
       "\twarm_start=False\n",
       "\trandom_state=None\n",
       "\toptimizer=SGD\n",
       "\tloss=None\n",
       "\tmetrics=None\n",
       "\tbatch_size=16\n",
       "\tvalidation_batch_size=None\n",
       "\tverbose=1\n",
       "\tcallbacks=None\n",
       "\tvalidation_split=0.2\n",
       "\tshuffle=True\n",
       "\trun_eagerly=False\n",
       "\tepochs=20\n",
       ")</pre><b>In a Jupyter environment, please rerun this cell to show the HTML representation or trust the notebook. <br />On GitHub, the HTML representation is unable to render, please try loading this page with nbviewer.org.</b></div><div class=\"sk-container\" hidden><div class=\"sk-item\"><div class=\"sk-estimator sk-toggleable\"><input class=\"sk-toggleable__control sk-hidden--visually\" id=\"sk-estimator-id-15\" type=\"checkbox\" checked><label for=\"sk-estimator-id-15\" class=\"sk-toggleable__label sk-toggleable__label-arrow\">KerasRegressor</label><div class=\"sk-toggleable__content\"><pre>KerasRegressor(\n",
       "\tmodel=&lt;function build_model at 0x7f6653b78160&gt;\n",
       "\tbuild_fn=None\n",
       "\twarm_start=False\n",
       "\trandom_state=None\n",
       "\toptimizer=SGD\n",
       "\tloss=None\n",
       "\tmetrics=None\n",
       "\tbatch_size=16\n",
       "\tvalidation_batch_size=None\n",
       "\tverbose=1\n",
       "\tcallbacks=None\n",
       "\tvalidation_split=0.2\n",
       "\tshuffle=True\n",
       "\trun_eagerly=False\n",
       "\tepochs=20\n",
       ")</pre></div></div></div></div></div>"
      ],
      "text/plain": [
       "KerasRegressor(\n",
       "\tmodel=<function build_model at 0x7f6653b78160>\n",
       "\tbuild_fn=None\n",
       "\twarm_start=False\n",
       "\trandom_state=None\n",
       "\toptimizer=SGD\n",
       "\tloss=None\n",
       "\tmetrics=None\n",
       "\tbatch_size=16\n",
       "\tvalidation_batch_size=None\n",
       "\tverbose=1\n",
       "\tcallbacks=None\n",
       "\tvalidation_split=0.2\n",
       "\tshuffle=True\n",
       "\trun_eagerly=False\n",
       "\tepochs=20\n",
       ")"
      ]
     },
     "execution_count": 78,
     "metadata": {},
     "output_type": "execute_result"
    }
   ],
   "source": [
    "best_mlp_model_2.fit(X_train, y_train, epochs = 20, validation_data = (X_test, y_test), verbose = 1)"
   ]
  },
  {
   "cell_type": "code",
   "execution_count": 79,
   "metadata": {},
   "outputs": [
    {
     "data": {
      "image/png": "[encoded data removed]",
      "text/plain": [
       "<Figure size 640x480 with 1 Axes>"
      ]
     },
     "metadata": {},
     "output_type": "display_data"
    }
   ],
   "source": [
    "plt.plot(best_mlp_model_2.history_['loss'])\n",
    "plt.plot(best_mlp_model_2.history_['val_loss']) \n",
    "plt.title('model performance')\n",
    "plt.ylabel('loss values')\n",
    "plt.xlabel('epoch')\n",
    "plt.legend(['train', 'val'], loc='upper left')\n",
    "plt.show()"
   ]
  }
 ],
 "metadata": {
  "kernelspec": {
   "display_name": "Python 3 (ipykernel)",
   "language": "python",
   "name": "python3"
  },
  "language_info": {
   "codemirror_mode": {
    "name": "ipython",
    "version": 3
   },
   "file_extension": ".py",
   "mimetype": "text/x-python",
   "name": "python",
   "nbconvert_exporter": "python",
   "pygments_lexer": "ipython3",
   "version": "3.10.0"
  }
 },
 "nbformat": 4,
 "nbformat_minor": 4
}
