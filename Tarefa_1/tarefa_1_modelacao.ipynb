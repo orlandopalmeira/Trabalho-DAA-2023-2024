{
 "cells": [
  {
   "cell_type": "markdown",
   "metadata": {},
   "source": [
    "# Tarefa 2 - Heart Attack Risk Prediction"
   ]
  },
  {
   "cell_type": "markdown",
   "metadata": {
    "tags": []
   },
   "source": [
    "### O Dataset\n",
    "O Dataset <em>heart_attack_prediction_dataset.csv</em> tem como objetivo explorar as dinâmicas que influenciam a saúde do coração e os fatores que o preditam. \n",
    "\n",
    "Este dataset é constituído pelos seguintes parâmetros:\n",
    "\n",
    "- **Patient ID** - Identificador único para cada paciente;\n",
    "\n",
    "- **Age** - Idade do paciente;\n",
    "- **Sex** - Género do paciente (Male/Female);\n",
    "- **Cholesterol** - Níveis de colesterol do paciente;\n",
    "- **Blood Pressure** - Pressão sanguínea do paciente (systolic/diastolic);\n",
    "- **Heart Rate** - Frequência cardíaca do paciente;\n",
    "- **Diabetes** - Se o paciente tem diabetes (Yes/No);\n",
    "- **Family History** - Histórico familiar de doenças cardíacas (1: Sim, 0: Não);\n",
    "- **Smoking** - Estado de fumador do paciente (1: Fumador, 0: Não Fumador);\n",
    "- **Obesity** - Estado de obesidade do paciente (1: Obeso, 0: Não obeso);\n",
    "- **Alcohol Consumption** - Se o paciente consome álcool (1: Sim, 0: Não);\n",
    "- **Exercise Hours Per Week** - Número de horas de exercício por semana;\n",
    "- **Diet** - Hábitos de alimentação do paciente (Healthy/Average/Unhealthy);\n",
    "- **Previous Heart Problems** - Existência de histórico de problemas cardíacos (1: Sim, 0: Não);\n",
    "- **Medication Use** - Uso de medicação por parte do paciente (1: Sim, 0: Não);\n",
    "- **Stress Level** - Níveis de stress reportados pelo paciente (1-10);\n",
    "- **Sedentary Hours Per Day** - Horas de atividade sedentária por dia;\n",
    "- **Income** - Nível de rendimento do paciente;\n",
    "- **BMI** - Índice de massa corporal do paciente;\n",
    "- **Triglycerides** - Níveis de triglicerídeos do paciente;\n",
    "- **Physical Activity Days Per Week** - Dias de atividade física por semana;\n",
    "- **Sleep Hours Per Day** - Horas de sono por dia;\n",
    "- **Country** - País do paciente;\n",
    "- **Continent** - Continente onde o paciente reside;\n",
    "- **Hemisphere** - Hemisfério onde o paciente reside;\n",
    "- **Heart Attack Risk** - Presença de risco de ataque cardíaco (1 : Sim, 0: Não);"
   ]
  },
  {
   "cell_type": "markdown",
   "metadata": {
    "tags": []
   },
   "source": [
    "## Import Libraries"
   ]
  },
  {
   "cell_type": "code",
   "execution_count": 1,
   "metadata": {},
   "outputs": [],
   "source": [
    "import pandas as pd\n",
    "import numpy as np\n",
    "import matplotlib.pyplot as plt\n",
    "import seaborn as sns\n",
    "%matplotlib inline"
   ]
  },
  {
   "cell_type": "markdown",
   "metadata": {
    "tags": []
   },
   "source": [
    "## Get the data"
   ]
  },
  {
   "cell_type": "markdown",
   "metadata": {},
   "source": [
    "Iniciamos o estudo do dataset pelo load dos dados numa dataframe panda."
   ]
  },
  {
   "cell_type": "code",
   "execution_count": 2,
   "metadata": {},
   "outputs": [],
   "source": [
    "data = pd.read_csv('heart_attack_prediction_dataset.csv')"
   ]
  },
  {
   "cell_type": "markdown",
   "metadata": {},
   "source": [
    "Imprimimos as primeiras linhas do dataframe."
   ]
  },
  {
   "cell_type": "code",
   "execution_count": 3,
   "metadata": {},
   "outputs": [
    {
     "data": {
      "text/html": [
       "<div>\n",
       "<style scoped>\n",
       "    .dataframe tbody tr th:only-of-type {\n",
       "        vertical-align: middle;\n",
       "    }\n",
       "\n",
       "    .dataframe tbody tr th {\n",
       "        vertical-align: top;\n",
       "    }\n",
       "\n",
       "    .dataframe thead th {\n",
       "        text-align: right;\n",
       "    }\n",
       "</style>\n",
       "<table border=\"1\" class=\"dataframe\">\n",
       "  <thead>\n",
       "    <tr style=\"text-align: right;\">\n",
       "      <th></th>\n",
       "      <th>Patient ID</th>\n",
       "      <th>Age</th>\n",
       "      <th>Sex</th>\n",
       "      <th>Cholesterol</th>\n",
       "      <th>Blood Pressure</th>\n",
       "      <th>Heart Rate</th>\n",
       "      <th>Diabetes</th>\n",
       "      <th>Family History</th>\n",
       "      <th>Smoking</th>\n",
       "      <th>Obesity</th>\n",
       "      <th>...</th>\n",
       "      <th>Sedentary Hours Per Day</th>\n",
       "      <th>Income</th>\n",
       "      <th>BMI</th>\n",
       "      <th>Triglycerides</th>\n",
       "      <th>Physical Activity Days Per Week</th>\n",
       "      <th>Sleep Hours Per Day</th>\n",
       "      <th>Country</th>\n",
       "      <th>Continent</th>\n",
       "      <th>Hemisphere</th>\n",
       "      <th>Heart Attack Risk</th>\n",
       "    </tr>\n",
       "  </thead>\n",
       "  <tbody>\n",
       "    <tr>\n",
       "      <th>0</th>\n",
       "      <td>BMW7812</td>\n",
       "      <td>67</td>\n",
       "      <td>Male</td>\n",
       "      <td>208</td>\n",
       "      <td>158/88</td>\n",
       "      <td>72</td>\n",
       "      <td>0</td>\n",
       "      <td>0</td>\n",
       "      <td>1</td>\n",
       "      <td>0</td>\n",
       "      <td>...</td>\n",
       "      <td>6.615001</td>\n",
       "      <td>261404</td>\n",
       "      <td>31.251233</td>\n",
       "      <td>286</td>\n",
       "      <td>0</td>\n",
       "      <td>6</td>\n",
       "      <td>Argentina</td>\n",
       "      <td>South America</td>\n",
       "      <td>Southern Hemisphere</td>\n",
       "      <td>0</td>\n",
       "    </tr>\n",
       "    <tr>\n",
       "      <th>1</th>\n",
       "      <td>CZE1114</td>\n",
       "      <td>21</td>\n",
       "      <td>Male</td>\n",
       "      <td>389</td>\n",
       "      <td>165/93</td>\n",
       "      <td>98</td>\n",
       "      <td>1</td>\n",
       "      <td>1</td>\n",
       "      <td>1</td>\n",
       "      <td>1</td>\n",
       "      <td>...</td>\n",
       "      <td>4.963459</td>\n",
       "      <td>285768</td>\n",
       "      <td>27.194973</td>\n",
       "      <td>235</td>\n",
       "      <td>1</td>\n",
       "      <td>7</td>\n",
       "      <td>Canada</td>\n",
       "      <td>North America</td>\n",
       "      <td>Northern Hemisphere</td>\n",
       "      <td>0</td>\n",
       "    </tr>\n",
       "    <tr>\n",
       "      <th>2</th>\n",
       "      <td>BNI9906</td>\n",
       "      <td>21</td>\n",
       "      <td>Female</td>\n",
       "      <td>324</td>\n",
       "      <td>174/99</td>\n",
       "      <td>72</td>\n",
       "      <td>1</td>\n",
       "      <td>0</td>\n",
       "      <td>0</td>\n",
       "      <td>0</td>\n",
       "      <td>...</td>\n",
       "      <td>9.463426</td>\n",
       "      <td>235282</td>\n",
       "      <td>28.176571</td>\n",
       "      <td>587</td>\n",
       "      <td>4</td>\n",
       "      <td>4</td>\n",
       "      <td>France</td>\n",
       "      <td>Europe</td>\n",
       "      <td>Northern Hemisphere</td>\n",
       "      <td>0</td>\n",
       "    </tr>\n",
       "    <tr>\n",
       "      <th>3</th>\n",
       "      <td>JLN3497</td>\n",
       "      <td>84</td>\n",
       "      <td>Male</td>\n",
       "      <td>383</td>\n",
       "      <td>163/100</td>\n",
       "      <td>73</td>\n",
       "      <td>1</td>\n",
       "      <td>1</td>\n",
       "      <td>1</td>\n",
       "      <td>0</td>\n",
       "      <td>...</td>\n",
       "      <td>7.648981</td>\n",
       "      <td>125640</td>\n",
       "      <td>36.464704</td>\n",
       "      <td>378</td>\n",
       "      <td>3</td>\n",
       "      <td>4</td>\n",
       "      <td>Canada</td>\n",
       "      <td>North America</td>\n",
       "      <td>Northern Hemisphere</td>\n",
       "      <td>0</td>\n",
       "    </tr>\n",
       "    <tr>\n",
       "      <th>4</th>\n",
       "      <td>GFO8847</td>\n",
       "      <td>66</td>\n",
       "      <td>Male</td>\n",
       "      <td>318</td>\n",
       "      <td>91/88</td>\n",
       "      <td>93</td>\n",
       "      <td>1</td>\n",
       "      <td>1</td>\n",
       "      <td>1</td>\n",
       "      <td>1</td>\n",
       "      <td>...</td>\n",
       "      <td>1.514821</td>\n",
       "      <td>160555</td>\n",
       "      <td>21.809144</td>\n",
       "      <td>231</td>\n",
       "      <td>1</td>\n",
       "      <td>5</td>\n",
       "      <td>Thailand</td>\n",
       "      <td>Asia</td>\n",
       "      <td>Northern Hemisphere</td>\n",
       "      <td>0</td>\n",
       "    </tr>\n",
       "  </tbody>\n",
       "</table>\n",
       "<p>5 rows × 26 columns</p>\n",
       "</div>"
      ],
      "text/plain": [
       "  Patient ID  Age     Sex  Cholesterol Blood Pressure  Heart Rate  Diabetes  \\\n",
       "0    BMW7812   67    Male          208         158/88          72         0   \n",
       "1    CZE1114   21    Male          389         165/93          98         1   \n",
       "2    BNI9906   21  Female          324         174/99          72         1   \n",
       "3    JLN3497   84    Male          383        163/100          73         1   \n",
       "4    GFO8847   66    Male          318          91/88          93         1   \n",
       "\n",
       "   Family History  Smoking  Obesity  ...  Sedentary Hours Per Day  Income  \\\n",
       "0               0        1        0  ...                 6.615001  261404   \n",
       "1               1        1        1  ...                 4.963459  285768   \n",
       "2               0        0        0  ...                 9.463426  235282   \n",
       "3               1        1        0  ...                 7.648981  125640   \n",
       "4               1        1        1  ...                 1.514821  160555   \n",
       "\n",
       "         BMI  Triglycerides  Physical Activity Days Per Week  \\\n",
       "0  31.251233            286                                0   \n",
       "1  27.194973            235                                1   \n",
       "2  28.176571            587                                4   \n",
       "3  36.464704            378                                3   \n",
       "4  21.809144            231                                1   \n",
       "\n",
       "   Sleep Hours Per Day    Country      Continent           Hemisphere  \\\n",
       "0                    6  Argentina  South America  Southern Hemisphere   \n",
       "1                    7     Canada  North America  Northern Hemisphere   \n",
       "2                    4     France         Europe  Northern Hemisphere   \n",
       "3                    4     Canada  North America  Northern Hemisphere   \n",
       "4                    5   Thailand           Asia  Northern Hemisphere   \n",
       "\n",
       "   Heart Attack Risk  \n",
       "0                  0  \n",
       "1                  0  \n",
       "2                  0  \n",
       "3                  0  \n",
       "4                  0  \n",
       "\n",
       "[5 rows x 26 columns]"
      ]
     },
     "execution_count": 3,
     "metadata": {},
     "output_type": "execute_result"
    }
   ],
   "source": [
    "data.head()"
   ]
  },
  {
   "cell_type": "markdown",
   "metadata": {},
   "source": [
    "Em seguida, geramos as estatísticas descritivas:"
   ]
  },
  {
   "cell_type": "code",
   "execution_count": 4,
   "metadata": {},
   "outputs": [
    {
     "data": {
      "text/html": [
       "<div>\n",
       "<style scoped>\n",
       "    .dataframe tbody tr th:only-of-type {\n",
       "        vertical-align: middle;\n",
       "    }\n",
       "\n",
       "    .dataframe tbody tr th {\n",
       "        vertical-align: top;\n",
       "    }\n",
       "\n",
       "    .dataframe thead th {\n",
       "        text-align: right;\n",
       "    }\n",
       "</style>\n",
       "<table border=\"1\" class=\"dataframe\">\n",
       "  <thead>\n",
       "    <tr style=\"text-align: right;\">\n",
       "      <th></th>\n",
       "      <th>Age</th>\n",
       "      <th>Cholesterol</th>\n",
       "      <th>Heart Rate</th>\n",
       "      <th>Diabetes</th>\n",
       "      <th>Family History</th>\n",
       "      <th>Smoking</th>\n",
       "      <th>Obesity</th>\n",
       "      <th>Alcohol Consumption</th>\n",
       "      <th>Exercise Hours Per Week</th>\n",
       "      <th>Previous Heart Problems</th>\n",
       "      <th>Medication Use</th>\n",
       "      <th>Stress Level</th>\n",
       "      <th>Sedentary Hours Per Day</th>\n",
       "      <th>Income</th>\n",
       "      <th>BMI</th>\n",
       "      <th>Triglycerides</th>\n",
       "      <th>Physical Activity Days Per Week</th>\n",
       "      <th>Sleep Hours Per Day</th>\n",
       "      <th>Heart Attack Risk</th>\n",
       "    </tr>\n",
       "  </thead>\n",
       "  <tbody>\n",
       "    <tr>\n",
       "      <th>count</th>\n",
       "      <td>8763.000000</td>\n",
       "      <td>8763.000000</td>\n",
       "      <td>8763.000000</td>\n",
       "      <td>8763.000000</td>\n",
       "      <td>8763.000000</td>\n",
       "      <td>8763.000000</td>\n",
       "      <td>8763.000000</td>\n",
       "      <td>8763.000000</td>\n",
       "      <td>8763.000000</td>\n",
       "      <td>8763.000000</td>\n",
       "      <td>8763.000000</td>\n",
       "      <td>8763.000000</td>\n",
       "      <td>8763.000000</td>\n",
       "      <td>8763.000000</td>\n",
       "      <td>8763.000000</td>\n",
       "      <td>8763.000000</td>\n",
       "      <td>8763.000000</td>\n",
       "      <td>8763.000000</td>\n",
       "      <td>8763.000000</td>\n",
       "    </tr>\n",
       "    <tr>\n",
       "      <th>mean</th>\n",
       "      <td>53.707977</td>\n",
       "      <td>259.877211</td>\n",
       "      <td>75.021682</td>\n",
       "      <td>0.652288</td>\n",
       "      <td>0.492982</td>\n",
       "      <td>0.896839</td>\n",
       "      <td>0.501426</td>\n",
       "      <td>0.598083</td>\n",
       "      <td>10.014284</td>\n",
       "      <td>0.495835</td>\n",
       "      <td>0.498345</td>\n",
       "      <td>5.469702</td>\n",
       "      <td>5.993690</td>\n",
       "      <td>158263.181901</td>\n",
       "      <td>28.891446</td>\n",
       "      <td>417.677051</td>\n",
       "      <td>3.489672</td>\n",
       "      <td>7.023508</td>\n",
       "      <td>0.358211</td>\n",
       "    </tr>\n",
       "    <tr>\n",
       "      <th>std</th>\n",
       "      <td>21.249509</td>\n",
       "      <td>80.863276</td>\n",
       "      <td>20.550948</td>\n",
       "      <td>0.476271</td>\n",
       "      <td>0.499979</td>\n",
       "      <td>0.304186</td>\n",
       "      <td>0.500026</td>\n",
       "      <td>0.490313</td>\n",
       "      <td>5.783745</td>\n",
       "      <td>0.500011</td>\n",
       "      <td>0.500026</td>\n",
       "      <td>2.859622</td>\n",
       "      <td>3.466359</td>\n",
       "      <td>80575.190806</td>\n",
       "      <td>6.319181</td>\n",
       "      <td>223.748137</td>\n",
       "      <td>2.282687</td>\n",
       "      <td>1.988473</td>\n",
       "      <td>0.479502</td>\n",
       "    </tr>\n",
       "    <tr>\n",
       "      <th>min</th>\n",
       "      <td>18.000000</td>\n",
       "      <td>120.000000</td>\n",
       "      <td>40.000000</td>\n",
       "      <td>0.000000</td>\n",
       "      <td>0.000000</td>\n",
       "      <td>0.000000</td>\n",
       "      <td>0.000000</td>\n",
       "      <td>0.000000</td>\n",
       "      <td>0.002442</td>\n",
       "      <td>0.000000</td>\n",
       "      <td>0.000000</td>\n",
       "      <td>1.000000</td>\n",
       "      <td>0.001263</td>\n",
       "      <td>20062.000000</td>\n",
       "      <td>18.002337</td>\n",
       "      <td>30.000000</td>\n",
       "      <td>0.000000</td>\n",
       "      <td>4.000000</td>\n",
       "      <td>0.000000</td>\n",
       "    </tr>\n",
       "    <tr>\n",
       "      <th>25%</th>\n",
       "      <td>35.000000</td>\n",
       "      <td>192.000000</td>\n",
       "      <td>57.000000</td>\n",
       "      <td>0.000000</td>\n",
       "      <td>0.000000</td>\n",
       "      <td>1.000000</td>\n",
       "      <td>0.000000</td>\n",
       "      <td>0.000000</td>\n",
       "      <td>4.981579</td>\n",
       "      <td>0.000000</td>\n",
       "      <td>0.000000</td>\n",
       "      <td>3.000000</td>\n",
       "      <td>2.998794</td>\n",
       "      <td>88310.000000</td>\n",
       "      <td>23.422985</td>\n",
       "      <td>225.500000</td>\n",
       "      <td>2.000000</td>\n",
       "      <td>5.000000</td>\n",
       "      <td>0.000000</td>\n",
       "    </tr>\n",
       "    <tr>\n",
       "      <th>50%</th>\n",
       "      <td>54.000000</td>\n",
       "      <td>259.000000</td>\n",
       "      <td>75.000000</td>\n",
       "      <td>1.000000</td>\n",
       "      <td>0.000000</td>\n",
       "      <td>1.000000</td>\n",
       "      <td>1.000000</td>\n",
       "      <td>1.000000</td>\n",
       "      <td>10.069559</td>\n",
       "      <td>0.000000</td>\n",
       "      <td>0.000000</td>\n",
       "      <td>5.000000</td>\n",
       "      <td>5.933622</td>\n",
       "      <td>157866.000000</td>\n",
       "      <td>28.768999</td>\n",
       "      <td>417.000000</td>\n",
       "      <td>3.000000</td>\n",
       "      <td>7.000000</td>\n",
       "      <td>0.000000</td>\n",
       "    </tr>\n",
       "    <tr>\n",
       "      <th>75%</th>\n",
       "      <td>72.000000</td>\n",
       "      <td>330.000000</td>\n",
       "      <td>93.000000</td>\n",
       "      <td>1.000000</td>\n",
       "      <td>1.000000</td>\n",
       "      <td>1.000000</td>\n",
       "      <td>1.000000</td>\n",
       "      <td>1.000000</td>\n",
       "      <td>15.050018</td>\n",
       "      <td>1.000000</td>\n",
       "      <td>1.000000</td>\n",
       "      <td>8.000000</td>\n",
       "      <td>9.019124</td>\n",
       "      <td>227749.000000</td>\n",
       "      <td>34.324594</td>\n",
       "      <td>612.000000</td>\n",
       "      <td>5.000000</td>\n",
       "      <td>9.000000</td>\n",
       "      <td>1.000000</td>\n",
       "    </tr>\n",
       "    <tr>\n",
       "      <th>max</th>\n",
       "      <td>90.000000</td>\n",
       "      <td>400.000000</td>\n",
       "      <td>110.000000</td>\n",
       "      <td>1.000000</td>\n",
       "      <td>1.000000</td>\n",
       "      <td>1.000000</td>\n",
       "      <td>1.000000</td>\n",
       "      <td>1.000000</td>\n",
       "      <td>19.998709</td>\n",
       "      <td>1.000000</td>\n",
       "      <td>1.000000</td>\n",
       "      <td>10.000000</td>\n",
       "      <td>11.999313</td>\n",
       "      <td>299954.000000</td>\n",
       "      <td>39.997211</td>\n",
       "      <td>800.000000</td>\n",
       "      <td>7.000000</td>\n",
       "      <td>10.000000</td>\n",
       "      <td>1.000000</td>\n",
       "    </tr>\n",
       "  </tbody>\n",
       "</table>\n",
       "</div>"
      ],
      "text/plain": [
       "               Age  Cholesterol   Heart Rate     Diabetes  Family History  \\\n",
       "count  8763.000000  8763.000000  8763.000000  8763.000000     8763.000000   \n",
       "mean     53.707977   259.877211    75.021682     0.652288        0.492982   \n",
       "std      21.249509    80.863276    20.550948     0.476271        0.499979   \n",
       "min      18.000000   120.000000    40.000000     0.000000        0.000000   \n",
       "25%      35.000000   192.000000    57.000000     0.000000        0.000000   \n",
       "50%      54.000000   259.000000    75.000000     1.000000        0.000000   \n",
       "75%      72.000000   330.000000    93.000000     1.000000        1.000000   \n",
       "max      90.000000   400.000000   110.000000     1.000000        1.000000   \n",
       "\n",
       "           Smoking      Obesity  Alcohol Consumption  Exercise Hours Per Week  \\\n",
       "count  8763.000000  8763.000000          8763.000000              8763.000000   \n",
       "mean      0.896839     0.501426             0.598083                10.014284   \n",
       "std       0.304186     0.500026             0.490313                 5.783745   \n",
       "min       0.000000     0.000000             0.000000                 0.002442   \n",
       "25%       1.000000     0.000000             0.000000                 4.981579   \n",
       "50%       1.000000     1.000000             1.000000                10.069559   \n",
       "75%       1.000000     1.000000             1.000000                15.050018   \n",
       "max       1.000000     1.000000             1.000000                19.998709   \n",
       "\n",
       "       Previous Heart Problems  Medication Use  Stress Level  \\\n",
       "count              8763.000000     8763.000000   8763.000000   \n",
       "mean                  0.495835        0.498345      5.469702   \n",
       "std                   0.500011        0.500026      2.859622   \n",
       "min                   0.000000        0.000000      1.000000   \n",
       "25%                   0.000000        0.000000      3.000000   \n",
       "50%                   0.000000        0.000000      5.000000   \n",
       "75%                   1.000000        1.000000      8.000000   \n",
       "max                   1.000000        1.000000     10.000000   \n",
       "\n",
       "       Sedentary Hours Per Day         Income          BMI  Triglycerides  \\\n",
       "count              8763.000000    8763.000000  8763.000000    8763.000000   \n",
       "mean                  5.993690  158263.181901    28.891446     417.677051   \n",
       "std                   3.466359   80575.190806     6.319181     223.748137   \n",
       "min                   0.001263   20062.000000    18.002337      30.000000   \n",
       "25%                   2.998794   88310.000000    23.422985     225.500000   \n",
       "50%                   5.933622  157866.000000    28.768999     417.000000   \n",
       "75%                   9.019124  227749.000000    34.324594     612.000000   \n",
       "max                  11.999313  299954.000000    39.997211     800.000000   \n",
       "\n",
       "       Physical Activity Days Per Week  Sleep Hours Per Day  Heart Attack Risk  \n",
       "count                      8763.000000          8763.000000        8763.000000  \n",
       "mean                          3.489672             7.023508           0.358211  \n",
       "std                           2.282687             1.988473           0.479502  \n",
       "min                           0.000000             4.000000           0.000000  \n",
       "25%                           2.000000             5.000000           0.000000  \n",
       "50%                           3.000000             7.000000           0.000000  \n",
       "75%                           5.000000             9.000000           1.000000  \n",
       "max                           7.000000            10.000000           1.000000  "
      ]
     },
     "execution_count": 4,
     "metadata": {},
     "output_type": "execute_result"
    }
   ],
   "source": [
    "data.describe()"
   ]
  },
  {
   "cell_type": "markdown",
   "metadata": {},
   "source": [
    "De forma a obtermos um resumo da informação (número de valores não nulos em cada coluna, o tipo de dados de cada coluna e o uso de memória) contida no Dataframe:"
   ]
  },
  {
   "cell_type": "code",
   "execution_count": 5,
   "metadata": {},
   "outputs": [
    {
     "name": "stdout",
     "output_type": "stream",
     "text": [
      "<class 'pandas.core.frame.DataFrame'>\n",
      "RangeIndex: 8763 entries, 0 to 8762\n",
      "Data columns (total 26 columns):\n",
      " #   Column                           Non-Null Count  Dtype  \n",
      "---  ------                           --------------  -----  \n",
      " 0   Patient ID                       8763 non-null   object \n",
      " 1   Age                              8763 non-null   int64  \n",
      " 2   Sex                              8763 non-null   object \n",
      " 3   Cholesterol                      8763 non-null   int64  \n",
      " 4   Blood Pressure                   8763 non-null   object \n",
      " 5   Heart Rate                       8763 non-null   int64  \n",
      " 6   Diabetes                         8763 non-null   int64  \n",
      " 7   Family History                   8763 non-null   int64  \n",
      " 8   Smoking                          8763 non-null   int64  \n",
      " 9   Obesity                          8763 non-null   int64  \n",
      " 10  Alcohol Consumption              8763 non-null   int64  \n",
      " 11  Exercise Hours Per Week          8763 non-null   float64\n",
      " 12  Diet                             8763 non-null   object \n",
      " 13  Previous Heart Problems          8763 non-null   int64  \n",
      " 14  Medication Use                   8763 non-null   int64  \n",
      " 15  Stress Level                     8763 non-null   int64  \n",
      " 16  Sedentary Hours Per Day          8763 non-null   float64\n",
      " 17  Income                           8763 non-null   int64  \n",
      " 18  BMI                              8763 non-null   float64\n",
      " 19  Triglycerides                    8763 non-null   int64  \n",
      " 20  Physical Activity Days Per Week  8763 non-null   int64  \n",
      " 21  Sleep Hours Per Day              8763 non-null   int64  \n",
      " 22  Country                          8763 non-null   object \n",
      " 23  Continent                        8763 non-null   object \n",
      " 24  Hemisphere                       8763 non-null   object \n",
      " 25  Heart Attack Risk                8763 non-null   int64  \n",
      "dtypes: float64(3), int64(16), object(7)\n",
      "memory usage: 1.7+ MB\n"
     ]
    }
   ],
   "source": [
    "data.info()"
   ]
  },
  {
   "cell_type": "markdown",
   "metadata": {},
   "source": [
    "Verificamos se existem valores duplicados:"
   ]
  },
  {
   "cell_type": "code",
   "execution_count": 6,
   "metadata": {},
   "outputs": [
    {
     "name": "stdout",
     "output_type": "stream",
     "text": [
      "Empty DataFrame\n",
      "Columns: [Patient ID, Age, Sex, Cholesterol, Blood Pressure, Heart Rate, Diabetes, Family History, Smoking, Obesity, Alcohol Consumption, Exercise Hours Per Week, Diet, Previous Heart Problems, Medication Use, Stress Level, Sedentary Hours Per Day, Income, BMI, Triglycerides, Physical Activity Days Per Week, Sleep Hours Per Day, Country, Continent, Hemisphere, Heart Attack Risk]\n",
      "Index: []\n",
      "\n",
      "[0 rows x 26 columns]\n"
     ]
    }
   ],
   "source": [
    "print(data[data.duplicated()])"
   ]
  },
  {
   "cell_type": "markdown",
   "metadata": {},
   "source": [
    "## Data Treatment"
   ]
  },
  {
   "cell_type": "markdown",
   "metadata": {},
   "source": [
    "Remoção do atributo **Patient ID** por ser um atributo único em todos os registos."
   ]
  },
  {
   "cell_type": "code",
   "execution_count": 7,
   "metadata": {},
   "outputs": [],
   "source": [
    "data.drop(columns=['Patient ID'], inplace=True)"
   ]
  },
  {
   "cell_type": "markdown",
   "metadata": {},
   "source": [
    "#### Label encoding do atributo **sex**\n",
    "\n",
    "0 - Female\n",
    "\n",
    "1 - Male"
   ]
  },
  {
   "cell_type": "code",
   "execution_count": 8,
   "metadata": {},
   "outputs": [
    {
     "data": {
      "text/html": [
       "<div>\n",
       "<style scoped>\n",
       "    .dataframe tbody tr th:only-of-type {\n",
       "        vertical-align: middle;\n",
       "    }\n",
       "\n",
       "    .dataframe tbody tr th {\n",
       "        vertical-align: top;\n",
       "    }\n",
       "\n",
       "    .dataframe thead th {\n",
       "        text-align: right;\n",
       "    }\n",
       "</style>\n",
       "<table border=\"1\" class=\"dataframe\">\n",
       "  <thead>\n",
       "    <tr style=\"text-align: right;\">\n",
       "      <th></th>\n",
       "      <th>Age</th>\n",
       "      <th>Sex</th>\n",
       "      <th>Cholesterol</th>\n",
       "      <th>Blood Pressure</th>\n",
       "      <th>Heart Rate</th>\n",
       "      <th>Diabetes</th>\n",
       "      <th>Family History</th>\n",
       "      <th>Smoking</th>\n",
       "      <th>Obesity</th>\n",
       "      <th>Alcohol Consumption</th>\n",
       "      <th>...</th>\n",
       "      <th>Sedentary Hours Per Day</th>\n",
       "      <th>Income</th>\n",
       "      <th>BMI</th>\n",
       "      <th>Triglycerides</th>\n",
       "      <th>Physical Activity Days Per Week</th>\n",
       "      <th>Sleep Hours Per Day</th>\n",
       "      <th>Country</th>\n",
       "      <th>Continent</th>\n",
       "      <th>Hemisphere</th>\n",
       "      <th>Heart Attack Risk</th>\n",
       "    </tr>\n",
       "  </thead>\n",
       "  <tbody>\n",
       "    <tr>\n",
       "      <th>0</th>\n",
       "      <td>67</td>\n",
       "      <td>1</td>\n",
       "      <td>208</td>\n",
       "      <td>158/88</td>\n",
       "      <td>72</td>\n",
       "      <td>0</td>\n",
       "      <td>0</td>\n",
       "      <td>1</td>\n",
       "      <td>0</td>\n",
       "      <td>0</td>\n",
       "      <td>...</td>\n",
       "      <td>6.615001</td>\n",
       "      <td>261404</td>\n",
       "      <td>31.251233</td>\n",
       "      <td>286</td>\n",
       "      <td>0</td>\n",
       "      <td>6</td>\n",
       "      <td>Argentina</td>\n",
       "      <td>South America</td>\n",
       "      <td>Southern Hemisphere</td>\n",
       "      <td>0</td>\n",
       "    </tr>\n",
       "    <tr>\n",
       "      <th>1</th>\n",
       "      <td>21</td>\n",
       "      <td>1</td>\n",
       "      <td>389</td>\n",
       "      <td>165/93</td>\n",
       "      <td>98</td>\n",
       "      <td>1</td>\n",
       "      <td>1</td>\n",
       "      <td>1</td>\n",
       "      <td>1</td>\n",
       "      <td>1</td>\n",
       "      <td>...</td>\n",
       "      <td>4.963459</td>\n",
       "      <td>285768</td>\n",
       "      <td>27.194973</td>\n",
       "      <td>235</td>\n",
       "      <td>1</td>\n",
       "      <td>7</td>\n",
       "      <td>Canada</td>\n",
       "      <td>North America</td>\n",
       "      <td>Northern Hemisphere</td>\n",
       "      <td>0</td>\n",
       "    </tr>\n",
       "    <tr>\n",
       "      <th>2</th>\n",
       "      <td>21</td>\n",
       "      <td>0</td>\n",
       "      <td>324</td>\n",
       "      <td>174/99</td>\n",
       "      <td>72</td>\n",
       "      <td>1</td>\n",
       "      <td>0</td>\n",
       "      <td>0</td>\n",
       "      <td>0</td>\n",
       "      <td>0</td>\n",
       "      <td>...</td>\n",
       "      <td>9.463426</td>\n",
       "      <td>235282</td>\n",
       "      <td>28.176571</td>\n",
       "      <td>587</td>\n",
       "      <td>4</td>\n",
       "      <td>4</td>\n",
       "      <td>France</td>\n",
       "      <td>Europe</td>\n",
       "      <td>Northern Hemisphere</td>\n",
       "      <td>0</td>\n",
       "    </tr>\n",
       "    <tr>\n",
       "      <th>3</th>\n",
       "      <td>84</td>\n",
       "      <td>1</td>\n",
       "      <td>383</td>\n",
       "      <td>163/100</td>\n",
       "      <td>73</td>\n",
       "      <td>1</td>\n",
       "      <td>1</td>\n",
       "      <td>1</td>\n",
       "      <td>0</td>\n",
       "      <td>1</td>\n",
       "      <td>...</td>\n",
       "      <td>7.648981</td>\n",
       "      <td>125640</td>\n",
       "      <td>36.464704</td>\n",
       "      <td>378</td>\n",
       "      <td>3</td>\n",
       "      <td>4</td>\n",
       "      <td>Canada</td>\n",
       "      <td>North America</td>\n",
       "      <td>Northern Hemisphere</td>\n",
       "      <td>0</td>\n",
       "    </tr>\n",
       "    <tr>\n",
       "      <th>4</th>\n",
       "      <td>66</td>\n",
       "      <td>1</td>\n",
       "      <td>318</td>\n",
       "      <td>91/88</td>\n",
       "      <td>93</td>\n",
       "      <td>1</td>\n",
       "      <td>1</td>\n",
       "      <td>1</td>\n",
       "      <td>1</td>\n",
       "      <td>0</td>\n",
       "      <td>...</td>\n",
       "      <td>1.514821</td>\n",
       "      <td>160555</td>\n",
       "      <td>21.809144</td>\n",
       "      <td>231</td>\n",
       "      <td>1</td>\n",
       "      <td>5</td>\n",
       "      <td>Thailand</td>\n",
       "      <td>Asia</td>\n",
       "      <td>Northern Hemisphere</td>\n",
       "      <td>0</td>\n",
       "    </tr>\n",
       "  </tbody>\n",
       "</table>\n",
       "<p>5 rows × 25 columns</p>\n",
       "</div>"
      ],
      "text/plain": [
       "   Age  Sex  Cholesterol Blood Pressure  Heart Rate  Diabetes  Family History  \\\n",
       "0   67    1          208         158/88          72         0               0   \n",
       "1   21    1          389         165/93          98         1               1   \n",
       "2   21    0          324         174/99          72         1               0   \n",
       "3   84    1          383        163/100          73         1               1   \n",
       "4   66    1          318          91/88          93         1               1   \n",
       "\n",
       "   Smoking  Obesity  Alcohol Consumption  ...  Sedentary Hours Per Day  \\\n",
       "0        1        0                    0  ...                 6.615001   \n",
       "1        1        1                    1  ...                 4.963459   \n",
       "2        0        0                    0  ...                 9.463426   \n",
       "3        1        0                    1  ...                 7.648981   \n",
       "4        1        1                    0  ...                 1.514821   \n",
       "\n",
       "   Income        BMI  Triglycerides  Physical Activity Days Per Week  \\\n",
       "0  261404  31.251233            286                                0   \n",
       "1  285768  27.194973            235                                1   \n",
       "2  235282  28.176571            587                                4   \n",
       "3  125640  36.464704            378                                3   \n",
       "4  160555  21.809144            231                                1   \n",
       "\n",
       "   Sleep Hours Per Day    Country      Continent           Hemisphere  \\\n",
       "0                    6  Argentina  South America  Southern Hemisphere   \n",
       "1                    7     Canada  North America  Northern Hemisphere   \n",
       "2                    4     France         Europe  Northern Hemisphere   \n",
       "3                    4     Canada  North America  Northern Hemisphere   \n",
       "4                    5   Thailand           Asia  Northern Hemisphere   \n",
       "\n",
       "   Heart Attack Risk  \n",
       "0                  0  \n",
       "1                  0  \n",
       "2                  0  \n",
       "3                  0  \n",
       "4                  0  \n",
       "\n",
       "[5 rows x 25 columns]"
      ]
     },
     "execution_count": 8,
     "metadata": {},
     "output_type": "execute_result"
    }
   ],
   "source": [
    "from sklearn.preprocessing import LabelEncoder\n",
    "\n",
    "lb = LabelEncoder() \n",
    "data['Sex'] = lb.fit_transform(data['Sex'])\n",
    "\n",
    "data.head()"
   ]
  },
  {
   "cell_type": "markdown",
   "metadata": {},
   "source": [
    "#### Diet Treatment\n",
    "\n",
    "0 - Unhealthy\n",
    "\n",
    "1 - Average\n",
    "\n",
    "2 - Healthy"
   ]
  },
  {
   "cell_type": "code",
   "execution_count": 9,
   "metadata": {},
   "outputs": [
    {
     "name": "stdout",
     "output_type": "stream",
     "text": [
      "0      Average\n",
      "1    Unhealthy\n",
      "2      Healthy\n",
      "3      Average\n",
      "4    Unhealthy\n",
      "Name: Diet, dtype: object\n"
     ]
    },
    {
     "data": {
      "text/plain": [
       "0    1\n",
       "1    0\n",
       "2    2\n",
       "3    1\n",
       "4    0\n",
       "Name: Diet, dtype: int64"
      ]
     },
     "execution_count": 9,
     "metadata": {},
     "output_type": "execute_result"
    }
   ],
   "source": [
    "print(data['Diet'].head())\n",
    "replace_map = {'Diet': {'Unhealthy': 0, 'Average': 1, 'Healthy': 2}}\n",
    "predefined_order = ['Unhealthy', 'Average', 'Healthy']\n",
    "\n",
    "labels = data['Diet'].astype('category').cat.categories.tolist()\n",
    "labels = sorted(labels, key=lambda x: predefined_order.index(x))\n",
    "\n",
    "replace_map_comp = {'Diet' : {k: v for k,v in zip(labels,list(range(len(labels))))}} \n",
    "\n",
    "data.replace(replace_map_comp, inplace=True)\n",
    "data['Diet'].head()"
   ]
  },
  {
   "cell_type": "markdown",
   "metadata": {},
   "source": [
    "#### Blood Presure Treatment"
   ]
  },
  {
   "cell_type": "code",
   "execution_count": 10,
   "metadata": {},
   "outputs": [
    {
     "name": "stdout",
     "output_type": "stream",
     "text": [
      "<class 'pandas.core.frame.DataFrame'>\n",
      "RangeIndex: 8763 entries, 0 to 8762\n",
      "Data columns (total 26 columns):\n",
      " #   Column                           Non-Null Count  Dtype  \n",
      "---  ------                           --------------  -----  \n",
      " 0   Age                              8763 non-null   int64  \n",
      " 1   Sex                              8763 non-null   int32  \n",
      " 2   Cholesterol                      8763 non-null   int64  \n",
      " 3   Heart Rate                       8763 non-null   int64  \n",
      " 4   Diabetes                         8763 non-null   int64  \n",
      " 5   Family History                   8763 non-null   int64  \n",
      " 6   Smoking                          8763 non-null   int64  \n",
      " 7   Obesity                          8763 non-null   int64  \n",
      " 8   Alcohol Consumption              8763 non-null   int64  \n",
      " 9   Exercise Hours Per Week          8763 non-null   float64\n",
      " 10  Diet                             8763 non-null   int64  \n",
      " 11  Previous Heart Problems          8763 non-null   int64  \n",
      " 12  Medication Use                   8763 non-null   int64  \n",
      " 13  Stress Level                     8763 non-null   int64  \n",
      " 14  Sedentary Hours Per Day          8763 non-null   float64\n",
      " 15  Income                           8763 non-null   int64  \n",
      " 16  BMI                              8763 non-null   float64\n",
      " 17  Triglycerides                    8763 non-null   int64  \n",
      " 18  Physical Activity Days Per Week  8763 non-null   int64  \n",
      " 19  Sleep Hours Per Day              8763 non-null   int64  \n",
      " 20  Country                          8763 non-null   object \n",
      " 21  Continent                        8763 non-null   object \n",
      " 22  Hemisphere                       8763 non-null   object \n",
      " 23  Heart Attack Risk                8763 non-null   int64  \n",
      " 24  Blood Pressure Systolic          8763 non-null   int64  \n",
      " 25  Blood Pressure Diastolic         8763 non-null   int64  \n",
      "dtypes: float64(3), int32(1), int64(19), object(3)\n",
      "memory usage: 1.7+ MB\n"
     ]
    }
   ],
   "source": [
    "systolic = []\n",
    "diastolic = []\n",
    "\n",
    "for bp in data['Blood Pressure']:\n",
    "    systolic.append(int(bp.split('/')[0]))\n",
    "    diastolic.append(int(bp.split('/')[1]))\n",
    "\n",
    "data.drop(columns=['Blood Pressure'], inplace=True)\n",
    "\n",
    "data['Blood Pressure Systolic'] = systolic\n",
    "data['Blood Pressure Diastolic'] = diastolic\n",
    "\n",
    "data.info()\n"
   ]
  },
  {
   "cell_type": "markdown",
   "metadata": {},
   "source": [
    "#### Country, Continent and Hemisphere Treatment"
   ]
  },
  {
   "cell_type": "code",
   "execution_count": 11,
   "metadata": {},
   "outputs": [
    {
     "name": "stdout",
     "output_type": "stream",
     "text": [
      "<class 'pandas.core.frame.DataFrame'>\n",
      "RangeIndex: 8763 entries, 0 to 8762\n",
      "Data columns (total 26 columns):\n",
      " #   Column                           Non-Null Count  Dtype  \n",
      "---  ------                           --------------  -----  \n",
      " 0   Age                              8763 non-null   int64  \n",
      " 1   Sex                              8763 non-null   int32  \n",
      " 2   Cholesterol                      8763 non-null   int64  \n",
      " 3   Heart Rate                       8763 non-null   int64  \n",
      " 4   Diabetes                         8763 non-null   int64  \n",
      " 5   Family History                   8763 non-null   int64  \n",
      " 6   Smoking                          8763 non-null   int64  \n",
      " 7   Obesity                          8763 non-null   int64  \n",
      " 8   Alcohol Consumption              8763 non-null   int64  \n",
      " 9   Exercise Hours Per Week          8763 non-null   float64\n",
      " 10  Diet                             8763 non-null   int64  \n",
      " 11  Previous Heart Problems          8763 non-null   int64  \n",
      " 12  Medication Use                   8763 non-null   int64  \n",
      " 13  Stress Level                     8763 non-null   int64  \n",
      " 14  Sedentary Hours Per Day          8763 non-null   float64\n",
      " 15  Income                           8763 non-null   int64  \n",
      " 16  BMI                              8763 non-null   float64\n",
      " 17  Triglycerides                    8763 non-null   int64  \n",
      " 18  Physical Activity Days Per Week  8763 non-null   int64  \n",
      " 19  Sleep Hours Per Day              8763 non-null   int64  \n",
      " 20  Country                          8763 non-null   int32  \n",
      " 21  Continent                        8763 non-null   int32  \n",
      " 22  Hemisphere                       8763 non-null   int32  \n",
      " 23  Heart Attack Risk                8763 non-null   int64  \n",
      " 24  Blood Pressure Systolic          8763 non-null   int64  \n",
      " 25  Blood Pressure Diastolic         8763 non-null   int64  \n",
      "dtypes: float64(3), int32(4), int64(19)\n",
      "memory usage: 1.6 MB\n"
     ]
    }
   ],
   "source": [
    "data['Country'] = lb.fit_transform(data['Country'])\n",
    "data['Continent'] = lb.fit_transform(data['Continent'])\n",
    "data['Hemisphere'] = lb.fit_transform(data['Hemisphere'])\n",
    "\n",
    "\n",
    "data.info()"
   ]
  },
  {
   "cell_type": "markdown",
   "metadata": {},
   "source": [
    "## Modeling"
   ]
  },
  {
   "cell_type": "markdown",
   "metadata": {},
   "source": [
    "### Normalize and Split Features"
   ]
  },
  {
   "cell_type": "code",
   "execution_count": 12,
   "metadata": {},
   "outputs": [],
   "source": [
    "from sklearn.model_selection import train_test_split\n",
    "from sklearn.preprocessing import StandardScaler\n",
    "\n",
    "X = data[data.drop(columns=['Heart Attack Risk']).columns]\n",
    "y = data['Heart Attack Risk']\n",
    "\n",
    "scaler = StandardScaler()\n",
    "scaler.fit(X)\n",
    "\n",
    "X = scaler.transform(X)\n",
    "\n",
    "X_train, X_test, y_train, y_test = train_test_split(X, y, test_size=0.25, random_state=2023, stratify=y)\n"
   ]
  },
  {
   "cell_type": "markdown",
   "metadata": {},
   "source": [
    "### Prepare Metrics and Model Selection"
   ]
  },
  {
   "cell_type": "code",
   "execution_count": 13,
   "metadata": {},
   "outputs": [],
   "source": [
    "from sklearn.metrics import classification_report, ConfusionMatrixDisplay\n",
    "from sklearn.metrics import mean_absolute_error\n",
    "from sklearn.metrics import mean_squared_error\n",
    "\n",
    "from sklearn.model_selection import cross_val_score\n",
    "from sklearn.model_selection import GridSearchCV"
   ]
  },
  {
   "cell_type": "markdown",
   "metadata": {},
   "source": [
    "### Árvore de decisão"
   ]
  },
  {
   "cell_type": "markdown",
   "metadata": {},
   "source": [
    "#### Hold-out Validation"
   ]
  },
  {
   "cell_type": "code",
   "execution_count": 14,
   "metadata": {},
   "outputs": [
    {
     "name": "stdout",
     "output_type": "stream",
     "text": [
      "              precision    recall  f1-score   support\n",
      "\n",
      "           0       0.63      0.61      0.62      1406\n",
      "           1       0.34      0.35      0.35       785\n",
      "\n",
      "    accuracy                           0.52      2191\n",
      "   macro avg       0.48      0.48      0.48      2191\n",
      "weighted avg       0.53      0.52      0.52      2191\n",
      "\n"
     ]
    },
    {
     "data": {
      "image/png": "[encoded data removed]",
      "text/plain": [
       "<Figure size 640x480 with 2 Axes>"
      ]
     },
     "metadata": {},
     "output_type": "display_data"
    }
   ],
   "source": [
    "from sklearn.tree import DecisionTreeClassifier\n",
    "\n",
    "dtc = DecisionTreeClassifier(random_state=2023)\n",
    "dtc.fit(X_train, y_train)\n",
    "predictionDTC = dtc.predict(X_test)\n",
    "\n",
    "\n",
    "print(classification_report(y_test, predictionDTC))\n",
    "ConfusionMatrixDisplay.from_predictions(y_test, predictionDTC)\n",
    "plt.show()"
   ]
  },
  {
   "cell_type": "markdown",
   "metadata": {},
   "source": [
    "#### Cross Validation"
   ]
  },
  {
   "cell_type": "code",
   "execution_count": 15,
   "metadata": {},
   "outputs": [
    {
     "data": {
      "text/plain": [
       "array([0.54389966, 0.52109464, 0.5313569 , 0.5913242 , 0.52054795,\n",
       "       0.55365297, 0.50799087, 0.55365297, 0.51027397, 0.54794521])"
      ]
     },
     "execution_count": 15,
     "metadata": {},
     "output_type": "execute_result"
    }
   ],
   "source": [
    "scores = cross_val_score(dtc, X, y, cv=10)\n",
    "scores"
   ]
  },
  {
   "cell_type": "markdown",
   "metadata": {},
   "source": [
    "#### GridSearch"
   ]
  },
  {
   "cell_type": "code",
   "execution_count": 16,
   "metadata": {},
   "outputs": [
    {
     "name": "stdout",
     "output_type": "stream",
     "text": [
      "Fitting 5 folds for each of 4 candidates, totalling 20 fits\n",
      "[CV 1/5] END .....criterion=gini, splitter=best;, score=0.363 total time=   0.0s\n",
      "[CV 2/5] END .....criterion=gini, splitter=best;, score=0.384 total time=   0.0s\n",
      "[CV 3/5] END .....criterion=gini, splitter=best;, score=0.370 total time=   0.0s\n",
      "[CV 4/5] END .....criterion=gini, splitter=best;, score=0.376 total time=   0.0s\n",
      "[CV 5/5] END .....criterion=gini, splitter=best;, score=0.352 total time=   0.0s\n",
      "[CV 1/5] END ...criterion=gini, splitter=random;, score=0.389 total time=   0.0s\n",
      "[CV 2/5] END ...criterion=gini, splitter=random;, score=0.365 total time=   0.0s\n",
      "[CV 3/5] END ...criterion=gini, splitter=random;, score=0.377 total time=   0.0s\n",
      "[CV 4/5] END ...criterion=gini, splitter=random;, score=0.384 total time=   0.0s\n",
      "[CV 5/5] END ...criterion=gini, splitter=random;, score=0.418 total time=   0.0s\n",
      "[CV 1/5] END ..criterion=entropy, splitter=best;, score=0.346 total time=   0.0s\n",
      "[CV 2/5] END ..criterion=entropy, splitter=best;, score=0.374 total time=   0.0s\n",
      "[CV 3/5] END ..criterion=entropy, splitter=best;, score=0.413 total time=   0.0s\n",
      "[CV 4/5] END ..criterion=entropy, splitter=best;, score=0.359 total time=   0.0s\n",
      "[CV 5/5] END ..criterion=entropy, splitter=best;, score=0.369 total time=   0.0s\n",
      "[CV 1/5] END criterion=entropy, splitter=random;, score=0.359 total time=   0.0s\n",
      "[CV 2/5] END criterion=entropy, splitter=random;, score=0.346 total time=   0.0s\n",
      "[CV 3/5] END criterion=entropy, splitter=random;, score=0.368 total time=   0.0s\n",
      "[CV 4/5] END criterion=entropy, splitter=random;, score=0.350 total time=   0.0s\n",
      "[CV 5/5] END criterion=entropy, splitter=random;, score=0.367 total time=   0.0s\n",
      "Best estimator:  DecisionTreeClassifier(random_state=2023, splitter='random')\n",
      "              precision    recall  f1-score   support\n",
      "\n",
      "           0       0.64      0.62      0.63      1406\n",
      "           1       0.35      0.36      0.35       785\n",
      "\n",
      "    accuracy                           0.53      2191\n",
      "   macro avg       0.49      0.49      0.49      2191\n",
      "weighted avg       0.53      0.53      0.53      2191\n",
      "\n"
     ]
    },
    {
     "data": {
      "image/png": "[encoded data removed]",
      "text/plain": [
       "<Figure size 640x480 with 2 Axes>"
      ]
     },
     "metadata": {},
     "output_type": "display_data"
    }
   ],
   "source": [
    "param_grid = {\n",
    "    'criterion': ['gini', 'entropy'],\n",
    "    'splitter': ['best', 'random']\n",
    "}\n",
    "\n",
    "scoring = 'recall'\n",
    "\n",
    "grid_searchDTC = GridSearchCV(dtc, param_grid, cv=5, refit=True, verbose=3, scoring=scoring)\n",
    "grid_searchDTC.fit(X_train, y_train)\n",
    "grid_predictionDTC = grid_searchDTC.predict(X_test)\n",
    "\n",
    "\n",
    "print(\"Best estimator: \", grid_searchDTC.best_estimator_)\n",
    "\n",
    "\n",
    "print(classification_report(y_test, grid_predictionDTC))\n",
    "ConfusionMatrixDisplay.from_predictions(y_test, grid_predictionDTC)\n",
    "plt.show()"
   ]
  },
  {
   "cell_type": "markdown",
   "metadata": {},
   "source": [
    "### Regressão Linear"
   ]
  },
  {
   "cell_type": "markdown",
   "metadata": {},
   "source": [
    "#### Hold-out Validation"
   ]
  },
  {
   "cell_type": "code",
   "execution_count": 17,
   "metadata": {},
   "outputs": [],
   "source": [
    "from sklearn.tree import DecisionTreeRegressor\n",
    "\n",
    "dtr = DecisionTreeRegressor(random_state=2023)\n",
    "\n",
    "dtr.fit(X_train, y_train)\n",
    "predictionDTR = dtr.predict(X_test)"
   ]
  },
  {
   "cell_type": "code",
   "execution_count": 18,
   "metadata": {},
   "outputs": [
    {
     "name": "stdout",
     "output_type": "stream",
     "text": [
      "Mean Absolute Error: 0.478776814240073\n",
      "\n",
      "Mean Squared Error: 0.478776814240073\n",
      "\n",
      "Root Mean Squared Error: 0.6919370016410981\n",
      "              precision    recall  f1-score   support\n",
      "\n",
      "           0       0.63      0.62      0.62      1406\n",
      "           1       0.34      0.35      0.35       785\n",
      "\n",
      "    accuracy                           0.52      2191\n",
      "   macro avg       0.48      0.48      0.48      2191\n",
      "weighted avg       0.53      0.52      0.52      2191\n",
      "\n"
     ]
    },
    {
     "data": {
      "image/png": "[encoded data removed]",
      "text/plain": [
       "<Figure size 640x480 with 2 Axes>"
      ]
     },
     "metadata": {},
     "output_type": "display_data"
    }
   ],
   "source": [
    "print('Mean Absolute Error: ',end='')\n",
    "print(mean_absolute_error(y_test, predictionDTR))\n",
    "\n",
    "print('\\nMean Squared Error: ', end='')\n",
    "print(mean_squared_error(y_test, predictionDTR, squared=True))\n",
    "\n",
    "print('\\nRoot Mean Squared Error: ', end='')\n",
    "print(mean_squared_error(y_test, predictionDTR, squared=False))\n",
    "\n",
    "\n",
    "print(classification_report(y_test, predictionDTR))\n",
    "ConfusionMatrixDisplay.from_predictions(y_test, predictionDTR)\n",
    "plt.show()"
   ]
  },
  {
   "cell_type": "markdown",
   "metadata": {},
   "source": [
    "#### Cross Validation"
   ]
  },
  {
   "cell_type": "code",
   "execution_count": 19,
   "metadata": {},
   "outputs": [
    {
     "data": {
      "text/plain": [
       "array([-1.08134876, -0.98504084, -0.92141082, -1.16121335, -1.0234143 ,\n",
       "       -1.0953531 , -1.01827477, -0.89742063, -1.06546743, -1.11395833])"
      ]
     },
     "execution_count": 19,
     "metadata": {},
     "output_type": "execute_result"
    }
   ],
   "source": [
    "scores = cross_val_score(dtr, X, y, cv=10)\n",
    "scores"
   ]
  },
  {
   "cell_type": "markdown",
   "metadata": {},
   "source": [
    "#### GridSearch"
   ]
  },
  {
   "cell_type": "code",
   "execution_count": 20,
   "metadata": {},
   "outputs": [
    {
     "name": "stdout",
     "output_type": "stream",
     "text": [
      "Fitting 5 folds for each of 6 candidates, totalling 30 fits\n",
      "[CV 1/5] END criterion=squared_error, splitter=best;, score=0.381 total time=   0.0s\n",
      "[CV 2/5] END criterion=squared_error, splitter=best;, score=0.379 total time=   0.0s\n",
      "[CV 3/5] END criterion=squared_error, splitter=best;, score=0.375 total time=   0.0s\n",
      "[CV 4/5] END criterion=squared_error, splitter=best;, score=0.366 total time=   0.0s\n",
      "[CV 5/5] END criterion=squared_error, splitter=best;, score=0.373 total time=   0.0s\n",
      "[CV 1/5] END criterion=squared_error, splitter=random;, score=0.383 total time=   0.0s\n",
      "[CV 2/5] END criterion=squared_error, splitter=random;, score=0.377 total time=   0.0s\n",
      "[CV 3/5] END criterion=squared_error, splitter=random;, score=0.382 total time=   0.0s\n",
      "[CV 4/5] END criterion=squared_error, splitter=random;, score=0.377 total time=   0.0s\n",
      "[CV 5/5] END criterion=squared_error, splitter=random;, score=0.416 total time=   0.0s\n",
      "[CV 1/5] END criterion=friedman_mse, splitter=best;, score=0.381 total time=   0.0s\n",
      "[CV 2/5] END criterion=friedman_mse, splitter=best;, score=0.393 total time=   0.0s\n",
      "[CV 3/5] END criterion=friedman_mse, splitter=best;, score=0.375 total time=   0.0s\n",
      "[CV 4/5] END criterion=friedman_mse, splitter=best;, score=0.354 total time=   0.0s\n",
      "[CV 5/5] END criterion=friedman_mse, splitter=best;, score=0.373 total time=   0.0s\n",
      "[CV 1/5] END criterion=friedman_mse, splitter=random;, score=0.383 total time=   0.0s\n",
      "[CV 2/5] END criterion=friedman_mse, splitter=random;, score=0.377 total time=   0.0s\n",
      "[CV 3/5] END criterion=friedman_mse, splitter=random;, score=0.369 total time=   0.0s\n",
      "[CV 4/5] END criterion=friedman_mse, splitter=random;, score=0.381 total time=   0.0s\n",
      "[CV 5/5] END criterion=friedman_mse, splitter=random;, score=0.389 total time=   0.0s\n",
      "[CV 1/5] END criterion=absolute_error, splitter=best;, score=0.368 total time=   7.2s\n",
      "[CV 2/5] END criterion=absolute_error, splitter=best;, score=0.393 total time=   5.1s\n",
      "[CV 3/5] END criterion=absolute_error, splitter=best;, score=0.390 total time=  10.3s\n",
      "[CV 4/5] END criterion=absolute_error, splitter=best;, score=0.418 total time=   6.1s\n",
      "[CV 5/5] END criterion=absolute_error, splitter=best;, score=0.373 total time=   6.7s\n",
      "[CV 1/5] END criterion=absolute_error, splitter=random;, score=0.422 total time=   0.4s\n",
      "[CV 2/5] END criterion=absolute_error, splitter=random;, score=0.381 total time=   0.4s\n",
      "[CV 3/5] END criterion=absolute_error, splitter=random;, score=0.410 total time=   0.4s\n",
      "[CV 4/5] END criterion=absolute_error, splitter=random;, score=0.391 total time=   0.4s\n",
      "[CV 5/5] END criterion=absolute_error, splitter=random;, score=0.348 total time=   0.4s\n",
      "Best estimator:  DecisionTreeRegressor(criterion='absolute_error', random_state=2023,\n",
      "                      splitter='random')\n",
      "              precision    recall  f1-score   support\n",
      "\n",
      "           0       0.65      0.61      0.63      1406\n",
      "           1       0.37      0.41      0.39       785\n",
      "\n",
      "    accuracy                           0.54      2191\n",
      "   macro avg       0.51      0.51      0.51      2191\n",
      "weighted avg       0.55      0.54      0.54      2191\n",
      "\n"
     ]
    },
    {
     "data": {
      "image/png": "[encoded data removed]",
      "text/plain": [
       "<Figure size 640x480 with 2 Axes>"
      ]
     },
     "metadata": {},
     "output_type": "display_data"
    }
   ],
   "source": [
    "param_grid = {\n",
    "    'criterion': ['squared_error', 'friedman_mse', 'absolute_error'],\n",
    "    'splitter': ['best', 'random']\n",
    "}\n",
    "\n",
    "scoring = 'recall'\n",
    "\n",
    "grid_searchDTR = GridSearchCV(dtr, param_grid, cv=5, refit=True, verbose=3, scoring=scoring)\n",
    "grid_searchDTR.fit(X_train, y_train)\n",
    "grid_predictionDTR = grid_searchDTR.predict(X_test)\n",
    "\n",
    "\n",
    "print(\"Best estimator: \", grid_searchDTR.best_estimator_)\n",
    "\n",
    "\n",
    "print(classification_report(y_test, grid_predictionDTR))\n",
    "ConfusionMatrixDisplay.from_predictions(y_test, grid_predictionDTR)\n",
    "plt.show()"
   ]
  },
  {
   "cell_type": "markdown",
   "metadata": {},
   "source": [
    "### Support Vector Classifier"
   ]
  },
  {
   "cell_type": "markdown",
   "metadata": {},
   "source": [
    "#### Hold-out Validation"
   ]
  },
  {
   "cell_type": "code",
   "execution_count": 21,
   "metadata": {},
   "outputs": [
    {
     "name": "stdout",
     "output_type": "stream",
     "text": [
      "              precision    recall  f1-score   support\n",
      "\n",
      "           0       0.64      1.00      0.78      1406\n",
      "           1       0.00      0.00      0.00       785\n",
      "\n",
      "    accuracy                           0.64      2191\n",
      "   macro avg       0.32      0.50      0.39      2191\n",
      "weighted avg       0.41      0.64      0.50      2191\n",
      "\n"
     ]
    },
    {
     "data": {
      "image/png": "[encoded data removed]",
      "text/plain": [
       "<Figure size 640x480 with 2 Axes>"
      ]
     },
     "metadata": {},
     "output_type": "display_data"
    }
   ],
   "source": [
    "from sklearn.svm import SVC\n",
    "\n",
    "svc = SVC(random_state=2023)\n",
    "svc.fit(X_train, y_train)\n",
    "predictionSVC = svc.predict(X_test)\n",
    "\n",
    "print(classification_report(y_test, predictionSVC))\n",
    "ConfusionMatrixDisplay.from_predictions(y_test, predictionSVC)\n",
    "plt.show()"
   ]
  },
  {
   "cell_type": "markdown",
   "metadata": {},
   "source": [
    "#### Cross Validation"
   ]
  },
  {
   "cell_type": "code",
   "execution_count": 22,
   "metadata": {},
   "outputs": [
    {
     "data": {
      "text/plain": [
       "array([0.64196123, 0.64196123, 0.64196123, 0.64269406, 0.64155251,\n",
       "       0.64155251, 0.64041096, 0.63926941, 0.64155251, 0.64155251])"
      ]
     },
     "execution_count": 22,
     "metadata": {},
     "output_type": "execute_result"
    }
   ],
   "source": [
    "scores = cross_val_score(svc, X, y, cv=10)\n",
    "scores"
   ]
  },
  {
   "cell_type": "markdown",
   "metadata": {},
   "source": [
    "#### GridSearch"
   ]
  },
  {
   "cell_type": "code",
   "execution_count": 23,
   "metadata": {},
   "outputs": [
    {
     "name": "stdout",
     "output_type": "stream",
     "text": [
      "Fitting 3 folds for each of 4 candidates, totalling 12 fits\n",
      "[CV 1/3] END .......C=0.1, gamma=1, kernel=poly;, score=0.381 total time=   3.8s\n",
      "[CV 2/3] END .......C=0.1, gamma=1, kernel=poly;, score=0.409 total time=   3.6s\n",
      "[CV 3/3] END .......C=0.1, gamma=1, kernel=poly;, score=0.409 total time=   4.0s\n",
      "[CV 1/3] END .....C=0.1, gamma=0.1, kernel=poly;, score=0.171 total time=   0.5s\n",
      "[CV 2/3] END .....C=0.1, gamma=0.1, kernel=poly;, score=0.189 total time=   0.5s\n",
      "[CV 3/3] END .....C=0.1, gamma=0.1, kernel=poly;, score=0.198 total time=   0.5s\n",
      "[CV 1/3] END .........C=1, gamma=1, kernel=poly;, score=0.381 total time=   3.6s\n",
      "[CV 2/3] END .........C=1, gamma=1, kernel=poly;, score=0.409 total time=   3.7s\n",
      "[CV 3/3] END .........C=1, gamma=1, kernel=poly;, score=0.409 total time=   4.1s\n",
      "[CV 1/3] END .......C=1, gamma=0.1, kernel=poly;, score=0.350 total time=   1.1s\n",
      "[CV 2/3] END .......C=1, gamma=0.1, kernel=poly;, score=0.352 total time=   1.1s\n",
      "[CV 3/3] END .......C=1, gamma=0.1, kernel=poly;, score=0.371 total time=   1.1s\n",
      "Best estimator:  SVC(C=0.1, gamma=1, kernel='poly', random_state=2023)\n",
      "              precision    recall  f1-score   support\n",
      "\n",
      "           0       0.64      0.60      0.62      1406\n",
      "           1       0.35      0.39      0.37       785\n",
      "\n",
      "    accuracy                           0.52      2191\n",
      "   macro avg       0.50      0.49      0.49      2191\n",
      "weighted avg       0.54      0.52      0.53      2191\n",
      "\n"
     ]
    },
    {
     "data": {
      "image/png": "[encoded data removed]",
      "text/plain": [
       "<Figure size 640x480 with 2 Axes>"
      ]
     },
     "metadata": {},
     "output_type": "display_data"
    }
   ],
   "source": [
    "param_grid = {\n",
    "    'C': [0.1, 1], \n",
    "    'gamma': [1, 0.1],\n",
    "    'kernel': ['poly']\n",
    "}\n",
    "\n",
    "scoring = 'recall'\n",
    "\n",
    "grid_searchSVC = GridSearchCV(svc, param_grid, cv=3, refit=True, verbose=3, scoring=scoring)\n",
    "grid_searchSVC.fit(X_train, y_train)\n",
    "grid_predictionSVC = grid_searchSVC.predict(X_test)\n",
    "\n",
    "\n",
    "print(\"Best estimator: \", grid_searchSVC.best_estimator_)\n",
    "\n",
    "\n",
    "print(classification_report(y_test, grid_predictionSVC))\n",
    "ConfusionMatrixDisplay.from_predictions(y_test, grid_predictionSVC)\n",
    "plt.show()"
   ]
  },
  {
   "cell_type": "markdown",
   "metadata": {},
   "source": [
    "### Support Vector Regressor"
   ]
  },
  {
   "cell_type": "markdown",
   "metadata": {},
   "source": [
    "#### Hold-out Validation"
   ]
  },
  {
   "cell_type": "code",
   "execution_count": 24,
   "metadata": {},
   "outputs": [
    {
     "name": "stdout",
     "output_type": "stream",
     "text": [
      "Mean Absolute Error: 0.4412397567674806\n",
      "\n",
      "Mean Squared Error: 0.27775786300506505\n",
      "\n",
      "Root Mean Squared Error: 0.5270273835438393\n",
      "              precision    recall  f1-score   support\n",
      "\n",
      "           0       0.64      0.90      0.75      1406\n",
      "           1       0.33      0.09      0.15       785\n",
      "\n",
      "    accuracy                           0.61      2191\n",
      "   macro avg       0.49      0.49      0.45      2191\n",
      "weighted avg       0.53      0.61      0.53      2191\n",
      "\n"
     ]
    },
    {
     "data": {
      "image/png": "[encoded data removed]",
      "text/plain": [
       "<Figure size 640x480 with 2 Axes>"
      ]
     },
     "metadata": {},
     "output_type": "display_data"
    }
   ],
   "source": [
    "from sklearn.svm import SVR\n",
    "\n",
    "svr = SVR(kernel='rbf')\n",
    "svr.fit(X_train, y_train)\n",
    "predictionSVR = svr.predict(X_test)\n",
    "\n",
    "print('Mean Absolute Error: ',end='')\n",
    "print(mean_absolute_error(y_test, predictionSVR))\n",
    "\n",
    "print('\\nMean Squared Error: ', end='')\n",
    "print(mean_squared_error(y_test, predictionSVR, squared=True))\n",
    "\n",
    "print('\\nRoot Mean Squared Error: ', end='')\n",
    "print(mean_squared_error(y_test, predictionSVR, squared=False))\n",
    "\n",
    "\n",
    "predictionSVR = list(map(round,predictionSVR))\n",
    "print(classification_report(y_test, predictionSVR))\n",
    "ConfusionMatrixDisplay.from_predictions(y_test, predictionSVR)\n",
    "plt.show()"
   ]
  },
  {
   "cell_type": "markdown",
   "metadata": {},
   "source": [
    "#### Cross Validation"
   ]
  },
  {
   "cell_type": "code",
   "execution_count": 25,
   "metadata": {},
   "outputs": [
    {
     "data": {
      "text/plain": [
       "array([-0.16779187, -0.22239082, -0.22277008, -0.20056194, -0.24859848,\n",
       "       -0.20779454, -0.20251736, -0.25438143, -0.19847257, -0.16990367])"
      ]
     },
     "execution_count": 25,
     "metadata": {},
     "output_type": "execute_result"
    }
   ],
   "source": [
    "scores = cross_val_score(svr, X, y, cv=10)\n",
    "scores"
   ]
  },
  {
   "cell_type": "markdown",
   "metadata": {},
   "source": [
    "#### GridSearch"
   ]
  },
  {
   "cell_type": "code",
   "execution_count": 26,
   "metadata": {},
   "outputs": [
    {
     "name": "stdout",
     "output_type": "stream",
     "text": [
      "Fitting 3 folds for each of 4 candidates, totalling 12 fits\n",
      "[CV 1/3] END .......C=0.1, gamma=1, kernel=poly;, score=0.381 total time=   3.7s\n",
      "[CV 2/3] END .......C=0.1, gamma=1, kernel=poly;, score=0.409 total time=   3.7s\n",
      "[CV 3/3] END .......C=0.1, gamma=1, kernel=poly;, score=0.409 total time=   3.9s\n",
      "[CV 1/3] END .....C=0.1, gamma=0.1, kernel=poly;, score=0.171 total time=   0.5s\n",
      "[CV 2/3] END .....C=0.1, gamma=0.1, kernel=poly;, score=0.189 total time=   0.5s\n",
      "[CV 3/3] END .....C=0.1, gamma=0.1, kernel=poly;, score=0.198 total time=   0.5s\n",
      "[CV 1/3] END .........C=1, gamma=1, kernel=poly;, score=0.381 total time=   3.5s\n",
      "[CV 2/3] END .........C=1, gamma=1, kernel=poly;, score=0.409 total time=   3.5s\n",
      "[CV 3/3] END .........C=1, gamma=1, kernel=poly;, score=0.409 total time=   3.9s\n",
      "[CV 1/3] END .......C=1, gamma=0.1, kernel=poly;, score=0.350 total time=   1.1s\n",
      "[CV 2/3] END .......C=1, gamma=0.1, kernel=poly;, score=0.352 total time=   1.1s\n",
      "[CV 3/3] END .......C=1, gamma=0.1, kernel=poly;, score=0.371 total time=   1.1s\n",
      "Best estimator:  SVC(C=0.1, gamma=1, kernel='poly', random_state=2023)\n",
      "              precision    recall  f1-score   support\n",
      "\n",
      "           0       0.64      0.60      0.62      1406\n",
      "           1       0.35      0.39      0.37       785\n",
      "\n",
      "    accuracy                           0.52      2191\n",
      "   macro avg       0.50      0.49      0.49      2191\n",
      "weighted avg       0.54      0.52      0.53      2191\n",
      "\n"
     ]
    },
    {
     "data": {
      "image/png": "[encoded data removed]",
      "text/plain": [
       "<Figure size 640x480 with 2 Axes>"
      ]
     },
     "metadata": {},
     "output_type": "display_data"
    }
   ],
   "source": [
    "param_grid = {\n",
    "    'C': [0.1, 1], \n",
    "    'gamma': [1, 0.1],\n",
    "    'kernel': ['poly'],\n",
    "}\n",
    "\n",
    "scoring = 'recall'\n",
    "\n",
    "grid_searchSVR = GridSearchCV(svc, param_grid, cv=3, refit=True, verbose=3, scoring=scoring)\n",
    "grid_searchSVR.fit(X_train, y_train)\n",
    "grid_predictionSVR = grid_searchSVR.predict(X_test)\n",
    "\n",
    "\n",
    "print(\"Best estimator: \", grid_searchSVR.best_estimator_)\n",
    "\n",
    "\n",
    "grid_predictionSVR = list(map(round,grid_predictionSVR))\n",
    "print(classification_report(y_test, grid_predictionSVR))\n",
    "ConfusionMatrixDisplay.from_predictions(y_test, grid_predictionSVR)\n",
    "plt.show()"
   ]
  },
  {
   "cell_type": "markdown",
   "metadata": {},
   "source": [
    "### Gradient Boosting Machines"
   ]
  },
  {
   "cell_type": "markdown",
   "metadata": {},
   "source": [
    "#### Hold-out Validation"
   ]
  },
  {
   "cell_type": "code",
   "execution_count": 27,
   "metadata": {},
   "outputs": [
    {
     "name": "stdout",
     "output_type": "stream",
     "text": [
      "              precision    recall  f1-score   support\n",
      "\n",
      "           0       0.64      0.99      0.78      1406\n",
      "           1       0.50      0.02      0.04       785\n",
      "\n",
      "    accuracy                           0.64      2191\n",
      "   macro avg       0.57      0.50      0.41      2191\n",
      "weighted avg       0.59      0.64      0.51      2191\n",
      "\n"
     ]
    },
    {
     "data": {
      "image/png": "[encoded data removed]",
      "text/plain": [
       "<Figure size 640x480 with 2 Axes>"
      ]
     },
     "metadata": {},
     "output_type": "display_data"
    }
   ],
   "source": [
    "from sklearn.ensemble import GradientBoostingClassifier\n",
    "\n",
    "gbm = GradientBoostingClassifier(random_state=2023)\n",
    "gbm.fit(X_train, y_train)\n",
    "predictionGBM = gbm.predict(X_test)\n",
    "\n",
    "print(classification_report(y_test, predictionGBM))\n",
    "ConfusionMatrixDisplay.from_predictions(y_test, predictionGBM)\n",
    "plt.show()"
   ]
  },
  {
   "cell_type": "markdown",
   "metadata": {},
   "source": [
    "#### Cross Validation"
   ]
  },
  {
   "cell_type": "code",
   "execution_count": 28,
   "metadata": {},
   "outputs": [
    {
     "data": {
      "text/plain": [
       "array([0.63968073, 0.63169897, 0.63854048, 0.63242009, 0.64497717,\n",
       "       0.63812785, 0.63926941, 0.63812785, 0.63584475, 0.63926941])"
      ]
     },
     "execution_count": 28,
     "metadata": {},
     "output_type": "execute_result"
    }
   ],
   "source": [
    "scores = cross_val_score(gbm, X, y, cv=10)\n",
    "scores"
   ]
  },
  {
   "cell_type": "markdown",
   "metadata": {},
   "source": [
    "#### Grid Search"
   ]
  },
  {
   "cell_type": "code",
   "execution_count": 29,
   "metadata": {},
   "outputs": [
    {
     "name": "stdout",
     "output_type": "stream",
     "text": [
      "Fitting 3 folds for each of 18 candidates, totalling 54 fits\n",
      "[CV 1/3] END learning_rate=2, max_depth=4, n_estimators=100;, score=0.405 total time=   1.8s\n",
      "[CV 2/3] END learning_rate=2, max_depth=4, n_estimators=100;, score=0.615 total time=   1.8s\n",
      "[CV 3/3] END learning_rate=2, max_depth=4, n_estimators=100;, score=0.438 total time=   1.8s\n",
      "[CV 1/3] END learning_rate=2, max_depth=4, n_estimators=150;, score=0.405 total time=   2.8s\n",
      "[CV 2/3] END learning_rate=2, max_depth=4, n_estimators=150;, score=0.615 total time=   2.6s\n",
      "[CV 3/3] END learning_rate=2, max_depth=4, n_estimators=150;, score=0.483 total time=   2.6s\n",
      "[CV 1/3] END learning_rate=2, max_depth=5, n_estimators=100;, score=0.442 total time=   2.2s\n",
      "[CV 2/3] END learning_rate=2, max_depth=5, n_estimators=100;, score=0.627 total time=   2.2s\n",
      "[CV 3/3] END learning_rate=2, max_depth=5, n_estimators=100;, score=0.307 total time=   2.3s\n",
      "[CV 1/3] END learning_rate=2, max_depth=5, n_estimators=150;, score=0.442 total time=   3.4s\n",
      "[CV 2/3] END learning_rate=2, max_depth=5, n_estimators=150;, score=0.627 total time=   3.3s\n",
      "[CV 3/3] END learning_rate=2, max_depth=5, n_estimators=150;, score=0.307 total time=   3.3s\n",
      "[CV 1/3] END learning_rate=2, max_depth=6, n_estimators=100;, score=0.375 total time=   2.8s\n",
      "[CV 2/3] END learning_rate=2, max_depth=6, n_estimators=100;, score=0.350 total time=   2.7s\n",
      "[CV 3/3] END learning_rate=2, max_depth=6, n_estimators=100;, score=0.545 total time=   2.7s\n",
      "[CV 1/3] END learning_rate=2, max_depth=6, n_estimators=150;, score=0.375 total time=   4.1s\n",
      "[CV 2/3] END learning_rate=2, max_depth=6, n_estimators=150;, score=0.350 total time=   4.1s\n",
      "[CV 3/3] END learning_rate=2, max_depth=6, n_estimators=150;, score=0.545 total time=   4.0s\n",
      "[CV 1/3] END learning_rate=1, max_depth=4, n_estimators=100;, score=0.330 total time=   1.6s\n",
      "[CV 2/3] END learning_rate=1, max_depth=4, n_estimators=100;, score=0.316 total time=   1.6s\n",
      "[CV 3/3] END learning_rate=1, max_depth=4, n_estimators=100;, score=0.306 total time=   1.6s\n",
      "[CV 1/3] END learning_rate=1, max_depth=4, n_estimators=150;, score=0.326 total time=   2.4s\n",
      "[CV 2/3] END learning_rate=1, max_depth=4, n_estimators=150;, score=0.320 total time=   2.4s\n",
      "[CV 3/3] END learning_rate=1, max_depth=4, n_estimators=150;, score=0.311 total time=   2.5s\n",
      "[CV 1/3] END learning_rate=1, max_depth=5, n_estimators=100;, score=0.315 total time=   2.1s\n",
      "[CV 2/3] END learning_rate=1, max_depth=5, n_estimators=100;, score=0.306 total time=   2.1s\n",
      "[CV 3/3] END learning_rate=1, max_depth=5, n_estimators=100;, score=0.343 total time=   2.0s\n",
      "[CV 1/3] END learning_rate=1, max_depth=5, n_estimators=150;, score=0.302 total time=   3.1s\n",
      "[CV 2/3] END learning_rate=1, max_depth=5, n_estimators=150;, score=0.293 total time=   3.1s\n",
      "[CV 3/3] END learning_rate=1, max_depth=5, n_estimators=150;, score=0.327 total time=   3.1s\n",
      "[CV 1/3] END learning_rate=1, max_depth=6, n_estimators=100;, score=0.304 total time=   2.5s\n",
      "[CV 2/3] END learning_rate=1, max_depth=6, n_estimators=100;, score=0.271 total time=   2.5s\n",
      "[CV 3/3] END learning_rate=1, max_depth=6, n_estimators=100;, score=0.283 total time=   2.5s\n",
      "[CV 1/3] END learning_rate=1, max_depth=6, n_estimators=150;, score=0.301 total time=   3.9s\n",
      "[CV 2/3] END learning_rate=1, max_depth=6, n_estimators=150;, score=0.270 total time=   3.9s\n",
      "[CV 3/3] END learning_rate=1, max_depth=6, n_estimators=150;, score=0.278 total time=   3.9s\n",
      "[CV 1/3] END learning_rate=0.1, max_depth=4, n_estimators=100;, score=0.062 total time=   1.6s\n",
      "[CV 2/3] END learning_rate=0.1, max_depth=4, n_estimators=100;, score=0.071 total time=   1.6s\n",
      "[CV 3/3] END learning_rate=0.1, max_depth=4, n_estimators=100;, score=0.088 total time=   1.6s\n",
      "[CV 1/3] END learning_rate=0.1, max_depth=4, n_estimators=150;, score=0.092 total time=   2.4s\n",
      "[CV 2/3] END learning_rate=0.1, max_depth=4, n_estimators=150;, score=0.088 total time=   2.4s\n",
      "[CV 3/3] END learning_rate=0.1, max_depth=4, n_estimators=150;, score=0.112 total time=   2.4s\n",
      "[CV 1/3] END learning_rate=0.1, max_depth=5, n_estimators=100;, score=0.094 total time=   2.0s\n",
      "[CV 2/3] END learning_rate=0.1, max_depth=5, n_estimators=100;, score=0.076 total time=   2.0s\n",
      "[CV 3/3] END learning_rate=0.1, max_depth=5, n_estimators=100;, score=0.122 total time=   2.0s\n",
      "[CV 1/3] END learning_rate=0.1, max_depth=5, n_estimators=150;, score=0.127 total time=   3.1s\n",
      "[CV 2/3] END learning_rate=0.1, max_depth=5, n_estimators=150;, score=0.127 total time=   3.1s\n",
      "[CV 3/3] END learning_rate=0.1, max_depth=5, n_estimators=150;, score=0.151 total time=   3.1s\n",
      "[CV 1/3] END learning_rate=0.1, max_depth=6, n_estimators=100;, score=0.134 total time=   2.5s\n",
      "[CV 2/3] END learning_rate=0.1, max_depth=6, n_estimators=100;, score=0.117 total time=   2.5s\n",
      "[CV 3/3] END learning_rate=0.1, max_depth=6, n_estimators=100;, score=0.133 total time=   2.5s\n",
      "[CV 1/3] END learning_rate=0.1, max_depth=6, n_estimators=150;, score=0.144 total time=   3.9s\n",
      "[CV 2/3] END learning_rate=0.1, max_depth=6, n_estimators=150;, score=0.145 total time=   4.0s\n",
      "[CV 3/3] END learning_rate=0.1, max_depth=6, n_estimators=150;, score=0.159 total time=   4.0s\n",
      "Best estimator:  GradientBoostingClassifier(learning_rate=2, max_depth=4, n_estimators=150,\n",
      "                           random_state=2023)\n",
      "              precision    recall  f1-score   support\n",
      "\n",
      "           0       0.64      0.38      0.48      1406\n",
      "           1       0.36      0.61      0.45       785\n",
      "\n",
      "    accuracy                           0.46      2191\n",
      "   macro avg       0.50      0.50      0.46      2191\n",
      "weighted avg       0.54      0.46      0.47      2191\n",
      "\n"
     ]
    },
    {
     "data": {
      "image/png": "[encoded data removed]",
      "text/plain": [
       "<Figure size 640x480 with 2 Axes>"
      ]
     },
     "metadata": {},
     "output_type": "display_data"
    }
   ],
   "source": [
    "param_grid = {\n",
    "    'n_estimators': [100, 150],\n",
    "    'learning_rate': [2, 1, 0.1],\n",
    "    'max_depth': [4, 5, 6],\n",
    "}\n",
    "\n",
    "scoring = 'recall'\n",
    "\n",
    "grid_searchGBM = GridSearchCV(gbm, param_grid, cv=3, refit=True, verbose=3, scoring=scoring)\n",
    "grid_searchGBM.fit(X_train, y_train)\n",
    "grid_predictionGBM = grid_searchGBM.predict(X_test)\n",
    "\n",
    "\n",
    "print(\"Best estimator: \", grid_searchGBM.best_estimator_)\n",
    "\n",
    "\n",
    "print(classification_report(y_test, grid_predictionGBM))\n",
    "ConfusionMatrixDisplay.from_predictions(y_test, grid_predictionGBM)\n",
    "plt.show()"
   ]
  }
 ],
 "metadata": {
  "kernelspec": {
   "display_name": "Python 3 (ipykernel)",
   "language": "python",
   "name": "python3"
  },
  "language_info": {
   "codemirror_mode": {
    "name": "ipython",
    "version": 3
   },
   "file_extension": ".py",
   "mimetype": "text/x-python",
   "name": "python",
   "nbconvert_exporter": "python",
   "pygments_lexer": "ipython3",
   "version": "3.10.13"
  }
 },
 "nbformat": 4,
 "nbformat_minor": 4
}
