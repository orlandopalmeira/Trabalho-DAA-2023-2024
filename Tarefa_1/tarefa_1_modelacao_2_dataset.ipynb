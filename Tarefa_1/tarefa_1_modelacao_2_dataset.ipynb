{
 "cells": [
  {
   "cell_type": "markdown",
   "metadata": {},
   "source": [
    "# Tarefa 1 - Flight Price"
   ]
  },
  {
   "cell_type": "code",
   "execution_count": 537,
   "metadata": {},
   "outputs": [],
   "source": [
    "import pandas as pd\n",
    "import numpy as np\n",
    "import matplotlib.pyplot as plt\n",
    "import seaborn as sns\n",
    "%matplotlib inline\n",
    "\n",
    "import warnings\n",
    "warnings.filterwarnings(\"ignore\")"
   ]
  },
  {
   "cell_type": "markdown",
   "metadata": {},
   "source": []
  },
  {
   "cell_type": "code",
   "execution_count": 538,
   "metadata": {},
   "outputs": [],
   "source": [
    "data = pd.read_csv('./datasets/flight_price.csv')"
   ]
  },
  {
   "cell_type": "code",
   "execution_count": 539,
   "metadata": {},
   "outputs": [
    {
     "data": {
      "text/html": [
       "<div>\n",
       "<style scoped>\n",
       "    .dataframe tbody tr th:only-of-type {\n",
       "        vertical-align: middle;\n",
       "    }\n",
       "\n",
       "    .dataframe tbody tr th {\n",
       "        vertical-align: top;\n",
       "    }\n",
       "\n",
       "    .dataframe thead th {\n",
       "        text-align: right;\n",
       "    }\n",
       "</style>\n",
       "<table border=\"1\" class=\"dataframe\">\n",
       "  <thead>\n",
       "    <tr style=\"text-align: right;\">\n",
       "      <th></th>\n",
       "      <th>serial_number</th>\n",
       "      <th>airline</th>\n",
       "      <th>flight</th>\n",
       "      <th>source_city</th>\n",
       "      <th>departure_time</th>\n",
       "      <th>stops</th>\n",
       "      <th>arrival_time</th>\n",
       "      <th>destination_city</th>\n",
       "      <th>class</th>\n",
       "      <th>duration</th>\n",
       "      <th>days_left</th>\n",
       "      <th>price</th>\n",
       "    </tr>\n",
       "  </thead>\n",
       "  <tbody>\n",
       "    <tr>\n",
       "      <th>0</th>\n",
       "      <td>0</td>\n",
       "      <td>SpiceJet</td>\n",
       "      <td>SG-8709</td>\n",
       "      <td>Delhi</td>\n",
       "      <td>Evening</td>\n",
       "      <td>zero</td>\n",
       "      <td>Night</td>\n",
       "      <td>Mumbai</td>\n",
       "      <td>Economy</td>\n",
       "      <td>2.17</td>\n",
       "      <td>1</td>\n",
       "      <td>5953</td>\n",
       "    </tr>\n",
       "    <tr>\n",
       "      <th>1</th>\n",
       "      <td>1</td>\n",
       "      <td>SpiceJet</td>\n",
       "      <td>SG-8157</td>\n",
       "      <td>Delhi</td>\n",
       "      <td>Early_Morning</td>\n",
       "      <td>zero</td>\n",
       "      <td>Morning</td>\n",
       "      <td>Mumbai</td>\n",
       "      <td>Economy</td>\n",
       "      <td>2.33</td>\n",
       "      <td>1</td>\n",
       "      <td>5953</td>\n",
       "    </tr>\n",
       "    <tr>\n",
       "      <th>2</th>\n",
       "      <td>2</td>\n",
       "      <td>AirAsia</td>\n",
       "      <td>I5-764</td>\n",
       "      <td>Delhi</td>\n",
       "      <td>Early_Morning</td>\n",
       "      <td>zero</td>\n",
       "      <td>Early_Morning</td>\n",
       "      <td>Mumbai</td>\n",
       "      <td>Economy</td>\n",
       "      <td>2.17</td>\n",
       "      <td>1</td>\n",
       "      <td>5956</td>\n",
       "    </tr>\n",
       "    <tr>\n",
       "      <th>3</th>\n",
       "      <td>3</td>\n",
       "      <td>Vistara</td>\n",
       "      <td>UK-995</td>\n",
       "      <td>Delhi</td>\n",
       "      <td>Morning</td>\n",
       "      <td>zero</td>\n",
       "      <td>Afternoon</td>\n",
       "      <td>Mumbai</td>\n",
       "      <td>Economy</td>\n",
       "      <td>2.25</td>\n",
       "      <td>1</td>\n",
       "      <td>5955</td>\n",
       "    </tr>\n",
       "    <tr>\n",
       "      <th>4</th>\n",
       "      <td>4</td>\n",
       "      <td>Vistara</td>\n",
       "      <td>UK-963</td>\n",
       "      <td>Delhi</td>\n",
       "      <td>Morning</td>\n",
       "      <td>zero</td>\n",
       "      <td>Morning</td>\n",
       "      <td>Mumbai</td>\n",
       "      <td>Economy</td>\n",
       "      <td>2.33</td>\n",
       "      <td>1</td>\n",
       "      <td>5955</td>\n",
       "    </tr>\n",
       "    <tr>\n",
       "      <th>...</th>\n",
       "      <td>...</td>\n",
       "      <td>...</td>\n",
       "      <td>...</td>\n",
       "      <td>...</td>\n",
       "      <td>...</td>\n",
       "      <td>...</td>\n",
       "      <td>...</td>\n",
       "      <td>...</td>\n",
       "      <td>...</td>\n",
       "      <td>...</td>\n",
       "      <td>...</td>\n",
       "      <td>...</td>\n",
       "    </tr>\n",
       "    <tr>\n",
       "      <th>300148</th>\n",
       "      <td>300148</td>\n",
       "      <td>Vistara</td>\n",
       "      <td>UK-822</td>\n",
       "      <td>Chennai</td>\n",
       "      <td>Morning</td>\n",
       "      <td>one</td>\n",
       "      <td>Evening</td>\n",
       "      <td>Hyderabad</td>\n",
       "      <td>Business</td>\n",
       "      <td>10.08</td>\n",
       "      <td>49</td>\n",
       "      <td>69265</td>\n",
       "    </tr>\n",
       "    <tr>\n",
       "      <th>300149</th>\n",
       "      <td>300149</td>\n",
       "      <td>Vistara</td>\n",
       "      <td>UK-826</td>\n",
       "      <td>Chennai</td>\n",
       "      <td>Afternoon</td>\n",
       "      <td>one</td>\n",
       "      <td>Night</td>\n",
       "      <td>Hyderabad</td>\n",
       "      <td>Business</td>\n",
       "      <td>10.42</td>\n",
       "      <td>49</td>\n",
       "      <td>77105</td>\n",
       "    </tr>\n",
       "    <tr>\n",
       "      <th>300150</th>\n",
       "      <td>300150</td>\n",
       "      <td>Vistara</td>\n",
       "      <td>UK-832</td>\n",
       "      <td>Chennai</td>\n",
       "      <td>Early_Morning</td>\n",
       "      <td>one</td>\n",
       "      <td>Night</td>\n",
       "      <td>Hyderabad</td>\n",
       "      <td>Business</td>\n",
       "      <td>13.83</td>\n",
       "      <td>49</td>\n",
       "      <td>79099</td>\n",
       "    </tr>\n",
       "    <tr>\n",
       "      <th>300151</th>\n",
       "      <td>300151</td>\n",
       "      <td>Vistara</td>\n",
       "      <td>UK-828</td>\n",
       "      <td>Chennai</td>\n",
       "      <td>Early_Morning</td>\n",
       "      <td>one</td>\n",
       "      <td>Evening</td>\n",
       "      <td>Hyderabad</td>\n",
       "      <td>Business</td>\n",
       "      <td>10.00</td>\n",
       "      <td>49</td>\n",
       "      <td>81585</td>\n",
       "    </tr>\n",
       "    <tr>\n",
       "      <th>300152</th>\n",
       "      <td>300152</td>\n",
       "      <td>Vistara</td>\n",
       "      <td>UK-822</td>\n",
       "      <td>Chennai</td>\n",
       "      <td>Morning</td>\n",
       "      <td>one</td>\n",
       "      <td>Evening</td>\n",
       "      <td>Hyderabad</td>\n",
       "      <td>Business</td>\n",
       "      <td>10.08</td>\n",
       "      <td>49</td>\n",
       "      <td>81585</td>\n",
       "    </tr>\n",
       "  </tbody>\n",
       "</table>\n",
       "<p>300153 rows × 12 columns</p>\n",
       "</div>"
      ],
      "text/plain": [
       "        serial_number   airline   flight source_city departure_time stops  \\\n",
       "0                   0  SpiceJet  SG-8709       Delhi        Evening  zero   \n",
       "1                   1  SpiceJet  SG-8157       Delhi  Early_Morning  zero   \n",
       "2                   2   AirAsia   I5-764       Delhi  Early_Morning  zero   \n",
       "3                   3   Vistara   UK-995       Delhi        Morning  zero   \n",
       "4                   4   Vistara   UK-963       Delhi        Morning  zero   \n",
       "...               ...       ...      ...         ...            ...   ...   \n",
       "300148         300148   Vistara   UK-822     Chennai        Morning   one   \n",
       "300149         300149   Vistara   UK-826     Chennai      Afternoon   one   \n",
       "300150         300150   Vistara   UK-832     Chennai  Early_Morning   one   \n",
       "300151         300151   Vistara   UK-828     Chennai  Early_Morning   one   \n",
       "300152         300152   Vistara   UK-822     Chennai        Morning   one   \n",
       "\n",
       "         arrival_time destination_city     class  duration  days_left  price  \n",
       "0               Night           Mumbai   Economy      2.17          1   5953  \n",
       "1             Morning           Mumbai   Economy      2.33          1   5953  \n",
       "2       Early_Morning           Mumbai   Economy      2.17          1   5956  \n",
       "3           Afternoon           Mumbai   Economy      2.25          1   5955  \n",
       "4             Morning           Mumbai   Economy      2.33          1   5955  \n",
       "...               ...              ...       ...       ...        ...    ...  \n",
       "300148        Evening        Hyderabad  Business     10.08         49  69265  \n",
       "300149          Night        Hyderabad  Business     10.42         49  77105  \n",
       "300150          Night        Hyderabad  Business     13.83         49  79099  \n",
       "300151        Evening        Hyderabad  Business     10.00         49  81585  \n",
       "300152        Evening        Hyderabad  Business     10.08         49  81585  \n",
       "\n",
       "[300153 rows x 12 columns]"
      ]
     },
     "execution_count": 539,
     "metadata": {},
     "output_type": "execute_result"
    }
   ],
   "source": [
    "data"
   ]
  },
  {
   "cell_type": "markdown",
   "metadata": {},
   "source": [
    "## Data Treatment"
   ]
  },
  {
   "cell_type": "code",
   "execution_count": 540,
   "metadata": {},
   "outputs": [],
   "source": [
    "data.drop(columns=['serial_number', 'flight'], inplace=True)"
   ]
  },
  {
   "cell_type": "code",
   "execution_count": 541,
   "metadata": {},
   "outputs": [
    {
     "data": {
      "text/html": [
       "<div>\n",
       "<style scoped>\n",
       "    .dataframe tbody tr th:only-of-type {\n",
       "        vertical-align: middle;\n",
       "    }\n",
       "\n",
       "    .dataframe tbody tr th {\n",
       "        vertical-align: top;\n",
       "    }\n",
       "\n",
       "    .dataframe thead th {\n",
       "        text-align: right;\n",
       "    }\n",
       "</style>\n",
       "<table border=\"1\" class=\"dataframe\">\n",
       "  <thead>\n",
       "    <tr style=\"text-align: right;\">\n",
       "      <th></th>\n",
       "      <th>duration</th>\n",
       "      <th>days_left</th>\n",
       "      <th>price</th>\n",
       "    </tr>\n",
       "  </thead>\n",
       "  <tbody>\n",
       "    <tr>\n",
       "      <th>count</th>\n",
       "      <td>300153.000000</td>\n",
       "      <td>300153.000000</td>\n",
       "      <td>300153.000000</td>\n",
       "    </tr>\n",
       "    <tr>\n",
       "      <th>mean</th>\n",
       "      <td>12.221021</td>\n",
       "      <td>26.004751</td>\n",
       "      <td>20889.660523</td>\n",
       "    </tr>\n",
       "    <tr>\n",
       "      <th>std</th>\n",
       "      <td>7.191997</td>\n",
       "      <td>13.561004</td>\n",
       "      <td>22697.767366</td>\n",
       "    </tr>\n",
       "    <tr>\n",
       "      <th>min</th>\n",
       "      <td>0.830000</td>\n",
       "      <td>1.000000</td>\n",
       "      <td>1105.000000</td>\n",
       "    </tr>\n",
       "    <tr>\n",
       "      <th>25%</th>\n",
       "      <td>6.830000</td>\n",
       "      <td>15.000000</td>\n",
       "      <td>4783.000000</td>\n",
       "    </tr>\n",
       "    <tr>\n",
       "      <th>50%</th>\n",
       "      <td>11.250000</td>\n",
       "      <td>26.000000</td>\n",
       "      <td>7425.000000</td>\n",
       "    </tr>\n",
       "    <tr>\n",
       "      <th>75%</th>\n",
       "      <td>16.170000</td>\n",
       "      <td>38.000000</td>\n",
       "      <td>42521.000000</td>\n",
       "    </tr>\n",
       "    <tr>\n",
       "      <th>max</th>\n",
       "      <td>49.830000</td>\n",
       "      <td>49.000000</td>\n",
       "      <td>123071.000000</td>\n",
       "    </tr>\n",
       "  </tbody>\n",
       "</table>\n",
       "</div>"
      ],
      "text/plain": [
       "            duration      days_left          price\n",
       "count  300153.000000  300153.000000  300153.000000\n",
       "mean       12.221021      26.004751   20889.660523\n",
       "std         7.191997      13.561004   22697.767366\n",
       "min         0.830000       1.000000    1105.000000\n",
       "25%         6.830000      15.000000    4783.000000\n",
       "50%        11.250000      26.000000    7425.000000\n",
       "75%        16.170000      38.000000   42521.000000\n",
       "max        49.830000      49.000000  123071.000000"
      ]
     },
     "execution_count": 541,
     "metadata": {},
     "output_type": "execute_result"
    }
   ],
   "source": [
    "data.describe()"
   ]
  },
  {
   "cell_type": "code",
   "execution_count": 542,
   "metadata": {},
   "outputs": [
    {
     "name": "stdout",
     "output_type": "stream",
     "text": [
      "<class 'pandas.core.frame.DataFrame'>\n",
      "RangeIndex: 300153 entries, 0 to 300152\n",
      "Data columns (total 10 columns):\n",
      " #   Column            Non-Null Count   Dtype  \n",
      "---  ------            --------------   -----  \n",
      " 0   airline           300153 non-null  object \n",
      " 1   source_city       300153 non-null  object \n",
      " 2   departure_time    300153 non-null  object \n",
      " 3   stops             300153 non-null  object \n",
      " 4   arrival_time      300153 non-null  object \n",
      " 5   destination_city  300153 non-null  object \n",
      " 6   class             300153 non-null  object \n",
      " 7   duration          300153 non-null  float64\n",
      " 8   days_left         300153 non-null  int64  \n",
      " 9   price             300153 non-null  int64  \n",
      "dtypes: float64(1), int64(2), object(7)\n",
      "memory usage: 22.9+ MB\n"
     ]
    }
   ],
   "source": [
    "data.info()"
   ]
  },
  {
   "cell_type": "code",
   "execution_count": 543,
   "metadata": {},
   "outputs": [
    {
     "data": {
      "text/plain": [
       "airline             False\n",
       "source_city         False\n",
       "departure_time      False\n",
       "stops               False\n",
       "arrival_time        False\n",
       "destination_city    False\n",
       "class               False\n",
       "duration            False\n",
       "days_left           False\n",
       "price               False\n",
       "dtype: bool"
      ]
     },
     "execution_count": 543,
     "metadata": {},
     "output_type": "execute_result"
    }
   ],
   "source": [
    "data.isna().any()"
   ]
  },
  {
   "cell_type": "code",
   "execution_count": 544,
   "metadata": {},
   "outputs": [
    {
     "data": {
      "text/plain": [
       "2213"
      ]
     },
     "execution_count": 544,
     "metadata": {},
     "output_type": "execute_result"
    }
   ],
   "source": [
    "data.duplicated().sum()"
   ]
  },
  {
   "cell_type": "code",
   "execution_count": 545,
   "metadata": {},
   "outputs": [],
   "source": [
    "data.drop_duplicates(inplace=True)"
   ]
  },
  {
   "cell_type": "code",
   "execution_count": 546,
   "metadata": {},
   "outputs": [
    {
     "data": {
      "text/plain": [
       "0"
      ]
     },
     "execution_count": 546,
     "metadata": {},
     "output_type": "execute_result"
    }
   ],
   "source": [
    "data.duplicated().sum()"
   ]
  },
  {
   "cell_type": "code",
   "execution_count": 547,
   "metadata": {},
   "outputs": [
    {
     "data": {
      "text/html": [
       "<div>\n",
       "<style scoped>\n",
       "    .dataframe tbody tr th:only-of-type {\n",
       "        vertical-align: middle;\n",
       "    }\n",
       "\n",
       "    .dataframe tbody tr th {\n",
       "        vertical-align: top;\n",
       "    }\n",
       "\n",
       "    .dataframe thead th {\n",
       "        text-align: right;\n",
       "    }\n",
       "</style>\n",
       "<table border=\"1\" class=\"dataframe\">\n",
       "  <thead>\n",
       "    <tr style=\"text-align: right;\">\n",
       "      <th></th>\n",
       "      <th>airline</th>\n",
       "      <th>source_city</th>\n",
       "      <th>departure_time</th>\n",
       "      <th>stops</th>\n",
       "      <th>arrival_time</th>\n",
       "      <th>destination_city</th>\n",
       "      <th>class</th>\n",
       "      <th>duration</th>\n",
       "      <th>days_left</th>\n",
       "      <th>price</th>\n",
       "    </tr>\n",
       "  </thead>\n",
       "  <tbody>\n",
       "    <tr>\n",
       "      <th>0</th>\n",
       "      <td>SpiceJet</td>\n",
       "      <td>Delhi</td>\n",
       "      <td>Evening</td>\n",
       "      <td>zero</td>\n",
       "      <td>Night</td>\n",
       "      <td>Mumbai</td>\n",
       "      <td>Economy</td>\n",
       "      <td>2.17</td>\n",
       "      <td>1</td>\n",
       "      <td>5953</td>\n",
       "    </tr>\n",
       "    <tr>\n",
       "      <th>1</th>\n",
       "      <td>SpiceJet</td>\n",
       "      <td>Delhi</td>\n",
       "      <td>Early_Morning</td>\n",
       "      <td>zero</td>\n",
       "      <td>Morning</td>\n",
       "      <td>Mumbai</td>\n",
       "      <td>Economy</td>\n",
       "      <td>2.33</td>\n",
       "      <td>1</td>\n",
       "      <td>5953</td>\n",
       "    </tr>\n",
       "    <tr>\n",
       "      <th>2</th>\n",
       "      <td>AirAsia</td>\n",
       "      <td>Delhi</td>\n",
       "      <td>Early_Morning</td>\n",
       "      <td>zero</td>\n",
       "      <td>Early_Morning</td>\n",
       "      <td>Mumbai</td>\n",
       "      <td>Economy</td>\n",
       "      <td>2.17</td>\n",
       "      <td>1</td>\n",
       "      <td>5956</td>\n",
       "    </tr>\n",
       "    <tr>\n",
       "      <th>3</th>\n",
       "      <td>Vistara</td>\n",
       "      <td>Delhi</td>\n",
       "      <td>Morning</td>\n",
       "      <td>zero</td>\n",
       "      <td>Afternoon</td>\n",
       "      <td>Mumbai</td>\n",
       "      <td>Economy</td>\n",
       "      <td>2.25</td>\n",
       "      <td>1</td>\n",
       "      <td>5955</td>\n",
       "    </tr>\n",
       "    <tr>\n",
       "      <th>4</th>\n",
       "      <td>Vistara</td>\n",
       "      <td>Delhi</td>\n",
       "      <td>Morning</td>\n",
       "      <td>zero</td>\n",
       "      <td>Morning</td>\n",
       "      <td>Mumbai</td>\n",
       "      <td>Economy</td>\n",
       "      <td>2.33</td>\n",
       "      <td>1</td>\n",
       "      <td>5955</td>\n",
       "    </tr>\n",
       "    <tr>\n",
       "      <th>...</th>\n",
       "      <td>...</td>\n",
       "      <td>...</td>\n",
       "      <td>...</td>\n",
       "      <td>...</td>\n",
       "      <td>...</td>\n",
       "      <td>...</td>\n",
       "      <td>...</td>\n",
       "      <td>...</td>\n",
       "      <td>...</td>\n",
       "      <td>...</td>\n",
       "    </tr>\n",
       "    <tr>\n",
       "      <th>300148</th>\n",
       "      <td>Vistara</td>\n",
       "      <td>Chennai</td>\n",
       "      <td>Morning</td>\n",
       "      <td>one</td>\n",
       "      <td>Evening</td>\n",
       "      <td>Hyderabad</td>\n",
       "      <td>Business</td>\n",
       "      <td>10.08</td>\n",
       "      <td>49</td>\n",
       "      <td>69265</td>\n",
       "    </tr>\n",
       "    <tr>\n",
       "      <th>300149</th>\n",
       "      <td>Vistara</td>\n",
       "      <td>Chennai</td>\n",
       "      <td>Afternoon</td>\n",
       "      <td>one</td>\n",
       "      <td>Night</td>\n",
       "      <td>Hyderabad</td>\n",
       "      <td>Business</td>\n",
       "      <td>10.42</td>\n",
       "      <td>49</td>\n",
       "      <td>77105</td>\n",
       "    </tr>\n",
       "    <tr>\n",
       "      <th>300150</th>\n",
       "      <td>Vistara</td>\n",
       "      <td>Chennai</td>\n",
       "      <td>Early_Morning</td>\n",
       "      <td>one</td>\n",
       "      <td>Night</td>\n",
       "      <td>Hyderabad</td>\n",
       "      <td>Business</td>\n",
       "      <td>13.83</td>\n",
       "      <td>49</td>\n",
       "      <td>79099</td>\n",
       "    </tr>\n",
       "    <tr>\n",
       "      <th>300151</th>\n",
       "      <td>Vistara</td>\n",
       "      <td>Chennai</td>\n",
       "      <td>Early_Morning</td>\n",
       "      <td>one</td>\n",
       "      <td>Evening</td>\n",
       "      <td>Hyderabad</td>\n",
       "      <td>Business</td>\n",
       "      <td>10.00</td>\n",
       "      <td>49</td>\n",
       "      <td>81585</td>\n",
       "    </tr>\n",
       "    <tr>\n",
       "      <th>300152</th>\n",
       "      <td>Vistara</td>\n",
       "      <td>Chennai</td>\n",
       "      <td>Morning</td>\n",
       "      <td>one</td>\n",
       "      <td>Evening</td>\n",
       "      <td>Hyderabad</td>\n",
       "      <td>Business</td>\n",
       "      <td>10.08</td>\n",
       "      <td>49</td>\n",
       "      <td>81585</td>\n",
       "    </tr>\n",
       "  </tbody>\n",
       "</table>\n",
       "<p>297940 rows × 10 columns</p>\n",
       "</div>"
      ],
      "text/plain": [
       "         airline source_city departure_time stops   arrival_time  \\\n",
       "0       SpiceJet       Delhi        Evening  zero          Night   \n",
       "1       SpiceJet       Delhi  Early_Morning  zero        Morning   \n",
       "2        AirAsia       Delhi  Early_Morning  zero  Early_Morning   \n",
       "3        Vistara       Delhi        Morning  zero      Afternoon   \n",
       "4        Vistara       Delhi        Morning  zero        Morning   \n",
       "...          ...         ...            ...   ...            ...   \n",
       "300148   Vistara     Chennai        Morning   one        Evening   \n",
       "300149   Vistara     Chennai      Afternoon   one          Night   \n",
       "300150   Vistara     Chennai  Early_Morning   one          Night   \n",
       "300151   Vistara     Chennai  Early_Morning   one        Evening   \n",
       "300152   Vistara     Chennai        Morning   one        Evening   \n",
       "\n",
       "       destination_city     class  duration  days_left  price  \n",
       "0                Mumbai   Economy      2.17          1   5953  \n",
       "1                Mumbai   Economy      2.33          1   5953  \n",
       "2                Mumbai   Economy      2.17          1   5956  \n",
       "3                Mumbai   Economy      2.25          1   5955  \n",
       "4                Mumbai   Economy      2.33          1   5955  \n",
       "...                 ...       ...       ...        ...    ...  \n",
       "300148        Hyderabad  Business     10.08         49  69265  \n",
       "300149        Hyderabad  Business     10.42         49  77105  \n",
       "300150        Hyderabad  Business     13.83         49  79099  \n",
       "300151        Hyderabad  Business     10.00         49  81585  \n",
       "300152        Hyderabad  Business     10.08         49  81585  \n",
       "\n",
       "[297940 rows x 10 columns]"
      ]
     },
     "execution_count": 547,
     "metadata": {},
     "output_type": "execute_result"
    }
   ],
   "source": [
    "data"
   ]
  },
  {
   "cell_type": "code",
   "execution_count": 548,
   "metadata": {},
   "outputs": [
    {
     "data": {
      "text/plain": [
       "(297940, 10)"
      ]
     },
     "execution_count": 548,
     "metadata": {},
     "output_type": "execute_result"
    }
   ],
   "source": [
    "data.shape"
   ]
  },
  {
   "cell_type": "code",
   "execution_count": 549,
   "metadata": {},
   "outputs": [
    {
     "name": "stdout",
     "output_type": "stream",
     "text": [
      "<class 'pandas.core.frame.DataFrame'>\n",
      "Index: 297940 entries, 0 to 300152\n",
      "Data columns (total 10 columns):\n",
      " #   Column            Non-Null Count   Dtype  \n",
      "---  ------            --------------   -----  \n",
      " 0   airline           297940 non-null  object \n",
      " 1   source_city       297940 non-null  object \n",
      " 2   departure_time    297940 non-null  object \n",
      " 3   stops             297940 non-null  object \n",
      " 4   arrival_time      297940 non-null  object \n",
      " 5   destination_city  297940 non-null  object \n",
      " 6   class             297940 non-null  object \n",
      " 7   duration          297940 non-null  float64\n",
      " 8   days_left         297940 non-null  int64  \n",
      " 9   price             297940 non-null  int64  \n",
      "dtypes: float64(1), int64(2), object(7)\n",
      "memory usage: 25.0+ MB\n"
     ]
    }
   ],
   "source": [
    "data.info()"
   ]
  },
  {
   "cell_type": "markdown",
   "metadata": {},
   "source": [
    "### Transform the data"
   ]
  },
  {
   "cell_type": "markdown",
   "metadata": {},
   "source": [
    "### Remove outliers"
   ]
  },
  {
   "cell_type": "code",
   "execution_count": 550,
   "metadata": {},
   "outputs": [
    {
     "name": "stdout",
     "output_type": "stream",
     "text": [
      "<class 'pandas.core.frame.DataFrame'>\n",
      "Index: 297817 entries, 0 to 300152\n",
      "Data columns (total 10 columns):\n",
      " #   Column            Non-Null Count   Dtype  \n",
      "---  ------            --------------   -----  \n",
      " 0   airline           297817 non-null  object \n",
      " 1   source_city       297817 non-null  object \n",
      " 2   departure_time    297817 non-null  object \n",
      " 3   stops             297817 non-null  object \n",
      " 4   arrival_time      297817 non-null  object \n",
      " 5   destination_city  297817 non-null  object \n",
      " 6   class             297817 non-null  object \n",
      " 7   duration          297817 non-null  float64\n",
      " 8   days_left         297817 non-null  int64  \n",
      " 9   price             297817 non-null  int64  \n",
      "dtypes: float64(1), int64(2), object(7)\n",
      "memory usage: 25.0+ MB\n"
     ]
    }
   ],
   "source": [
    "q1 = data['price'].quantile(0.25)\n",
    "q3 = data['price'].quantile(0.75)\n",
    "iqr = q3 - q1\n",
    "threshold = 1.5\n",
    "\n",
    "outliers = (data['price'] < q1 - threshold * iqr) | (data['price'] > q3 + threshold * iqr)\n",
    "\n",
    "data = data[~outliers]\n",
    "data.info()"
   ]
  },
  {
   "cell_type": "markdown",
   "metadata": {},
   "source": [
    "#### One-Hot Encoding"
   ]
  },
  {
   "cell_type": "code",
   "execution_count": 551,
   "metadata": {},
   "outputs": [
    {
     "data": {
      "text/html": [
       "<div>\n",
       "<style scoped>\n",
       "    .dataframe tbody tr th:only-of-type {\n",
       "        vertical-align: middle;\n",
       "    }\n",
       "\n",
       "    .dataframe tbody tr th {\n",
       "        vertical-align: top;\n",
       "    }\n",
       "\n",
       "    .dataframe thead th {\n",
       "        text-align: right;\n",
       "    }\n",
       "</style>\n",
       "<table border=\"1\" class=\"dataframe\">\n",
       "  <thead>\n",
       "    <tr style=\"text-align: right;\">\n",
       "      <th></th>\n",
       "      <th>airline</th>\n",
       "      <th>source_city</th>\n",
       "      <th>departure_time</th>\n",
       "      <th>stops</th>\n",
       "      <th>arrival_time</th>\n",
       "      <th>destination_city</th>\n",
       "      <th>class</th>\n",
       "      <th>duration</th>\n",
       "      <th>days_left</th>\n",
       "      <th>price</th>\n",
       "      <th>...</th>\n",
       "      <th>arrival_time_Evening</th>\n",
       "      <th>arrival_time_Late_Night</th>\n",
       "      <th>arrival_time_Morning</th>\n",
       "      <th>arrival_time_Night</th>\n",
       "      <th>destination_city_Bangalore</th>\n",
       "      <th>destination_city_Chennai</th>\n",
       "      <th>destination_city_Delhi</th>\n",
       "      <th>destination_city_Hyderabad</th>\n",
       "      <th>destination_city_Kolkata</th>\n",
       "      <th>destination_city_Mumbai</th>\n",
       "    </tr>\n",
       "  </thead>\n",
       "  <tbody>\n",
       "    <tr>\n",
       "      <th>0</th>\n",
       "      <td>SpiceJet</td>\n",
       "      <td>Delhi</td>\n",
       "      <td>Evening</td>\n",
       "      <td>zero</td>\n",
       "      <td>Night</td>\n",
       "      <td>Mumbai</td>\n",
       "      <td>Economy</td>\n",
       "      <td>2.17</td>\n",
       "      <td>1.0</td>\n",
       "      <td>5953.0</td>\n",
       "      <td>...</td>\n",
       "      <td>0.0</td>\n",
       "      <td>0.0</td>\n",
       "      <td>0.0</td>\n",
       "      <td>1.0</td>\n",
       "      <td>0</td>\n",
       "      <td>0</td>\n",
       "      <td>0</td>\n",
       "      <td>0</td>\n",
       "      <td>0</td>\n",
       "      <td>1</td>\n",
       "    </tr>\n",
       "    <tr>\n",
       "      <th>1</th>\n",
       "      <td>SpiceJet</td>\n",
       "      <td>Delhi</td>\n",
       "      <td>Early_Morning</td>\n",
       "      <td>zero</td>\n",
       "      <td>Morning</td>\n",
       "      <td>Mumbai</td>\n",
       "      <td>Economy</td>\n",
       "      <td>2.33</td>\n",
       "      <td>1.0</td>\n",
       "      <td>5953.0</td>\n",
       "      <td>...</td>\n",
       "      <td>0.0</td>\n",
       "      <td>0.0</td>\n",
       "      <td>1.0</td>\n",
       "      <td>0.0</td>\n",
       "      <td>0</td>\n",
       "      <td>0</td>\n",
       "      <td>0</td>\n",
       "      <td>0</td>\n",
       "      <td>0</td>\n",
       "      <td>1</td>\n",
       "    </tr>\n",
       "    <tr>\n",
       "      <th>2</th>\n",
       "      <td>AirAsia</td>\n",
       "      <td>Delhi</td>\n",
       "      <td>Early_Morning</td>\n",
       "      <td>zero</td>\n",
       "      <td>Early_Morning</td>\n",
       "      <td>Mumbai</td>\n",
       "      <td>Economy</td>\n",
       "      <td>2.17</td>\n",
       "      <td>1.0</td>\n",
       "      <td>5956.0</td>\n",
       "      <td>...</td>\n",
       "      <td>0.0</td>\n",
       "      <td>0.0</td>\n",
       "      <td>0.0</td>\n",
       "      <td>0.0</td>\n",
       "      <td>0</td>\n",
       "      <td>0</td>\n",
       "      <td>0</td>\n",
       "      <td>0</td>\n",
       "      <td>0</td>\n",
       "      <td>1</td>\n",
       "    </tr>\n",
       "    <tr>\n",
       "      <th>3</th>\n",
       "      <td>Vistara</td>\n",
       "      <td>Delhi</td>\n",
       "      <td>Morning</td>\n",
       "      <td>zero</td>\n",
       "      <td>Afternoon</td>\n",
       "      <td>Mumbai</td>\n",
       "      <td>Economy</td>\n",
       "      <td>2.25</td>\n",
       "      <td>1.0</td>\n",
       "      <td>5955.0</td>\n",
       "      <td>...</td>\n",
       "      <td>0.0</td>\n",
       "      <td>0.0</td>\n",
       "      <td>0.0</td>\n",
       "      <td>0.0</td>\n",
       "      <td>0</td>\n",
       "      <td>0</td>\n",
       "      <td>0</td>\n",
       "      <td>0</td>\n",
       "      <td>0</td>\n",
       "      <td>1</td>\n",
       "    </tr>\n",
       "    <tr>\n",
       "      <th>4</th>\n",
       "      <td>Vistara</td>\n",
       "      <td>Delhi</td>\n",
       "      <td>Morning</td>\n",
       "      <td>zero</td>\n",
       "      <td>Morning</td>\n",
       "      <td>Mumbai</td>\n",
       "      <td>Economy</td>\n",
       "      <td>2.33</td>\n",
       "      <td>1.0</td>\n",
       "      <td>5955.0</td>\n",
       "      <td>...</td>\n",
       "      <td>0.0</td>\n",
       "      <td>0.0</td>\n",
       "      <td>1.0</td>\n",
       "      <td>0.0</td>\n",
       "      <td>0</td>\n",
       "      <td>0</td>\n",
       "      <td>0</td>\n",
       "      <td>0</td>\n",
       "      <td>0</td>\n",
       "      <td>1</td>\n",
       "    </tr>\n",
       "  </tbody>\n",
       "</table>\n",
       "<p>5 rows × 43 columns</p>\n",
       "</div>"
      ],
      "text/plain": [
       "    airline source_city departure_time stops   arrival_time destination_city  \\\n",
       "0  SpiceJet       Delhi        Evening  zero          Night           Mumbai   \n",
       "1  SpiceJet       Delhi  Early_Morning  zero        Morning           Mumbai   \n",
       "2   AirAsia       Delhi  Early_Morning  zero  Early_Morning           Mumbai   \n",
       "3   Vistara       Delhi        Morning  zero      Afternoon           Mumbai   \n",
       "4   Vistara       Delhi        Morning  zero        Morning           Mumbai   \n",
       "\n",
       "     class  duration  days_left   price  ...  arrival_time_Evening  \\\n",
       "0  Economy      2.17        1.0  5953.0  ...                   0.0   \n",
       "1  Economy      2.33        1.0  5953.0  ...                   0.0   \n",
       "2  Economy      2.17        1.0  5956.0  ...                   0.0   \n",
       "3  Economy      2.25        1.0  5955.0  ...                   0.0   \n",
       "4  Economy      2.33        1.0  5955.0  ...                   0.0   \n",
       "\n",
       "   arrival_time_Late_Night  arrival_time_Morning  arrival_time_Night  \\\n",
       "0                      0.0                   0.0                 1.0   \n",
       "1                      0.0                   1.0                 0.0   \n",
       "2                      0.0                   0.0                 0.0   \n",
       "3                      0.0                   0.0                 0.0   \n",
       "4                      0.0                   1.0                 0.0   \n",
       "\n",
       "   destination_city_Bangalore  destination_city_Chennai  \\\n",
       "0                           0                         0   \n",
       "1                           0                         0   \n",
       "2                           0                         0   \n",
       "3                           0                         0   \n",
       "4                           0                         0   \n",
       "\n",
       "   destination_city_Delhi  destination_city_Hyderabad  \\\n",
       "0                       0                           0   \n",
       "1                       0                           0   \n",
       "2                       0                           0   \n",
       "3                       0                           0   \n",
       "4                       0                           0   \n",
       "\n",
       "   destination_city_Kolkata  destination_city_Mumbai  \n",
       "0                         0                        1  \n",
       "1                         0                        1  \n",
       "2                         0                        1  \n",
       "3                         0                        1  \n",
       "4                         0                        1  \n",
       "\n",
       "[5 rows x 43 columns]"
      ]
     },
     "execution_count": 551,
     "metadata": {},
     "output_type": "execute_result"
    }
   ],
   "source": [
    "from sklearn.preprocessing import LabelBinarizer\n",
    "\n",
    "data_OHE = data.copy()\n",
    "\n",
    "features_to_encode = ['airline', 'source_city', 'departure_time', 'stops', 'arrival_time', 'destination_city']\n",
    "\n",
    "\n",
    "lb = LabelBinarizer()\n",
    "for f in features_to_encode:\n",
    "    data_LB = lb.fit_transform(data[f])\n",
    "    data_LB_df = pd.DataFrame(data_LB, columns=[f'{f}_{classe}' for classe in lb.classes_])\n",
    "\n",
    "    data_OHE = pd.concat([data_OHE, data_LB_df], axis=1)\n",
    "    data_OHE.dropna(inplace=True)\n",
    "    \n",
    "data_OHE.head()"
   ]
  },
  {
   "cell_type": "code",
   "execution_count": 552,
   "metadata": {},
   "outputs": [
    {
     "data": {
      "text/html": [
       "<div>\n",
       "<style scoped>\n",
       "    .dataframe tbody tr th:only-of-type {\n",
       "        vertical-align: middle;\n",
       "    }\n",
       "\n",
       "    .dataframe tbody tr th {\n",
       "        vertical-align: top;\n",
       "    }\n",
       "\n",
       "    .dataframe thead th {\n",
       "        text-align: right;\n",
       "    }\n",
       "</style>\n",
       "<table border=\"1\" class=\"dataframe\">\n",
       "  <thead>\n",
       "    <tr style=\"text-align: right;\">\n",
       "      <th></th>\n",
       "      <th>airline</th>\n",
       "      <th>source_city</th>\n",
       "      <th>departure_time</th>\n",
       "      <th>stops</th>\n",
       "      <th>arrival_time</th>\n",
       "      <th>destination_city</th>\n",
       "      <th>class</th>\n",
       "      <th>duration</th>\n",
       "      <th>days_left</th>\n",
       "      <th>price</th>\n",
       "      <th>...</th>\n",
       "      <th>arrival_time_Evening</th>\n",
       "      <th>arrival_time_Late_Night</th>\n",
       "      <th>arrival_time_Morning</th>\n",
       "      <th>arrival_time_Night</th>\n",
       "      <th>destination_city_Bangalore</th>\n",
       "      <th>destination_city_Chennai</th>\n",
       "      <th>destination_city_Delhi</th>\n",
       "      <th>destination_city_Hyderabad</th>\n",
       "      <th>destination_city_Kolkata</th>\n",
       "      <th>destination_city_Mumbai</th>\n",
       "    </tr>\n",
       "  </thead>\n",
       "  <tbody>\n",
       "    <tr>\n",
       "      <th>297812</th>\n",
       "      <td>Air_India</td>\n",
       "      <td>Chennai</td>\n",
       "      <td>Evening</td>\n",
       "      <td>one</td>\n",
       "      <td>Night</td>\n",
       "      <td>Kolkata</td>\n",
       "      <td>Business</td>\n",
       "      <td>7.58</td>\n",
       "      <td>44.0</td>\n",
       "      <td>54481.0</td>\n",
       "      <td>...</td>\n",
       "      <td>1.0</td>\n",
       "      <td>0.0</td>\n",
       "      <td>0.0</td>\n",
       "      <td>0.0</td>\n",
       "      <td>0</td>\n",
       "      <td>0</td>\n",
       "      <td>0</td>\n",
       "      <td>1</td>\n",
       "      <td>0</td>\n",
       "      <td>0</td>\n",
       "    </tr>\n",
       "    <tr>\n",
       "      <th>297813</th>\n",
       "      <td>Air_India</td>\n",
       "      <td>Chennai</td>\n",
       "      <td>Early_Morning</td>\n",
       "      <td>one</td>\n",
       "      <td>Night</td>\n",
       "      <td>Kolkata</td>\n",
       "      <td>Business</td>\n",
       "      <td>17.33</td>\n",
       "      <td>44.0</td>\n",
       "      <td>54481.0</td>\n",
       "      <td>...</td>\n",
       "      <td>0.0</td>\n",
       "      <td>0.0</td>\n",
       "      <td>0.0</td>\n",
       "      <td>1.0</td>\n",
       "      <td>0</td>\n",
       "      <td>0</td>\n",
       "      <td>0</td>\n",
       "      <td>1</td>\n",
       "      <td>0</td>\n",
       "      <td>0</td>\n",
       "    </tr>\n",
       "    <tr>\n",
       "      <th>297814</th>\n",
       "      <td>Air_India</td>\n",
       "      <td>Chennai</td>\n",
       "      <td>Evening</td>\n",
       "      <td>one</td>\n",
       "      <td>Afternoon</td>\n",
       "      <td>Kolkata</td>\n",
       "      <td>Business</td>\n",
       "      <td>20.08</td>\n",
       "      <td>44.0</td>\n",
       "      <td>54481.0</td>\n",
       "      <td>...</td>\n",
       "      <td>0.0</td>\n",
       "      <td>0.0</td>\n",
       "      <td>0.0</td>\n",
       "      <td>1.0</td>\n",
       "      <td>0</td>\n",
       "      <td>0</td>\n",
       "      <td>0</td>\n",
       "      <td>1</td>\n",
       "      <td>0</td>\n",
       "      <td>0</td>\n",
       "    </tr>\n",
       "    <tr>\n",
       "      <th>297815</th>\n",
       "      <td>Air_India</td>\n",
       "      <td>Chennai</td>\n",
       "      <td>Early_Morning</td>\n",
       "      <td>one</td>\n",
       "      <td>Afternoon</td>\n",
       "      <td>Kolkata</td>\n",
       "      <td>Business</td>\n",
       "      <td>29.83</td>\n",
       "      <td>44.0</td>\n",
       "      <td>54481.0</td>\n",
       "      <td>...</td>\n",
       "      <td>1.0</td>\n",
       "      <td>0.0</td>\n",
       "      <td>0.0</td>\n",
       "      <td>0.0</td>\n",
       "      <td>0</td>\n",
       "      <td>0</td>\n",
       "      <td>0</td>\n",
       "      <td>1</td>\n",
       "      <td>0</td>\n",
       "      <td>0</td>\n",
       "    </tr>\n",
       "    <tr>\n",
       "      <th>297816</th>\n",
       "      <td>Vistara</td>\n",
       "      <td>Chennai</td>\n",
       "      <td>Morning</td>\n",
       "      <td>one</td>\n",
       "      <td>Evening</td>\n",
       "      <td>Kolkata</td>\n",
       "      <td>Business</td>\n",
       "      <td>7.08</td>\n",
       "      <td>44.0</td>\n",
       "      <td>54896.0</td>\n",
       "      <td>...</td>\n",
       "      <td>1.0</td>\n",
       "      <td>0.0</td>\n",
       "      <td>0.0</td>\n",
       "      <td>0.0</td>\n",
       "      <td>0</td>\n",
       "      <td>0</td>\n",
       "      <td>0</td>\n",
       "      <td>1</td>\n",
       "      <td>0</td>\n",
       "      <td>0</td>\n",
       "    </tr>\n",
       "  </tbody>\n",
       "</table>\n",
       "<p>5 rows × 43 columns</p>\n",
       "</div>"
      ],
      "text/plain": [
       "          airline source_city departure_time stops arrival_time  \\\n",
       "297812  Air_India     Chennai        Evening   one        Night   \n",
       "297813  Air_India     Chennai  Early_Morning   one        Night   \n",
       "297814  Air_India     Chennai        Evening   one    Afternoon   \n",
       "297815  Air_India     Chennai  Early_Morning   one    Afternoon   \n",
       "297816    Vistara     Chennai        Morning   one      Evening   \n",
       "\n",
       "       destination_city     class  duration  days_left    price  ...  \\\n",
       "297812          Kolkata  Business      7.58       44.0  54481.0  ...   \n",
       "297813          Kolkata  Business     17.33       44.0  54481.0  ...   \n",
       "297814          Kolkata  Business     20.08       44.0  54481.0  ...   \n",
       "297815          Kolkata  Business     29.83       44.0  54481.0  ...   \n",
       "297816          Kolkata  Business      7.08       44.0  54896.0  ...   \n",
       "\n",
       "        arrival_time_Evening  arrival_time_Late_Night  arrival_time_Morning  \\\n",
       "297812                   1.0                      0.0                   0.0   \n",
       "297813                   0.0                      0.0                   0.0   \n",
       "297814                   0.0                      0.0                   0.0   \n",
       "297815                   1.0                      0.0                   0.0   \n",
       "297816                   1.0                      0.0                   0.0   \n",
       "\n",
       "        arrival_time_Night  destination_city_Bangalore  \\\n",
       "297812                 0.0                           0   \n",
       "297813                 1.0                           0   \n",
       "297814                 1.0                           0   \n",
       "297815                 0.0                           0   \n",
       "297816                 0.0                           0   \n",
       "\n",
       "        destination_city_Chennai  destination_city_Delhi  \\\n",
       "297812                         0                       0   \n",
       "297813                         0                       0   \n",
       "297814                         0                       0   \n",
       "297815                         0                       0   \n",
       "297816                         0                       0   \n",
       "\n",
       "        destination_city_Hyderabad  destination_city_Kolkata  \\\n",
       "297812                           1                         0   \n",
       "297813                           1                         0   \n",
       "297814                           1                         0   \n",
       "297815                           1                         0   \n",
       "297816                           1                         0   \n",
       "\n",
       "        destination_city_Mumbai  \n",
       "297812                        0  \n",
       "297813                        0  \n",
       "297814                        0  \n",
       "297815                        0  \n",
       "297816                        0  \n",
       "\n",
       "[5 rows x 43 columns]"
      ]
     },
     "execution_count": 552,
     "metadata": {},
     "output_type": "execute_result"
    }
   ],
   "source": [
    "data_OHE.tail()"
   ]
  },
  {
   "cell_type": "code",
   "execution_count": 553,
   "metadata": {},
   "outputs": [
    {
     "data": {
      "text/plain": [
       "airline                         0\n",
       "source_city                     0\n",
       "departure_time                  0\n",
       "stops                           0\n",
       "arrival_time                    0\n",
       "destination_city                0\n",
       "class                           0\n",
       "duration                        0\n",
       "days_left                       0\n",
       "price                           0\n",
       "airline_AirAsia                 0\n",
       "airline_Air_India               0\n",
       "airline_GO_FIRST                0\n",
       "airline_Indigo                  0\n",
       "airline_SpiceJet                0\n",
       "airline_Vistara                 0\n",
       "source_city_Bangalore           0\n",
       "source_city_Chennai             0\n",
       "source_city_Delhi               0\n",
       "source_city_Hyderabad           0\n",
       "source_city_Kolkata             0\n",
       "source_city_Mumbai              0\n",
       "departure_time_Afternoon        0\n",
       "departure_time_Early_Morning    0\n",
       "departure_time_Evening          0\n",
       "departure_time_Late_Night       0\n",
       "departure_time_Morning          0\n",
       "departure_time_Night            0\n",
       "stops_one                       0\n",
       "stops_two_or_more               0\n",
       "stops_zero                      0\n",
       "arrival_time_Afternoon          0\n",
       "arrival_time_Early_Morning      0\n",
       "arrival_time_Evening            0\n",
       "arrival_time_Late_Night         0\n",
       "arrival_time_Morning            0\n",
       "arrival_time_Night              0\n",
       "destination_city_Bangalore      0\n",
       "destination_city_Chennai        0\n",
       "destination_city_Delhi          0\n",
       "destination_city_Hyderabad      0\n",
       "destination_city_Kolkata        0\n",
       "destination_city_Mumbai         0\n",
       "dtype: int64"
      ]
     },
     "execution_count": 553,
     "metadata": {},
     "output_type": "execute_result"
    }
   ],
   "source": [
    "data_OHE.isna().sum()"
   ]
  },
  {
   "cell_type": "code",
   "execution_count": 554,
   "metadata": {},
   "outputs": [
    {
     "name": "stdout",
     "output_type": "stream",
     "text": [
      "<class 'pandas.core.frame.DataFrame'>\n",
      "Index: 295481 entries, 0 to 297816\n",
      "Data columns (total 43 columns):\n",
      " #   Column                        Non-Null Count   Dtype  \n",
      "---  ------                        --------------   -----  \n",
      " 0   airline                       295481 non-null  object \n",
      " 1   source_city                   295481 non-null  object \n",
      " 2   departure_time                295481 non-null  object \n",
      " 3   stops                         295481 non-null  object \n",
      " 4   arrival_time                  295481 non-null  object \n",
      " 5   destination_city              295481 non-null  object \n",
      " 6   class                         295481 non-null  object \n",
      " 7   duration                      295481 non-null  float64\n",
      " 8   days_left                     295481 non-null  float64\n",
      " 9   price                         295481 non-null  float64\n",
      " 10  airline_AirAsia               295481 non-null  float64\n",
      " 11  airline_Air_India             295481 non-null  float64\n",
      " 12  airline_GO_FIRST              295481 non-null  float64\n",
      " 13  airline_Indigo                295481 non-null  float64\n",
      " 14  airline_SpiceJet              295481 non-null  float64\n",
      " 15  airline_Vistara               295481 non-null  float64\n",
      " 16  source_city_Bangalore         295481 non-null  float64\n",
      " 17  source_city_Chennai           295481 non-null  float64\n",
      " 18  source_city_Delhi             295481 non-null  float64\n",
      " 19  source_city_Hyderabad         295481 non-null  float64\n",
      " 20  source_city_Kolkata           295481 non-null  float64\n",
      " 21  source_city_Mumbai            295481 non-null  float64\n",
      " 22  departure_time_Afternoon      295481 non-null  float64\n",
      " 23  departure_time_Early_Morning  295481 non-null  float64\n",
      " 24  departure_time_Evening        295481 non-null  float64\n",
      " 25  departure_time_Late_Night     295481 non-null  float64\n",
      " 26  departure_time_Morning        295481 non-null  float64\n",
      " 27  departure_time_Night          295481 non-null  float64\n",
      " 28  stops_one                     295481 non-null  float64\n",
      " 29  stops_two_or_more             295481 non-null  float64\n",
      " 30  stops_zero                    295481 non-null  float64\n",
      " 31  arrival_time_Afternoon        295481 non-null  float64\n",
      " 32  arrival_time_Early_Morning    295481 non-null  float64\n",
      " 33  arrival_time_Evening          295481 non-null  float64\n",
      " 34  arrival_time_Late_Night       295481 non-null  float64\n",
      " 35  arrival_time_Morning          295481 non-null  float64\n",
      " 36  arrival_time_Night            295481 non-null  float64\n",
      " 37  destination_city_Bangalore    295481 non-null  int32  \n",
      " 38  destination_city_Chennai      295481 non-null  int32  \n",
      " 39  destination_city_Delhi        295481 non-null  int32  \n",
      " 40  destination_city_Hyderabad    295481 non-null  int32  \n",
      " 41  destination_city_Kolkata      295481 non-null  int32  \n",
      " 42  destination_city_Mumbai       295481 non-null  int32  \n",
      "dtypes: float64(30), int32(6), object(7)\n",
      "memory usage: 92.4+ MB\n"
     ]
    }
   ],
   "source": [
    "data_OHE.info()"
   ]
  },
  {
   "cell_type": "code",
   "execution_count": 555,
   "metadata": {},
   "outputs": [],
   "source": [
    "data_OHE.drop(columns=features_to_encode, inplace=True)"
   ]
  },
  {
   "cell_type": "markdown",
   "metadata": {},
   "source": [
    "### Lable Encoding"
   ]
  },
  {
   "cell_type": "code",
   "execution_count": 556,
   "metadata": {},
   "outputs": [],
   "source": [
    "from sklearn.preprocessing import LabelEncoder\n",
    "\n",
    "lb = LabelEncoder() \n",
    "data_OHE['class'] = lb.fit_transform(data_OHE['class'])"
   ]
  },
  {
   "cell_type": "code",
   "execution_count": 557,
   "metadata": {},
   "outputs": [
    {
     "name": "stdout",
     "output_type": "stream",
     "text": [
      "<class 'pandas.core.frame.DataFrame'>\n",
      "Index: 295481 entries, 0 to 297816\n",
      "Data columns (total 37 columns):\n",
      " #   Column                        Non-Null Count   Dtype  \n",
      "---  ------                        --------------   -----  \n",
      " 0   class                         295481 non-null  int32  \n",
      " 1   duration                      295481 non-null  float64\n",
      " 2   days_left                     295481 non-null  float64\n",
      " 3   price                         295481 non-null  float64\n",
      " 4   airline_AirAsia               295481 non-null  float64\n",
      " 5   airline_Air_India             295481 non-null  float64\n",
      " 6   airline_GO_FIRST              295481 non-null  float64\n",
      " 7   airline_Indigo                295481 non-null  float64\n",
      " 8   airline_SpiceJet              295481 non-null  float64\n",
      " 9   airline_Vistara               295481 non-null  float64\n",
      " 10  source_city_Bangalore         295481 non-null  float64\n",
      " 11  source_city_Chennai           295481 non-null  float64\n",
      " 12  source_city_Delhi             295481 non-null  float64\n",
      " 13  source_city_Hyderabad         295481 non-null  float64\n",
      " 14  source_city_Kolkata           295481 non-null  float64\n",
      " 15  source_city_Mumbai            295481 non-null  float64\n",
      " 16  departure_time_Afternoon      295481 non-null  float64\n",
      " 17  departure_time_Early_Morning  295481 non-null  float64\n",
      " 18  departure_time_Evening        295481 non-null  float64\n",
      " 19  departure_time_Late_Night     295481 non-null  float64\n",
      " 20  departure_time_Morning        295481 non-null  float64\n",
      " 21  departure_time_Night          295481 non-null  float64\n",
      " 22  stops_one                     295481 non-null  float64\n",
      " 23  stops_two_or_more             295481 non-null  float64\n",
      " 24  stops_zero                    295481 non-null  float64\n",
      " 25  arrival_time_Afternoon        295481 non-null  float64\n",
      " 26  arrival_time_Early_Morning    295481 non-null  float64\n",
      " 27  arrival_time_Evening          295481 non-null  float64\n",
      " 28  arrival_time_Late_Night       295481 non-null  float64\n",
      " 29  arrival_time_Morning          295481 non-null  float64\n",
      " 30  arrival_time_Night            295481 non-null  float64\n",
      " 31  destination_city_Bangalore    295481 non-null  int32  \n",
      " 32  destination_city_Chennai      295481 non-null  int32  \n",
      " 33  destination_city_Delhi        295481 non-null  int32  \n",
      " 34  destination_city_Hyderabad    295481 non-null  int32  \n",
      " 35  destination_city_Kolkata      295481 non-null  int32  \n",
      " 36  destination_city_Mumbai       295481 non-null  int32  \n",
      "dtypes: float64(30), int32(7)\n",
      "memory usage: 77.8 MB\n"
     ]
    }
   ],
   "source": [
    "data_OHE.info()"
   ]
  },
  {
   "cell_type": "markdown",
   "metadata": {},
   "source": [
    "### Factorize"
   ]
  },
  {
   "cell_type": "code",
   "execution_count": 558,
   "metadata": {},
   "outputs": [
    {
     "data": {
      "text/html": [
       "<div>\n",
       "<style scoped>\n",
       "    .dataframe tbody tr th:only-of-type {\n",
       "        vertical-align: middle;\n",
       "    }\n",
       "\n",
       "    .dataframe tbody tr th {\n",
       "        vertical-align: top;\n",
       "    }\n",
       "\n",
       "    .dataframe thead th {\n",
       "        text-align: right;\n",
       "    }\n",
       "</style>\n",
       "<table border=\"1\" class=\"dataframe\">\n",
       "  <thead>\n",
       "    <tr style=\"text-align: right;\">\n",
       "      <th></th>\n",
       "      <th>airline</th>\n",
       "      <th>source_city</th>\n",
       "      <th>departure_time</th>\n",
       "      <th>stops</th>\n",
       "      <th>arrival_time</th>\n",
       "      <th>destination_city</th>\n",
       "      <th>class</th>\n",
       "      <th>duration</th>\n",
       "      <th>days_left</th>\n",
       "      <th>price</th>\n",
       "    </tr>\n",
       "  </thead>\n",
       "  <tbody>\n",
       "    <tr>\n",
       "      <th>0</th>\n",
       "      <td>1</td>\n",
       "      <td>1</td>\n",
       "      <td>1</td>\n",
       "      <td>1</td>\n",
       "      <td>1</td>\n",
       "      <td>1</td>\n",
       "      <td>Economy</td>\n",
       "      <td>2.17</td>\n",
       "      <td>1</td>\n",
       "      <td>5953</td>\n",
       "    </tr>\n",
       "    <tr>\n",
       "      <th>1</th>\n",
       "      <td>1</td>\n",
       "      <td>1</td>\n",
       "      <td>2</td>\n",
       "      <td>1</td>\n",
       "      <td>2</td>\n",
       "      <td>1</td>\n",
       "      <td>Economy</td>\n",
       "      <td>2.33</td>\n",
       "      <td>1</td>\n",
       "      <td>5953</td>\n",
       "    </tr>\n",
       "    <tr>\n",
       "      <th>2</th>\n",
       "      <td>2</td>\n",
       "      <td>1</td>\n",
       "      <td>2</td>\n",
       "      <td>1</td>\n",
       "      <td>3</td>\n",
       "      <td>1</td>\n",
       "      <td>Economy</td>\n",
       "      <td>2.17</td>\n",
       "      <td>1</td>\n",
       "      <td>5956</td>\n",
       "    </tr>\n",
       "    <tr>\n",
       "      <th>3</th>\n",
       "      <td>3</td>\n",
       "      <td>1</td>\n",
       "      <td>3</td>\n",
       "      <td>1</td>\n",
       "      <td>4</td>\n",
       "      <td>1</td>\n",
       "      <td>Economy</td>\n",
       "      <td>2.25</td>\n",
       "      <td>1</td>\n",
       "      <td>5955</td>\n",
       "    </tr>\n",
       "    <tr>\n",
       "      <th>4</th>\n",
       "      <td>3</td>\n",
       "      <td>1</td>\n",
       "      <td>3</td>\n",
       "      <td>1</td>\n",
       "      <td>2</td>\n",
       "      <td>1</td>\n",
       "      <td>Economy</td>\n",
       "      <td>2.33</td>\n",
       "      <td>1</td>\n",
       "      <td>5955</td>\n",
       "    </tr>\n",
       "  </tbody>\n",
       "</table>\n",
       "</div>"
      ],
      "text/plain": [
       "   airline  source_city  departure_time  stops  arrival_time  \\\n",
       "0        1            1               1      1             1   \n",
       "1        1            1               2      1             2   \n",
       "2        2            1               2      1             3   \n",
       "3        3            1               3      1             4   \n",
       "4        3            1               3      1             2   \n",
       "\n",
       "   destination_city    class  duration  days_left  price  \n",
       "0                 1  Economy      2.17          1   5953  \n",
       "1                 1  Economy      2.33          1   5953  \n",
       "2                 1  Economy      2.17          1   5956  \n",
       "3                 1  Economy      2.25          1   5955  \n",
       "4                 1  Economy      2.33          1   5955  "
      ]
     },
     "execution_count": 558,
     "metadata": {},
     "output_type": "execute_result"
    }
   ],
   "source": [
    "data_FAC = data.copy()\n",
    "\n",
    "features_to_encode = ['airline', 'source_city', 'departure_time', 'stops', 'arrival_time', 'destination_city']\n",
    "\n",
    "for f in features_to_encode:\n",
    "    data_FAC[f] = pd.factorize(data_FAC[f]) [0] + 1\n",
    "\n",
    "data_FAC.head()"
   ]
  },
  {
   "cell_type": "markdown",
   "metadata": {},
   "source": [
    "### Lable Encoding"
   ]
  },
  {
   "cell_type": "code",
   "execution_count": 559,
   "metadata": {},
   "outputs": [],
   "source": [
    "lb = LabelEncoder() \n",
    "data_FAC['class'] = lb.fit_transform(data_FAC['class'])"
   ]
  },
  {
   "cell_type": "code",
   "execution_count": 560,
   "metadata": {},
   "outputs": [
    {
     "name": "stdout",
     "output_type": "stream",
     "text": [
      "<class 'pandas.core.frame.DataFrame'>\n",
      "Index: 297817 entries, 0 to 300152\n",
      "Data columns (total 10 columns):\n",
      " #   Column            Non-Null Count   Dtype  \n",
      "---  ------            --------------   -----  \n",
      " 0   airline           297817 non-null  int64  \n",
      " 1   source_city       297817 non-null  int64  \n",
      " 2   departure_time    297817 non-null  int64  \n",
      " 3   stops             297817 non-null  int64  \n",
      " 4   arrival_time      297817 non-null  int64  \n",
      " 5   destination_city  297817 non-null  int64  \n",
      " 6   class             297817 non-null  int32  \n",
      " 7   duration          297817 non-null  float64\n",
      " 8   days_left         297817 non-null  int64  \n",
      " 9   price             297817 non-null  int64  \n",
      "dtypes: float64(1), int32(1), int64(8)\n",
      "memory usage: 31.9 MB\n"
     ]
    }
   ],
   "source": [
    "data_FAC.info()"
   ]
  },
  {
   "cell_type": "markdown",
   "metadata": {},
   "source": [
    "### Test Train Split"
   ]
  },
  {
   "cell_type": "markdown",
   "metadata": {},
   "source": [
    "#### One-Hot Encoded Data"
   ]
  },
  {
   "cell_type": "code",
   "execution_count": 561,
   "metadata": {},
   "outputs": [],
   "source": [
    "X_OHE = data_OHE.drop('price', axis=1)\n",
    "y_OHE = data_OHE[['price']]"
   ]
  },
  {
   "cell_type": "markdown",
   "metadata": {},
   "source": [
    "#### Factorized Data"
   ]
  },
  {
   "cell_type": "code",
   "execution_count": 562,
   "metadata": {},
   "outputs": [],
   "source": [
    "X_FAC = data_FAC.drop('price', axis=1)\n",
    "y_FAC = data_FAC[['price']]"
   ]
  },
  {
   "cell_type": "markdown",
   "metadata": {},
   "source": [
    "#### Normalize"
   ]
  },
  {
   "cell_type": "code",
   "execution_count": 563,
   "metadata": {},
   "outputs": [],
   "source": [
    "from sklearn.preprocessing import MinMaxScaler\n",
    "from sklearn.model_selection import train_test_split\n",
    "\n",
    "encoding = 1 # 0 -> One-Hot Encoding | 1 -> Factorize\n",
    "\n",
    "if encoding == 0: # One-Hot Encoding\n",
    "    scaler_X = MinMaxScaler(feature_range=(0,1)).fit(X_OHE)\n",
    "    scaler_y = MinMaxScaler(feature_range=(0,1)).fit(y_OHE)\n",
    "    X_scaled = pd.DataFrame(scaler_X.transform(X_OHE[X_OHE.columns]), columns=X_OHE.columns)\n",
    "    y_scaled = pd.DataFrame(scaler_y.transform(y_OHE[y_OHE.columns]), columns=y_OHE.columns)\n",
    "\n",
    "    X_train, X_test, y_train, y_test = train_test_split(X_scaled, y_scaled, test_size=0.25, random_state=2023)\n",
    "    y_test = scaler_y.inverse_transform(y_test)\n",
    "\n",
    "elif encoding == 1: # Factorize\n",
    "    scaler_X = MinMaxScaler(feature_range=(0,1)).fit(X_FAC)\n",
    "    scaler_y = MinMaxScaler(feature_range=(0,1)).fit(y_FAC)\n",
    "    X_scaled = pd.DataFrame(scaler_X.transform(X_FAC[X_FAC.columns]), columns=X_FAC.columns)\n",
    "    y_scaled = pd.DataFrame(scaler_y.transform(y_FAC[y_FAC.columns]), columns=y_FAC.columns)\n",
    "\n",
    "    X_train, X_test, y_train, y_test = train_test_split(X_scaled, y_scaled, test_size=0.25, random_state=2023)\n",
    "    y_test = scaler_y.inverse_transform(y_test)\n",
    "\n",
    "else: # Not Normalized\n",
    "    X_train, X_test, y_train, y_test = train_test_split(X_FAC, y_FAC, test_size=0.25, random_state=2023)"
   ]
  },
  {
   "cell_type": "markdown",
   "metadata": {},
   "source": [
    "### Denormalize"
   ]
  },
  {
   "cell_type": "code",
   "execution_count": 564,
   "metadata": {},
   "outputs": [],
   "source": [
    "def denormalize(prediction, encoding=1):\n",
    "    if encoding == 0:\n",
    "        prediction = prediction.reshape(prediction.shape[0], 1)\n",
    "        prediction = scaler_y.inverse_transform(prediction)\n",
    "\n",
    "    elif encoding == 1:\n",
    "        prediction = prediction.reshape(prediction.shape[0], 1)\n",
    "        prediction = scaler_y.inverse_transform(prediction)\n",
    "    \n",
    "    return prediction"
   ]
  },
  {
   "cell_type": "code",
   "execution_count": 565,
   "metadata": {},
   "outputs": [],
   "source": [
    "from sklearn.metrics import classification_report, ConfusionMatrixDisplay\n",
    "from sklearn.metrics import mean_absolute_error\n",
    "from sklearn.metrics import mean_squared_error\n",
    "\n",
    "from sklearn.model_selection import cross_val_score\n",
    "from sklearn.model_selection import GridSearchCV"
   ]
  },
  {
   "cell_type": "markdown",
   "metadata": {},
   "source": [
    "#### Aux Functions"
   ]
  },
  {
   "cell_type": "code",
   "execution_count": 566,
   "metadata": {},
   "outputs": [],
   "source": [
    "def printMetrics(prediction):\n",
    "    print('Mean Absolute Error: ',end='')\n",
    "    print(mean_absolute_error(y_test, prediction))\n",
    "    \n",
    "    print('\\nMean Squared Error: ', end='')\n",
    "    print(mean_squared_error(y_test, prediction, squared=True))\n",
    "    \n",
    "    print('\\nRoot Mean Squared Error: ', end='')\n",
    "    print(mean_squared_error(y_test, prediction, squared=False))\n",
    "\n",
    "\n",
    "def plotPrediction(prediction):\n",
    "    plt.scatter(y_test, prediction)\n",
    "    plt.xlabel('Actual values')\n",
    "    plt.ylabel('Predicted values')\n",
    "    plt.title('Comparison of Predicted vs Actual values')"
   ]
  },
  {
   "cell_type": "markdown",
   "metadata": {},
   "source": [
    "## Modeling"
   ]
  },
  {
   "cell_type": "markdown",
   "metadata": {},
   "source": [
    "### Regressão Linear"
   ]
  },
  {
   "cell_type": "markdown",
   "metadata": {},
   "source": [
    "#### Hold-out Validation"
   ]
  },
  {
   "cell_type": "code",
   "execution_count": 43,
   "metadata": {},
   "outputs": [],
   "source": [
    "from sklearn.tree import DecisionTreeRegressor\n",
    "\n",
    "dtr = DecisionTreeRegressor(random_state=2023)\n",
    "\n",
    "dtr.fit(X_train, y_train)\n",
    "predictionDTR = dtr.predict(X_test)\n",
    "\n",
    "predictionDTR = denormalize(predictionDTR, encoding)"
   ]
  },
  {
   "cell_type": "code",
   "execution_count": 44,
   "metadata": {},
   "outputs": [
    {
     "name": "stdout",
     "output_type": "stream",
     "text": [
      "Mean Absolute Error: 1201.0260477501095\n",
      "\n",
      "Mean Squared Error: 12340414.261325173\n",
      "\n",
      "Root Mean Squared Error: 3512.8925775385123\n"
     ]
    }
   ],
   "source": [
    "printMetrics(predictionDTR)"
   ]
  },
  {
   "cell_type": "code",
   "execution_count": 45,
   "metadata": {},
   "outputs": [
    {
     "data": {
      "image/png": "[encoded data removed]",
      "text/plain": [
       "<Figure size 640x480 with 1 Axes>"
      ]
     },
     "metadata": {},
     "output_type": "display_data"
    }
   ],
   "source": [
    "plotPrediction(predictionDTR)"
   ]
  },
  {
   "cell_type": "markdown",
   "metadata": {},
   "source": [
    "#### GridSearch"
   ]
  },
  {
   "cell_type": "code",
   "execution_count": 46,
   "metadata": {},
   "outputs": [
    {
     "name": "stdout",
     "output_type": "stream",
     "text": [
      "Fitting 5 folds for each of 6 candidates, totalling 30 fits\n",
      "[CV 1/5] END ........criterion=mse, splitter=best;, score=nan total time=   0.0s\n",
      "[CV 2/5] END ........criterion=mse, splitter=best;, score=nan total time=   0.0s\n",
      "[CV 3/5] END ........criterion=mse, splitter=best;, score=nan total time=   0.0s\n",
      "[CV 4/5] END ........criterion=mse, splitter=best;, score=nan total time=   0.0s\n",
      "[CV 5/5] END ........criterion=mse, splitter=best;, score=nan total time=   0.0s\n",
      "[CV 1/5] END ......criterion=mse, splitter=random;, score=nan total time=   0.0s\n",
      "[CV 2/5] END ......criterion=mse, splitter=random;, score=nan total time=   0.0s\n",
      "[CV 3/5] END ......criterion=mse, splitter=random;, score=nan total time=   0.0s\n",
      "[CV 4/5] END ......criterion=mse, splitter=random;, score=nan total time=   0.0s\n",
      "[CV 5/5] END ......criterion=mse, splitter=random;, score=nan total time=   0.0s\n",
      "[CV 1/5] END criterion=friedman_mse, splitter=best;, score=0.974 total time=   0.4s\n",
      "[CV 2/5] END criterion=friedman_mse, splitter=best;, score=0.975 total time=   0.4s\n",
      "[CV 3/5] END criterion=friedman_mse, splitter=best;, score=0.975 total time=   0.4s\n",
      "[CV 4/5] END criterion=friedman_mse, splitter=best;, score=0.975 total time=   0.4s\n",
      "[CV 5/5] END criterion=friedman_mse, splitter=best;, score=0.974 total time=   0.4s\n",
      "[CV 1/5] END criterion=friedman_mse, splitter=random;, score=0.973 total time=   0.2s\n",
      "[CV 2/5] END criterion=friedman_mse, splitter=random;, score=0.973 total time=   0.2s\n",
      "[CV 3/5] END criterion=friedman_mse, splitter=random;, score=0.973 total time=   0.2s\n",
      "[CV 4/5] END criterion=friedman_mse, splitter=random;, score=0.969 total time=   0.2s\n",
      "[CV 5/5] END criterion=friedman_mse, splitter=random;, score=0.972 total time=   0.2s\n",
      "[CV 1/5] END ........criterion=mae, splitter=best;, score=nan total time=   0.0s\n",
      "[CV 2/5] END ........criterion=mae, splitter=best;, score=nan total time=   0.0s\n",
      "[CV 3/5] END ........criterion=mae, splitter=best;, score=nan total time=   0.0s\n",
      "[CV 4/5] END ........criterion=mae, splitter=best;, score=nan total time=   0.0s\n",
      "[CV 5/5] END ........criterion=mae, splitter=best;, score=nan total time=   0.0s\n",
      "[CV 1/5] END ......criterion=mae, splitter=random;, score=nan total time=   0.0s\n",
      "[CV 2/5] END ......criterion=mae, splitter=random;, score=nan total time=   0.0s\n",
      "[CV 3/5] END ......criterion=mae, splitter=random;, score=nan total time=   0.0s\n",
      "[CV 4/5] END ......criterion=mae, splitter=random;, score=nan total time=   0.0s\n",
      "[CV 5/5] END ......criterion=mae, splitter=random;, score=nan total time=   0.0s\n",
      "Best estimator:  DecisionTreeRegressor(criterion='friedman_mse', random_state=2023)\n"
     ]
    }
   ],
   "source": [
    "param_grid = {\n",
    "    'criterion': ['mse', 'friedman_mse', 'mae'],\n",
    "    'splitter': ['best', 'random']\n",
    "}\n",
    "\n",
    "grid_searchDTR = GridSearchCV(dtr, param_grid, cv=5, refit=True, verbose=3)\n",
    "grid_searchDTR.fit(X_train, y_train)\n",
    "grid_predictionDTR = grid_searchDTR.predict(X_test)\n",
    "\n",
    "\n",
    "print(\"Best estimator: \", grid_searchDTR.best_estimator_)\n",
    "\n",
    "\n",
    "grid_predictionDTR = denormalize(grid_predictionDTR, encoding)"
   ]
  },
  {
   "cell_type": "code",
   "execution_count": 47,
   "metadata": {},
   "outputs": [
    {
     "name": "stdout",
     "output_type": "stream",
     "text": [
      "Mean Absolute Error: 1201.1122597391004\n",
      "\n",
      "Mean Squared Error: 12325468.040344438\n",
      "\n",
      "Root Mean Squared Error: 3510.7645948346403\n"
     ]
    }
   ],
   "source": [
    "printMetrics(grid_predictionDTR)"
   ]
  },
  {
   "cell_type": "code",
   "execution_count": 48,
   "metadata": {},
   "outputs": [
    {
     "data": {
      "image/png": "[encoded data removed]",
      "text/plain": [
       "<Figure size 640x480 with 1 Axes>"
      ]
     },
     "metadata": {},
     "output_type": "display_data"
    }
   ],
   "source": [
    "plotPrediction(grid_predictionDTR)"
   ]
  },
  {
   "cell_type": "markdown",
   "metadata": {},
   "source": [
    "### Random Forest"
   ]
  },
  {
   "cell_type": "markdown",
   "metadata": {},
   "source": [
    "#### Hold-out Validation"
   ]
  },
  {
   "cell_type": "code",
   "execution_count": 49,
   "metadata": {},
   "outputs": [
    {
     "name": "stdout",
     "output_type": "stream",
     "text": [
      "Mean Absolute Error: 1098.7642419346087\n",
      "\n",
      "Mean Squared Error: 7576475.795407344\n",
      "\n",
      "Root Mean Squared Error: 2752.539880802337\n"
     ]
    }
   ],
   "source": [
    "from sklearn.ensemble import RandomForestRegressor\n",
    "\n",
    "rfr = RandomForestRegressor(random_state=2023)\n",
    "rfr.fit(X_train, y_train)\n",
    "predictionRFR = rfr.predict(X_test)\n",
    "\n",
    "predictionRFR = denormalize(predictionRFR, encoding)\n",
    "\n",
    "printMetrics(predictionRFR)"
   ]
  },
  {
   "cell_type": "code",
   "execution_count": 50,
   "metadata": {},
   "outputs": [
    {
     "data": {
      "image/png": "[encoded data removed]",
      "text/plain": [
       "<Figure size 640x480 with 1 Axes>"
      ]
     },
     "metadata": {},
     "output_type": "display_data"
    }
   ],
   "source": [
    "plotPrediction(predictionRFR)"
   ]
  },
  {
   "cell_type": "markdown",
   "metadata": {},
   "source": [
    "#### GridSearch"
   ]
  },
  {
   "cell_type": "code",
   "execution_count": 66,
   "metadata": {},
   "outputs": [
    {
     "name": "stdout",
     "output_type": "stream",
     "text": [
      "Fitting 2 folds for each of 9 candidates, totalling 18 fits\n",
      "[CV 1/2] END .max_features=auto, n_estimators=650;, score=nan total time=   0.0s\n",
      "[CV 2/2] END .max_features=auto, n_estimators=650;, score=nan total time=   0.0s\n",
      "[CV 1/2] END .max_features=auto, n_estimators=700;, score=nan total time=   0.0s\n",
      "[CV 2/2] END .max_features=auto, n_estimators=700;, score=nan total time=   0.0s\n",
      "[CV 1/2] END .max_features=auto, n_estimators=750;, score=nan total time=   0.0s\n",
      "[CV 2/2] END .max_features=auto, n_estimators=750;, score=nan total time=   0.0s\n",
      "[CV 1/2] END max_features=sqrt, n_estimators=650;, score=0.983 total time= 1.4min\n",
      "[CV 2/2] END max_features=sqrt, n_estimators=650;, score=0.983 total time= 1.4min\n",
      "[CV 1/2] END max_features=sqrt, n_estimators=700;, score=0.983 total time= 1.5min\n",
      "[CV 2/2] END max_features=sqrt, n_estimators=700;, score=0.983 total time= 1.5min\n",
      "[CV 1/2] END max_features=sqrt, n_estimators=750;, score=0.983 total time= 1.7min\n",
      "[CV 2/2] END max_features=sqrt, n_estimators=750;, score=0.983 total time= 1.7min\n",
      "[CV 1/2] END max_features=log2, n_estimators=650;, score=0.983 total time= 1.5min\n",
      "[CV 2/2] END max_features=log2, n_estimators=650;, score=0.983 total time= 1.5min\n",
      "[CV 1/2] END max_features=log2, n_estimators=700;, score=0.983 total time= 1.6min\n",
      "[CV 2/2] END max_features=log2, n_estimators=700;, score=0.983 total time= 1.5min\n",
      "[CV 1/2] END max_features=log2, n_estimators=750;, score=0.983 total time= 1.6min\n",
      "[CV 2/2] END max_features=log2, n_estimators=750;, score=0.983 total time= 1.7min\n",
      "Best estimator:  RandomForestRegressor(max_features='sqrt', n_estimators=700, random_state=2023)\n"
     ]
    }
   ],
   "source": [
    "param_grid = {\n",
    "    'n_estimators': [700, 725],\n",
    "    'max_features': ['sqrt'],\n",
    "}\n",
    "\n",
    "grid_searchRFR = GridSearchCV(rfr, param_grid, cv=2, refit=True, verbose=3)\n",
    "grid_searchRFR.fit(X_train, y_train)\n",
    "grid_predictionRFR = grid_searchRFR.predict(X_test)\n",
    "\n",
    "grid_predictionRFR = denormalize(grid_predictionRFR, encoding)\n",
    "\n",
    "print(\"Best estimator: \", grid_searchRFR.best_estimator_)"
   ]
  },
  {
   "cell_type": "code",
   "execution_count": 69,
   "metadata": {},
   "outputs": [
    {
     "name": "stdout",
     "output_type": "stream",
     "text": [
      "Mean Absolute Error: 1211.7219949261168\n",
      "\n",
      "Mean Squared Error: 7862234.497419074\n",
      "\n",
      "Root Mean Squared Error: 2803.9676348736757\n"
     ]
    }
   ],
   "source": [
    "printMetrics(grid_predictionRFR)"
   ]
  },
  {
   "cell_type": "code",
   "execution_count": 70,
   "metadata": {},
   "outputs": [
    {
     "data": {
      "image/png": "[encoded data removed]",
      "text/plain": [
       "<Figure size 640x480 with 1 Axes>"
      ]
     },
     "metadata": {},
     "output_type": "display_data"
    }
   ],
   "source": [
    "plotPrediction(grid_predictionRFR)"
   ]
  },
  {
   "cell_type": "markdown",
   "metadata": {},
   "source": [
    "### Multilayer Perceptron"
   ]
  },
  {
   "cell_type": "markdown",
   "metadata": {},
   "source": [
    "#### Build Model"
   ]
  },
  {
   "cell_type": "code",
   "execution_count": 567,
   "metadata": {},
   "outputs": [],
   "source": [
    "import tensorflow as tf\n",
    "from tensorflow import keras\n",
    "from tensorflow.keras.models import Sequential\n",
    "from tensorflow.keras.layers import Dense#, Dropout, BatchNormalization\n",
    "from scikeras.wrappers import KerasRegressor#, KerasClassifier"
   ]
  },
  {
   "cell_type": "code",
   "execution_count": 568,
   "metadata": {},
   "outputs": [
    {
     "data": {
      "text/plain": [
       "9"
      ]
     },
     "execution_count": 568,
     "metadata": {},
     "output_type": "execute_result"
    }
   ],
   "source": [
    "X_train.shape[1]"
   ]
  },
  {
   "cell_type": "code",
   "execution_count": 569,
   "metadata": {},
   "outputs": [],
   "source": [
    "def build_model(activation = 'relu', learning_rate = 0.01, input_dim=9): # To get input_dim: X.shape[1]\n",
    "    model = Sequential()\n",
    "    model.add(Dense(32, input_dim=input_dim, activation=activation))\n",
    "    model.add(Dense(16, activation=activation))\n",
    "    model.add(Dense(8, activation=activation))\n",
    "    model.add(Dense(1, activation=activation)) #output\n",
    "\n",
    "    # Compile the model\n",
    "\n",
    "    model.compile(\n",
    "        loss = 'mae',\n",
    "        optimizer = tf.optimizers.Adam(learning_rate),\n",
    "        metrics = ['mae', 'mse']\n",
    "    )\n",
    "    return model"
   ]
  },
  {
   "cell_type": "code",
   "execution_count": 570,
   "metadata": {},
   "outputs": [
    {
     "name": "stdout",
     "output_type": "stream",
     "text": [
      "Model: \"sequential_63\"\n",
      "_________________________________________________________________\n",
      " Layer (type)                Output Shape              Param #   \n",
      "=================================================================\n",
      " dense_197 (Dense)           (None, 32)                320       \n",
      "                                                                 \n",
      " dense_198 (Dense)           (None, 16)                528       \n",
      "                                                                 \n",
      " dense_199 (Dense)           (None, 8)                 136       \n",
      "                                                                 \n",
      " dense_200 (Dense)           (None, 1)                 9         \n",
      "                                                                 \n",
      "=================================================================\n",
      "Total params: 993\n",
      "Trainable params: 993\n",
      "Non-trainable params: 0\n",
      "_________________________________________________________________\n"
     ]
    }
   ],
   "source": [
    "model = build_model()\n",
    "model.summary()"
   ]
  },
  {
   "cell_type": "code",
   "execution_count": 571,
   "metadata": {},
   "outputs": [],
   "source": [
    "from sklearn.model_selection import KFold\n",
    "\n",
    "optimizer = ['Adagrad']\n",
    "param_grid = dict(optimizer = optimizer)\n",
    "\n",
    "kf = KFold(n_splits=5, shuffle=True, random_state=2023)\n",
    "\n",
    "model = KerasRegressor(model = build_model, batch_size=32, epochs=20, validation_split = 0.10)\n",
    "\n",
    "grid_search = GridSearchCV(estimator = model, param_grid = param_grid, cv = kf, scoring = 'neg_mean_absolute_error', verbose=1, refit=True)"
   ]
  },
  {
   "cell_type": "code",
   "execution_count": 572,
   "metadata": {},
   "outputs": [
    {
     "name": "stdout",
     "output_type": "stream",
     "text": [
      "Fitting 5 folds for each of 1 candidates, totalling 5 fits\n",
      "Epoch 1/20\n"
     ]
    },
    {
     "name": "stdout",
     "output_type": "stream",
     "text": [
      "5026/5026 [==============================] - 4s 606us/step - loss: 0.0356 - mae: 0.0356 - mse: 0.0035 - val_loss: 0.0321 - val_mae: 0.0321 - val_mse: 0.0029\n",
      "Epoch 2/20\n",
      "5026/5026 [==============================] - 3s 588us/step - loss: 0.0326 - mae: 0.0326 - mse: 0.0029 - val_loss: 0.0310 - val_mae: 0.0310 - val_mse: 0.0028\n",
      "Epoch 3/20\n",
      "5026/5026 [==============================] - 3s 591us/step - loss: 0.0318 - mae: 0.0318 - mse: 0.0028 - val_loss: 0.0344 - val_mae: 0.0344 - val_mse: 0.0030\n",
      "Epoch 4/20\n",
      "5026/5026 [==============================] - 3s 608us/step - loss: 0.0311 - mae: 0.0311 - mse: 0.0028 - val_loss: 0.0306 - val_mae: 0.0306 - val_mse: 0.0027\n",
      "Epoch 5/20\n",
      "5026/5026 [==============================] - 3s 614us/step - loss: 0.0308 - mae: 0.0308 - mse: 0.0027 - val_loss: 0.0300 - val_mae: 0.0300 - val_mse: 0.0026\n",
      "Epoch 6/20\n",
      "5026/5026 [==============================] - 3s 609us/step - loss: 0.0306 - mae: 0.0306 - mse: 0.0027 - val_loss: 0.0298 - val_mae: 0.0298 - val_mse: 0.0025\n",
      "Epoch 7/20\n",
      "5026/5026 [==============================] - 3s 616us/step - loss: 0.0304 - mae: 0.0304 - mse: 0.0027 - val_loss: 0.0287 - val_mae: 0.0287 - val_mse: 0.0025\n",
      "Epoch 8/20\n",
      "5026/5026 [==============================] - 3s 618us/step - loss: 0.0302 - mae: 0.0302 - mse: 0.0027 - val_loss: 0.0308 - val_mae: 0.0308 - val_mse: 0.0025\n",
      "Epoch 9/20\n",
      "5026/5026 [==============================] - 3s 600us/step - loss: 0.0302 - mae: 0.0302 - mse: 0.0027 - val_loss: 0.0306 - val_mae: 0.0306 - val_mse: 0.0027\n",
      "Epoch 10/20\n",
      "5026/5026 [==============================] - 3s 600us/step - loss: 0.0302 - mae: 0.0302 - mse: 0.0027 - val_loss: 0.0328 - val_mae: 0.0328 - val_mse: 0.0026\n",
      "Epoch 11/20\n",
      "5026/5026 [==============================] - 3s 604us/step - loss: 0.0300 - mae: 0.0300 - mse: 0.0026 - val_loss: 0.0282 - val_mae: 0.0282 - val_mse: 0.0024\n",
      "Epoch 12/20\n",
      "5026/5026 [==============================] - 3s 605us/step - loss: 0.0297 - mae: 0.0297 - mse: 0.0026 - val_loss: 0.0293 - val_mae: 0.0293 - val_mse: 0.0025\n",
      "Epoch 13/20\n",
      "5026/5026 [==============================] - 3s 603us/step - loss: 0.0295 - mae: 0.0295 - mse: 0.0026 - val_loss: 0.0295 - val_mae: 0.0295 - val_mse: 0.0026\n",
      "Epoch 14/20\n",
      "5026/5026 [==============================] - 3s 604us/step - loss: 0.0295 - mae: 0.0295 - mse: 0.0026 - val_loss: 0.0279 - val_mae: 0.0279 - val_mse: 0.0024\n",
      "Epoch 15/20\n",
      "5026/5026 [==============================] - 3s 599us/step - loss: 0.0296 - mae: 0.0296 - mse: 0.0026 - val_loss: 0.0305 - val_mae: 0.0305 - val_mse: 0.0026\n",
      "Epoch 16/20\n",
      "5026/5026 [==============================] - 3s 602us/step - loss: 0.0294 - mae: 0.0294 - mse: 0.0026 - val_loss: 0.0330 - val_mae: 0.0330 - val_mse: 0.0031\n",
      "Epoch 17/20\n",
      "5026/5026 [==============================] - 3s 608us/step - loss: 0.0296 - mae: 0.0296 - mse: 0.0026 - val_loss: 0.0305 - val_mae: 0.0305 - val_mse: 0.0026\n",
      "Epoch 18/20\n",
      "5026/5026 [==============================] - 3s 615us/step - loss: 0.0294 - mae: 0.0294 - mse: 0.0026 - val_loss: 0.0291 - val_mae: 0.0291 - val_mse: 0.0025\n",
      "Epoch 19/20\n",
      "5026/5026 [==============================] - 3s 602us/step - loss: 0.0296 - mae: 0.0296 - mse: 0.0026 - val_loss: 0.0287 - val_mae: 0.0287 - val_mse: 0.0025\n",
      "Epoch 20/20\n",
      "5026/5026 [==============================] - 3s 606us/step - loss: 0.0294 - mae: 0.0294 - mse: 0.0026 - val_loss: 0.0294 - val_mae: 0.0294 - val_mse: 0.0025\n",
      "1397/1397 [==============================] - 1s 393us/step\n",
      "Epoch 1/20\n",
      "5026/5026 [==============================] - 3s 610us/step - loss: 0.2023 - mae: 0.2023 - mse: 0.0945 - val_loss: 0.2035 - val_mae: 0.2035 - val_mse: 0.0949\n",
      "Epoch 2/20\n",
      "5026/5026 [==============================] - 3s 598us/step - loss: 0.2023 - mae: 0.2023 - mse: 0.0945 - val_loss: 0.2035 - val_mae: 0.2035 - val_mse: 0.0949\n",
      "Epoch 3/20\n",
      "5026/5026 [==============================] - 3s 611us/step - loss: 0.2023 - mae: 0.2023 - mse: 0.0945 - val_loss: 0.2035 - val_mae: 0.2035 - val_mse: 0.0949\n",
      "Epoch 4/20\n",
      "5026/5026 [==============================] - 3s 627us/step - loss: 0.2023 - mae: 0.2023 - mse: 0.0945 - val_loss: 0.2035 - val_mae: 0.2035 - val_mse: 0.0949\n",
      "Epoch 5/20\n",
      "5026/5026 [==============================] - 3s 624us/step - loss: 0.2023 - mae: 0.2023 - mse: 0.0945 - val_loss: 0.2035 - val_mae: 0.2035 - val_mse: 0.0949\n",
      "Epoch 6/20\n",
      "5026/5026 [==============================] - 3s 592us/step - loss: 0.2023 - mae: 0.2023 - mse: 0.0945 - val_loss: 0.2035 - val_mae: 0.2035 - val_mse: 0.0949\n",
      "Epoch 7/20\n",
      "5026/5026 [==============================] - 3s 608us/step - loss: 0.2023 - mae: 0.2023 - mse: 0.0945 - val_loss: 0.2035 - val_mae: 0.2035 - val_mse: 0.0949\n",
      "Epoch 8/20\n",
      "5026/5026 [==============================] - 3s 589us/step - loss: 0.2023 - mae: 0.2023 - mse: 0.0945 - val_loss: 0.2035 - val_mae: 0.2035 - val_mse: 0.0949\n",
      "Epoch 9/20\n",
      "5026/5026 [==============================] - 3s 579us/step - loss: 0.2023 - mae: 0.2023 - mse: 0.0945 - val_loss: 0.2035 - val_mae: 0.2035 - val_mse: 0.0949\n",
      "Epoch 10/20\n",
      "5026/5026 [==============================] - 3s 583us/step - loss: 0.2023 - mae: 0.2023 - mse: 0.0945 - val_loss: 0.2035 - val_mae: 0.2035 - val_mse: 0.0949\n",
      "Epoch 11/20\n",
      "5026/5026 [==============================] - 3s 582us/step - loss: 0.2023 - mae: 0.2023 - mse: 0.0945 - val_loss: 0.2035 - val_mae: 0.2035 - val_mse: 0.0949\n",
      "Epoch 12/20\n",
      "5026/5026 [==============================] - 3s 583us/step - loss: 0.2023 - mae: 0.2023 - mse: 0.0945 - val_loss: 0.2035 - val_mae: 0.2035 - val_mse: 0.0949\n",
      "Epoch 13/20\n",
      "5026/5026 [==============================] - 3s 583us/step - loss: 0.2023 - mae: 0.2023 - mse: 0.0945 - val_loss: 0.2035 - val_mae: 0.2035 - val_mse: 0.0949\n",
      "Epoch 14/20\n",
      "5026/5026 [==============================] - 3s 581us/step - loss: 0.2023 - mae: 0.2023 - mse: 0.0945 - val_loss: 0.2035 - val_mae: 0.2035 - val_mse: 0.0949\n",
      "Epoch 15/20\n",
      "5026/5026 [==============================] - 3s 581us/step - loss: 0.2023 - mae: 0.2023 - mse: 0.0945 - val_loss: 0.2035 - val_mae: 0.2035 - val_mse: 0.0949\n",
      "Epoch 16/20\n",
      "5026/5026 [==============================] - 3s 579us/step - loss: 0.2023 - mae: 0.2023 - mse: 0.0945 - val_loss: 0.2035 - val_mae: 0.2035 - val_mse: 0.0949\n",
      "Epoch 17/20\n",
      "5026/5026 [==============================] - 3s 605us/step - loss: 0.2023 - mae: 0.2023 - mse: 0.0945 - val_loss: 0.2035 - val_mae: 0.2035 - val_mse: 0.0949\n",
      "Epoch 18/20\n",
      "5026/5026 [==============================] - 3s 596us/step - loss: 0.2023 - mae: 0.2023 - mse: 0.0945 - val_loss: 0.2035 - val_mae: 0.2035 - val_mse: 0.0949\n",
      "Epoch 19/20\n",
      "5026/5026 [==============================] - 3s 579us/step - loss: 0.2023 - mae: 0.2023 - mse: 0.0945 - val_loss: 0.2035 - val_mae: 0.2035 - val_mse: 0.0949\n",
      "Epoch 20/20\n",
      "5026/5026 [==============================] - 3s 594us/step - loss: 0.2023 - mae: 0.2023 - mse: 0.0945 - val_loss: 0.2035 - val_mae: 0.2035 - val_mse: 0.0949\n",
      "1397/1397 [==============================] - 1s 413us/step\n",
      "Epoch 1/20\n",
      "5026/5026 [==============================] - 3s 593us/step - loss: 0.0395 - mae: 0.0395 - mse: 0.0049 - val_loss: 0.0330 - val_mae: 0.0330 - val_mse: 0.0030\n",
      "Epoch 2/20\n",
      "5026/5026 [==============================] - 3s 578us/step - loss: 0.0344 - mae: 0.0344 - mse: 0.0032 - val_loss: 0.0335 - val_mae: 0.0335 - val_mse: 0.0031\n",
      "Epoch 3/20\n",
      "5026/5026 [==============================] - 3s 578us/step - loss: 0.0338 - mae: 0.0338 - mse: 0.0031 - val_loss: 0.0332 - val_mae: 0.0332 - val_mse: 0.0030\n",
      "Epoch 4/20\n",
      "5026/5026 [==============================] - 3s 581us/step - loss: 0.0332 - mae: 0.0332 - mse: 0.0030 - val_loss: 0.0320 - val_mae: 0.0320 - val_mse: 0.0027\n",
      "Epoch 5/20\n",
      "5026/5026 [==============================] - 3s 576us/step - loss: 0.0328 - mae: 0.0328 - mse: 0.0029 - val_loss: 0.0315 - val_mae: 0.0315 - val_mse: 0.0027\n",
      "Epoch 6/20\n",
      "5026/5026 [==============================] - 3s 584us/step - loss: 0.0321 - mae: 0.0321 - mse: 0.0028 - val_loss: 0.0317 - val_mae: 0.0317 - val_mse: 0.0027\n",
      "Epoch 7/20\n",
      "5026/5026 [==============================] - 3s 597us/step - loss: 0.0319 - mae: 0.0319 - mse: 0.0028 - val_loss: 0.0318 - val_mae: 0.0318 - val_mse: 0.0027\n",
      "Epoch 8/20\n",
      "5026/5026 [==============================] - 3s 624us/step - loss: 0.0318 - mae: 0.0318 - mse: 0.0027 - val_loss: 0.0312 - val_mae: 0.0312 - val_mse: 0.0027\n",
      "Epoch 9/20\n",
      "5026/5026 [==============================] - 3s 582us/step - loss: 0.0318 - mae: 0.0318 - mse: 0.0027 - val_loss: 0.0303 - val_mae: 0.0303 - val_mse: 0.0025\n",
      "Epoch 10/20\n",
      "5026/5026 [==============================] - 3s 579us/step - loss: 0.0317 - mae: 0.0317 - mse: 0.0027 - val_loss: 0.0308 - val_mae: 0.0308 - val_mse: 0.0026\n",
      "Epoch 11/20\n",
      "5026/5026 [==============================] - 3s 593us/step - loss: 0.0316 - mae: 0.0316 - mse: 0.0027 - val_loss: 0.0318 - val_mae: 0.0318 - val_mse: 0.0027\n",
      "Epoch 12/20\n",
      "5026/5026 [==============================] - 3s 587us/step - loss: 0.0314 - mae: 0.0314 - mse: 0.0027 - val_loss: 0.0315 - val_mae: 0.0315 - val_mse: 0.0027\n",
      "Epoch 13/20\n",
      "5026/5026 [==============================] - 3s 583us/step - loss: 0.0314 - mae: 0.0314 - mse: 0.0027 - val_loss: 0.0303 - val_mae: 0.0303 - val_mse: 0.0025\n",
      "Epoch 14/20\n",
      "5026/5026 [==============================] - 3s 583us/step - loss: 0.0314 - mae: 0.0314 - mse: 0.0027 - val_loss: 0.0322 - val_mae: 0.0322 - val_mse: 0.0027\n",
      "Epoch 15/20\n",
      "5026/5026 [==============================] - 3s 593us/step - loss: 0.0312 - mae: 0.0312 - mse: 0.0027 - val_loss: 0.0299 - val_mae: 0.0299 - val_mse: 0.0025\n",
      "Epoch 16/20\n",
      "5026/5026 [==============================] - 3s 584us/step - loss: 0.0312 - mae: 0.0312 - mse: 0.0027 - val_loss: 0.0310 - val_mae: 0.0310 - val_mse: 0.0027\n",
      "Epoch 17/20\n",
      "5026/5026 [==============================] - 3s 601us/step - loss: 0.0312 - mae: 0.0312 - mse: 0.0027 - val_loss: 0.0337 - val_mae: 0.0337 - val_mse: 0.0028\n",
      "Epoch 18/20\n",
      "5026/5026 [==============================] - 3s 591us/step - loss: 0.0311 - mae: 0.0311 - mse: 0.0027 - val_loss: 0.0303 - val_mae: 0.0303 - val_mse: 0.0026\n",
      "Epoch 19/20\n",
      "5026/5026 [==============================] - 3s 593us/step - loss: 0.0311 - mae: 0.0311 - mse: 0.0027 - val_loss: 0.0306 - val_mae: 0.0306 - val_mse: 0.0026\n",
      "Epoch 20/20\n",
      "5026/5026 [==============================] - 3s 632us/step - loss: 0.0311 - mae: 0.0311 - mse: 0.0027 - val_loss: 0.0305 - val_mae: 0.0305 - val_mse: 0.0026\n",
      "1396/1396 [==============================] - 1s 419us/step\n",
      "Epoch 1/20\n",
      "5026/5026 [==============================] - 4s 718us/step - loss: 0.2027 - mae: 0.2027 - mse: 0.0948 - val_loss: 0.2029 - val_mae: 0.2029 - val_mse: 0.0944\n",
      "Epoch 2/20\n",
      "5026/5026 [==============================] - 3s 655us/step - loss: 0.2027 - mae: 0.2027 - mse: 0.0948 - val_loss: 0.2029 - val_mae: 0.2029 - val_mse: 0.0944\n",
      "Epoch 3/20\n",
      "5026/5026 [==============================] - 3s 644us/step - loss: 0.2027 - mae: 0.2027 - mse: 0.0948 - val_loss: 0.2029 - val_mae: 0.2029 - val_mse: 0.0944\n",
      "Epoch 4/20\n",
      "5026/5026 [==============================] - 3s 585us/step - loss: 0.2027 - mae: 0.2027 - mse: 0.0948 - val_loss: 0.2029 - val_mae: 0.2029 - val_mse: 0.0944\n",
      "Epoch 5/20\n",
      "5026/5026 [==============================] - 3s 580us/step - loss: 0.2027 - mae: 0.2027 - mse: 0.0948 - val_loss: 0.2029 - val_mae: 0.2029 - val_mse: 0.0944\n",
      "Epoch 6/20\n",
      "5026/5026 [==============================] - 3s 593us/step - loss: 0.2027 - mae: 0.2027 - mse: 0.0948 - val_loss: 0.2029 - val_mae: 0.2029 - val_mse: 0.0944\n",
      "Epoch 7/20\n",
      "5026/5026 [==============================] - 3s 595us/step - loss: 0.2027 - mae: 0.2027 - mse: 0.0948 - val_loss: 0.2029 - val_mae: 0.2029 - val_mse: 0.0944\n",
      "Epoch 8/20\n",
      "5026/5026 [==============================] - 3s 588us/step - loss: 0.2027 - mae: 0.2027 - mse: 0.0948 - val_loss: 0.2029 - val_mae: 0.2029 - val_mse: 0.0944\n",
      "Epoch 9/20\n",
      "5026/5026 [==============================] - 3s 597us/step - loss: 0.2027 - mae: 0.2027 - mse: 0.0948 - val_loss: 0.2029 - val_mae: 0.2029 - val_mse: 0.0944\n",
      "Epoch 10/20\n",
      "5026/5026 [==============================] - 3s 579us/step - loss: 0.2027 - mae: 0.2027 - mse: 0.0948 - val_loss: 0.2029 - val_mae: 0.2029 - val_mse: 0.0944\n",
      "Epoch 11/20\n",
      "5026/5026 [==============================] - 3s 574us/step - loss: 0.2027 - mae: 0.2027 - mse: 0.0948 - val_loss: 0.2029 - val_mae: 0.2029 - val_mse: 0.0944\n",
      "Epoch 12/20\n",
      "5026/5026 [==============================] - 3s 577us/step - loss: 0.2027 - mae: 0.2027 - mse: 0.0948 - val_loss: 0.2029 - val_mae: 0.2029 - val_mse: 0.0944\n",
      "Epoch 13/20\n",
      "5026/5026 [==============================] - 3s 578us/step - loss: 0.2027 - mae: 0.2027 - mse: 0.0948 - val_loss: 0.2029 - val_mae: 0.2029 - val_mse: 0.0944\n",
      "Epoch 14/20\n",
      "5026/5026 [==============================] - 3s 575us/step - loss: 0.2027 - mae: 0.2027 - mse: 0.0948 - val_loss: 0.2029 - val_mae: 0.2029 - val_mse: 0.0944\n",
      "Epoch 15/20\n",
      "5026/5026 [==============================] - 3s 573us/step - loss: 0.2027 - mae: 0.2027 - mse: 0.0948 - val_loss: 0.2029 - val_mae: 0.2029 - val_mse: 0.0944\n",
      "Epoch 16/20\n",
      "5026/5026 [==============================] - 3s 596us/step - loss: 0.2027 - mae: 0.2027 - mse: 0.0948 - val_loss: 0.2029 - val_mae: 0.2029 - val_mse: 0.0944\n",
      "Epoch 17/20\n",
      "5026/5026 [==============================] - 3s 587us/step - loss: 0.2027 - mae: 0.2027 - mse: 0.0948 - val_loss: 0.2029 - val_mae: 0.2029 - val_mse: 0.0944\n",
      "Epoch 18/20\n",
      "5026/5026 [==============================] - 3s 659us/step - loss: 0.2027 - mae: 0.2027 - mse: 0.0948 - val_loss: 0.2029 - val_mae: 0.2029 - val_mse: 0.0944\n",
      "Epoch 19/20\n",
      "5026/5026 [==============================] - 3s 632us/step - loss: 0.2027 - mae: 0.2027 - mse: 0.0948 - val_loss: 0.2029 - val_mae: 0.2029 - val_mse: 0.0944\n",
      "Epoch 20/20\n",
      "5026/5026 [==============================] - 3s 594us/step - loss: 0.2027 - mae: 0.2027 - mse: 0.0948 - val_loss: 0.2029 - val_mae: 0.2029 - val_mse: 0.0944\n",
      "1396/1396 [==============================] - 1s 403us/step\n",
      "Epoch 1/20\n",
      "5026/5026 [==============================] - 3s 586us/step - loss: 0.2025 - mae: 0.2025 - mse: 0.0947 - val_loss: 0.2034 - val_mae: 0.2034 - val_mse: 0.0949\n",
      "Epoch 2/20\n",
      "5026/5026 [==============================] - 3s 575us/step - loss: 0.2025 - mae: 0.2025 - mse: 0.0947 - val_loss: 0.2034 - val_mae: 0.2034 - val_mse: 0.0949\n",
      "Epoch 3/20\n",
      "5026/5026 [==============================] - 3s 587us/step - loss: 0.2025 - mae: 0.2025 - mse: 0.0947 - val_loss: 0.2034 - val_mae: 0.2034 - val_mse: 0.0949\n",
      "Epoch 4/20\n",
      "5026/5026 [==============================] - 3s 587us/step - loss: 0.2025 - mae: 0.2025 - mse: 0.0947 - val_loss: 0.2034 - val_mae: 0.2034 - val_mse: 0.0949\n",
      "Epoch 5/20\n",
      "5026/5026 [==============================] - 3s 586us/step - loss: 0.2025 - mae: 0.2025 - mse: 0.0947 - val_loss: 0.2034 - val_mae: 0.2034 - val_mse: 0.0949\n",
      "Epoch 6/20\n",
      "5026/5026 [==============================] - 3s 596us/step - loss: 0.2025 - mae: 0.2025 - mse: 0.0947 - val_loss: 0.2034 - val_mae: 0.2034 - val_mse: 0.0949\n",
      "Epoch 7/20\n",
      "5026/5026 [==============================] - 3s 582us/step - loss: 0.2025 - mae: 0.2025 - mse: 0.0947 - val_loss: 0.2034 - val_mae: 0.2034 - val_mse: 0.0949\n",
      "Epoch 8/20\n",
      "5026/5026 [==============================] - 3s 572us/step - loss: 0.2025 - mae: 0.2025 - mse: 0.0947 - val_loss: 0.2034 - val_mae: 0.2034 - val_mse: 0.0949\n",
      "Epoch 9/20\n",
      "5026/5026 [==============================] - 3s 576us/step - loss: 0.2025 - mae: 0.2025 - mse: 0.0947 - val_loss: 0.2034 - val_mae: 0.2034 - val_mse: 0.0949\n",
      "Epoch 10/20\n",
      "5026/5026 [==============================] - 3s 580us/step - loss: 0.2025 - mae: 0.2025 - mse: 0.0947 - val_loss: 0.2034 - val_mae: 0.2034 - val_mse: 0.0949\n",
      "Epoch 11/20\n",
      "5026/5026 [==============================] - 3s 574us/step - loss: 0.2025 - mae: 0.2025 - mse: 0.0947 - val_loss: 0.2034 - val_mae: 0.2034 - val_mse: 0.0949\n",
      "Epoch 12/20\n",
      "5026/5026 [==============================] - 3s 575us/step - loss: 0.2025 - mae: 0.2025 - mse: 0.0947 - val_loss: 0.2034 - val_mae: 0.2034 - val_mse: 0.0949\n",
      "Epoch 13/20\n",
      "5026/5026 [==============================] - 3s 573us/step - loss: 0.2025 - mae: 0.2025 - mse: 0.0947 - val_loss: 0.2034 - val_mae: 0.2034 - val_mse: 0.0949\n",
      "Epoch 14/20\n",
      "5026/5026 [==============================] - 3s 576us/step - loss: 0.2025 - mae: 0.2025 - mse: 0.0947 - val_loss: 0.2034 - val_mae: 0.2034 - val_mse: 0.0949\n",
      "Epoch 15/20\n",
      "5026/5026 [==============================] - 3s 574us/step - loss: 0.2025 - mae: 0.2025 - mse: 0.0947 - val_loss: 0.2034 - val_mae: 0.2034 - val_mse: 0.0949\n",
      "Epoch 16/20\n",
      "5026/5026 [==============================] - 3s 589us/step - loss: 0.2025 - mae: 0.2025 - mse: 0.0947 - val_loss: 0.2034 - val_mae: 0.2034 - val_mse: 0.0949\n",
      "Epoch 17/20\n",
      "5026/5026 [==============================] - 3s 596us/step - loss: 0.2025 - mae: 0.2025 - mse: 0.0947 - val_loss: 0.2034 - val_mae: 0.2034 - val_mse: 0.0949\n",
      "Epoch 18/20\n",
      "5026/5026 [==============================] - 3s 573us/step - loss: 0.2025 - mae: 0.2025 - mse: 0.0947 - val_loss: 0.2034 - val_mae: 0.2034 - val_mse: 0.0949\n",
      "Epoch 19/20\n",
      "5026/5026 [==============================] - 3s 576us/step - loss: 0.2025 - mae: 0.2025 - mse: 0.0947 - val_loss: 0.2034 - val_mae: 0.2034 - val_mse: 0.0949\n",
      "Epoch 20/20\n",
      "5026/5026 [==============================] - 3s 576us/step - loss: 0.2025 - mae: 0.2025 - mse: 0.0947 - val_loss: 0.2034 - val_mae: 0.2034 - val_mse: 0.0949\n",
      "1396/1396 [==============================] - 1s 397us/step\n",
      "Epoch 1/20\n",
      "6283/6283 [==============================] - 4s 585us/step - loss: 0.0355 - mae: 0.0355 - mse: 0.0034 - val_loss: 0.0329 - val_mae: 0.0329 - val_mse: 0.0029\n",
      "Epoch 2/20\n",
      "6283/6283 [==============================] - 4s 575us/step - loss: 0.0329 - mae: 0.0329 - mse: 0.0030 - val_loss: 0.0338 - val_mae: 0.0338 - val_mse: 0.0029\n",
      "Epoch 3/20\n",
      "6283/6283 [==============================] - 4s 576us/step - loss: 0.0321 - mae: 0.0321 - mse: 0.0028 - val_loss: 0.0307 - val_mae: 0.0307 - val_mse: 0.0027\n",
      "Epoch 4/20\n",
      "6283/6283 [==============================] - 4s 629us/step - loss: 0.0313 - mae: 0.0313 - mse: 0.0027 - val_loss: 0.0302 - val_mae: 0.0302 - val_mse: 0.0025\n",
      "Epoch 5/20\n",
      "6283/6283 [==============================] - 4s 600us/step - loss: 0.0309 - mae: 0.0309 - mse: 0.0027 - val_loss: 0.0320 - val_mae: 0.0320 - val_mse: 0.0028\n",
      "Epoch 6/20\n",
      "6283/6283 [==============================] - 4s 598us/step - loss: 0.0307 - mae: 0.0307 - mse: 0.0027 - val_loss: 0.0321 - val_mae: 0.0321 - val_mse: 0.0028\n",
      "Epoch 7/20\n",
      "6283/6283 [==============================] - 4s 576us/step - loss: 0.0305 - mae: 0.0305 - mse: 0.0026 - val_loss: 0.0320 - val_mae: 0.0320 - val_mse: 0.0028\n",
      "Epoch 8/20\n",
      "6283/6283 [==============================] - 4s 579us/step - loss: 0.0305 - mae: 0.0305 - mse: 0.0026 - val_loss: 0.0329 - val_mae: 0.0329 - val_mse: 0.0027\n",
      "Epoch 9/20\n",
      "6283/6283 [==============================] - 4s 575us/step - loss: 0.0306 - mae: 0.0306 - mse: 0.0027 - val_loss: 0.0319 - val_mae: 0.0319 - val_mse: 0.0026\n",
      "Epoch 10/20\n",
      "6283/6283 [==============================] - 4s 576us/step - loss: 0.0304 - mae: 0.0304 - mse: 0.0026 - val_loss: 0.0297 - val_mae: 0.0297 - val_mse: 0.0026\n",
      "Epoch 11/20\n",
      "6283/6283 [==============================] - 4s 577us/step - loss: 0.0303 - mae: 0.0303 - mse: 0.0026 - val_loss: 0.0334 - val_mae: 0.0334 - val_mse: 0.0031\n",
      "Epoch 12/20\n",
      "6283/6283 [==============================] - 4s 581us/step - loss: 0.0301 - mae: 0.0301 - mse: 0.0026 - val_loss: 0.0311 - val_mae: 0.0311 - val_mse: 0.0026\n",
      "Epoch 13/20\n",
      "6283/6283 [==============================] - 4s 599us/step - loss: 0.0302 - mae: 0.0302 - mse: 0.0026 - val_loss: 0.0364 - val_mae: 0.0364 - val_mse: 0.0036\n",
      "Epoch 14/20\n",
      "6283/6283 [==============================] - 4s 583us/step - loss: 0.0301 - mae: 0.0301 - mse: 0.0026 - val_loss: 0.0299 - val_mae: 0.0299 - val_mse: 0.0026\n",
      "Epoch 15/20\n",
      "6283/6283 [==============================] - 4s 577us/step - loss: 0.0300 - mae: 0.0300 - mse: 0.0026 - val_loss: 0.0300 - val_mae: 0.0300 - val_mse: 0.0026\n",
      "Epoch 16/20\n",
      "6283/6283 [==============================] - 4s 576us/step - loss: 0.0299 - mae: 0.0299 - mse: 0.0026 - val_loss: 0.0298 - val_mae: 0.0298 - val_mse: 0.0026\n",
      "Epoch 17/20\n",
      "6283/6283 [==============================] - 4s 578us/step - loss: 0.0298 - mae: 0.0298 - mse: 0.0026 - val_loss: 0.0324 - val_mae: 0.0324 - val_mse: 0.0026\n",
      "Epoch 18/20\n",
      "6283/6283 [==============================] - 4s 577us/step - loss: 0.0300 - mae: 0.0300 - mse: 0.0026 - val_loss: 0.0317 - val_mae: 0.0317 - val_mse: 0.0027\n",
      "Epoch 19/20\n",
      "6283/6283 [==============================] - 4s 578us/step - loss: 0.0300 - mae: 0.0300 - mse: 0.0026 - val_loss: 0.0332 - val_mae: 0.0332 - val_mse: 0.0028\n",
      "Epoch 20/20\n",
      "6283/6283 [==============================] - 4s 575us/step - loss: 0.0299 - mae: 0.0299 - mse: 0.0026 - val_loss: 0.0340 - val_mae: 0.0340 - val_mse: 0.0032\n"
     ]
    },
    {
     "data": {
      "text/html": [
       "<style>#sk-container-id-13 {color: black;}#sk-container-id-13 pre{padding: 0;}#sk-container-id-13 div.sk-toggleable {background-color: white;}#sk-container-id-13 label.sk-toggleable__label {cursor: pointer;display: block;width: 100%;margin-bottom: 0;padding: 0.3em;box-sizing: border-box;text-align: center;}#sk-container-id-13 label.sk-toggleable__label-arrow:before {content: \"▸\";float: left;margin-right: 0.25em;color: #696969;}#sk-container-id-13 label.sk-toggleable__label-arrow:hover:before {color: black;}#sk-container-id-13 div.sk-estimator:hover label.sk-toggleable__label-arrow:before {color: black;}#sk-container-id-13 div.sk-toggleable__content {max-height: 0;max-width: 0;overflow: hidden;text-align: left;background-color: #f0f8ff;}#sk-container-id-13 div.sk-toggleable__content pre {margin: 0.2em;color: black;border-radius: 0.25em;background-color: #f0f8ff;}#sk-container-id-13 input.sk-toggleable__control:checked~div.sk-toggleable__content {max-height: 200px;max-width: 100%;overflow: auto;}#sk-container-id-13 input.sk-toggleable__control:checked~label.sk-toggleable__label-arrow:before {content: \"▾\";}#sk-container-id-13 div.sk-estimator input.sk-toggleable__control:checked~label.sk-toggleable__label {background-color: #d4ebff;}#sk-container-id-13 div.sk-label input.sk-toggleable__control:checked~label.sk-toggleable__label {background-color: #d4ebff;}#sk-container-id-13 input.sk-hidden--visually {border: 0;clip: rect(1px 1px 1px 1px);clip: rect(1px, 1px, 1px, 1px);height: 1px;margin: -1px;overflow: hidden;padding: 0;position: absolute;width: 1px;}#sk-container-id-13 div.sk-estimator {font-family: monospace;background-color: #f0f8ff;border: 1px dotted black;border-radius: 0.25em;box-sizing: border-box;margin-bottom: 0.5em;}#sk-container-id-13 div.sk-estimator:hover {background-color: #d4ebff;}#sk-container-id-13 div.sk-parallel-item::after {content: \"\";width: 100%;border-bottom: 1px solid gray;flex-grow: 1;}#sk-container-id-13 div.sk-label:hover label.sk-toggleable__label {background-color: #d4ebff;}#sk-container-id-13 div.sk-serial::before {content: \"\";position: absolute;border-left: 1px solid gray;box-sizing: border-box;top: 0;bottom: 0;left: 50%;z-index: 0;}#sk-container-id-13 div.sk-serial {display: flex;flex-direction: column;align-items: center;background-color: white;padding-right: 0.2em;padding-left: 0.2em;position: relative;}#sk-container-id-13 div.sk-item {position: relative;z-index: 1;}#sk-container-id-13 div.sk-parallel {display: flex;align-items: stretch;justify-content: center;background-color: white;position: relative;}#sk-container-id-13 div.sk-item::before, #sk-container-id-13 div.sk-parallel-item::before {content: \"\";position: absolute;border-left: 1px solid gray;box-sizing: border-box;top: 0;bottom: 0;left: 50%;z-index: -1;}#sk-container-id-13 div.sk-parallel-item {display: flex;flex-direction: column;z-index: 1;position: relative;background-color: white;}#sk-container-id-13 div.sk-parallel-item:first-child::after {align-self: flex-end;width: 50%;}#sk-container-id-13 div.sk-parallel-item:last-child::after {align-self: flex-start;width: 50%;}#sk-container-id-13 div.sk-parallel-item:only-child::after {width: 0;}#sk-container-id-13 div.sk-dashed-wrapped {border: 1px dashed gray;margin: 0 0.4em 0.5em 0.4em;box-sizing: border-box;padding-bottom: 0.4em;background-color: white;}#sk-container-id-13 div.sk-label label {font-family: monospace;font-weight: bold;display: inline-block;line-height: 1.2em;}#sk-container-id-13 div.sk-label-container {text-align: center;}#sk-container-id-13 div.sk-container {/* jupyter's `normalize.less` sets `[hidden] { display: none; }` but bootstrap.min.css set `[hidden] { display: none !important; }` so we also need the `!important` here to be able to override the default hidden behavior on the sphinx rendered scikit-learn.org. See: https://github.com/scikit-learn/scikit-learn/issues/21755 */display: inline-block !important;position: relative;}#sk-container-id-13 div.sk-text-repr-fallback {display: none;}</style><div id=\"sk-container-id-13\" class=\"sk-top-container\"><div class=\"sk-text-repr-fallback\"><pre>GridSearchCV(cv=KFold(n_splits=5, random_state=2023, shuffle=True),\n",
       "             estimator=KerasRegressor(batch_size=32, epochs=20, model=&lt;function build_model at 0x000001AA0F1168C0&gt;, validation_split=0.1),\n",
       "             param_grid={&#x27;optimizer&#x27;: [&#x27;Adagrad&#x27;]},\n",
       "             scoring=&#x27;neg_mean_absolute_error&#x27;, verbose=1)</pre><b>In a Jupyter environment, please rerun this cell to show the HTML representation or trust the notebook. <br />On GitHub, the HTML representation is unable to render, please try loading this page with nbviewer.org.</b></div><div class=\"sk-container\" hidden><div class=\"sk-item sk-dashed-wrapped\"><div class=\"sk-label-container\"><div class=\"sk-label sk-toggleable\"><input class=\"sk-toggleable__control sk-hidden--visually\" id=\"sk-estimator-id-25\" type=\"checkbox\" ><label for=\"sk-estimator-id-25\" class=\"sk-toggleable__label sk-toggleable__label-arrow\">GridSearchCV</label><div class=\"sk-toggleable__content\"><pre>GridSearchCV(cv=KFold(n_splits=5, random_state=2023, shuffle=True),\n",
       "             estimator=KerasRegressor(batch_size=32, epochs=20, model=&lt;function build_model at 0x000001AA0F1168C0&gt;, validation_split=0.1),\n",
       "             param_grid={&#x27;optimizer&#x27;: [&#x27;Adagrad&#x27;]},\n",
       "             scoring=&#x27;neg_mean_absolute_error&#x27;, verbose=1)</pre></div></div></div><div class=\"sk-parallel\"><div class=\"sk-parallel-item\"><div class=\"sk-item\"><div class=\"sk-label-container\"><div class=\"sk-label sk-toggleable\"><input class=\"sk-toggleable__control sk-hidden--visually\" id=\"sk-estimator-id-26\" type=\"checkbox\" ><label for=\"sk-estimator-id-26\" class=\"sk-toggleable__label sk-toggleable__label-arrow\">estimator: KerasRegressor</label><div class=\"sk-toggleable__content\"><pre>KerasRegressor(\n",
       "\tmodel=&lt;function build_model at 0x000001AA0F1168C0&gt;\n",
       "\tbuild_fn=None\n",
       "\twarm_start=False\n",
       "\trandom_state=None\n",
       "\toptimizer=rmsprop\n",
       "\tloss=None\n",
       "\tmetrics=None\n",
       "\tbatch_size=32\n",
       "\tvalidation_batch_size=None\n",
       "\tverbose=1\n",
       "\tcallbacks=None\n",
       "\tvalidation_split=0.1\n",
       "\tshuffle=True\n",
       "\trun_eagerly=False\n",
       "\tepochs=20\n",
       ")</pre></div></div></div><div class=\"sk-serial\"><div class=\"sk-item\"><div class=\"sk-estimator sk-toggleable\"><input class=\"sk-toggleable__control sk-hidden--visually\" id=\"sk-estimator-id-27\" type=\"checkbox\" ><label for=\"sk-estimator-id-27\" class=\"sk-toggleable__label sk-toggleable__label-arrow\">KerasRegressor</label><div class=\"sk-toggleable__content\"><pre>KerasRegressor(\n",
       "\tmodel=&lt;function build_model at 0x000001AA0F1168C0&gt;\n",
       "\tbuild_fn=None\n",
       "\twarm_start=False\n",
       "\trandom_state=None\n",
       "\toptimizer=rmsprop\n",
       "\tloss=None\n",
       "\tmetrics=None\n",
       "\tbatch_size=32\n",
       "\tvalidation_batch_size=None\n",
       "\tverbose=1\n",
       "\tcallbacks=None\n",
       "\tvalidation_split=0.1\n",
       "\tshuffle=True\n",
       "\trun_eagerly=False\n",
       "\tepochs=20\n",
       ")</pre></div></div></div></div></div></div></div></div></div></div>"
      ],
      "text/plain": [
       "GridSearchCV(cv=KFold(n_splits=5, random_state=2023, shuffle=True),\n",
       "             estimator=KerasRegressor(batch_size=32, epochs=20, model=<function build_model at 0x000001AA0F1168C0>, validation_split=0.1),\n",
       "             param_grid={'optimizer': ['Adagrad']},\n",
       "             scoring='neg_mean_absolute_error', verbose=1)"
      ]
     },
     "execution_count": 572,
     "metadata": {},
     "output_type": "execute_result"
    }
   ],
   "source": [
    "grid_search.fit(X_train, y_train)"
   ]
  },
  {
   "cell_type": "code",
   "execution_count": 573,
   "metadata": {},
   "outputs": [
    {
     "name": "stdout",
     "output_type": "stream",
     "text": [
      "Best: -0.133459 using {'optimizer': 'Adagrad'}\n"
     ]
    }
   ],
   "source": [
    "print('Best: %f using %s' % (grid_search.best_score_, grid_search.best_params_))"
   ]
  },
  {
   "cell_type": "code",
   "execution_count": 574,
   "metadata": {},
   "outputs": [
    {
     "name": "stdout",
     "output_type": "stream",
     "text": [
      "KerasRegressor(\n",
      "\tmodel=<function build_model at 0x000001AA0F1168C0>\n",
      "\tbuild_fn=None\n",
      "\twarm_start=False\n",
      "\trandom_state=None\n",
      "\toptimizer=Adagrad\n",
      "\tloss=None\n",
      "\tmetrics=None\n",
      "\tbatch_size=32\n",
      "\tvalidation_batch_size=None\n",
      "\tverbose=1\n",
      "\tcallbacks=None\n",
      "\tvalidation_split=0.1\n",
      "\tshuffle=True\n",
      "\trun_eagerly=False\n",
      "\tepochs=20\n",
      ")\n"
     ]
    }
   ],
   "source": [
    "best_mlp_model = grid_search.best_estimator_\n",
    "print(best_mlp_model)"
   ]
  },
  {
   "cell_type": "code",
   "execution_count": 576,
   "metadata": {},
   "outputs": [
    {
     "name": "stdout",
     "output_type": "stream",
     "text": [
      "Epoch 1/100\n",
      "6981/6981 [==============================] - 5s 716us/step - loss: 0.0403 - mae: 0.0403 - mse: 0.0038 - val_loss: 0.2125 - val_mae: 0.2125 - val_mse: 0.0973\n",
      "Epoch 2/100\n",
      "6981/6981 [==============================] - 5s 720us/step - loss: 0.0387 - mae: 0.0387 - mse: 0.0035 - val_loss: 0.2153 - val_mae: 0.2153 - val_mse: 0.1016\n",
      "Epoch 3/100\n",
      "6981/6981 [==============================] - 5s 735us/step - loss: 0.0380 - mae: 0.0380 - mse: 0.0034 - val_loss: 0.2086 - val_mae: 0.2086 - val_mse: 0.0980\n",
      "Epoch 4/100\n",
      "6981/6981 [==============================] - 5s 749us/step - loss: 0.0376 - mae: 0.0376 - mse: 0.0033 - val_loss: 0.1984 - val_mae: 0.1984 - val_mse: 0.0886\n",
      "Epoch 5/100\n",
      "6981/6981 [==============================] - 5s 723us/step - loss: 0.0374 - mae: 0.0374 - mse: 0.0033 - val_loss: 0.2048 - val_mae: 0.2048 - val_mse: 0.0969\n",
      "Epoch 6/100\n",
      "6981/6981 [==============================] - 5s 697us/step - loss: 0.0374 - mae: 0.0374 - mse: 0.0033 - val_loss: 0.2139 - val_mae: 0.2139 - val_mse: 0.0967\n",
      "Epoch 7/100\n",
      "6981/6981 [==============================] - 5s 693us/step - loss: 0.0373 - mae: 0.0373 - mse: 0.0033 - val_loss: 0.2055 - val_mae: 0.2055 - val_mse: 0.0973\n",
      "Epoch 8/100\n",
      "6981/6981 [==============================] - 5s 699us/step - loss: 0.0373 - mae: 0.0373 - mse: 0.0033 - val_loss: 0.2192 - val_mae: 0.2192 - val_mse: 0.1035\n",
      "Epoch 9/100\n",
      "6981/6981 [==============================] - 5s 773us/step - loss: 0.0372 - mae: 0.0372 - mse: 0.0033 - val_loss: 0.2007 - val_mae: 0.2007 - val_mse: 0.0934\n",
      "Epoch 10/100\n",
      "6981/6981 [==============================] - 6s 810us/step - loss: 0.0372 - mae: 0.0372 - mse: 0.0033 - val_loss: 0.2175 - val_mae: 0.2175 - val_mse: 0.1040\n",
      "Epoch 11/100\n",
      "6981/6981 [==============================] - 5s 764us/step - loss: 0.0372 - mae: 0.0372 - mse: 0.0032 - val_loss: 0.2165 - val_mae: 0.2165 - val_mse: 0.1005\n",
      "Epoch 12/100\n",
      "6981/6981 [==============================] - 5s 734us/step - loss: 0.0371 - mae: 0.0371 - mse: 0.0032 - val_loss: 0.2093 - val_mae: 0.2093 - val_mse: 0.0950\n",
      "Epoch 13/100\n",
      "6981/6981 [==============================] - 5s 727us/step - loss: 0.0371 - mae: 0.0371 - mse: 0.0032 - val_loss: 0.1970 - val_mae: 0.1970 - val_mse: 0.0892\n",
      "Epoch 14/100\n",
      "6981/6981 [==============================] - 5s 771us/step - loss: 0.0372 - mae: 0.0372 - mse: 0.0032 - val_loss: 0.2123 - val_mae: 0.2123 - val_mse: 0.1028\n",
      "Epoch 15/100\n",
      "6981/6981 [==============================] - 5s 737us/step - loss: 0.0370 - mae: 0.0370 - mse: 0.0032 - val_loss: 0.1919 - val_mae: 0.1919 - val_mse: 0.0813\n",
      "Epoch 16/100\n",
      "6981/6981 [==============================] - 5s 762us/step - loss: 0.0370 - mae: 0.0370 - mse: 0.0032 - val_loss: 0.2034 - val_mae: 0.2034 - val_mse: 0.0963\n",
      "Epoch 17/100\n",
      "6981/6981 [==============================] - 5s 734us/step - loss: 0.0370 - mae: 0.0370 - mse: 0.0032 - val_loss: 0.2052 - val_mae: 0.2052 - val_mse: 0.0911\n",
      "Epoch 18/100\n",
      "6981/6981 [==============================] - 5s 690us/step - loss: 0.0369 - mae: 0.0369 - mse: 0.0032 - val_loss: 0.2102 - val_mae: 0.2102 - val_mse: 0.0982\n",
      "Epoch 19/100\n",
      "6981/6981 [==============================] - 5s 679us/step - loss: 0.0369 - mae: 0.0369 - mse: 0.0032 - val_loss: 0.2061 - val_mae: 0.2061 - val_mse: 0.0974\n",
      "Epoch 20/100\n",
      "6981/6981 [==============================] - 5s 693us/step - loss: 0.0369 - mae: 0.0369 - mse: 0.0032 - val_loss: 0.2024 - val_mae: 0.2024 - val_mse: 0.0911\n",
      "Epoch 21/100\n",
      "6981/6981 [==============================] - 5s 682us/step - loss: 0.0368 - mae: 0.0368 - mse: 0.0032 - val_loss: 0.2004 - val_mae: 0.2004 - val_mse: 0.0881\n",
      "Epoch 22/100\n",
      "6981/6981 [==============================] - 5s 725us/step - loss: 0.0368 - mae: 0.0368 - mse: 0.0032 - val_loss: 0.2093 - val_mae: 0.2093 - val_mse: 0.0999\n",
      "Epoch 23/100\n",
      "6981/6981 [==============================] - 5s 721us/step - loss: 0.0369 - mae: 0.0369 - mse: 0.0032 - val_loss: 0.2051 - val_mae: 0.2051 - val_mse: 0.0954\n",
      "Epoch 24/100\n",
      "6981/6981 [==============================] - 5s 681us/step - loss: 0.0367 - mae: 0.0367 - mse: 0.0032 - val_loss: 0.1925 - val_mae: 0.1925 - val_mse: 0.0823\n",
      "Epoch 25/100\n",
      "6981/6981 [==============================] - 5s 723us/step - loss: 0.0368 - mae: 0.0368 - mse: 0.0032 - val_loss: 0.2180 - val_mae: 0.2180 - val_mse: 0.1094\n",
      "Epoch 26/100\n",
      "6981/6981 [==============================] - 5s 720us/step - loss: 0.0368 - mae: 0.0368 - mse: 0.0032 - val_loss: 0.1984 - val_mae: 0.1984 - val_mse: 0.0938\n",
      "Epoch 27/100\n",
      "6981/6981 [==============================] - 5s 715us/step - loss: 0.0368 - mae: 0.0368 - mse: 0.0032 - val_loss: 0.2115 - val_mae: 0.2115 - val_mse: 0.0955\n",
      "Epoch 28/100\n",
      "6981/6981 [==============================] - 5s 711us/step - loss: 0.0368 - mae: 0.0368 - mse: 0.0032 - val_loss: 0.2138 - val_mae: 0.2138 - val_mse: 0.1013\n",
      "Epoch 29/100\n",
      "6981/6981 [==============================] - 5s 690us/step - loss: 0.0368 - mae: 0.0368 - mse: 0.0032 - val_loss: 0.2075 - val_mae: 0.2075 - val_mse: 0.0946\n",
      "Epoch 30/100\n",
      "6981/6981 [==============================] - 5s 677us/step - loss: 0.0368 - mae: 0.0368 - mse: 0.0032 - val_loss: 0.2012 - val_mae: 0.2012 - val_mse: 0.0911\n",
      "Epoch 31/100\n",
      "6981/6981 [==============================] - 5s 724us/step - loss: 0.0368 - mae: 0.0368 - mse: 0.0032 - val_loss: 0.2142 - val_mae: 0.2142 - val_mse: 0.1031\n",
      "Epoch 32/100\n",
      "6981/6981 [==============================] - 5s 718us/step - loss: 0.0368 - mae: 0.0368 - mse: 0.0032 - val_loss: 0.2131 - val_mae: 0.2131 - val_mse: 0.0990\n",
      "Epoch 33/100\n",
      "6981/6981 [==============================] - 5s 701us/step - loss: 0.0369 - mae: 0.0369 - mse: 0.0032 - val_loss: 0.2027 - val_mae: 0.2027 - val_mse: 0.0958\n",
      "Epoch 34/100\n",
      "6981/6981 [==============================] - 5s 756us/step - loss: 0.0367 - mae: 0.0367 - mse: 0.0032 - val_loss: 0.2174 - val_mae: 0.2174 - val_mse: 0.1037\n",
      "Epoch 35/100\n",
      "6981/6981 [==============================] - 5s 721us/step - loss: 0.0368 - mae: 0.0368 - mse: 0.0032 - val_loss: 0.2012 - val_mae: 0.2012 - val_mse: 0.0887\n",
      "Epoch 36/100\n",
      "6981/6981 [==============================] - 5s 721us/step - loss: 0.0368 - mae: 0.0368 - mse: 0.0032 - val_loss: 0.2084 - val_mae: 0.2084 - val_mse: 0.0952\n",
      "Epoch 37/100\n",
      "6981/6981 [==============================] - 5s 725us/step - loss: 0.0368 - mae: 0.0368 - mse: 0.0032 - val_loss: 0.1990 - val_mae: 0.1990 - val_mse: 0.0881\n",
      "Epoch 38/100\n",
      "6981/6981 [==============================] - 5s 716us/step - loss: 0.0367 - mae: 0.0367 - mse: 0.0032 - val_loss: 0.2015 - val_mae: 0.2015 - val_mse: 0.0911\n",
      "Epoch 39/100\n",
      "6981/6981 [==============================] - 5s 721us/step - loss: 0.0367 - mae: 0.0367 - mse: 0.0032 - val_loss: 0.2070 - val_mae: 0.2070 - val_mse: 0.0993\n",
      "Epoch 40/100\n",
      "6981/6981 [==============================] - 5s 754us/step - loss: 0.0368 - mae: 0.0368 - mse: 0.0032 - val_loss: 0.2060 - val_mae: 0.2060 - val_mse: 0.0966\n",
      "Epoch 41/100\n",
      "6981/6981 [==============================] - 5s 738us/step - loss: 0.0368 - mae: 0.0368 - mse: 0.0032 - val_loss: 0.2012 - val_mae: 0.2012 - val_mse: 0.0897\n",
      "Epoch 42/100\n",
      "6981/6981 [==============================] - 5s 766us/step - loss: 0.0368 - mae: 0.0368 - mse: 0.0032 - val_loss: 0.2156 - val_mae: 0.2156 - val_mse: 0.1020\n",
      "Epoch 43/100\n",
      "6981/6981 [==============================] - 5s 675us/step - loss: 0.0367 - mae: 0.0367 - mse: 0.0032 - val_loss: 0.2027 - val_mae: 0.2027 - val_mse: 0.0883\n",
      "Epoch 44/100\n",
      "6981/6981 [==============================] - 5s 670us/step - loss: 0.0368 - mae: 0.0368 - mse: 0.0032 - val_loss: 0.2102 - val_mae: 0.2102 - val_mse: 0.0998\n",
      "Epoch 45/100\n",
      "6981/6981 [==============================] - 5s 677us/step - loss: 0.0368 - mae: 0.0368 - mse: 0.0032 - val_loss: 0.1970 - val_mae: 0.1970 - val_mse: 0.0925\n",
      "Epoch 46/100\n",
      "6981/6981 [==============================] - 5s 665us/step - loss: 0.0367 - mae: 0.0367 - mse: 0.0032 - val_loss: 0.2106 - val_mae: 0.2106 - val_mse: 0.0963\n",
      "Epoch 47/100\n",
      "6981/6981 [==============================] - 5s 672us/step - loss: 0.0367 - mae: 0.0367 - mse: 0.0032 - val_loss: 0.1926 - val_mae: 0.1926 - val_mse: 0.0843\n",
      "Epoch 48/100\n",
      "6981/6981 [==============================] - 5s 692us/step - loss: 0.0367 - mae: 0.0367 - mse: 0.0032 - val_loss: 0.2160 - val_mae: 0.2160 - val_mse: 0.1028\n",
      "Epoch 49/100\n",
      "6981/6981 [==============================] - 5s 710us/step - loss: 0.0368 - mae: 0.0368 - mse: 0.0032 - val_loss: 0.2079 - val_mae: 0.2079 - val_mse: 0.0963\n",
      "Epoch 50/100\n",
      "6981/6981 [==============================] - 5s 686us/step - loss: 0.0368 - mae: 0.0368 - mse: 0.0032 - val_loss: 0.2089 - val_mae: 0.2089 - val_mse: 0.0965\n",
      "Epoch 51/100\n",
      "6981/6981 [==============================] - 5s 647us/step - loss: 0.0368 - mae: 0.0368 - mse: 0.0032 - val_loss: 0.2173 - val_mae: 0.2173 - val_mse: 0.1072\n",
      "Epoch 52/100\n",
      "6981/6981 [==============================] - 5s 670us/step - loss: 0.0367 - mae: 0.0367 - mse: 0.0032 - val_loss: 0.2095 - val_mae: 0.2095 - val_mse: 0.0986\n",
      "Epoch 53/100\n",
      "6981/6981 [==============================] - 5s 656us/step - loss: 0.0368 - mae: 0.0368 - mse: 0.0032 - val_loss: 0.2097 - val_mae: 0.2097 - val_mse: 0.0940\n",
      "Epoch 54/100\n",
      "6981/6981 [==============================] - 5s 661us/step - loss: 0.0367 - mae: 0.0367 - mse: 0.0032 - val_loss: 0.2084 - val_mae: 0.2084 - val_mse: 0.0982\n",
      "Epoch 55/100\n",
      "6981/6981 [==============================] - 5s 697us/step - loss: 0.0367 - mae: 0.0367 - mse: 0.0032 - val_loss: 0.2157 - val_mae: 0.2157 - val_mse: 0.1029\n",
      "Epoch 56/100\n",
      "6981/6981 [==============================] - 5s 670us/step - loss: 0.0367 - mae: 0.0367 - mse: 0.0032 - val_loss: 0.2126 - val_mae: 0.2126 - val_mse: 0.1058\n",
      "Epoch 57/100\n",
      "6981/6981 [==============================] - 5s 658us/step - loss: 0.0368 - mae: 0.0368 - mse: 0.0032 - val_loss: 0.1974 - val_mae: 0.1974 - val_mse: 0.0880\n",
      "Epoch 58/100\n",
      "6981/6981 [==============================] - 5s 677us/step - loss: 0.0368 - mae: 0.0368 - mse: 0.0032 - val_loss: 0.2070 - val_mae: 0.2070 - val_mse: 0.0924\n",
      "Epoch 59/100\n",
      "6981/6981 [==============================] - 5s 776us/step - loss: 0.0367 - mae: 0.0367 - mse: 0.0032 - val_loss: 0.2051 - val_mae: 0.2051 - val_mse: 0.0914\n",
      "Epoch 60/100\n",
      "6981/6981 [==============================] - 5s 778us/step - loss: 0.0368 - mae: 0.0368 - mse: 0.0032 - val_loss: 0.1958 - val_mae: 0.1958 - val_mse: 0.0913\n",
      "Epoch 61/100\n",
      "6981/6981 [==============================] - 5s 666us/step - loss: 0.0367 - mae: 0.0367 - mse: 0.0032 - val_loss: 0.2157 - val_mae: 0.2157 - val_mse: 0.1036\n",
      "Epoch 62/100\n",
      "6981/6981 [==============================] - 5s 699us/step - loss: 0.0367 - mae: 0.0367 - mse: 0.0032 - val_loss: 0.2052 - val_mae: 0.2052 - val_mse: 0.0914\n",
      "Epoch 63/100\n",
      "6981/6981 [==============================] - 5s 668us/step - loss: 0.0367 - mae: 0.0367 - mse: 0.0032 - val_loss: 0.2048 - val_mae: 0.2048 - val_mse: 0.0959\n",
      "Epoch 64/100\n",
      "6981/6981 [==============================] - 5s 700us/step - loss: 0.0367 - mae: 0.0367 - mse: 0.0032 - val_loss: 0.2109 - val_mae: 0.2109 - val_mse: 0.0925\n",
      "Epoch 65/100\n",
      "6981/6981 [==============================] - 5s 713us/step - loss: 0.0367 - mae: 0.0367 - mse: 0.0032 - val_loss: 0.2173 - val_mae: 0.2173 - val_mse: 0.1024\n",
      "Epoch 66/100\n",
      "6981/6981 [==============================] - 5s 715us/step - loss: 0.0367 - mae: 0.0367 - mse: 0.0032 - val_loss: 0.2044 - val_mae: 0.2044 - val_mse: 0.0945\n",
      "Epoch 67/100\n",
      "6981/6981 [==============================] - 5s 700us/step - loss: 0.0367 - mae: 0.0367 - mse: 0.0032 - val_loss: 0.2195 - val_mae: 0.2195 - val_mse: 0.0992\n",
      "Epoch 68/100\n",
      "6981/6981 [==============================] - 5s 702us/step - loss: 0.0367 - mae: 0.0367 - mse: 0.0032 - val_loss: 0.1889 - val_mae: 0.1889 - val_mse: 0.0854\n",
      "Epoch 69/100\n",
      "6981/6981 [==============================] - 5s 698us/step - loss: 0.0367 - mae: 0.0367 - mse: 0.0032 - val_loss: 0.1917 - val_mae: 0.1917 - val_mse: 0.0860\n",
      "Epoch 70/100\n",
      "6981/6981 [==============================] - 5s 704us/step - loss: 0.0367 - mae: 0.0367 - mse: 0.0032 - val_loss: 0.2159 - val_mae: 0.2159 - val_mse: 0.1002\n",
      "Epoch 71/100\n",
      "6981/6981 [==============================] - 5s 714us/step - loss: 0.0367 - mae: 0.0367 - mse: 0.0032 - val_loss: 0.2129 - val_mae: 0.2129 - val_mse: 0.0971\n",
      "Epoch 72/100\n",
      "6981/6981 [==============================] - 5s 743us/step - loss: 0.0367 - mae: 0.0367 - mse: 0.0032 - val_loss: 0.2107 - val_mae: 0.2107 - val_mse: 0.0984\n",
      "Epoch 73/100\n",
      "6981/6981 [==============================] - 5s 720us/step - loss: 0.0366 - mae: 0.0366 - mse: 0.0032 - val_loss: 0.2136 - val_mae: 0.2136 - val_mse: 0.0983\n",
      "Epoch 74/100\n",
      "6981/6981 [==============================] - 5s 705us/step - loss: 0.0366 - mae: 0.0366 - mse: 0.0031 - val_loss: 0.1967 - val_mae: 0.1967 - val_mse: 0.0851\n",
      "Epoch 75/100\n",
      "6981/6981 [==============================] - 5s 709us/step - loss: 0.0367 - mae: 0.0367 - mse: 0.0032 - val_loss: 0.2134 - val_mae: 0.2134 - val_mse: 0.1000\n",
      "Epoch 76/100\n",
      "6981/6981 [==============================] - 5s 711us/step - loss: 0.0367 - mae: 0.0367 - mse: 0.0032 - val_loss: 0.2036 - val_mae: 0.2036 - val_mse: 0.0953\n",
      "Epoch 77/100\n",
      "6981/6981 [==============================] - 5s 698us/step - loss: 0.0368 - mae: 0.0368 - mse: 0.0032 - val_loss: 0.2090 - val_mae: 0.2090 - val_mse: 0.0961\n",
      "Epoch 78/100\n",
      "6981/6981 [==============================] - 5s 717us/step - loss: 0.0367 - mae: 0.0367 - mse: 0.0032 - val_loss: 0.2166 - val_mae: 0.2166 - val_mse: 0.1028\n",
      "Epoch 79/100\n",
      "6981/6981 [==============================] - 5s 703us/step - loss: 0.0367 - mae: 0.0367 - mse: 0.0032 - val_loss: 0.2252 - val_mae: 0.2252 - val_mse: 0.1045\n",
      "Epoch 80/100\n",
      "6981/6981 [==============================] - 5s 720us/step - loss: 0.0367 - mae: 0.0367 - mse: 0.0032 - val_loss: 0.2054 - val_mae: 0.2054 - val_mse: 0.0918\n",
      "Epoch 81/100\n",
      "6981/6981 [==============================] - 5s 703us/step - loss: 0.0366 - mae: 0.0366 - mse: 0.0032 - val_loss: 0.2028 - val_mae: 0.2028 - val_mse: 0.0916\n",
      "Epoch 82/100\n",
      "6981/6981 [==============================] - 5s 701us/step - loss: 0.0367 - mae: 0.0367 - mse: 0.0032 - val_loss: 0.2205 - val_mae: 0.2205 - val_mse: 0.1021\n",
      "Epoch 83/100\n",
      "6981/6981 [==============================] - 5s 734us/step - loss: 0.0368 - mae: 0.0368 - mse: 0.0032 - val_loss: 0.2066 - val_mae: 0.2066 - val_mse: 0.0974\n",
      "Epoch 84/100\n",
      "6981/6981 [==============================] - 5s 765us/step - loss: 0.0367 - mae: 0.0367 - mse: 0.0032 - val_loss: 0.1947 - val_mae: 0.1947 - val_mse: 0.0873\n",
      "Epoch 85/100\n",
      "6981/6981 [==============================] - 5s 768us/step - loss: 0.0368 - mae: 0.0368 - mse: 0.0032 - val_loss: 0.2161 - val_mae: 0.2161 - val_mse: 0.1044\n",
      "Epoch 86/100\n",
      "6981/6981 [==============================] - 5s 780us/step - loss: 0.0369 - mae: 0.0369 - mse: 0.0032 - val_loss: 0.2092 - val_mae: 0.2092 - val_mse: 0.0948\n",
      "Epoch 87/100\n",
      "6981/6981 [==============================] - 5s 746us/step - loss: 0.0367 - mae: 0.0367 - mse: 0.0032 - val_loss: 0.2006 - val_mae: 0.2006 - val_mse: 0.0916\n",
      "Epoch 88/100\n",
      "6981/6981 [==============================] - 5s 722us/step - loss: 0.0367 - mae: 0.0367 - mse: 0.0032 - val_loss: 0.2155 - val_mae: 0.2155 - val_mse: 0.1084\n",
      "Epoch 89/100\n",
      "6981/6981 [==============================] - 5s 735us/step - loss: 0.0367 - mae: 0.0367 - mse: 0.0032 - val_loss: 0.2030 - val_mae: 0.2030 - val_mse: 0.0918\n",
      "Epoch 90/100\n",
      "6981/6981 [==============================] - 5s 759us/step - loss: 0.0367 - mae: 0.0367 - mse: 0.0032 - val_loss: 0.1984 - val_mae: 0.1984 - val_mse: 0.0935\n",
      "Epoch 91/100\n",
      "6981/6981 [==============================] - 5s 731us/step - loss: 0.0367 - mae: 0.0367 - mse: 0.0032 - val_loss: 0.2050 - val_mae: 0.2050 - val_mse: 0.0890\n",
      "Epoch 92/100\n",
      "6981/6981 [==============================] - 5s 738us/step - loss: 0.0368 - mae: 0.0368 - mse: 0.0032 - val_loss: 0.1936 - val_mae: 0.1936 - val_mse: 0.0864\n",
      "Epoch 93/100\n",
      "6981/6981 [==============================] - 5s 730us/step - loss: 0.0368 - mae: 0.0368 - mse: 0.0032 - val_loss: 0.2046 - val_mae: 0.2046 - val_mse: 0.0940\n",
      "Epoch 94/100\n",
      "6981/6981 [==============================] - 5s 735us/step - loss: 0.0368 - mae: 0.0368 - mse: 0.0032 - val_loss: 0.2096 - val_mae: 0.2096 - val_mse: 0.0992\n",
      "Epoch 95/100\n",
      "6981/6981 [==============================] - 5s 734us/step - loss: 0.0367 - mae: 0.0367 - mse: 0.0032 - val_loss: 0.2005 - val_mae: 0.2005 - val_mse: 0.0922\n",
      "Epoch 96/100\n",
      "6981/6981 [==============================] - 5s 729us/step - loss: 0.0367 - mae: 0.0367 - mse: 0.0032 - val_loss: 0.1940 - val_mae: 0.1940 - val_mse: 0.0878\n",
      "Epoch 97/100\n",
      "6981/6981 [==============================] - 5s 757us/step - loss: 0.0367 - mae: 0.0367 - mse: 0.0032 - val_loss: 0.2044 - val_mae: 0.2044 - val_mse: 0.0950\n",
      "Epoch 98/100\n",
      "6981/6981 [==============================] - 5s 741us/step - loss: 0.0367 - mae: 0.0367 - mse: 0.0032 - val_loss: 0.2160 - val_mae: 0.2160 - val_mse: 0.1014\n",
      "Epoch 99/100\n",
      "6981/6981 [==============================] - 5s 751us/step - loss: 0.0367 - mae: 0.0367 - mse: 0.0032 - val_loss: 0.1935 - val_mae: 0.1935 - val_mse: 0.0872\n",
      "Epoch 100/100\n",
      "6981/6981 [==============================] - 5s 739us/step - loss: 0.0367 - mae: 0.0367 - mse: 0.0032 - val_loss: 0.2043 - val_mae: 0.2043 - val_mse: 0.0930\n"
     ]
    },
    {
     "data": {
      "text/html": [
       "<style>#sk-container-id-14 {color: black;}#sk-container-id-14 pre{padding: 0;}#sk-container-id-14 div.sk-toggleable {background-color: white;}#sk-container-id-14 label.sk-toggleable__label {cursor: pointer;display: block;width: 100%;margin-bottom: 0;padding: 0.3em;box-sizing: border-box;text-align: center;}#sk-container-id-14 label.sk-toggleable__label-arrow:before {content: \"▸\";float: left;margin-right: 0.25em;color: #696969;}#sk-container-id-14 label.sk-toggleable__label-arrow:hover:before {color: black;}#sk-container-id-14 div.sk-estimator:hover label.sk-toggleable__label-arrow:before {color: black;}#sk-container-id-14 div.sk-toggleable__content {max-height: 0;max-width: 0;overflow: hidden;text-align: left;background-color: #f0f8ff;}#sk-container-id-14 div.sk-toggleable__content pre {margin: 0.2em;color: black;border-radius: 0.25em;background-color: #f0f8ff;}#sk-container-id-14 input.sk-toggleable__control:checked~div.sk-toggleable__content {max-height: 200px;max-width: 100%;overflow: auto;}#sk-container-id-14 input.sk-toggleable__control:checked~label.sk-toggleable__label-arrow:before {content: \"▾\";}#sk-container-id-14 div.sk-estimator input.sk-toggleable__control:checked~label.sk-toggleable__label {background-color: #d4ebff;}#sk-container-id-14 div.sk-label input.sk-toggleable__control:checked~label.sk-toggleable__label {background-color: #d4ebff;}#sk-container-id-14 input.sk-hidden--visually {border: 0;clip: rect(1px 1px 1px 1px);clip: rect(1px, 1px, 1px, 1px);height: 1px;margin: -1px;overflow: hidden;padding: 0;position: absolute;width: 1px;}#sk-container-id-14 div.sk-estimator {font-family: monospace;background-color: #f0f8ff;border: 1px dotted black;border-radius: 0.25em;box-sizing: border-box;margin-bottom: 0.5em;}#sk-container-id-14 div.sk-estimator:hover {background-color: #d4ebff;}#sk-container-id-14 div.sk-parallel-item::after {content: \"\";width: 100%;border-bottom: 1px solid gray;flex-grow: 1;}#sk-container-id-14 div.sk-label:hover label.sk-toggleable__label {background-color: #d4ebff;}#sk-container-id-14 div.sk-serial::before {content: \"\";position: absolute;border-left: 1px solid gray;box-sizing: border-box;top: 0;bottom: 0;left: 50%;z-index: 0;}#sk-container-id-14 div.sk-serial {display: flex;flex-direction: column;align-items: center;background-color: white;padding-right: 0.2em;padding-left: 0.2em;position: relative;}#sk-container-id-14 div.sk-item {position: relative;z-index: 1;}#sk-container-id-14 div.sk-parallel {display: flex;align-items: stretch;justify-content: center;background-color: white;position: relative;}#sk-container-id-14 div.sk-item::before, #sk-container-id-14 div.sk-parallel-item::before {content: \"\";position: absolute;border-left: 1px solid gray;box-sizing: border-box;top: 0;bottom: 0;left: 50%;z-index: -1;}#sk-container-id-14 div.sk-parallel-item {display: flex;flex-direction: column;z-index: 1;position: relative;background-color: white;}#sk-container-id-14 div.sk-parallel-item:first-child::after {align-self: flex-end;width: 50%;}#sk-container-id-14 div.sk-parallel-item:last-child::after {align-self: flex-start;width: 50%;}#sk-container-id-14 div.sk-parallel-item:only-child::after {width: 0;}#sk-container-id-14 div.sk-dashed-wrapped {border: 1px dashed gray;margin: 0 0.4em 0.5em 0.4em;box-sizing: border-box;padding-bottom: 0.4em;background-color: white;}#sk-container-id-14 div.sk-label label {font-family: monospace;font-weight: bold;display: inline-block;line-height: 1.2em;}#sk-container-id-14 div.sk-label-container {text-align: center;}#sk-container-id-14 div.sk-container {/* jupyter's `normalize.less` sets `[hidden] { display: none; }` but bootstrap.min.css set `[hidden] { display: none !important; }` so we also need the `!important` here to be able to override the default hidden behavior on the sphinx rendered scikit-learn.org. See: https://github.com/scikit-learn/scikit-learn/issues/21755 */display: inline-block !important;position: relative;}#sk-container-id-14 div.sk-text-repr-fallback {display: none;}</style><div id=\"sk-container-id-14\" class=\"sk-top-container\"><div class=\"sk-text-repr-fallback\"><pre>KerasRegressor(\n",
       "\tmodel=&lt;function build_model at 0x000001AA0F1168C0&gt;\n",
       "\tbuild_fn=None\n",
       "\twarm_start=False\n",
       "\trandom_state=None\n",
       "\toptimizer=Adagrad\n",
       "\tloss=None\n",
       "\tmetrics=None\n",
       "\tbatch_size=32\n",
       "\tvalidation_batch_size=None\n",
       "\tverbose=1\n",
       "\tcallbacks=None\n",
       "\tvalidation_split=0.1\n",
       "\tshuffle=True\n",
       "\trun_eagerly=False\n",
       "\tepochs=20\n",
       ")</pre><b>In a Jupyter environment, please rerun this cell to show the HTML representation or trust the notebook. <br />On GitHub, the HTML representation is unable to render, please try loading this page with nbviewer.org.</b></div><div class=\"sk-container\" hidden><div class=\"sk-item\"><div class=\"sk-estimator sk-toggleable\"><input class=\"sk-toggleable__control sk-hidden--visually\" id=\"sk-estimator-id-28\" type=\"checkbox\" checked><label for=\"sk-estimator-id-28\" class=\"sk-toggleable__label sk-toggleable__label-arrow\">KerasRegressor</label><div class=\"sk-toggleable__content\"><pre>KerasRegressor(\n",
       "\tmodel=&lt;function build_model at 0x000001AA0F1168C0&gt;\n",
       "\tbuild_fn=None\n",
       "\twarm_start=False\n",
       "\trandom_state=None\n",
       "\toptimizer=Adagrad\n",
       "\tloss=None\n",
       "\tmetrics=None\n",
       "\tbatch_size=32\n",
       "\tvalidation_batch_size=None\n",
       "\tverbose=1\n",
       "\tcallbacks=None\n",
       "\tvalidation_split=0.1\n",
       "\tshuffle=True\n",
       "\trun_eagerly=False\n",
       "\tepochs=20\n",
       ")</pre></div></div></div></div></div>"
      ],
      "text/plain": [
       "KerasRegressor(\n",
       "\tmodel=<function build_model at 0x000001AA0F1168C0>\n",
       "\tbuild_fn=None\n",
       "\twarm_start=False\n",
       "\trandom_state=None\n",
       "\toptimizer=Adagrad\n",
       "\tloss=None\n",
       "\tmetrics=None\n",
       "\tbatch_size=32\n",
       "\tvalidation_batch_size=None\n",
       "\tverbose=1\n",
       "\tcallbacks=None\n",
       "\tvalidation_split=0.1\n",
       "\tshuffle=True\n",
       "\trun_eagerly=False\n",
       "\tepochs=20\n",
       ")"
      ]
     },
     "execution_count": 576,
     "metadata": {},
     "output_type": "execute_result"
    }
   ],
   "source": [
    "y_test = scaler_y.transform(y_test)\n",
    "best_mlp_model.fit(X_train, y_train, epochs = 100, validation_data = (X_test, y_test), verbose = 1)"
   ]
  },
  {
   "cell_type": "code",
   "execution_count": 577,
   "metadata": {},
   "outputs": [
    {
     "data": {
      "image/png": "[encoded data removed]",
      "text/plain": [
       "<Figure size 640x480 with 1 Axes>"
      ]
     },
     "metadata": {},
     "output_type": "display_data"
    }
   ],
   "source": [
    "plt.plot(best_mlp_model.history_['loss'])\n",
    "plt.plot(best_mlp_model.history_['val_loss']) \n",
    "plt.title('model performance')\n",
    "plt.ylabel('loss values')\n",
    "plt.xlabel('epoch')\n",
    "plt.legend(['train', 'val'], loc='upper left')\n",
    "plt.show()"
   ]
  },
  {
   "cell_type": "code",
   "execution_count": 578,
   "metadata": {},
   "outputs": [
    {
     "name": "stdout",
     "output_type": "stream",
     "text": [
      "2327/2327 [==============================] - 1s 405us/step\n"
     ]
    }
   ],
   "source": [
    "prediction = best_mlp_model.predict(X_test)"
   ]
  },
  {
   "cell_type": "code",
   "execution_count": 579,
   "metadata": {},
   "outputs": [],
   "source": [
    "prediction = scaler_y.inverse_transform(prediction)\n",
    "y_test = scaler_y.inverse_transform(y_test)"
   ]
  },
  {
   "cell_type": "code",
   "execution_count": 580,
   "metadata": {},
   "outputs": [
    {
     "name": "stdout",
     "output_type": "stream",
     "text": [
      "Mean Absolute Error: 19990.730048572914\n",
      "\n",
      "Mean Squared Error: 890354340.6859069\n",
      "\n",
      "Root Mean Squared Error: 29838.805952750638\n"
     ]
    }
   ],
   "source": [
    "printMetrics(prediction)"
   ]
  },
  {
   "cell_type": "code",
   "execution_count": 581,
   "metadata": {},
   "outputs": [
    {
     "data": {
      "text/plain": [
       "array([[ 5571.403],\n",
       "       [ 5571.403],\n",
       "       [ 5571.403],\n",
       "       ...,\n",
       "       [45021.477],\n",
       "       [ 5571.403],\n",
       "       [26521.443]], dtype=float32)"
      ]
     },
     "execution_count": 581,
     "metadata": {},
     "output_type": "execute_result"
    }
   ],
   "source": [
    "prediction"
   ]
  },
  {
   "cell_type": "code",
   "execution_count": 582,
   "metadata": {},
   "outputs": [
    {
     "data": {
      "text/plain": [
       "array([[0.04664494],\n",
       "       [0.04937313],\n",
       "       [0.10629732],\n",
       "       ...,\n",
       "       [0.43192292],\n",
       "       [0.06458765],\n",
       "       [0.29138525]])"
      ]
     },
     "execution_count": 582,
     "metadata": {},
     "output_type": "execute_result"
    }
   ],
   "source": [
    "y_test"
   ]
  },
  {
   "cell_type": "code",
   "execution_count": 583,
   "metadata": {},
   "outputs": [
    {
     "data": {
      "image/png": "[encoded data removed]",
      "text/plain": [
       "<Figure size 640x480 with 1 Axes>"
      ]
     },
     "metadata": {},
     "output_type": "display_data"
    }
   ],
   "source": [
    "plotPrediction(prediction)"
   ]
  }
 ],
 "metadata": {
  "kernelspec": {
   "display_name": "daa",
   "language": "python",
   "name": "python3"
  },
  "language_info": {
   "codemirror_mode": {
    "name": "ipython",
    "version": 3
   },
   "file_extension": ".py",
   "mimetype": "text/x-python",
   "name": "python",
   "nbconvert_exporter": "python",
   "pygments_lexer": "ipython3",
   "version": "3.10.13"
  }
 },
 "nbformat": 4,
 "nbformat_minor": 2
}
